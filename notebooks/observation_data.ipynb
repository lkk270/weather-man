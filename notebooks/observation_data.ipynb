{
 "cells": [
  {
   "cell_type": "code",
   "execution_count": 1,
   "id": "2e11ffcb",
   "metadata": {},
   "outputs": [],
   "source": [
    "# First cell - Setup\n",
    "import sys\n",
    "from pathlib import Path\n",
    "import nest_asyncio\n",
    "import asyncio\n",
    "\n",
    "# Enable async support\n",
    "nest_asyncio.apply()\n",
    "\n",
    "# Add the project root directory to Python path\n",
    "project_root = str(Path().absolute().parent)\n",
    "if project_root not in sys.path:\n",
    "    sys.path.append(project_root)"
   ]
  },
  {
   "cell_type": "code",
   "execution_count": 2,
   "id": "44cbae93",
   "metadata": {},
   "outputs": [
    {
     "name": "stderr",
     "output_type": "stream",
     "text": [
      "/Users/leekorff-korn/Code/weather-man/venv/lib/python3.9/site-packages/urllib3/__init__.py:35: NotOpenSSLWarning: urllib3 v2 only supports OpenSSL 1.1.1+, currently the 'ssl' module is compiled with 'LibreSSL 2.8.3'. See: https://github.com/urllib3/urllib3/issues/3020\n",
      "  warnings.warn(\n"
     ]
    },
    {
     "name": "stdout",
     "output_type": "stream",
     "text": [
      "Raw API Response:\n",
      "Found 80 observations\n",
      "\n",
      "Sample data for first observation:\n",
      "Time: 2024-12-02T22:51:00-0500\n",
      "Temperature: 33.08°F\n",
      "Humidity: 53.29%\n",
      "Wind Speed: 5.75 mph\n",
      "Weather: clear\n",
      "---\n"
     ]
    }
   ],
   "source": [
    "# Second cell - Fetch data\n",
    "from providers.nws.observation import fetch_observation_data\n",
    "\n",
    "# Test fetching observation data\n",
    "location_id = \"NYC\"  # Using location ID from settings\n",
    "data = fetch_observation_data(location_id)\n",
    "\n",
    "# Print some basic info about the response\n",
    "print(\"Raw API Response:\")\n",
    "if 'OBSERVATIONS' in data:\n",
    "    obs = data['OBSERVATIONS']\n",
    "    print(f\"Found {len(obs.get('date_time', []))} observations\")\n",
    "    print(\"\\nSample data for first observation:\")\n",
    "    print(f\"Time: {obs['date_time'][0]}\")\n",
    "    print(f\"Temperature: {obs['air_temp_set_1'][0]}°F\")\n",
    "    print(f\"Humidity: {obs['relative_humidity_set_1'][0]}%\")\n",
    "    print(f\"Wind Speed: {obs['wind_speed_set_1'][0]} mph\")\n",
    "    print(f\"Weather: {obs['weather_summary_set_1d'][0]}\")\n",
    "else:\n",
    "    print(\"No observations found in data\")\n",
    "print(\"---\")"
   ]
  },
  {
   "cell_type": "code",
   "execution_count": null,
   "id": "4812f368",
   "metadata": {},
   "outputs": [],
   "source": [
    "# Third cell - Clean and load data\n",
    "from providers.nws.observation import clean_observation_data, load_observation_data\n",
    "\n",
    "try:\n",
    "    print(\"About to start cleaning...\")\n",
    "    cleaned_data = clean_observation_data(data, location_id=location_id)\n",
    "    print(f\"Cleaning complete. Got {len(cleaned_data)} records\")\n",
    "    \n",
    "    print(\"Starting database load...\")\n",
    "    records_added = await load_observation_data(cleaned_data)\n",
    "    print(f\"Successfully loaded {records_added} new observation records\")\n",
    "except Exception as e:\n",
    "    print(f\"Error occurred: {str(e)}\")\n",
    "    import traceback\n",
    "    traceback.print_exc()"
   ]
  },
  {
   "cell_type": "code",
   "execution_count": null,
   "id": "48eb2db6",
   "metadata": {},
   "outputs": [],
   "source": []
  },
  {
   "cell_type": "code",
   "execution_count": null,
   "id": "1ef3a88a",
   "metadata": {},
   "outputs": [],
   "source": []
  }
 ],
 "metadata": {
  "kernelspec": {
   "display_name": "Python 3 (ipykernel)",
   "language": "python",
   "name": "python3"
  },
  "language_info": {
   "codemirror_mode": {
    "name": "ipython",
    "version": 3
   },
   "file_extension": ".py",
   "mimetype": "text/x-python",
   "name": "python",
   "nbconvert_exporter": "python",
   "pygments_lexer": "ipython3",
   "version": "3.9.6"
  }
 },
 "nbformat": 4,
 "nbformat_minor": 5
}
