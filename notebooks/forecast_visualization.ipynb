{
 "cells": [
  {
   "cell_type": "code",
   "execution_count": 1,
   "metadata": {},
   "outputs": [
    {
     "name": "stdout",
     "output_type": "stream",
     "text": [
      "Added /Users/leekorff-korn/Code/weather-man to Python path\n",
      "Setup complete!\n"
     ]
    }
   ],
   "source": [
    "import sys\n",
    "from pathlib import Path\n",
    "import nest_asyncio\n",
    "import asyncio\n",
    "import pandas as pd\n",
    "import matplotlib.pyplot as plt\n",
    "from datetime import datetime, timedelta, timezone  # Added timezone here\n",
    "\n",
    "# Enable async support in Jupyter\n",
    "nest_asyncio.apply()\n",
    "\n",
    "# Add the project root directory to Python path\n",
    "project_root = str(Path().absolute().parent)\n",
    "if project_root not in sys.path:\n",
    "    sys.path.append(project_root)\n",
    "    print(f\"Added {project_root} to Python path\")\n",
    "\n",
    "# Now we can safely import our local modules\n",
    "from sqlalchemy import select, func\n",
    "from database.session import get_db_session\n",
    "from database.models import WeatherForecast, WeatherObservation\n",
    "\n",
    "print(\"Setup complete!\")"
   ]
  },
  {
   "cell_type": "code",
   "execution_count": 2,
   "metadata": {},
   "outputs": [
    {
     "name": "stdout",
     "output_type": "stream",
     "text": [
      "DEBUG: Testing database connection without date filters...\n",
      "DEBUG: Found 624 daytime forecasts for NYC_CASTLE_2\n",
      "DEBUG: Found 44 matching observations for NYC_CASTLE_2\n"
     ]
    }
   ],
   "source": [
    "async def load_data(start_date=None, end_date=None, location=\"NYC_CASTLE_2\"):\n",
    "    \"\"\"Load forecasts and observations from database.\"\"\"\n",
    "    async with get_db_session() as session:\n",
    "        # Base query for forecasts with location and daytime filter\n",
    "        forecast_query = select(WeatherForecast).where(\n",
    "            WeatherForecast.location == location,\n",
    "            WeatherForecast.is_daytime == True  # Filter for daytime forecasts\n",
    "        )\n",
    "        if start_date:\n",
    "            forecast_query = forecast_query.where(WeatherForecast.forecast_time >= start_date)\n",
    "        if end_date:\n",
    "            forecast_query = forecast_query.where(WeatherForecast.forecast_time <= end_date)\n",
    "        \n",
    "        result = await session.execute(forecast_query)\n",
    "        forecasts = result.scalars().all()\n",
    "        print(f\"DEBUG: Found {len(forecasts)} daytime forecasts for {location}\")\n",
    "        \n",
    "        if len(forecasts) > 0:\n",
    "            forecast_times = {f.forecast_time for f in forecasts}\n",
    "            min_time = min(forecast_times)\n",
    "            max_time = max(forecast_times) + timedelta(hours=1)\n",
    "            \n",
    "            # For observations, we'll match the times from our daytime forecasts\n",
    "            obs_query = select(WeatherObservation).where(\n",
    "                WeatherObservation.location == location,\n",
    "                WeatherObservation.observed_time >= min_time,\n",
    "                WeatherObservation.observed_time <= max_time,\n",
    "                # We don't need a daytime filter here since we're matching forecast times\n",
    "            )\n",
    "            result = await session.execute(obs_query)\n",
    "            observations = result.scalars().all()\n",
    "            print(f\"DEBUG: Found {len(observations)} matching observations for {location}\")\n",
    "        else:\n",
    "            observations = []\n",
    "            \n",
    "        return forecasts, observations\n",
    "\n",
    "# For the visualization, replace the matplotlib code in analyze_forecast_accuracy with:\n",
    "\n",
    "# Try loading without date filters first\n",
    "print(\"DEBUG: Testing database connection without date filters...\")\n",
    "forecasts, observations = await load_data()\n",
    "\n",
    "if len(forecasts) == 0:\n",
    "    print(\"\\nDEBUG: No data found. Possible issues:\")\n",
    "    print(\"1. Database connection issues\")\n",
    "    print(\"2. Empty tables\")\n",
    "    print(\"3. Timezone mismatch in queries\")\n",
    "    print(\"\\nTrying with explicit date range...\")\n",
    "    \n",
    "    # Now try with date filters\n",
    "    start_date = datetime(2024, 1, 1, tzinfo=timezone.utc)\n",
    "    end_date = datetime(2024, 2, 1, tzinfo=timezone.utc)\n",
    "    forecasts, observations = await load_data(start_date, end_date)"
   ]
  },
  {
   "cell_type": "code",
   "execution_count": 3,
   "metadata": {},
   "outputs": [
    {
     "name": "stdout",
     "output_type": "stream",
     "text": [
      "DEBUG: Loading forecasts created during daytime hours...\n",
      "DEBUG: Found 552 forecasts created within 12 hours of daily highs for NYC_CASTLE_2\n",
      "DEBUG: Analyzed 3 days with high temperatures\n"
     ]
    }
   ],
   "source": [
    "async def load_daytime_forecast_data(start_date=None, end_date=None, location=\"NYC_CASTLE_2\"):\n",
    "    \"\"\"\n",
    "    Load forecasts created during daytime hours and their corresponding observations.\n",
    "    Specifically looks at forecasts created within 12 hours before the day's high temperature.\n",
    "    \"\"\"\n",
    "    async with get_db_session() as session:\n",
    "        # First, get all observations to find daily highs\n",
    "        obs_query = select(WeatherObservation).where(\n",
    "            WeatherObservation.location == location\n",
    "        )\n",
    "        if start_date:\n",
    "            obs_query = obs_query.where(WeatherObservation.observed_time >= start_date)\n",
    "        if end_date:\n",
    "            obs_query = obs_query.where(WeatherObservation.observed_time <= end_date)\n",
    "        \n",
    "        result = await session.execute(obs_query)\n",
    "        observations = result.scalars().all()\n",
    "        \n",
    "        if not observations:\n",
    "            print(\"No observations found\")\n",
    "            return [], []\n",
    "        \n",
    "        # Find daily high temperatures and their times\n",
    "        daily_highs = {}  # {date: (max_temp, observation_time)}\n",
    "        for obs in observations:\n",
    "            date = obs.observed_time.date()\n",
    "            if date not in daily_highs or obs.temperature > daily_highs[date][0]:\n",
    "                daily_highs[date] = (obs.temperature, obs.observed_time)\n",
    "            elif obs.temperature == daily_highs[date][0] and obs.observed_time > daily_highs[date][1]:\n",
    "                # If same temperature but later in the day, use the later time\n",
    "                daily_highs[date] = (obs.temperature, obs.observed_time)\n",
    "        \n",
    "        # Now get forecasts created within 12 hours before each daily high\n",
    "        relevant_forecasts = []\n",
    "        for date, (max_temp, high_time) in daily_highs.items():\n",
    "            # Calculate the start of the window (12 hours before the high)\n",
    "            window_start = high_time - timedelta(hours=12)\n",
    "            \n",
    "            # Get forecasts created in this window\n",
    "            forecast_query = select(WeatherForecast).where(\n",
    "                WeatherForecast.location == location,\n",
    "                WeatherForecast.created_at >= window_start,\n",
    "                WeatherForecast.created_at <= high_time\n",
    "            )\n",
    "            \n",
    "            result = await session.execute(forecast_query)\n",
    "            day_forecasts = result.scalars().all()\n",
    "            relevant_forecasts.extend(day_forecasts)\n",
    "        \n",
    "        print(f\"DEBUG: Found {len(relevant_forecasts)} forecasts created within 12 hours \"\n",
    "              f\"of daily highs for {location}\")\n",
    "        print(f\"DEBUG: Analyzed {len(daily_highs)} days with high temperatures\")\n",
    "        \n",
    "        # Return both the filtered forecasts and all observations\n",
    "        # (we need all observations for context)\n",
    "        return relevant_forecasts, observations\n",
    "\n",
    "# Example usage:\n",
    "print(\"DEBUG: Loading forecasts created during daytime hours...\")\n",
    "forecasts, observations = await load_daytime_forecast_data()\n",
    "\n",
    "if len(forecasts) == 0:\n",
    "    print(\"\\nDEBUG: No data found. Possible issues:\")\n",
    "    print(\"1. Database connection issues\")\n",
    "    print(\"2. Empty tables\")\n",
    "    print(\"3. No forecasts within time windows\")\n",
    "    print(\"\\nTrying with explicit date range...\")\n",
    "    \n",
    "    # Try with date filters\n",
    "    start_date = datetime(2024, 1, 1, tzinfo=timezone.utc)\n",
    "    end_date = datetime(2024, 2, 1, tzinfo=timezone.utc)\n",
    "    forecasts, observations = await load_daytime_forecast_data(start_date, end_date)"
   ]
  },
  {
   "cell_type": "markdown",
   "metadata": {},
   "source": []
  },
  {
   "cell_type": "code",
   "execution_count": null,
   "metadata": {},
   "outputs": [],
   "source": []
  },
  {
   "cell_type": "code",
   "execution_count": 4,
   "metadata": {},
   "outputs": [],
   "source": [
    "def process_data(forecasts, observations):\n",
    "    \"\"\"Convert data to pandas DataFrames and process for analysis.\"\"\"\n",
    "    # Convert forecasts to DataFrame\n",
    "    forecast_data = []\n",
    "    for f in forecasts:\n",
    "        # Round the forecast time to the nearest hour\n",
    "        forecast_time = f.forecast_time.replace(minute=0, second=0, microsecond=0)\n",
    "        forecast_data.append({\n",
    "            'forecast_time': f.forecast_time,\n",
    "            'created_at': f.created_at,\n",
    "            'location': f.location,\n",
    "            'temperature': f.temperature,\n",
    "            'forecast_time_hour': forecast_time  # Changed from forecast_hour\n",
    "        })\n",
    "    df_forecasts = pd.DataFrame(forecast_data)\n",
    "    \n",
    "    # Convert observations to DataFrame\n",
    "    obs_data = []\n",
    "    for o in observations:\n",
    "        # Round the observation time to the nearest hour\n",
    "        observation_time = o.observed_time.replace(minute=0, second=0, microsecond=0)\n",
    "        obs_data.append({\n",
    "            'observed_time': o.observed_time,\n",
    "            'location': o.location,\n",
    "            'temperature': o.temperature,\n",
    "            'observation_time_hour': observation_time  # Changed from observation_hour\n",
    "        })\n",
    "    df_observations = pd.DataFrame(obs_data)\n",
    "    \n",
    "    # Group forecasts by forecast hour\n",
    "    grouped_forecasts = df_forecasts.groupby('forecast_time_hour')\n",
    "    \n",
    "    return df_forecasts, df_observations, grouped_forecasts"
   ]
  },
  {
   "cell_type": "code",
   "execution_count": 5,
   "metadata": {},
   "outputs": [],
   "source": [
    "def process_data(forecasts, observations):\n",
    "    \"\"\"Convert data to pandas DataFrames and process for analysis.\"\"\"\n",
    "    # Convert forecasts to DataFrame\n",
    "    forecast_data = []\n",
    "    for f in forecasts:\n",
    "        # Round the forecast time to the nearest hour and convert to EST\n",
    "        forecast_time = f.forecast_time.replace(minute=0, second=0, microsecond=0)\n",
    "        forecast_time_est = forecast_time.astimezone(timezone(timedelta(hours=-5)))\n",
    "        created_at_est = f.created_at.astimezone(timezone(timedelta(hours=-5)))\n",
    "        \n",
    "        forecast_data.append({\n",
    "            'forecast_time': forecast_time_est,  # Now in EST\n",
    "            'created_at': created_at_est,        # Now in EST\n",
    "            'location': f.location,\n",
    "            'temperature': f.temperature,\n",
    "            'forecast_time_hour': forecast_time_est  # Changed from forecast_hour\n",
    "        })\n",
    "    df_forecasts = pd.DataFrame(forecast_data)\n",
    "    \n",
    "    # Debug print\n",
    "    print(\"Forecast DataFrame columns:\", df_forecasts.columns.tolist())\n",
    "    print(\"First few rows of forecasts:\")\n",
    "    print(df_forecasts.head())\n",
    "    \n",
    "    # Convert observations to DataFrame\n",
    "    obs_data = []\n",
    "    for o in observations:\n",
    "        # Round the observation time to the nearest hour and convert to EST\n",
    "        observation_time = o.observed_time.replace(minute=0, second=0, microsecond=0)\n",
    "        observation_time_est = observation_time.astimezone(timezone(timedelta(hours=-5)))\n",
    "        \n",
    "        obs_data.append({\n",
    "            'observed_time': observation_time_est,  # Now in EST\n",
    "            'location': o.location,\n",
    "            'temperature': o.temperature,\n",
    "            'observation_time_hour': observation_time_est  # Changed from observation_hour\n",
    "        })\n",
    "    df_observations = pd.DataFrame(obs_data)\n",
    "    \n",
    "    # Debug print\n",
    "    print(\"\\nObservation DataFrame columns:\", df_observations.columns.tolist())\n",
    "    print(\"First few rows of observations:\")\n",
    "    print(df_observations.head())\n",
    "    \n",
    "    # Group forecasts by forecast hour\n",
    "    grouped_forecasts = df_forecasts.groupby('forecast_time_hour')\n",
    "    \n",
    "    return df_forecasts, df_observations, grouped_forecasts"
   ]
  },
  {
   "cell_type": "code",
   "execution_count": 6,
   "metadata": {},
   "outputs": [],
   "source": [
    "\n",
    "def analyze_forecast_accuracy(df_forecasts, df_observations, grouped_forecasts):\n",
    "    \"\"\"Analyze and visualize forecast accuracy.\"\"\"\n",
    "    accuracy_data = []\n",
    "    \n",
    "    for forecast_time_hour, group in grouped_forecasts:\n",
    "        hour_observations = df_observations[\n",
    "            (df_observations['observed_time'] >= forecast_time_hour) &\n",
    "            (df_observations['observed_time'] < forecast_time_hour + timedelta(hours=1))\n",
    "        ]\n",
    "        \n",
    "        if not hour_observations.empty:\n",
    "            actual_temp = hour_observations['temperature'].mean()\n",
    "            \n",
    "            for _, forecast in group.iterrows():\n",
    "                hours_ahead = (forecast_time_hour - forecast['created_at']).total_seconds() / 3600\n",
    "                error = forecast['temperature'] - actual_temp\n",
    "                accuracy_data.append({\n",
    "                    'forecast_time': forecast_time_hour,\n",
    "                    'hours_ahead': hours_ahead,\n",
    "                    'error': error,\n",
    "                    'actual_temp': actual_temp,\n",
    "                    'forecast_temp': forecast['temperature'],\n",
    "                    'error_magnitude': abs(error)  # For coloring\n",
    "                })\n",
    "    \n",
    "    df_accuracy = pd.DataFrame(accuracy_data)\n",
    "    \n",
    "    # Create interactive plot with plotly\n",
    "    import plotly.express as px\n",
    "    \n",
    "    fig = px.scatter(df_accuracy, \n",
    "                     x='hours_ahead',\n",
    "                     y='error',\n",
    "                     color='error_magnitude',\n",
    "                     color_continuous_scale='RdYlBu_r',  # Red for large errors, blue for small\n",
    "                     hover_data=['forecast_time', 'actual_temp', 'forecast_temp'],\n",
    "                     labels={\n",
    "                         'hours_ahead': 'Hours Ahead of Forecast',\n",
    "                         'error': 'Forecast Error (°F)',\n",
    "                         'error_magnitude': 'Absolute Error (°F)'\n",
    "                     },\n",
    "                     title='Forecast Error vs Forecast Lead Time')\n",
    "    \n",
    "    fig.add_hline(y=0, line_dash=\"dash\", line_color=\"red\")\n",
    "    fig.update_layout(\n",
    "        height=600,\n",
    "        showlegend=True,\n",
    "        hovermode='closest'\n",
    "    )\n",
    "    \n",
    "    fig.show()\n",
    "    return df_accuracy"
   ]
  },
  {
   "cell_type": "code",
   "execution_count": 7,
   "metadata": {},
   "outputs": [
    {
     "name": "stdout",
     "output_type": "stream",
     "text": [
      "Forecast DataFrame columns: ['forecast_time', 'created_at', 'location', 'temperature', 'forecast_time_hour']\n",
      "First few rows of forecasts:\n",
      "              forecast_time                       created_at      location  \\\n",
      "0 2024-12-09 00:00:00-05:00 2024-12-08 23:00:25.697307-05:00  NYC_CASTLE_2   \n",
      "1 2024-12-09 01:00:00-05:00 2024-12-08 23:00:25.697307-05:00  NYC_CASTLE_2   \n",
      "2 2024-12-09 02:00:00-05:00 2024-12-08 23:00:25.697307-05:00  NYC_CASTLE_2   \n",
      "3 2024-12-09 03:00:00-05:00 2024-12-08 23:00:25.697307-05:00  NYC_CASTLE_2   \n",
      "4 2024-12-09 04:00:00-05:00 2024-12-08 23:00:25.697307-05:00  NYC_CASTLE_2   \n",
      "\n",
      "   temperature        forecast_time_hour  \n",
      "0         48.0 2024-12-09 00:00:00-05:00  \n",
      "1         47.0 2024-12-09 01:00:00-05:00  \n",
      "2         46.0 2024-12-09 02:00:00-05:00  \n",
      "3         45.0 2024-12-09 03:00:00-05:00  \n",
      "4         44.0 2024-12-09 04:00:00-05:00  \n",
      "\n",
      "Observation DataFrame columns: ['observed_time', 'location', 'temperature', 'observation_time_hour']\n",
      "First few rows of observations:\n",
      "              observed_time      location  temperature  \\\n",
      "0 2024-12-08 15:00:00-05:00  NYC_CASTLE_2        51.98   \n",
      "1 2024-12-08 14:00:00-05:00  NYC_CASTLE_2        53.96   \n",
      "2 2024-12-08 16:00:00-05:00  NYC_CASTLE_2        51.98   \n",
      "3 2024-12-08 17:00:00-05:00  NYC_CASTLE_2        51.98   \n",
      "4 2024-12-08 18:00:00-05:00  NYC_CASTLE_2        51.08   \n",
      "\n",
      "      observation_time_hour  \n",
      "0 2024-12-08 15:00:00-05:00  \n",
      "1 2024-12-08 14:00:00-05:00  \n",
      "2 2024-12-08 16:00:00-05:00  \n",
      "3 2024-12-08 17:00:00-05:00  \n",
      "4 2024-12-08 18:00:00-05:00  \n",
      "\n",
      "Processed 552 forecasts into 47 hourly groups\n"
     ]
    },
    {
     "data": {
      "application/vnd.plotly.v1+json": {
       "config": {
        "plotlyServerURL": "https://plot.ly"
       },
       "data": [
        {
         "customdata": [
          [
           "2024-12-09T00:00:00-05:00",
           46.04,
           48
          ],
          [
           "2024-12-09T01:00:00-05:00",
           44.96,
           47
          ],
          [
           "2024-12-09T01:00:00-05:00",
           44.96,
           47
          ],
          [
           "2024-12-09T02:00:00-05:00",
           44.96,
           46
          ],
          [
           "2024-12-09T02:00:00-05:00",
           44.96,
           46
          ],
          [
           "2024-12-09T02:00:00-05:00",
           44.96,
           46
          ],
          [
           "2024-12-09T03:00:00-05:00",
           44.96,
           45
          ],
          [
           "2024-12-09T03:00:00-05:00",
           44.96,
           45
          ],
          [
           "2024-12-09T03:00:00-05:00",
           44.96,
           45
          ],
          [
           "2024-12-09T03:00:00-05:00",
           44.96,
           45
          ],
          [
           "2024-12-09T04:00:00-05:00",
           44.96,
           44
          ],
          [
           "2024-12-09T04:00:00-05:00",
           44.96,
           44
          ],
          [
           "2024-12-09T04:00:00-05:00",
           44.96,
           44
          ],
          [
           "2024-12-09T04:00:00-05:00",
           44.96,
           44
          ],
          [
           "2024-12-09T04:00:00-05:00",
           44.96,
           44
          ],
          [
           "2024-12-09T05:00:00-05:00",
           44.96,
           44
          ],
          [
           "2024-12-09T05:00:00-05:00",
           44.96,
           44
          ],
          [
           "2024-12-09T05:00:00-05:00",
           44.96,
           44
          ],
          [
           "2024-12-09T05:00:00-05:00",
           44.96,
           44
          ],
          [
           "2024-12-09T05:00:00-05:00",
           44.96,
           44
          ],
          [
           "2024-12-09T05:00:00-05:00",
           44.96,
           44
          ],
          [
           "2024-12-09T06:00:00-05:00",
           46.04,
           44
          ],
          [
           "2024-12-09T06:00:00-05:00",
           46.04,
           44
          ],
          [
           "2024-12-09T06:00:00-05:00",
           46.04,
           44
          ],
          [
           "2024-12-09T06:00:00-05:00",
           46.04,
           44
          ],
          [
           "2024-12-09T06:00:00-05:00",
           46.04,
           44
          ],
          [
           "2024-12-09T06:00:00-05:00",
           46.04,
           44
          ],
          [
           "2024-12-09T06:00:00-05:00",
           46.04,
           44
          ],
          [
           "2024-12-09T07:00:00-05:00",
           46.04,
           43
          ],
          [
           "2024-12-09T07:00:00-05:00",
           46.04,
           43
          ],
          [
           "2024-12-09T07:00:00-05:00",
           46.04,
           43
          ],
          [
           "2024-12-09T07:00:00-05:00",
           46.04,
           43
          ],
          [
           "2024-12-09T07:00:00-05:00",
           46.04,
           43
          ],
          [
           "2024-12-09T07:00:00-05:00",
           46.04,
           43
          ],
          [
           "2024-12-09T07:00:00-05:00",
           46.04,
           43
          ],
          [
           "2024-12-09T07:00:00-05:00",
           46.04,
           42
          ],
          [
           "2024-12-09T08:00:00-05:00",
           50,
           42
          ],
          [
           "2024-12-09T08:00:00-05:00",
           50,
           42
          ],
          [
           "2024-12-09T08:00:00-05:00",
           50,
           42
          ],
          [
           "2024-12-09T08:00:00-05:00",
           50,
           42
          ],
          [
           "2024-12-09T08:00:00-05:00",
           50,
           42
          ],
          [
           "2024-12-09T08:00:00-05:00",
           50,
           42
          ],
          [
           "2024-12-09T08:00:00-05:00",
           50,
           42
          ],
          [
           "2024-12-09T08:00:00-05:00",
           50,
           43
          ],
          [
           "2024-12-09T08:00:00-05:00",
           50,
           43
          ],
          [
           "2024-12-09T09:00:00-05:00",
           50,
           41
          ],
          [
           "2024-12-09T09:00:00-05:00",
           50,
           41
          ],
          [
           "2024-12-09T09:00:00-05:00",
           50,
           41
          ],
          [
           "2024-12-09T09:00:00-05:00",
           50,
           41
          ],
          [
           "2024-12-09T09:00:00-05:00",
           50,
           41
          ],
          [
           "2024-12-09T09:00:00-05:00",
           50,
           41
          ],
          [
           "2024-12-09T09:00:00-05:00",
           50,
           41
          ],
          [
           "2024-12-09T09:00:00-05:00",
           50,
           44
          ],
          [
           "2024-12-09T09:00:00-05:00",
           50,
           44
          ],
          [
           "2024-12-09T10:00:00-05:00",
           51.08,
           44
          ],
          [
           "2024-12-09T10:00:00-05:00",
           51.08,
           44
          ],
          [
           "2024-12-09T10:00:00-05:00",
           51.08,
           44
          ],
          [
           "2024-12-09T10:00:00-05:00",
           51.08,
           44
          ],
          [
           "2024-12-09T10:00:00-05:00",
           51.08,
           44
          ],
          [
           "2024-12-09T10:00:00-05:00",
           51.08,
           44
          ],
          [
           "2024-12-09T10:00:00-05:00",
           51.08,
           44
          ],
          [
           "2024-12-09T10:00:00-05:00",
           51.08,
           46
          ],
          [
           "2024-12-09T10:00:00-05:00",
           51.08,
           46
          ],
          [
           "2024-12-09T10:00:00-05:00",
           51.08,
           46
          ],
          [
           "2024-12-09T11:00:00-05:00",
           50,
           45
          ],
          [
           "2024-12-09T11:00:00-05:00",
           50,
           45
          ],
          [
           "2024-12-09T11:00:00-05:00",
           50,
           45
          ],
          [
           "2024-12-09T11:00:00-05:00",
           50,
           45
          ],
          [
           "2024-12-09T11:00:00-05:00",
           50,
           45
          ],
          [
           "2024-12-09T11:00:00-05:00",
           50,
           45
          ],
          [
           "2024-12-09T11:00:00-05:00",
           50,
           45
          ],
          [
           "2024-12-09T11:00:00-05:00",
           50,
           48
          ],
          [
           "2024-12-09T11:00:00-05:00",
           50,
           48
          ],
          [
           "2024-12-09T11:00:00-05:00",
           50,
           47
          ],
          [
           "2024-12-09T11:00:00-05:00",
           50,
           47
          ],
          [
           "2024-12-09T12:00:00-05:00",
           50,
           47
          ],
          [
           "2024-12-09T12:00:00-05:00",
           50,
           47
          ],
          [
           "2024-12-09T12:00:00-05:00",
           50,
           47
          ],
          [
           "2024-12-09T12:00:00-05:00",
           50,
           47
          ],
          [
           "2024-12-09T12:00:00-05:00",
           50,
           47
          ],
          [
           "2024-12-09T12:00:00-05:00",
           50,
           47
          ],
          [
           "2024-12-09T12:00:00-05:00",
           50,
           47
          ],
          [
           "2024-12-09T12:00:00-05:00",
           50,
           49
          ],
          [
           "2024-12-09T12:00:00-05:00",
           50,
           49
          ],
          [
           "2024-12-09T12:00:00-05:00",
           50,
           49
          ],
          [
           "2024-12-09T12:00:00-05:00",
           50,
           49
          ],
          [
           "2024-12-09T12:00:00-05:00",
           50,
           49
          ],
          [
           "2024-12-09T13:00:00-05:00",
           48.92,
           49
          ],
          [
           "2024-12-09T13:00:00-05:00",
           48.92,
           49
          ],
          [
           "2024-12-09T13:00:00-05:00",
           48.92,
           49
          ],
          [
           "2024-12-09T13:00:00-05:00",
           48.92,
           49
          ],
          [
           "2024-12-09T13:00:00-05:00",
           48.92,
           49
          ],
          [
           "2024-12-09T13:00:00-05:00",
           48.92,
           49
          ],
          [
           "2024-12-09T13:00:00-05:00",
           48.92,
           49
          ],
          [
           "2024-12-09T13:00:00-05:00",
           48.92,
           50
          ],
          [
           "2024-12-09T13:00:00-05:00",
           48.92,
           50
          ],
          [
           "2024-12-09T13:00:00-05:00",
           48.92,
           50
          ],
          [
           "2024-12-09T13:00:00-05:00",
           48.92,
           50
          ],
          [
           "2024-12-09T13:00:00-05:00",
           48.92,
           50
          ],
          [
           "2024-12-09T13:00:00-05:00",
           48.92,
           50
          ],
          [
           "2024-12-09T14:00:00-05:00",
           48.74000000000001,
           49
          ],
          [
           "2024-12-09T14:00:00-05:00",
           48.74000000000001,
           49
          ],
          [
           "2024-12-09T14:00:00-05:00",
           48.74000000000001,
           49
          ],
          [
           "2024-12-09T14:00:00-05:00",
           48.74000000000001,
           49
          ],
          [
           "2024-12-09T14:00:00-05:00",
           48.74000000000001,
           49
          ],
          [
           "2024-12-09T14:00:00-05:00",
           48.74000000000001,
           49
          ],
          [
           "2024-12-09T14:00:00-05:00",
           48.74000000000001,
           49
          ],
          [
           "2024-12-09T14:00:00-05:00",
           48.74000000000001,
           50
          ],
          [
           "2024-12-09T14:00:00-05:00",
           48.74000000000001,
           50
          ],
          [
           "2024-12-09T14:00:00-05:00",
           48.74000000000001,
           50
          ],
          [
           "2024-12-09T14:00:00-05:00",
           48.74000000000001,
           50
          ],
          [
           "2024-12-09T14:00:00-05:00",
           48.74000000000001,
           50
          ],
          [
           "2024-12-09T14:00:00-05:00",
           48.74000000000001,
           50
          ],
          [
           "2024-12-09T14:00:00-05:00",
           48.74000000000001,
           50
          ],
          [
           "2024-12-09T15:00:00-05:00",
           48.47,
           50
          ],
          [
           "2024-12-09T15:00:00-05:00",
           48.47,
           50
          ],
          [
           "2024-12-09T15:00:00-05:00",
           48.47,
           50
          ],
          [
           "2024-12-09T15:00:00-05:00",
           48.47,
           50
          ],
          [
           "2024-12-09T15:00:00-05:00",
           48.47,
           50
          ],
          [
           "2024-12-09T15:00:00-05:00",
           48.47,
           50
          ],
          [
           "2024-12-09T15:00:00-05:00",
           48.47,
           50
          ],
          [
           "2024-12-09T15:00:00-05:00",
           48.47,
           50
          ],
          [
           "2024-12-09T15:00:00-05:00",
           48.47,
           50
          ],
          [
           "2024-12-09T15:00:00-05:00",
           48.47,
           50
          ],
          [
           "2024-12-09T15:00:00-05:00",
           48.47,
           50
          ],
          [
           "2024-12-09T15:00:00-05:00",
           48.47,
           50
          ],
          [
           "2024-12-09T15:00:00-05:00",
           48.47,
           50
          ],
          [
           "2024-12-09T15:00:00-05:00",
           48.47,
           50
          ],
          [
           "2024-12-09T15:00:00-05:00",
           48.47,
           50
          ],
          [
           "2024-12-09T16:00:00-05:00",
           48.620000000000005,
           50
          ],
          [
           "2024-12-09T16:00:00-05:00",
           48.620000000000005,
           50
          ],
          [
           "2024-12-09T16:00:00-05:00",
           48.620000000000005,
           50
          ],
          [
           "2024-12-09T16:00:00-05:00",
           48.620000000000005,
           50
          ],
          [
           "2024-12-09T16:00:00-05:00",
           48.620000000000005,
           50
          ],
          [
           "2024-12-09T16:00:00-05:00",
           48.620000000000005,
           50
          ],
          [
           "2024-12-09T16:00:00-05:00",
           48.620000000000005,
           50
          ],
          [
           "2024-12-09T16:00:00-05:00",
           48.620000000000005,
           50
          ],
          [
           "2024-12-09T16:00:00-05:00",
           48.620000000000005,
           50
          ],
          [
           "2024-12-09T16:00:00-05:00",
           48.620000000000005,
           50
          ],
          [
           "2024-12-09T16:00:00-05:00",
           48.620000000000005,
           50
          ],
          [
           "2024-12-09T16:00:00-05:00",
           48.620000000000005,
           50
          ],
          [
           "2024-12-09T16:00:00-05:00",
           48.620000000000005,
           50
          ],
          [
           "2024-12-09T16:00:00-05:00",
           48.620000000000005,
           50
          ],
          [
           "2024-12-09T16:00:00-05:00",
           48.620000000000005,
           50
          ],
          [
           "2024-12-09T16:00:00-05:00",
           48.620000000000005,
           50
          ],
          [
           "2024-12-09T17:00:00-05:00",
           48.92,
           50
          ],
          [
           "2024-12-09T17:00:00-05:00",
           48.92,
           50
          ],
          [
           "2024-12-09T17:00:00-05:00",
           48.92,
           50
          ],
          [
           "2024-12-09T17:00:00-05:00",
           48.92,
           50
          ],
          [
           "2024-12-09T17:00:00-05:00",
           48.92,
           50
          ],
          [
           "2024-12-09T17:00:00-05:00",
           48.92,
           50
          ],
          [
           "2024-12-09T17:00:00-05:00",
           48.92,
           50
          ],
          [
           "2024-12-09T17:00:00-05:00",
           48.92,
           50
          ],
          [
           "2024-12-09T17:00:00-05:00",
           48.92,
           50
          ],
          [
           "2024-12-09T17:00:00-05:00",
           48.92,
           50
          ],
          [
           "2024-12-09T17:00:00-05:00",
           48.92,
           50
          ],
          [
           "2024-12-09T17:00:00-05:00",
           48.92,
           50
          ],
          [
           "2024-12-09T17:00:00-05:00",
           48.92,
           50
          ],
          [
           "2024-12-09T17:00:00-05:00",
           48.92,
           50
          ],
          [
           "2024-12-09T17:00:00-05:00",
           48.92,
           50
          ],
          [
           "2024-12-09T17:00:00-05:00",
           48.92,
           50
          ],
          [
           "2024-12-09T17:00:00-05:00",
           48.92,
           50
          ],
          [
           "2024-12-09T18:00:00-05:00",
           48.74000000000001,
           49
          ],
          [
           "2024-12-09T18:00:00-05:00",
           48.74000000000001,
           49
          ],
          [
           "2024-12-09T18:00:00-05:00",
           48.74000000000001,
           49
          ],
          [
           "2024-12-09T18:00:00-05:00",
           48.74000000000001,
           49
          ],
          [
           "2024-12-09T18:00:00-05:00",
           48.74000000000001,
           49
          ],
          [
           "2024-12-09T18:00:00-05:00",
           48.74000000000001,
           49
          ],
          [
           "2024-12-09T18:00:00-05:00",
           48.74000000000001,
           49
          ],
          [
           "2024-12-09T18:00:00-05:00",
           48.74000000000001,
           49
          ],
          [
           "2024-12-09T18:00:00-05:00",
           48.74000000000001,
           49
          ],
          [
           "2024-12-09T18:00:00-05:00",
           48.74000000000001,
           49
          ],
          [
           "2024-12-09T18:00:00-05:00",
           48.74000000000001,
           49
          ],
          [
           "2024-12-09T18:00:00-05:00",
           48.74000000000001,
           49
          ],
          [
           "2024-12-09T18:00:00-05:00",
           48.74000000000001,
           49
          ],
          [
           "2024-12-09T18:00:00-05:00",
           48.74000000000001,
           49
          ],
          [
           "2024-12-09T18:00:00-05:00",
           48.74000000000001,
           49
          ],
          [
           "2024-12-09T18:00:00-05:00",
           48.74000000000001,
           49
          ],
          [
           "2024-12-09T18:00:00-05:00",
           48.74000000000001,
           50
          ],
          [
           "2024-12-09T18:00:00-05:00",
           48.74000000000001,
           50
          ],
          [
           "2024-12-09T19:00:00-05:00",
           48.92,
           49
          ],
          [
           "2024-12-09T19:00:00-05:00",
           48.92,
           49
          ],
          [
           "2024-12-09T19:00:00-05:00",
           48.92,
           49
          ],
          [
           "2024-12-09T19:00:00-05:00",
           48.92,
           49
          ],
          [
           "2024-12-09T19:00:00-05:00",
           48.92,
           49
          ],
          [
           "2024-12-09T19:00:00-05:00",
           48.92,
           49
          ],
          [
           "2024-12-09T19:00:00-05:00",
           48.92,
           49
          ],
          [
           "2024-12-09T19:00:00-05:00",
           48.92,
           49
          ],
          [
           "2024-12-09T19:00:00-05:00",
           48.92,
           49
          ],
          [
           "2024-12-09T19:00:00-05:00",
           48.92,
           49
          ],
          [
           "2024-12-09T19:00:00-05:00",
           48.92,
           49
          ],
          [
           "2024-12-09T19:00:00-05:00",
           48.92,
           49
          ],
          [
           "2024-12-09T19:00:00-05:00",
           48.92,
           49
          ],
          [
           "2024-12-09T19:00:00-05:00",
           48.92,
           49
          ],
          [
           "2024-12-09T19:00:00-05:00",
           48.92,
           49
          ],
          [
           "2024-12-09T19:00:00-05:00",
           48.92,
           49
          ],
          [
           "2024-12-09T19:00:00-05:00",
           48.92,
           50
          ],
          [
           "2024-12-09T19:00:00-05:00",
           48.92,
           50
          ],
          [
           "2024-12-09T19:00:00-05:00",
           48.92,
           50
          ],
          [
           "2024-12-09T20:00:00-05:00",
           48.92,
           49
          ],
          [
           "2024-12-09T20:00:00-05:00",
           48.92,
           49
          ],
          [
           "2024-12-09T20:00:00-05:00",
           48.92,
           49
          ],
          [
           "2024-12-09T20:00:00-05:00",
           48.92,
           49
          ],
          [
           "2024-12-09T20:00:00-05:00",
           48.92,
           49
          ],
          [
           "2024-12-09T20:00:00-05:00",
           48.92,
           49
          ],
          [
           "2024-12-09T20:00:00-05:00",
           48.92,
           49
          ],
          [
           "2024-12-09T20:00:00-05:00",
           48.92,
           49
          ],
          [
           "2024-12-09T20:00:00-05:00",
           48.92,
           49
          ],
          [
           "2024-12-09T20:00:00-05:00",
           48.92,
           49
          ],
          [
           "2024-12-09T20:00:00-05:00",
           48.92,
           49
          ],
          [
           "2024-12-09T20:00:00-05:00",
           48.92,
           49
          ],
          [
           "2024-12-09T20:00:00-05:00",
           48.92,
           49
          ],
          [
           "2024-12-09T20:00:00-05:00",
           48.92,
           49
          ],
          [
           "2024-12-09T20:00:00-05:00",
           48.92,
           49
          ],
          [
           "2024-12-09T20:00:00-05:00",
           48.92,
           49
          ],
          [
           "2024-12-09T20:00:00-05:00",
           48.92,
           50
          ],
          [
           "2024-12-09T20:00:00-05:00",
           48.92,
           50
          ],
          [
           "2024-12-09T20:00:00-05:00",
           48.92,
           50
          ],
          [
           "2024-12-09T20:00:00-05:00",
           48.92,
           48
          ],
          [
           "2024-12-09T21:00:00-05:00",
           48.919999999999995,
           48
          ],
          [
           "2024-12-09T21:00:00-05:00",
           48.919999999999995,
           48
          ],
          [
           "2024-12-09T21:00:00-05:00",
           48.919999999999995,
           48
          ],
          [
           "2024-12-09T21:00:00-05:00",
           48.919999999999995,
           48
          ],
          [
           "2024-12-09T21:00:00-05:00",
           48.919999999999995,
           48
          ],
          [
           "2024-12-09T21:00:00-05:00",
           48.919999999999995,
           48
          ],
          [
           "2024-12-09T21:00:00-05:00",
           48.919999999999995,
           48
          ],
          [
           "2024-12-09T21:00:00-05:00",
           48.919999999999995,
           48
          ],
          [
           "2024-12-09T21:00:00-05:00",
           48.919999999999995,
           48
          ],
          [
           "2024-12-09T21:00:00-05:00",
           48.919999999999995,
           48
          ],
          [
           "2024-12-09T21:00:00-05:00",
           48.919999999999995,
           48
          ],
          [
           "2024-12-09T21:00:00-05:00",
           48.919999999999995,
           48
          ],
          [
           "2024-12-09T21:00:00-05:00",
           48.919999999999995,
           48
          ],
          [
           "2024-12-09T21:00:00-05:00",
           48.919999999999995,
           48
          ],
          [
           "2024-12-09T21:00:00-05:00",
           48.919999999999995,
           48
          ],
          [
           "2024-12-09T21:00:00-05:00",
           48.919999999999995,
           48
          ],
          [
           "2024-12-09T21:00:00-05:00",
           48.919999999999995,
           50
          ],
          [
           "2024-12-09T21:00:00-05:00",
           48.919999999999995,
           50
          ],
          [
           "2024-12-09T21:00:00-05:00",
           48.919999999999995,
           50
          ],
          [
           "2024-12-09T21:00:00-05:00",
           48.919999999999995,
           48
          ],
          [
           "2024-12-09T21:00:00-05:00",
           48.919999999999995,
           48
          ],
          [
           "2024-12-09T22:00:00-05:00",
           48.92,
           48
          ],
          [
           "2024-12-09T22:00:00-05:00",
           48.92,
           48
          ],
          [
           "2024-12-09T22:00:00-05:00",
           48.92,
           48
          ],
          [
           "2024-12-09T22:00:00-05:00",
           48.92,
           48
          ],
          [
           "2024-12-09T22:00:00-05:00",
           48.92,
           48
          ],
          [
           "2024-12-09T22:00:00-05:00",
           48.92,
           48
          ],
          [
           "2024-12-09T22:00:00-05:00",
           48.92,
           48
          ],
          [
           "2024-12-09T22:00:00-05:00",
           48.92,
           48
          ],
          [
           "2024-12-09T22:00:00-05:00",
           48.92,
           48
          ],
          [
           "2024-12-09T22:00:00-05:00",
           48.92,
           48
          ],
          [
           "2024-12-09T22:00:00-05:00",
           48.92,
           48
          ],
          [
           "2024-12-09T22:00:00-05:00",
           48.92,
           48
          ],
          [
           "2024-12-09T22:00:00-05:00",
           48.92,
           48
          ],
          [
           "2024-12-09T22:00:00-05:00",
           48.92,
           48
          ],
          [
           "2024-12-09T22:00:00-05:00",
           48.92,
           48
          ],
          [
           "2024-12-09T22:00:00-05:00",
           48.92,
           48
          ],
          [
           "2024-12-09T22:00:00-05:00",
           48.92,
           49
          ],
          [
           "2024-12-09T22:00:00-05:00",
           48.92,
           49
          ],
          [
           "2024-12-09T22:00:00-05:00",
           48.92,
           49
          ],
          [
           "2024-12-09T22:00:00-05:00",
           48.92,
           47
          ],
          [
           "2024-12-09T22:00:00-05:00",
           48.92,
           47
          ],
          [
           "2024-12-09T22:00:00-05:00",
           48.92,
           47
          ]
         ],
         "hovertemplate": "Hours Ahead of Forecast=%{x}<br>Forecast Error (°F)=%{y}<br>forecast_time=%{customdata[0]}<br>actual_temp=%{customdata[1]}<br>forecast_temp=%{customdata[2]}<br>Absolute Error (°F)=%{marker.color}<extra></extra>",
         "legendgroup": "",
         "marker": {
          "color": [
           1.9600000000000009,
           2.039999999999999,
           2.039999999999999,
           1.0399999999999991,
           1.0399999999999991,
           1.0399999999999991,
           0.03999999999999915,
           0.03999999999999915,
           0.03999999999999915,
           0.03999999999999915,
           0.9600000000000009,
           0.9600000000000009,
           0.9600000000000009,
           0.9600000000000009,
           0.9600000000000009,
           0.9600000000000009,
           0.9600000000000009,
           0.9600000000000009,
           0.9600000000000009,
           0.9600000000000009,
           0.9600000000000009,
           2.039999999999999,
           2.039999999999999,
           2.039999999999999,
           2.039999999999999,
           2.039999999999999,
           2.039999999999999,
           2.039999999999999,
           3.039999999999999,
           3.039999999999999,
           3.039999999999999,
           3.039999999999999,
           3.039999999999999,
           3.039999999999999,
           3.039999999999999,
           4.039999999999999,
           8,
           8,
           8,
           8,
           8,
           8,
           8,
           7,
           7,
           9,
           9,
           9,
           9,
           9,
           9,
           9,
           6,
           6,
           7.079999999999998,
           7.079999999999998,
           7.079999999999998,
           7.079999999999998,
           7.079999999999998,
           7.079999999999998,
           7.079999999999998,
           5.079999999999998,
           5.079999999999998,
           5.079999999999998,
           5,
           5,
           5,
           5,
           5,
           5,
           5,
           2,
           2,
           3,
           3,
           3,
           3,
           3,
           3,
           3,
           3,
           3,
           1,
           1,
           1,
           1,
           1,
           0.0799999999999983,
           0.0799999999999983,
           0.0799999999999983,
           0.0799999999999983,
           0.0799999999999983,
           0.0799999999999983,
           0.0799999999999983,
           1.0799999999999983,
           1.0799999999999983,
           1.0799999999999983,
           1.0799999999999983,
           1.0799999999999983,
           1.0799999999999983,
           0.2599999999999909,
           0.2599999999999909,
           0.2599999999999909,
           0.2599999999999909,
           0.2599999999999909,
           0.2599999999999909,
           0.2599999999999909,
           1.259999999999991,
           1.259999999999991,
           1.259999999999991,
           1.259999999999991,
           1.259999999999991,
           1.259999999999991,
           1.259999999999991,
           1.5300000000000011,
           1.5300000000000011,
           1.5300000000000011,
           1.5300000000000011,
           1.5300000000000011,
           1.5300000000000011,
           1.5300000000000011,
           1.5300000000000011,
           1.5300000000000011,
           1.5300000000000011,
           1.5300000000000011,
           1.5300000000000011,
           1.5300000000000011,
           1.5300000000000011,
           1.5300000000000011,
           1.3799999999999955,
           1.3799999999999955,
           1.3799999999999955,
           1.3799999999999955,
           1.3799999999999955,
           1.3799999999999955,
           1.3799999999999955,
           1.3799999999999955,
           1.3799999999999955,
           1.3799999999999955,
           1.3799999999999955,
           1.3799999999999955,
           1.3799999999999955,
           1.3799999999999955,
           1.3799999999999955,
           1.3799999999999955,
           1.0799999999999983,
           1.0799999999999983,
           1.0799999999999983,
           1.0799999999999983,
           1.0799999999999983,
           1.0799999999999983,
           1.0799999999999983,
           1.0799999999999983,
           1.0799999999999983,
           1.0799999999999983,
           1.0799999999999983,
           1.0799999999999983,
           1.0799999999999983,
           1.0799999999999983,
           1.0799999999999983,
           1.0799999999999983,
           1.0799999999999983,
           0.2599999999999909,
           0.2599999999999909,
           0.2599999999999909,
           0.2599999999999909,
           0.2599999999999909,
           0.2599999999999909,
           0.2599999999999909,
           0.2599999999999909,
           0.2599999999999909,
           0.2599999999999909,
           0.2599999999999909,
           0.2599999999999909,
           0.2599999999999909,
           0.2599999999999909,
           0.2599999999999909,
           0.2599999999999909,
           1.259999999999991,
           1.259999999999991,
           0.0799999999999983,
           0.0799999999999983,
           0.0799999999999983,
           0.0799999999999983,
           0.0799999999999983,
           0.0799999999999983,
           0.0799999999999983,
           0.0799999999999983,
           0.0799999999999983,
           0.0799999999999983,
           0.0799999999999983,
           0.0799999999999983,
           0.0799999999999983,
           0.0799999999999983,
           0.0799999999999983,
           0.0799999999999983,
           1.0799999999999983,
           1.0799999999999983,
           1.0799999999999983,
           0.0799999999999983,
           0.0799999999999983,
           0.0799999999999983,
           0.0799999999999983,
           0.0799999999999983,
           0.0799999999999983,
           0.0799999999999983,
           0.0799999999999983,
           0.0799999999999983,
           0.0799999999999983,
           0.0799999999999983,
           0.0799999999999983,
           0.0799999999999983,
           0.0799999999999983,
           0.0799999999999983,
           0.0799999999999983,
           1.0799999999999983,
           1.0799999999999983,
           1.0799999999999983,
           0.9200000000000017,
           0.9199999999999946,
           0.9199999999999946,
           0.9199999999999946,
           0.9199999999999946,
           0.9199999999999946,
           0.9199999999999946,
           0.9199999999999946,
           0.9199999999999946,
           0.9199999999999946,
           0.9199999999999946,
           0.9199999999999946,
           0.9199999999999946,
           0.9199999999999946,
           0.9199999999999946,
           0.9199999999999946,
           0.9199999999999946,
           1.0800000000000054,
           1.0800000000000054,
           1.0800000000000054,
           0.9199999999999946,
           0.9199999999999946,
           0.9200000000000017,
           0.9200000000000017,
           0.9200000000000017,
           0.9200000000000017,
           0.9200000000000017,
           0.9200000000000017,
           0.9200000000000017,
           0.9200000000000017,
           0.9200000000000017,
           0.9200000000000017,
           0.9200000000000017,
           0.9200000000000017,
           0.9200000000000017,
           0.9200000000000017,
           0.9200000000000017,
           0.9200000000000017,
           0.0799999999999983,
           0.0799999999999983,
           0.0799999999999983,
           1.9200000000000017,
           1.9200000000000017,
           1.9200000000000017
          ],
          "coloraxis": "coloraxis",
          "symbol": "circle"
         },
         "mode": "markers",
         "name": "",
         "orientation": "v",
         "showlegend": false,
         "type": "scatter",
         "x": [
          0.9928618591666667,
          1.9928618591666665,
          0.9933272111111111,
          2.9928618591666667,
          1.993327211111111,
          0.9937439244444445,
          3.9928618591666667,
          2.993327211111111,
          1.9937439244444444,
          0.9941894522222222,
          4.992861859166667,
          3.993327211111111,
          2.993743924444445,
          1.994189452222222,
          0.9941425363888888,
          5.992861859166667,
          4.9933272111111116,
          3.993743924444445,
          2.9941894522222223,
          1.994142536388889,
          0.9895257377777777,
          6.992861859166667,
          5.9933272111111116,
          4.993743924444444,
          3.9941894522222223,
          2.9941425363888885,
          1.9895257377777777,
          0.994167665,
          7.992861859166667,
          6.9933272111111116,
          5.993743924444444,
          4.994189452222223,
          3.9941425363888885,
          2.9895257377777775,
          1.994167665,
          0.9937900819444445,
          8.992861859166666,
          7.9933272111111116,
          6.993743924444444,
          5.994189452222223,
          4.994142536388889,
          3.9895257377777775,
          2.994167665,
          1.9937900819444445,
          0.9941085055555556,
          9.992861859166666,
          8.993327211111112,
          7.993743924444444,
          6.994189452222223,
          5.994142536388889,
          4.989525737777778,
          3.994167665,
          2.9937900819444443,
          1.9941085055555554,
          10.992861859166666,
          9.99332721111111,
          8.993743924444445,
          7.994189452222223,
          6.994142536388889,
          5.989525737777778,
          4.994167665000001,
          3.9937900819444443,
          2.9941085055555554,
          0.9936836952777779,
          11.992861859166666,
          10.99332721111111,
          9.993743924444445,
          8.994189452222223,
          7.994142536388889,
          6.989525737777778,
          5.994167665000001,
          4.993790081944444,
          3.9941085055555554,
          1.993683695277778,
          0.9934895811111111,
          12.992861859166666,
          11.99332721111111,
          10.993743924444445,
          9.994189452222221,
          8.994142536388889,
          7.989525737777778,
          6.994167665000001,
          5.993790081944444,
          4.994108505555555,
          2.9936836952777774,
          1.993489581111111,
          0.9933211041666666,
          13.992861859166666,
          12.99332721111111,
          11.993743924444445,
          10.994189452222221,
          9.994142536388889,
          8.989525737777779,
          7.994167665000001,
          6.993790081944444,
          5.994108505555555,
          3.9936836952777774,
          2.993489581111111,
          1.9933211041666665,
          0.9919762222222221,
          14.992861859166666,
          13.99332721111111,
          12.993743924444445,
          11.994189452222221,
          10.994142536388889,
          9.989525737777777,
          8.994167665,
          7.993790081944444,
          6.994108505555555,
          4.9936836952777774,
          3.993489581111111,
          2.9933211041666667,
          1.9919762222222224,
          0.9934348816666666,
          15.992861859166666,
          14.99332721111111,
          13.993743924444445,
          12.994189452222221,
          11.994142536388889,
          10.989525737777777,
          9.994167665,
          8.993790081944445,
          7.994108505555555,
          5.9936836952777774,
          4.9934895811111115,
          3.9933211041666667,
          2.991976222222222,
          1.9934348816666667,
          0.9928819405555555,
          16.992861859166666,
          15.99332721111111,
          14.993743924444445,
          13.994189452222221,
          12.994142536388889,
          11.989525737777777,
          10.994167665,
          9.993790081944445,
          8.994108505555555,
          6.9936836952777774,
          5.9934895811111115,
          4.993321104166667,
          3.991976222222222,
          2.9934348816666665,
          1.9928819405555556,
          0.9889330233333333,
          17.992861859166666,
          16.99332721111111,
          15.993743924444445,
          14.994189452222221,
          13.994142536388889,
          12.989525737777777,
          11.994167665,
          10.993790081944445,
          9.994108505555555,
          7.9936836952777774,
          6.9934895811111115,
          5.993321104166667,
          4.991976222222222,
          3.9934348816666665,
          2.992881940555556,
          1.9889330233333335,
          0.9933875513888889,
          18.99286185916667,
          17.99332721111111,
          16.993743924444445,
          15.994189452222221,
          14.994142536388889,
          13.989525737777777,
          12.994167665,
          11.993790081944445,
          10.994108505555555,
          8.993683695277777,
          7.9934895811111115,
          6.993321104166667,
          5.991976222222222,
          4.9934348816666665,
          3.992881940555556,
          2.9889330233333333,
          1.9933875513888888,
          0.9935627547222222,
          19.99286185916667,
          18.99332721111111,
          17.993743924444445,
          16.994189452222223,
          15.994142536388889,
          14.989525737777777,
          13.994167665,
          12.993790081944445,
          11.994108505555555,
          9.993683695277777,
          8.993489581111112,
          7.993321104166667,
          6.991976222222222,
          5.9934348816666665,
          4.992881940555555,
          3.9889330233333333,
          2.993387551388889,
          1.9935627547222223,
          0.9936680869444444,
          20.99286185916667,
          19.99332721111111,
          18.993743924444445,
          17.994189452222223,
          16.99414253638889,
          15.989525737777777,
          14.994167665,
          13.993790081944445,
          12.994108505555555,
          10.993683695277777,
          9.99348958111111,
          8.993321104166666,
          7.991976222222222,
          6.9934348816666665,
          5.992881940555555,
          4.988933023333334,
          3.993387551388889,
          2.9935627547222223,
          1.9936680869444445,
          0.99341232,
          21.99286185916667,
          20.99332721111111,
          19.993743924444445,
          18.994189452222223,
          17.99414253638889,
          16.98952573777778,
          15.994167665,
          14.993790081944445,
          13.994108505555555,
          11.993683695277777,
          10.99348958111111,
          9.993321104166666,
          8.991976222222222,
          7.9934348816666665,
          6.992881940555555,
          5.988933023333334,
          4.9933875513888895,
          3.9935627547222223,
          2.9936680869444445,
          1.99341232,
          0.9933280227777778,
          22.99286185916667,
          21.99332721111111,
          20.993743924444445,
          19.994189452222223,
          18.99414253638889,
          17.98952573777778,
          16.994167665,
          15.993790081944445,
          14.994108505555555,
          12.993683695277777,
          11.99348958111111,
          10.993321104166666,
          9.991976222222222,
          8.993434881666667,
          7.992881940555555,
          6.988933023333334,
          5.9933875513888895,
          4.993562754722221,
          3.9936680869444445,
          2.99341232,
          1.9933280227777777,
          0.9920196099999999
         ],
         "xaxis": "x",
         "y": [
          1.9600000000000009,
          2.039999999999999,
          2.039999999999999,
          1.0399999999999991,
          1.0399999999999991,
          1.0399999999999991,
          0.03999999999999915,
          0.03999999999999915,
          0.03999999999999915,
          0.03999999999999915,
          -0.9600000000000009,
          -0.9600000000000009,
          -0.9600000000000009,
          -0.9600000000000009,
          -0.9600000000000009,
          -0.9600000000000009,
          -0.9600000000000009,
          -0.9600000000000009,
          -0.9600000000000009,
          -0.9600000000000009,
          -0.9600000000000009,
          -2.039999999999999,
          -2.039999999999999,
          -2.039999999999999,
          -2.039999999999999,
          -2.039999999999999,
          -2.039999999999999,
          -2.039999999999999,
          -3.039999999999999,
          -3.039999999999999,
          -3.039999999999999,
          -3.039999999999999,
          -3.039999999999999,
          -3.039999999999999,
          -3.039999999999999,
          -4.039999999999999,
          -8,
          -8,
          -8,
          -8,
          -8,
          -8,
          -8,
          -7,
          -7,
          -9,
          -9,
          -9,
          -9,
          -9,
          -9,
          -9,
          -6,
          -6,
          -7.079999999999998,
          -7.079999999999998,
          -7.079999999999998,
          -7.079999999999998,
          -7.079999999999998,
          -7.079999999999998,
          -7.079999999999998,
          -5.079999999999998,
          -5.079999999999998,
          -5.079999999999998,
          -5,
          -5,
          -5,
          -5,
          -5,
          -5,
          -5,
          -2,
          -2,
          -3,
          -3,
          -3,
          -3,
          -3,
          -3,
          -3,
          -3,
          -3,
          -1,
          -1,
          -1,
          -1,
          -1,
          0.0799999999999983,
          0.0799999999999983,
          0.0799999999999983,
          0.0799999999999983,
          0.0799999999999983,
          0.0799999999999983,
          0.0799999999999983,
          1.0799999999999983,
          1.0799999999999983,
          1.0799999999999983,
          1.0799999999999983,
          1.0799999999999983,
          1.0799999999999983,
          0.2599999999999909,
          0.2599999999999909,
          0.2599999999999909,
          0.2599999999999909,
          0.2599999999999909,
          0.2599999999999909,
          0.2599999999999909,
          1.259999999999991,
          1.259999999999991,
          1.259999999999991,
          1.259999999999991,
          1.259999999999991,
          1.259999999999991,
          1.259999999999991,
          1.5300000000000011,
          1.5300000000000011,
          1.5300000000000011,
          1.5300000000000011,
          1.5300000000000011,
          1.5300000000000011,
          1.5300000000000011,
          1.5300000000000011,
          1.5300000000000011,
          1.5300000000000011,
          1.5300000000000011,
          1.5300000000000011,
          1.5300000000000011,
          1.5300000000000011,
          1.5300000000000011,
          1.3799999999999955,
          1.3799999999999955,
          1.3799999999999955,
          1.3799999999999955,
          1.3799999999999955,
          1.3799999999999955,
          1.3799999999999955,
          1.3799999999999955,
          1.3799999999999955,
          1.3799999999999955,
          1.3799999999999955,
          1.3799999999999955,
          1.3799999999999955,
          1.3799999999999955,
          1.3799999999999955,
          1.3799999999999955,
          1.0799999999999983,
          1.0799999999999983,
          1.0799999999999983,
          1.0799999999999983,
          1.0799999999999983,
          1.0799999999999983,
          1.0799999999999983,
          1.0799999999999983,
          1.0799999999999983,
          1.0799999999999983,
          1.0799999999999983,
          1.0799999999999983,
          1.0799999999999983,
          1.0799999999999983,
          1.0799999999999983,
          1.0799999999999983,
          1.0799999999999983,
          0.2599999999999909,
          0.2599999999999909,
          0.2599999999999909,
          0.2599999999999909,
          0.2599999999999909,
          0.2599999999999909,
          0.2599999999999909,
          0.2599999999999909,
          0.2599999999999909,
          0.2599999999999909,
          0.2599999999999909,
          0.2599999999999909,
          0.2599999999999909,
          0.2599999999999909,
          0.2599999999999909,
          0.2599999999999909,
          1.259999999999991,
          1.259999999999991,
          0.0799999999999983,
          0.0799999999999983,
          0.0799999999999983,
          0.0799999999999983,
          0.0799999999999983,
          0.0799999999999983,
          0.0799999999999983,
          0.0799999999999983,
          0.0799999999999983,
          0.0799999999999983,
          0.0799999999999983,
          0.0799999999999983,
          0.0799999999999983,
          0.0799999999999983,
          0.0799999999999983,
          0.0799999999999983,
          1.0799999999999983,
          1.0799999999999983,
          1.0799999999999983,
          0.0799999999999983,
          0.0799999999999983,
          0.0799999999999983,
          0.0799999999999983,
          0.0799999999999983,
          0.0799999999999983,
          0.0799999999999983,
          0.0799999999999983,
          0.0799999999999983,
          0.0799999999999983,
          0.0799999999999983,
          0.0799999999999983,
          0.0799999999999983,
          0.0799999999999983,
          0.0799999999999983,
          0.0799999999999983,
          1.0799999999999983,
          1.0799999999999983,
          1.0799999999999983,
          -0.9200000000000017,
          -0.9199999999999946,
          -0.9199999999999946,
          -0.9199999999999946,
          -0.9199999999999946,
          -0.9199999999999946,
          -0.9199999999999946,
          -0.9199999999999946,
          -0.9199999999999946,
          -0.9199999999999946,
          -0.9199999999999946,
          -0.9199999999999946,
          -0.9199999999999946,
          -0.9199999999999946,
          -0.9199999999999946,
          -0.9199999999999946,
          -0.9199999999999946,
          1.0800000000000054,
          1.0800000000000054,
          1.0800000000000054,
          -0.9199999999999946,
          -0.9199999999999946,
          -0.9200000000000017,
          -0.9200000000000017,
          -0.9200000000000017,
          -0.9200000000000017,
          -0.9200000000000017,
          -0.9200000000000017,
          -0.9200000000000017,
          -0.9200000000000017,
          -0.9200000000000017,
          -0.9200000000000017,
          -0.9200000000000017,
          -0.9200000000000017,
          -0.9200000000000017,
          -0.9200000000000017,
          -0.9200000000000017,
          -0.9200000000000017,
          0.0799999999999983,
          0.0799999999999983,
          0.0799999999999983,
          -1.9200000000000017,
          -1.9200000000000017,
          -1.9200000000000017
         ],
         "yaxis": "y"
        }
       ],
       "layout": {
        "coloraxis": {
         "colorbar": {
          "title": {
           "text": "Absolute Error (°F)"
          }
         },
         "colorscale": [
          [
           0,
           "rgb(49,54,149)"
          ],
          [
           0.1,
           "rgb(69,117,180)"
          ],
          [
           0.2,
           "rgb(116,173,209)"
          ],
          [
           0.3,
           "rgb(171,217,233)"
          ],
          [
           0.4,
           "rgb(224,243,248)"
          ],
          [
           0.5,
           "rgb(255,255,191)"
          ],
          [
           0.6,
           "rgb(254,224,144)"
          ],
          [
           0.7,
           "rgb(253,174,97)"
          ],
          [
           0.8,
           "rgb(244,109,67)"
          ],
          [
           0.9,
           "rgb(215,48,39)"
          ],
          [
           1,
           "rgb(165,0,38)"
          ]
         ]
        },
        "height": 600,
        "hovermode": "closest",
        "legend": {
         "tracegroupgap": 0
        },
        "shapes": [
         {
          "line": {
           "color": "red",
           "dash": "dash"
          },
          "type": "line",
          "x0": 0,
          "x1": 1,
          "xref": "x domain",
          "y0": 0,
          "y1": 0,
          "yref": "y"
         }
        ],
        "showlegend": true,
        "template": {
         "data": {
          "bar": [
           {
            "error_x": {
             "color": "#2a3f5f"
            },
            "error_y": {
             "color": "#2a3f5f"
            },
            "marker": {
             "line": {
              "color": "#E5ECF6",
              "width": 0.5
             },
             "pattern": {
              "fillmode": "overlay",
              "size": 10,
              "solidity": 0.2
             }
            },
            "type": "bar"
           }
          ],
          "barpolar": [
           {
            "marker": {
             "line": {
              "color": "#E5ECF6",
              "width": 0.5
             },
             "pattern": {
              "fillmode": "overlay",
              "size": 10,
              "solidity": 0.2
             }
            },
            "type": "barpolar"
           }
          ],
          "carpet": [
           {
            "aaxis": {
             "endlinecolor": "#2a3f5f",
             "gridcolor": "white",
             "linecolor": "white",
             "minorgridcolor": "white",
             "startlinecolor": "#2a3f5f"
            },
            "baxis": {
             "endlinecolor": "#2a3f5f",
             "gridcolor": "white",
             "linecolor": "white",
             "minorgridcolor": "white",
             "startlinecolor": "#2a3f5f"
            },
            "type": "carpet"
           }
          ],
          "choropleth": [
           {
            "colorbar": {
             "outlinewidth": 0,
             "ticks": ""
            },
            "type": "choropleth"
           }
          ],
          "contour": [
           {
            "colorbar": {
             "outlinewidth": 0,
             "ticks": ""
            },
            "colorscale": [
             [
              0,
              "#0d0887"
             ],
             [
              0.1111111111111111,
              "#46039f"
             ],
             [
              0.2222222222222222,
              "#7201a8"
             ],
             [
              0.3333333333333333,
              "#9c179e"
             ],
             [
              0.4444444444444444,
              "#bd3786"
             ],
             [
              0.5555555555555556,
              "#d8576b"
             ],
             [
              0.6666666666666666,
              "#ed7953"
             ],
             [
              0.7777777777777778,
              "#fb9f3a"
             ],
             [
              0.8888888888888888,
              "#fdca26"
             ],
             [
              1,
              "#f0f921"
             ]
            ],
            "type": "contour"
           }
          ],
          "contourcarpet": [
           {
            "colorbar": {
             "outlinewidth": 0,
             "ticks": ""
            },
            "type": "contourcarpet"
           }
          ],
          "heatmap": [
           {
            "colorbar": {
             "outlinewidth": 0,
             "ticks": ""
            },
            "colorscale": [
             [
              0,
              "#0d0887"
             ],
             [
              0.1111111111111111,
              "#46039f"
             ],
             [
              0.2222222222222222,
              "#7201a8"
             ],
             [
              0.3333333333333333,
              "#9c179e"
             ],
             [
              0.4444444444444444,
              "#bd3786"
             ],
             [
              0.5555555555555556,
              "#d8576b"
             ],
             [
              0.6666666666666666,
              "#ed7953"
             ],
             [
              0.7777777777777778,
              "#fb9f3a"
             ],
             [
              0.8888888888888888,
              "#fdca26"
             ],
             [
              1,
              "#f0f921"
             ]
            ],
            "type": "heatmap"
           }
          ],
          "heatmapgl": [
           {
            "colorbar": {
             "outlinewidth": 0,
             "ticks": ""
            },
            "colorscale": [
             [
              0,
              "#0d0887"
             ],
             [
              0.1111111111111111,
              "#46039f"
             ],
             [
              0.2222222222222222,
              "#7201a8"
             ],
             [
              0.3333333333333333,
              "#9c179e"
             ],
             [
              0.4444444444444444,
              "#bd3786"
             ],
             [
              0.5555555555555556,
              "#d8576b"
             ],
             [
              0.6666666666666666,
              "#ed7953"
             ],
             [
              0.7777777777777778,
              "#fb9f3a"
             ],
             [
              0.8888888888888888,
              "#fdca26"
             ],
             [
              1,
              "#f0f921"
             ]
            ],
            "type": "heatmapgl"
           }
          ],
          "histogram": [
           {
            "marker": {
             "pattern": {
              "fillmode": "overlay",
              "size": 10,
              "solidity": 0.2
             }
            },
            "type": "histogram"
           }
          ],
          "histogram2d": [
           {
            "colorbar": {
             "outlinewidth": 0,
             "ticks": ""
            },
            "colorscale": [
             [
              0,
              "#0d0887"
             ],
             [
              0.1111111111111111,
              "#46039f"
             ],
             [
              0.2222222222222222,
              "#7201a8"
             ],
             [
              0.3333333333333333,
              "#9c179e"
             ],
             [
              0.4444444444444444,
              "#bd3786"
             ],
             [
              0.5555555555555556,
              "#d8576b"
             ],
             [
              0.6666666666666666,
              "#ed7953"
             ],
             [
              0.7777777777777778,
              "#fb9f3a"
             ],
             [
              0.8888888888888888,
              "#fdca26"
             ],
             [
              1,
              "#f0f921"
             ]
            ],
            "type": "histogram2d"
           }
          ],
          "histogram2dcontour": [
           {
            "colorbar": {
             "outlinewidth": 0,
             "ticks": ""
            },
            "colorscale": [
             [
              0,
              "#0d0887"
             ],
             [
              0.1111111111111111,
              "#46039f"
             ],
             [
              0.2222222222222222,
              "#7201a8"
             ],
             [
              0.3333333333333333,
              "#9c179e"
             ],
             [
              0.4444444444444444,
              "#bd3786"
             ],
             [
              0.5555555555555556,
              "#d8576b"
             ],
             [
              0.6666666666666666,
              "#ed7953"
             ],
             [
              0.7777777777777778,
              "#fb9f3a"
             ],
             [
              0.8888888888888888,
              "#fdca26"
             ],
             [
              1,
              "#f0f921"
             ]
            ],
            "type": "histogram2dcontour"
           }
          ],
          "mesh3d": [
           {
            "colorbar": {
             "outlinewidth": 0,
             "ticks": ""
            },
            "type": "mesh3d"
           }
          ],
          "parcoords": [
           {
            "line": {
             "colorbar": {
              "outlinewidth": 0,
              "ticks": ""
             }
            },
            "type": "parcoords"
           }
          ],
          "pie": [
           {
            "automargin": true,
            "type": "pie"
           }
          ],
          "scatter": [
           {
            "fillpattern": {
             "fillmode": "overlay",
             "size": 10,
             "solidity": 0.2
            },
            "type": "scatter"
           }
          ],
          "scatter3d": [
           {
            "line": {
             "colorbar": {
              "outlinewidth": 0,
              "ticks": ""
             }
            },
            "marker": {
             "colorbar": {
              "outlinewidth": 0,
              "ticks": ""
             }
            },
            "type": "scatter3d"
           }
          ],
          "scattercarpet": [
           {
            "marker": {
             "colorbar": {
              "outlinewidth": 0,
              "ticks": ""
             }
            },
            "type": "scattercarpet"
           }
          ],
          "scattergeo": [
           {
            "marker": {
             "colorbar": {
              "outlinewidth": 0,
              "ticks": ""
             }
            },
            "type": "scattergeo"
           }
          ],
          "scattergl": [
           {
            "marker": {
             "colorbar": {
              "outlinewidth": 0,
              "ticks": ""
             }
            },
            "type": "scattergl"
           }
          ],
          "scattermapbox": [
           {
            "marker": {
             "colorbar": {
              "outlinewidth": 0,
              "ticks": ""
             }
            },
            "type": "scattermapbox"
           }
          ],
          "scatterpolar": [
           {
            "marker": {
             "colorbar": {
              "outlinewidth": 0,
              "ticks": ""
             }
            },
            "type": "scatterpolar"
           }
          ],
          "scatterpolargl": [
           {
            "marker": {
             "colorbar": {
              "outlinewidth": 0,
              "ticks": ""
             }
            },
            "type": "scatterpolargl"
           }
          ],
          "scatterternary": [
           {
            "marker": {
             "colorbar": {
              "outlinewidth": 0,
              "ticks": ""
             }
            },
            "type": "scatterternary"
           }
          ],
          "surface": [
           {
            "colorbar": {
             "outlinewidth": 0,
             "ticks": ""
            },
            "colorscale": [
             [
              0,
              "#0d0887"
             ],
             [
              0.1111111111111111,
              "#46039f"
             ],
             [
              0.2222222222222222,
              "#7201a8"
             ],
             [
              0.3333333333333333,
              "#9c179e"
             ],
             [
              0.4444444444444444,
              "#bd3786"
             ],
             [
              0.5555555555555556,
              "#d8576b"
             ],
             [
              0.6666666666666666,
              "#ed7953"
             ],
             [
              0.7777777777777778,
              "#fb9f3a"
             ],
             [
              0.8888888888888888,
              "#fdca26"
             ],
             [
              1,
              "#f0f921"
             ]
            ],
            "type": "surface"
           }
          ],
          "table": [
           {
            "cells": {
             "fill": {
              "color": "#EBF0F8"
             },
             "line": {
              "color": "white"
             }
            },
            "header": {
             "fill": {
              "color": "#C8D4E3"
             },
             "line": {
              "color": "white"
             }
            },
            "type": "table"
           }
          ]
         },
         "layout": {
          "annotationdefaults": {
           "arrowcolor": "#2a3f5f",
           "arrowhead": 0,
           "arrowwidth": 1
          },
          "autotypenumbers": "strict",
          "coloraxis": {
           "colorbar": {
            "outlinewidth": 0,
            "ticks": ""
           }
          },
          "colorscale": {
           "diverging": [
            [
             0,
             "#8e0152"
            ],
            [
             0.1,
             "#c51b7d"
            ],
            [
             0.2,
             "#de77ae"
            ],
            [
             0.3,
             "#f1b6da"
            ],
            [
             0.4,
             "#fde0ef"
            ],
            [
             0.5,
             "#f7f7f7"
            ],
            [
             0.6,
             "#e6f5d0"
            ],
            [
             0.7,
             "#b8e186"
            ],
            [
             0.8,
             "#7fbc41"
            ],
            [
             0.9,
             "#4d9221"
            ],
            [
             1,
             "#276419"
            ]
           ],
           "sequential": [
            [
             0,
             "#0d0887"
            ],
            [
             0.1111111111111111,
             "#46039f"
            ],
            [
             0.2222222222222222,
             "#7201a8"
            ],
            [
             0.3333333333333333,
             "#9c179e"
            ],
            [
             0.4444444444444444,
             "#bd3786"
            ],
            [
             0.5555555555555556,
             "#d8576b"
            ],
            [
             0.6666666666666666,
             "#ed7953"
            ],
            [
             0.7777777777777778,
             "#fb9f3a"
            ],
            [
             0.8888888888888888,
             "#fdca26"
            ],
            [
             1,
             "#f0f921"
            ]
           ],
           "sequentialminus": [
            [
             0,
             "#0d0887"
            ],
            [
             0.1111111111111111,
             "#46039f"
            ],
            [
             0.2222222222222222,
             "#7201a8"
            ],
            [
             0.3333333333333333,
             "#9c179e"
            ],
            [
             0.4444444444444444,
             "#bd3786"
            ],
            [
             0.5555555555555556,
             "#d8576b"
            ],
            [
             0.6666666666666666,
             "#ed7953"
            ],
            [
             0.7777777777777778,
             "#fb9f3a"
            ],
            [
             0.8888888888888888,
             "#fdca26"
            ],
            [
             1,
             "#f0f921"
            ]
           ]
          },
          "colorway": [
           "#636efa",
           "#EF553B",
           "#00cc96",
           "#ab63fa",
           "#FFA15A",
           "#19d3f3",
           "#FF6692",
           "#B6E880",
           "#FF97FF",
           "#FECB52"
          ],
          "font": {
           "color": "#2a3f5f"
          },
          "geo": {
           "bgcolor": "white",
           "lakecolor": "white",
           "landcolor": "#E5ECF6",
           "showlakes": true,
           "showland": true,
           "subunitcolor": "white"
          },
          "hoverlabel": {
           "align": "left"
          },
          "hovermode": "closest",
          "mapbox": {
           "style": "light"
          },
          "paper_bgcolor": "white",
          "plot_bgcolor": "#E5ECF6",
          "polar": {
           "angularaxis": {
            "gridcolor": "white",
            "linecolor": "white",
            "ticks": ""
           },
           "bgcolor": "#E5ECF6",
           "radialaxis": {
            "gridcolor": "white",
            "linecolor": "white",
            "ticks": ""
           }
          },
          "scene": {
           "xaxis": {
            "backgroundcolor": "#E5ECF6",
            "gridcolor": "white",
            "gridwidth": 2,
            "linecolor": "white",
            "showbackground": true,
            "ticks": "",
            "zerolinecolor": "white"
           },
           "yaxis": {
            "backgroundcolor": "#E5ECF6",
            "gridcolor": "white",
            "gridwidth": 2,
            "linecolor": "white",
            "showbackground": true,
            "ticks": "",
            "zerolinecolor": "white"
           },
           "zaxis": {
            "backgroundcolor": "#E5ECF6",
            "gridcolor": "white",
            "gridwidth": 2,
            "linecolor": "white",
            "showbackground": true,
            "ticks": "",
            "zerolinecolor": "white"
           }
          },
          "shapedefaults": {
           "line": {
            "color": "#2a3f5f"
           }
          },
          "ternary": {
           "aaxis": {
            "gridcolor": "white",
            "linecolor": "white",
            "ticks": ""
           },
           "baxis": {
            "gridcolor": "white",
            "linecolor": "white",
            "ticks": ""
           },
           "bgcolor": "#E5ECF6",
           "caxis": {
            "gridcolor": "white",
            "linecolor": "white",
            "ticks": ""
           }
          },
          "title": {
           "x": 0.05
          },
          "xaxis": {
           "automargin": true,
           "gridcolor": "white",
           "linecolor": "white",
           "ticks": "",
           "title": {
            "standoff": 15
           },
           "zerolinecolor": "white",
           "zerolinewidth": 2
          },
          "yaxis": {
           "automargin": true,
           "gridcolor": "white",
           "linecolor": "white",
           "ticks": "",
           "title": {
            "standoff": 15
           },
           "zerolinecolor": "white",
           "zerolinewidth": 2
          }
         }
        },
        "title": {
         "text": "Forecast Error vs Forecast Lead Time"
        },
        "xaxis": {
         "anchor": "y",
         "domain": [
          0,
          1
         ],
         "title": {
          "text": "Hours Ahead of Forecast"
         }
        },
        "yaxis": {
         "anchor": "x",
         "domain": [
          0,
          1
         ],
         "title": {
          "text": "Forecast Error (°F)"
         }
        }
       }
      }
     },
     "metadata": {},
     "output_type": "display_data"
    },
    {
     "name": "stdout",
     "output_type": "stream",
     "text": [
      "Analysis complete\n",
      "Mean absolute error: 1.83°F\n"
     ]
    }
   ],
   "source": [
    "# Run analysis and create visualization\n",
    "df_forecasts, df_observations, grouped_forecasts = process_data(forecasts, observations)\n",
    "print(f\"\\nProcessed {len(df_forecasts)} forecasts into {len(grouped_forecasts)} hourly groups\")\n",
    "\n",
    "df_accuracy = analyze_forecast_accuracy(df_forecasts, df_observations, grouped_forecasts)\n",
    "\n",
    "print(\"Analysis complete\")\n",
    "print(f\"Mean absolute error: {abs(df_accuracy['error']).mean():.2f}°F\")"
   ]
  },
  {
   "cell_type": "code",
   "execution_count": 8,
   "metadata": {},
   "outputs": [
    {
     "data": {
      "application/vnd.plotly.v1+json": {
       "config": {
        "plotlyServerURL": "https://plot.ly"
       },
       "data": [
        {
         "alignmentgroup": "True",
         "hovertemplate": "Hours Ahead of Forecast=%{x}<br>Forecast Error (°F)=%{y}<extra></extra>",
         "legendgroup": "",
         "marker": {
          "color": "#636efa"
         },
         "name": "",
         "notched": false,
         "offsetgroup": "",
         "orientation": "v",
         "showlegend": false,
         "type": "box",
         "x": [
          1,
          2,
          1,
          3,
          2,
          1,
          4,
          3,
          2,
          1,
          5,
          4,
          3,
          2,
          1,
          6,
          5,
          4,
          3,
          2,
          1,
          7,
          6,
          5,
          4,
          3,
          2,
          1,
          8,
          7,
          6,
          5,
          4,
          3,
          2,
          1,
          9,
          8,
          7,
          6,
          5,
          4,
          3,
          2,
          1,
          10,
          9,
          8,
          7,
          6,
          5,
          4,
          3,
          2,
          11,
          10,
          9,
          8,
          7,
          6,
          5,
          4,
          3,
          1,
          12,
          11,
          10,
          9,
          8,
          7,
          6,
          5,
          4,
          2,
          1,
          13,
          12,
          11,
          10,
          9,
          8,
          7,
          6,
          5,
          3,
          2,
          1,
          14,
          13,
          12,
          11,
          10,
          9,
          8,
          7,
          6,
          4,
          3,
          2,
          1,
          15,
          14,
          13,
          12,
          11,
          10,
          9,
          8,
          7,
          5,
          4,
          3,
          2,
          1,
          16,
          15,
          14,
          13,
          12,
          11,
          10,
          9,
          8,
          6,
          5,
          4,
          3,
          2,
          1,
          17,
          16,
          15,
          14,
          13,
          12,
          11,
          10,
          9,
          7,
          6,
          5,
          4,
          3,
          2,
          1,
          18,
          17,
          16,
          15,
          14,
          13,
          12,
          11,
          10,
          8,
          7,
          6,
          5,
          4,
          3,
          2,
          1,
          19,
          18,
          17,
          16,
          15,
          14,
          13,
          12,
          11,
          9,
          8,
          7,
          6,
          5,
          4,
          3,
          2,
          1,
          20,
          19,
          18,
          17,
          16,
          15,
          14,
          13,
          12,
          10,
          9,
          8,
          7,
          6,
          5,
          4,
          3,
          2,
          1,
          21,
          20,
          19,
          18,
          17,
          16,
          15,
          14,
          13,
          11,
          10,
          9,
          8,
          7,
          6,
          5,
          4,
          3,
          2,
          1,
          22,
          21,
          20,
          19,
          18,
          17,
          16,
          15,
          14,
          12,
          11,
          10,
          9,
          8,
          7,
          6,
          5,
          4,
          3,
          2,
          1,
          23,
          22,
          21,
          20,
          19,
          18,
          17,
          16,
          15,
          13,
          12,
          11,
          10,
          9,
          8,
          7,
          6,
          5,
          4,
          3,
          2,
          1
         ],
         "x0": " ",
         "xaxis": "x",
         "y": [
          1.9600000000000009,
          2.039999999999999,
          2.039999999999999,
          1.0399999999999991,
          1.0399999999999991,
          1.0399999999999991,
          0.03999999999999915,
          0.03999999999999915,
          0.03999999999999915,
          0.03999999999999915,
          -0.9600000000000009,
          -0.9600000000000009,
          -0.9600000000000009,
          -0.9600000000000009,
          -0.9600000000000009,
          -0.9600000000000009,
          -0.9600000000000009,
          -0.9600000000000009,
          -0.9600000000000009,
          -0.9600000000000009,
          -0.9600000000000009,
          -2.039999999999999,
          -2.039999999999999,
          -2.039999999999999,
          -2.039999999999999,
          -2.039999999999999,
          -2.039999999999999,
          -2.039999999999999,
          -3.039999999999999,
          -3.039999999999999,
          -3.039999999999999,
          -3.039999999999999,
          -3.039999999999999,
          -3.039999999999999,
          -3.039999999999999,
          -4.039999999999999,
          -8,
          -8,
          -8,
          -8,
          -8,
          -8,
          -8,
          -7,
          -7,
          -9,
          -9,
          -9,
          -9,
          -9,
          -9,
          -9,
          -6,
          -6,
          -7.079999999999998,
          -7.079999999999998,
          -7.079999999999998,
          -7.079999999999998,
          -7.079999999999998,
          -7.079999999999998,
          -7.079999999999998,
          -5.079999999999998,
          -5.079999999999998,
          -5.079999999999998,
          -5,
          -5,
          -5,
          -5,
          -5,
          -5,
          -5,
          -2,
          -2,
          -3,
          -3,
          -3,
          -3,
          -3,
          -3,
          -3,
          -3,
          -3,
          -1,
          -1,
          -1,
          -1,
          -1,
          0.0799999999999983,
          0.0799999999999983,
          0.0799999999999983,
          0.0799999999999983,
          0.0799999999999983,
          0.0799999999999983,
          0.0799999999999983,
          1.0799999999999983,
          1.0799999999999983,
          1.0799999999999983,
          1.0799999999999983,
          1.0799999999999983,
          1.0799999999999983,
          0.2599999999999909,
          0.2599999999999909,
          0.2599999999999909,
          0.2599999999999909,
          0.2599999999999909,
          0.2599999999999909,
          0.2599999999999909,
          1.259999999999991,
          1.259999999999991,
          1.259999999999991,
          1.259999999999991,
          1.259999999999991,
          1.259999999999991,
          1.259999999999991,
          1.5300000000000011,
          1.5300000000000011,
          1.5300000000000011,
          1.5300000000000011,
          1.5300000000000011,
          1.5300000000000011,
          1.5300000000000011,
          1.5300000000000011,
          1.5300000000000011,
          1.5300000000000011,
          1.5300000000000011,
          1.5300000000000011,
          1.5300000000000011,
          1.5300000000000011,
          1.5300000000000011,
          1.3799999999999955,
          1.3799999999999955,
          1.3799999999999955,
          1.3799999999999955,
          1.3799999999999955,
          1.3799999999999955,
          1.3799999999999955,
          1.3799999999999955,
          1.3799999999999955,
          1.3799999999999955,
          1.3799999999999955,
          1.3799999999999955,
          1.3799999999999955,
          1.3799999999999955,
          1.3799999999999955,
          1.3799999999999955,
          1.0799999999999983,
          1.0799999999999983,
          1.0799999999999983,
          1.0799999999999983,
          1.0799999999999983,
          1.0799999999999983,
          1.0799999999999983,
          1.0799999999999983,
          1.0799999999999983,
          1.0799999999999983,
          1.0799999999999983,
          1.0799999999999983,
          1.0799999999999983,
          1.0799999999999983,
          1.0799999999999983,
          1.0799999999999983,
          1.0799999999999983,
          0.2599999999999909,
          0.2599999999999909,
          0.2599999999999909,
          0.2599999999999909,
          0.2599999999999909,
          0.2599999999999909,
          0.2599999999999909,
          0.2599999999999909,
          0.2599999999999909,
          0.2599999999999909,
          0.2599999999999909,
          0.2599999999999909,
          0.2599999999999909,
          0.2599999999999909,
          0.2599999999999909,
          0.2599999999999909,
          1.259999999999991,
          1.259999999999991,
          0.0799999999999983,
          0.0799999999999983,
          0.0799999999999983,
          0.0799999999999983,
          0.0799999999999983,
          0.0799999999999983,
          0.0799999999999983,
          0.0799999999999983,
          0.0799999999999983,
          0.0799999999999983,
          0.0799999999999983,
          0.0799999999999983,
          0.0799999999999983,
          0.0799999999999983,
          0.0799999999999983,
          0.0799999999999983,
          1.0799999999999983,
          1.0799999999999983,
          1.0799999999999983,
          0.0799999999999983,
          0.0799999999999983,
          0.0799999999999983,
          0.0799999999999983,
          0.0799999999999983,
          0.0799999999999983,
          0.0799999999999983,
          0.0799999999999983,
          0.0799999999999983,
          0.0799999999999983,
          0.0799999999999983,
          0.0799999999999983,
          0.0799999999999983,
          0.0799999999999983,
          0.0799999999999983,
          0.0799999999999983,
          1.0799999999999983,
          1.0799999999999983,
          1.0799999999999983,
          -0.9200000000000017,
          -0.9199999999999946,
          -0.9199999999999946,
          -0.9199999999999946,
          -0.9199999999999946,
          -0.9199999999999946,
          -0.9199999999999946,
          -0.9199999999999946,
          -0.9199999999999946,
          -0.9199999999999946,
          -0.9199999999999946,
          -0.9199999999999946,
          -0.9199999999999946,
          -0.9199999999999946,
          -0.9199999999999946,
          -0.9199999999999946,
          -0.9199999999999946,
          1.0800000000000054,
          1.0800000000000054,
          1.0800000000000054,
          -0.9199999999999946,
          -0.9199999999999946,
          -0.9200000000000017,
          -0.9200000000000017,
          -0.9200000000000017,
          -0.9200000000000017,
          -0.9200000000000017,
          -0.9200000000000017,
          -0.9200000000000017,
          -0.9200000000000017,
          -0.9200000000000017,
          -0.9200000000000017,
          -0.9200000000000017,
          -0.9200000000000017,
          -0.9200000000000017,
          -0.9200000000000017,
          -0.9200000000000017,
          -0.9200000000000017,
          0.0799999999999983,
          0.0799999999999983,
          0.0799999999999983,
          -1.9200000000000017,
          -1.9200000000000017,
          -1.9200000000000017
         ],
         "y0": " ",
         "yaxis": "y"
        }
       ],
       "layout": {
        "boxmode": "group",
        "legend": {
         "tracegroupgap": 0
        },
        "template": {
         "data": {
          "bar": [
           {
            "error_x": {
             "color": "#2a3f5f"
            },
            "error_y": {
             "color": "#2a3f5f"
            },
            "marker": {
             "line": {
              "color": "#E5ECF6",
              "width": 0.5
             },
             "pattern": {
              "fillmode": "overlay",
              "size": 10,
              "solidity": 0.2
             }
            },
            "type": "bar"
           }
          ],
          "barpolar": [
           {
            "marker": {
             "line": {
              "color": "#E5ECF6",
              "width": 0.5
             },
             "pattern": {
              "fillmode": "overlay",
              "size": 10,
              "solidity": 0.2
             }
            },
            "type": "barpolar"
           }
          ],
          "carpet": [
           {
            "aaxis": {
             "endlinecolor": "#2a3f5f",
             "gridcolor": "white",
             "linecolor": "white",
             "minorgridcolor": "white",
             "startlinecolor": "#2a3f5f"
            },
            "baxis": {
             "endlinecolor": "#2a3f5f",
             "gridcolor": "white",
             "linecolor": "white",
             "minorgridcolor": "white",
             "startlinecolor": "#2a3f5f"
            },
            "type": "carpet"
           }
          ],
          "choropleth": [
           {
            "colorbar": {
             "outlinewidth": 0,
             "ticks": ""
            },
            "type": "choropleth"
           }
          ],
          "contour": [
           {
            "colorbar": {
             "outlinewidth": 0,
             "ticks": ""
            },
            "colorscale": [
             [
              0,
              "#0d0887"
             ],
             [
              0.1111111111111111,
              "#46039f"
             ],
             [
              0.2222222222222222,
              "#7201a8"
             ],
             [
              0.3333333333333333,
              "#9c179e"
             ],
             [
              0.4444444444444444,
              "#bd3786"
             ],
             [
              0.5555555555555556,
              "#d8576b"
             ],
             [
              0.6666666666666666,
              "#ed7953"
             ],
             [
              0.7777777777777778,
              "#fb9f3a"
             ],
             [
              0.8888888888888888,
              "#fdca26"
             ],
             [
              1,
              "#f0f921"
             ]
            ],
            "type": "contour"
           }
          ],
          "contourcarpet": [
           {
            "colorbar": {
             "outlinewidth": 0,
             "ticks": ""
            },
            "type": "contourcarpet"
           }
          ],
          "heatmap": [
           {
            "colorbar": {
             "outlinewidth": 0,
             "ticks": ""
            },
            "colorscale": [
             [
              0,
              "#0d0887"
             ],
             [
              0.1111111111111111,
              "#46039f"
             ],
             [
              0.2222222222222222,
              "#7201a8"
             ],
             [
              0.3333333333333333,
              "#9c179e"
             ],
             [
              0.4444444444444444,
              "#bd3786"
             ],
             [
              0.5555555555555556,
              "#d8576b"
             ],
             [
              0.6666666666666666,
              "#ed7953"
             ],
             [
              0.7777777777777778,
              "#fb9f3a"
             ],
             [
              0.8888888888888888,
              "#fdca26"
             ],
             [
              1,
              "#f0f921"
             ]
            ],
            "type": "heatmap"
           }
          ],
          "heatmapgl": [
           {
            "colorbar": {
             "outlinewidth": 0,
             "ticks": ""
            },
            "colorscale": [
             [
              0,
              "#0d0887"
             ],
             [
              0.1111111111111111,
              "#46039f"
             ],
             [
              0.2222222222222222,
              "#7201a8"
             ],
             [
              0.3333333333333333,
              "#9c179e"
             ],
             [
              0.4444444444444444,
              "#bd3786"
             ],
             [
              0.5555555555555556,
              "#d8576b"
             ],
             [
              0.6666666666666666,
              "#ed7953"
             ],
             [
              0.7777777777777778,
              "#fb9f3a"
             ],
             [
              0.8888888888888888,
              "#fdca26"
             ],
             [
              1,
              "#f0f921"
             ]
            ],
            "type": "heatmapgl"
           }
          ],
          "histogram": [
           {
            "marker": {
             "pattern": {
              "fillmode": "overlay",
              "size": 10,
              "solidity": 0.2
             }
            },
            "type": "histogram"
           }
          ],
          "histogram2d": [
           {
            "colorbar": {
             "outlinewidth": 0,
             "ticks": ""
            },
            "colorscale": [
             [
              0,
              "#0d0887"
             ],
             [
              0.1111111111111111,
              "#46039f"
             ],
             [
              0.2222222222222222,
              "#7201a8"
             ],
             [
              0.3333333333333333,
              "#9c179e"
             ],
             [
              0.4444444444444444,
              "#bd3786"
             ],
             [
              0.5555555555555556,
              "#d8576b"
             ],
             [
              0.6666666666666666,
              "#ed7953"
             ],
             [
              0.7777777777777778,
              "#fb9f3a"
             ],
             [
              0.8888888888888888,
              "#fdca26"
             ],
             [
              1,
              "#f0f921"
             ]
            ],
            "type": "histogram2d"
           }
          ],
          "histogram2dcontour": [
           {
            "colorbar": {
             "outlinewidth": 0,
             "ticks": ""
            },
            "colorscale": [
             [
              0,
              "#0d0887"
             ],
             [
              0.1111111111111111,
              "#46039f"
             ],
             [
              0.2222222222222222,
              "#7201a8"
             ],
             [
              0.3333333333333333,
              "#9c179e"
             ],
             [
              0.4444444444444444,
              "#bd3786"
             ],
             [
              0.5555555555555556,
              "#d8576b"
             ],
             [
              0.6666666666666666,
              "#ed7953"
             ],
             [
              0.7777777777777778,
              "#fb9f3a"
             ],
             [
              0.8888888888888888,
              "#fdca26"
             ],
             [
              1,
              "#f0f921"
             ]
            ],
            "type": "histogram2dcontour"
           }
          ],
          "mesh3d": [
           {
            "colorbar": {
             "outlinewidth": 0,
             "ticks": ""
            },
            "type": "mesh3d"
           }
          ],
          "parcoords": [
           {
            "line": {
             "colorbar": {
              "outlinewidth": 0,
              "ticks": ""
             }
            },
            "type": "parcoords"
           }
          ],
          "pie": [
           {
            "automargin": true,
            "type": "pie"
           }
          ],
          "scatter": [
           {
            "fillpattern": {
             "fillmode": "overlay",
             "size": 10,
             "solidity": 0.2
            },
            "type": "scatter"
           }
          ],
          "scatter3d": [
           {
            "line": {
             "colorbar": {
              "outlinewidth": 0,
              "ticks": ""
             }
            },
            "marker": {
             "colorbar": {
              "outlinewidth": 0,
              "ticks": ""
             }
            },
            "type": "scatter3d"
           }
          ],
          "scattercarpet": [
           {
            "marker": {
             "colorbar": {
              "outlinewidth": 0,
              "ticks": ""
             }
            },
            "type": "scattercarpet"
           }
          ],
          "scattergeo": [
           {
            "marker": {
             "colorbar": {
              "outlinewidth": 0,
              "ticks": ""
             }
            },
            "type": "scattergeo"
           }
          ],
          "scattergl": [
           {
            "marker": {
             "colorbar": {
              "outlinewidth": 0,
              "ticks": ""
             }
            },
            "type": "scattergl"
           }
          ],
          "scattermapbox": [
           {
            "marker": {
             "colorbar": {
              "outlinewidth": 0,
              "ticks": ""
             }
            },
            "type": "scattermapbox"
           }
          ],
          "scatterpolar": [
           {
            "marker": {
             "colorbar": {
              "outlinewidth": 0,
              "ticks": ""
             }
            },
            "type": "scatterpolar"
           }
          ],
          "scatterpolargl": [
           {
            "marker": {
             "colorbar": {
              "outlinewidth": 0,
              "ticks": ""
             }
            },
            "type": "scatterpolargl"
           }
          ],
          "scatterternary": [
           {
            "marker": {
             "colorbar": {
              "outlinewidth": 0,
              "ticks": ""
             }
            },
            "type": "scatterternary"
           }
          ],
          "surface": [
           {
            "colorbar": {
             "outlinewidth": 0,
             "ticks": ""
            },
            "colorscale": [
             [
              0,
              "#0d0887"
             ],
             [
              0.1111111111111111,
              "#46039f"
             ],
             [
              0.2222222222222222,
              "#7201a8"
             ],
             [
              0.3333333333333333,
              "#9c179e"
             ],
             [
              0.4444444444444444,
              "#bd3786"
             ],
             [
              0.5555555555555556,
              "#d8576b"
             ],
             [
              0.6666666666666666,
              "#ed7953"
             ],
             [
              0.7777777777777778,
              "#fb9f3a"
             ],
             [
              0.8888888888888888,
              "#fdca26"
             ],
             [
              1,
              "#f0f921"
             ]
            ],
            "type": "surface"
           }
          ],
          "table": [
           {
            "cells": {
             "fill": {
              "color": "#EBF0F8"
             },
             "line": {
              "color": "white"
             }
            },
            "header": {
             "fill": {
              "color": "#C8D4E3"
             },
             "line": {
              "color": "white"
             }
            },
            "type": "table"
           }
          ]
         },
         "layout": {
          "annotationdefaults": {
           "arrowcolor": "#2a3f5f",
           "arrowhead": 0,
           "arrowwidth": 1
          },
          "autotypenumbers": "strict",
          "coloraxis": {
           "colorbar": {
            "outlinewidth": 0,
            "ticks": ""
           }
          },
          "colorscale": {
           "diverging": [
            [
             0,
             "#8e0152"
            ],
            [
             0.1,
             "#c51b7d"
            ],
            [
             0.2,
             "#de77ae"
            ],
            [
             0.3,
             "#f1b6da"
            ],
            [
             0.4,
             "#fde0ef"
            ],
            [
             0.5,
             "#f7f7f7"
            ],
            [
             0.6,
             "#e6f5d0"
            ],
            [
             0.7,
             "#b8e186"
            ],
            [
             0.8,
             "#7fbc41"
            ],
            [
             0.9,
             "#4d9221"
            ],
            [
             1,
             "#276419"
            ]
           ],
           "sequential": [
            [
             0,
             "#0d0887"
            ],
            [
             0.1111111111111111,
             "#46039f"
            ],
            [
             0.2222222222222222,
             "#7201a8"
            ],
            [
             0.3333333333333333,
             "#9c179e"
            ],
            [
             0.4444444444444444,
             "#bd3786"
            ],
            [
             0.5555555555555556,
             "#d8576b"
            ],
            [
             0.6666666666666666,
             "#ed7953"
            ],
            [
             0.7777777777777778,
             "#fb9f3a"
            ],
            [
             0.8888888888888888,
             "#fdca26"
            ],
            [
             1,
             "#f0f921"
            ]
           ],
           "sequentialminus": [
            [
             0,
             "#0d0887"
            ],
            [
             0.1111111111111111,
             "#46039f"
            ],
            [
             0.2222222222222222,
             "#7201a8"
            ],
            [
             0.3333333333333333,
             "#9c179e"
            ],
            [
             0.4444444444444444,
             "#bd3786"
            ],
            [
             0.5555555555555556,
             "#d8576b"
            ],
            [
             0.6666666666666666,
             "#ed7953"
            ],
            [
             0.7777777777777778,
             "#fb9f3a"
            ],
            [
             0.8888888888888888,
             "#fdca26"
            ],
            [
             1,
             "#f0f921"
            ]
           ]
          },
          "colorway": [
           "#636efa",
           "#EF553B",
           "#00cc96",
           "#ab63fa",
           "#FFA15A",
           "#19d3f3",
           "#FF6692",
           "#B6E880",
           "#FF97FF",
           "#FECB52"
          ],
          "font": {
           "color": "#2a3f5f"
          },
          "geo": {
           "bgcolor": "white",
           "lakecolor": "white",
           "landcolor": "#E5ECF6",
           "showlakes": true,
           "showland": true,
           "subunitcolor": "white"
          },
          "hoverlabel": {
           "align": "left"
          },
          "hovermode": "closest",
          "mapbox": {
           "style": "light"
          },
          "paper_bgcolor": "white",
          "plot_bgcolor": "#E5ECF6",
          "polar": {
           "angularaxis": {
            "gridcolor": "white",
            "linecolor": "white",
            "ticks": ""
           },
           "bgcolor": "#E5ECF6",
           "radialaxis": {
            "gridcolor": "white",
            "linecolor": "white",
            "ticks": ""
           }
          },
          "scene": {
           "xaxis": {
            "backgroundcolor": "#E5ECF6",
            "gridcolor": "white",
            "gridwidth": 2,
            "linecolor": "white",
            "showbackground": true,
            "ticks": "",
            "zerolinecolor": "white"
           },
           "yaxis": {
            "backgroundcolor": "#E5ECF6",
            "gridcolor": "white",
            "gridwidth": 2,
            "linecolor": "white",
            "showbackground": true,
            "ticks": "",
            "zerolinecolor": "white"
           },
           "zaxis": {
            "backgroundcolor": "#E5ECF6",
            "gridcolor": "white",
            "gridwidth": 2,
            "linecolor": "white",
            "showbackground": true,
            "ticks": "",
            "zerolinecolor": "white"
           }
          },
          "shapedefaults": {
           "line": {
            "color": "#2a3f5f"
           }
          },
          "ternary": {
           "aaxis": {
            "gridcolor": "white",
            "linecolor": "white",
            "ticks": ""
           },
           "baxis": {
            "gridcolor": "white",
            "linecolor": "white",
            "ticks": ""
           },
           "bgcolor": "#E5ECF6",
           "caxis": {
            "gridcolor": "white",
            "linecolor": "white",
            "ticks": ""
           }
          },
          "title": {
           "x": 0.05
          },
          "xaxis": {
           "automargin": true,
           "gridcolor": "white",
           "linecolor": "white",
           "ticks": "",
           "title": {
            "standoff": 15
           },
           "zerolinecolor": "white",
           "zerolinewidth": 2
          },
          "yaxis": {
           "automargin": true,
           "gridcolor": "white",
           "linecolor": "white",
           "ticks": "",
           "title": {
            "standoff": 15
           },
           "zerolinecolor": "white",
           "zerolinewidth": 2
          }
         }
        },
        "title": {
         "text": "Distribution of Forecast Errors by Lead Time"
        },
        "xaxis": {
         "anchor": "y",
         "domain": [
          0,
          1
         ],
         "title": {
          "text": "Hours Ahead of Forecast"
         }
        },
        "yaxis": {
         "anchor": "x",
         "domain": [
          0,
          1
         ],
         "title": {
          "text": "Forecast Error (°F)"
         }
        }
       }
      }
     },
     "metadata": {},
     "output_type": "display_data"
    },
    {
     "data": {
      "application/vnd.plotly.v1+json": {
       "config": {
        "plotlyServerURL": "https://plot.ly"
       },
       "data": [
        {
         "alignmentgroup": "True",
         "hovertemplate": "Hour of Day (EST)=%{x}<br>Mean Absolute Error (°F)=%{y}<extra></extra>",
         "legendgroup": "",
         "marker": {
          "color": "#636efa",
          "pattern": {
           "shape": ""
          }
         },
         "name": "",
         "offsetgroup": "",
         "orientation": "v",
         "showlegend": false,
         "textposition": "auto",
         "type": "bar",
         "x": [
          0,
          1,
          2,
          3,
          4,
          5,
          6,
          7,
          8,
          9,
          10,
          11,
          12,
          13,
          14,
          15,
          16,
          17,
          18,
          19,
          20,
          21,
          22
         ],
         "xaxis": "x",
         "y": [
          1.9600000000000009,
          2.039999999999999,
          1.0399999999999991,
          0.03999999999999915,
          0.9600000000000009,
          0.9600000000000009,
          2.039999999999999,
          3.164999999999999,
          7.777777777777778,
          8.333333333333334,
          6.479999999999999,
          4.090909090909091,
          2.1666666666666665,
          0.5415384615384599,
          0.7599999999999909,
          1.5300000000000011,
          1.3799999999999955,
          1.0799999999999983,
          0.371111111111102,
          0.23789473684210355,
          0.27199999999999847,
          0.942857142857139,
          0.9418181818181831
         ],
         "yaxis": "y"
        }
       ],
       "layout": {
        "barmode": "relative",
        "legend": {
         "tracegroupgap": 0
        },
        "template": {
         "data": {
          "bar": [
           {
            "error_x": {
             "color": "#2a3f5f"
            },
            "error_y": {
             "color": "#2a3f5f"
            },
            "marker": {
             "line": {
              "color": "#E5ECF6",
              "width": 0.5
             },
             "pattern": {
              "fillmode": "overlay",
              "size": 10,
              "solidity": 0.2
             }
            },
            "type": "bar"
           }
          ],
          "barpolar": [
           {
            "marker": {
             "line": {
              "color": "#E5ECF6",
              "width": 0.5
             },
             "pattern": {
              "fillmode": "overlay",
              "size": 10,
              "solidity": 0.2
             }
            },
            "type": "barpolar"
           }
          ],
          "carpet": [
           {
            "aaxis": {
             "endlinecolor": "#2a3f5f",
             "gridcolor": "white",
             "linecolor": "white",
             "minorgridcolor": "white",
             "startlinecolor": "#2a3f5f"
            },
            "baxis": {
             "endlinecolor": "#2a3f5f",
             "gridcolor": "white",
             "linecolor": "white",
             "minorgridcolor": "white",
             "startlinecolor": "#2a3f5f"
            },
            "type": "carpet"
           }
          ],
          "choropleth": [
           {
            "colorbar": {
             "outlinewidth": 0,
             "ticks": ""
            },
            "type": "choropleth"
           }
          ],
          "contour": [
           {
            "colorbar": {
             "outlinewidth": 0,
             "ticks": ""
            },
            "colorscale": [
             [
              0,
              "#0d0887"
             ],
             [
              0.1111111111111111,
              "#46039f"
             ],
             [
              0.2222222222222222,
              "#7201a8"
             ],
             [
              0.3333333333333333,
              "#9c179e"
             ],
             [
              0.4444444444444444,
              "#bd3786"
             ],
             [
              0.5555555555555556,
              "#d8576b"
             ],
             [
              0.6666666666666666,
              "#ed7953"
             ],
             [
              0.7777777777777778,
              "#fb9f3a"
             ],
             [
              0.8888888888888888,
              "#fdca26"
             ],
             [
              1,
              "#f0f921"
             ]
            ],
            "type": "contour"
           }
          ],
          "contourcarpet": [
           {
            "colorbar": {
             "outlinewidth": 0,
             "ticks": ""
            },
            "type": "contourcarpet"
           }
          ],
          "heatmap": [
           {
            "colorbar": {
             "outlinewidth": 0,
             "ticks": ""
            },
            "colorscale": [
             [
              0,
              "#0d0887"
             ],
             [
              0.1111111111111111,
              "#46039f"
             ],
             [
              0.2222222222222222,
              "#7201a8"
             ],
             [
              0.3333333333333333,
              "#9c179e"
             ],
             [
              0.4444444444444444,
              "#bd3786"
             ],
             [
              0.5555555555555556,
              "#d8576b"
             ],
             [
              0.6666666666666666,
              "#ed7953"
             ],
             [
              0.7777777777777778,
              "#fb9f3a"
             ],
             [
              0.8888888888888888,
              "#fdca26"
             ],
             [
              1,
              "#f0f921"
             ]
            ],
            "type": "heatmap"
           }
          ],
          "heatmapgl": [
           {
            "colorbar": {
             "outlinewidth": 0,
             "ticks": ""
            },
            "colorscale": [
             [
              0,
              "#0d0887"
             ],
             [
              0.1111111111111111,
              "#46039f"
             ],
             [
              0.2222222222222222,
              "#7201a8"
             ],
             [
              0.3333333333333333,
              "#9c179e"
             ],
             [
              0.4444444444444444,
              "#bd3786"
             ],
             [
              0.5555555555555556,
              "#d8576b"
             ],
             [
              0.6666666666666666,
              "#ed7953"
             ],
             [
              0.7777777777777778,
              "#fb9f3a"
             ],
             [
              0.8888888888888888,
              "#fdca26"
             ],
             [
              1,
              "#f0f921"
             ]
            ],
            "type": "heatmapgl"
           }
          ],
          "histogram": [
           {
            "marker": {
             "pattern": {
              "fillmode": "overlay",
              "size": 10,
              "solidity": 0.2
             }
            },
            "type": "histogram"
           }
          ],
          "histogram2d": [
           {
            "colorbar": {
             "outlinewidth": 0,
             "ticks": ""
            },
            "colorscale": [
             [
              0,
              "#0d0887"
             ],
             [
              0.1111111111111111,
              "#46039f"
             ],
             [
              0.2222222222222222,
              "#7201a8"
             ],
             [
              0.3333333333333333,
              "#9c179e"
             ],
             [
              0.4444444444444444,
              "#bd3786"
             ],
             [
              0.5555555555555556,
              "#d8576b"
             ],
             [
              0.6666666666666666,
              "#ed7953"
             ],
             [
              0.7777777777777778,
              "#fb9f3a"
             ],
             [
              0.8888888888888888,
              "#fdca26"
             ],
             [
              1,
              "#f0f921"
             ]
            ],
            "type": "histogram2d"
           }
          ],
          "histogram2dcontour": [
           {
            "colorbar": {
             "outlinewidth": 0,
             "ticks": ""
            },
            "colorscale": [
             [
              0,
              "#0d0887"
             ],
             [
              0.1111111111111111,
              "#46039f"
             ],
             [
              0.2222222222222222,
              "#7201a8"
             ],
             [
              0.3333333333333333,
              "#9c179e"
             ],
             [
              0.4444444444444444,
              "#bd3786"
             ],
             [
              0.5555555555555556,
              "#d8576b"
             ],
             [
              0.6666666666666666,
              "#ed7953"
             ],
             [
              0.7777777777777778,
              "#fb9f3a"
             ],
             [
              0.8888888888888888,
              "#fdca26"
             ],
             [
              1,
              "#f0f921"
             ]
            ],
            "type": "histogram2dcontour"
           }
          ],
          "mesh3d": [
           {
            "colorbar": {
             "outlinewidth": 0,
             "ticks": ""
            },
            "type": "mesh3d"
           }
          ],
          "parcoords": [
           {
            "line": {
             "colorbar": {
              "outlinewidth": 0,
              "ticks": ""
             }
            },
            "type": "parcoords"
           }
          ],
          "pie": [
           {
            "automargin": true,
            "type": "pie"
           }
          ],
          "scatter": [
           {
            "fillpattern": {
             "fillmode": "overlay",
             "size": 10,
             "solidity": 0.2
            },
            "type": "scatter"
           }
          ],
          "scatter3d": [
           {
            "line": {
             "colorbar": {
              "outlinewidth": 0,
              "ticks": ""
             }
            },
            "marker": {
             "colorbar": {
              "outlinewidth": 0,
              "ticks": ""
             }
            },
            "type": "scatter3d"
           }
          ],
          "scattercarpet": [
           {
            "marker": {
             "colorbar": {
              "outlinewidth": 0,
              "ticks": ""
             }
            },
            "type": "scattercarpet"
           }
          ],
          "scattergeo": [
           {
            "marker": {
             "colorbar": {
              "outlinewidth": 0,
              "ticks": ""
             }
            },
            "type": "scattergeo"
           }
          ],
          "scattergl": [
           {
            "marker": {
             "colorbar": {
              "outlinewidth": 0,
              "ticks": ""
             }
            },
            "type": "scattergl"
           }
          ],
          "scattermapbox": [
           {
            "marker": {
             "colorbar": {
              "outlinewidth": 0,
              "ticks": ""
             }
            },
            "type": "scattermapbox"
           }
          ],
          "scatterpolar": [
           {
            "marker": {
             "colorbar": {
              "outlinewidth": 0,
              "ticks": ""
             }
            },
            "type": "scatterpolar"
           }
          ],
          "scatterpolargl": [
           {
            "marker": {
             "colorbar": {
              "outlinewidth": 0,
              "ticks": ""
             }
            },
            "type": "scatterpolargl"
           }
          ],
          "scatterternary": [
           {
            "marker": {
             "colorbar": {
              "outlinewidth": 0,
              "ticks": ""
             }
            },
            "type": "scatterternary"
           }
          ],
          "surface": [
           {
            "colorbar": {
             "outlinewidth": 0,
             "ticks": ""
            },
            "colorscale": [
             [
              0,
              "#0d0887"
             ],
             [
              0.1111111111111111,
              "#46039f"
             ],
             [
              0.2222222222222222,
              "#7201a8"
             ],
             [
              0.3333333333333333,
              "#9c179e"
             ],
             [
              0.4444444444444444,
              "#bd3786"
             ],
             [
              0.5555555555555556,
              "#d8576b"
             ],
             [
              0.6666666666666666,
              "#ed7953"
             ],
             [
              0.7777777777777778,
              "#fb9f3a"
             ],
             [
              0.8888888888888888,
              "#fdca26"
             ],
             [
              1,
              "#f0f921"
             ]
            ],
            "type": "surface"
           }
          ],
          "table": [
           {
            "cells": {
             "fill": {
              "color": "#EBF0F8"
             },
             "line": {
              "color": "white"
             }
            },
            "header": {
             "fill": {
              "color": "#C8D4E3"
             },
             "line": {
              "color": "white"
             }
            },
            "type": "table"
           }
          ]
         },
         "layout": {
          "annotationdefaults": {
           "arrowcolor": "#2a3f5f",
           "arrowhead": 0,
           "arrowwidth": 1
          },
          "autotypenumbers": "strict",
          "coloraxis": {
           "colorbar": {
            "outlinewidth": 0,
            "ticks": ""
           }
          },
          "colorscale": {
           "diverging": [
            [
             0,
             "#8e0152"
            ],
            [
             0.1,
             "#c51b7d"
            ],
            [
             0.2,
             "#de77ae"
            ],
            [
             0.3,
             "#f1b6da"
            ],
            [
             0.4,
             "#fde0ef"
            ],
            [
             0.5,
             "#f7f7f7"
            ],
            [
             0.6,
             "#e6f5d0"
            ],
            [
             0.7,
             "#b8e186"
            ],
            [
             0.8,
             "#7fbc41"
            ],
            [
             0.9,
             "#4d9221"
            ],
            [
             1,
             "#276419"
            ]
           ],
           "sequential": [
            [
             0,
             "#0d0887"
            ],
            [
             0.1111111111111111,
             "#46039f"
            ],
            [
             0.2222222222222222,
             "#7201a8"
            ],
            [
             0.3333333333333333,
             "#9c179e"
            ],
            [
             0.4444444444444444,
             "#bd3786"
            ],
            [
             0.5555555555555556,
             "#d8576b"
            ],
            [
             0.6666666666666666,
             "#ed7953"
            ],
            [
             0.7777777777777778,
             "#fb9f3a"
            ],
            [
             0.8888888888888888,
             "#fdca26"
            ],
            [
             1,
             "#f0f921"
            ]
           ],
           "sequentialminus": [
            [
             0,
             "#0d0887"
            ],
            [
             0.1111111111111111,
             "#46039f"
            ],
            [
             0.2222222222222222,
             "#7201a8"
            ],
            [
             0.3333333333333333,
             "#9c179e"
            ],
            [
             0.4444444444444444,
             "#bd3786"
            ],
            [
             0.5555555555555556,
             "#d8576b"
            ],
            [
             0.6666666666666666,
             "#ed7953"
            ],
            [
             0.7777777777777778,
             "#fb9f3a"
            ],
            [
             0.8888888888888888,
             "#fdca26"
            ],
            [
             1,
             "#f0f921"
            ]
           ]
          },
          "colorway": [
           "#636efa",
           "#EF553B",
           "#00cc96",
           "#ab63fa",
           "#FFA15A",
           "#19d3f3",
           "#FF6692",
           "#B6E880",
           "#FF97FF",
           "#FECB52"
          ],
          "font": {
           "color": "#2a3f5f"
          },
          "geo": {
           "bgcolor": "white",
           "lakecolor": "white",
           "landcolor": "#E5ECF6",
           "showlakes": true,
           "showland": true,
           "subunitcolor": "white"
          },
          "hoverlabel": {
           "align": "left"
          },
          "hovermode": "closest",
          "mapbox": {
           "style": "light"
          },
          "paper_bgcolor": "white",
          "plot_bgcolor": "#E5ECF6",
          "polar": {
           "angularaxis": {
            "gridcolor": "white",
            "linecolor": "white",
            "ticks": ""
           },
           "bgcolor": "#E5ECF6",
           "radialaxis": {
            "gridcolor": "white",
            "linecolor": "white",
            "ticks": ""
           }
          },
          "scene": {
           "xaxis": {
            "backgroundcolor": "#E5ECF6",
            "gridcolor": "white",
            "gridwidth": 2,
            "linecolor": "white",
            "showbackground": true,
            "ticks": "",
            "zerolinecolor": "white"
           },
           "yaxis": {
            "backgroundcolor": "#E5ECF6",
            "gridcolor": "white",
            "gridwidth": 2,
            "linecolor": "white",
            "showbackground": true,
            "ticks": "",
            "zerolinecolor": "white"
           },
           "zaxis": {
            "backgroundcolor": "#E5ECF6",
            "gridcolor": "white",
            "gridwidth": 2,
            "linecolor": "white",
            "showbackground": true,
            "ticks": "",
            "zerolinecolor": "white"
           }
          },
          "shapedefaults": {
           "line": {
            "color": "#2a3f5f"
           }
          },
          "ternary": {
           "aaxis": {
            "gridcolor": "white",
            "linecolor": "white",
            "ticks": ""
           },
           "baxis": {
            "gridcolor": "white",
            "linecolor": "white",
            "ticks": ""
           },
           "bgcolor": "#E5ECF6",
           "caxis": {
            "gridcolor": "white",
            "linecolor": "white",
            "ticks": ""
           }
          },
          "title": {
           "x": 0.05
          },
          "xaxis": {
           "automargin": true,
           "gridcolor": "white",
           "linecolor": "white",
           "ticks": "",
           "title": {
            "standoff": 15
           },
           "zerolinecolor": "white",
           "zerolinewidth": 2
          },
          "yaxis": {
           "automargin": true,
           "gridcolor": "white",
           "linecolor": "white",
           "ticks": "",
           "title": {
            "standoff": 15
           },
           "zerolinecolor": "white",
           "zerolinewidth": 2
          }
         }
        },
        "title": {
         "text": "Average Forecast Error by Hour of Day (EST)"
        },
        "xaxis": {
         "anchor": "y",
         "domain": [
          0,
          1
         ],
         "title": {
          "text": "Hour of Day (EST)"
         }
        },
        "yaxis": {
         "anchor": "x",
         "domain": [
          0,
          1
         ],
         "title": {
          "text": "Mean Absolute Error (°F)"
         }
        }
       }
      }
     },
     "metadata": {},
     "output_type": "display_data"
    },
    {
     "data": {
      "application/vnd.plotly.v1+json": {
       "config": {
        "plotlyServerURL": "https://plot.ly"
       },
       "data": [
        {
         "coloraxis": "coloraxis",
         "hovertemplate": "Hours Ahead: %{x}<br>Hour of Day (EST): %{y}<br>Mean Absolute Error (°F): %{z}<extra></extra>",
         "name": "0",
         "type": "heatmap",
         "x": [
          1,
          2,
          3,
          4,
          5,
          6,
          7,
          8,
          9,
          10,
          11,
          12,
          13,
          14,
          15,
          16,
          17,
          18,
          19,
          20,
          21,
          22,
          23
         ],
         "xaxis": "x",
         "y": [
          0,
          1,
          2,
          3,
          4,
          5,
          6,
          7,
          8,
          9,
          10,
          11,
          12,
          13,
          14,
          15,
          16,
          17,
          18,
          19,
          20,
          21,
          22
         ],
         "yaxis": "y",
         "z": [
          [
           1.9600000000000009,
           null,
           null,
           null,
           null,
           null,
           null,
           null,
           null,
           null,
           null,
           null,
           null,
           null,
           null,
           null,
           null,
           null,
           null,
           null,
           null,
           null,
           null
          ],
          [
           2.039999999999999,
           2.039999999999999,
           null,
           null,
           null,
           null,
           null,
           null,
           null,
           null,
           null,
           null,
           null,
           null,
           null,
           null,
           null,
           null,
           null,
           null,
           null,
           null,
           null
          ],
          [
           1.0399999999999991,
           1.0399999999999991,
           1.0399999999999991,
           null,
           null,
           null,
           null,
           null,
           null,
           null,
           null,
           null,
           null,
           null,
           null,
           null,
           null,
           null,
           null,
           null,
           null,
           null,
           null
          ],
          [
           0.03999999999999915,
           0.03999999999999915,
           0.03999999999999915,
           0.03999999999999915,
           null,
           null,
           null,
           null,
           null,
           null,
           null,
           null,
           null,
           null,
           null,
           null,
           null,
           null,
           null,
           null,
           null,
           null,
           null
          ],
          [
           0.9600000000000009,
           0.9600000000000009,
           0.9600000000000009,
           0.9600000000000009,
           0.9600000000000009,
           null,
           null,
           null,
           null,
           null,
           null,
           null,
           null,
           null,
           null,
           null,
           null,
           null,
           null,
           null,
           null,
           null,
           null
          ],
          [
           0.9600000000000009,
           0.9600000000000009,
           0.9600000000000009,
           0.9600000000000009,
           0.9600000000000009,
           0.9600000000000009,
           null,
           null,
           null,
           null,
           null,
           null,
           null,
           null,
           null,
           null,
           null,
           null,
           null,
           null,
           null,
           null,
           null
          ],
          [
           2.039999999999999,
           2.039999999999999,
           2.039999999999999,
           2.039999999999999,
           2.039999999999999,
           2.039999999999999,
           2.039999999999999,
           null,
           null,
           null,
           null,
           null,
           null,
           null,
           null,
           null,
           null,
           null,
           null,
           null,
           null,
           null,
           null
          ],
          [
           4.039999999999999,
           3.039999999999999,
           3.039999999999999,
           3.039999999999999,
           3.039999999999999,
           3.039999999999999,
           3.039999999999999,
           3.039999999999999,
           null,
           null,
           null,
           null,
           null,
           null,
           null,
           null,
           null,
           null,
           null,
           null,
           null,
           null,
           null
          ],
          [
           7,
           7,
           8,
           8,
           8,
           8,
           8,
           8,
           8,
           null,
           null,
           null,
           null,
           null,
           null,
           null,
           null,
           null,
           null,
           null,
           null,
           null,
           null
          ],
          [
           null,
           6,
           6,
           9,
           9,
           9,
           9,
           9,
           9,
           9,
           null,
           null,
           null,
           null,
           null,
           null,
           null,
           null,
           null,
           null,
           null,
           null,
           null
          ],
          [
           5.079999999999998,
           null,
           5.079999999999998,
           5.079999999999998,
           7.079999999999998,
           7.079999999999998,
           7.079999999999998,
           7.079999999999998,
           7.079999999999998,
           7.079999999999998,
           7.079999999999998,
           null,
           null,
           null,
           null,
           null,
           null,
           null,
           null,
           null,
           null,
           null,
           null
          ],
          [
           3,
           3,
           null,
           2,
           2,
           5,
           5,
           5,
           5,
           5,
           5,
           5,
           null,
           null,
           null,
           null,
           null,
           null,
           null,
           null,
           null,
           null,
           null
          ],
          [
           1,
           1,
           1,
           null,
           1,
           1,
           3,
           3,
           3,
           3,
           3,
           3,
           3,
           null,
           null,
           null,
           null,
           null,
           null,
           null,
           null,
           null,
           null
          ],
          [
           1.0799999999999983,
           1.0799999999999983,
           1.0799999999999983,
           1.0799999999999983,
           null,
           1.0799999999999983,
           1.0799999999999983,
           0.0799999999999983,
           0.0799999999999983,
           0.0799999999999983,
           0.0799999999999983,
           0.0799999999999983,
           0.0799999999999983,
           0.0799999999999983,
           null,
           null,
           null,
           null,
           null,
           null,
           null,
           null,
           null
          ],
          [
           1.259999999999991,
           1.259999999999991,
           1.259999999999991,
           1.259999999999991,
           1.259999999999991,
           null,
           1.259999999999991,
           1.259999999999991,
           0.2599999999999909,
           0.2599999999999909,
           0.2599999999999909,
           0.2599999999999909,
           0.2599999999999909,
           0.2599999999999909,
           0.2599999999999909,
           null,
           null,
           null,
           null,
           null,
           null,
           null,
           null
          ],
          [
           1.5300000000000011,
           1.5300000000000011,
           1.5300000000000011,
           1.5300000000000011,
           1.5300000000000011,
           1.5300000000000011,
           null,
           1.5300000000000011,
           1.5300000000000011,
           1.5300000000000011,
           1.5300000000000011,
           1.5300000000000011,
           1.5300000000000011,
           1.5300000000000011,
           1.5300000000000011,
           1.5300000000000011,
           null,
           null,
           null,
           null,
           null,
           null,
           null
          ],
          [
           1.3799999999999955,
           1.3799999999999955,
           1.3799999999999955,
           1.3799999999999955,
           1.3799999999999955,
           1.3799999999999955,
           1.3799999999999955,
           null,
           1.3799999999999955,
           1.3799999999999955,
           1.3799999999999955,
           1.3799999999999955,
           1.3799999999999955,
           1.3799999999999955,
           1.3799999999999955,
           1.3799999999999955,
           1.3799999999999955,
           null,
           null,
           null,
           null,
           null,
           null
          ],
          [
           1.0799999999999983,
           1.0799999999999983,
           1.0799999999999983,
           1.0799999999999983,
           1.0799999999999983,
           1.0799999999999983,
           1.0799999999999983,
           1.0799999999999983,
           null,
           1.0799999999999983,
           1.0799999999999983,
           1.0799999999999983,
           1.0799999999999983,
           1.0799999999999983,
           1.0799999999999983,
           1.0799999999999983,
           1.0799999999999983,
           1.0799999999999983,
           null,
           null,
           null,
           null,
           null
          ],
          [
           1.259999999999991,
           1.259999999999991,
           0.2599999999999909,
           0.2599999999999909,
           0.2599999999999909,
           0.2599999999999909,
           0.2599999999999909,
           0.2599999999999909,
           0.2599999999999909,
           null,
           0.2599999999999909,
           0.2599999999999909,
           0.2599999999999909,
           0.2599999999999909,
           0.2599999999999909,
           0.2599999999999909,
           0.2599999999999909,
           0.2599999999999909,
           0.2599999999999909,
           null,
           null,
           null,
           null
          ],
          [
           1.0799999999999983,
           1.0799999999999983,
           1.0799999999999983,
           0.0799999999999983,
           0.0799999999999983,
           0.0799999999999983,
           0.0799999999999983,
           0.0799999999999983,
           0.0799999999999983,
           0.0799999999999983,
           null,
           0.0799999999999983,
           0.0799999999999983,
           0.0799999999999983,
           0.0799999999999983,
           0.0799999999999983,
           0.0799999999999983,
           0.0799999999999983,
           0.0799999999999983,
           0.0799999999999983,
           null,
           null,
           null
          ],
          [
           0.9200000000000017,
           1.0799999999999983,
           1.0799999999999983,
           1.0799999999999983,
           0.0799999999999983,
           0.0799999999999983,
           0.0799999999999983,
           0.0799999999999983,
           0.0799999999999983,
           0.0799999999999983,
           0.0799999999999983,
           null,
           0.0799999999999983,
           0.0799999999999983,
           0.0799999999999983,
           0.0799999999999983,
           0.0799999999999983,
           0.0799999999999983,
           0.0799999999999983,
           0.0799999999999983,
           0.0799999999999983,
           null,
           null
          ],
          [
           0.9199999999999946,
           0.9199999999999946,
           1.0800000000000054,
           1.0800000000000054,
           1.0800000000000054,
           0.9199999999999946,
           0.9199999999999946,
           0.9199999999999946,
           0.9199999999999946,
           0.9199999999999946,
           0.9199999999999946,
           0.9199999999999946,
           null,
           0.9199999999999946,
           0.9199999999999946,
           0.9199999999999946,
           0.9199999999999946,
           0.9199999999999946,
           0.9199999999999946,
           0.9199999999999946,
           0.9199999999999946,
           0.9199999999999946,
           null
          ],
          [
           1.9200000000000017,
           1.9200000000000017,
           1.9200000000000017,
           0.0799999999999983,
           0.0799999999999983,
           0.0799999999999983,
           0.9200000000000017,
           0.9200000000000017,
           0.9200000000000017,
           0.9200000000000017,
           0.9200000000000017,
           0.9200000000000017,
           0.9200000000000017,
           null,
           0.9200000000000017,
           0.9200000000000017,
           0.9200000000000017,
           0.9200000000000017,
           0.9200000000000017,
           0.9200000000000017,
           0.9200000000000017,
           0.9200000000000017,
           0.9200000000000017
          ]
         ]
        }
       ],
       "layout": {
        "coloraxis": {
         "colorbar": {
          "title": {
           "text": "Mean Absolute Error (°F)"
          }
         },
         "colorscale": [
          [
           0,
           "rgb(49,54,149)"
          ],
          [
           0.1,
           "rgb(69,117,180)"
          ],
          [
           0.2,
           "rgb(116,173,209)"
          ],
          [
           0.3,
           "rgb(171,217,233)"
          ],
          [
           0.4,
           "rgb(224,243,248)"
          ],
          [
           0.5,
           "rgb(255,255,191)"
          ],
          [
           0.6,
           "rgb(254,224,144)"
          ],
          [
           0.7,
           "rgb(253,174,97)"
          ],
          [
           0.8,
           "rgb(244,109,67)"
          ],
          [
           0.9,
           "rgb(215,48,39)"
          ],
          [
           1,
           "rgb(165,0,38)"
          ]
         ]
        },
        "template": {
         "data": {
          "bar": [
           {
            "error_x": {
             "color": "#2a3f5f"
            },
            "error_y": {
             "color": "#2a3f5f"
            },
            "marker": {
             "line": {
              "color": "#E5ECF6",
              "width": 0.5
             },
             "pattern": {
              "fillmode": "overlay",
              "size": 10,
              "solidity": 0.2
             }
            },
            "type": "bar"
           }
          ],
          "barpolar": [
           {
            "marker": {
             "line": {
              "color": "#E5ECF6",
              "width": 0.5
             },
             "pattern": {
              "fillmode": "overlay",
              "size": 10,
              "solidity": 0.2
             }
            },
            "type": "barpolar"
           }
          ],
          "carpet": [
           {
            "aaxis": {
             "endlinecolor": "#2a3f5f",
             "gridcolor": "white",
             "linecolor": "white",
             "minorgridcolor": "white",
             "startlinecolor": "#2a3f5f"
            },
            "baxis": {
             "endlinecolor": "#2a3f5f",
             "gridcolor": "white",
             "linecolor": "white",
             "minorgridcolor": "white",
             "startlinecolor": "#2a3f5f"
            },
            "type": "carpet"
           }
          ],
          "choropleth": [
           {
            "colorbar": {
             "outlinewidth": 0,
             "ticks": ""
            },
            "type": "choropleth"
           }
          ],
          "contour": [
           {
            "colorbar": {
             "outlinewidth": 0,
             "ticks": ""
            },
            "colorscale": [
             [
              0,
              "#0d0887"
             ],
             [
              0.1111111111111111,
              "#46039f"
             ],
             [
              0.2222222222222222,
              "#7201a8"
             ],
             [
              0.3333333333333333,
              "#9c179e"
             ],
             [
              0.4444444444444444,
              "#bd3786"
             ],
             [
              0.5555555555555556,
              "#d8576b"
             ],
             [
              0.6666666666666666,
              "#ed7953"
             ],
             [
              0.7777777777777778,
              "#fb9f3a"
             ],
             [
              0.8888888888888888,
              "#fdca26"
             ],
             [
              1,
              "#f0f921"
             ]
            ],
            "type": "contour"
           }
          ],
          "contourcarpet": [
           {
            "colorbar": {
             "outlinewidth": 0,
             "ticks": ""
            },
            "type": "contourcarpet"
           }
          ],
          "heatmap": [
           {
            "colorbar": {
             "outlinewidth": 0,
             "ticks": ""
            },
            "colorscale": [
             [
              0,
              "#0d0887"
             ],
             [
              0.1111111111111111,
              "#46039f"
             ],
             [
              0.2222222222222222,
              "#7201a8"
             ],
             [
              0.3333333333333333,
              "#9c179e"
             ],
             [
              0.4444444444444444,
              "#bd3786"
             ],
             [
              0.5555555555555556,
              "#d8576b"
             ],
             [
              0.6666666666666666,
              "#ed7953"
             ],
             [
              0.7777777777777778,
              "#fb9f3a"
             ],
             [
              0.8888888888888888,
              "#fdca26"
             ],
             [
              1,
              "#f0f921"
             ]
            ],
            "type": "heatmap"
           }
          ],
          "heatmapgl": [
           {
            "colorbar": {
             "outlinewidth": 0,
             "ticks": ""
            },
            "colorscale": [
             [
              0,
              "#0d0887"
             ],
             [
              0.1111111111111111,
              "#46039f"
             ],
             [
              0.2222222222222222,
              "#7201a8"
             ],
             [
              0.3333333333333333,
              "#9c179e"
             ],
             [
              0.4444444444444444,
              "#bd3786"
             ],
             [
              0.5555555555555556,
              "#d8576b"
             ],
             [
              0.6666666666666666,
              "#ed7953"
             ],
             [
              0.7777777777777778,
              "#fb9f3a"
             ],
             [
              0.8888888888888888,
              "#fdca26"
             ],
             [
              1,
              "#f0f921"
             ]
            ],
            "type": "heatmapgl"
           }
          ],
          "histogram": [
           {
            "marker": {
             "pattern": {
              "fillmode": "overlay",
              "size": 10,
              "solidity": 0.2
             }
            },
            "type": "histogram"
           }
          ],
          "histogram2d": [
           {
            "colorbar": {
             "outlinewidth": 0,
             "ticks": ""
            },
            "colorscale": [
             [
              0,
              "#0d0887"
             ],
             [
              0.1111111111111111,
              "#46039f"
             ],
             [
              0.2222222222222222,
              "#7201a8"
             ],
             [
              0.3333333333333333,
              "#9c179e"
             ],
             [
              0.4444444444444444,
              "#bd3786"
             ],
             [
              0.5555555555555556,
              "#d8576b"
             ],
             [
              0.6666666666666666,
              "#ed7953"
             ],
             [
              0.7777777777777778,
              "#fb9f3a"
             ],
             [
              0.8888888888888888,
              "#fdca26"
             ],
             [
              1,
              "#f0f921"
             ]
            ],
            "type": "histogram2d"
           }
          ],
          "histogram2dcontour": [
           {
            "colorbar": {
             "outlinewidth": 0,
             "ticks": ""
            },
            "colorscale": [
             [
              0,
              "#0d0887"
             ],
             [
              0.1111111111111111,
              "#46039f"
             ],
             [
              0.2222222222222222,
              "#7201a8"
             ],
             [
              0.3333333333333333,
              "#9c179e"
             ],
             [
              0.4444444444444444,
              "#bd3786"
             ],
             [
              0.5555555555555556,
              "#d8576b"
             ],
             [
              0.6666666666666666,
              "#ed7953"
             ],
             [
              0.7777777777777778,
              "#fb9f3a"
             ],
             [
              0.8888888888888888,
              "#fdca26"
             ],
             [
              1,
              "#f0f921"
             ]
            ],
            "type": "histogram2dcontour"
           }
          ],
          "mesh3d": [
           {
            "colorbar": {
             "outlinewidth": 0,
             "ticks": ""
            },
            "type": "mesh3d"
           }
          ],
          "parcoords": [
           {
            "line": {
             "colorbar": {
              "outlinewidth": 0,
              "ticks": ""
             }
            },
            "type": "parcoords"
           }
          ],
          "pie": [
           {
            "automargin": true,
            "type": "pie"
           }
          ],
          "scatter": [
           {
            "fillpattern": {
             "fillmode": "overlay",
             "size": 10,
             "solidity": 0.2
            },
            "type": "scatter"
           }
          ],
          "scatter3d": [
           {
            "line": {
             "colorbar": {
              "outlinewidth": 0,
              "ticks": ""
             }
            },
            "marker": {
             "colorbar": {
              "outlinewidth": 0,
              "ticks": ""
             }
            },
            "type": "scatter3d"
           }
          ],
          "scattercarpet": [
           {
            "marker": {
             "colorbar": {
              "outlinewidth": 0,
              "ticks": ""
             }
            },
            "type": "scattercarpet"
           }
          ],
          "scattergeo": [
           {
            "marker": {
             "colorbar": {
              "outlinewidth": 0,
              "ticks": ""
             }
            },
            "type": "scattergeo"
           }
          ],
          "scattergl": [
           {
            "marker": {
             "colorbar": {
              "outlinewidth": 0,
              "ticks": ""
             }
            },
            "type": "scattergl"
           }
          ],
          "scattermapbox": [
           {
            "marker": {
             "colorbar": {
              "outlinewidth": 0,
              "ticks": ""
             }
            },
            "type": "scattermapbox"
           }
          ],
          "scatterpolar": [
           {
            "marker": {
             "colorbar": {
              "outlinewidth": 0,
              "ticks": ""
             }
            },
            "type": "scatterpolar"
           }
          ],
          "scatterpolargl": [
           {
            "marker": {
             "colorbar": {
              "outlinewidth": 0,
              "ticks": ""
             }
            },
            "type": "scatterpolargl"
           }
          ],
          "scatterternary": [
           {
            "marker": {
             "colorbar": {
              "outlinewidth": 0,
              "ticks": ""
             }
            },
            "type": "scatterternary"
           }
          ],
          "surface": [
           {
            "colorbar": {
             "outlinewidth": 0,
             "ticks": ""
            },
            "colorscale": [
             [
              0,
              "#0d0887"
             ],
             [
              0.1111111111111111,
              "#46039f"
             ],
             [
              0.2222222222222222,
              "#7201a8"
             ],
             [
              0.3333333333333333,
              "#9c179e"
             ],
             [
              0.4444444444444444,
              "#bd3786"
             ],
             [
              0.5555555555555556,
              "#d8576b"
             ],
             [
              0.6666666666666666,
              "#ed7953"
             ],
             [
              0.7777777777777778,
              "#fb9f3a"
             ],
             [
              0.8888888888888888,
              "#fdca26"
             ],
             [
              1,
              "#f0f921"
             ]
            ],
            "type": "surface"
           }
          ],
          "table": [
           {
            "cells": {
             "fill": {
              "color": "#EBF0F8"
             },
             "line": {
              "color": "white"
             }
            },
            "header": {
             "fill": {
              "color": "#C8D4E3"
             },
             "line": {
              "color": "white"
             }
            },
            "type": "table"
           }
          ]
         },
         "layout": {
          "annotationdefaults": {
           "arrowcolor": "#2a3f5f",
           "arrowhead": 0,
           "arrowwidth": 1
          },
          "autotypenumbers": "strict",
          "coloraxis": {
           "colorbar": {
            "outlinewidth": 0,
            "ticks": ""
           }
          },
          "colorscale": {
           "diverging": [
            [
             0,
             "#8e0152"
            ],
            [
             0.1,
             "#c51b7d"
            ],
            [
             0.2,
             "#de77ae"
            ],
            [
             0.3,
             "#f1b6da"
            ],
            [
             0.4,
             "#fde0ef"
            ],
            [
             0.5,
             "#f7f7f7"
            ],
            [
             0.6,
             "#e6f5d0"
            ],
            [
             0.7,
             "#b8e186"
            ],
            [
             0.8,
             "#7fbc41"
            ],
            [
             0.9,
             "#4d9221"
            ],
            [
             1,
             "#276419"
            ]
           ],
           "sequential": [
            [
             0,
             "#0d0887"
            ],
            [
             0.1111111111111111,
             "#46039f"
            ],
            [
             0.2222222222222222,
             "#7201a8"
            ],
            [
             0.3333333333333333,
             "#9c179e"
            ],
            [
             0.4444444444444444,
             "#bd3786"
            ],
            [
             0.5555555555555556,
             "#d8576b"
            ],
            [
             0.6666666666666666,
             "#ed7953"
            ],
            [
             0.7777777777777778,
             "#fb9f3a"
            ],
            [
             0.8888888888888888,
             "#fdca26"
            ],
            [
             1,
             "#f0f921"
            ]
           ],
           "sequentialminus": [
            [
             0,
             "#0d0887"
            ],
            [
             0.1111111111111111,
             "#46039f"
            ],
            [
             0.2222222222222222,
             "#7201a8"
            ],
            [
             0.3333333333333333,
             "#9c179e"
            ],
            [
             0.4444444444444444,
             "#bd3786"
            ],
            [
             0.5555555555555556,
             "#d8576b"
            ],
            [
             0.6666666666666666,
             "#ed7953"
            ],
            [
             0.7777777777777778,
             "#fb9f3a"
            ],
            [
             0.8888888888888888,
             "#fdca26"
            ],
            [
             1,
             "#f0f921"
            ]
           ]
          },
          "colorway": [
           "#636efa",
           "#EF553B",
           "#00cc96",
           "#ab63fa",
           "#FFA15A",
           "#19d3f3",
           "#FF6692",
           "#B6E880",
           "#FF97FF",
           "#FECB52"
          ],
          "font": {
           "color": "#2a3f5f"
          },
          "geo": {
           "bgcolor": "white",
           "lakecolor": "white",
           "landcolor": "#E5ECF6",
           "showlakes": true,
           "showland": true,
           "subunitcolor": "white"
          },
          "hoverlabel": {
           "align": "left"
          },
          "hovermode": "closest",
          "mapbox": {
           "style": "light"
          },
          "paper_bgcolor": "white",
          "plot_bgcolor": "#E5ECF6",
          "polar": {
           "angularaxis": {
            "gridcolor": "white",
            "linecolor": "white",
            "ticks": ""
           },
           "bgcolor": "#E5ECF6",
           "radialaxis": {
            "gridcolor": "white",
            "linecolor": "white",
            "ticks": ""
           }
          },
          "scene": {
           "xaxis": {
            "backgroundcolor": "#E5ECF6",
            "gridcolor": "white",
            "gridwidth": 2,
            "linecolor": "white",
            "showbackground": true,
            "ticks": "",
            "zerolinecolor": "white"
           },
           "yaxis": {
            "backgroundcolor": "#E5ECF6",
            "gridcolor": "white",
            "gridwidth": 2,
            "linecolor": "white",
            "showbackground": true,
            "ticks": "",
            "zerolinecolor": "white"
           },
           "zaxis": {
            "backgroundcolor": "#E5ECF6",
            "gridcolor": "white",
            "gridwidth": 2,
            "linecolor": "white",
            "showbackground": true,
            "ticks": "",
            "zerolinecolor": "white"
           }
          },
          "shapedefaults": {
           "line": {
            "color": "#2a3f5f"
           }
          },
          "ternary": {
           "aaxis": {
            "gridcolor": "white",
            "linecolor": "white",
            "ticks": ""
           },
           "baxis": {
            "gridcolor": "white",
            "linecolor": "white",
            "ticks": ""
           },
           "bgcolor": "#E5ECF6",
           "caxis": {
            "gridcolor": "white",
            "linecolor": "white",
            "ticks": ""
           }
          },
          "title": {
           "x": 0.05
          },
          "xaxis": {
           "automargin": true,
           "gridcolor": "white",
           "linecolor": "white",
           "ticks": "",
           "title": {
            "standoff": 15
           },
           "zerolinecolor": "white",
           "zerolinewidth": 2
          },
          "yaxis": {
           "automargin": true,
           "gridcolor": "white",
           "linecolor": "white",
           "ticks": "",
           "title": {
            "standoff": 15
           },
           "zerolinecolor": "white",
           "zerolinewidth": 2
          }
         }
        },
        "title": {
         "text": "Error Heatmap: Hour of Day vs Forecast Lead Time"
        },
        "xaxis": {
         "anchor": "y",
         "domain": [
          0,
          1
         ],
         "title": {
          "text": "Hours Ahead"
         }
        },
        "yaxis": {
         "anchor": "x",
         "autorange": "reversed",
         "domain": [
          0,
          1
         ],
         "title": {
          "text": "Hour of Day (EST)"
         }
        }
       }
      }
     },
     "metadata": {},
     "output_type": "display_data"
    },
    {
     "name": "stdout",
     "output_type": "stream",
     "text": [
      "\n",
      "Summary Statistics:\n",
      "Overall Mean Absolute Error: 1.83°F\n",
      "Median Absolute Error: 1.08°F\n",
      "\n",
      "Mean Absolute Error by Lead Time:\n",
      "hours_ahead\n",
      "1     1.89\n",
      "2     1.89\n",
      "3     2.00\n",
      "4     2.11\n",
      "5     2.27\n",
      "6     2.51\n",
      "7     2.76\n",
      "8     2.76\n",
      "9     2.68\n",
      "10    2.34\n",
      "11    1.80\n",
      "12    1.32\n",
      "13    0.87\n",
      "14    0.63\n",
      "15    0.72\n",
      "16    0.78\n",
      "17    0.67\n",
      "18    0.56\n",
      "19    0.45\n",
      "20    0.50\n",
      "21    0.64\n",
      "22    0.92\n",
      "23    0.92\n",
      "Name: error_magnitude, dtype: float64\n"
     ]
    },
    {
     "data": {
      "application/vnd.plotly.v1+json": {
       "config": {
        "plotlyServerURL": "https://plot.ly"
       },
       "data": [
        {
         "hovertemplate": "Hours Ahead of Forecast=%{x}<br>Absolute Error (°F)=%{y}<extra></extra>",
         "legendgroup": "",
         "marker": {
          "color": "#636efa",
          "opacity": 0.5,
          "symbol": "circle"
         },
         "mode": "markers",
         "name": "",
         "orientation": "v",
         "showlegend": false,
         "type": "scatter",
         "x": [
          1,
          2,
          1,
          3,
          2,
          1,
          4,
          3,
          2,
          1,
          5,
          4,
          3,
          2,
          1,
          6,
          5,
          4,
          3,
          2,
          1,
          7,
          6,
          5,
          4,
          3,
          2,
          1,
          8,
          7,
          6,
          5,
          4,
          3,
          2,
          1,
          9,
          8,
          7,
          6,
          5,
          4,
          3,
          2,
          1,
          10,
          9,
          8,
          7,
          6,
          5,
          4,
          3,
          2,
          11,
          10,
          9,
          8,
          7,
          6,
          5,
          4,
          3,
          1,
          12,
          11,
          10,
          9,
          8,
          7,
          6,
          5,
          4,
          2,
          1,
          13,
          12,
          11,
          10,
          9,
          8,
          7,
          6,
          5,
          3,
          2,
          1,
          14,
          13,
          12,
          11,
          10,
          9,
          8,
          7,
          6,
          4,
          3,
          2,
          1,
          15,
          14,
          13,
          12,
          11,
          10,
          9,
          8,
          7,
          5,
          4,
          3,
          2,
          1,
          16,
          15,
          14,
          13,
          12,
          11,
          10,
          9,
          8,
          6,
          5,
          4,
          3,
          2,
          1,
          17,
          16,
          15,
          14,
          13,
          12,
          11,
          10,
          9,
          7,
          6,
          5,
          4,
          3,
          2,
          1,
          18,
          17,
          16,
          15,
          14,
          13,
          12,
          11,
          10,
          8,
          7,
          6,
          5,
          4,
          3,
          2,
          1,
          19,
          18,
          17,
          16,
          15,
          14,
          13,
          12,
          11,
          9,
          8,
          7,
          6,
          5,
          4,
          3,
          2,
          1,
          20,
          19,
          18,
          17,
          16,
          15,
          14,
          13,
          12,
          10,
          9,
          8,
          7,
          6,
          5,
          4,
          3,
          2,
          1,
          21,
          20,
          19,
          18,
          17,
          16,
          15,
          14,
          13,
          11,
          10,
          9,
          8,
          7,
          6,
          5,
          4,
          3,
          2,
          1,
          22,
          21,
          20,
          19,
          18,
          17,
          16,
          15,
          14,
          12,
          11,
          10,
          9,
          8,
          7,
          6,
          5,
          4,
          3,
          2,
          1,
          23,
          22,
          21,
          20,
          19,
          18,
          17,
          16,
          15,
          13,
          12,
          11,
          10,
          9,
          8,
          7,
          6,
          5,
          4,
          3,
          2,
          1
         ],
         "xaxis": "x",
         "y": [
          1.9600000000000009,
          2.039999999999999,
          2.039999999999999,
          1.0399999999999991,
          1.0399999999999991,
          1.0399999999999991,
          0.03999999999999915,
          0.03999999999999915,
          0.03999999999999915,
          0.03999999999999915,
          0.9600000000000009,
          0.9600000000000009,
          0.9600000000000009,
          0.9600000000000009,
          0.9600000000000009,
          0.9600000000000009,
          0.9600000000000009,
          0.9600000000000009,
          0.9600000000000009,
          0.9600000000000009,
          0.9600000000000009,
          2.039999999999999,
          2.039999999999999,
          2.039999999999999,
          2.039999999999999,
          2.039999999999999,
          2.039999999999999,
          2.039999999999999,
          3.039999999999999,
          3.039999999999999,
          3.039999999999999,
          3.039999999999999,
          3.039999999999999,
          3.039999999999999,
          3.039999999999999,
          4.039999999999999,
          8,
          8,
          8,
          8,
          8,
          8,
          8,
          7,
          7,
          9,
          9,
          9,
          9,
          9,
          9,
          9,
          6,
          6,
          7.079999999999998,
          7.079999999999998,
          7.079999999999998,
          7.079999999999998,
          7.079999999999998,
          7.079999999999998,
          7.079999999999998,
          5.079999999999998,
          5.079999999999998,
          5.079999999999998,
          5,
          5,
          5,
          5,
          5,
          5,
          5,
          2,
          2,
          3,
          3,
          3,
          3,
          3,
          3,
          3,
          3,
          3,
          1,
          1,
          1,
          1,
          1,
          0.0799999999999983,
          0.0799999999999983,
          0.0799999999999983,
          0.0799999999999983,
          0.0799999999999983,
          0.0799999999999983,
          0.0799999999999983,
          1.0799999999999983,
          1.0799999999999983,
          1.0799999999999983,
          1.0799999999999983,
          1.0799999999999983,
          1.0799999999999983,
          0.2599999999999909,
          0.2599999999999909,
          0.2599999999999909,
          0.2599999999999909,
          0.2599999999999909,
          0.2599999999999909,
          0.2599999999999909,
          1.259999999999991,
          1.259999999999991,
          1.259999999999991,
          1.259999999999991,
          1.259999999999991,
          1.259999999999991,
          1.259999999999991,
          1.5300000000000011,
          1.5300000000000011,
          1.5300000000000011,
          1.5300000000000011,
          1.5300000000000011,
          1.5300000000000011,
          1.5300000000000011,
          1.5300000000000011,
          1.5300000000000011,
          1.5300000000000011,
          1.5300000000000011,
          1.5300000000000011,
          1.5300000000000011,
          1.5300000000000011,
          1.5300000000000011,
          1.3799999999999955,
          1.3799999999999955,
          1.3799999999999955,
          1.3799999999999955,
          1.3799999999999955,
          1.3799999999999955,
          1.3799999999999955,
          1.3799999999999955,
          1.3799999999999955,
          1.3799999999999955,
          1.3799999999999955,
          1.3799999999999955,
          1.3799999999999955,
          1.3799999999999955,
          1.3799999999999955,
          1.3799999999999955,
          1.0799999999999983,
          1.0799999999999983,
          1.0799999999999983,
          1.0799999999999983,
          1.0799999999999983,
          1.0799999999999983,
          1.0799999999999983,
          1.0799999999999983,
          1.0799999999999983,
          1.0799999999999983,
          1.0799999999999983,
          1.0799999999999983,
          1.0799999999999983,
          1.0799999999999983,
          1.0799999999999983,
          1.0799999999999983,
          1.0799999999999983,
          0.2599999999999909,
          0.2599999999999909,
          0.2599999999999909,
          0.2599999999999909,
          0.2599999999999909,
          0.2599999999999909,
          0.2599999999999909,
          0.2599999999999909,
          0.2599999999999909,
          0.2599999999999909,
          0.2599999999999909,
          0.2599999999999909,
          0.2599999999999909,
          0.2599999999999909,
          0.2599999999999909,
          0.2599999999999909,
          1.259999999999991,
          1.259999999999991,
          0.0799999999999983,
          0.0799999999999983,
          0.0799999999999983,
          0.0799999999999983,
          0.0799999999999983,
          0.0799999999999983,
          0.0799999999999983,
          0.0799999999999983,
          0.0799999999999983,
          0.0799999999999983,
          0.0799999999999983,
          0.0799999999999983,
          0.0799999999999983,
          0.0799999999999983,
          0.0799999999999983,
          0.0799999999999983,
          1.0799999999999983,
          1.0799999999999983,
          1.0799999999999983,
          0.0799999999999983,
          0.0799999999999983,
          0.0799999999999983,
          0.0799999999999983,
          0.0799999999999983,
          0.0799999999999983,
          0.0799999999999983,
          0.0799999999999983,
          0.0799999999999983,
          0.0799999999999983,
          0.0799999999999983,
          0.0799999999999983,
          0.0799999999999983,
          0.0799999999999983,
          0.0799999999999983,
          0.0799999999999983,
          1.0799999999999983,
          1.0799999999999983,
          1.0799999999999983,
          0.9200000000000017,
          0.9199999999999946,
          0.9199999999999946,
          0.9199999999999946,
          0.9199999999999946,
          0.9199999999999946,
          0.9199999999999946,
          0.9199999999999946,
          0.9199999999999946,
          0.9199999999999946,
          0.9199999999999946,
          0.9199999999999946,
          0.9199999999999946,
          0.9199999999999946,
          0.9199999999999946,
          0.9199999999999946,
          0.9199999999999946,
          1.0800000000000054,
          1.0800000000000054,
          1.0800000000000054,
          0.9199999999999946,
          0.9199999999999946,
          0.9200000000000017,
          0.9200000000000017,
          0.9200000000000017,
          0.9200000000000017,
          0.9200000000000017,
          0.9200000000000017,
          0.9200000000000017,
          0.9200000000000017,
          0.9200000000000017,
          0.9200000000000017,
          0.9200000000000017,
          0.9200000000000017,
          0.9200000000000017,
          0.9200000000000017,
          0.9200000000000017,
          0.9200000000000017,
          0.0799999999999983,
          0.0799999999999983,
          0.0799999999999983,
          1.9200000000000017,
          1.9200000000000017,
          1.9200000000000017
         ],
         "yaxis": "y"
        },
        {
         "hovertemplate": "<b>OLS trendline</b><br>error_magnitude = -0.0901242 * hours_ahead + 2.58142<br>R<sup>2</sup>=0.051058<br><br>Hours Ahead of Forecast=%{x}<br>Absolute Error (°F)=%{y} <b>(trend)</b><extra></extra>",
         "legendgroup": "",
         "marker": {
          "color": "#636efa",
          "symbol": "circle"
         },
         "mode": "lines",
         "name": "",
         "showlegend": false,
         "type": "scatter",
         "x": [
          1,
          1,
          1,
          1,
          1,
          1,
          1,
          1,
          1,
          1,
          1,
          1,
          1,
          1,
          1,
          1,
          1,
          1,
          1,
          1,
          1,
          1,
          2,
          2,
          2,
          2,
          2,
          2,
          2,
          2,
          2,
          2,
          2,
          2,
          2,
          2,
          2,
          2,
          2,
          2,
          2,
          2,
          2,
          3,
          3,
          3,
          3,
          3,
          3,
          3,
          3,
          3,
          3,
          3,
          3,
          3,
          3,
          3,
          3,
          3,
          3,
          3,
          3,
          4,
          4,
          4,
          4,
          4,
          4,
          4,
          4,
          4,
          4,
          4,
          4,
          4,
          4,
          4,
          4,
          4,
          4,
          4,
          5,
          5,
          5,
          5,
          5,
          5,
          5,
          5,
          5,
          5,
          5,
          5,
          5,
          5,
          5,
          5,
          5,
          5,
          6,
          6,
          6,
          6,
          6,
          6,
          6,
          6,
          6,
          6,
          6,
          6,
          6,
          6,
          6,
          6,
          6,
          7,
          7,
          7,
          7,
          7,
          7,
          7,
          7,
          7,
          7,
          7,
          7,
          7,
          7,
          7,
          7,
          8,
          8,
          8,
          8,
          8,
          8,
          8,
          8,
          8,
          8,
          8,
          8,
          8,
          8,
          8,
          9,
          9,
          9,
          9,
          9,
          9,
          9,
          9,
          9,
          9,
          9,
          9,
          9,
          9,
          10,
          10,
          10,
          10,
          10,
          10,
          10,
          10,
          10,
          10,
          10,
          10,
          10,
          11,
          11,
          11,
          11,
          11,
          11,
          11,
          11,
          11,
          11,
          11,
          11,
          12,
          12,
          12,
          12,
          12,
          12,
          12,
          12,
          12,
          12,
          12,
          13,
          13,
          13,
          13,
          13,
          13,
          13,
          13,
          13,
          13,
          14,
          14,
          14,
          14,
          14,
          14,
          14,
          14,
          14,
          15,
          15,
          15,
          15,
          15,
          15,
          15,
          15,
          15,
          16,
          16,
          16,
          16,
          16,
          16,
          16,
          16,
          17,
          17,
          17,
          17,
          17,
          17,
          17,
          18,
          18,
          18,
          18,
          18,
          18,
          19,
          19,
          19,
          19,
          19,
          20,
          20,
          20,
          20,
          21,
          21,
          21,
          22,
          22,
          23
         ],
         "xaxis": "x",
         "y": [
          2.491297914304143,
          2.491297914304143,
          2.491297914304143,
          2.491297914304143,
          2.491297914304143,
          2.491297914304143,
          2.491297914304143,
          2.491297914304143,
          2.491297914304143,
          2.491297914304143,
          2.491297914304143,
          2.491297914304143,
          2.491297914304143,
          2.491297914304143,
          2.491297914304143,
          2.491297914304143,
          2.491297914304143,
          2.491297914304143,
          2.491297914304143,
          2.491297914304143,
          2.491297914304143,
          2.491297914304143,
          2.401173727264471,
          2.401173727264471,
          2.401173727264471,
          2.401173727264471,
          2.401173727264471,
          2.401173727264471,
          2.401173727264471,
          2.401173727264471,
          2.401173727264471,
          2.401173727264471,
          2.401173727264471,
          2.401173727264471,
          2.401173727264471,
          2.401173727264471,
          2.401173727264471,
          2.401173727264471,
          2.401173727264471,
          2.401173727264471,
          2.401173727264471,
          2.401173727264471,
          2.401173727264471,
          2.311049540224799,
          2.311049540224799,
          2.311049540224799,
          2.311049540224799,
          2.311049540224799,
          2.311049540224799,
          2.311049540224799,
          2.311049540224799,
          2.311049540224799,
          2.311049540224799,
          2.311049540224799,
          2.311049540224799,
          2.311049540224799,
          2.311049540224799,
          2.311049540224799,
          2.311049540224799,
          2.311049540224799,
          2.311049540224799,
          2.311049540224799,
          2.311049540224799,
          2.2209253531851267,
          2.2209253531851267,
          2.2209253531851267,
          2.2209253531851267,
          2.2209253531851267,
          2.2209253531851267,
          2.2209253531851267,
          2.2209253531851267,
          2.2209253531851267,
          2.2209253531851267,
          2.2209253531851267,
          2.2209253531851267,
          2.2209253531851267,
          2.2209253531851267,
          2.2209253531851267,
          2.2209253531851267,
          2.2209253531851267,
          2.2209253531851267,
          2.2209253531851267,
          2.1308011661454547,
          2.1308011661454547,
          2.1308011661454547,
          2.1308011661454547,
          2.1308011661454547,
          2.1308011661454547,
          2.1308011661454547,
          2.1308011661454547,
          2.1308011661454547,
          2.1308011661454547,
          2.1308011661454547,
          2.1308011661454547,
          2.1308011661454547,
          2.1308011661454547,
          2.1308011661454547,
          2.1308011661454547,
          2.1308011661454547,
          2.1308011661454547,
          2.0406769791057826,
          2.0406769791057826,
          2.0406769791057826,
          2.0406769791057826,
          2.0406769791057826,
          2.0406769791057826,
          2.0406769791057826,
          2.0406769791057826,
          2.0406769791057826,
          2.0406769791057826,
          2.0406769791057826,
          2.0406769791057826,
          2.0406769791057826,
          2.0406769791057826,
          2.0406769791057826,
          2.0406769791057826,
          2.0406769791057826,
          1.950552792066111,
          1.950552792066111,
          1.950552792066111,
          1.950552792066111,
          1.950552792066111,
          1.950552792066111,
          1.950552792066111,
          1.950552792066111,
          1.950552792066111,
          1.950552792066111,
          1.950552792066111,
          1.950552792066111,
          1.950552792066111,
          1.950552792066111,
          1.950552792066111,
          1.950552792066111,
          1.860428605026439,
          1.860428605026439,
          1.860428605026439,
          1.860428605026439,
          1.860428605026439,
          1.860428605026439,
          1.860428605026439,
          1.860428605026439,
          1.860428605026439,
          1.860428605026439,
          1.860428605026439,
          1.860428605026439,
          1.860428605026439,
          1.860428605026439,
          1.860428605026439,
          1.7703044179867669,
          1.7703044179867669,
          1.7703044179867669,
          1.7703044179867669,
          1.7703044179867669,
          1.7703044179867669,
          1.7703044179867669,
          1.7703044179867669,
          1.7703044179867669,
          1.7703044179867669,
          1.7703044179867669,
          1.7703044179867669,
          1.7703044179867669,
          1.7703044179867669,
          1.6801802309470948,
          1.6801802309470948,
          1.6801802309470948,
          1.6801802309470948,
          1.6801802309470948,
          1.6801802309470948,
          1.6801802309470948,
          1.6801802309470948,
          1.6801802309470948,
          1.6801802309470948,
          1.6801802309470948,
          1.6801802309470948,
          1.6801802309470948,
          1.5900560439074227,
          1.5900560439074227,
          1.5900560439074227,
          1.5900560439074227,
          1.5900560439074227,
          1.5900560439074227,
          1.5900560439074227,
          1.5900560439074227,
          1.5900560439074227,
          1.5900560439074227,
          1.5900560439074227,
          1.5900560439074227,
          1.4999318568677507,
          1.4999318568677507,
          1.4999318568677507,
          1.4999318568677507,
          1.4999318568677507,
          1.4999318568677507,
          1.4999318568677507,
          1.4999318568677507,
          1.4999318568677507,
          1.4999318568677507,
          1.4999318568677507,
          1.4098076698280786,
          1.4098076698280786,
          1.4098076698280786,
          1.4098076698280786,
          1.4098076698280786,
          1.4098076698280786,
          1.4098076698280786,
          1.4098076698280786,
          1.4098076698280786,
          1.4098076698280786,
          1.3196834827884067,
          1.3196834827884067,
          1.3196834827884067,
          1.3196834827884067,
          1.3196834827884067,
          1.3196834827884067,
          1.3196834827884067,
          1.3196834827884067,
          1.3196834827884067,
          1.2295592957487347,
          1.2295592957487347,
          1.2295592957487347,
          1.2295592957487347,
          1.2295592957487347,
          1.2295592957487347,
          1.2295592957487347,
          1.2295592957487347,
          1.2295592957487347,
          1.1394351087090626,
          1.1394351087090626,
          1.1394351087090626,
          1.1394351087090626,
          1.1394351087090626,
          1.1394351087090626,
          1.1394351087090626,
          1.1394351087090626,
          1.0493109216693906,
          1.0493109216693906,
          1.0493109216693906,
          1.0493109216693906,
          1.0493109216693906,
          1.0493109216693906,
          1.0493109216693906,
          0.9591867346297185,
          0.9591867346297185,
          0.9591867346297185,
          0.9591867346297185,
          0.9591867346297185,
          0.9591867346297185,
          0.8690625475900466,
          0.8690625475900466,
          0.8690625475900466,
          0.8690625475900466,
          0.8690625475900466,
          0.7789383605503746,
          0.7789383605503746,
          0.7789383605503746,
          0.7789383605503746,
          0.6888141735107025,
          0.6888141735107025,
          0.6888141735107025,
          0.5986899864710304,
          0.5986899864710304,
          0.5085657994313584
         ],
         "yaxis": "y"
        }
       ],
       "layout": {
        "legend": {
         "tracegroupgap": 0
        },
        "template": {
         "data": {
          "bar": [
           {
            "error_x": {
             "color": "#2a3f5f"
            },
            "error_y": {
             "color": "#2a3f5f"
            },
            "marker": {
             "line": {
              "color": "#E5ECF6",
              "width": 0.5
             },
             "pattern": {
              "fillmode": "overlay",
              "size": 10,
              "solidity": 0.2
             }
            },
            "type": "bar"
           }
          ],
          "barpolar": [
           {
            "marker": {
             "line": {
              "color": "#E5ECF6",
              "width": 0.5
             },
             "pattern": {
              "fillmode": "overlay",
              "size": 10,
              "solidity": 0.2
             }
            },
            "type": "barpolar"
           }
          ],
          "carpet": [
           {
            "aaxis": {
             "endlinecolor": "#2a3f5f",
             "gridcolor": "white",
             "linecolor": "white",
             "minorgridcolor": "white",
             "startlinecolor": "#2a3f5f"
            },
            "baxis": {
             "endlinecolor": "#2a3f5f",
             "gridcolor": "white",
             "linecolor": "white",
             "minorgridcolor": "white",
             "startlinecolor": "#2a3f5f"
            },
            "type": "carpet"
           }
          ],
          "choropleth": [
           {
            "colorbar": {
             "outlinewidth": 0,
             "ticks": ""
            },
            "type": "choropleth"
           }
          ],
          "contour": [
           {
            "colorbar": {
             "outlinewidth": 0,
             "ticks": ""
            },
            "colorscale": [
             [
              0,
              "#0d0887"
             ],
             [
              0.1111111111111111,
              "#46039f"
             ],
             [
              0.2222222222222222,
              "#7201a8"
             ],
             [
              0.3333333333333333,
              "#9c179e"
             ],
             [
              0.4444444444444444,
              "#bd3786"
             ],
             [
              0.5555555555555556,
              "#d8576b"
             ],
             [
              0.6666666666666666,
              "#ed7953"
             ],
             [
              0.7777777777777778,
              "#fb9f3a"
             ],
             [
              0.8888888888888888,
              "#fdca26"
             ],
             [
              1,
              "#f0f921"
             ]
            ],
            "type": "contour"
           }
          ],
          "contourcarpet": [
           {
            "colorbar": {
             "outlinewidth": 0,
             "ticks": ""
            },
            "type": "contourcarpet"
           }
          ],
          "heatmap": [
           {
            "colorbar": {
             "outlinewidth": 0,
             "ticks": ""
            },
            "colorscale": [
             [
              0,
              "#0d0887"
             ],
             [
              0.1111111111111111,
              "#46039f"
             ],
             [
              0.2222222222222222,
              "#7201a8"
             ],
             [
              0.3333333333333333,
              "#9c179e"
             ],
             [
              0.4444444444444444,
              "#bd3786"
             ],
             [
              0.5555555555555556,
              "#d8576b"
             ],
             [
              0.6666666666666666,
              "#ed7953"
             ],
             [
              0.7777777777777778,
              "#fb9f3a"
             ],
             [
              0.8888888888888888,
              "#fdca26"
             ],
             [
              1,
              "#f0f921"
             ]
            ],
            "type": "heatmap"
           }
          ],
          "heatmapgl": [
           {
            "colorbar": {
             "outlinewidth": 0,
             "ticks": ""
            },
            "colorscale": [
             [
              0,
              "#0d0887"
             ],
             [
              0.1111111111111111,
              "#46039f"
             ],
             [
              0.2222222222222222,
              "#7201a8"
             ],
             [
              0.3333333333333333,
              "#9c179e"
             ],
             [
              0.4444444444444444,
              "#bd3786"
             ],
             [
              0.5555555555555556,
              "#d8576b"
             ],
             [
              0.6666666666666666,
              "#ed7953"
             ],
             [
              0.7777777777777778,
              "#fb9f3a"
             ],
             [
              0.8888888888888888,
              "#fdca26"
             ],
             [
              1,
              "#f0f921"
             ]
            ],
            "type": "heatmapgl"
           }
          ],
          "histogram": [
           {
            "marker": {
             "pattern": {
              "fillmode": "overlay",
              "size": 10,
              "solidity": 0.2
             }
            },
            "type": "histogram"
           }
          ],
          "histogram2d": [
           {
            "colorbar": {
             "outlinewidth": 0,
             "ticks": ""
            },
            "colorscale": [
             [
              0,
              "#0d0887"
             ],
             [
              0.1111111111111111,
              "#46039f"
             ],
             [
              0.2222222222222222,
              "#7201a8"
             ],
             [
              0.3333333333333333,
              "#9c179e"
             ],
             [
              0.4444444444444444,
              "#bd3786"
             ],
             [
              0.5555555555555556,
              "#d8576b"
             ],
             [
              0.6666666666666666,
              "#ed7953"
             ],
             [
              0.7777777777777778,
              "#fb9f3a"
             ],
             [
              0.8888888888888888,
              "#fdca26"
             ],
             [
              1,
              "#f0f921"
             ]
            ],
            "type": "histogram2d"
           }
          ],
          "histogram2dcontour": [
           {
            "colorbar": {
             "outlinewidth": 0,
             "ticks": ""
            },
            "colorscale": [
             [
              0,
              "#0d0887"
             ],
             [
              0.1111111111111111,
              "#46039f"
             ],
             [
              0.2222222222222222,
              "#7201a8"
             ],
             [
              0.3333333333333333,
              "#9c179e"
             ],
             [
              0.4444444444444444,
              "#bd3786"
             ],
             [
              0.5555555555555556,
              "#d8576b"
             ],
             [
              0.6666666666666666,
              "#ed7953"
             ],
             [
              0.7777777777777778,
              "#fb9f3a"
             ],
             [
              0.8888888888888888,
              "#fdca26"
             ],
             [
              1,
              "#f0f921"
             ]
            ],
            "type": "histogram2dcontour"
           }
          ],
          "mesh3d": [
           {
            "colorbar": {
             "outlinewidth": 0,
             "ticks": ""
            },
            "type": "mesh3d"
           }
          ],
          "parcoords": [
           {
            "line": {
             "colorbar": {
              "outlinewidth": 0,
              "ticks": ""
             }
            },
            "type": "parcoords"
           }
          ],
          "pie": [
           {
            "automargin": true,
            "type": "pie"
           }
          ],
          "scatter": [
           {
            "fillpattern": {
             "fillmode": "overlay",
             "size": 10,
             "solidity": 0.2
            },
            "type": "scatter"
           }
          ],
          "scatter3d": [
           {
            "line": {
             "colorbar": {
              "outlinewidth": 0,
              "ticks": ""
             }
            },
            "marker": {
             "colorbar": {
              "outlinewidth": 0,
              "ticks": ""
             }
            },
            "type": "scatter3d"
           }
          ],
          "scattercarpet": [
           {
            "marker": {
             "colorbar": {
              "outlinewidth": 0,
              "ticks": ""
             }
            },
            "type": "scattercarpet"
           }
          ],
          "scattergeo": [
           {
            "marker": {
             "colorbar": {
              "outlinewidth": 0,
              "ticks": ""
             }
            },
            "type": "scattergeo"
           }
          ],
          "scattergl": [
           {
            "marker": {
             "colorbar": {
              "outlinewidth": 0,
              "ticks": ""
             }
            },
            "type": "scattergl"
           }
          ],
          "scattermapbox": [
           {
            "marker": {
             "colorbar": {
              "outlinewidth": 0,
              "ticks": ""
             }
            },
            "type": "scattermapbox"
           }
          ],
          "scatterpolar": [
           {
            "marker": {
             "colorbar": {
              "outlinewidth": 0,
              "ticks": ""
             }
            },
            "type": "scatterpolar"
           }
          ],
          "scatterpolargl": [
           {
            "marker": {
             "colorbar": {
              "outlinewidth": 0,
              "ticks": ""
             }
            },
            "type": "scatterpolargl"
           }
          ],
          "scatterternary": [
           {
            "marker": {
             "colorbar": {
              "outlinewidth": 0,
              "ticks": ""
             }
            },
            "type": "scatterternary"
           }
          ],
          "surface": [
           {
            "colorbar": {
             "outlinewidth": 0,
             "ticks": ""
            },
            "colorscale": [
             [
              0,
              "#0d0887"
             ],
             [
              0.1111111111111111,
              "#46039f"
             ],
             [
              0.2222222222222222,
              "#7201a8"
             ],
             [
              0.3333333333333333,
              "#9c179e"
             ],
             [
              0.4444444444444444,
              "#bd3786"
             ],
             [
              0.5555555555555556,
              "#d8576b"
             ],
             [
              0.6666666666666666,
              "#ed7953"
             ],
             [
              0.7777777777777778,
              "#fb9f3a"
             ],
             [
              0.8888888888888888,
              "#fdca26"
             ],
             [
              1,
              "#f0f921"
             ]
            ],
            "type": "surface"
           }
          ],
          "table": [
           {
            "cells": {
             "fill": {
              "color": "#EBF0F8"
             },
             "line": {
              "color": "white"
             }
            },
            "header": {
             "fill": {
              "color": "#C8D4E3"
             },
             "line": {
              "color": "white"
             }
            },
            "type": "table"
           }
          ]
         },
         "layout": {
          "annotationdefaults": {
           "arrowcolor": "#2a3f5f",
           "arrowhead": 0,
           "arrowwidth": 1
          },
          "autotypenumbers": "strict",
          "coloraxis": {
           "colorbar": {
            "outlinewidth": 0,
            "ticks": ""
           }
          },
          "colorscale": {
           "diverging": [
            [
             0,
             "#8e0152"
            ],
            [
             0.1,
             "#c51b7d"
            ],
            [
             0.2,
             "#de77ae"
            ],
            [
             0.3,
             "#f1b6da"
            ],
            [
             0.4,
             "#fde0ef"
            ],
            [
             0.5,
             "#f7f7f7"
            ],
            [
             0.6,
             "#e6f5d0"
            ],
            [
             0.7,
             "#b8e186"
            ],
            [
             0.8,
             "#7fbc41"
            ],
            [
             0.9,
             "#4d9221"
            ],
            [
             1,
             "#276419"
            ]
           ],
           "sequential": [
            [
             0,
             "#0d0887"
            ],
            [
             0.1111111111111111,
             "#46039f"
            ],
            [
             0.2222222222222222,
             "#7201a8"
            ],
            [
             0.3333333333333333,
             "#9c179e"
            ],
            [
             0.4444444444444444,
             "#bd3786"
            ],
            [
             0.5555555555555556,
             "#d8576b"
            ],
            [
             0.6666666666666666,
             "#ed7953"
            ],
            [
             0.7777777777777778,
             "#fb9f3a"
            ],
            [
             0.8888888888888888,
             "#fdca26"
            ],
            [
             1,
             "#f0f921"
            ]
           ],
           "sequentialminus": [
            [
             0,
             "#0d0887"
            ],
            [
             0.1111111111111111,
             "#46039f"
            ],
            [
             0.2222222222222222,
             "#7201a8"
            ],
            [
             0.3333333333333333,
             "#9c179e"
            ],
            [
             0.4444444444444444,
             "#bd3786"
            ],
            [
             0.5555555555555556,
             "#d8576b"
            ],
            [
             0.6666666666666666,
             "#ed7953"
            ],
            [
             0.7777777777777778,
             "#fb9f3a"
            ],
            [
             0.8888888888888888,
             "#fdca26"
            ],
            [
             1,
             "#f0f921"
            ]
           ]
          },
          "colorway": [
           "#636efa",
           "#EF553B",
           "#00cc96",
           "#ab63fa",
           "#FFA15A",
           "#19d3f3",
           "#FF6692",
           "#B6E880",
           "#FF97FF",
           "#FECB52"
          ],
          "font": {
           "color": "#2a3f5f"
          },
          "geo": {
           "bgcolor": "white",
           "lakecolor": "white",
           "landcolor": "#E5ECF6",
           "showlakes": true,
           "showland": true,
           "subunitcolor": "white"
          },
          "hoverlabel": {
           "align": "left"
          },
          "hovermode": "closest",
          "mapbox": {
           "style": "light"
          },
          "paper_bgcolor": "white",
          "plot_bgcolor": "#E5ECF6",
          "polar": {
           "angularaxis": {
            "gridcolor": "white",
            "linecolor": "white",
            "ticks": ""
           },
           "bgcolor": "#E5ECF6",
           "radialaxis": {
            "gridcolor": "white",
            "linecolor": "white",
            "ticks": ""
           }
          },
          "scene": {
           "xaxis": {
            "backgroundcolor": "#E5ECF6",
            "gridcolor": "white",
            "gridwidth": 2,
            "linecolor": "white",
            "showbackground": true,
            "ticks": "",
            "zerolinecolor": "white"
           },
           "yaxis": {
            "backgroundcolor": "#E5ECF6",
            "gridcolor": "white",
            "gridwidth": 2,
            "linecolor": "white",
            "showbackground": true,
            "ticks": "",
            "zerolinecolor": "white"
           },
           "zaxis": {
            "backgroundcolor": "#E5ECF6",
            "gridcolor": "white",
            "gridwidth": 2,
            "linecolor": "white",
            "showbackground": true,
            "ticks": "",
            "zerolinecolor": "white"
           }
          },
          "shapedefaults": {
           "line": {
            "color": "#2a3f5f"
           }
          },
          "ternary": {
           "aaxis": {
            "gridcolor": "white",
            "linecolor": "white",
            "ticks": ""
           },
           "baxis": {
            "gridcolor": "white",
            "linecolor": "white",
            "ticks": ""
           },
           "bgcolor": "#E5ECF6",
           "caxis": {
            "gridcolor": "white",
            "linecolor": "white",
            "ticks": ""
           }
          },
          "title": {
           "x": 0.05
          },
          "xaxis": {
           "automargin": true,
           "gridcolor": "white",
           "linecolor": "white",
           "ticks": "",
           "title": {
            "standoff": 15
           },
           "zerolinecolor": "white",
           "zerolinewidth": 2
          },
          "yaxis": {
           "automargin": true,
           "gridcolor": "white",
           "linecolor": "white",
           "ticks": "",
           "title": {
            "standoff": 15
           },
           "zerolinecolor": "white",
           "zerolinewidth": 2
          }
         }
        },
        "title": {
         "text": "Forecast Error vs Lead Time with Trend"
        },
        "xaxis": {
         "anchor": "y",
         "domain": [
          0,
          1
         ],
         "title": {
          "text": "Hours Ahead of Forecast"
         }
        },
        "yaxis": {
         "anchor": "x",
         "domain": [
          0,
          1
         ],
         "title": {
          "text": "Absolute Error (°F)"
         }
        }
       }
      }
     },
     "metadata": {},
     "output_type": "display_data"
    }
   ],
   "source": [
    "def analyze_forecast_accuracy(df_forecasts, df_observations, grouped_forecasts):\n",
    "    \"\"\"Analyze and visualize forecast accuracy from multiple perspectives.\"\"\"\n",
    "    accuracy_data = []\n",
    "    \n",
    "    for forecast_time_hour, group in grouped_forecasts:\n",
    "        hour_observations = df_observations[\n",
    "            (df_observations['observed_time'] >= forecast_time_hour) &\n",
    "            (df_observations['observed_time'] < forecast_time_hour + timedelta(hours=1))\n",
    "        ]\n",
    "        \n",
    "        if not hour_observations.empty:\n",
    "            actual_temp = hour_observations['temperature'].mean()\n",
    "            \n",
    "            for _, forecast in group.iterrows():\n",
    "                hours_ahead = (forecast_time_hour - forecast['created_at']).total_seconds() / 3600\n",
    "                error = forecast['temperature'] - actual_temp\n",
    "                accuracy_data.append({\n",
    "                    'forecast_time': forecast_time_hour,\n",
    "                    'hours_ahead': round(hours_ahead),  # Round to nearest hour for better grouping\n",
    "                    'error': error,\n",
    "                    'actual_temp': actual_temp,\n",
    "                    'forecast_temp': forecast['temperature'],\n",
    "                    'error_magnitude': abs(error),\n",
    "                    'hour_of_day': forecast_time_hour.hour,\n",
    "                    'date': forecast_time_hour.date()\n",
    "                })\n",
    "    \n",
    "    df_accuracy = pd.DataFrame(accuracy_data)\n",
    "    \n",
    "    import plotly.express as px\n",
    "    import plotly.graph_objects as go\n",
    "    from plotly.subplots import make_subplots\n",
    "    \n",
    "    # 1. Box plot of errors by hours ahead\n",
    "    fig1 = px.box(df_accuracy, \n",
    "                  x='hours_ahead',\n",
    "                  y='error',\n",
    "                  title='Distribution of Forecast Errors by Lead Time',\n",
    "                  labels={'hours_ahead': 'Hours Ahead of Forecast',\n",
    "                         'error': 'Forecast Error (°F)'})\n",
    "    fig1.show()\n",
    "    \n",
    "    # 2. Average absolute error by hour of day\n",
    "\n",
    "    \n",
    "    # In this graph, hour_of_day comes from forecast_time_hour which is derived from forecast_time in our data processing:\n",
    "    # So this graph shows the average error magnitude for each hour of the day that was being forecast for (the forecast_time), not when the forecast was made (created_at).\n",
    "    #     For example, if the bar at hour 14 (2 PM EST) shows an error of 3°F, this means:\n",
    "    #         For all forecasts that were predicting the temperature at 2 PM\n",
    "    #         Regardless of when those forecasts were made (could be 6 hours ahead, 12 hours ahead, etc.)\n",
    "    #         The average absolute error was 3°F\n",
    "    \n",
    "    hourly_mae = df_accuracy.groupby('hour_of_day')['error_magnitude'].mean().reset_index()\n",
    "    fig2 = px.bar(hourly_mae,\n",
    "                  x='hour_of_day',\n",
    "                  y='error_magnitude',\n",
    "                  title='Average Forecast Error by Hour of Day (EST)',\n",
    "                  labels={'hour_of_day': 'Hour of Day (EST)',\n",
    "                         'error_magnitude': 'Mean Absolute Error (°F)'})\n",
    "    fig2.show()\n",
    "    \n",
    "    # 3. Heatmap of average absolute error by hour of day and hours ahead\n",
    "    pivot_data = df_accuracy.pivot_table(\n",
    "        values='error_magnitude',\n",
    "        index='hour_of_day',\n",
    "        columns='hours_ahead',\n",
    "        aggfunc='mean'\n",
    "    )\n",
    "    \n",
    "    fig3 = px.imshow(pivot_data,\n",
    "                     title='Error Heatmap: Hour of Day vs Forecast Lead Time',\n",
    "                     labels=dict(x='Hours Ahead', y='Hour of Day (EST)', color='Mean Absolute Error (°F)'),\n",
    "                     aspect='auto',\n",
    "                     color_continuous_scale='RdYlBu_r')\n",
    "    fig3.show()\n",
    "    \n",
    "    # 4. Summary statistics\n",
    "    print(\"\\nSummary Statistics:\")\n",
    "    print(f\"Overall Mean Absolute Error: {df_accuracy['error_magnitude'].mean():.2f}°F\")\n",
    "    print(f\"Median Absolute Error: {df_accuracy['error_magnitude'].median():.2f}°F\")\n",
    "    print(\"\\nMean Absolute Error by Lead Time:\")\n",
    "    print(df_accuracy.groupby('hours_ahead')['error_magnitude'].mean().round(2))\n",
    "    \n",
    "    # 5. Scatter plot with simple linear trendline instead of LOWESS\n",
    "    fig4 = px.scatter(df_accuracy,\n",
    "                      x='hours_ahead',\n",
    "                      y='error_magnitude',\n",
    "                      trendline=\"ols\",  # Changed from \"lowess\" to \"ols\" (linear)\n",
    "                      title='Forecast Error vs Lead Time with Trend',\n",
    "                      labels={'hours_ahead': 'Hours Ahead of Forecast',\n",
    "                             'error_magnitude': 'Absolute Error (°F)'},\n",
    "                      opacity=0.5)\n",
    "    fig4.show()\n",
    "    \n",
    "    return df_accuracy\n",
    "\n",
    "# Run the analysis\n",
    "df_accuracy = analyze_forecast_accuracy(df_forecasts, df_observations, grouped_forecasts)"
   ]
  },
  {
   "cell_type": "code",
   "execution_count": 9,
   "metadata": {},
   "outputs": [
    {
     "data": {
      "application/vnd.plotly.v1+json": {
       "config": {
        "plotlyServerURL": "https://plot.ly"
       },
       "data": [
        {
         "alignmentgroup": "True",
         "customdata": [
          [
           22
          ],
          [
           21
          ],
          [
           20
          ],
          [
           19
          ],
          [
           18
          ],
          [
           17
          ],
          [
           16
          ],
          [
           15
          ],
          [
           14
          ],
          [
           13
          ],
          [
           12
          ],
          [
           11
          ],
          [
           10
          ],
          [
           9
          ],
          [
           9
          ],
          [
           8
          ],
          [
           7
          ],
          [
           6
          ],
          [
           5
          ],
          [
           4
          ],
          [
           3
          ],
          [
           2
          ],
          [
           1
          ]
         ],
         "hovertemplate": "Hours Ahead of Forecast Time=%{x}<br>Mean Absolute Error (°F)=%{y}<br>count=%{customdata[0]}<extra></extra>",
         "legendgroup": "",
         "marker": {
          "color": "#636efa",
          "pattern": {
           "shape": ""
          }
         },
         "name": "",
         "offsetgroup": "",
         "orientation": "v",
         "showlegend": false,
         "textposition": "auto",
         "type": "bar",
         "x": [
          1,
          2,
          3,
          4,
          5,
          6,
          7,
          8,
          9,
          10,
          11,
          12,
          13,
          14,
          15,
          16,
          17,
          18,
          19,
          20,
          21,
          22,
          23
         ],
         "xaxis": "x",
         "y": [
          1.890454545454544,
          1.8909523809523794,
          1.9954999999999987,
          2.1068421052631563,
          2.2727777777777765,
          2.5064705882352922,
          2.7637499999999977,
          2.7553333333333314,
          2.684999999999998,
          2.3392307692307672,
          1.799166666666664,
          1.3190909090909064,
          0.8669999999999973,
          0.6299999999999962,
          0.7233333333333299,
          0.7812499999999973,
          0.674285714285711,
          0.5566666666666636,
          0.45199999999999674,
          0.4999999999999982,
          0.6399999999999982,
          0.9199999999999982,
          0.9200000000000017
         ],
         "yaxis": "y"
        }
       ],
       "layout": {
        "barmode": "relative",
        "legend": {
         "tracegroupgap": 0
        },
        "template": {
         "data": {
          "bar": [
           {
            "error_x": {
             "color": "#2a3f5f"
            },
            "error_y": {
             "color": "#2a3f5f"
            },
            "marker": {
             "line": {
              "color": "#E5ECF6",
              "width": 0.5
             },
             "pattern": {
              "fillmode": "overlay",
              "size": 10,
              "solidity": 0.2
             }
            },
            "type": "bar"
           }
          ],
          "barpolar": [
           {
            "marker": {
             "line": {
              "color": "#E5ECF6",
              "width": 0.5
             },
             "pattern": {
              "fillmode": "overlay",
              "size": 10,
              "solidity": 0.2
             }
            },
            "type": "barpolar"
           }
          ],
          "carpet": [
           {
            "aaxis": {
             "endlinecolor": "#2a3f5f",
             "gridcolor": "white",
             "linecolor": "white",
             "minorgridcolor": "white",
             "startlinecolor": "#2a3f5f"
            },
            "baxis": {
             "endlinecolor": "#2a3f5f",
             "gridcolor": "white",
             "linecolor": "white",
             "minorgridcolor": "white",
             "startlinecolor": "#2a3f5f"
            },
            "type": "carpet"
           }
          ],
          "choropleth": [
           {
            "colorbar": {
             "outlinewidth": 0,
             "ticks": ""
            },
            "type": "choropleth"
           }
          ],
          "contour": [
           {
            "colorbar": {
             "outlinewidth": 0,
             "ticks": ""
            },
            "colorscale": [
             [
              0,
              "#0d0887"
             ],
             [
              0.1111111111111111,
              "#46039f"
             ],
             [
              0.2222222222222222,
              "#7201a8"
             ],
             [
              0.3333333333333333,
              "#9c179e"
             ],
             [
              0.4444444444444444,
              "#bd3786"
             ],
             [
              0.5555555555555556,
              "#d8576b"
             ],
             [
              0.6666666666666666,
              "#ed7953"
             ],
             [
              0.7777777777777778,
              "#fb9f3a"
             ],
             [
              0.8888888888888888,
              "#fdca26"
             ],
             [
              1,
              "#f0f921"
             ]
            ],
            "type": "contour"
           }
          ],
          "contourcarpet": [
           {
            "colorbar": {
             "outlinewidth": 0,
             "ticks": ""
            },
            "type": "contourcarpet"
           }
          ],
          "heatmap": [
           {
            "colorbar": {
             "outlinewidth": 0,
             "ticks": ""
            },
            "colorscale": [
             [
              0,
              "#0d0887"
             ],
             [
              0.1111111111111111,
              "#46039f"
             ],
             [
              0.2222222222222222,
              "#7201a8"
             ],
             [
              0.3333333333333333,
              "#9c179e"
             ],
             [
              0.4444444444444444,
              "#bd3786"
             ],
             [
              0.5555555555555556,
              "#d8576b"
             ],
             [
              0.6666666666666666,
              "#ed7953"
             ],
             [
              0.7777777777777778,
              "#fb9f3a"
             ],
             [
              0.8888888888888888,
              "#fdca26"
             ],
             [
              1,
              "#f0f921"
             ]
            ],
            "type": "heatmap"
           }
          ],
          "heatmapgl": [
           {
            "colorbar": {
             "outlinewidth": 0,
             "ticks": ""
            },
            "colorscale": [
             [
              0,
              "#0d0887"
             ],
             [
              0.1111111111111111,
              "#46039f"
             ],
             [
              0.2222222222222222,
              "#7201a8"
             ],
             [
              0.3333333333333333,
              "#9c179e"
             ],
             [
              0.4444444444444444,
              "#bd3786"
             ],
             [
              0.5555555555555556,
              "#d8576b"
             ],
             [
              0.6666666666666666,
              "#ed7953"
             ],
             [
              0.7777777777777778,
              "#fb9f3a"
             ],
             [
              0.8888888888888888,
              "#fdca26"
             ],
             [
              1,
              "#f0f921"
             ]
            ],
            "type": "heatmapgl"
           }
          ],
          "histogram": [
           {
            "marker": {
             "pattern": {
              "fillmode": "overlay",
              "size": 10,
              "solidity": 0.2
             }
            },
            "type": "histogram"
           }
          ],
          "histogram2d": [
           {
            "colorbar": {
             "outlinewidth": 0,
             "ticks": ""
            },
            "colorscale": [
             [
              0,
              "#0d0887"
             ],
             [
              0.1111111111111111,
              "#46039f"
             ],
             [
              0.2222222222222222,
              "#7201a8"
             ],
             [
              0.3333333333333333,
              "#9c179e"
             ],
             [
              0.4444444444444444,
              "#bd3786"
             ],
             [
              0.5555555555555556,
              "#d8576b"
             ],
             [
              0.6666666666666666,
              "#ed7953"
             ],
             [
              0.7777777777777778,
              "#fb9f3a"
             ],
             [
              0.8888888888888888,
              "#fdca26"
             ],
             [
              1,
              "#f0f921"
             ]
            ],
            "type": "histogram2d"
           }
          ],
          "histogram2dcontour": [
           {
            "colorbar": {
             "outlinewidth": 0,
             "ticks": ""
            },
            "colorscale": [
             [
              0,
              "#0d0887"
             ],
             [
              0.1111111111111111,
              "#46039f"
             ],
             [
              0.2222222222222222,
              "#7201a8"
             ],
             [
              0.3333333333333333,
              "#9c179e"
             ],
             [
              0.4444444444444444,
              "#bd3786"
             ],
             [
              0.5555555555555556,
              "#d8576b"
             ],
             [
              0.6666666666666666,
              "#ed7953"
             ],
             [
              0.7777777777777778,
              "#fb9f3a"
             ],
             [
              0.8888888888888888,
              "#fdca26"
             ],
             [
              1,
              "#f0f921"
             ]
            ],
            "type": "histogram2dcontour"
           }
          ],
          "mesh3d": [
           {
            "colorbar": {
             "outlinewidth": 0,
             "ticks": ""
            },
            "type": "mesh3d"
           }
          ],
          "parcoords": [
           {
            "line": {
             "colorbar": {
              "outlinewidth": 0,
              "ticks": ""
             }
            },
            "type": "parcoords"
           }
          ],
          "pie": [
           {
            "automargin": true,
            "type": "pie"
           }
          ],
          "scatter": [
           {
            "fillpattern": {
             "fillmode": "overlay",
             "size": 10,
             "solidity": 0.2
            },
            "type": "scatter"
           }
          ],
          "scatter3d": [
           {
            "line": {
             "colorbar": {
              "outlinewidth": 0,
              "ticks": ""
             }
            },
            "marker": {
             "colorbar": {
              "outlinewidth": 0,
              "ticks": ""
             }
            },
            "type": "scatter3d"
           }
          ],
          "scattercarpet": [
           {
            "marker": {
             "colorbar": {
              "outlinewidth": 0,
              "ticks": ""
             }
            },
            "type": "scattercarpet"
           }
          ],
          "scattergeo": [
           {
            "marker": {
             "colorbar": {
              "outlinewidth": 0,
              "ticks": ""
             }
            },
            "type": "scattergeo"
           }
          ],
          "scattergl": [
           {
            "marker": {
             "colorbar": {
              "outlinewidth": 0,
              "ticks": ""
             }
            },
            "type": "scattergl"
           }
          ],
          "scattermapbox": [
           {
            "marker": {
             "colorbar": {
              "outlinewidth": 0,
              "ticks": ""
             }
            },
            "type": "scattermapbox"
           }
          ],
          "scatterpolar": [
           {
            "marker": {
             "colorbar": {
              "outlinewidth": 0,
              "ticks": ""
             }
            },
            "type": "scatterpolar"
           }
          ],
          "scatterpolargl": [
           {
            "marker": {
             "colorbar": {
              "outlinewidth": 0,
              "ticks": ""
             }
            },
            "type": "scatterpolargl"
           }
          ],
          "scatterternary": [
           {
            "marker": {
             "colorbar": {
              "outlinewidth": 0,
              "ticks": ""
             }
            },
            "type": "scatterternary"
           }
          ],
          "surface": [
           {
            "colorbar": {
             "outlinewidth": 0,
             "ticks": ""
            },
            "colorscale": [
             [
              0,
              "#0d0887"
             ],
             [
              0.1111111111111111,
              "#46039f"
             ],
             [
              0.2222222222222222,
              "#7201a8"
             ],
             [
              0.3333333333333333,
              "#9c179e"
             ],
             [
              0.4444444444444444,
              "#bd3786"
             ],
             [
              0.5555555555555556,
              "#d8576b"
             ],
             [
              0.6666666666666666,
              "#ed7953"
             ],
             [
              0.7777777777777778,
              "#fb9f3a"
             ],
             [
              0.8888888888888888,
              "#fdca26"
             ],
             [
              1,
              "#f0f921"
             ]
            ],
            "type": "surface"
           }
          ],
          "table": [
           {
            "cells": {
             "fill": {
              "color": "#EBF0F8"
             },
             "line": {
              "color": "white"
             }
            },
            "header": {
             "fill": {
              "color": "#C8D4E3"
             },
             "line": {
              "color": "white"
             }
            },
            "type": "table"
           }
          ]
         },
         "layout": {
          "annotationdefaults": {
           "arrowcolor": "#2a3f5f",
           "arrowhead": 0,
           "arrowwidth": 1
          },
          "autotypenumbers": "strict",
          "coloraxis": {
           "colorbar": {
            "outlinewidth": 0,
            "ticks": ""
           }
          },
          "colorscale": {
           "diverging": [
            [
             0,
             "#8e0152"
            ],
            [
             0.1,
             "#c51b7d"
            ],
            [
             0.2,
             "#de77ae"
            ],
            [
             0.3,
             "#f1b6da"
            ],
            [
             0.4,
             "#fde0ef"
            ],
            [
             0.5,
             "#f7f7f7"
            ],
            [
             0.6,
             "#e6f5d0"
            ],
            [
             0.7,
             "#b8e186"
            ],
            [
             0.8,
             "#7fbc41"
            ],
            [
             0.9,
             "#4d9221"
            ],
            [
             1,
             "#276419"
            ]
           ],
           "sequential": [
            [
             0,
             "#0d0887"
            ],
            [
             0.1111111111111111,
             "#46039f"
            ],
            [
             0.2222222222222222,
             "#7201a8"
            ],
            [
             0.3333333333333333,
             "#9c179e"
            ],
            [
             0.4444444444444444,
             "#bd3786"
            ],
            [
             0.5555555555555556,
             "#d8576b"
            ],
            [
             0.6666666666666666,
             "#ed7953"
            ],
            [
             0.7777777777777778,
             "#fb9f3a"
            ],
            [
             0.8888888888888888,
             "#fdca26"
            ],
            [
             1,
             "#f0f921"
            ]
           ],
           "sequentialminus": [
            [
             0,
             "#0d0887"
            ],
            [
             0.1111111111111111,
             "#46039f"
            ],
            [
             0.2222222222222222,
             "#7201a8"
            ],
            [
             0.3333333333333333,
             "#9c179e"
            ],
            [
             0.4444444444444444,
             "#bd3786"
            ],
            [
             0.5555555555555556,
             "#d8576b"
            ],
            [
             0.6666666666666666,
             "#ed7953"
            ],
            [
             0.7777777777777778,
             "#fb9f3a"
            ],
            [
             0.8888888888888888,
             "#fdca26"
            ],
            [
             1,
             "#f0f921"
            ]
           ]
          },
          "colorway": [
           "#636efa",
           "#EF553B",
           "#00cc96",
           "#ab63fa",
           "#FFA15A",
           "#19d3f3",
           "#FF6692",
           "#B6E880",
           "#FF97FF",
           "#FECB52"
          ],
          "font": {
           "color": "#2a3f5f"
          },
          "geo": {
           "bgcolor": "white",
           "lakecolor": "white",
           "landcolor": "#E5ECF6",
           "showlakes": true,
           "showland": true,
           "subunitcolor": "white"
          },
          "hoverlabel": {
           "align": "left"
          },
          "hovermode": "closest",
          "mapbox": {
           "style": "light"
          },
          "paper_bgcolor": "white",
          "plot_bgcolor": "#E5ECF6",
          "polar": {
           "angularaxis": {
            "gridcolor": "white",
            "linecolor": "white",
            "ticks": ""
           },
           "bgcolor": "#E5ECF6",
           "radialaxis": {
            "gridcolor": "white",
            "linecolor": "white",
            "ticks": ""
           }
          },
          "scene": {
           "xaxis": {
            "backgroundcolor": "#E5ECF6",
            "gridcolor": "white",
            "gridwidth": 2,
            "linecolor": "white",
            "showbackground": true,
            "ticks": "",
            "zerolinecolor": "white"
           },
           "yaxis": {
            "backgroundcolor": "#E5ECF6",
            "gridcolor": "white",
            "gridwidth": 2,
            "linecolor": "white",
            "showbackground": true,
            "ticks": "",
            "zerolinecolor": "white"
           },
           "zaxis": {
            "backgroundcolor": "#E5ECF6",
            "gridcolor": "white",
            "gridwidth": 2,
            "linecolor": "white",
            "showbackground": true,
            "ticks": "",
            "zerolinecolor": "white"
           }
          },
          "shapedefaults": {
           "line": {
            "color": "#2a3f5f"
           }
          },
          "ternary": {
           "aaxis": {
            "gridcolor": "white",
            "linecolor": "white",
            "ticks": ""
           },
           "baxis": {
            "gridcolor": "white",
            "linecolor": "white",
            "ticks": ""
           },
           "bgcolor": "#E5ECF6",
           "caxis": {
            "gridcolor": "white",
            "linecolor": "white",
            "ticks": ""
           }
          },
          "title": {
           "x": 0.05
          },
          "xaxis": {
           "automargin": true,
           "gridcolor": "white",
           "linecolor": "white",
           "ticks": "",
           "title": {
            "standoff": 15
           },
           "zerolinecolor": "white",
           "zerolinewidth": 2
          },
          "yaxis": {
           "automargin": true,
           "gridcolor": "white",
           "linecolor": "white",
           "ticks": "",
           "title": {
            "standoff": 15
           },
           "zerolinecolor": "white",
           "zerolinewidth": 2
          }
         }
        },
        "title": {
         "text": "Average Forecast Error by Hours Ahead"
        },
        "xaxis": {
         "anchor": "y",
         "domain": [
          0,
          1
         ],
         "title": {
          "text": "Hours Ahead of Forecast Time"
         }
        },
        "yaxis": {
         "anchor": "x",
         "domain": [
          0,
          1
         ],
         "title": {
          "text": "Mean Absolute Error (°F)"
         }
        }
       }
      }
     },
     "metadata": {},
     "output_type": "display_data"
    },
    {
     "data": {
      "application/vnd.plotly.v1+json": {
       "config": {
        "plotlyServerURL": "https://plot.ly"
       },
       "data": [
        {
         "alignmentgroup": "True",
         "hovertemplate": "Hour Forecast Was Made (EST)=%{x}<br>Mean Absolute Error (°F)=%{y}<extra></extra>",
         "legendgroup": "",
         "marker": {
          "color": "#636efa",
          "pattern": {
           "shape": ""
          }
         },
         "name": "",
         "offsetgroup": "",
         "orientation": "v",
         "showlegend": false,
         "textposition": "auto",
         "type": "bar",
         "x": [
          0,
          1,
          2,
          3,
          4,
          5,
          6,
          7,
          9,
          10,
          11,
          12,
          13,
          14,
          15,
          16,
          17,
          18,
          19,
          20,
          21,
          23
         ],
         "xaxis": "x",
         "y": [
          2.217727272727271,
          2.2261904761904745,
          2.285499999999998,
          2.403684210526314,
          2.483888888888887,
          2.573529411764704,
          2.106874999999998,
          1.9779999999999978,
          1.3592307692307666,
          1.049166666666664,
          0.8718181818181789,
          0.8589999999999968,
          0.8344444444444411,
          0.7812499999999973,
          0.674285714285711,
          0.9433333333333316,
          0.9159999999999983,
          0.8300000000000001,
          1.2533333333333327,
          1.4199999999999982,
          1.9200000000000017,
          2.2065217391304333
         ],
         "yaxis": "y"
        }
       ],
       "layout": {
        "barmode": "relative",
        "legend": {
         "tracegroupgap": 0
        },
        "template": {
         "data": {
          "bar": [
           {
            "error_x": {
             "color": "#2a3f5f"
            },
            "error_y": {
             "color": "#2a3f5f"
            },
            "marker": {
             "line": {
              "color": "#E5ECF6",
              "width": 0.5
             },
             "pattern": {
              "fillmode": "overlay",
              "size": 10,
              "solidity": 0.2
             }
            },
            "type": "bar"
           }
          ],
          "barpolar": [
           {
            "marker": {
             "line": {
              "color": "#E5ECF6",
              "width": 0.5
             },
             "pattern": {
              "fillmode": "overlay",
              "size": 10,
              "solidity": 0.2
             }
            },
            "type": "barpolar"
           }
          ],
          "carpet": [
           {
            "aaxis": {
             "endlinecolor": "#2a3f5f",
             "gridcolor": "white",
             "linecolor": "white",
             "minorgridcolor": "white",
             "startlinecolor": "#2a3f5f"
            },
            "baxis": {
             "endlinecolor": "#2a3f5f",
             "gridcolor": "white",
             "linecolor": "white",
             "minorgridcolor": "white",
             "startlinecolor": "#2a3f5f"
            },
            "type": "carpet"
           }
          ],
          "choropleth": [
           {
            "colorbar": {
             "outlinewidth": 0,
             "ticks": ""
            },
            "type": "choropleth"
           }
          ],
          "contour": [
           {
            "colorbar": {
             "outlinewidth": 0,
             "ticks": ""
            },
            "colorscale": [
             [
              0,
              "#0d0887"
             ],
             [
              0.1111111111111111,
              "#46039f"
             ],
             [
              0.2222222222222222,
              "#7201a8"
             ],
             [
              0.3333333333333333,
              "#9c179e"
             ],
             [
              0.4444444444444444,
              "#bd3786"
             ],
             [
              0.5555555555555556,
              "#d8576b"
             ],
             [
              0.6666666666666666,
              "#ed7953"
             ],
             [
              0.7777777777777778,
              "#fb9f3a"
             ],
             [
              0.8888888888888888,
              "#fdca26"
             ],
             [
              1,
              "#f0f921"
             ]
            ],
            "type": "contour"
           }
          ],
          "contourcarpet": [
           {
            "colorbar": {
             "outlinewidth": 0,
             "ticks": ""
            },
            "type": "contourcarpet"
           }
          ],
          "heatmap": [
           {
            "colorbar": {
             "outlinewidth": 0,
             "ticks": ""
            },
            "colorscale": [
             [
              0,
              "#0d0887"
             ],
             [
              0.1111111111111111,
              "#46039f"
             ],
             [
              0.2222222222222222,
              "#7201a8"
             ],
             [
              0.3333333333333333,
              "#9c179e"
             ],
             [
              0.4444444444444444,
              "#bd3786"
             ],
             [
              0.5555555555555556,
              "#d8576b"
             ],
             [
              0.6666666666666666,
              "#ed7953"
             ],
             [
              0.7777777777777778,
              "#fb9f3a"
             ],
             [
              0.8888888888888888,
              "#fdca26"
             ],
             [
              1,
              "#f0f921"
             ]
            ],
            "type": "heatmap"
           }
          ],
          "heatmapgl": [
           {
            "colorbar": {
             "outlinewidth": 0,
             "ticks": ""
            },
            "colorscale": [
             [
              0,
              "#0d0887"
             ],
             [
              0.1111111111111111,
              "#46039f"
             ],
             [
              0.2222222222222222,
              "#7201a8"
             ],
             [
              0.3333333333333333,
              "#9c179e"
             ],
             [
              0.4444444444444444,
              "#bd3786"
             ],
             [
              0.5555555555555556,
              "#d8576b"
             ],
             [
              0.6666666666666666,
              "#ed7953"
             ],
             [
              0.7777777777777778,
              "#fb9f3a"
             ],
             [
              0.8888888888888888,
              "#fdca26"
             ],
             [
              1,
              "#f0f921"
             ]
            ],
            "type": "heatmapgl"
           }
          ],
          "histogram": [
           {
            "marker": {
             "pattern": {
              "fillmode": "overlay",
              "size": 10,
              "solidity": 0.2
             }
            },
            "type": "histogram"
           }
          ],
          "histogram2d": [
           {
            "colorbar": {
             "outlinewidth": 0,
             "ticks": ""
            },
            "colorscale": [
             [
              0,
              "#0d0887"
             ],
             [
              0.1111111111111111,
              "#46039f"
             ],
             [
              0.2222222222222222,
              "#7201a8"
             ],
             [
              0.3333333333333333,
              "#9c179e"
             ],
             [
              0.4444444444444444,
              "#bd3786"
             ],
             [
              0.5555555555555556,
              "#d8576b"
             ],
             [
              0.6666666666666666,
              "#ed7953"
             ],
             [
              0.7777777777777778,
              "#fb9f3a"
             ],
             [
              0.8888888888888888,
              "#fdca26"
             ],
             [
              1,
              "#f0f921"
             ]
            ],
            "type": "histogram2d"
           }
          ],
          "histogram2dcontour": [
           {
            "colorbar": {
             "outlinewidth": 0,
             "ticks": ""
            },
            "colorscale": [
             [
              0,
              "#0d0887"
             ],
             [
              0.1111111111111111,
              "#46039f"
             ],
             [
              0.2222222222222222,
              "#7201a8"
             ],
             [
              0.3333333333333333,
              "#9c179e"
             ],
             [
              0.4444444444444444,
              "#bd3786"
             ],
             [
              0.5555555555555556,
              "#d8576b"
             ],
             [
              0.6666666666666666,
              "#ed7953"
             ],
             [
              0.7777777777777778,
              "#fb9f3a"
             ],
             [
              0.8888888888888888,
              "#fdca26"
             ],
             [
              1,
              "#f0f921"
             ]
            ],
            "type": "histogram2dcontour"
           }
          ],
          "mesh3d": [
           {
            "colorbar": {
             "outlinewidth": 0,
             "ticks": ""
            },
            "type": "mesh3d"
           }
          ],
          "parcoords": [
           {
            "line": {
             "colorbar": {
              "outlinewidth": 0,
              "ticks": ""
             }
            },
            "type": "parcoords"
           }
          ],
          "pie": [
           {
            "automargin": true,
            "type": "pie"
           }
          ],
          "scatter": [
           {
            "fillpattern": {
             "fillmode": "overlay",
             "size": 10,
             "solidity": 0.2
            },
            "type": "scatter"
           }
          ],
          "scatter3d": [
           {
            "line": {
             "colorbar": {
              "outlinewidth": 0,
              "ticks": ""
             }
            },
            "marker": {
             "colorbar": {
              "outlinewidth": 0,
              "ticks": ""
             }
            },
            "type": "scatter3d"
           }
          ],
          "scattercarpet": [
           {
            "marker": {
             "colorbar": {
              "outlinewidth": 0,
              "ticks": ""
             }
            },
            "type": "scattercarpet"
           }
          ],
          "scattergeo": [
           {
            "marker": {
             "colorbar": {
              "outlinewidth": 0,
              "ticks": ""
             }
            },
            "type": "scattergeo"
           }
          ],
          "scattergl": [
           {
            "marker": {
             "colorbar": {
              "outlinewidth": 0,
              "ticks": ""
             }
            },
            "type": "scattergl"
           }
          ],
          "scattermapbox": [
           {
            "marker": {
             "colorbar": {
              "outlinewidth": 0,
              "ticks": ""
             }
            },
            "type": "scattermapbox"
           }
          ],
          "scatterpolar": [
           {
            "marker": {
             "colorbar": {
              "outlinewidth": 0,
              "ticks": ""
             }
            },
            "type": "scatterpolar"
           }
          ],
          "scatterpolargl": [
           {
            "marker": {
             "colorbar": {
              "outlinewidth": 0,
              "ticks": ""
             }
            },
            "type": "scatterpolargl"
           }
          ],
          "scatterternary": [
           {
            "marker": {
             "colorbar": {
              "outlinewidth": 0,
              "ticks": ""
             }
            },
            "type": "scatterternary"
           }
          ],
          "surface": [
           {
            "colorbar": {
             "outlinewidth": 0,
             "ticks": ""
            },
            "colorscale": [
             [
              0,
              "#0d0887"
             ],
             [
              0.1111111111111111,
              "#46039f"
             ],
             [
              0.2222222222222222,
              "#7201a8"
             ],
             [
              0.3333333333333333,
              "#9c179e"
             ],
             [
              0.4444444444444444,
              "#bd3786"
             ],
             [
              0.5555555555555556,
              "#d8576b"
             ],
             [
              0.6666666666666666,
              "#ed7953"
             ],
             [
              0.7777777777777778,
              "#fb9f3a"
             ],
             [
              0.8888888888888888,
              "#fdca26"
             ],
             [
              1,
              "#f0f921"
             ]
            ],
            "type": "surface"
           }
          ],
          "table": [
           {
            "cells": {
             "fill": {
              "color": "#EBF0F8"
             },
             "line": {
              "color": "white"
             }
            },
            "header": {
             "fill": {
              "color": "#C8D4E3"
             },
             "line": {
              "color": "white"
             }
            },
            "type": "table"
           }
          ]
         },
         "layout": {
          "annotationdefaults": {
           "arrowcolor": "#2a3f5f",
           "arrowhead": 0,
           "arrowwidth": 1
          },
          "autotypenumbers": "strict",
          "coloraxis": {
           "colorbar": {
            "outlinewidth": 0,
            "ticks": ""
           }
          },
          "colorscale": {
           "diverging": [
            [
             0,
             "#8e0152"
            ],
            [
             0.1,
             "#c51b7d"
            ],
            [
             0.2,
             "#de77ae"
            ],
            [
             0.3,
             "#f1b6da"
            ],
            [
             0.4,
             "#fde0ef"
            ],
            [
             0.5,
             "#f7f7f7"
            ],
            [
             0.6,
             "#e6f5d0"
            ],
            [
             0.7,
             "#b8e186"
            ],
            [
             0.8,
             "#7fbc41"
            ],
            [
             0.9,
             "#4d9221"
            ],
            [
             1,
             "#276419"
            ]
           ],
           "sequential": [
            [
             0,
             "#0d0887"
            ],
            [
             0.1111111111111111,
             "#46039f"
            ],
            [
             0.2222222222222222,
             "#7201a8"
            ],
            [
             0.3333333333333333,
             "#9c179e"
            ],
            [
             0.4444444444444444,
             "#bd3786"
            ],
            [
             0.5555555555555556,
             "#d8576b"
            ],
            [
             0.6666666666666666,
             "#ed7953"
            ],
            [
             0.7777777777777778,
             "#fb9f3a"
            ],
            [
             0.8888888888888888,
             "#fdca26"
            ],
            [
             1,
             "#f0f921"
            ]
           ],
           "sequentialminus": [
            [
             0,
             "#0d0887"
            ],
            [
             0.1111111111111111,
             "#46039f"
            ],
            [
             0.2222222222222222,
             "#7201a8"
            ],
            [
             0.3333333333333333,
             "#9c179e"
            ],
            [
             0.4444444444444444,
             "#bd3786"
            ],
            [
             0.5555555555555556,
             "#d8576b"
            ],
            [
             0.6666666666666666,
             "#ed7953"
            ],
            [
             0.7777777777777778,
             "#fb9f3a"
            ],
            [
             0.8888888888888888,
             "#fdca26"
            ],
            [
             1,
             "#f0f921"
            ]
           ]
          },
          "colorway": [
           "#636efa",
           "#EF553B",
           "#00cc96",
           "#ab63fa",
           "#FFA15A",
           "#19d3f3",
           "#FF6692",
           "#B6E880",
           "#FF97FF",
           "#FECB52"
          ],
          "font": {
           "color": "#2a3f5f"
          },
          "geo": {
           "bgcolor": "white",
           "lakecolor": "white",
           "landcolor": "#E5ECF6",
           "showlakes": true,
           "showland": true,
           "subunitcolor": "white"
          },
          "hoverlabel": {
           "align": "left"
          },
          "hovermode": "closest",
          "mapbox": {
           "style": "light"
          },
          "paper_bgcolor": "white",
          "plot_bgcolor": "#E5ECF6",
          "polar": {
           "angularaxis": {
            "gridcolor": "white",
            "linecolor": "white",
            "ticks": ""
           },
           "bgcolor": "#E5ECF6",
           "radialaxis": {
            "gridcolor": "white",
            "linecolor": "white",
            "ticks": ""
           }
          },
          "scene": {
           "xaxis": {
            "backgroundcolor": "#E5ECF6",
            "gridcolor": "white",
            "gridwidth": 2,
            "linecolor": "white",
            "showbackground": true,
            "ticks": "",
            "zerolinecolor": "white"
           },
           "yaxis": {
            "backgroundcolor": "#E5ECF6",
            "gridcolor": "white",
            "gridwidth": 2,
            "linecolor": "white",
            "showbackground": true,
            "ticks": "",
            "zerolinecolor": "white"
           },
           "zaxis": {
            "backgroundcolor": "#E5ECF6",
            "gridcolor": "white",
            "gridwidth": 2,
            "linecolor": "white",
            "showbackground": true,
            "ticks": "",
            "zerolinecolor": "white"
           }
          },
          "shapedefaults": {
           "line": {
            "color": "#2a3f5f"
           }
          },
          "ternary": {
           "aaxis": {
            "gridcolor": "white",
            "linecolor": "white",
            "ticks": ""
           },
           "baxis": {
            "gridcolor": "white",
            "linecolor": "white",
            "ticks": ""
           },
           "bgcolor": "#E5ECF6",
           "caxis": {
            "gridcolor": "white",
            "linecolor": "white",
            "ticks": ""
           }
          },
          "title": {
           "x": 0.05
          },
          "xaxis": {
           "automargin": true,
           "gridcolor": "white",
           "linecolor": "white",
           "ticks": "",
           "title": {
            "standoff": 15
           },
           "zerolinecolor": "white",
           "zerolinewidth": 2
          },
          "yaxis": {
           "automargin": true,
           "gridcolor": "white",
           "linecolor": "white",
           "ticks": "",
           "title": {
            "standoff": 15
           },
           "zerolinecolor": "white",
           "zerolinewidth": 2
          }
         }
        },
        "title": {
         "text": "Average Forecast Error by Hour Created (EST)"
        },
        "xaxis": {
         "anchor": "y",
         "domain": [
          0,
          1
         ],
         "title": {
          "text": "Hour Forecast Was Made (EST)"
         }
        },
        "yaxis": {
         "anchor": "x",
         "domain": [
          0,
          1
         ],
         "title": {
          "text": "Mean Absolute Error (°F)"
         }
        }
       }
      }
     },
     "metadata": {},
     "output_type": "display_data"
    },
    {
     "data": {
      "application/vnd.plotly.v1+json": {
       "config": {
        "plotlyServerURL": "https://plot.ly"
       },
       "data": [
        {
         "coloraxis": "coloraxis",
         "hovertemplate": "Hours Ahead: %{x}<br>Hour Forecast Was Made (EST): %{y}<br>Mean Absolute Error (°F): %{z}<extra></extra>",
         "name": "0",
         "type": "heatmap",
         "x": [
          1,
          2,
          3,
          4,
          5,
          6,
          7,
          8,
          9,
          10,
          11,
          12,
          13,
          14,
          15,
          16,
          17,
          18,
          19,
          20,
          21,
          22,
          23
         ],
         "xaxis": "x",
         "y": [
          0,
          1,
          2,
          3,
          4,
          5,
          6,
          7,
          9,
          10,
          11,
          12,
          13,
          14,
          15,
          16,
          17,
          18,
          19,
          20,
          21,
          23
         ],
         "yaxis": "y",
         "z": [
          [
           2.039999999999999,
           1.0399999999999991,
           0.03999999999999915,
           0.9600000000000009,
           0.9600000000000009,
           2.039999999999999,
           3.039999999999999,
           8,
           9,
           7.079999999999998,
           5,
           3,
           0.0799999999999983,
           0.2599999999999909,
           1.5300000000000011,
           1.3799999999999955,
           1.0799999999999983,
           0.2599999999999909,
           0.0799999999999983,
           0.0799999999999983,
           0.9199999999999946,
           0.9200000000000017,
           null
          ],
          [
           1.0399999999999991,
           0.03999999999999915,
           0.9600000000000009,
           0.9600000000000009,
           2.039999999999999,
           3.039999999999999,
           8,
           9,
           7.079999999999998,
           5,
           3,
           0.0799999999999983,
           0.2599999999999909,
           1.5300000000000011,
           1.3799999999999955,
           1.0799999999999983,
           0.2599999999999909,
           0.0799999999999983,
           0.0799999999999983,
           0.9199999999999946,
           0.9200000000000017,
           null,
           null
          ],
          [
           0.03999999999999915,
           0.9600000000000009,
           0.9600000000000009,
           2.039999999999999,
           3.039999999999999,
           8,
           9,
           7.079999999999998,
           5,
           3,
           0.0799999999999983,
           0.2599999999999909,
           1.5300000000000011,
           1.3799999999999955,
           1.0799999999999983,
           0.2599999999999909,
           0.0799999999999983,
           0.0799999999999983,
           0.9199999999999946,
           0.9200000000000017,
           null,
           null,
           null
          ],
          [
           0.9600000000000009,
           0.9600000000000009,
           2.039999999999999,
           3.039999999999999,
           8,
           9,
           7.079999999999998,
           5,
           3,
           0.0799999999999983,
           0.2599999999999909,
           1.5300000000000011,
           1.3799999999999955,
           1.0799999999999983,
           0.2599999999999909,
           0.0799999999999983,
           0.0799999999999983,
           0.9199999999999946,
           0.9200000000000017,
           null,
           null,
           null,
           null
          ],
          [
           0.9600000000000009,
           2.039999999999999,
           3.039999999999999,
           8,
           9,
           7.079999999999998,
           5,
           3,
           0.0799999999999983,
           0.2599999999999909,
           1.5300000000000011,
           1.3799999999999955,
           1.0799999999999983,
           0.2599999999999909,
           0.0799999999999983,
           0.0799999999999983,
           0.9199999999999946,
           0.9200000000000017,
           null,
           null,
           null,
           null,
           null
          ],
          [
           2.039999999999999,
           3.039999999999999,
           8,
           9,
           7.079999999999998,
           5,
           3,
           0.0799999999999983,
           0.2599999999999909,
           1.5300000000000011,
           1.3799999999999955,
           1.0799999999999983,
           0.2599999999999909,
           0.0799999999999983,
           0.0799999999999983,
           0.9199999999999946,
           0.9200000000000017,
           null,
           null,
           null,
           null,
           null,
           null
          ],
          [
           4.039999999999999,
           7,
           6,
           5.079999999999998,
           2,
           1,
           1.0799999999999983,
           1.259999999999991,
           1.5300000000000011,
           1.3799999999999955,
           1.0799999999999983,
           0.2599999999999909,
           0.0799999999999983,
           0.0799999999999983,
           0.9199999999999946,
           0.9200000000000017,
           null,
           null,
           null,
           null,
           null,
           null,
           null
          ],
          [
           7,
           6,
           5.079999999999998,
           2,
           1,
           1.0799999999999983,
           1.259999999999991,
           1.5300000000000011,
           1.3799999999999955,
           1.0799999999999983,
           0.2599999999999909,
           0.0799999999999983,
           0.0799999999999983,
           0.9199999999999946,
           0.9200000000000017,
           null,
           null,
           null,
           null,
           null,
           null,
           null,
           null
          ],
          [
           5.079999999999998,
           3,
           1,
           1.0799999999999983,
           1.259999999999991,
           1.5300000000000011,
           1.3799999999999955,
           1.0799999999999983,
           0.2599999999999909,
           0.0799999999999983,
           0.0799999999999983,
           0.9199999999999946,
           0.9200000000000017,
           null,
           null,
           null,
           null,
           null,
           null,
           null,
           null,
           null,
           null
          ],
          [
           3,
           1,
           1.0799999999999983,
           1.259999999999991,
           1.5300000000000011,
           1.3799999999999955,
           1.0799999999999983,
           0.2599999999999909,
           0.0799999999999983,
           0.0799999999999983,
           0.9199999999999946,
           0.9200000000000017,
           null,
           null,
           null,
           null,
           null,
           null,
           null,
           null,
           null,
           null,
           null
          ],
          [
           1,
           1.0799999999999983,
           1.259999999999991,
           1.5300000000000011,
           1.3799999999999955,
           1.0799999999999983,
           0.2599999999999909,
           0.0799999999999983,
           0.0799999999999983,
           0.9199999999999946,
           0.9200000000000017,
           null,
           null,
           null,
           null,
           null,
           null,
           null,
           null,
           null,
           null,
           null,
           null
          ],
          [
           1.0799999999999983,
           1.259999999999991,
           1.5300000000000011,
           1.3799999999999955,
           1.0799999999999983,
           0.2599999999999909,
           0.0799999999999983,
           0.0799999999999983,
           0.9199999999999946,
           0.9200000000000017,
           null,
           null,
           null,
           null,
           null,
           null,
           null,
           null,
           null,
           null,
           null,
           null,
           null
          ],
          [
           1.259999999999991,
           1.5300000000000011,
           1.3799999999999955,
           1.0799999999999983,
           0.2599999999999909,
           0.0799999999999983,
           0.0799999999999983,
           0.9199999999999946,
           0.9200000000000017,
           null,
           null,
           null,
           null,
           null,
           null,
           null,
           null,
           null,
           null,
           null,
           null,
           null,
           null
          ],
          [
           1.5300000000000011,
           1.3799999999999955,
           1.0799999999999983,
           0.2599999999999909,
           0.0799999999999983,
           0.0799999999999983,
           0.9199999999999946,
           0.9200000000000017,
           null,
           null,
           null,
           null,
           null,
           null,
           null,
           null,
           null,
           null,
           null,
           null,
           null,
           null,
           null
          ],
          [
           1.3799999999999955,
           1.0799999999999983,
           0.2599999999999909,
           0.0799999999999983,
           0.0799999999999983,
           0.9199999999999946,
           0.9200000000000017,
           null,
           null,
           null,
           null,
           null,
           null,
           null,
           null,
           null,
           null,
           null,
           null,
           null,
           null,
           null,
           null
          ],
          [
           1.0799999999999983,
           1.259999999999991,
           1.0799999999999983,
           1.0799999999999983,
           1.0800000000000054,
           0.0799999999999983,
           null,
           null,
           null,
           null,
           null,
           null,
           null,
           null,
           null,
           null,
           null,
           null,
           null,
           null,
           null,
           null,
           null
          ],
          [
           1.259999999999991,
           1.0799999999999983,
           1.0799999999999983,
           1.0800000000000054,
           0.0799999999999983,
           null,
           null,
           null,
           null,
           null,
           null,
           null,
           null,
           null,
           null,
           null,
           null,
           null,
           null,
           null,
           null,
           null,
           null
          ],
          [
           1.0799999999999983,
           1.0799999999999983,
           1.0800000000000054,
           0.0799999999999983,
           null,
           null,
           null,
           null,
           null,
           null,
           null,
           null,
           null,
           null,
           null,
           null,
           null,
           null,
           null,
           null,
           null,
           null,
           null
          ],
          [
           0.9200000000000017,
           0.9199999999999946,
           1.9200000000000017,
           null,
           null,
           null,
           null,
           null,
           null,
           null,
           null,
           null,
           null,
           null,
           null,
           null,
           null,
           null,
           null,
           null,
           null,
           null,
           null
          ],
          [
           0.9199999999999946,
           1.9200000000000017,
           null,
           null,
           null,
           null,
           null,
           null,
           null,
           null,
           null,
           null,
           null,
           null,
           null,
           null,
           null,
           null,
           null,
           null,
           null,
           null,
           null
          ],
          [
           1.9200000000000017,
           null,
           null,
           null,
           null,
           null,
           null,
           null,
           null,
           null,
           null,
           null,
           null,
           null,
           null,
           null,
           null,
           null,
           null,
           null,
           null,
           null,
           null
          ],
          [
           1.9600000000000009,
           2.039999999999999,
           1.0399999999999991,
           0.03999999999999915,
           0.9600000000000009,
           0.9600000000000009,
           2.039999999999999,
           3.039999999999999,
           8,
           9,
           7.079999999999998,
           5,
           3,
           0.0799999999999983,
           0.2599999999999909,
           1.5300000000000011,
           1.3799999999999955,
           1.0799999999999983,
           0.2599999999999909,
           0.0799999999999983,
           0.0799999999999983,
           0.9199999999999946,
           0.9200000000000017
          ]
         ]
        }
       ],
       "layout": {
        "coloraxis": {
         "colorbar": {
          "title": {
           "text": "Mean Absolute Error (°F)"
          }
         },
         "colorscale": [
          [
           0,
           "rgb(49,54,149)"
          ],
          [
           0.1,
           "rgb(69,117,180)"
          ],
          [
           0.2,
           "rgb(116,173,209)"
          ],
          [
           0.3,
           "rgb(171,217,233)"
          ],
          [
           0.4,
           "rgb(224,243,248)"
          ],
          [
           0.5,
           "rgb(255,255,191)"
          ],
          [
           0.6,
           "rgb(254,224,144)"
          ],
          [
           0.7,
           "rgb(253,174,97)"
          ],
          [
           0.8,
           "rgb(244,109,67)"
          ],
          [
           0.9,
           "rgb(215,48,39)"
          ],
          [
           1,
           "rgb(165,0,38)"
          ]
         ]
        },
        "template": {
         "data": {
          "bar": [
           {
            "error_x": {
             "color": "#2a3f5f"
            },
            "error_y": {
             "color": "#2a3f5f"
            },
            "marker": {
             "line": {
              "color": "#E5ECF6",
              "width": 0.5
             },
             "pattern": {
              "fillmode": "overlay",
              "size": 10,
              "solidity": 0.2
             }
            },
            "type": "bar"
           }
          ],
          "barpolar": [
           {
            "marker": {
             "line": {
              "color": "#E5ECF6",
              "width": 0.5
             },
             "pattern": {
              "fillmode": "overlay",
              "size": 10,
              "solidity": 0.2
             }
            },
            "type": "barpolar"
           }
          ],
          "carpet": [
           {
            "aaxis": {
             "endlinecolor": "#2a3f5f",
             "gridcolor": "white",
             "linecolor": "white",
             "minorgridcolor": "white",
             "startlinecolor": "#2a3f5f"
            },
            "baxis": {
             "endlinecolor": "#2a3f5f",
             "gridcolor": "white",
             "linecolor": "white",
             "minorgridcolor": "white",
             "startlinecolor": "#2a3f5f"
            },
            "type": "carpet"
           }
          ],
          "choropleth": [
           {
            "colorbar": {
             "outlinewidth": 0,
             "ticks": ""
            },
            "type": "choropleth"
           }
          ],
          "contour": [
           {
            "colorbar": {
             "outlinewidth": 0,
             "ticks": ""
            },
            "colorscale": [
             [
              0,
              "#0d0887"
             ],
             [
              0.1111111111111111,
              "#46039f"
             ],
             [
              0.2222222222222222,
              "#7201a8"
             ],
             [
              0.3333333333333333,
              "#9c179e"
             ],
             [
              0.4444444444444444,
              "#bd3786"
             ],
             [
              0.5555555555555556,
              "#d8576b"
             ],
             [
              0.6666666666666666,
              "#ed7953"
             ],
             [
              0.7777777777777778,
              "#fb9f3a"
             ],
             [
              0.8888888888888888,
              "#fdca26"
             ],
             [
              1,
              "#f0f921"
             ]
            ],
            "type": "contour"
           }
          ],
          "contourcarpet": [
           {
            "colorbar": {
             "outlinewidth": 0,
             "ticks": ""
            },
            "type": "contourcarpet"
           }
          ],
          "heatmap": [
           {
            "colorbar": {
             "outlinewidth": 0,
             "ticks": ""
            },
            "colorscale": [
             [
              0,
              "#0d0887"
             ],
             [
              0.1111111111111111,
              "#46039f"
             ],
             [
              0.2222222222222222,
              "#7201a8"
             ],
             [
              0.3333333333333333,
              "#9c179e"
             ],
             [
              0.4444444444444444,
              "#bd3786"
             ],
             [
              0.5555555555555556,
              "#d8576b"
             ],
             [
              0.6666666666666666,
              "#ed7953"
             ],
             [
              0.7777777777777778,
              "#fb9f3a"
             ],
             [
              0.8888888888888888,
              "#fdca26"
             ],
             [
              1,
              "#f0f921"
             ]
            ],
            "type": "heatmap"
           }
          ],
          "heatmapgl": [
           {
            "colorbar": {
             "outlinewidth": 0,
             "ticks": ""
            },
            "colorscale": [
             [
              0,
              "#0d0887"
             ],
             [
              0.1111111111111111,
              "#46039f"
             ],
             [
              0.2222222222222222,
              "#7201a8"
             ],
             [
              0.3333333333333333,
              "#9c179e"
             ],
             [
              0.4444444444444444,
              "#bd3786"
             ],
             [
              0.5555555555555556,
              "#d8576b"
             ],
             [
              0.6666666666666666,
              "#ed7953"
             ],
             [
              0.7777777777777778,
              "#fb9f3a"
             ],
             [
              0.8888888888888888,
              "#fdca26"
             ],
             [
              1,
              "#f0f921"
             ]
            ],
            "type": "heatmapgl"
           }
          ],
          "histogram": [
           {
            "marker": {
             "pattern": {
              "fillmode": "overlay",
              "size": 10,
              "solidity": 0.2
             }
            },
            "type": "histogram"
           }
          ],
          "histogram2d": [
           {
            "colorbar": {
             "outlinewidth": 0,
             "ticks": ""
            },
            "colorscale": [
             [
              0,
              "#0d0887"
             ],
             [
              0.1111111111111111,
              "#46039f"
             ],
             [
              0.2222222222222222,
              "#7201a8"
             ],
             [
              0.3333333333333333,
              "#9c179e"
             ],
             [
              0.4444444444444444,
              "#bd3786"
             ],
             [
              0.5555555555555556,
              "#d8576b"
             ],
             [
              0.6666666666666666,
              "#ed7953"
             ],
             [
              0.7777777777777778,
              "#fb9f3a"
             ],
             [
              0.8888888888888888,
              "#fdca26"
             ],
             [
              1,
              "#f0f921"
             ]
            ],
            "type": "histogram2d"
           }
          ],
          "histogram2dcontour": [
           {
            "colorbar": {
             "outlinewidth": 0,
             "ticks": ""
            },
            "colorscale": [
             [
              0,
              "#0d0887"
             ],
             [
              0.1111111111111111,
              "#46039f"
             ],
             [
              0.2222222222222222,
              "#7201a8"
             ],
             [
              0.3333333333333333,
              "#9c179e"
             ],
             [
              0.4444444444444444,
              "#bd3786"
             ],
             [
              0.5555555555555556,
              "#d8576b"
             ],
             [
              0.6666666666666666,
              "#ed7953"
             ],
             [
              0.7777777777777778,
              "#fb9f3a"
             ],
             [
              0.8888888888888888,
              "#fdca26"
             ],
             [
              1,
              "#f0f921"
             ]
            ],
            "type": "histogram2dcontour"
           }
          ],
          "mesh3d": [
           {
            "colorbar": {
             "outlinewidth": 0,
             "ticks": ""
            },
            "type": "mesh3d"
           }
          ],
          "parcoords": [
           {
            "line": {
             "colorbar": {
              "outlinewidth": 0,
              "ticks": ""
             }
            },
            "type": "parcoords"
           }
          ],
          "pie": [
           {
            "automargin": true,
            "type": "pie"
           }
          ],
          "scatter": [
           {
            "fillpattern": {
             "fillmode": "overlay",
             "size": 10,
             "solidity": 0.2
            },
            "type": "scatter"
           }
          ],
          "scatter3d": [
           {
            "line": {
             "colorbar": {
              "outlinewidth": 0,
              "ticks": ""
             }
            },
            "marker": {
             "colorbar": {
              "outlinewidth": 0,
              "ticks": ""
             }
            },
            "type": "scatter3d"
           }
          ],
          "scattercarpet": [
           {
            "marker": {
             "colorbar": {
              "outlinewidth": 0,
              "ticks": ""
             }
            },
            "type": "scattercarpet"
           }
          ],
          "scattergeo": [
           {
            "marker": {
             "colorbar": {
              "outlinewidth": 0,
              "ticks": ""
             }
            },
            "type": "scattergeo"
           }
          ],
          "scattergl": [
           {
            "marker": {
             "colorbar": {
              "outlinewidth": 0,
              "ticks": ""
             }
            },
            "type": "scattergl"
           }
          ],
          "scattermapbox": [
           {
            "marker": {
             "colorbar": {
              "outlinewidth": 0,
              "ticks": ""
             }
            },
            "type": "scattermapbox"
           }
          ],
          "scatterpolar": [
           {
            "marker": {
             "colorbar": {
              "outlinewidth": 0,
              "ticks": ""
             }
            },
            "type": "scatterpolar"
           }
          ],
          "scatterpolargl": [
           {
            "marker": {
             "colorbar": {
              "outlinewidth": 0,
              "ticks": ""
             }
            },
            "type": "scatterpolargl"
           }
          ],
          "scatterternary": [
           {
            "marker": {
             "colorbar": {
              "outlinewidth": 0,
              "ticks": ""
             }
            },
            "type": "scatterternary"
           }
          ],
          "surface": [
           {
            "colorbar": {
             "outlinewidth": 0,
             "ticks": ""
            },
            "colorscale": [
             [
              0,
              "#0d0887"
             ],
             [
              0.1111111111111111,
              "#46039f"
             ],
             [
              0.2222222222222222,
              "#7201a8"
             ],
             [
              0.3333333333333333,
              "#9c179e"
             ],
             [
              0.4444444444444444,
              "#bd3786"
             ],
             [
              0.5555555555555556,
              "#d8576b"
             ],
             [
              0.6666666666666666,
              "#ed7953"
             ],
             [
              0.7777777777777778,
              "#fb9f3a"
             ],
             [
              0.8888888888888888,
              "#fdca26"
             ],
             [
              1,
              "#f0f921"
             ]
            ],
            "type": "surface"
           }
          ],
          "table": [
           {
            "cells": {
             "fill": {
              "color": "#EBF0F8"
             },
             "line": {
              "color": "white"
             }
            },
            "header": {
             "fill": {
              "color": "#C8D4E3"
             },
             "line": {
              "color": "white"
             }
            },
            "type": "table"
           }
          ]
         },
         "layout": {
          "annotationdefaults": {
           "arrowcolor": "#2a3f5f",
           "arrowhead": 0,
           "arrowwidth": 1
          },
          "autotypenumbers": "strict",
          "coloraxis": {
           "colorbar": {
            "outlinewidth": 0,
            "ticks": ""
           }
          },
          "colorscale": {
           "diverging": [
            [
             0,
             "#8e0152"
            ],
            [
             0.1,
             "#c51b7d"
            ],
            [
             0.2,
             "#de77ae"
            ],
            [
             0.3,
             "#f1b6da"
            ],
            [
             0.4,
             "#fde0ef"
            ],
            [
             0.5,
             "#f7f7f7"
            ],
            [
             0.6,
             "#e6f5d0"
            ],
            [
             0.7,
             "#b8e186"
            ],
            [
             0.8,
             "#7fbc41"
            ],
            [
             0.9,
             "#4d9221"
            ],
            [
             1,
             "#276419"
            ]
           ],
           "sequential": [
            [
             0,
             "#0d0887"
            ],
            [
             0.1111111111111111,
             "#46039f"
            ],
            [
             0.2222222222222222,
             "#7201a8"
            ],
            [
             0.3333333333333333,
             "#9c179e"
            ],
            [
             0.4444444444444444,
             "#bd3786"
            ],
            [
             0.5555555555555556,
             "#d8576b"
            ],
            [
             0.6666666666666666,
             "#ed7953"
            ],
            [
             0.7777777777777778,
             "#fb9f3a"
            ],
            [
             0.8888888888888888,
             "#fdca26"
            ],
            [
             1,
             "#f0f921"
            ]
           ],
           "sequentialminus": [
            [
             0,
             "#0d0887"
            ],
            [
             0.1111111111111111,
             "#46039f"
            ],
            [
             0.2222222222222222,
             "#7201a8"
            ],
            [
             0.3333333333333333,
             "#9c179e"
            ],
            [
             0.4444444444444444,
             "#bd3786"
            ],
            [
             0.5555555555555556,
             "#d8576b"
            ],
            [
             0.6666666666666666,
             "#ed7953"
            ],
            [
             0.7777777777777778,
             "#fb9f3a"
            ],
            [
             0.8888888888888888,
             "#fdca26"
            ],
            [
             1,
             "#f0f921"
            ]
           ]
          },
          "colorway": [
           "#636efa",
           "#EF553B",
           "#00cc96",
           "#ab63fa",
           "#FFA15A",
           "#19d3f3",
           "#FF6692",
           "#B6E880",
           "#FF97FF",
           "#FECB52"
          ],
          "font": {
           "color": "#2a3f5f"
          },
          "geo": {
           "bgcolor": "white",
           "lakecolor": "white",
           "landcolor": "#E5ECF6",
           "showlakes": true,
           "showland": true,
           "subunitcolor": "white"
          },
          "hoverlabel": {
           "align": "left"
          },
          "hovermode": "closest",
          "mapbox": {
           "style": "light"
          },
          "paper_bgcolor": "white",
          "plot_bgcolor": "#E5ECF6",
          "polar": {
           "angularaxis": {
            "gridcolor": "white",
            "linecolor": "white",
            "ticks": ""
           },
           "bgcolor": "#E5ECF6",
           "radialaxis": {
            "gridcolor": "white",
            "linecolor": "white",
            "ticks": ""
           }
          },
          "scene": {
           "xaxis": {
            "backgroundcolor": "#E5ECF6",
            "gridcolor": "white",
            "gridwidth": 2,
            "linecolor": "white",
            "showbackground": true,
            "ticks": "",
            "zerolinecolor": "white"
           },
           "yaxis": {
            "backgroundcolor": "#E5ECF6",
            "gridcolor": "white",
            "gridwidth": 2,
            "linecolor": "white",
            "showbackground": true,
            "ticks": "",
            "zerolinecolor": "white"
           },
           "zaxis": {
            "backgroundcolor": "#E5ECF6",
            "gridcolor": "white",
            "gridwidth": 2,
            "linecolor": "white",
            "showbackground": true,
            "ticks": "",
            "zerolinecolor": "white"
           }
          },
          "shapedefaults": {
           "line": {
            "color": "#2a3f5f"
           }
          },
          "ternary": {
           "aaxis": {
            "gridcolor": "white",
            "linecolor": "white",
            "ticks": ""
           },
           "baxis": {
            "gridcolor": "white",
            "linecolor": "white",
            "ticks": ""
           },
           "bgcolor": "#E5ECF6",
           "caxis": {
            "gridcolor": "white",
            "linecolor": "white",
            "ticks": ""
           }
          },
          "title": {
           "x": 0.05
          },
          "xaxis": {
           "automargin": true,
           "gridcolor": "white",
           "linecolor": "white",
           "ticks": "",
           "title": {
            "standoff": 15
           },
           "zerolinecolor": "white",
           "zerolinewidth": 2
          },
          "yaxis": {
           "automargin": true,
           "gridcolor": "white",
           "linecolor": "white",
           "ticks": "",
           "title": {
            "standoff": 15
           },
           "zerolinecolor": "white",
           "zerolinewidth": 2
          }
         }
        },
        "title": {
         "text": "Error Heatmap: Creation Hour vs Hours Ahead"
        },
        "xaxis": {
         "anchor": "y",
         "domain": [
          0,
          1
         ],
         "title": {
          "text": "Hours Ahead"
         }
        },
        "yaxis": {
         "anchor": "x",
         "autorange": "reversed",
         "domain": [
          0,
          1
         ],
         "title": {
          "text": "Hour Forecast Was Made (EST)"
         }
        }
       }
      }
     },
     "metadata": {},
     "output_type": "display_data"
    },
    {
     "name": "stdout",
     "output_type": "stream",
     "text": [
      "\n",
      "Summary Statistics by Forecast Horizon:\n",
      "0-6 hours ahead: 2.02°F (n=100)\n",
      "6-12 hours ahead: 2.50°F (n=87)\n",
      "12-24 hours ahead: 0.78°F (n=75)\n",
      "24-48 hours ahead: nan°F (n=0)\n",
      "48-72 hours ahead: nan°F (n=0)\n"
     ]
    }
   ],
   "source": [
    "import plotly.express as px\n",
    "import plotly.graph_objects as go\n",
    "from plotly.subplots import make_subplots\n",
    "\n",
    "def analyze_forecast_accuracy(df_forecasts, df_observations, grouped_forecasts):\n",
    "    \"\"\"Analyze and visualize forecast accuracy.\"\"\"\n",
    "    accuracy_data = []\n",
    "    \n",
    "    for forecast_time_hour, group in grouped_forecasts:\n",
    "        hour_observations = df_observations[\n",
    "            (df_observations['observed_time'] >= forecast_time_hour) &\n",
    "            (df_observations['observed_time'] < forecast_time_hour + timedelta(hours=1))\n",
    "        ]\n",
    "        \n",
    "        if not hour_observations.empty:\n",
    "            actual_temp = hour_observations['temperature'].mean()\n",
    "            \n",
    "            for _, forecast in group.iterrows():\n",
    "                hours_ahead = (forecast_time_hour - forecast['created_at']).total_seconds() / 3600\n",
    "                error = forecast['temperature'] - actual_temp\n",
    "                accuracy_data.append({\n",
    "                    'forecast_time': forecast_time_hour,\n",
    "                    'created_at': forecast['created_at'],\n",
    "                    'created_hour': forecast['created_at'].hour,\n",
    "                    'hours_ahead': round(hours_ahead),  # Round to nearest hour\n",
    "                    'error': error,\n",
    "                    'actual_temp': actual_temp,\n",
    "                    'forecast_temp': forecast['temperature'],\n",
    "                    'error_magnitude': abs(error)\n",
    "                })\n",
    "    \n",
    "    df_accuracy = pd.DataFrame(accuracy_data)\n",
    "    \n",
    "    # 1. Average error by how many hours ahead the forecast was made\n",
    "    hours_ahead_mae = df_accuracy.groupby('hours_ahead')['error_magnitude'].agg(['mean', 'count']).reset_index()\n",
    "    fig1 = px.bar(hours_ahead_mae,\n",
    "                  x='hours_ahead',\n",
    "                  y='mean',\n",
    "                  title='Average Forecast Error by Hours Ahead',\n",
    "                  labels={'hours_ahead': 'Hours Ahead of Forecast Time',\n",
    "                         'mean': 'Mean Absolute Error (°F)'},\n",
    "                  hover_data=['count'])  # Show number of forecasts for each bar\n",
    "    fig1.show()\n",
    "    \n",
    "    # 2. Average error by creation hour\n",
    "    created_hour_mae = df_accuracy.groupby('created_hour')['error_magnitude'].mean().reset_index()\n",
    "    fig2 = px.bar(created_hour_mae,\n",
    "                  x='created_hour',\n",
    "                  y='error_magnitude',\n",
    "                  title='Average Forecast Error by Hour Created (EST)',\n",
    "                  labels={'created_hour': 'Hour Forecast Was Made (EST)',\n",
    "                         'error_magnitude': 'Mean Absolute Error (°F)'})\n",
    "    fig2.show()\n",
    "    \n",
    "    # 3. Heatmap showing error by creation hour and hours ahead\n",
    "    pivot_data = df_accuracy.pivot_table(\n",
    "        values='error_magnitude',\n",
    "        index='created_hour',\n",
    "        columns='hours_ahead',\n",
    "        aggfunc='mean'\n",
    "    )\n",
    "    \n",
    "    fig3 = px.imshow(pivot_data,\n",
    "                     title='Error Heatmap: Creation Hour vs Hours Ahead',\n",
    "                     labels=dict(x='Hours Ahead', \n",
    "                               y='Hour Forecast Was Made (EST)', \n",
    "                               color='Mean Absolute Error (°F)'),\n",
    "                     aspect='auto',\n",
    "                     color_continuous_scale='RdYlBu_r')\n",
    "    fig3.show()\n",
    "    \n",
    "    # 4. Summary statistics by forecast horizon\n",
    "    print(\"\\nSummary Statistics by Forecast Horizon:\")\n",
    "    horizons = [0, 6, 12, 24, 48, 72]  # Different forecast horizons to analyze\n",
    "    for i in range(len(horizons)-1):\n",
    "        mask = (df_accuracy['hours_ahead'] >= horizons[i]) & (df_accuracy['hours_ahead'] < horizons[i+1])\n",
    "        mae = df_accuracy[mask]['error_magnitude'].mean()\n",
    "        count = mask.sum()\n",
    "        print(f\"{horizons[i]}-{horizons[i+1]} hours ahead: {mae:.2f}°F (n={count})\")\n",
    "    \n",
    "    return df_accuracy\n",
    "\n",
    "# Run the analysis\n",
    "df_accuracy = analyze_forecast_accuracy(df_forecasts, df_observations, grouped_forecasts)"
   ]
  },
  {
   "cell_type": "code",
   "execution_count": 10,
   "metadata": {},
   "outputs": [
    {
     "data": {
      "application/vnd.plotly.v1+json": {
       "config": {
        "plotlyServerURL": "https://plot.ly"
       },
       "data": [
        {
         "customdata": [
          [
           "2024-12-09",
           10.992861859166666,
           -7.079999999999998,
           "2024-12-08T23:00:25.697307-05:00"
          ],
          [
           "2024-12-09",
           9.99332721111111,
           -7.079999999999998,
           "2024-12-09T00:00:24.022040-05:00"
          ],
          [
           "2024-12-09",
           8.993743924444445,
           -7.079999999999998,
           "2024-12-09T01:00:22.521872-05:00"
          ],
          [
           "2024-12-09",
           7.994189452222223,
           -7.079999999999998,
           "2024-12-09T02:00:20.917972-05:00"
          ],
          [
           "2024-12-09",
           6.994142536388889,
           -7.079999999999998,
           "2024-12-09T03:00:21.086869-05:00"
          ],
          [
           "2024-12-09",
           5.989525737777778,
           -7.079999999999998,
           "2024-12-09T04:00:37.707344-05:00"
          ],
          [
           "2024-12-09",
           4.994167665000001,
           -7.079999999999998,
           "2024-12-09T05:00:20.996406-05:00"
          ],
          [
           "2024-12-09",
           3.9937900819444443,
           -5.079999999999998,
           "2024-12-09T06:00:22.355705-05:00"
          ],
          [
           "2024-12-09",
           2.9941085055555554,
           -5.079999999999998,
           "2024-12-09T07:00:21.209380-05:00"
          ],
          [
           "2024-12-09",
           0.9936836952777779,
           -5.079999999999998,
           "2024-12-09T09:00:22.738697-05:00"
          ]
         ],
         "hovertemplate": "actual_max_temp=%{x:.2f}<br>forecast_temp=%{y:.2f}<br>date=%{customdata[0]}<br>hours_ahead=%{customdata[1]:.2f}<br>error=%{customdata[2]:.2f}<br>forecast_created=%{customdata[3]}<extra></extra>",
         "legendgroup": "",
         "marker": {
          "color": "#636efa",
          "symbol": "circle"
         },
         "mode": "markers",
         "name": "",
         "orientation": "v",
         "showlegend": false,
         "type": "scatter",
         "x": [
          51.08,
          51.08,
          51.08,
          51.08,
          51.08,
          51.08,
          51.08,
          51.08,
          51.08,
          51.08
         ],
         "xaxis": "x",
         "y": [
          44,
          44,
          44,
          44,
          44,
          44,
          44,
          46,
          46,
          46
         ],
         "yaxis": "y"
        },
        {
         "line": {
          "dash": "dash"
         },
         "mode": "lines",
         "name": "Perfect Forecast",
         "type": "scatter",
         "x": [
          51.08,
          51.08
         ],
         "y": [
          51.08,
          51.08
         ]
        }
       ],
       "layout": {
        "legend": {
         "tracegroupgap": 0
        },
        "template": {
         "data": {
          "bar": [
           {
            "error_x": {
             "color": "#2a3f5f"
            },
            "error_y": {
             "color": "#2a3f5f"
            },
            "marker": {
             "line": {
              "color": "#E5ECF6",
              "width": 0.5
             },
             "pattern": {
              "fillmode": "overlay",
              "size": 10,
              "solidity": 0.2
             }
            },
            "type": "bar"
           }
          ],
          "barpolar": [
           {
            "marker": {
             "line": {
              "color": "#E5ECF6",
              "width": 0.5
             },
             "pattern": {
              "fillmode": "overlay",
              "size": 10,
              "solidity": 0.2
             }
            },
            "type": "barpolar"
           }
          ],
          "carpet": [
           {
            "aaxis": {
             "endlinecolor": "#2a3f5f",
             "gridcolor": "white",
             "linecolor": "white",
             "minorgridcolor": "white",
             "startlinecolor": "#2a3f5f"
            },
            "baxis": {
             "endlinecolor": "#2a3f5f",
             "gridcolor": "white",
             "linecolor": "white",
             "minorgridcolor": "white",
             "startlinecolor": "#2a3f5f"
            },
            "type": "carpet"
           }
          ],
          "choropleth": [
           {
            "colorbar": {
             "outlinewidth": 0,
             "ticks": ""
            },
            "type": "choropleth"
           }
          ],
          "contour": [
           {
            "colorbar": {
             "outlinewidth": 0,
             "ticks": ""
            },
            "colorscale": [
             [
              0,
              "#0d0887"
             ],
             [
              0.1111111111111111,
              "#46039f"
             ],
             [
              0.2222222222222222,
              "#7201a8"
             ],
             [
              0.3333333333333333,
              "#9c179e"
             ],
             [
              0.4444444444444444,
              "#bd3786"
             ],
             [
              0.5555555555555556,
              "#d8576b"
             ],
             [
              0.6666666666666666,
              "#ed7953"
             ],
             [
              0.7777777777777778,
              "#fb9f3a"
             ],
             [
              0.8888888888888888,
              "#fdca26"
             ],
             [
              1,
              "#f0f921"
             ]
            ],
            "type": "contour"
           }
          ],
          "contourcarpet": [
           {
            "colorbar": {
             "outlinewidth": 0,
             "ticks": ""
            },
            "type": "contourcarpet"
           }
          ],
          "heatmap": [
           {
            "colorbar": {
             "outlinewidth": 0,
             "ticks": ""
            },
            "colorscale": [
             [
              0,
              "#0d0887"
             ],
             [
              0.1111111111111111,
              "#46039f"
             ],
             [
              0.2222222222222222,
              "#7201a8"
             ],
             [
              0.3333333333333333,
              "#9c179e"
             ],
             [
              0.4444444444444444,
              "#bd3786"
             ],
             [
              0.5555555555555556,
              "#d8576b"
             ],
             [
              0.6666666666666666,
              "#ed7953"
             ],
             [
              0.7777777777777778,
              "#fb9f3a"
             ],
             [
              0.8888888888888888,
              "#fdca26"
             ],
             [
              1,
              "#f0f921"
             ]
            ],
            "type": "heatmap"
           }
          ],
          "heatmapgl": [
           {
            "colorbar": {
             "outlinewidth": 0,
             "ticks": ""
            },
            "colorscale": [
             [
              0,
              "#0d0887"
             ],
             [
              0.1111111111111111,
              "#46039f"
             ],
             [
              0.2222222222222222,
              "#7201a8"
             ],
             [
              0.3333333333333333,
              "#9c179e"
             ],
             [
              0.4444444444444444,
              "#bd3786"
             ],
             [
              0.5555555555555556,
              "#d8576b"
             ],
             [
              0.6666666666666666,
              "#ed7953"
             ],
             [
              0.7777777777777778,
              "#fb9f3a"
             ],
             [
              0.8888888888888888,
              "#fdca26"
             ],
             [
              1,
              "#f0f921"
             ]
            ],
            "type": "heatmapgl"
           }
          ],
          "histogram": [
           {
            "marker": {
             "pattern": {
              "fillmode": "overlay",
              "size": 10,
              "solidity": 0.2
             }
            },
            "type": "histogram"
           }
          ],
          "histogram2d": [
           {
            "colorbar": {
             "outlinewidth": 0,
             "ticks": ""
            },
            "colorscale": [
             [
              0,
              "#0d0887"
             ],
             [
              0.1111111111111111,
              "#46039f"
             ],
             [
              0.2222222222222222,
              "#7201a8"
             ],
             [
              0.3333333333333333,
              "#9c179e"
             ],
             [
              0.4444444444444444,
              "#bd3786"
             ],
             [
              0.5555555555555556,
              "#d8576b"
             ],
             [
              0.6666666666666666,
              "#ed7953"
             ],
             [
              0.7777777777777778,
              "#fb9f3a"
             ],
             [
              0.8888888888888888,
              "#fdca26"
             ],
             [
              1,
              "#f0f921"
             ]
            ],
            "type": "histogram2d"
           }
          ],
          "histogram2dcontour": [
           {
            "colorbar": {
             "outlinewidth": 0,
             "ticks": ""
            },
            "colorscale": [
             [
              0,
              "#0d0887"
             ],
             [
              0.1111111111111111,
              "#46039f"
             ],
             [
              0.2222222222222222,
              "#7201a8"
             ],
             [
              0.3333333333333333,
              "#9c179e"
             ],
             [
              0.4444444444444444,
              "#bd3786"
             ],
             [
              0.5555555555555556,
              "#d8576b"
             ],
             [
              0.6666666666666666,
              "#ed7953"
             ],
             [
              0.7777777777777778,
              "#fb9f3a"
             ],
             [
              0.8888888888888888,
              "#fdca26"
             ],
             [
              1,
              "#f0f921"
             ]
            ],
            "type": "histogram2dcontour"
           }
          ],
          "mesh3d": [
           {
            "colorbar": {
             "outlinewidth": 0,
             "ticks": ""
            },
            "type": "mesh3d"
           }
          ],
          "parcoords": [
           {
            "line": {
             "colorbar": {
              "outlinewidth": 0,
              "ticks": ""
             }
            },
            "type": "parcoords"
           }
          ],
          "pie": [
           {
            "automargin": true,
            "type": "pie"
           }
          ],
          "scatter": [
           {
            "fillpattern": {
             "fillmode": "overlay",
             "size": 10,
             "solidity": 0.2
            },
            "type": "scatter"
           }
          ],
          "scatter3d": [
           {
            "line": {
             "colorbar": {
              "outlinewidth": 0,
              "ticks": ""
             }
            },
            "marker": {
             "colorbar": {
              "outlinewidth": 0,
              "ticks": ""
             }
            },
            "type": "scatter3d"
           }
          ],
          "scattercarpet": [
           {
            "marker": {
             "colorbar": {
              "outlinewidth": 0,
              "ticks": ""
             }
            },
            "type": "scattercarpet"
           }
          ],
          "scattergeo": [
           {
            "marker": {
             "colorbar": {
              "outlinewidth": 0,
              "ticks": ""
             }
            },
            "type": "scattergeo"
           }
          ],
          "scattergl": [
           {
            "marker": {
             "colorbar": {
              "outlinewidth": 0,
              "ticks": ""
             }
            },
            "type": "scattergl"
           }
          ],
          "scattermapbox": [
           {
            "marker": {
             "colorbar": {
              "outlinewidth": 0,
              "ticks": ""
             }
            },
            "type": "scattermapbox"
           }
          ],
          "scatterpolar": [
           {
            "marker": {
             "colorbar": {
              "outlinewidth": 0,
              "ticks": ""
             }
            },
            "type": "scatterpolar"
           }
          ],
          "scatterpolargl": [
           {
            "marker": {
             "colorbar": {
              "outlinewidth": 0,
              "ticks": ""
             }
            },
            "type": "scatterpolargl"
           }
          ],
          "scatterternary": [
           {
            "marker": {
             "colorbar": {
              "outlinewidth": 0,
              "ticks": ""
             }
            },
            "type": "scatterternary"
           }
          ],
          "surface": [
           {
            "colorbar": {
             "outlinewidth": 0,
             "ticks": ""
            },
            "colorscale": [
             [
              0,
              "#0d0887"
             ],
             [
              0.1111111111111111,
              "#46039f"
             ],
             [
              0.2222222222222222,
              "#7201a8"
             ],
             [
              0.3333333333333333,
              "#9c179e"
             ],
             [
              0.4444444444444444,
              "#bd3786"
             ],
             [
              0.5555555555555556,
              "#d8576b"
             ],
             [
              0.6666666666666666,
              "#ed7953"
             ],
             [
              0.7777777777777778,
              "#fb9f3a"
             ],
             [
              0.8888888888888888,
              "#fdca26"
             ],
             [
              1,
              "#f0f921"
             ]
            ],
            "type": "surface"
           }
          ],
          "table": [
           {
            "cells": {
             "fill": {
              "color": "#EBF0F8"
             },
             "line": {
              "color": "white"
             }
            },
            "header": {
             "fill": {
              "color": "#C8D4E3"
             },
             "line": {
              "color": "white"
             }
            },
            "type": "table"
           }
          ]
         },
         "layout": {
          "annotationdefaults": {
           "arrowcolor": "#2a3f5f",
           "arrowhead": 0,
           "arrowwidth": 1
          },
          "autotypenumbers": "strict",
          "coloraxis": {
           "colorbar": {
            "outlinewidth": 0,
            "ticks": ""
           }
          },
          "colorscale": {
           "diverging": [
            [
             0,
             "#8e0152"
            ],
            [
             0.1,
             "#c51b7d"
            ],
            [
             0.2,
             "#de77ae"
            ],
            [
             0.3,
             "#f1b6da"
            ],
            [
             0.4,
             "#fde0ef"
            ],
            [
             0.5,
             "#f7f7f7"
            ],
            [
             0.6,
             "#e6f5d0"
            ],
            [
             0.7,
             "#b8e186"
            ],
            [
             0.8,
             "#7fbc41"
            ],
            [
             0.9,
             "#4d9221"
            ],
            [
             1,
             "#276419"
            ]
           ],
           "sequential": [
            [
             0,
             "#0d0887"
            ],
            [
             0.1111111111111111,
             "#46039f"
            ],
            [
             0.2222222222222222,
             "#7201a8"
            ],
            [
             0.3333333333333333,
             "#9c179e"
            ],
            [
             0.4444444444444444,
             "#bd3786"
            ],
            [
             0.5555555555555556,
             "#d8576b"
            ],
            [
             0.6666666666666666,
             "#ed7953"
            ],
            [
             0.7777777777777778,
             "#fb9f3a"
            ],
            [
             0.8888888888888888,
             "#fdca26"
            ],
            [
             1,
             "#f0f921"
            ]
           ],
           "sequentialminus": [
            [
             0,
             "#0d0887"
            ],
            [
             0.1111111111111111,
             "#46039f"
            ],
            [
             0.2222222222222222,
             "#7201a8"
            ],
            [
             0.3333333333333333,
             "#9c179e"
            ],
            [
             0.4444444444444444,
             "#bd3786"
            ],
            [
             0.5555555555555556,
             "#d8576b"
            ],
            [
             0.6666666666666666,
             "#ed7953"
            ],
            [
             0.7777777777777778,
             "#fb9f3a"
            ],
            [
             0.8888888888888888,
             "#fdca26"
            ],
            [
             1,
             "#f0f921"
            ]
           ]
          },
          "colorway": [
           "#636efa",
           "#EF553B",
           "#00cc96",
           "#ab63fa",
           "#FFA15A",
           "#19d3f3",
           "#FF6692",
           "#B6E880",
           "#FF97FF",
           "#FECB52"
          ],
          "font": {
           "color": "#2a3f5f"
          },
          "geo": {
           "bgcolor": "white",
           "lakecolor": "white",
           "landcolor": "#E5ECF6",
           "showlakes": true,
           "showland": true,
           "subunitcolor": "white"
          },
          "hoverlabel": {
           "align": "left"
          },
          "hovermode": "closest",
          "mapbox": {
           "style": "light"
          },
          "paper_bgcolor": "white",
          "plot_bgcolor": "#E5ECF6",
          "polar": {
           "angularaxis": {
            "gridcolor": "white",
            "linecolor": "white",
            "ticks": ""
           },
           "bgcolor": "#E5ECF6",
           "radialaxis": {
            "gridcolor": "white",
            "linecolor": "white",
            "ticks": ""
           }
          },
          "scene": {
           "xaxis": {
            "backgroundcolor": "#E5ECF6",
            "gridcolor": "white",
            "gridwidth": 2,
            "linecolor": "white",
            "showbackground": true,
            "ticks": "",
            "zerolinecolor": "white"
           },
           "yaxis": {
            "backgroundcolor": "#E5ECF6",
            "gridcolor": "white",
            "gridwidth": 2,
            "linecolor": "white",
            "showbackground": true,
            "ticks": "",
            "zerolinecolor": "white"
           },
           "zaxis": {
            "backgroundcolor": "#E5ECF6",
            "gridcolor": "white",
            "gridwidth": 2,
            "linecolor": "white",
            "showbackground": true,
            "ticks": "",
            "zerolinecolor": "white"
           }
          },
          "shapedefaults": {
           "line": {
            "color": "#2a3f5f"
           }
          },
          "ternary": {
           "aaxis": {
            "gridcolor": "white",
            "linecolor": "white",
            "ticks": ""
           },
           "baxis": {
            "gridcolor": "white",
            "linecolor": "white",
            "ticks": ""
           },
           "bgcolor": "#E5ECF6",
           "caxis": {
            "gridcolor": "white",
            "linecolor": "white",
            "ticks": ""
           }
          },
          "title": {
           "x": 0.05
          },
          "xaxis": {
           "automargin": true,
           "gridcolor": "white",
           "linecolor": "white",
           "ticks": "",
           "title": {
            "standoff": 15
           },
           "zerolinecolor": "white",
           "zerolinewidth": 2
          },
          "yaxis": {
           "automargin": true,
           "gridcolor": "white",
           "linecolor": "white",
           "ticks": "",
           "title": {
            "standoff": 15
           },
           "zerolinecolor": "white",
           "zerolinewidth": 2
          }
         }
        },
        "title": {
         "text": "Forecast vs Actual Daily Maximum Temperatures"
        },
        "xaxis": {
         "anchor": "y",
         "domain": [
          0,
          1
         ],
         "title": {
          "text": "actual_max_temp"
         }
        },
        "yaxis": {
         "anchor": "x",
         "domain": [
          0,
          1
         ],
         "title": {
          "text": "forecast_temp"
         }
        }
       }
      }
     },
     "metadata": {},
     "output_type": "display_data"
    },
    {
     "data": {
      "application/vnd.plotly.v1+json": {
       "config": {
        "plotlyServerURL": "https://plot.ly"
       },
       "data": [
        {
         "alignmentgroup": "True",
         "customdata": [
          [
           "2024-12-09",
           "2024-12-08T23:00:25.697307-05:00"
          ],
          [
           "2024-12-09",
           "2024-12-09T00:00:24.022040-05:00"
          ],
          [
           "2024-12-09",
           "2024-12-09T01:00:22.521872-05:00"
          ],
          [
           "2024-12-09",
           "2024-12-09T02:00:20.917972-05:00"
          ],
          [
           "2024-12-09",
           "2024-12-09T03:00:21.086869-05:00"
          ],
          [
           "2024-12-09",
           "2024-12-09T04:00:37.707344-05:00"
          ],
          [
           "2024-12-09",
           "2024-12-09T05:00:20.996406-05:00"
          ],
          [
           "2024-12-09",
           "2024-12-09T06:00:22.355705-05:00"
          ],
          [
           "2024-12-09",
           "2024-12-09T07:00:21.209380-05:00"
          ],
          [
           "2024-12-09",
           "2024-12-09T09:00:22.738697-05:00"
          ]
         ],
         "hovertemplate": "x=%{x}<br>error=%{y}<br>date=%{customdata[0]}<br>forecast_created=%{customdata[1]}<extra></extra>",
         "legendgroup": "",
         "marker": {
          "color": "#636efa"
         },
         "name": "",
         "notched": false,
         "offsetgroup": "",
         "orientation": "v",
         "showlegend": false,
         "type": "box",
         "x": [
          11,
          10,
          9,
          8,
          7,
          6,
          5,
          4,
          3,
          1
         ],
         "x0": " ",
         "xaxis": "x",
         "y": [
          -7.079999999999998,
          -7.079999999999998,
          -7.079999999999998,
          -7.079999999999998,
          -7.079999999999998,
          -7.079999999999998,
          -7.079999999999998,
          -5.079999999999998,
          -5.079999999999998,
          -5.079999999999998
         ],
         "y0": " ",
         "yaxis": "y"
        }
       ],
       "layout": {
        "boxmode": "group",
        "legend": {
         "tracegroupgap": 0
        },
        "template": {
         "data": {
          "bar": [
           {
            "error_x": {
             "color": "#2a3f5f"
            },
            "error_y": {
             "color": "#2a3f5f"
            },
            "marker": {
             "line": {
              "color": "#E5ECF6",
              "width": 0.5
             },
             "pattern": {
              "fillmode": "overlay",
              "size": 10,
              "solidity": 0.2
             }
            },
            "type": "bar"
           }
          ],
          "barpolar": [
           {
            "marker": {
             "line": {
              "color": "#E5ECF6",
              "width": 0.5
             },
             "pattern": {
              "fillmode": "overlay",
              "size": 10,
              "solidity": 0.2
             }
            },
            "type": "barpolar"
           }
          ],
          "carpet": [
           {
            "aaxis": {
             "endlinecolor": "#2a3f5f",
             "gridcolor": "white",
             "linecolor": "white",
             "minorgridcolor": "white",
             "startlinecolor": "#2a3f5f"
            },
            "baxis": {
             "endlinecolor": "#2a3f5f",
             "gridcolor": "white",
             "linecolor": "white",
             "minorgridcolor": "white",
             "startlinecolor": "#2a3f5f"
            },
            "type": "carpet"
           }
          ],
          "choropleth": [
           {
            "colorbar": {
             "outlinewidth": 0,
             "ticks": ""
            },
            "type": "choropleth"
           }
          ],
          "contour": [
           {
            "colorbar": {
             "outlinewidth": 0,
             "ticks": ""
            },
            "colorscale": [
             [
              0,
              "#0d0887"
             ],
             [
              0.1111111111111111,
              "#46039f"
             ],
             [
              0.2222222222222222,
              "#7201a8"
             ],
             [
              0.3333333333333333,
              "#9c179e"
             ],
             [
              0.4444444444444444,
              "#bd3786"
             ],
             [
              0.5555555555555556,
              "#d8576b"
             ],
             [
              0.6666666666666666,
              "#ed7953"
             ],
             [
              0.7777777777777778,
              "#fb9f3a"
             ],
             [
              0.8888888888888888,
              "#fdca26"
             ],
             [
              1,
              "#f0f921"
             ]
            ],
            "type": "contour"
           }
          ],
          "contourcarpet": [
           {
            "colorbar": {
             "outlinewidth": 0,
             "ticks": ""
            },
            "type": "contourcarpet"
           }
          ],
          "heatmap": [
           {
            "colorbar": {
             "outlinewidth": 0,
             "ticks": ""
            },
            "colorscale": [
             [
              0,
              "#0d0887"
             ],
             [
              0.1111111111111111,
              "#46039f"
             ],
             [
              0.2222222222222222,
              "#7201a8"
             ],
             [
              0.3333333333333333,
              "#9c179e"
             ],
             [
              0.4444444444444444,
              "#bd3786"
             ],
             [
              0.5555555555555556,
              "#d8576b"
             ],
             [
              0.6666666666666666,
              "#ed7953"
             ],
             [
              0.7777777777777778,
              "#fb9f3a"
             ],
             [
              0.8888888888888888,
              "#fdca26"
             ],
             [
              1,
              "#f0f921"
             ]
            ],
            "type": "heatmap"
           }
          ],
          "heatmapgl": [
           {
            "colorbar": {
             "outlinewidth": 0,
             "ticks": ""
            },
            "colorscale": [
             [
              0,
              "#0d0887"
             ],
             [
              0.1111111111111111,
              "#46039f"
             ],
             [
              0.2222222222222222,
              "#7201a8"
             ],
             [
              0.3333333333333333,
              "#9c179e"
             ],
             [
              0.4444444444444444,
              "#bd3786"
             ],
             [
              0.5555555555555556,
              "#d8576b"
             ],
             [
              0.6666666666666666,
              "#ed7953"
             ],
             [
              0.7777777777777778,
              "#fb9f3a"
             ],
             [
              0.8888888888888888,
              "#fdca26"
             ],
             [
              1,
              "#f0f921"
             ]
            ],
            "type": "heatmapgl"
           }
          ],
          "histogram": [
           {
            "marker": {
             "pattern": {
              "fillmode": "overlay",
              "size": 10,
              "solidity": 0.2
             }
            },
            "type": "histogram"
           }
          ],
          "histogram2d": [
           {
            "colorbar": {
             "outlinewidth": 0,
             "ticks": ""
            },
            "colorscale": [
             [
              0,
              "#0d0887"
             ],
             [
              0.1111111111111111,
              "#46039f"
             ],
             [
              0.2222222222222222,
              "#7201a8"
             ],
             [
              0.3333333333333333,
              "#9c179e"
             ],
             [
              0.4444444444444444,
              "#bd3786"
             ],
             [
              0.5555555555555556,
              "#d8576b"
             ],
             [
              0.6666666666666666,
              "#ed7953"
             ],
             [
              0.7777777777777778,
              "#fb9f3a"
             ],
             [
              0.8888888888888888,
              "#fdca26"
             ],
             [
              1,
              "#f0f921"
             ]
            ],
            "type": "histogram2d"
           }
          ],
          "histogram2dcontour": [
           {
            "colorbar": {
             "outlinewidth": 0,
             "ticks": ""
            },
            "colorscale": [
             [
              0,
              "#0d0887"
             ],
             [
              0.1111111111111111,
              "#46039f"
             ],
             [
              0.2222222222222222,
              "#7201a8"
             ],
             [
              0.3333333333333333,
              "#9c179e"
             ],
             [
              0.4444444444444444,
              "#bd3786"
             ],
             [
              0.5555555555555556,
              "#d8576b"
             ],
             [
              0.6666666666666666,
              "#ed7953"
             ],
             [
              0.7777777777777778,
              "#fb9f3a"
             ],
             [
              0.8888888888888888,
              "#fdca26"
             ],
             [
              1,
              "#f0f921"
             ]
            ],
            "type": "histogram2dcontour"
           }
          ],
          "mesh3d": [
           {
            "colorbar": {
             "outlinewidth": 0,
             "ticks": ""
            },
            "type": "mesh3d"
           }
          ],
          "parcoords": [
           {
            "line": {
             "colorbar": {
              "outlinewidth": 0,
              "ticks": ""
             }
            },
            "type": "parcoords"
           }
          ],
          "pie": [
           {
            "automargin": true,
            "type": "pie"
           }
          ],
          "scatter": [
           {
            "fillpattern": {
             "fillmode": "overlay",
             "size": 10,
             "solidity": 0.2
            },
            "type": "scatter"
           }
          ],
          "scatter3d": [
           {
            "line": {
             "colorbar": {
              "outlinewidth": 0,
              "ticks": ""
             }
            },
            "marker": {
             "colorbar": {
              "outlinewidth": 0,
              "ticks": ""
             }
            },
            "type": "scatter3d"
           }
          ],
          "scattercarpet": [
           {
            "marker": {
             "colorbar": {
              "outlinewidth": 0,
              "ticks": ""
             }
            },
            "type": "scattercarpet"
           }
          ],
          "scattergeo": [
           {
            "marker": {
             "colorbar": {
              "outlinewidth": 0,
              "ticks": ""
             }
            },
            "type": "scattergeo"
           }
          ],
          "scattergl": [
           {
            "marker": {
             "colorbar": {
              "outlinewidth": 0,
              "ticks": ""
             }
            },
            "type": "scattergl"
           }
          ],
          "scattermapbox": [
           {
            "marker": {
             "colorbar": {
              "outlinewidth": 0,
              "ticks": ""
             }
            },
            "type": "scattermapbox"
           }
          ],
          "scatterpolar": [
           {
            "marker": {
             "colorbar": {
              "outlinewidth": 0,
              "ticks": ""
             }
            },
            "type": "scatterpolar"
           }
          ],
          "scatterpolargl": [
           {
            "marker": {
             "colorbar": {
              "outlinewidth": 0,
              "ticks": ""
             }
            },
            "type": "scatterpolargl"
           }
          ],
          "scatterternary": [
           {
            "marker": {
             "colorbar": {
              "outlinewidth": 0,
              "ticks": ""
             }
            },
            "type": "scatterternary"
           }
          ],
          "surface": [
           {
            "colorbar": {
             "outlinewidth": 0,
             "ticks": ""
            },
            "colorscale": [
             [
              0,
              "#0d0887"
             ],
             [
              0.1111111111111111,
              "#46039f"
             ],
             [
              0.2222222222222222,
              "#7201a8"
             ],
             [
              0.3333333333333333,
              "#9c179e"
             ],
             [
              0.4444444444444444,
              "#bd3786"
             ],
             [
              0.5555555555555556,
              "#d8576b"
             ],
             [
              0.6666666666666666,
              "#ed7953"
             ],
             [
              0.7777777777777778,
              "#fb9f3a"
             ],
             [
              0.8888888888888888,
              "#fdca26"
             ],
             [
              1,
              "#f0f921"
             ]
            ],
            "type": "surface"
           }
          ],
          "table": [
           {
            "cells": {
             "fill": {
              "color": "#EBF0F8"
             },
             "line": {
              "color": "white"
             }
            },
            "header": {
             "fill": {
              "color": "#C8D4E3"
             },
             "line": {
              "color": "white"
             }
            },
            "type": "table"
           }
          ]
         },
         "layout": {
          "annotationdefaults": {
           "arrowcolor": "#2a3f5f",
           "arrowhead": 0,
           "arrowwidth": 1
          },
          "autotypenumbers": "strict",
          "coloraxis": {
           "colorbar": {
            "outlinewidth": 0,
            "ticks": ""
           }
          },
          "colorscale": {
           "diverging": [
            [
             0,
             "#8e0152"
            ],
            [
             0.1,
             "#c51b7d"
            ],
            [
             0.2,
             "#de77ae"
            ],
            [
             0.3,
             "#f1b6da"
            ],
            [
             0.4,
             "#fde0ef"
            ],
            [
             0.5,
             "#f7f7f7"
            ],
            [
             0.6,
             "#e6f5d0"
            ],
            [
             0.7,
             "#b8e186"
            ],
            [
             0.8,
             "#7fbc41"
            ],
            [
             0.9,
             "#4d9221"
            ],
            [
             1,
             "#276419"
            ]
           ],
           "sequential": [
            [
             0,
             "#0d0887"
            ],
            [
             0.1111111111111111,
             "#46039f"
            ],
            [
             0.2222222222222222,
             "#7201a8"
            ],
            [
             0.3333333333333333,
             "#9c179e"
            ],
            [
             0.4444444444444444,
             "#bd3786"
            ],
            [
             0.5555555555555556,
             "#d8576b"
            ],
            [
             0.6666666666666666,
             "#ed7953"
            ],
            [
             0.7777777777777778,
             "#fb9f3a"
            ],
            [
             0.8888888888888888,
             "#fdca26"
            ],
            [
             1,
             "#f0f921"
            ]
           ],
           "sequentialminus": [
            [
             0,
             "#0d0887"
            ],
            [
             0.1111111111111111,
             "#46039f"
            ],
            [
             0.2222222222222222,
             "#7201a8"
            ],
            [
             0.3333333333333333,
             "#9c179e"
            ],
            [
             0.4444444444444444,
             "#bd3786"
            ],
            [
             0.5555555555555556,
             "#d8576b"
            ],
            [
             0.6666666666666666,
             "#ed7953"
            ],
            [
             0.7777777777777778,
             "#fb9f3a"
            ],
            [
             0.8888888888888888,
             "#fdca26"
            ],
            [
             1,
             "#f0f921"
            ]
           ]
          },
          "colorway": [
           "#636efa",
           "#EF553B",
           "#00cc96",
           "#ab63fa",
           "#FFA15A",
           "#19d3f3",
           "#FF6692",
           "#B6E880",
           "#FF97FF",
           "#FECB52"
          ],
          "font": {
           "color": "#2a3f5f"
          },
          "geo": {
           "bgcolor": "white",
           "lakecolor": "white",
           "landcolor": "#E5ECF6",
           "showlakes": true,
           "showland": true,
           "subunitcolor": "white"
          },
          "hoverlabel": {
           "align": "left"
          },
          "hovermode": "closest",
          "mapbox": {
           "style": "light"
          },
          "paper_bgcolor": "white",
          "plot_bgcolor": "#E5ECF6",
          "polar": {
           "angularaxis": {
            "gridcolor": "white",
            "linecolor": "white",
            "ticks": ""
           },
           "bgcolor": "#E5ECF6",
           "radialaxis": {
            "gridcolor": "white",
            "linecolor": "white",
            "ticks": ""
           }
          },
          "scene": {
           "xaxis": {
            "backgroundcolor": "#E5ECF6",
            "gridcolor": "white",
            "gridwidth": 2,
            "linecolor": "white",
            "showbackground": true,
            "ticks": "",
            "zerolinecolor": "white"
           },
           "yaxis": {
            "backgroundcolor": "#E5ECF6",
            "gridcolor": "white",
            "gridwidth": 2,
            "linecolor": "white",
            "showbackground": true,
            "ticks": "",
            "zerolinecolor": "white"
           },
           "zaxis": {
            "backgroundcolor": "#E5ECF6",
            "gridcolor": "white",
            "gridwidth": 2,
            "linecolor": "white",
            "showbackground": true,
            "ticks": "",
            "zerolinecolor": "white"
           }
          },
          "shapedefaults": {
           "line": {
            "color": "#2a3f5f"
           }
          },
          "ternary": {
           "aaxis": {
            "gridcolor": "white",
            "linecolor": "white",
            "ticks": ""
           },
           "baxis": {
            "gridcolor": "white",
            "linecolor": "white",
            "ticks": ""
           },
           "bgcolor": "#E5ECF6",
           "caxis": {
            "gridcolor": "white",
            "linecolor": "white",
            "ticks": ""
           }
          },
          "title": {
           "x": 0.05
          },
          "xaxis": {
           "automargin": true,
           "gridcolor": "white",
           "linecolor": "white",
           "ticks": "",
           "title": {
            "standoff": 15
           },
           "zerolinecolor": "white",
           "zerolinewidth": 2
          },
          "yaxis": {
           "automargin": true,
           "gridcolor": "white",
           "linecolor": "white",
           "ticks": "",
           "title": {
            "standoff": 15
           },
           "zerolinecolor": "white",
           "zerolinewidth": 2
          }
         }
        },
        "title": {
         "text": "Forecast Error Distribution by Lead Time (Daily Max Temp)"
        },
        "xaxis": {
         "anchor": "y",
         "domain": [
          0,
          1
         ],
         "title": {
          "text": "x"
         }
        },
        "yaxis": {
         "anchor": "x",
         "domain": [
          0,
          1
         ],
         "title": {
          "text": "error"
         }
        }
       }
      }
     },
     "metadata": {},
     "output_type": "display_data"
    },
    {
     "data": {
      "application/vnd.plotly.v1+json": {
       "config": {
        "plotlyServerURL": "https://plot.ly"
       },
       "data": [
        {
         "customdata": [
          [
           10.992861859166666,
           "2024-12-08T23:00:25.697307-05:00",
           51.08,
           44
          ],
          [
           9.99332721111111,
           "2024-12-09T00:00:24.022040-05:00",
           51.08,
           44
          ],
          [
           8.993743924444445,
           "2024-12-09T01:00:22.521872-05:00",
           51.08,
           44
          ],
          [
           7.994189452222223,
           "2024-12-09T02:00:20.917972-05:00",
           51.08,
           44
          ],
          [
           6.994142536388889,
           "2024-12-09T03:00:21.086869-05:00",
           51.08,
           44
          ],
          [
           5.989525737777778,
           "2024-12-09T04:00:37.707344-05:00",
           51.08,
           44
          ],
          [
           4.994167665000001,
           "2024-12-09T05:00:20.996406-05:00",
           51.08,
           44
          ],
          [
           3.9937900819444443,
           "2024-12-09T06:00:22.355705-05:00",
           51.08,
           46
          ],
          [
           2.9941085055555554,
           "2024-12-09T07:00:21.209380-05:00",
           51.08,
           46
          ],
          [
           0.9936836952777779,
           "2024-12-09T09:00:22.738697-05:00",
           51.08,
           46
          ]
         ],
         "hovertemplate": "date=%{x}<br>error=%{y:.2f}<br>hours_ahead=%{customdata[0]:.2f}<br>forecast_created=%{customdata[1]}<br>actual_max_temp=%{customdata[2]:.2f}<br>forecast_temp=%{customdata[3]:.2f}<extra></extra>",
         "legendgroup": "",
         "marker": {
          "color": "#636efa",
          "symbol": "circle"
         },
         "mode": "markers",
         "name": "",
         "orientation": "v",
         "showlegend": false,
         "type": "scatter",
         "x": [
          "2024-12-09",
          "2024-12-09",
          "2024-12-09",
          "2024-12-09",
          "2024-12-09",
          "2024-12-09",
          "2024-12-09",
          "2024-12-09",
          "2024-12-09",
          "2024-12-09"
         ],
         "xaxis": "x",
         "y": [
          -7.079999999999998,
          -7.079999999999998,
          -7.079999999999998,
          -7.079999999999998,
          -7.079999999999998,
          -7.079999999999998,
          -7.079999999999998,
          -5.079999999999998,
          -5.079999999999998,
          -5.079999999999998
         ],
         "yaxis": "y"
        }
       ],
       "layout": {
        "legend": {
         "tracegroupgap": 0
        },
        "shapes": [
         {
          "line": {
           "color": "red",
           "dash": "dash"
          },
          "type": "line",
          "x0": 0,
          "x1": 1,
          "xref": "x domain",
          "y0": 0,
          "y1": 0,
          "yref": "y"
         }
        ],
        "template": {
         "data": {
          "bar": [
           {
            "error_x": {
             "color": "#2a3f5f"
            },
            "error_y": {
             "color": "#2a3f5f"
            },
            "marker": {
             "line": {
              "color": "#E5ECF6",
              "width": 0.5
             },
             "pattern": {
              "fillmode": "overlay",
              "size": 10,
              "solidity": 0.2
             }
            },
            "type": "bar"
           }
          ],
          "barpolar": [
           {
            "marker": {
             "line": {
              "color": "#E5ECF6",
              "width": 0.5
             },
             "pattern": {
              "fillmode": "overlay",
              "size": 10,
              "solidity": 0.2
             }
            },
            "type": "barpolar"
           }
          ],
          "carpet": [
           {
            "aaxis": {
             "endlinecolor": "#2a3f5f",
             "gridcolor": "white",
             "linecolor": "white",
             "minorgridcolor": "white",
             "startlinecolor": "#2a3f5f"
            },
            "baxis": {
             "endlinecolor": "#2a3f5f",
             "gridcolor": "white",
             "linecolor": "white",
             "minorgridcolor": "white",
             "startlinecolor": "#2a3f5f"
            },
            "type": "carpet"
           }
          ],
          "choropleth": [
           {
            "colorbar": {
             "outlinewidth": 0,
             "ticks": ""
            },
            "type": "choropleth"
           }
          ],
          "contour": [
           {
            "colorbar": {
             "outlinewidth": 0,
             "ticks": ""
            },
            "colorscale": [
             [
              0,
              "#0d0887"
             ],
             [
              0.1111111111111111,
              "#46039f"
             ],
             [
              0.2222222222222222,
              "#7201a8"
             ],
             [
              0.3333333333333333,
              "#9c179e"
             ],
             [
              0.4444444444444444,
              "#bd3786"
             ],
             [
              0.5555555555555556,
              "#d8576b"
             ],
             [
              0.6666666666666666,
              "#ed7953"
             ],
             [
              0.7777777777777778,
              "#fb9f3a"
             ],
             [
              0.8888888888888888,
              "#fdca26"
             ],
             [
              1,
              "#f0f921"
             ]
            ],
            "type": "contour"
           }
          ],
          "contourcarpet": [
           {
            "colorbar": {
             "outlinewidth": 0,
             "ticks": ""
            },
            "type": "contourcarpet"
           }
          ],
          "heatmap": [
           {
            "colorbar": {
             "outlinewidth": 0,
             "ticks": ""
            },
            "colorscale": [
             [
              0,
              "#0d0887"
             ],
             [
              0.1111111111111111,
              "#46039f"
             ],
             [
              0.2222222222222222,
              "#7201a8"
             ],
             [
              0.3333333333333333,
              "#9c179e"
             ],
             [
              0.4444444444444444,
              "#bd3786"
             ],
             [
              0.5555555555555556,
              "#d8576b"
             ],
             [
              0.6666666666666666,
              "#ed7953"
             ],
             [
              0.7777777777777778,
              "#fb9f3a"
             ],
             [
              0.8888888888888888,
              "#fdca26"
             ],
             [
              1,
              "#f0f921"
             ]
            ],
            "type": "heatmap"
           }
          ],
          "heatmapgl": [
           {
            "colorbar": {
             "outlinewidth": 0,
             "ticks": ""
            },
            "colorscale": [
             [
              0,
              "#0d0887"
             ],
             [
              0.1111111111111111,
              "#46039f"
             ],
             [
              0.2222222222222222,
              "#7201a8"
             ],
             [
              0.3333333333333333,
              "#9c179e"
             ],
             [
              0.4444444444444444,
              "#bd3786"
             ],
             [
              0.5555555555555556,
              "#d8576b"
             ],
             [
              0.6666666666666666,
              "#ed7953"
             ],
             [
              0.7777777777777778,
              "#fb9f3a"
             ],
             [
              0.8888888888888888,
              "#fdca26"
             ],
             [
              1,
              "#f0f921"
             ]
            ],
            "type": "heatmapgl"
           }
          ],
          "histogram": [
           {
            "marker": {
             "pattern": {
              "fillmode": "overlay",
              "size": 10,
              "solidity": 0.2
             }
            },
            "type": "histogram"
           }
          ],
          "histogram2d": [
           {
            "colorbar": {
             "outlinewidth": 0,
             "ticks": ""
            },
            "colorscale": [
             [
              0,
              "#0d0887"
             ],
             [
              0.1111111111111111,
              "#46039f"
             ],
             [
              0.2222222222222222,
              "#7201a8"
             ],
             [
              0.3333333333333333,
              "#9c179e"
             ],
             [
              0.4444444444444444,
              "#bd3786"
             ],
             [
              0.5555555555555556,
              "#d8576b"
             ],
             [
              0.6666666666666666,
              "#ed7953"
             ],
             [
              0.7777777777777778,
              "#fb9f3a"
             ],
             [
              0.8888888888888888,
              "#fdca26"
             ],
             [
              1,
              "#f0f921"
             ]
            ],
            "type": "histogram2d"
           }
          ],
          "histogram2dcontour": [
           {
            "colorbar": {
             "outlinewidth": 0,
             "ticks": ""
            },
            "colorscale": [
             [
              0,
              "#0d0887"
             ],
             [
              0.1111111111111111,
              "#46039f"
             ],
             [
              0.2222222222222222,
              "#7201a8"
             ],
             [
              0.3333333333333333,
              "#9c179e"
             ],
             [
              0.4444444444444444,
              "#bd3786"
             ],
             [
              0.5555555555555556,
              "#d8576b"
             ],
             [
              0.6666666666666666,
              "#ed7953"
             ],
             [
              0.7777777777777778,
              "#fb9f3a"
             ],
             [
              0.8888888888888888,
              "#fdca26"
             ],
             [
              1,
              "#f0f921"
             ]
            ],
            "type": "histogram2dcontour"
           }
          ],
          "mesh3d": [
           {
            "colorbar": {
             "outlinewidth": 0,
             "ticks": ""
            },
            "type": "mesh3d"
           }
          ],
          "parcoords": [
           {
            "line": {
             "colorbar": {
              "outlinewidth": 0,
              "ticks": ""
             }
            },
            "type": "parcoords"
           }
          ],
          "pie": [
           {
            "automargin": true,
            "type": "pie"
           }
          ],
          "scatter": [
           {
            "fillpattern": {
             "fillmode": "overlay",
             "size": 10,
             "solidity": 0.2
            },
            "type": "scatter"
           }
          ],
          "scatter3d": [
           {
            "line": {
             "colorbar": {
              "outlinewidth": 0,
              "ticks": ""
             }
            },
            "marker": {
             "colorbar": {
              "outlinewidth": 0,
              "ticks": ""
             }
            },
            "type": "scatter3d"
           }
          ],
          "scattercarpet": [
           {
            "marker": {
             "colorbar": {
              "outlinewidth": 0,
              "ticks": ""
             }
            },
            "type": "scattercarpet"
           }
          ],
          "scattergeo": [
           {
            "marker": {
             "colorbar": {
              "outlinewidth": 0,
              "ticks": ""
             }
            },
            "type": "scattergeo"
           }
          ],
          "scattergl": [
           {
            "marker": {
             "colorbar": {
              "outlinewidth": 0,
              "ticks": ""
             }
            },
            "type": "scattergl"
           }
          ],
          "scattermapbox": [
           {
            "marker": {
             "colorbar": {
              "outlinewidth": 0,
              "ticks": ""
             }
            },
            "type": "scattermapbox"
           }
          ],
          "scatterpolar": [
           {
            "marker": {
             "colorbar": {
              "outlinewidth": 0,
              "ticks": ""
             }
            },
            "type": "scatterpolar"
           }
          ],
          "scatterpolargl": [
           {
            "marker": {
             "colorbar": {
              "outlinewidth": 0,
              "ticks": ""
             }
            },
            "type": "scatterpolargl"
           }
          ],
          "scatterternary": [
           {
            "marker": {
             "colorbar": {
              "outlinewidth": 0,
              "ticks": ""
             }
            },
            "type": "scatterternary"
           }
          ],
          "surface": [
           {
            "colorbar": {
             "outlinewidth": 0,
             "ticks": ""
            },
            "colorscale": [
             [
              0,
              "#0d0887"
             ],
             [
              0.1111111111111111,
              "#46039f"
             ],
             [
              0.2222222222222222,
              "#7201a8"
             ],
             [
              0.3333333333333333,
              "#9c179e"
             ],
             [
              0.4444444444444444,
              "#bd3786"
             ],
             [
              0.5555555555555556,
              "#d8576b"
             ],
             [
              0.6666666666666666,
              "#ed7953"
             ],
             [
              0.7777777777777778,
              "#fb9f3a"
             ],
             [
              0.8888888888888888,
              "#fdca26"
             ],
             [
              1,
              "#f0f921"
             ]
            ],
            "type": "surface"
           }
          ],
          "table": [
           {
            "cells": {
             "fill": {
              "color": "#EBF0F8"
             },
             "line": {
              "color": "white"
             }
            },
            "header": {
             "fill": {
              "color": "#C8D4E3"
             },
             "line": {
              "color": "white"
             }
            },
            "type": "table"
           }
          ]
         },
         "layout": {
          "annotationdefaults": {
           "arrowcolor": "#2a3f5f",
           "arrowhead": 0,
           "arrowwidth": 1
          },
          "autotypenumbers": "strict",
          "coloraxis": {
           "colorbar": {
            "outlinewidth": 0,
            "ticks": ""
           }
          },
          "colorscale": {
           "diverging": [
            [
             0,
             "#8e0152"
            ],
            [
             0.1,
             "#c51b7d"
            ],
            [
             0.2,
             "#de77ae"
            ],
            [
             0.3,
             "#f1b6da"
            ],
            [
             0.4,
             "#fde0ef"
            ],
            [
             0.5,
             "#f7f7f7"
            ],
            [
             0.6,
             "#e6f5d0"
            ],
            [
             0.7,
             "#b8e186"
            ],
            [
             0.8,
             "#7fbc41"
            ],
            [
             0.9,
             "#4d9221"
            ],
            [
             1,
             "#276419"
            ]
           ],
           "sequential": [
            [
             0,
             "#0d0887"
            ],
            [
             0.1111111111111111,
             "#46039f"
            ],
            [
             0.2222222222222222,
             "#7201a8"
            ],
            [
             0.3333333333333333,
             "#9c179e"
            ],
            [
             0.4444444444444444,
             "#bd3786"
            ],
            [
             0.5555555555555556,
             "#d8576b"
            ],
            [
             0.6666666666666666,
             "#ed7953"
            ],
            [
             0.7777777777777778,
             "#fb9f3a"
            ],
            [
             0.8888888888888888,
             "#fdca26"
            ],
            [
             1,
             "#f0f921"
            ]
           ],
           "sequentialminus": [
            [
             0,
             "#0d0887"
            ],
            [
             0.1111111111111111,
             "#46039f"
            ],
            [
             0.2222222222222222,
             "#7201a8"
            ],
            [
             0.3333333333333333,
             "#9c179e"
            ],
            [
             0.4444444444444444,
             "#bd3786"
            ],
            [
             0.5555555555555556,
             "#d8576b"
            ],
            [
             0.6666666666666666,
             "#ed7953"
            ],
            [
             0.7777777777777778,
             "#fb9f3a"
            ],
            [
             0.8888888888888888,
             "#fdca26"
            ],
            [
             1,
             "#f0f921"
            ]
           ]
          },
          "colorway": [
           "#636efa",
           "#EF553B",
           "#00cc96",
           "#ab63fa",
           "#FFA15A",
           "#19d3f3",
           "#FF6692",
           "#B6E880",
           "#FF97FF",
           "#FECB52"
          ],
          "font": {
           "color": "#2a3f5f"
          },
          "geo": {
           "bgcolor": "white",
           "lakecolor": "white",
           "landcolor": "#E5ECF6",
           "showlakes": true,
           "showland": true,
           "subunitcolor": "white"
          },
          "hoverlabel": {
           "align": "left"
          },
          "hovermode": "closest",
          "mapbox": {
           "style": "light"
          },
          "paper_bgcolor": "white",
          "plot_bgcolor": "#E5ECF6",
          "polar": {
           "angularaxis": {
            "gridcolor": "white",
            "linecolor": "white",
            "ticks": ""
           },
           "bgcolor": "#E5ECF6",
           "radialaxis": {
            "gridcolor": "white",
            "linecolor": "white",
            "ticks": ""
           }
          },
          "scene": {
           "xaxis": {
            "backgroundcolor": "#E5ECF6",
            "gridcolor": "white",
            "gridwidth": 2,
            "linecolor": "white",
            "showbackground": true,
            "ticks": "",
            "zerolinecolor": "white"
           },
           "yaxis": {
            "backgroundcolor": "#E5ECF6",
            "gridcolor": "white",
            "gridwidth": 2,
            "linecolor": "white",
            "showbackground": true,
            "ticks": "",
            "zerolinecolor": "white"
           },
           "zaxis": {
            "backgroundcolor": "#E5ECF6",
            "gridcolor": "white",
            "gridwidth": 2,
            "linecolor": "white",
            "showbackground": true,
            "ticks": "",
            "zerolinecolor": "white"
           }
          },
          "shapedefaults": {
           "line": {
            "color": "#2a3f5f"
           }
          },
          "ternary": {
           "aaxis": {
            "gridcolor": "white",
            "linecolor": "white",
            "ticks": ""
           },
           "baxis": {
            "gridcolor": "white",
            "linecolor": "white",
            "ticks": ""
           },
           "bgcolor": "#E5ECF6",
           "caxis": {
            "gridcolor": "white",
            "linecolor": "white",
            "ticks": ""
           }
          },
          "title": {
           "x": 0.05
          },
          "xaxis": {
           "automargin": true,
           "gridcolor": "white",
           "linecolor": "white",
           "ticks": "",
           "title": {
            "standoff": 15
           },
           "zerolinecolor": "white",
           "zerolinewidth": 2
          },
          "yaxis": {
           "automargin": true,
           "gridcolor": "white",
           "linecolor": "white",
           "ticks": "",
           "title": {
            "standoff": 15
           },
           "zerolinecolor": "white",
           "zerolinewidth": 2
          }
         }
        },
        "title": {
         "text": "Daily Maximum Temperature Forecast Errors Over Time"
        },
        "xaxis": {
         "anchor": "y",
         "domain": [
          0,
          1
         ],
         "title": {
          "text": "date"
         }
        },
        "yaxis": {
         "anchor": "x",
         "domain": [
          0,
          1
         ],
         "title": {
          "text": "error"
         }
        }
       }
      }
     },
     "metadata": {},
     "output_type": "display_data"
    },
    {
     "name": "stdout",
     "output_type": "stream",
     "text": [
      "\n",
      "Summary Statistics for Daily Maximum Temperature Forecasts:\n",
      "Mean Absolute Error: 6.48°F\n",
      "Median Absolute Error: 7.08°F\n",
      "Number of forecasts analyzed: 10\n",
      "Number of unique days: 1\n",
      "\n",
      "Error by Forecast Horizon:\n",
      "             mean  count\n",
      "hours_ahead             \n",
      "1.0          5.08      1\n",
      "3.0          5.08      1\n",
      "4.0          5.08      1\n",
      "5.0          7.08      1\n",
      "6.0          7.08      1\n",
      "7.0          7.08      1\n",
      "8.0          7.08      1\n",
      "9.0          7.08      1\n",
      "10.0         7.08      1\n",
      "11.0         7.08      1\n"
     ]
    }
   ],
   "source": [
    "def analyze_daily_max_temps(df_forecasts, df_observations):\n",
    "    \"\"\"Analyze forecast accuracy for daily maximum temperatures.\"\"\"\n",
    "    \n",
    "    # First, find the actual daily max temperatures and their times\n",
    "    daily_maxes = []\n",
    "    \n",
    "    # Group observations by date\n",
    "    df_observations['date'] = df_observations['observed_time'].dt.date\n",
    "    daily_obs = df_observations.groupby('date')\n",
    "    \n",
    "    for date, day_obs in daily_obs:\n",
    "        # Find max temperature for the day\n",
    "        max_temp = day_obs['temperature'].max()\n",
    "        # Get all observations that match the max temp\n",
    "        max_temp_times = day_obs[day_obs['temperature'] == max_temp]\n",
    "        \n",
    "        if not max_temp_times.empty:\n",
    "            # Take the first occurrence of max temp for this day\n",
    "            max_record = max_temp_times.iloc[0]\n",
    "            max_hour = max_record['observed_time'].replace(minute=0, second=0, microsecond=0)\n",
    "            \n",
    "            # Find matching forecasts (those predicting this hour)\n",
    "            matching_forecasts = df_forecasts[\n",
    "                (df_forecasts['forecast_time_hour'] == max_hour)\n",
    "            ]\n",
    "            \n",
    "            if not matching_forecasts.empty:\n",
    "                # Include all forecasts for this max temp hour\n",
    "                for _, forecast in matching_forecasts.iterrows():\n",
    "                    error = forecast['temperature'] - max_temp\n",
    "                    daily_maxes.append({\n",
    "                        'date': date,\n",
    "                        'max_temp_hour': max_hour,\n",
    "                        'actual_max_temp': max_temp,\n",
    "                        'forecast_temp': forecast['temperature'],\n",
    "                        'forecast_created': forecast['created_at'],\n",
    "                        'error': error,\n",
    "                        'error_magnitude': abs(error),\n",
    "                        'hours_ahead': (max_hour - forecast['created_at']).total_seconds() / 3600\n",
    "                    })\n",
    "    \n",
    "    # Convert to DataFrame\n",
    "    df_max_analysis = pd.DataFrame(daily_maxes)\n",
    "    \n",
    "    if df_max_analysis.empty:\n",
    "        print(\"No matching data found for analysis\")\n",
    "        return None\n",
    "    \n",
    "    # Create visualizations\n",
    "    import plotly.express as px\n",
    "    import plotly.graph_objects as go\n",
    "    \n",
    "    # 1. Scatter plot of forecast vs actual max temps\n",
    "    fig1 = px.scatter(df_max_analysis,\n",
    "                     x='actual_max_temp',\n",
    "                     y='forecast_temp',\n",
    "                     hover_data={\n",
    "                         'date': True,\n",
    "                         'hours_ahead': ':.2f',\n",
    "                         'error': ':.2f',\n",
    "                         'forecast_created': True,\n",
    "                         'actual_max_temp': ':.2f',\n",
    "                         'forecast_temp': ':.2f'\n",
    "                     },\n",
    "                     title='Forecast vs Actual Daily Maximum Temperatures')\n",
    "    \n",
    "    # Add perfect forecast line\n",
    "    fig1.add_trace(go.Scatter(\n",
    "        x=[df_max_analysis['actual_max_temp'].min(),\n",
    "           df_max_analysis['actual_max_temp'].max()],\n",
    "        y=[df_max_analysis['actual_max_temp'].min(),\n",
    "           df_max_analysis['actual_max_temp'].max()],\n",
    "        mode='lines',\n",
    "        name='Perfect Forecast',\n",
    "        line=dict(dash='dash')))\n",
    "    fig1.show()\n",
    "    \n",
    "    # 2. Error distribution by hours ahead\n",
    "    fig2 = px.box(df_max_analysis,\n",
    "                  x=df_max_analysis['hours_ahead'].round(),\n",
    "                  y='error',\n",
    "                  hover_data=['date', 'forecast_created'],\n",
    "                  title='Forecast Error Distribution by Lead Time (Daily Max Temp)')\n",
    "    fig2.show()\n",
    "    \n",
    "    # 3. Time series of errors\n",
    "    fig3 = px.scatter(df_max_analysis.sort_values('date'),\n",
    "                   x='date',\n",
    "                   y='error',\n",
    "                   hover_data={\n",
    "                       'hours_ahead': ':.2f',\n",
    "                       'forecast_created': True,\n",
    "                       'actual_max_temp': ':.2f',\n",
    "                       'forecast_temp': ':.2f',\n",
    "                       'error': ':.2f'\n",
    "                   },\n",
    "                   title='Daily Maximum Temperature Forecast Errors Over Time')\n",
    "    fig3.add_hline(y=0, line_dash=\"dash\", line_color=\"red\")\n",
    "    fig3.show()\n",
    "    \n",
    "    # Print summary statistics\n",
    "    print(\"\\nSummary Statistics for Daily Maximum Temperature Forecasts:\")\n",
    "    print(f\"Mean Absolute Error: {df_max_analysis['error_magnitude'].mean():.2f}°F\")\n",
    "    print(f\"Median Absolute Error: {df_max_analysis['error_magnitude'].median():.2f}°F\")\n",
    "    print(f\"Number of forecasts analyzed: {len(df_max_analysis)}\")\n",
    "    print(f\"Number of unique days: {df_max_analysis['date'].nunique()}\")\n",
    "    \n",
    "    # Additional statistics by forecast horizon\n",
    "    print(\"\\nError by Forecast Horizon:\")\n",
    "    horizon_stats = df_max_analysis.groupby(\n",
    "        df_max_analysis['hours_ahead'].round()\n",
    "    )['error_magnitude'].agg(['mean', 'count']).round(2)\n",
    "    print(horizon_stats)\n",
    "    \n",
    "    return df_max_analysis\n",
    "\n",
    "# Run the analysis\n",
    "df_max_analysis = analyze_daily_max_temps(df_forecasts, df_observations)"
   ]
  },
  {
   "cell_type": "code",
   "execution_count": 11,
   "metadata": {},
   "outputs": [
    {
     "name": "stdout",
     "output_type": "stream",
     "text": [
      "\n",
      "Daily Maximum Temperature Analysis:\n",
      "===================================\n",
      "\n",
      "Date: 2024-12-09\n",
      "Daily High: 51.08°F at 10:00 AM EST\n",
      "Number of forecast groups: 10\n",
      "Accurate max forecasts (±1.0°F): 0\n"
     ]
    },
    {
     "data": {
      "application/vnd.plotly.v1+json": {
       "config": {
        "plotlyServerURL": "https://plot.ly"
       },
       "data": [
        {
         "customdata": [
          [
           "2024-12-09",
           "2024-12-09T10:00:00-05:00",
           "2024-12-08T23:00:25.697307-05:00",
           0.9928618591666667,
           -3.0799999999999983,
           false
          ],
          [
           "2024-12-09",
           "2024-12-09T10:00:00-05:00",
           "2024-12-09T00:00:24.022040-05:00",
           0.9933272111111111,
           -4.079999999999998,
           false
          ],
          [
           "2024-12-09",
           "2024-12-09T10:00:00-05:00",
           "2024-12-09T01:00:22.521872-05:00",
           0.9937439244444445,
           -5.079999999999998,
           false
          ],
          [
           "2024-12-09",
           "2024-12-09T10:00:00-05:00",
           "2024-12-09T02:00:20.917972-05:00",
           0.9941894522222222,
           -6.079999999999998,
           false
          ],
          [
           "2024-12-09",
           "2024-12-09T10:00:00-05:00",
           "2024-12-09T03:00:21.086869-05:00",
           0.9941425363888888,
           -7.079999999999998,
           false
          ],
          [
           "2024-12-09",
           "2024-12-09T10:00:00-05:00",
           "2024-12-09T04:00:37.707344-05:00",
           0.9895257377777777,
           -7.079999999999998,
           false
          ],
          [
           "2024-12-09",
           "2024-12-09T10:00:00-05:00",
           "2024-12-09T05:00:20.996406-05:00",
           0.994167665,
           -7.079999999999998,
           false
          ],
          [
           "2024-12-09",
           "2024-12-09T10:00:00-05:00",
           "2024-12-09T06:00:22.355705-05:00",
           3.9937900819444443,
           -5.079999999999998,
           false
          ],
          [
           "2024-12-09",
           "2024-12-09T10:00:00-05:00",
           "2024-12-09T07:00:21.209380-05:00",
           2.9941085055555554,
           -5.079999999999998,
           false
          ],
          [
           "2024-12-09",
           "2024-12-09T10:00:00-05:00",
           "2024-12-09T09:00:22.738697-05:00",
           0.9936836952777779,
           -5.079999999999998,
           false
          ]
         ],
         "hovertemplate": "high_temp=%{x:.2f}<br>forecast_max_temp=%{y:.2f}<br>date=%{customdata[0]}<br>high_temp_time=%{customdata[1]}<br>forecast_created=%{customdata[2]}<br>hours_ahead=%{marker.color:.1f}<br>error=%{customdata[4]:.2f}<br>is_accurate=%{customdata[5]}<extra></extra>",
         "legendgroup": "",
         "marker": {
          "color": [
           0.9928618591666667,
           0.9933272111111111,
           0.9937439244444445,
           0.9941894522222222,
           0.9941425363888888,
           0.9895257377777777,
           0.994167665,
           3.9937900819444443,
           2.9941085055555554,
           0.9936836952777779
          ],
          "coloraxis": "coloraxis",
          "size": 12,
          "symbol": "circle"
         },
         "mode": "markers",
         "name": "",
         "orientation": "v",
         "showlegend": false,
         "type": "scatter",
         "x": [
          51.08,
          51.08,
          51.08,
          51.08,
          51.08,
          51.08,
          51.08,
          51.08,
          51.08,
          51.08
         ],
         "xaxis": "x",
         "y": [
          48,
          47,
          46,
          45,
          44,
          44,
          44,
          46,
          46,
          46
         ],
         "yaxis": "y"
        },
        {
         "line": {
          "color": "black",
          "dash": "dash"
         },
         "mode": "lines",
         "name": "Perfect Forecast",
         "type": "scatter",
         "x": [
          46.08,
          46.1810101010101,
          46.2820202020202,
          46.3830303030303,
          46.4840404040404,
          46.5850505050505,
          46.68606060606061,
          46.787070707070704,
          46.88808080808081,
          46.989090909090905,
          47.09010101010101,
          47.19111111111111,
          47.29212121212121,
          47.39313131313131,
          47.49414141414141,
          47.595151515151514,
          47.69616161616162,
          47.797171717171715,
          47.89818181818182,
          47.999191919191915,
          48.10020202020202,
          48.20121212121212,
          48.30222222222222,
          48.403232323232324,
          48.50424242424242,
          48.605252525252524,
          48.70626262626263,
          48.807272727272725,
          48.90828282828283,
          49.009292929292926,
          49.11030303030303,
          49.211313131313126,
          49.31232323232323,
          49.413333333333334,
          49.51434343434343,
          49.615353535353535,
          49.71636363636363,
          49.817373737373735,
          49.91838383838384,
          50.019393939393936,
          50.12040404040404,
          50.22141414141414,
          50.32242424242424,
          50.423434343434344,
          50.52444444444444,
          50.625454545454545,
          50.72646464646464,
          50.827474747474746,
          50.92848484848485,
          51.029494949494946,
          51.13050505050505,
          51.23151515151515,
          51.33252525252525,
          51.433535353535355,
          51.53454545454545,
          51.635555555555555,
          51.73656565656565,
          51.837575757575756,
          51.93858585858585,
          52.03959595959596,
          52.14060606060606,
          52.24161616161616,
          52.34262626262626,
          52.44363636363636,
          52.54464646464646,
          52.645656565656566,
          52.74666666666666,
          52.84767676767677,
          52.94868686868686,
          53.04969696969697,
          53.15070707070707,
          53.25171717171717,
          53.35272727272727,
          53.45373737373737,
          53.55474747474747,
          53.655757575757576,
          53.75676767676767,
          53.85777777777778,
          53.958787878787874,
          54.05979797979798,
          54.16080808080808,
          54.26181818181818,
          54.36282828282828,
          54.46383838383838,
          54.56484848484848,
          54.66585858585859,
          54.76686868686868,
          54.86787878787879,
          54.968888888888884,
          55.06989898989899,
          55.17090909090909,
          55.27191919191919,
          55.37292929292929,
          55.47393939393939,
          55.57494949494949,
          55.6759595959596,
          55.776969696969694,
          55.8779797979798,
          55.978989898989894,
          56.08
         ],
         "y": [
          46.08,
          46.1810101010101,
          46.2820202020202,
          46.3830303030303,
          46.4840404040404,
          46.5850505050505,
          46.68606060606061,
          46.787070707070704,
          46.88808080808081,
          46.989090909090905,
          47.09010101010101,
          47.19111111111111,
          47.29212121212121,
          47.39313131313131,
          47.49414141414141,
          47.595151515151514,
          47.69616161616162,
          47.797171717171715,
          47.89818181818182,
          47.999191919191915,
          48.10020202020202,
          48.20121212121212,
          48.30222222222222,
          48.403232323232324,
          48.50424242424242,
          48.605252525252524,
          48.70626262626263,
          48.807272727272725,
          48.90828282828283,
          49.009292929292926,
          49.11030303030303,
          49.211313131313126,
          49.31232323232323,
          49.413333333333334,
          49.51434343434343,
          49.615353535353535,
          49.71636363636363,
          49.817373737373735,
          49.91838383838384,
          50.019393939393936,
          50.12040404040404,
          50.22141414141414,
          50.32242424242424,
          50.423434343434344,
          50.52444444444444,
          50.625454545454545,
          50.72646464646464,
          50.827474747474746,
          50.92848484848485,
          51.029494949494946,
          51.13050505050505,
          51.23151515151515,
          51.33252525252525,
          51.433535353535355,
          51.53454545454545,
          51.635555555555555,
          51.73656565656565,
          51.837575757575756,
          51.93858585858585,
          52.03959595959596,
          52.14060606060606,
          52.24161616161616,
          52.34262626262626,
          52.44363636363636,
          52.54464646464646,
          52.645656565656566,
          52.74666666666666,
          52.84767676767677,
          52.94868686868686,
          53.04969696969697,
          53.15070707070707,
          53.25171717171717,
          53.35272727272727,
          53.45373737373737,
          53.55474747474747,
          53.655757575757576,
          53.75676767676767,
          53.85777777777778,
          53.958787878787874,
          54.05979797979798,
          54.16080808080808,
          54.26181818181818,
          54.36282828282828,
          54.46383838383838,
          54.56484848484848,
          54.66585858585859,
          54.76686868686868,
          54.86787878787879,
          54.968888888888884,
          55.06989898989899,
          55.17090909090909,
          55.27191919191919,
          55.37292929292929,
          55.47393939393939,
          55.57494949494949,
          55.6759595959596,
          55.776969696969694,
          55.8779797979798,
          55.978989898989894,
          56.08
         ]
        },
        {
         "line": {
          "color": "gray",
          "dash": "dot"
         },
         "mode": "lines",
         "name": "+1.0°F Margin",
         "type": "scatter",
         "x": [
          46.08,
          46.1810101010101,
          46.2820202020202,
          46.3830303030303,
          46.4840404040404,
          46.5850505050505,
          46.68606060606061,
          46.787070707070704,
          46.88808080808081,
          46.989090909090905,
          47.09010101010101,
          47.19111111111111,
          47.29212121212121,
          47.39313131313131,
          47.49414141414141,
          47.595151515151514,
          47.69616161616162,
          47.797171717171715,
          47.89818181818182,
          47.999191919191915,
          48.10020202020202,
          48.20121212121212,
          48.30222222222222,
          48.403232323232324,
          48.50424242424242,
          48.605252525252524,
          48.70626262626263,
          48.807272727272725,
          48.90828282828283,
          49.009292929292926,
          49.11030303030303,
          49.211313131313126,
          49.31232323232323,
          49.413333333333334,
          49.51434343434343,
          49.615353535353535,
          49.71636363636363,
          49.817373737373735,
          49.91838383838384,
          50.019393939393936,
          50.12040404040404,
          50.22141414141414,
          50.32242424242424,
          50.423434343434344,
          50.52444444444444,
          50.625454545454545,
          50.72646464646464,
          50.827474747474746,
          50.92848484848485,
          51.029494949494946,
          51.13050505050505,
          51.23151515151515,
          51.33252525252525,
          51.433535353535355,
          51.53454545454545,
          51.635555555555555,
          51.73656565656565,
          51.837575757575756,
          51.93858585858585,
          52.03959595959596,
          52.14060606060606,
          52.24161616161616,
          52.34262626262626,
          52.44363636363636,
          52.54464646464646,
          52.645656565656566,
          52.74666666666666,
          52.84767676767677,
          52.94868686868686,
          53.04969696969697,
          53.15070707070707,
          53.25171717171717,
          53.35272727272727,
          53.45373737373737,
          53.55474747474747,
          53.655757575757576,
          53.75676767676767,
          53.85777777777778,
          53.958787878787874,
          54.05979797979798,
          54.16080808080808,
          54.26181818181818,
          54.36282828282828,
          54.46383838383838,
          54.56484848484848,
          54.66585858585859,
          54.76686868686868,
          54.86787878787879,
          54.968888888888884,
          55.06989898989899,
          55.17090909090909,
          55.27191919191919,
          55.37292929292929,
          55.47393939393939,
          55.57494949494949,
          55.6759595959596,
          55.776969696969694,
          55.8779797979798,
          55.978989898989894,
          56.08
         ],
         "y": [
          47.08,
          47.1810101010101,
          47.2820202020202,
          47.3830303030303,
          47.4840404040404,
          47.5850505050505,
          47.68606060606061,
          47.787070707070704,
          47.88808080808081,
          47.989090909090905,
          48.09010101010101,
          48.19111111111111,
          48.29212121212121,
          48.39313131313131,
          48.49414141414141,
          48.595151515151514,
          48.69616161616162,
          48.797171717171715,
          48.89818181818182,
          48.999191919191915,
          49.10020202020202,
          49.20121212121212,
          49.30222222222222,
          49.403232323232324,
          49.50424242424242,
          49.605252525252524,
          49.70626262626263,
          49.807272727272725,
          49.90828282828283,
          50.009292929292926,
          50.11030303030303,
          50.211313131313126,
          50.31232323232323,
          50.413333333333334,
          50.51434343434343,
          50.615353535353535,
          50.71636363636363,
          50.817373737373735,
          50.91838383838384,
          51.019393939393936,
          51.12040404040404,
          51.22141414141414,
          51.32242424242424,
          51.423434343434344,
          51.52444444444444,
          51.625454545454545,
          51.72646464646464,
          51.827474747474746,
          51.92848484848485,
          52.029494949494946,
          52.13050505050505,
          52.23151515151515,
          52.33252525252525,
          52.433535353535355,
          52.53454545454545,
          52.635555555555555,
          52.73656565656565,
          52.837575757575756,
          52.93858585858585,
          53.03959595959596,
          53.14060606060606,
          53.24161616161616,
          53.34262626262626,
          53.44363636363636,
          53.54464646464646,
          53.645656565656566,
          53.74666666666666,
          53.84767676767677,
          53.94868686868686,
          54.04969696969697,
          54.15070707070707,
          54.25171717171717,
          54.35272727272727,
          54.45373737373737,
          54.55474747474747,
          54.655757575757576,
          54.75676767676767,
          54.85777777777778,
          54.958787878787874,
          55.05979797979798,
          55.16080808080808,
          55.26181818181818,
          55.36282828282828,
          55.46383838383838,
          55.56484848484848,
          55.66585858585859,
          55.76686868686868,
          55.86787878787879,
          55.968888888888884,
          56.06989898989899,
          56.17090909090909,
          56.27191919191919,
          56.37292929292929,
          56.47393939393939,
          56.57494949494949,
          56.6759595959596,
          56.776969696969694,
          56.8779797979798,
          56.978989898989894,
          57.08
         ]
        },
        {
         "line": {
          "color": "gray",
          "dash": "dot"
         },
         "mode": "lines",
         "name": "-1.0°F Margin",
         "type": "scatter",
         "x": [
          46.08,
          46.1810101010101,
          46.2820202020202,
          46.3830303030303,
          46.4840404040404,
          46.5850505050505,
          46.68606060606061,
          46.787070707070704,
          46.88808080808081,
          46.989090909090905,
          47.09010101010101,
          47.19111111111111,
          47.29212121212121,
          47.39313131313131,
          47.49414141414141,
          47.595151515151514,
          47.69616161616162,
          47.797171717171715,
          47.89818181818182,
          47.999191919191915,
          48.10020202020202,
          48.20121212121212,
          48.30222222222222,
          48.403232323232324,
          48.50424242424242,
          48.605252525252524,
          48.70626262626263,
          48.807272727272725,
          48.90828282828283,
          49.009292929292926,
          49.11030303030303,
          49.211313131313126,
          49.31232323232323,
          49.413333333333334,
          49.51434343434343,
          49.615353535353535,
          49.71636363636363,
          49.817373737373735,
          49.91838383838384,
          50.019393939393936,
          50.12040404040404,
          50.22141414141414,
          50.32242424242424,
          50.423434343434344,
          50.52444444444444,
          50.625454545454545,
          50.72646464646464,
          50.827474747474746,
          50.92848484848485,
          51.029494949494946,
          51.13050505050505,
          51.23151515151515,
          51.33252525252525,
          51.433535353535355,
          51.53454545454545,
          51.635555555555555,
          51.73656565656565,
          51.837575757575756,
          51.93858585858585,
          52.03959595959596,
          52.14060606060606,
          52.24161616161616,
          52.34262626262626,
          52.44363636363636,
          52.54464646464646,
          52.645656565656566,
          52.74666666666666,
          52.84767676767677,
          52.94868686868686,
          53.04969696969697,
          53.15070707070707,
          53.25171717171717,
          53.35272727272727,
          53.45373737373737,
          53.55474747474747,
          53.655757575757576,
          53.75676767676767,
          53.85777777777778,
          53.958787878787874,
          54.05979797979798,
          54.16080808080808,
          54.26181818181818,
          54.36282828282828,
          54.46383838383838,
          54.56484848484848,
          54.66585858585859,
          54.76686868686868,
          54.86787878787879,
          54.968888888888884,
          55.06989898989899,
          55.17090909090909,
          55.27191919191919,
          55.37292929292929,
          55.47393939393939,
          55.57494949494949,
          55.6759595959596,
          55.776969696969694,
          55.8779797979798,
          55.978989898989894,
          56.08
         ],
         "y": [
          45.08,
          45.1810101010101,
          45.2820202020202,
          45.3830303030303,
          45.4840404040404,
          45.5850505050505,
          45.68606060606061,
          45.787070707070704,
          45.88808080808081,
          45.989090909090905,
          46.09010101010101,
          46.19111111111111,
          46.29212121212121,
          46.39313131313131,
          46.49414141414141,
          46.595151515151514,
          46.69616161616162,
          46.797171717171715,
          46.89818181818182,
          46.999191919191915,
          47.10020202020202,
          47.20121212121212,
          47.30222222222222,
          47.403232323232324,
          47.50424242424242,
          47.605252525252524,
          47.70626262626263,
          47.807272727272725,
          47.90828282828283,
          48.009292929292926,
          48.11030303030303,
          48.211313131313126,
          48.31232323232323,
          48.413333333333334,
          48.51434343434343,
          48.615353535353535,
          48.71636363636363,
          48.817373737373735,
          48.91838383838384,
          49.019393939393936,
          49.12040404040404,
          49.22141414141414,
          49.32242424242424,
          49.423434343434344,
          49.52444444444444,
          49.625454545454545,
          49.72646464646464,
          49.827474747474746,
          49.92848484848485,
          50.029494949494946,
          50.13050505050505,
          50.23151515151515,
          50.33252525252525,
          50.433535353535355,
          50.53454545454545,
          50.635555555555555,
          50.73656565656565,
          50.837575757575756,
          50.93858585858585,
          51.03959595959596,
          51.14060606060606,
          51.24161616161616,
          51.34262626262626,
          51.44363636363636,
          51.54464646464646,
          51.645656565656566,
          51.74666666666666,
          51.84767676767677,
          51.94868686868686,
          52.04969696969697,
          52.15070707070707,
          52.25171717171717,
          52.35272727272727,
          52.45373737373737,
          52.55474747474747,
          52.655757575757576,
          52.75676767676767,
          52.85777777777778,
          52.958787878787874,
          53.05979797979798,
          53.16080808080808,
          53.26181818181818,
          53.36282828282828,
          53.46383838383838,
          53.56484848484848,
          53.66585858585859,
          53.76686868686868,
          53.86787878787879,
          53.968888888888884,
          54.06989898989899,
          54.17090909090909,
          54.27191919191919,
          54.37292929292929,
          54.47393939393939,
          54.57494949494949,
          54.6759595959596,
          54.776969696969694,
          54.8779797979798,
          54.978989898989894,
          55.08
         ]
        }
       ],
       "layout": {
        "coloraxis": {
         "cmax": 14,
         "cmin": 0,
         "colorbar": {
          "title": {
           "text": "hours_ahead"
          }
         },
         "colorscale": [
          [
           0,
           "rgb(49,54,149)"
          ],
          [
           0.1,
           "rgb(69,117,180)"
          ],
          [
           0.2,
           "rgb(116,173,209)"
          ],
          [
           0.3,
           "rgb(171,217,233)"
          ],
          [
           0.4,
           "rgb(224,243,248)"
          ],
          [
           0.5,
           "rgb(255,255,191)"
          ],
          [
           0.6,
           "rgb(254,224,144)"
          ],
          [
           0.7,
           "rgb(253,174,97)"
          ],
          [
           0.8,
           "rgb(244,109,67)"
          ],
          [
           0.9,
           "rgb(215,48,39)"
          ],
          [
           1,
           "rgb(165,0,38)"
          ]
         ]
        },
        "legend": {
         "tracegroupgap": 0
        },
        "template": {
         "data": {
          "bar": [
           {
            "error_x": {
             "color": "#2a3f5f"
            },
            "error_y": {
             "color": "#2a3f5f"
            },
            "marker": {
             "line": {
              "color": "#E5ECF6",
              "width": 0.5
             },
             "pattern": {
              "fillmode": "overlay",
              "size": 10,
              "solidity": 0.2
             }
            },
            "type": "bar"
           }
          ],
          "barpolar": [
           {
            "marker": {
             "line": {
              "color": "#E5ECF6",
              "width": 0.5
             },
             "pattern": {
              "fillmode": "overlay",
              "size": 10,
              "solidity": 0.2
             }
            },
            "type": "barpolar"
           }
          ],
          "carpet": [
           {
            "aaxis": {
             "endlinecolor": "#2a3f5f",
             "gridcolor": "white",
             "linecolor": "white",
             "minorgridcolor": "white",
             "startlinecolor": "#2a3f5f"
            },
            "baxis": {
             "endlinecolor": "#2a3f5f",
             "gridcolor": "white",
             "linecolor": "white",
             "minorgridcolor": "white",
             "startlinecolor": "#2a3f5f"
            },
            "type": "carpet"
           }
          ],
          "choropleth": [
           {
            "colorbar": {
             "outlinewidth": 0,
             "ticks": ""
            },
            "type": "choropleth"
           }
          ],
          "contour": [
           {
            "colorbar": {
             "outlinewidth": 0,
             "ticks": ""
            },
            "colorscale": [
             [
              0,
              "#0d0887"
             ],
             [
              0.1111111111111111,
              "#46039f"
             ],
             [
              0.2222222222222222,
              "#7201a8"
             ],
             [
              0.3333333333333333,
              "#9c179e"
             ],
             [
              0.4444444444444444,
              "#bd3786"
             ],
             [
              0.5555555555555556,
              "#d8576b"
             ],
             [
              0.6666666666666666,
              "#ed7953"
             ],
             [
              0.7777777777777778,
              "#fb9f3a"
             ],
             [
              0.8888888888888888,
              "#fdca26"
             ],
             [
              1,
              "#f0f921"
             ]
            ],
            "type": "contour"
           }
          ],
          "contourcarpet": [
           {
            "colorbar": {
             "outlinewidth": 0,
             "ticks": ""
            },
            "type": "contourcarpet"
           }
          ],
          "heatmap": [
           {
            "colorbar": {
             "outlinewidth": 0,
             "ticks": ""
            },
            "colorscale": [
             [
              0,
              "#0d0887"
             ],
             [
              0.1111111111111111,
              "#46039f"
             ],
             [
              0.2222222222222222,
              "#7201a8"
             ],
             [
              0.3333333333333333,
              "#9c179e"
             ],
             [
              0.4444444444444444,
              "#bd3786"
             ],
             [
              0.5555555555555556,
              "#d8576b"
             ],
             [
              0.6666666666666666,
              "#ed7953"
             ],
             [
              0.7777777777777778,
              "#fb9f3a"
             ],
             [
              0.8888888888888888,
              "#fdca26"
             ],
             [
              1,
              "#f0f921"
             ]
            ],
            "type": "heatmap"
           }
          ],
          "heatmapgl": [
           {
            "colorbar": {
             "outlinewidth": 0,
             "ticks": ""
            },
            "colorscale": [
             [
              0,
              "#0d0887"
             ],
             [
              0.1111111111111111,
              "#46039f"
             ],
             [
              0.2222222222222222,
              "#7201a8"
             ],
             [
              0.3333333333333333,
              "#9c179e"
             ],
             [
              0.4444444444444444,
              "#bd3786"
             ],
             [
              0.5555555555555556,
              "#d8576b"
             ],
             [
              0.6666666666666666,
              "#ed7953"
             ],
             [
              0.7777777777777778,
              "#fb9f3a"
             ],
             [
              0.8888888888888888,
              "#fdca26"
             ],
             [
              1,
              "#f0f921"
             ]
            ],
            "type": "heatmapgl"
           }
          ],
          "histogram": [
           {
            "marker": {
             "pattern": {
              "fillmode": "overlay",
              "size": 10,
              "solidity": 0.2
             }
            },
            "type": "histogram"
           }
          ],
          "histogram2d": [
           {
            "colorbar": {
             "outlinewidth": 0,
             "ticks": ""
            },
            "colorscale": [
             [
              0,
              "#0d0887"
             ],
             [
              0.1111111111111111,
              "#46039f"
             ],
             [
              0.2222222222222222,
              "#7201a8"
             ],
             [
              0.3333333333333333,
              "#9c179e"
             ],
             [
              0.4444444444444444,
              "#bd3786"
             ],
             [
              0.5555555555555556,
              "#d8576b"
             ],
             [
              0.6666666666666666,
              "#ed7953"
             ],
             [
              0.7777777777777778,
              "#fb9f3a"
             ],
             [
              0.8888888888888888,
              "#fdca26"
             ],
             [
              1,
              "#f0f921"
             ]
            ],
            "type": "histogram2d"
           }
          ],
          "histogram2dcontour": [
           {
            "colorbar": {
             "outlinewidth": 0,
             "ticks": ""
            },
            "colorscale": [
             [
              0,
              "#0d0887"
             ],
             [
              0.1111111111111111,
              "#46039f"
             ],
             [
              0.2222222222222222,
              "#7201a8"
             ],
             [
              0.3333333333333333,
              "#9c179e"
             ],
             [
              0.4444444444444444,
              "#bd3786"
             ],
             [
              0.5555555555555556,
              "#d8576b"
             ],
             [
              0.6666666666666666,
              "#ed7953"
             ],
             [
              0.7777777777777778,
              "#fb9f3a"
             ],
             [
              0.8888888888888888,
              "#fdca26"
             ],
             [
              1,
              "#f0f921"
             ]
            ],
            "type": "histogram2dcontour"
           }
          ],
          "mesh3d": [
           {
            "colorbar": {
             "outlinewidth": 0,
             "ticks": ""
            },
            "type": "mesh3d"
           }
          ],
          "parcoords": [
           {
            "line": {
             "colorbar": {
              "outlinewidth": 0,
              "ticks": ""
             }
            },
            "type": "parcoords"
           }
          ],
          "pie": [
           {
            "automargin": true,
            "type": "pie"
           }
          ],
          "scatter": [
           {
            "fillpattern": {
             "fillmode": "overlay",
             "size": 10,
             "solidity": 0.2
            },
            "type": "scatter"
           }
          ],
          "scatter3d": [
           {
            "line": {
             "colorbar": {
              "outlinewidth": 0,
              "ticks": ""
             }
            },
            "marker": {
             "colorbar": {
              "outlinewidth": 0,
              "ticks": ""
             }
            },
            "type": "scatter3d"
           }
          ],
          "scattercarpet": [
           {
            "marker": {
             "colorbar": {
              "outlinewidth": 0,
              "ticks": ""
             }
            },
            "type": "scattercarpet"
           }
          ],
          "scattergeo": [
           {
            "marker": {
             "colorbar": {
              "outlinewidth": 0,
              "ticks": ""
             }
            },
            "type": "scattergeo"
           }
          ],
          "scattergl": [
           {
            "marker": {
             "colorbar": {
              "outlinewidth": 0,
              "ticks": ""
             }
            },
            "type": "scattergl"
           }
          ],
          "scattermapbox": [
           {
            "marker": {
             "colorbar": {
              "outlinewidth": 0,
              "ticks": ""
             }
            },
            "type": "scattermapbox"
           }
          ],
          "scatterpolar": [
           {
            "marker": {
             "colorbar": {
              "outlinewidth": 0,
              "ticks": ""
             }
            },
            "type": "scatterpolar"
           }
          ],
          "scatterpolargl": [
           {
            "marker": {
             "colorbar": {
              "outlinewidth": 0,
              "ticks": ""
             }
            },
            "type": "scatterpolargl"
           }
          ],
          "scatterternary": [
           {
            "marker": {
             "colorbar": {
              "outlinewidth": 0,
              "ticks": ""
             }
            },
            "type": "scatterternary"
           }
          ],
          "surface": [
           {
            "colorbar": {
             "outlinewidth": 0,
             "ticks": ""
            },
            "colorscale": [
             [
              0,
              "#0d0887"
             ],
             [
              0.1111111111111111,
              "#46039f"
             ],
             [
              0.2222222222222222,
              "#7201a8"
             ],
             [
              0.3333333333333333,
              "#9c179e"
             ],
             [
              0.4444444444444444,
              "#bd3786"
             ],
             [
              0.5555555555555556,
              "#d8576b"
             ],
             [
              0.6666666666666666,
              "#ed7953"
             ],
             [
              0.7777777777777778,
              "#fb9f3a"
             ],
             [
              0.8888888888888888,
              "#fdca26"
             ],
             [
              1,
              "#f0f921"
             ]
            ],
            "type": "surface"
           }
          ],
          "table": [
           {
            "cells": {
             "fill": {
              "color": "#EBF0F8"
             },
             "line": {
              "color": "white"
             }
            },
            "header": {
             "fill": {
              "color": "#C8D4E3"
             },
             "line": {
              "color": "white"
             }
            },
            "type": "table"
           }
          ]
         },
         "layout": {
          "annotationdefaults": {
           "arrowcolor": "#2a3f5f",
           "arrowhead": 0,
           "arrowwidth": 1
          },
          "autotypenumbers": "strict",
          "coloraxis": {
           "colorbar": {
            "outlinewidth": 0,
            "ticks": ""
           }
          },
          "colorscale": {
           "diverging": [
            [
             0,
             "#8e0152"
            ],
            [
             0.1,
             "#c51b7d"
            ],
            [
             0.2,
             "#de77ae"
            ],
            [
             0.3,
             "#f1b6da"
            ],
            [
             0.4,
             "#fde0ef"
            ],
            [
             0.5,
             "#f7f7f7"
            ],
            [
             0.6,
             "#e6f5d0"
            ],
            [
             0.7,
             "#b8e186"
            ],
            [
             0.8,
             "#7fbc41"
            ],
            [
             0.9,
             "#4d9221"
            ],
            [
             1,
             "#276419"
            ]
           ],
           "sequential": [
            [
             0,
             "#0d0887"
            ],
            [
             0.1111111111111111,
             "#46039f"
            ],
            [
             0.2222222222222222,
             "#7201a8"
            ],
            [
             0.3333333333333333,
             "#9c179e"
            ],
            [
             0.4444444444444444,
             "#bd3786"
            ],
            [
             0.5555555555555556,
             "#d8576b"
            ],
            [
             0.6666666666666666,
             "#ed7953"
            ],
            [
             0.7777777777777778,
             "#fb9f3a"
            ],
            [
             0.8888888888888888,
             "#fdca26"
            ],
            [
             1,
             "#f0f921"
            ]
           ],
           "sequentialminus": [
            [
             0,
             "#0d0887"
            ],
            [
             0.1111111111111111,
             "#46039f"
            ],
            [
             0.2222222222222222,
             "#7201a8"
            ],
            [
             0.3333333333333333,
             "#9c179e"
            ],
            [
             0.4444444444444444,
             "#bd3786"
            ],
            [
             0.5555555555555556,
             "#d8576b"
            ],
            [
             0.6666666666666666,
             "#ed7953"
            ],
            [
             0.7777777777777778,
             "#fb9f3a"
            ],
            [
             0.8888888888888888,
             "#fdca26"
            ],
            [
             1,
             "#f0f921"
            ]
           ]
          },
          "colorway": [
           "#636efa",
           "#EF553B",
           "#00cc96",
           "#ab63fa",
           "#FFA15A",
           "#19d3f3",
           "#FF6692",
           "#B6E880",
           "#FF97FF",
           "#FECB52"
          ],
          "font": {
           "color": "#2a3f5f"
          },
          "geo": {
           "bgcolor": "white",
           "lakecolor": "white",
           "landcolor": "#E5ECF6",
           "showlakes": true,
           "showland": true,
           "subunitcolor": "white"
          },
          "hoverlabel": {
           "align": "left"
          },
          "hovermode": "closest",
          "mapbox": {
           "style": "light"
          },
          "paper_bgcolor": "white",
          "plot_bgcolor": "#E5ECF6",
          "polar": {
           "angularaxis": {
            "gridcolor": "white",
            "linecolor": "white",
            "ticks": ""
           },
           "bgcolor": "#E5ECF6",
           "radialaxis": {
            "gridcolor": "white",
            "linecolor": "white",
            "ticks": ""
           }
          },
          "scene": {
           "xaxis": {
            "backgroundcolor": "#E5ECF6",
            "gridcolor": "white",
            "gridwidth": 2,
            "linecolor": "white",
            "showbackground": true,
            "ticks": "",
            "zerolinecolor": "white"
           },
           "yaxis": {
            "backgroundcolor": "#E5ECF6",
            "gridcolor": "white",
            "gridwidth": 2,
            "linecolor": "white",
            "showbackground": true,
            "ticks": "",
            "zerolinecolor": "white"
           },
           "zaxis": {
            "backgroundcolor": "#E5ECF6",
            "gridcolor": "white",
            "gridwidth": 2,
            "linecolor": "white",
            "showbackground": true,
            "ticks": "",
            "zerolinecolor": "white"
           }
          },
          "shapedefaults": {
           "line": {
            "color": "#2a3f5f"
           }
          },
          "ternary": {
           "aaxis": {
            "gridcolor": "white",
            "linecolor": "white",
            "ticks": ""
           },
           "baxis": {
            "gridcolor": "white",
            "linecolor": "white",
            "ticks": ""
           },
           "bgcolor": "#E5ECF6",
           "caxis": {
            "gridcolor": "white",
            "linecolor": "white",
            "ticks": ""
           }
          },
          "title": {
           "x": 0.05
          },
          "xaxis": {
           "automargin": true,
           "gridcolor": "white",
           "linecolor": "white",
           "ticks": "",
           "title": {
            "standoff": 15
           },
           "zerolinecolor": "white",
           "zerolinewidth": 2
          },
          "yaxis": {
           "automargin": true,
           "gridcolor": "white",
           "linecolor": "white",
           "ticks": "",
           "title": {
            "standoff": 15
           },
           "zerolinecolor": "white",
           "zerolinewidth": 2
          }
         }
        },
        "title": {
         "text": "Forecast vs Actual Daily Maximum Temperatures (±1.0°F margin)<br>Color shows hours before actual high"
        },
        "xaxis": {
         "anchor": "y",
         "domain": [
          0,
          1
         ],
         "title": {
          "text": "high_temp"
         }
        },
        "yaxis": {
         "anchor": "x",
         "domain": [
          0,
          1
         ],
         "title": {
          "text": "forecast_max_temp"
         }
        }
       }
      }
     },
     "metadata": {},
     "output_type": "display_data"
    },
    {
     "data": {
      "application/vnd.plotly.v1+json": {
       "config": {
        "plotlyServerURL": "https://plot.ly"
       },
       "data": [
        {
         "customdata": [
          [
           "2024-12-09T00:00:00-05:00",
           "2024-12-08T23:00:25.697307-05:00",
           0.9928618591666667,
           -3.0799999999999983,
           51.08,
           false
          ],
          [
           "2024-12-09T01:00:00-05:00",
           "2024-12-09T00:00:24.022040-05:00",
           0.9933272111111111,
           -4.079999999999998,
           51.08,
           false
          ],
          [
           "2024-12-09T02:00:00-05:00",
           "2024-12-09T01:00:22.521872-05:00",
           0.9937439244444445,
           -5.079999999999998,
           51.08,
           false
          ],
          [
           "2024-12-09T03:00:00-05:00",
           "2024-12-09T02:00:20.917972-05:00",
           0.9941894522222222,
           -6.079999999999998,
           51.08,
           false
          ],
          [
           "2024-12-09T04:00:00-05:00",
           "2024-12-09T03:00:21.086869-05:00",
           0.9941425363888888,
           -7.079999999999998,
           51.08,
           false
          ],
          [
           "2024-12-09T05:00:00-05:00",
           "2024-12-09T04:00:37.707344-05:00",
           0.9895257377777777,
           -7.079999999999998,
           51.08,
           false
          ],
          [
           "2024-12-09T06:00:00-05:00",
           "2024-12-09T05:00:20.996406-05:00",
           0.994167665,
           -7.079999999999998,
           51.08,
           false
          ],
          [
           "2024-12-09T10:00:00-05:00",
           "2024-12-09T06:00:22.355705-05:00",
           3.9937900819444443,
           -5.079999999999998,
           51.08,
           false
          ],
          [
           "2024-12-09T10:00:00-05:00",
           "2024-12-09T07:00:21.209380-05:00",
           2.9941085055555554,
           -5.079999999999998,
           51.08,
           false
          ],
          [
           "2024-12-09T10:00:00-05:00",
           "2024-12-09T09:00:22.738697-05:00",
           0.9936836952777779,
           -5.079999999999998,
           51.08,
           false
          ]
         ],
         "hovertemplate": "date=%{x}<br>forecast_max_temp=%{y:.2f}<br>forecast_time=%{customdata[0]}<br>forecast_created=%{customdata[1]}<br>hours_ahead=%{marker.color:.1f}<br>error=%{customdata[3]:.2f}<br>high_temp=%{customdata[4]:.2f}<br>is_accurate=%{customdata[5]}<extra></extra>",
         "legendgroup": "",
         "marker": {
          "color": [
           0.9928618591666667,
           0.9933272111111111,
           0.9937439244444445,
           0.9941894522222222,
           0.9941425363888888,
           0.9895257377777777,
           0.994167665,
           3.9937900819444443,
           2.9941085055555554,
           0.9936836952777779
          ],
          "coloraxis": "coloraxis",
          "size": 12,
          "symbol": "circle"
         },
         "mode": "markers",
         "name": "",
         "orientation": "v",
         "showlegend": false,
         "type": "scatter",
         "x": [
          "2024-12-09",
          "2024-12-09",
          "2024-12-09",
          "2024-12-09",
          "2024-12-09",
          "2024-12-09",
          "2024-12-09",
          "2024-12-09",
          "2024-12-09",
          "2024-12-09"
         ],
         "xaxis": "x",
         "y": [
          48,
          47,
          46,
          45,
          44,
          44,
          44,
          46,
          46,
          46
         ],
         "yaxis": "y"
        },
        {
         "line": {
          "color": "black"
         },
         "marker": {
          "size": 12
         },
         "mode": "lines+markers",
         "name": "Actual Daily Max",
         "type": "scatter",
         "x": [
          "2024-12-09"
         ],
         "y": [
          51.08
         ]
        }
       ],
       "layout": {
        "coloraxis": {
         "cmax": 14,
         "cmin": 0,
         "colorbar": {
          "title": {
           "text": "hours_ahead"
          }
         },
         "colorscale": [
          [
           0,
           "rgb(49,54,149)"
          ],
          [
           0.1,
           "rgb(69,117,180)"
          ],
          [
           0.2,
           "rgb(116,173,209)"
          ],
          [
           0.3,
           "rgb(171,217,233)"
          ],
          [
           0.4,
           "rgb(224,243,248)"
          ],
          [
           0.5,
           "rgb(255,255,191)"
          ],
          [
           0.6,
           "rgb(254,224,144)"
          ],
          [
           0.7,
           "rgb(253,174,97)"
          ],
          [
           0.8,
           "rgb(244,109,67)"
          ],
          [
           0.9,
           "rgb(215,48,39)"
          ],
          [
           1,
           "rgb(165,0,38)"
          ]
         ]
        },
        "legend": {
         "tracegroupgap": 0
        },
        "template": {
         "data": {
          "bar": [
           {
            "error_x": {
             "color": "#2a3f5f"
            },
            "error_y": {
             "color": "#2a3f5f"
            },
            "marker": {
             "line": {
              "color": "#E5ECF6",
              "width": 0.5
             },
             "pattern": {
              "fillmode": "overlay",
              "size": 10,
              "solidity": 0.2
             }
            },
            "type": "bar"
           }
          ],
          "barpolar": [
           {
            "marker": {
             "line": {
              "color": "#E5ECF6",
              "width": 0.5
             },
             "pattern": {
              "fillmode": "overlay",
              "size": 10,
              "solidity": 0.2
             }
            },
            "type": "barpolar"
           }
          ],
          "carpet": [
           {
            "aaxis": {
             "endlinecolor": "#2a3f5f",
             "gridcolor": "white",
             "linecolor": "white",
             "minorgridcolor": "white",
             "startlinecolor": "#2a3f5f"
            },
            "baxis": {
             "endlinecolor": "#2a3f5f",
             "gridcolor": "white",
             "linecolor": "white",
             "minorgridcolor": "white",
             "startlinecolor": "#2a3f5f"
            },
            "type": "carpet"
           }
          ],
          "choropleth": [
           {
            "colorbar": {
             "outlinewidth": 0,
             "ticks": ""
            },
            "type": "choropleth"
           }
          ],
          "contour": [
           {
            "colorbar": {
             "outlinewidth": 0,
             "ticks": ""
            },
            "colorscale": [
             [
              0,
              "#0d0887"
             ],
             [
              0.1111111111111111,
              "#46039f"
             ],
             [
              0.2222222222222222,
              "#7201a8"
             ],
             [
              0.3333333333333333,
              "#9c179e"
             ],
             [
              0.4444444444444444,
              "#bd3786"
             ],
             [
              0.5555555555555556,
              "#d8576b"
             ],
             [
              0.6666666666666666,
              "#ed7953"
             ],
             [
              0.7777777777777778,
              "#fb9f3a"
             ],
             [
              0.8888888888888888,
              "#fdca26"
             ],
             [
              1,
              "#f0f921"
             ]
            ],
            "type": "contour"
           }
          ],
          "contourcarpet": [
           {
            "colorbar": {
             "outlinewidth": 0,
             "ticks": ""
            },
            "type": "contourcarpet"
           }
          ],
          "heatmap": [
           {
            "colorbar": {
             "outlinewidth": 0,
             "ticks": ""
            },
            "colorscale": [
             [
              0,
              "#0d0887"
             ],
             [
              0.1111111111111111,
              "#46039f"
             ],
             [
              0.2222222222222222,
              "#7201a8"
             ],
             [
              0.3333333333333333,
              "#9c179e"
             ],
             [
              0.4444444444444444,
              "#bd3786"
             ],
             [
              0.5555555555555556,
              "#d8576b"
             ],
             [
              0.6666666666666666,
              "#ed7953"
             ],
             [
              0.7777777777777778,
              "#fb9f3a"
             ],
             [
              0.8888888888888888,
              "#fdca26"
             ],
             [
              1,
              "#f0f921"
             ]
            ],
            "type": "heatmap"
           }
          ],
          "heatmapgl": [
           {
            "colorbar": {
             "outlinewidth": 0,
             "ticks": ""
            },
            "colorscale": [
             [
              0,
              "#0d0887"
             ],
             [
              0.1111111111111111,
              "#46039f"
             ],
             [
              0.2222222222222222,
              "#7201a8"
             ],
             [
              0.3333333333333333,
              "#9c179e"
             ],
             [
              0.4444444444444444,
              "#bd3786"
             ],
             [
              0.5555555555555556,
              "#d8576b"
             ],
             [
              0.6666666666666666,
              "#ed7953"
             ],
             [
              0.7777777777777778,
              "#fb9f3a"
             ],
             [
              0.8888888888888888,
              "#fdca26"
             ],
             [
              1,
              "#f0f921"
             ]
            ],
            "type": "heatmapgl"
           }
          ],
          "histogram": [
           {
            "marker": {
             "pattern": {
              "fillmode": "overlay",
              "size": 10,
              "solidity": 0.2
             }
            },
            "type": "histogram"
           }
          ],
          "histogram2d": [
           {
            "colorbar": {
             "outlinewidth": 0,
             "ticks": ""
            },
            "colorscale": [
             [
              0,
              "#0d0887"
             ],
             [
              0.1111111111111111,
              "#46039f"
             ],
             [
              0.2222222222222222,
              "#7201a8"
             ],
             [
              0.3333333333333333,
              "#9c179e"
             ],
             [
              0.4444444444444444,
              "#bd3786"
             ],
             [
              0.5555555555555556,
              "#d8576b"
             ],
             [
              0.6666666666666666,
              "#ed7953"
             ],
             [
              0.7777777777777778,
              "#fb9f3a"
             ],
             [
              0.8888888888888888,
              "#fdca26"
             ],
             [
              1,
              "#f0f921"
             ]
            ],
            "type": "histogram2d"
           }
          ],
          "histogram2dcontour": [
           {
            "colorbar": {
             "outlinewidth": 0,
             "ticks": ""
            },
            "colorscale": [
             [
              0,
              "#0d0887"
             ],
             [
              0.1111111111111111,
              "#46039f"
             ],
             [
              0.2222222222222222,
              "#7201a8"
             ],
             [
              0.3333333333333333,
              "#9c179e"
             ],
             [
              0.4444444444444444,
              "#bd3786"
             ],
             [
              0.5555555555555556,
              "#d8576b"
             ],
             [
              0.6666666666666666,
              "#ed7953"
             ],
             [
              0.7777777777777778,
              "#fb9f3a"
             ],
             [
              0.8888888888888888,
              "#fdca26"
             ],
             [
              1,
              "#f0f921"
             ]
            ],
            "type": "histogram2dcontour"
           }
          ],
          "mesh3d": [
           {
            "colorbar": {
             "outlinewidth": 0,
             "ticks": ""
            },
            "type": "mesh3d"
           }
          ],
          "parcoords": [
           {
            "line": {
             "colorbar": {
              "outlinewidth": 0,
              "ticks": ""
             }
            },
            "type": "parcoords"
           }
          ],
          "pie": [
           {
            "automargin": true,
            "type": "pie"
           }
          ],
          "scatter": [
           {
            "fillpattern": {
             "fillmode": "overlay",
             "size": 10,
             "solidity": 0.2
            },
            "type": "scatter"
           }
          ],
          "scatter3d": [
           {
            "line": {
             "colorbar": {
              "outlinewidth": 0,
              "ticks": ""
             }
            },
            "marker": {
             "colorbar": {
              "outlinewidth": 0,
              "ticks": ""
             }
            },
            "type": "scatter3d"
           }
          ],
          "scattercarpet": [
           {
            "marker": {
             "colorbar": {
              "outlinewidth": 0,
              "ticks": ""
             }
            },
            "type": "scattercarpet"
           }
          ],
          "scattergeo": [
           {
            "marker": {
             "colorbar": {
              "outlinewidth": 0,
              "ticks": ""
             }
            },
            "type": "scattergeo"
           }
          ],
          "scattergl": [
           {
            "marker": {
             "colorbar": {
              "outlinewidth": 0,
              "ticks": ""
             }
            },
            "type": "scattergl"
           }
          ],
          "scattermapbox": [
           {
            "marker": {
             "colorbar": {
              "outlinewidth": 0,
              "ticks": ""
             }
            },
            "type": "scattermapbox"
           }
          ],
          "scatterpolar": [
           {
            "marker": {
             "colorbar": {
              "outlinewidth": 0,
              "ticks": ""
             }
            },
            "type": "scatterpolar"
           }
          ],
          "scatterpolargl": [
           {
            "marker": {
             "colorbar": {
              "outlinewidth": 0,
              "ticks": ""
             }
            },
            "type": "scatterpolargl"
           }
          ],
          "scatterternary": [
           {
            "marker": {
             "colorbar": {
              "outlinewidth": 0,
              "ticks": ""
             }
            },
            "type": "scatterternary"
           }
          ],
          "surface": [
           {
            "colorbar": {
             "outlinewidth": 0,
             "ticks": ""
            },
            "colorscale": [
             [
              0,
              "#0d0887"
             ],
             [
              0.1111111111111111,
              "#46039f"
             ],
             [
              0.2222222222222222,
              "#7201a8"
             ],
             [
              0.3333333333333333,
              "#9c179e"
             ],
             [
              0.4444444444444444,
              "#bd3786"
             ],
             [
              0.5555555555555556,
              "#d8576b"
             ],
             [
              0.6666666666666666,
              "#ed7953"
             ],
             [
              0.7777777777777778,
              "#fb9f3a"
             ],
             [
              0.8888888888888888,
              "#fdca26"
             ],
             [
              1,
              "#f0f921"
             ]
            ],
            "type": "surface"
           }
          ],
          "table": [
           {
            "cells": {
             "fill": {
              "color": "#EBF0F8"
             },
             "line": {
              "color": "white"
             }
            },
            "header": {
             "fill": {
              "color": "#C8D4E3"
             },
             "line": {
              "color": "white"
             }
            },
            "type": "table"
           }
          ]
         },
         "layout": {
          "annotationdefaults": {
           "arrowcolor": "#2a3f5f",
           "arrowhead": 0,
           "arrowwidth": 1
          },
          "autotypenumbers": "strict",
          "coloraxis": {
           "colorbar": {
            "outlinewidth": 0,
            "ticks": ""
           }
          },
          "colorscale": {
           "diverging": [
            [
             0,
             "#8e0152"
            ],
            [
             0.1,
             "#c51b7d"
            ],
            [
             0.2,
             "#de77ae"
            ],
            [
             0.3,
             "#f1b6da"
            ],
            [
             0.4,
             "#fde0ef"
            ],
            [
             0.5,
             "#f7f7f7"
            ],
            [
             0.6,
             "#e6f5d0"
            ],
            [
             0.7,
             "#b8e186"
            ],
            [
             0.8,
             "#7fbc41"
            ],
            [
             0.9,
             "#4d9221"
            ],
            [
             1,
             "#276419"
            ]
           ],
           "sequential": [
            [
             0,
             "#0d0887"
            ],
            [
             0.1111111111111111,
             "#46039f"
            ],
            [
             0.2222222222222222,
             "#7201a8"
            ],
            [
             0.3333333333333333,
             "#9c179e"
            ],
            [
             0.4444444444444444,
             "#bd3786"
            ],
            [
             0.5555555555555556,
             "#d8576b"
            ],
            [
             0.6666666666666666,
             "#ed7953"
            ],
            [
             0.7777777777777778,
             "#fb9f3a"
            ],
            [
             0.8888888888888888,
             "#fdca26"
            ],
            [
             1,
             "#f0f921"
            ]
           ],
           "sequentialminus": [
            [
             0,
             "#0d0887"
            ],
            [
             0.1111111111111111,
             "#46039f"
            ],
            [
             0.2222222222222222,
             "#7201a8"
            ],
            [
             0.3333333333333333,
             "#9c179e"
            ],
            [
             0.4444444444444444,
             "#bd3786"
            ],
            [
             0.5555555555555556,
             "#d8576b"
            ],
            [
             0.6666666666666666,
             "#ed7953"
            ],
            [
             0.7777777777777778,
             "#fb9f3a"
            ],
            [
             0.8888888888888888,
             "#fdca26"
            ],
            [
             1,
             "#f0f921"
            ]
           ]
          },
          "colorway": [
           "#636efa",
           "#EF553B",
           "#00cc96",
           "#ab63fa",
           "#FFA15A",
           "#19d3f3",
           "#FF6692",
           "#B6E880",
           "#FF97FF",
           "#FECB52"
          ],
          "font": {
           "color": "#2a3f5f"
          },
          "geo": {
           "bgcolor": "white",
           "lakecolor": "white",
           "landcolor": "#E5ECF6",
           "showlakes": true,
           "showland": true,
           "subunitcolor": "white"
          },
          "hoverlabel": {
           "align": "left"
          },
          "hovermode": "closest",
          "mapbox": {
           "style": "light"
          },
          "paper_bgcolor": "white",
          "plot_bgcolor": "#E5ECF6",
          "polar": {
           "angularaxis": {
            "gridcolor": "white",
            "linecolor": "white",
            "ticks": ""
           },
           "bgcolor": "#E5ECF6",
           "radialaxis": {
            "gridcolor": "white",
            "linecolor": "white",
            "ticks": ""
           }
          },
          "scene": {
           "xaxis": {
            "backgroundcolor": "#E5ECF6",
            "gridcolor": "white",
            "gridwidth": 2,
            "linecolor": "white",
            "showbackground": true,
            "ticks": "",
            "zerolinecolor": "white"
           },
           "yaxis": {
            "backgroundcolor": "#E5ECF6",
            "gridcolor": "white",
            "gridwidth": 2,
            "linecolor": "white",
            "showbackground": true,
            "ticks": "",
            "zerolinecolor": "white"
           },
           "zaxis": {
            "backgroundcolor": "#E5ECF6",
            "gridcolor": "white",
            "gridwidth": 2,
            "linecolor": "white",
            "showbackground": true,
            "ticks": "",
            "zerolinecolor": "white"
           }
          },
          "shapedefaults": {
           "line": {
            "color": "#2a3f5f"
           }
          },
          "ternary": {
           "aaxis": {
            "gridcolor": "white",
            "linecolor": "white",
            "ticks": ""
           },
           "baxis": {
            "gridcolor": "white",
            "linecolor": "white",
            "ticks": ""
           },
           "bgcolor": "#E5ECF6",
           "caxis": {
            "gridcolor": "white",
            "linecolor": "white",
            "ticks": ""
           }
          },
          "title": {
           "x": 0.05
          },
          "xaxis": {
           "automargin": true,
           "gridcolor": "white",
           "linecolor": "white",
           "ticks": "",
           "title": {
            "standoff": 15
           },
           "zerolinecolor": "white",
           "zerolinewidth": 2
          },
          "yaxis": {
           "automargin": true,
           "gridcolor": "white",
           "linecolor": "white",
           "ticks": "",
           "title": {
            "standoff": 15
           },
           "zerolinecolor": "white",
           "zerolinewidth": 2
          }
         }
        },
        "title": {
         "text": "Daily Maximum Temperature Forecasts Over Time<br>Color shows hours before actual high"
        },
        "xaxis": {
         "anchor": "y",
         "domain": [
          0,
          1
         ],
         "dtick": "D1",
         "tickangle": 45,
         "tickformat": "%Y-%m-%d",
         "title": {
          "text": "date"
         }
        },
        "yaxis": {
         "anchor": "x",
         "domain": [
          0,
          1
         ],
         "title": {
          "text": "forecast_max_temp"
         }
        }
       }
      }
     },
     "metadata": {},
     "output_type": "display_data"
    }
   ],
   "source": [
    "import numpy as np\n",
    "import plotly.express as px\n",
    "import plotly.graph_objects as go\n",
    "\n",
    "def analyze_max_temp_forecast_accuracy(df_forecasts, df_observations, temp_margin=1.0):\n",
    "    \"\"\"\n",
    "    For each daily high:\n",
    "    1. Look at forecast groups made within 12 hours before the high\n",
    "    2. For each group, find the maximum temperature forecast that's:\n",
    "       - Predicting a time before the high (but within 12 hours)\n",
    "       - Not predicting after the high's time\n",
    "    \"\"\"\n",
    "    daily_maxes = []\n",
    "    df_observations['date'] = df_observations['observed_time'].dt.date\n",
    "    \n",
    "    # First find daily highs\n",
    "    for date, day_obs in df_observations.groupby('date'):\n",
    "        # Get max temp and its exact time for this day\n",
    "        max_temp = day_obs['temperature'].max()\n",
    "        max_temp_obs = day_obs[day_obs['temperature'] == max_temp].iloc[-1]  # Take latest if multiple\n",
    "        high_time = max_temp_obs['observed_time']\n",
    "        \n",
    "        # Look at forecasts created within 12 hours before the high\n",
    "        forecast_window_start = high_time - timedelta(hours=12)\n",
    "        \n",
    "        # Group forecasts by their creation time\n",
    "        for created_at, group in df_forecasts[\n",
    "            (df_forecasts['created_at'] >= forecast_window_start) &\n",
    "            (df_forecasts['created_at'] <= high_time)\n",
    "        ].groupby('created_at'):\n",
    "            \n",
    "            # Filter for valid forecast times and get the max temperature\n",
    "            valid_forecasts = group[\n",
    "                (group['forecast_time'] <= high_time) &\n",
    "                (group['forecast_time'] >= high_time - timedelta(hours=12))\n",
    "            ]\n",
    "            \n",
    "            if not valid_forecasts.empty:\n",
    "                # Get the maximum temperature forecast from this group\n",
    "                max_forecast = valid_forecasts.loc[valid_forecasts['temperature'].idxmax()]\n",
    "                error = max_forecast['temperature'] - max_temp\n",
    "                is_accurate = abs(error) <= temp_margin\n",
    "                hours_before_high = (high_time - max_forecast['forecast_time']).total_seconds() / 3600\n",
    "                \n",
    "                daily_maxes.append({\n",
    "                    'date': date,\n",
    "                    'high_temp': max_temp,\n",
    "                    'high_temp_time': high_time,\n",
    "                    'forecast_max_temp': max_forecast['temperature'],\n",
    "                    'forecast_time': max_forecast['forecast_time'],\n",
    "                    'forecast_created': created_at,\n",
    "                    'hours_before_high': hours_before_high,  # How far before the high this forecast was for\n",
    "                    'hours_ahead': (max_forecast['forecast_time'] - created_at).total_seconds() / 3600,  # Lead time\n",
    "                    'error': error,\n",
    "                    'error_magnitude': abs(error),\n",
    "                    'is_accurate': is_accurate\n",
    "                })\n",
    "    \n",
    "    df_analysis = pd.DataFrame(daily_maxes)\n",
    "    \n",
    "        # ... (previous code remains the same until after df_analysis creation) ...\n",
    "    \n",
    "    if df_analysis.empty:\n",
    "        print(\"No matching data found for analysis\")\n",
    "        return None\n",
    "    \n",
    "    # Print summary for each day (only once)\n",
    "    print(\"\\nDaily Maximum Temperature Analysis:\")\n",
    "    print(\"===================================\")\n",
    "    \n",
    "    for date, day_data in df_analysis.groupby('date'):\n",
    "        high_temp = day_data['high_temp'].iloc[0]\n",
    "        high_time = day_data['high_temp_time'].iloc[0]\n",
    "        accurate_forecasts = day_data[day_data['is_accurate']]\n",
    "        \n",
    "        print(f\"\\nDate: {date}\")\n",
    "        print(f\"Daily High: {high_temp:.2f}°F at {high_time.strftime('%I:%M %p EST')}\")\n",
    "        print(f\"Number of forecast groups: {len(day_data)}\")\n",
    "        print(f\"Accurate max forecasts (±{temp_margin}°F): {len(accurate_forecasts)}\")\n",
    "        \n",
    "        if len(accurate_forecasts) > 0:\n",
    "            print(\"\\nAccurate Forecasts:\")\n",
    "            for _, forecast in accurate_forecasts.iterrows():\n",
    "                print(f\"  Created: {forecast['forecast_created'].strftime('%Y-%m-%d %I:%M %p EST')}\")\n",
    "                print(f\"  Predicted: {forecast['forecast_max_temp']:.2f}°F\")\n",
    "                print(f\"  Hours ahead: {forecast['hours_ahead']:.1f}\")\n",
    "                print(f\"  Error: {forecast['error']:.2f}°F\")\n",
    "                print(\"  ---\")\n",
    "    \n",
    "    # 1. Scatter plot of all forecasts vs actual highs\n",
    "    fig1 = px.scatter(df_analysis,\n",
    "                     x='high_temp',\n",
    "                     y='forecast_max_temp',\n",
    "                     color='hours_ahead',\n",
    "                     color_continuous_scale='RdYlBu_r',\n",
    "                     range_color=[0, 14],\n",
    "                     hover_data={\n",
    "                         'date': True,\n",
    "                         'high_temp_time': True,\n",
    "                         'forecast_created': True,\n",
    "                         'hours_ahead': ':.1f',\n",
    "                         'error': ':.2f',\n",
    "                         'high_temp': ':.2f',\n",
    "                         'forecast_max_temp': ':.2f',\n",
    "                         'is_accurate': True\n",
    "                     },\n",
    "                     title=f'Forecast vs Actual Daily Maximum Temperatures (±{temp_margin}°F margin)<br>Color shows hours before actual high')\n",
    "    \n",
    "    # Make points bigger\n",
    "    fig1.update_traces(marker=dict(size=12))\n",
    "    \n",
    "    # Add perfect forecast line and margin bands\n",
    "    temp_range = np.linspace(\n",
    "        df_analysis['high_temp'].min() - 5,\n",
    "        df_analysis['high_temp'].max() + 5,\n",
    "        100\n",
    "    )\n",
    "    \n",
    "    fig1.add_trace(go.Scatter(\n",
    "        x=temp_range,\n",
    "        y=temp_range,\n",
    "        mode='lines',\n",
    "        name='Perfect Forecast',\n",
    "        line=dict(color='black', dash='dash')\n",
    "    ))\n",
    "    \n",
    "    fig1.add_trace(go.Scatter(\n",
    "        x=temp_range,\n",
    "        y=temp_range + temp_margin,\n",
    "        mode='lines',\n",
    "        name=f'+{temp_margin}°F Margin',\n",
    "        line=dict(color='gray', dash='dot')\n",
    "    ))\n",
    "    \n",
    "    fig1.add_trace(go.Scatter(\n",
    "        x=temp_range,\n",
    "        y=temp_range - temp_margin,\n",
    "        mode='lines',\n",
    "        name=f'-{temp_margin}°F Margin',\n",
    "        line=dict(color='gray', dash='dot')\n",
    "    ))\n",
    "    \n",
    "    fig1.show()\n",
    "    \n",
    "    # 2. Time series with color showing lead time\n",
    "    fig2 = px.scatter(df_analysis,\n",
    "                     x='date',\n",
    "                     y='forecast_max_temp',  # Changed from forecast_temp\n",
    "                     color='hours_ahead',\n",
    "                     color_continuous_scale='RdYlBu_r',\n",
    "                     range_color=[0, 14],\n",
    "                     hover_data={\n",
    "                         'forecast_time': True,\n",
    "                         'forecast_created': True,\n",
    "                         'hours_ahead': ':.1f',\n",
    "                         'error': ':.2f',\n",
    "                         'high_temp': ':.2f',\n",
    "                         'forecast_max_temp': ':.2f',\n",
    "                         'is_accurate': True\n",
    "                     },\n",
    "                     title='Daily Maximum Temperature Forecasts Over Time<br>Color shows hours before actual high')\n",
    "    \n",
    "    # Make points bigger\n",
    "    fig2.update_traces(marker=dict(size=12))\n",
    "    \n",
    "    # Add actual max temperatures line\n",
    "    daily_highs = df_analysis.groupby('date')['high_temp'].first().reset_index()\n",
    "    fig2.add_trace(go.Scatter(\n",
    "        x=daily_highs['date'],\n",
    "        y=daily_highs['high_temp'],\n",
    "        mode='lines+markers',\n",
    "        name='Actual Daily Max',\n",
    "        line=dict(color='black'),\n",
    "        marker=dict(size=12)\n",
    "    ))\n",
    "    \n",
    "    # Update x-axis to show only dates\n",
    "    fig2.update_xaxes(\n",
    "        tickformat=\"%Y-%m-%d\",\n",
    "        dtick=\"D1\",  # Show tick for each day\n",
    "        tickangle=45  # Angle the dates for better readability\n",
    "    )\n",
    "    \n",
    "    fig2.show()\n",
    "    return df_analysis\n",
    "\n",
    "# Run the analysis\n",
    "df_max_analysis = analyze_max_temp_forecast_accuracy(df_forecasts, df_observations, temp_margin=1.0)"
   ]
  },
  {
   "cell_type": "code",
   "execution_count": 29,
   "metadata": {},
   "outputs": [
    {
     "name": "stdout",
     "output_type": "stream",
     "text": [
      "\n",
      "Daily Maximum Temperature Analysis:\n",
      "===================================\n",
      "\n",
      "Date: 2024-12-09\n",
      "Daily High: 51.08°F at 10:00 AM\n",
      "Number of forecast groups: 11\n",
      "Accurate max forecasts (±1.0°F): 0\n"
     ]
    },
    {
     "data": {
      "application/vnd.plotly.v1+json": {
       "config": {
        "plotlyServerURL": "https://plot.ly"
       },
       "data": [
        {
         "customdata": [
          [
           "2024-12-09",
           "2024-12-08T23:00:00-05:00",
           24,
           11,
           -1.0799999999999983,
           false
          ],
          [
           "2024-12-09",
           "2024-12-09T00:00:00-05:00",
           23,
           10,
           -1.0799999999999983,
           false
          ],
          [
           "2024-12-09",
           "2024-12-09T01:00:00-05:00",
           22,
           9,
           -1.0799999999999983,
           false
          ],
          [
           "2024-12-09",
           "2024-12-09T02:00:00-05:00",
           21,
           8,
           -1.0799999999999983,
           false
          ],
          [
           "2024-12-09",
           "2024-12-09T03:00:00-05:00",
           20,
           7,
           -1.0799999999999983,
           false
          ],
          [
           "2024-12-09",
           "2024-12-09T04:00:00-05:00",
           19,
           6,
           -1.0799999999999983,
           false
          ],
          [
           "2024-12-09",
           "2024-12-09T05:00:00-05:00",
           18,
           5,
           -1.0799999999999983,
           false
          ],
          [
           "2024-12-09",
           "2024-12-09T06:00:00-05:00",
           17,
           4,
           -1.0799999999999983,
           false
          ],
          [
           "2024-12-09",
           "2024-12-09T07:00:00-05:00",
           16,
           3,
           -1.0799999999999983,
           false
          ],
          [
           "2024-12-09",
           "2024-12-09T09:00:00-05:00",
           14,
           1,
           -1.0799999999999983,
           false
          ],
          [
           "2024-12-09",
           "2024-12-09T10:00:00-05:00",
           13,
           0,
           -1.0799999999999983,
           false
          ]
         ],
         "hovertemplate": "Date: %{customdata[0]}<br>Created: %{customdata[1]}<br>Forecasts in hour: %{customdata[2]}<br>Hours until high: %{customdata[3]:.1f}<br>Error: %{customdata[4]:.2f}°F<br>High Temp: %{x:.2f}°F<br>Forecast Max: %{y:.2f}°F<br>Accurate: %{customdata[5]}<extra></extra>",
         "legendgroup": "",
         "marker": {
          "color": [
           11,
           10,
           9,
           8,
           7,
           6,
           5,
           4,
           3,
           1,
           0
          ],
          "coloraxis": "coloraxis",
          "size": [
           11,
           10,
           9,
           8,
           7,
           6,
           5,
           4,
           3,
           1,
           0
          ],
          "sizemode": "area",
          "sizeref": 0.0019555555555555554,
          "symbol": "circle"
         },
         "mode": "markers",
         "name": "",
         "orientation": "v",
         "showlegend": false,
         "type": "scatter",
         "x": [
          51.08,
          51.08,
          51.08,
          51.08,
          51.08,
          51.08,
          51.08,
          51.08,
          51.08,
          51.08,
          51.08
         ],
         "xaxis": "x",
         "y": [
          50,
          50,
          50,
          50,
          50,
          50,
          50,
          50,
          50,
          50,
          50
         ],
         "yaxis": "y"
        },
        {
         "line": {
          "color": "black",
          "dash": "dash"
         },
         "mode": "lines",
         "name": "Perfect Forecast",
         "type": "scatter",
         "x": [
          46.08,
          46.1810101010101,
          46.2820202020202,
          46.3830303030303,
          46.4840404040404,
          46.5850505050505,
          46.68606060606061,
          46.787070707070704,
          46.88808080808081,
          46.989090909090905,
          47.09010101010101,
          47.19111111111111,
          47.29212121212121,
          47.39313131313131,
          47.49414141414141,
          47.595151515151514,
          47.69616161616162,
          47.797171717171715,
          47.89818181818182,
          47.999191919191915,
          48.10020202020202,
          48.20121212121212,
          48.30222222222222,
          48.403232323232324,
          48.50424242424242,
          48.605252525252524,
          48.70626262626263,
          48.807272727272725,
          48.90828282828283,
          49.009292929292926,
          49.11030303030303,
          49.211313131313126,
          49.31232323232323,
          49.413333333333334,
          49.51434343434343,
          49.615353535353535,
          49.71636363636363,
          49.817373737373735,
          49.91838383838384,
          50.019393939393936,
          50.12040404040404,
          50.22141414141414,
          50.32242424242424,
          50.423434343434344,
          50.52444444444444,
          50.625454545454545,
          50.72646464646464,
          50.827474747474746,
          50.92848484848485,
          51.029494949494946,
          51.13050505050505,
          51.23151515151515,
          51.33252525252525,
          51.433535353535355,
          51.53454545454545,
          51.635555555555555,
          51.73656565656565,
          51.837575757575756,
          51.93858585858585,
          52.03959595959596,
          52.14060606060606,
          52.24161616161616,
          52.34262626262626,
          52.44363636363636,
          52.54464646464646,
          52.645656565656566,
          52.74666666666666,
          52.84767676767677,
          52.94868686868686,
          53.04969696969697,
          53.15070707070707,
          53.25171717171717,
          53.35272727272727,
          53.45373737373737,
          53.55474747474747,
          53.655757575757576,
          53.75676767676767,
          53.85777777777778,
          53.958787878787874,
          54.05979797979798,
          54.16080808080808,
          54.26181818181818,
          54.36282828282828,
          54.46383838383838,
          54.56484848484848,
          54.66585858585859,
          54.76686868686868,
          54.86787878787879,
          54.968888888888884,
          55.06989898989899,
          55.17090909090909,
          55.27191919191919,
          55.37292929292929,
          55.47393939393939,
          55.57494949494949,
          55.6759595959596,
          55.776969696969694,
          55.8779797979798,
          55.978989898989894,
          56.08
         ],
         "y": [
          46.08,
          46.1810101010101,
          46.2820202020202,
          46.3830303030303,
          46.4840404040404,
          46.5850505050505,
          46.68606060606061,
          46.787070707070704,
          46.88808080808081,
          46.989090909090905,
          47.09010101010101,
          47.19111111111111,
          47.29212121212121,
          47.39313131313131,
          47.49414141414141,
          47.595151515151514,
          47.69616161616162,
          47.797171717171715,
          47.89818181818182,
          47.999191919191915,
          48.10020202020202,
          48.20121212121212,
          48.30222222222222,
          48.403232323232324,
          48.50424242424242,
          48.605252525252524,
          48.70626262626263,
          48.807272727272725,
          48.90828282828283,
          49.009292929292926,
          49.11030303030303,
          49.211313131313126,
          49.31232323232323,
          49.413333333333334,
          49.51434343434343,
          49.615353535353535,
          49.71636363636363,
          49.817373737373735,
          49.91838383838384,
          50.019393939393936,
          50.12040404040404,
          50.22141414141414,
          50.32242424242424,
          50.423434343434344,
          50.52444444444444,
          50.625454545454545,
          50.72646464646464,
          50.827474747474746,
          50.92848484848485,
          51.029494949494946,
          51.13050505050505,
          51.23151515151515,
          51.33252525252525,
          51.433535353535355,
          51.53454545454545,
          51.635555555555555,
          51.73656565656565,
          51.837575757575756,
          51.93858585858585,
          52.03959595959596,
          52.14060606060606,
          52.24161616161616,
          52.34262626262626,
          52.44363636363636,
          52.54464646464646,
          52.645656565656566,
          52.74666666666666,
          52.84767676767677,
          52.94868686868686,
          53.04969696969697,
          53.15070707070707,
          53.25171717171717,
          53.35272727272727,
          53.45373737373737,
          53.55474747474747,
          53.655757575757576,
          53.75676767676767,
          53.85777777777778,
          53.958787878787874,
          54.05979797979798,
          54.16080808080808,
          54.26181818181818,
          54.36282828282828,
          54.46383838383838,
          54.56484848484848,
          54.66585858585859,
          54.76686868686868,
          54.86787878787879,
          54.968888888888884,
          55.06989898989899,
          55.17090909090909,
          55.27191919191919,
          55.37292929292929,
          55.47393939393939,
          55.57494949494949,
          55.6759595959596,
          55.776969696969694,
          55.8779797979798,
          55.978989898989894,
          56.08
         ]
        },
        {
         "line": {
          "color": "gray",
          "dash": "dot"
         },
         "mode": "lines",
         "name": "+1.0°F Margin",
         "type": "scatter",
         "x": [
          46.08,
          46.1810101010101,
          46.2820202020202,
          46.3830303030303,
          46.4840404040404,
          46.5850505050505,
          46.68606060606061,
          46.787070707070704,
          46.88808080808081,
          46.989090909090905,
          47.09010101010101,
          47.19111111111111,
          47.29212121212121,
          47.39313131313131,
          47.49414141414141,
          47.595151515151514,
          47.69616161616162,
          47.797171717171715,
          47.89818181818182,
          47.999191919191915,
          48.10020202020202,
          48.20121212121212,
          48.30222222222222,
          48.403232323232324,
          48.50424242424242,
          48.605252525252524,
          48.70626262626263,
          48.807272727272725,
          48.90828282828283,
          49.009292929292926,
          49.11030303030303,
          49.211313131313126,
          49.31232323232323,
          49.413333333333334,
          49.51434343434343,
          49.615353535353535,
          49.71636363636363,
          49.817373737373735,
          49.91838383838384,
          50.019393939393936,
          50.12040404040404,
          50.22141414141414,
          50.32242424242424,
          50.423434343434344,
          50.52444444444444,
          50.625454545454545,
          50.72646464646464,
          50.827474747474746,
          50.92848484848485,
          51.029494949494946,
          51.13050505050505,
          51.23151515151515,
          51.33252525252525,
          51.433535353535355,
          51.53454545454545,
          51.635555555555555,
          51.73656565656565,
          51.837575757575756,
          51.93858585858585,
          52.03959595959596,
          52.14060606060606,
          52.24161616161616,
          52.34262626262626,
          52.44363636363636,
          52.54464646464646,
          52.645656565656566,
          52.74666666666666,
          52.84767676767677,
          52.94868686868686,
          53.04969696969697,
          53.15070707070707,
          53.25171717171717,
          53.35272727272727,
          53.45373737373737,
          53.55474747474747,
          53.655757575757576,
          53.75676767676767,
          53.85777777777778,
          53.958787878787874,
          54.05979797979798,
          54.16080808080808,
          54.26181818181818,
          54.36282828282828,
          54.46383838383838,
          54.56484848484848,
          54.66585858585859,
          54.76686868686868,
          54.86787878787879,
          54.968888888888884,
          55.06989898989899,
          55.17090909090909,
          55.27191919191919,
          55.37292929292929,
          55.47393939393939,
          55.57494949494949,
          55.6759595959596,
          55.776969696969694,
          55.8779797979798,
          55.978989898989894,
          56.08
         ],
         "y": [
          47.08,
          47.1810101010101,
          47.2820202020202,
          47.3830303030303,
          47.4840404040404,
          47.5850505050505,
          47.68606060606061,
          47.787070707070704,
          47.88808080808081,
          47.989090909090905,
          48.09010101010101,
          48.19111111111111,
          48.29212121212121,
          48.39313131313131,
          48.49414141414141,
          48.595151515151514,
          48.69616161616162,
          48.797171717171715,
          48.89818181818182,
          48.999191919191915,
          49.10020202020202,
          49.20121212121212,
          49.30222222222222,
          49.403232323232324,
          49.50424242424242,
          49.605252525252524,
          49.70626262626263,
          49.807272727272725,
          49.90828282828283,
          50.009292929292926,
          50.11030303030303,
          50.211313131313126,
          50.31232323232323,
          50.413333333333334,
          50.51434343434343,
          50.615353535353535,
          50.71636363636363,
          50.817373737373735,
          50.91838383838384,
          51.019393939393936,
          51.12040404040404,
          51.22141414141414,
          51.32242424242424,
          51.423434343434344,
          51.52444444444444,
          51.625454545454545,
          51.72646464646464,
          51.827474747474746,
          51.92848484848485,
          52.029494949494946,
          52.13050505050505,
          52.23151515151515,
          52.33252525252525,
          52.433535353535355,
          52.53454545454545,
          52.635555555555555,
          52.73656565656565,
          52.837575757575756,
          52.93858585858585,
          53.03959595959596,
          53.14060606060606,
          53.24161616161616,
          53.34262626262626,
          53.44363636363636,
          53.54464646464646,
          53.645656565656566,
          53.74666666666666,
          53.84767676767677,
          53.94868686868686,
          54.04969696969697,
          54.15070707070707,
          54.25171717171717,
          54.35272727272727,
          54.45373737373737,
          54.55474747474747,
          54.655757575757576,
          54.75676767676767,
          54.85777777777778,
          54.958787878787874,
          55.05979797979798,
          55.16080808080808,
          55.26181818181818,
          55.36282828282828,
          55.46383838383838,
          55.56484848484848,
          55.66585858585859,
          55.76686868686868,
          55.86787878787879,
          55.968888888888884,
          56.06989898989899,
          56.17090909090909,
          56.27191919191919,
          56.37292929292929,
          56.47393939393939,
          56.57494949494949,
          56.6759595959596,
          56.776969696969694,
          56.8779797979798,
          56.978989898989894,
          57.08
         ]
        },
        {
         "line": {
          "color": "gray",
          "dash": "dot"
         },
         "mode": "lines",
         "name": "-1.0°F Margin",
         "type": "scatter",
         "x": [
          46.08,
          46.1810101010101,
          46.2820202020202,
          46.3830303030303,
          46.4840404040404,
          46.5850505050505,
          46.68606060606061,
          46.787070707070704,
          46.88808080808081,
          46.989090909090905,
          47.09010101010101,
          47.19111111111111,
          47.29212121212121,
          47.39313131313131,
          47.49414141414141,
          47.595151515151514,
          47.69616161616162,
          47.797171717171715,
          47.89818181818182,
          47.999191919191915,
          48.10020202020202,
          48.20121212121212,
          48.30222222222222,
          48.403232323232324,
          48.50424242424242,
          48.605252525252524,
          48.70626262626263,
          48.807272727272725,
          48.90828282828283,
          49.009292929292926,
          49.11030303030303,
          49.211313131313126,
          49.31232323232323,
          49.413333333333334,
          49.51434343434343,
          49.615353535353535,
          49.71636363636363,
          49.817373737373735,
          49.91838383838384,
          50.019393939393936,
          50.12040404040404,
          50.22141414141414,
          50.32242424242424,
          50.423434343434344,
          50.52444444444444,
          50.625454545454545,
          50.72646464646464,
          50.827474747474746,
          50.92848484848485,
          51.029494949494946,
          51.13050505050505,
          51.23151515151515,
          51.33252525252525,
          51.433535353535355,
          51.53454545454545,
          51.635555555555555,
          51.73656565656565,
          51.837575757575756,
          51.93858585858585,
          52.03959595959596,
          52.14060606060606,
          52.24161616161616,
          52.34262626262626,
          52.44363636363636,
          52.54464646464646,
          52.645656565656566,
          52.74666666666666,
          52.84767676767677,
          52.94868686868686,
          53.04969696969697,
          53.15070707070707,
          53.25171717171717,
          53.35272727272727,
          53.45373737373737,
          53.55474747474747,
          53.655757575757576,
          53.75676767676767,
          53.85777777777778,
          53.958787878787874,
          54.05979797979798,
          54.16080808080808,
          54.26181818181818,
          54.36282828282828,
          54.46383838383838,
          54.56484848484848,
          54.66585858585859,
          54.76686868686868,
          54.86787878787879,
          54.968888888888884,
          55.06989898989899,
          55.17090909090909,
          55.27191919191919,
          55.37292929292929,
          55.47393939393939,
          55.57494949494949,
          55.6759595959596,
          55.776969696969694,
          55.8779797979798,
          55.978989898989894,
          56.08
         ],
         "y": [
          45.08,
          45.1810101010101,
          45.2820202020202,
          45.3830303030303,
          45.4840404040404,
          45.5850505050505,
          45.68606060606061,
          45.787070707070704,
          45.88808080808081,
          45.989090909090905,
          46.09010101010101,
          46.19111111111111,
          46.29212121212121,
          46.39313131313131,
          46.49414141414141,
          46.595151515151514,
          46.69616161616162,
          46.797171717171715,
          46.89818181818182,
          46.999191919191915,
          47.10020202020202,
          47.20121212121212,
          47.30222222222222,
          47.403232323232324,
          47.50424242424242,
          47.605252525252524,
          47.70626262626263,
          47.807272727272725,
          47.90828282828283,
          48.009292929292926,
          48.11030303030303,
          48.211313131313126,
          48.31232323232323,
          48.413333333333334,
          48.51434343434343,
          48.615353535353535,
          48.71636363636363,
          48.817373737373735,
          48.91838383838384,
          49.019393939393936,
          49.12040404040404,
          49.22141414141414,
          49.32242424242424,
          49.423434343434344,
          49.52444444444444,
          49.625454545454545,
          49.72646464646464,
          49.827474747474746,
          49.92848484848485,
          50.029494949494946,
          50.13050505050505,
          50.23151515151515,
          50.33252525252525,
          50.433535353535355,
          50.53454545454545,
          50.635555555555555,
          50.73656565656565,
          50.837575757575756,
          50.93858585858585,
          51.03959595959596,
          51.14060606060606,
          51.24161616161616,
          51.34262626262626,
          51.44363636363636,
          51.54464646464646,
          51.645656565656566,
          51.74666666666666,
          51.84767676767677,
          51.94868686868686,
          52.04969696969697,
          52.15070707070707,
          52.25171717171717,
          52.35272727272727,
          52.45373737373737,
          52.55474747474747,
          52.655757575757576,
          52.75676767676767,
          52.85777777777778,
          52.958787878787874,
          53.05979797979798,
          53.16080808080808,
          53.26181818181818,
          53.36282828282828,
          53.46383838383838,
          53.56484848484848,
          53.66585858585859,
          53.76686868686868,
          53.86787878787879,
          53.968888888888884,
          54.06989898989899,
          54.17090909090909,
          54.27191919191919,
          54.37292929292929,
          54.47393939393939,
          54.57494949494949,
          54.6759595959596,
          54.776969696969694,
          54.8779797979798,
          54.978989898989894,
          55.08
         ]
        }
       ],
       "layout": {
        "coloraxis": {
         "cmax": 12,
         "cmin": 0,
         "colorbar": {
          "title": {
           "text": "hours_until_high"
          }
         },
         "colorscale": [
          [
           0,
           "rgb(49,54,149)"
          ],
          [
           0.1,
           "rgb(69,117,180)"
          ],
          [
           0.2,
           "rgb(116,173,209)"
          ],
          [
           0.3,
           "rgb(171,217,233)"
          ],
          [
           0.4,
           "rgb(224,243,248)"
          ],
          [
           0.5,
           "rgb(255,255,191)"
          ],
          [
           0.6,
           "rgb(254,224,144)"
          ],
          [
           0.7,
           "rgb(253,174,97)"
          ],
          [
           0.8,
           "rgb(244,109,67)"
          ],
          [
           0.9,
           "rgb(215,48,39)"
          ],
          [
           1,
           "rgb(165,0,38)"
          ]
         ]
        },
        "legend": {
         "itemsizing": "constant",
         "tracegroupgap": 0
        },
        "template": {
         "data": {
          "bar": [
           {
            "error_x": {
             "color": "#2a3f5f"
            },
            "error_y": {
             "color": "#2a3f5f"
            },
            "marker": {
             "line": {
              "color": "#E5ECF6",
              "width": 0.5
             },
             "pattern": {
              "fillmode": "overlay",
              "size": 10,
              "solidity": 0.2
             }
            },
            "type": "bar"
           }
          ],
          "barpolar": [
           {
            "marker": {
             "line": {
              "color": "#E5ECF6",
              "width": 0.5
             },
             "pattern": {
              "fillmode": "overlay",
              "size": 10,
              "solidity": 0.2
             }
            },
            "type": "barpolar"
           }
          ],
          "carpet": [
           {
            "aaxis": {
             "endlinecolor": "#2a3f5f",
             "gridcolor": "white",
             "linecolor": "white",
             "minorgridcolor": "white",
             "startlinecolor": "#2a3f5f"
            },
            "baxis": {
             "endlinecolor": "#2a3f5f",
             "gridcolor": "white",
             "linecolor": "white",
             "minorgridcolor": "white",
             "startlinecolor": "#2a3f5f"
            },
            "type": "carpet"
           }
          ],
          "choropleth": [
           {
            "colorbar": {
             "outlinewidth": 0,
             "ticks": ""
            },
            "type": "choropleth"
           }
          ],
          "contour": [
           {
            "colorbar": {
             "outlinewidth": 0,
             "ticks": ""
            },
            "colorscale": [
             [
              0,
              "#0d0887"
             ],
             [
              0.1111111111111111,
              "#46039f"
             ],
             [
              0.2222222222222222,
              "#7201a8"
             ],
             [
              0.3333333333333333,
              "#9c179e"
             ],
             [
              0.4444444444444444,
              "#bd3786"
             ],
             [
              0.5555555555555556,
              "#d8576b"
             ],
             [
              0.6666666666666666,
              "#ed7953"
             ],
             [
              0.7777777777777778,
              "#fb9f3a"
             ],
             [
              0.8888888888888888,
              "#fdca26"
             ],
             [
              1,
              "#f0f921"
             ]
            ],
            "type": "contour"
           }
          ],
          "contourcarpet": [
           {
            "colorbar": {
             "outlinewidth": 0,
             "ticks": ""
            },
            "type": "contourcarpet"
           }
          ],
          "heatmap": [
           {
            "colorbar": {
             "outlinewidth": 0,
             "ticks": ""
            },
            "colorscale": [
             [
              0,
              "#0d0887"
             ],
             [
              0.1111111111111111,
              "#46039f"
             ],
             [
              0.2222222222222222,
              "#7201a8"
             ],
             [
              0.3333333333333333,
              "#9c179e"
             ],
             [
              0.4444444444444444,
              "#bd3786"
             ],
             [
              0.5555555555555556,
              "#d8576b"
             ],
             [
              0.6666666666666666,
              "#ed7953"
             ],
             [
              0.7777777777777778,
              "#fb9f3a"
             ],
             [
              0.8888888888888888,
              "#fdca26"
             ],
             [
              1,
              "#f0f921"
             ]
            ],
            "type": "heatmap"
           }
          ],
          "heatmapgl": [
           {
            "colorbar": {
             "outlinewidth": 0,
             "ticks": ""
            },
            "colorscale": [
             [
              0,
              "#0d0887"
             ],
             [
              0.1111111111111111,
              "#46039f"
             ],
             [
              0.2222222222222222,
              "#7201a8"
             ],
             [
              0.3333333333333333,
              "#9c179e"
             ],
             [
              0.4444444444444444,
              "#bd3786"
             ],
             [
              0.5555555555555556,
              "#d8576b"
             ],
             [
              0.6666666666666666,
              "#ed7953"
             ],
             [
              0.7777777777777778,
              "#fb9f3a"
             ],
             [
              0.8888888888888888,
              "#fdca26"
             ],
             [
              1,
              "#f0f921"
             ]
            ],
            "type": "heatmapgl"
           }
          ],
          "histogram": [
           {
            "marker": {
             "pattern": {
              "fillmode": "overlay",
              "size": 10,
              "solidity": 0.2
             }
            },
            "type": "histogram"
           }
          ],
          "histogram2d": [
           {
            "colorbar": {
             "outlinewidth": 0,
             "ticks": ""
            },
            "colorscale": [
             [
              0,
              "#0d0887"
             ],
             [
              0.1111111111111111,
              "#46039f"
             ],
             [
              0.2222222222222222,
              "#7201a8"
             ],
             [
              0.3333333333333333,
              "#9c179e"
             ],
             [
              0.4444444444444444,
              "#bd3786"
             ],
             [
              0.5555555555555556,
              "#d8576b"
             ],
             [
              0.6666666666666666,
              "#ed7953"
             ],
             [
              0.7777777777777778,
              "#fb9f3a"
             ],
             [
              0.8888888888888888,
              "#fdca26"
             ],
             [
              1,
              "#f0f921"
             ]
            ],
            "type": "histogram2d"
           }
          ],
          "histogram2dcontour": [
           {
            "colorbar": {
             "outlinewidth": 0,
             "ticks": ""
            },
            "colorscale": [
             [
              0,
              "#0d0887"
             ],
             [
              0.1111111111111111,
              "#46039f"
             ],
             [
              0.2222222222222222,
              "#7201a8"
             ],
             [
              0.3333333333333333,
              "#9c179e"
             ],
             [
              0.4444444444444444,
              "#bd3786"
             ],
             [
              0.5555555555555556,
              "#d8576b"
             ],
             [
              0.6666666666666666,
              "#ed7953"
             ],
             [
              0.7777777777777778,
              "#fb9f3a"
             ],
             [
              0.8888888888888888,
              "#fdca26"
             ],
             [
              1,
              "#f0f921"
             ]
            ],
            "type": "histogram2dcontour"
           }
          ],
          "mesh3d": [
           {
            "colorbar": {
             "outlinewidth": 0,
             "ticks": ""
            },
            "type": "mesh3d"
           }
          ],
          "parcoords": [
           {
            "line": {
             "colorbar": {
              "outlinewidth": 0,
              "ticks": ""
             }
            },
            "type": "parcoords"
           }
          ],
          "pie": [
           {
            "automargin": true,
            "type": "pie"
           }
          ],
          "scatter": [
           {
            "fillpattern": {
             "fillmode": "overlay",
             "size": 10,
             "solidity": 0.2
            },
            "type": "scatter"
           }
          ],
          "scatter3d": [
           {
            "line": {
             "colorbar": {
              "outlinewidth": 0,
              "ticks": ""
             }
            },
            "marker": {
             "colorbar": {
              "outlinewidth": 0,
              "ticks": ""
             }
            },
            "type": "scatter3d"
           }
          ],
          "scattercarpet": [
           {
            "marker": {
             "colorbar": {
              "outlinewidth": 0,
              "ticks": ""
             }
            },
            "type": "scattercarpet"
           }
          ],
          "scattergeo": [
           {
            "marker": {
             "colorbar": {
              "outlinewidth": 0,
              "ticks": ""
             }
            },
            "type": "scattergeo"
           }
          ],
          "scattergl": [
           {
            "marker": {
             "colorbar": {
              "outlinewidth": 0,
              "ticks": ""
             }
            },
            "type": "scattergl"
           }
          ],
          "scattermapbox": [
           {
            "marker": {
             "colorbar": {
              "outlinewidth": 0,
              "ticks": ""
             }
            },
            "type": "scattermapbox"
           }
          ],
          "scatterpolar": [
           {
            "marker": {
             "colorbar": {
              "outlinewidth": 0,
              "ticks": ""
             }
            },
            "type": "scatterpolar"
           }
          ],
          "scatterpolargl": [
           {
            "marker": {
             "colorbar": {
              "outlinewidth": 0,
              "ticks": ""
             }
            },
            "type": "scatterpolargl"
           }
          ],
          "scatterternary": [
           {
            "marker": {
             "colorbar": {
              "outlinewidth": 0,
              "ticks": ""
             }
            },
            "type": "scatterternary"
           }
          ],
          "surface": [
           {
            "colorbar": {
             "outlinewidth": 0,
             "ticks": ""
            },
            "colorscale": [
             [
              0,
              "#0d0887"
             ],
             [
              0.1111111111111111,
              "#46039f"
             ],
             [
              0.2222222222222222,
              "#7201a8"
             ],
             [
              0.3333333333333333,
              "#9c179e"
             ],
             [
              0.4444444444444444,
              "#bd3786"
             ],
             [
              0.5555555555555556,
              "#d8576b"
             ],
             [
              0.6666666666666666,
              "#ed7953"
             ],
             [
              0.7777777777777778,
              "#fb9f3a"
             ],
             [
              0.8888888888888888,
              "#fdca26"
             ],
             [
              1,
              "#f0f921"
             ]
            ],
            "type": "surface"
           }
          ],
          "table": [
           {
            "cells": {
             "fill": {
              "color": "#EBF0F8"
             },
             "line": {
              "color": "white"
             }
            },
            "header": {
             "fill": {
              "color": "#C8D4E3"
             },
             "line": {
              "color": "white"
             }
            },
            "type": "table"
           }
          ]
         },
         "layout": {
          "annotationdefaults": {
           "arrowcolor": "#2a3f5f",
           "arrowhead": 0,
           "arrowwidth": 1
          },
          "autotypenumbers": "strict",
          "coloraxis": {
           "colorbar": {
            "outlinewidth": 0,
            "ticks": ""
           }
          },
          "colorscale": {
           "diverging": [
            [
             0,
             "#8e0152"
            ],
            [
             0.1,
             "#c51b7d"
            ],
            [
             0.2,
             "#de77ae"
            ],
            [
             0.3,
             "#f1b6da"
            ],
            [
             0.4,
             "#fde0ef"
            ],
            [
             0.5,
             "#f7f7f7"
            ],
            [
             0.6,
             "#e6f5d0"
            ],
            [
             0.7,
             "#b8e186"
            ],
            [
             0.8,
             "#7fbc41"
            ],
            [
             0.9,
             "#4d9221"
            ],
            [
             1,
             "#276419"
            ]
           ],
           "sequential": [
            [
             0,
             "#0d0887"
            ],
            [
             0.1111111111111111,
             "#46039f"
            ],
            [
             0.2222222222222222,
             "#7201a8"
            ],
            [
             0.3333333333333333,
             "#9c179e"
            ],
            [
             0.4444444444444444,
             "#bd3786"
            ],
            [
             0.5555555555555556,
             "#d8576b"
            ],
            [
             0.6666666666666666,
             "#ed7953"
            ],
            [
             0.7777777777777778,
             "#fb9f3a"
            ],
            [
             0.8888888888888888,
             "#fdca26"
            ],
            [
             1,
             "#f0f921"
            ]
           ],
           "sequentialminus": [
            [
             0,
             "#0d0887"
            ],
            [
             0.1111111111111111,
             "#46039f"
            ],
            [
             0.2222222222222222,
             "#7201a8"
            ],
            [
             0.3333333333333333,
             "#9c179e"
            ],
            [
             0.4444444444444444,
             "#bd3786"
            ],
            [
             0.5555555555555556,
             "#d8576b"
            ],
            [
             0.6666666666666666,
             "#ed7953"
            ],
            [
             0.7777777777777778,
             "#fb9f3a"
            ],
            [
             0.8888888888888888,
             "#fdca26"
            ],
            [
             1,
             "#f0f921"
            ]
           ]
          },
          "colorway": [
           "#636efa",
           "#EF553B",
           "#00cc96",
           "#ab63fa",
           "#FFA15A",
           "#19d3f3",
           "#FF6692",
           "#B6E880",
           "#FF97FF",
           "#FECB52"
          ],
          "font": {
           "color": "#2a3f5f"
          },
          "geo": {
           "bgcolor": "white",
           "lakecolor": "white",
           "landcolor": "#E5ECF6",
           "showlakes": true,
           "showland": true,
           "subunitcolor": "white"
          },
          "hoverlabel": {
           "align": "left"
          },
          "hovermode": "closest",
          "mapbox": {
           "style": "light"
          },
          "paper_bgcolor": "white",
          "plot_bgcolor": "#E5ECF6",
          "polar": {
           "angularaxis": {
            "gridcolor": "white",
            "linecolor": "white",
            "ticks": ""
           },
           "bgcolor": "#E5ECF6",
           "radialaxis": {
            "gridcolor": "white",
            "linecolor": "white",
            "ticks": ""
           }
          },
          "scene": {
           "xaxis": {
            "backgroundcolor": "#E5ECF6",
            "gridcolor": "white",
            "gridwidth": 2,
            "linecolor": "white",
            "showbackground": true,
            "ticks": "",
            "zerolinecolor": "white"
           },
           "yaxis": {
            "backgroundcolor": "#E5ECF6",
            "gridcolor": "white",
            "gridwidth": 2,
            "linecolor": "white",
            "showbackground": true,
            "ticks": "",
            "zerolinecolor": "white"
           },
           "zaxis": {
            "backgroundcolor": "#E5ECF6",
            "gridcolor": "white",
            "gridwidth": 2,
            "linecolor": "white",
            "showbackground": true,
            "ticks": "",
            "zerolinecolor": "white"
           }
          },
          "shapedefaults": {
           "line": {
            "color": "#2a3f5f"
           }
          },
          "ternary": {
           "aaxis": {
            "gridcolor": "white",
            "linecolor": "white",
            "ticks": ""
           },
           "baxis": {
            "gridcolor": "white",
            "linecolor": "white",
            "ticks": ""
           },
           "bgcolor": "#E5ECF6",
           "caxis": {
            "gridcolor": "white",
            "linecolor": "white",
            "ticks": ""
           }
          },
          "title": {
           "x": 0.05
          },
          "xaxis": {
           "automargin": true,
           "gridcolor": "white",
           "linecolor": "white",
           "ticks": "",
           "title": {
            "standoff": 15
           },
           "zerolinecolor": "white",
           "zerolinewidth": 2
          },
          "yaxis": {
           "automargin": true,
           "gridcolor": "white",
           "linecolor": "white",
           "ticks": "",
           "title": {
            "standoff": 15
           },
           "zerolinecolor": "white",
           "zerolinewidth": 2
          }
         }
        },
        "title": {
         "text": "Maximum Temperature Forecasts vs Actual Daily Highs<br>Size and color show hours until high temperature"
        },
        "xaxis": {
         "anchor": "y",
         "domain": [
          0,
          1
         ],
         "title": {
          "text": "high_temp"
         }
        },
        "yaxis": {
         "anchor": "x",
         "domain": [
          0,
          1
         ],
         "title": {
          "text": "forecast_max_temp"
         }
        }
       }
      }
     },
     "metadata": {},
     "output_type": "display_data"
    },
    {
     "data": {
      "application/vnd.plotly.v1+json": {
       "config": {
        "plotlyServerURL": "https://plot.ly"
       },
       "data": [
        {
         "customdata": [
          [
           "2024-12-08T23:00:00-05:00",
           24,
           11,
           -1.0799999999999983,
           51.08,
           false
          ],
          [
           "2024-12-09T00:00:00-05:00",
           23,
           10,
           -1.0799999999999983,
           51.08,
           false
          ],
          [
           "2024-12-09T01:00:00-05:00",
           22,
           9,
           -1.0799999999999983,
           51.08,
           false
          ],
          [
           "2024-12-09T02:00:00-05:00",
           21,
           8,
           -1.0799999999999983,
           51.08,
           false
          ],
          [
           "2024-12-09T03:00:00-05:00",
           20,
           7,
           -1.0799999999999983,
           51.08,
           false
          ],
          [
           "2024-12-09T04:00:00-05:00",
           19,
           6,
           -1.0799999999999983,
           51.08,
           false
          ],
          [
           "2024-12-09T05:00:00-05:00",
           18,
           5,
           -1.0799999999999983,
           51.08,
           false
          ],
          [
           "2024-12-09T06:00:00-05:00",
           17,
           4,
           -1.0799999999999983,
           51.08,
           false
          ],
          [
           "2024-12-09T07:00:00-05:00",
           16,
           3,
           -1.0799999999999983,
           51.08,
           false
          ],
          [
           "2024-12-09T09:00:00-05:00",
           14,
           1,
           -1.0799999999999983,
           51.08,
           false
          ],
          [
           "2024-12-09T10:00:00-05:00",
           13,
           0,
           -1.0799999999999983,
           51.08,
           false
          ]
         ],
         "hovertemplate": "date=%{x}<br>forecast_max_temp=%{y:.2f}<br>hours_until_high=%{marker.color:.1f}<br>forecast_created=%{customdata[0]}<br>num_forecasts=%{customdata[1]}<br>error=%{customdata[3]:.2f}<br>high_temp=%{customdata[4]:.2f}<br>is_accurate=%{customdata[5]}<extra></extra>",
         "legendgroup": "",
         "marker": {
          "color": [
           11,
           10,
           9,
           8,
           7,
           6,
           5,
           4,
           3,
           1,
           0
          ],
          "coloraxis": "coloraxis",
          "size": [
           11,
           10,
           9,
           8,
           7,
           6,
           5,
           4,
           3,
           1,
           0
          ],
          "sizemode": "area",
          "sizeref": 0.0019555555555555554,
          "symbol": "circle"
         },
         "mode": "markers",
         "name": "",
         "orientation": "v",
         "showlegend": false,
         "type": "scatter",
         "x": [
          "2024-12-09",
          "2024-12-09",
          "2024-12-09",
          "2024-12-09",
          "2024-12-09",
          "2024-12-09",
          "2024-12-09",
          "2024-12-09",
          "2024-12-09",
          "2024-12-09",
          "2024-12-09"
         ],
         "xaxis": "x",
         "y": [
          50,
          50,
          50,
          50,
          50,
          50,
          50,
          50,
          50,
          50,
          50
         ],
         "yaxis": "y"
        },
        {
         "line": {
          "color": "black",
          "dash": "solid"
         },
         "marker": {
          "size": 12
         },
         "mode": "lines+markers",
         "name": "Actual Daily Max",
         "type": "scatter",
         "x": [
          "2024-12-09"
         ],
         "y": [
          51.08
         ]
        },
        {
         "line": {
          "color": "gray",
          "dash": "dot"
         },
         "mode": "lines",
         "name": "+1.0°F Margin",
         "type": "scatter",
         "x": [
          "2024-12-09"
         ],
         "y": [
          52.08
         ]
        },
        {
         "line": {
          "color": "gray",
          "dash": "dot"
         },
         "mode": "lines",
         "name": "-1.0°F Margin",
         "type": "scatter",
         "x": [
          "2024-12-09"
         ],
         "y": [
          50.08
         ]
        }
       ],
       "layout": {
        "coloraxis": {
         "cmax": 12,
         "cmin": 0,
         "colorbar": {
          "title": {
           "text": "hours_until_high"
          }
         },
         "colorscale": [
          [
           0,
           "rgb(49,54,149)"
          ],
          [
           0.1,
           "rgb(69,117,180)"
          ],
          [
           0.2,
           "rgb(116,173,209)"
          ],
          [
           0.3,
           "rgb(171,217,233)"
          ],
          [
           0.4,
           "rgb(224,243,248)"
          ],
          [
           0.5,
           "rgb(255,255,191)"
          ],
          [
           0.6,
           "rgb(254,224,144)"
          ],
          [
           0.7,
           "rgb(253,174,97)"
          ],
          [
           0.8,
           "rgb(244,109,67)"
          ],
          [
           0.9,
           "rgb(215,48,39)"
          ],
          [
           1,
           "rgb(165,0,38)"
          ]
         ]
        },
        "legend": {
         "itemsizing": "constant",
         "tracegroupgap": 0
        },
        "template": {
         "data": {
          "bar": [
           {
            "error_x": {
             "color": "#2a3f5f"
            },
            "error_y": {
             "color": "#2a3f5f"
            },
            "marker": {
             "line": {
              "color": "#E5ECF6",
              "width": 0.5
             },
             "pattern": {
              "fillmode": "overlay",
              "size": 10,
              "solidity": 0.2
             }
            },
            "type": "bar"
           }
          ],
          "barpolar": [
           {
            "marker": {
             "line": {
              "color": "#E5ECF6",
              "width": 0.5
             },
             "pattern": {
              "fillmode": "overlay",
              "size": 10,
              "solidity": 0.2
             }
            },
            "type": "barpolar"
           }
          ],
          "carpet": [
           {
            "aaxis": {
             "endlinecolor": "#2a3f5f",
             "gridcolor": "white",
             "linecolor": "white",
             "minorgridcolor": "white",
             "startlinecolor": "#2a3f5f"
            },
            "baxis": {
             "endlinecolor": "#2a3f5f",
             "gridcolor": "white",
             "linecolor": "white",
             "minorgridcolor": "white",
             "startlinecolor": "#2a3f5f"
            },
            "type": "carpet"
           }
          ],
          "choropleth": [
           {
            "colorbar": {
             "outlinewidth": 0,
             "ticks": ""
            },
            "type": "choropleth"
           }
          ],
          "contour": [
           {
            "colorbar": {
             "outlinewidth": 0,
             "ticks": ""
            },
            "colorscale": [
             [
              0,
              "#0d0887"
             ],
             [
              0.1111111111111111,
              "#46039f"
             ],
             [
              0.2222222222222222,
              "#7201a8"
             ],
             [
              0.3333333333333333,
              "#9c179e"
             ],
             [
              0.4444444444444444,
              "#bd3786"
             ],
             [
              0.5555555555555556,
              "#d8576b"
             ],
             [
              0.6666666666666666,
              "#ed7953"
             ],
             [
              0.7777777777777778,
              "#fb9f3a"
             ],
             [
              0.8888888888888888,
              "#fdca26"
             ],
             [
              1,
              "#f0f921"
             ]
            ],
            "type": "contour"
           }
          ],
          "contourcarpet": [
           {
            "colorbar": {
             "outlinewidth": 0,
             "ticks": ""
            },
            "type": "contourcarpet"
           }
          ],
          "heatmap": [
           {
            "colorbar": {
             "outlinewidth": 0,
             "ticks": ""
            },
            "colorscale": [
             [
              0,
              "#0d0887"
             ],
             [
              0.1111111111111111,
              "#46039f"
             ],
             [
              0.2222222222222222,
              "#7201a8"
             ],
             [
              0.3333333333333333,
              "#9c179e"
             ],
             [
              0.4444444444444444,
              "#bd3786"
             ],
             [
              0.5555555555555556,
              "#d8576b"
             ],
             [
              0.6666666666666666,
              "#ed7953"
             ],
             [
              0.7777777777777778,
              "#fb9f3a"
             ],
             [
              0.8888888888888888,
              "#fdca26"
             ],
             [
              1,
              "#f0f921"
             ]
            ],
            "type": "heatmap"
           }
          ],
          "heatmapgl": [
           {
            "colorbar": {
             "outlinewidth": 0,
             "ticks": ""
            },
            "colorscale": [
             [
              0,
              "#0d0887"
             ],
             [
              0.1111111111111111,
              "#46039f"
             ],
             [
              0.2222222222222222,
              "#7201a8"
             ],
             [
              0.3333333333333333,
              "#9c179e"
             ],
             [
              0.4444444444444444,
              "#bd3786"
             ],
             [
              0.5555555555555556,
              "#d8576b"
             ],
             [
              0.6666666666666666,
              "#ed7953"
             ],
             [
              0.7777777777777778,
              "#fb9f3a"
             ],
             [
              0.8888888888888888,
              "#fdca26"
             ],
             [
              1,
              "#f0f921"
             ]
            ],
            "type": "heatmapgl"
           }
          ],
          "histogram": [
           {
            "marker": {
             "pattern": {
              "fillmode": "overlay",
              "size": 10,
              "solidity": 0.2
             }
            },
            "type": "histogram"
           }
          ],
          "histogram2d": [
           {
            "colorbar": {
             "outlinewidth": 0,
             "ticks": ""
            },
            "colorscale": [
             [
              0,
              "#0d0887"
             ],
             [
              0.1111111111111111,
              "#46039f"
             ],
             [
              0.2222222222222222,
              "#7201a8"
             ],
             [
              0.3333333333333333,
              "#9c179e"
             ],
             [
              0.4444444444444444,
              "#bd3786"
             ],
             [
              0.5555555555555556,
              "#d8576b"
             ],
             [
              0.6666666666666666,
              "#ed7953"
             ],
             [
              0.7777777777777778,
              "#fb9f3a"
             ],
             [
              0.8888888888888888,
              "#fdca26"
             ],
             [
              1,
              "#f0f921"
             ]
            ],
            "type": "histogram2d"
           }
          ],
          "histogram2dcontour": [
           {
            "colorbar": {
             "outlinewidth": 0,
             "ticks": ""
            },
            "colorscale": [
             [
              0,
              "#0d0887"
             ],
             [
              0.1111111111111111,
              "#46039f"
             ],
             [
              0.2222222222222222,
              "#7201a8"
             ],
             [
              0.3333333333333333,
              "#9c179e"
             ],
             [
              0.4444444444444444,
              "#bd3786"
             ],
             [
              0.5555555555555556,
              "#d8576b"
             ],
             [
              0.6666666666666666,
              "#ed7953"
             ],
             [
              0.7777777777777778,
              "#fb9f3a"
             ],
             [
              0.8888888888888888,
              "#fdca26"
             ],
             [
              1,
              "#f0f921"
             ]
            ],
            "type": "histogram2dcontour"
           }
          ],
          "mesh3d": [
           {
            "colorbar": {
             "outlinewidth": 0,
             "ticks": ""
            },
            "type": "mesh3d"
           }
          ],
          "parcoords": [
           {
            "line": {
             "colorbar": {
              "outlinewidth": 0,
              "ticks": ""
             }
            },
            "type": "parcoords"
           }
          ],
          "pie": [
           {
            "automargin": true,
            "type": "pie"
           }
          ],
          "scatter": [
           {
            "fillpattern": {
             "fillmode": "overlay",
             "size": 10,
             "solidity": 0.2
            },
            "type": "scatter"
           }
          ],
          "scatter3d": [
           {
            "line": {
             "colorbar": {
              "outlinewidth": 0,
              "ticks": ""
             }
            },
            "marker": {
             "colorbar": {
              "outlinewidth": 0,
              "ticks": ""
             }
            },
            "type": "scatter3d"
           }
          ],
          "scattercarpet": [
           {
            "marker": {
             "colorbar": {
              "outlinewidth": 0,
              "ticks": ""
             }
            },
            "type": "scattercarpet"
           }
          ],
          "scattergeo": [
           {
            "marker": {
             "colorbar": {
              "outlinewidth": 0,
              "ticks": ""
             }
            },
            "type": "scattergeo"
           }
          ],
          "scattergl": [
           {
            "marker": {
             "colorbar": {
              "outlinewidth": 0,
              "ticks": ""
             }
            },
            "type": "scattergl"
           }
          ],
          "scattermapbox": [
           {
            "marker": {
             "colorbar": {
              "outlinewidth": 0,
              "ticks": ""
             }
            },
            "type": "scattermapbox"
           }
          ],
          "scatterpolar": [
           {
            "marker": {
             "colorbar": {
              "outlinewidth": 0,
              "ticks": ""
             }
            },
            "type": "scatterpolar"
           }
          ],
          "scatterpolargl": [
           {
            "marker": {
             "colorbar": {
              "outlinewidth": 0,
              "ticks": ""
             }
            },
            "type": "scatterpolargl"
           }
          ],
          "scatterternary": [
           {
            "marker": {
             "colorbar": {
              "outlinewidth": 0,
              "ticks": ""
             }
            },
            "type": "scatterternary"
           }
          ],
          "surface": [
           {
            "colorbar": {
             "outlinewidth": 0,
             "ticks": ""
            },
            "colorscale": [
             [
              0,
              "#0d0887"
             ],
             [
              0.1111111111111111,
              "#46039f"
             ],
             [
              0.2222222222222222,
              "#7201a8"
             ],
             [
              0.3333333333333333,
              "#9c179e"
             ],
             [
              0.4444444444444444,
              "#bd3786"
             ],
             [
              0.5555555555555556,
              "#d8576b"
             ],
             [
              0.6666666666666666,
              "#ed7953"
             ],
             [
              0.7777777777777778,
              "#fb9f3a"
             ],
             [
              0.8888888888888888,
              "#fdca26"
             ],
             [
              1,
              "#f0f921"
             ]
            ],
            "type": "surface"
           }
          ],
          "table": [
           {
            "cells": {
             "fill": {
              "color": "#EBF0F8"
             },
             "line": {
              "color": "white"
             }
            },
            "header": {
             "fill": {
              "color": "#C8D4E3"
             },
             "line": {
              "color": "white"
             }
            },
            "type": "table"
           }
          ]
         },
         "layout": {
          "annotationdefaults": {
           "arrowcolor": "#2a3f5f",
           "arrowhead": 0,
           "arrowwidth": 1
          },
          "autotypenumbers": "strict",
          "coloraxis": {
           "colorbar": {
            "outlinewidth": 0,
            "ticks": ""
           }
          },
          "colorscale": {
           "diverging": [
            [
             0,
             "#8e0152"
            ],
            [
             0.1,
             "#c51b7d"
            ],
            [
             0.2,
             "#de77ae"
            ],
            [
             0.3,
             "#f1b6da"
            ],
            [
             0.4,
             "#fde0ef"
            ],
            [
             0.5,
             "#f7f7f7"
            ],
            [
             0.6,
             "#e6f5d0"
            ],
            [
             0.7,
             "#b8e186"
            ],
            [
             0.8,
             "#7fbc41"
            ],
            [
             0.9,
             "#4d9221"
            ],
            [
             1,
             "#276419"
            ]
           ],
           "sequential": [
            [
             0,
             "#0d0887"
            ],
            [
             0.1111111111111111,
             "#46039f"
            ],
            [
             0.2222222222222222,
             "#7201a8"
            ],
            [
             0.3333333333333333,
             "#9c179e"
            ],
            [
             0.4444444444444444,
             "#bd3786"
            ],
            [
             0.5555555555555556,
             "#d8576b"
            ],
            [
             0.6666666666666666,
             "#ed7953"
            ],
            [
             0.7777777777777778,
             "#fb9f3a"
            ],
            [
             0.8888888888888888,
             "#fdca26"
            ],
            [
             1,
             "#f0f921"
            ]
           ],
           "sequentialminus": [
            [
             0,
             "#0d0887"
            ],
            [
             0.1111111111111111,
             "#46039f"
            ],
            [
             0.2222222222222222,
             "#7201a8"
            ],
            [
             0.3333333333333333,
             "#9c179e"
            ],
            [
             0.4444444444444444,
             "#bd3786"
            ],
            [
             0.5555555555555556,
             "#d8576b"
            ],
            [
             0.6666666666666666,
             "#ed7953"
            ],
            [
             0.7777777777777778,
             "#fb9f3a"
            ],
            [
             0.8888888888888888,
             "#fdca26"
            ],
            [
             1,
             "#f0f921"
            ]
           ]
          },
          "colorway": [
           "#636efa",
           "#EF553B",
           "#00cc96",
           "#ab63fa",
           "#FFA15A",
           "#19d3f3",
           "#FF6692",
           "#B6E880",
           "#FF97FF",
           "#FECB52"
          ],
          "font": {
           "color": "#2a3f5f"
          },
          "geo": {
           "bgcolor": "white",
           "lakecolor": "white",
           "landcolor": "#E5ECF6",
           "showlakes": true,
           "showland": true,
           "subunitcolor": "white"
          },
          "hoverlabel": {
           "align": "left"
          },
          "hovermode": "closest",
          "mapbox": {
           "style": "light"
          },
          "paper_bgcolor": "white",
          "plot_bgcolor": "#E5ECF6",
          "polar": {
           "angularaxis": {
            "gridcolor": "white",
            "linecolor": "white",
            "ticks": ""
           },
           "bgcolor": "#E5ECF6",
           "radialaxis": {
            "gridcolor": "white",
            "linecolor": "white",
            "ticks": ""
           }
          },
          "scene": {
           "xaxis": {
            "backgroundcolor": "#E5ECF6",
            "gridcolor": "white",
            "gridwidth": 2,
            "linecolor": "white",
            "showbackground": true,
            "ticks": "",
            "zerolinecolor": "white"
           },
           "yaxis": {
            "backgroundcolor": "#E5ECF6",
            "gridcolor": "white",
            "gridwidth": 2,
            "linecolor": "white",
            "showbackground": true,
            "ticks": "",
            "zerolinecolor": "white"
           },
           "zaxis": {
            "backgroundcolor": "#E5ECF6",
            "gridcolor": "white",
            "gridwidth": 2,
            "linecolor": "white",
            "showbackground": true,
            "ticks": "",
            "zerolinecolor": "white"
           }
          },
          "shapedefaults": {
           "line": {
            "color": "#2a3f5f"
           }
          },
          "ternary": {
           "aaxis": {
            "gridcolor": "white",
            "linecolor": "white",
            "ticks": ""
           },
           "baxis": {
            "gridcolor": "white",
            "linecolor": "white",
            "ticks": ""
           },
           "bgcolor": "#E5ECF6",
           "caxis": {
            "gridcolor": "white",
            "linecolor": "white",
            "ticks": ""
           }
          },
          "title": {
           "x": 0.05
          },
          "xaxis": {
           "automargin": true,
           "gridcolor": "white",
           "linecolor": "white",
           "ticks": "",
           "title": {
            "standoff": 15
           },
           "zerolinecolor": "white",
           "zerolinewidth": 2
          },
          "yaxis": {
           "automargin": true,
           "gridcolor": "white",
           "linecolor": "white",
           "ticks": "",
           "title": {
            "standoff": 15
           },
           "zerolinecolor": "white",
           "zerolinewidth": 2
          }
         }
        },
        "title": {
         "text": "Daily Maximum Temperature Forecasts Over Time<br>Size and color show hours until high temperature"
        },
        "xaxis": {
         "anchor": "y",
         "domain": [
          0,
          1
         ],
         "dtick": "D1",
         "tickangle": 45,
         "tickformat": "%Y-%m-%d",
         "title": {
          "text": "date"
         }
        },
        "yaxis": {
         "anchor": "x",
         "domain": [
          0,
          1
         ],
         "title": {
          "text": "forecast_max_temp"
         }
        }
       }
      }
     },
     "metadata": {},
     "output_type": "display_data"
    }
   ],
   "source": [
    "def analyze_max_temp_forecast_accuracy(df_forecasts, df_observations, temp_margin=1.0, timezone='America/New_York'):\n",
    "    \"\"\"\n",
    "    For each daily high temperature:\n",
    "    1. Look back 12 hours before the high\n",
    "    2. For each hour in that window:\n",
    "        - Get all forecasts created in that hour\n",
    "        - Filter for forecasts predicting temps for the same local day\n",
    "        - Take the maximum forecasted temperature\n",
    "    \"\"\"\n",
    "    # Convert times to local timezone\n",
    "    df_observations = df_observations.copy()\n",
    "    df_forecasts = df_forecasts.copy()\n",
    "    \n",
    "    df_observations['local_time'] = df_observations['observed_time'].dt.tz_convert(timezone)\n",
    "    df_observations['local_date'] = df_observations['local_time'].dt.date\n",
    "    \n",
    "    df_forecasts['local_created'] = df_forecasts['created_at'].dt.tz_convert(timezone)\n",
    "    df_forecasts['local_forecast_time'] = df_forecasts['forecast_time'].dt.tz_convert(timezone)\n",
    "    df_forecasts['local_date'] = df_forecasts['local_forecast_time'].dt.date\n",
    "    \n",
    "    daily_maxes = []\n",
    "    \n",
    "    # Find daily highs in local time\n",
    "    for date, day_obs in df_observations.groupby('local_date'):\n",
    "        max_temp = day_obs['temperature'].max()\n",
    "        max_temp_obs = day_obs[day_obs['temperature'] == max_temp].iloc[-1]\n",
    "        high_local_time = max_temp_obs['local_time']\n",
    "        \n",
    "        # Look back 12 hours before the high\n",
    "        window_start = high_local_time - pd.Timedelta(hours=12)\n",
    "        \n",
    "        # For each hour in that window\n",
    "        current_hour = window_start.replace(minute=0, second=0, microsecond=0)\n",
    "        hour_count = 0\n",
    "        while current_hour <= high_local_time:\n",
    "            hour_forecasts = df_forecasts[\n",
    "                (df_forecasts['local_created'] >= current_hour) &\n",
    "                (df_forecasts['local_created'] < current_hour + pd.Timedelta(minutes=2)) &\n",
    "                (df_forecasts['local_date'] == date)\n",
    "            ]\n",
    "            \n",
    "            if not hour_forecasts.empty:\n",
    "                max_forecast = hour_forecasts.loc[hour_forecasts['temperature'].idxmax()]\n",
    "                error = max_forecast['temperature'] - max_temp\n",
    "                is_accurate = abs(error) <= temp_margin\n",
    "                hours_until_high = (high_local_time - current_hour).total_seconds() / 3600\n",
    "                \n",
    "                daily_maxes.append({\n",
    "                    'date': date,\n",
    "                    'high_temp': max_temp,\n",
    "                    'high_temp_time': high_local_time,\n",
    "                    'forecast_max_temp': max_forecast['temperature'],\n",
    "                    'forecast_time': max_forecast['local_forecast_time'],\n",
    "                    'forecast_created': current_hour,\n",
    "                    'hours_until_high': hours_until_high,\n",
    "                    'num_forecasts': len(hour_forecasts),\n",
    "                    'error': error,\n",
    "                    'error_magnitude': abs(error),\n",
    "                    'is_accurate': is_accurate,\n",
    "                    'hour_number': hour_count\n",
    "                })\n",
    "            hour_count += 1\n",
    "            current_hour += pd.Timedelta(hours=1)\n",
    "    \n",
    "    df_analysis = pd.DataFrame(daily_maxes)\n",
    "    \n",
    "    if df_analysis.empty:\n",
    "        print(\"No matching data found for analysis\")\n",
    "        return None\n",
    "\n",
    "    # Print summary\n",
    "    print(\"\\nDaily Maximum Temperature Analysis:\")\n",
    "    print(\"===================================\")\n",
    "    \n",
    "    for date, day_data in df_analysis.groupby('date'):\n",
    "        high_temp = day_data['high_temp'].iloc[0]\n",
    "        high_time = day_data['high_temp_time'].iloc[0]\n",
    "        accurate_forecasts = day_data[day_data['is_accurate']]\n",
    "        \n",
    "        print(f\"\\nDate: {date}\")\n",
    "        print(f\"Daily High: {high_temp:.2f}°F at {high_time.strftime('%I:%M %p')}\")\n",
    "        print(f\"Number of forecast groups: {len(day_data)}\")\n",
    "        print(f\"Accurate max forecasts (±{temp_margin}°F): {len(accurate_forecasts)}\")\n",
    "        \n",
    "        if len(accurate_forecasts) > 0:\n",
    "            print(\"\\nAccurate Forecasts:\")\n",
    "            for _, forecast in accurate_forecasts.iterrows():\n",
    "                print(f\"  Created: {forecast['forecast_created'].strftime('%I:%M %p')}\")\n",
    "                print(f\"  Predicted: {forecast['forecast_max_temp']:.2f}°F\")\n",
    "                print(f\"  Hours until high: {forecast['hours_until_high']:.1f}\")\n",
    "                print(f\"  Error: {forecast['error']:.2f}°F\")\n",
    "                print(f\"  Number of forecasts: {forecast['num_forecasts']}\")\n",
    "                print(\"  ---\")\n",
    "    \n",
    "    # 1. Scatter plot with fixed hover template\n",
    "    fig1 = px.scatter(df_analysis,\n",
    "                     x='high_temp',\n",
    "                     y='forecast_max_temp',\n",
    "                     size='hours_until_high',\n",
    "                     size_max=75,  # Increased to 125\n",
    "                     color='hours_until_high',\n",
    "                     color_continuous_scale='RdYlBu_r',\n",
    "                     range_color=[0, 12],\n",
    "                     hover_data={\n",
    "                         'date': True,\n",
    "                         'forecast_created': True,\n",
    "                         'num_forecasts': True,\n",
    "                         'hours_until_high': ':.1f',\n",
    "                         'error': ':.2f',\n",
    "                         'high_temp': ':.2f',\n",
    "                         'forecast_max_temp': ':.2f',\n",
    "                         'is_accurate': True\n",
    "                     },\n",
    "                     title='Maximum Temperature Forecasts vs Actual Daily Highs<br>Size and color show hours until high temperature')\n",
    "    \n",
    "    # Customize hover template for fig1\n",
    "    fig1.update_traces(\n",
    "        hovertemplate=(\n",
    "            \"Date: %{customdata[0]}<br>\" +\n",
    "            \"Created: %{customdata[1]}<br>\" +\n",
    "            \"Forecasts in hour: %{customdata[2]}<br>\" +\n",
    "            \"Hours until high: %{customdata[3]:.1f}<br>\" +\n",
    "            \"Error: %{customdata[4]:.2f}°F<br>\" +\n",
    "            \"High Temp: %{x:.2f}°F<br>\" +  # Changed to use x coordinate\n",
    "            \"Forecast Max: %{y:.2f}°F<br>\" +\n",
    "            \"Accurate: %{customdata[5]}\" +  # Changed index\n",
    "            \"<extra></extra>\"\n",
    "        )\n",
    "    )\n",
    "    \n",
    "    # Add perfect forecast line and margin bands\n",
    "    temp_range = np.linspace(\n",
    "        df_analysis['high_temp'].min() - 5,\n",
    "        df_analysis['high_temp'].max() + 5,\n",
    "        100\n",
    "    )\n",
    "    \n",
    "    fig1.add_trace(go.Scatter(\n",
    "        x=temp_range,\n",
    "        y=temp_range,\n",
    "        mode='lines',\n",
    "        name='Perfect Forecast',\n",
    "        line=dict(color='black', dash='dash')\n",
    "    ))\n",
    "    \n",
    "    fig1.add_trace(go.Scatter(\n",
    "        x=temp_range,\n",
    "        y=temp_range + temp_margin,\n",
    "        mode='lines',\n",
    "        name=f'+{temp_margin}°F Margin',\n",
    "        line=dict(color='gray', dash='dot')\n",
    "    ))\n",
    "    \n",
    "    fig1.add_trace(go.Scatter(\n",
    "        x=temp_range,\n",
    "        y=temp_range - temp_margin,\n",
    "        mode='lines',\n",
    "        name=f'-{temp_margin}°F Margin',\n",
    "        line=dict(color='gray', dash='dot')\n",
    "    ))\n",
    "    \n",
    "    fig1.show()\n",
    "    \n",
    "     # 2. Time series with fixed hover template\n",
    "    fig2 = px.scatter(df_analysis,\n",
    "                     x='date',\n",
    "                     y='forecast_max_temp',\n",
    "                     size='hours_until_high',\n",
    "                     size_max=75,\n",
    "                     color='hours_until_high',\n",
    "                     color_continuous_scale='RdYlBu_r',\n",
    "                     range_color=[0, 12],\n",
    "                     hover_data={\n",
    "                         'forecast_created': True,\n",
    "                         'num_forecasts': True,\n",
    "                         'hours_until_high': ':.1f',\n",
    "                         'error': ':.2f',\n",
    "                         'high_temp': ':.2f',\n",
    "                         'forecast_max_temp': ':.2f',\n",
    "                         'is_accurate': True\n",
    "                     },\n",
    "                     title='Daily Maximum Temperature Forecasts Over Time<br>Size and color show hours until high temperature')\n",
    "    \n",
    "    # Add actual max temperatures line\n",
    "    daily_highs = df_analysis.groupby('date')['high_temp'].first().reset_index()\n",
    "    \n",
    "    # Perfect forecast line (actual temperatures)\n",
    "    fig2.add_trace(go.Scatter(\n",
    "        x=daily_highs['date'],\n",
    "        y=daily_highs['high_temp'],\n",
    "        mode='lines+markers',\n",
    "        name='Actual Daily Max',\n",
    "        line=dict(color='black', dash='solid'),\n",
    "        marker=dict(size=12)\n",
    "    ))\n",
    "    \n",
    "    # Add +1°F margin line\n",
    "    fig2.add_trace(go.Scatter(\n",
    "        x=daily_highs['date'],\n",
    "        y=daily_highs['high_temp'] + temp_margin,\n",
    "        mode='lines',\n",
    "        name=f'+{temp_margin}°F Margin',\n",
    "        line=dict(color='gray', dash='dot')\n",
    "    ))\n",
    "    \n",
    "    # Add -1°F margin line\n",
    "    fig2.add_trace(go.Scatter(\n",
    "        x=daily_highs['date'],\n",
    "        y=daily_highs['high_temp'] - temp_margin,\n",
    "        mode='lines',\n",
    "        name=f'-{temp_margin}°F Margin',\n",
    "        line=dict(color='gray', dash='dot')\n",
    "    ))\n",
    "    # Update x-axis to show only dates\n",
    "    fig2.update_xaxes(\n",
    "        tickformat=\"%Y-%m-%d\",\n",
    "        dtick=\"D1\",\n",
    "        tickangle=45\n",
    "    )\n",
    "    \n",
    "    fig2.show()\n",
    "    return df_analysis\n",
    "\n",
    "# Run the analysis\n",
    "df_max_analysis = analyze_max_temp_forecast_accuracy(df_forecasts, df_observations, temp_margin=1.0)"
   ]
  },
  {
   "cell_type": "code",
   "execution_count": null,
   "metadata": {},
   "outputs": [],
   "source": []
  },
  {
   "cell_type": "code",
   "execution_count": null,
   "metadata": {},
   "outputs": [],
   "source": []
  },
  {
   "cell_type": "code",
   "execution_count": null,
   "metadata": {},
   "outputs": [],
   "source": []
  }
 ],
 "metadata": {
  "kernelspec": {
   "display_name": "venv",
   "language": "python",
   "name": "python3"
  },
  "language_info": {
   "codemirror_mode": {
    "name": "ipython",
    "version": 3
   },
   "file_extension": ".py",
   "mimetype": "text/x-python",
   "name": "python",
   "nbconvert_exporter": "python",
   "pygments_lexer": "ipython3",
   "version": "3.9.6"
  }
 },
 "nbformat": 4,
 "nbformat_minor": 2
}
