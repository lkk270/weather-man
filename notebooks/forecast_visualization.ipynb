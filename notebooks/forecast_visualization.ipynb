{
 "cells": [
  {
   "cell_type": "code",
   "execution_count": 29,
   "metadata": {},
   "outputs": [
    {
     "name": "stdout",
     "output_type": "stream",
     "text": [
      "Setup complete!\n"
     ]
    }
   ],
   "source": [
    "import sys\n",
    "from pathlib import Path\n",
    "import nest_asyncio\n",
    "import asyncio\n",
    "import pandas as pd\n",
    "import matplotlib.pyplot as plt\n",
    "from datetime import datetime, timedelta, timezone  # Added timezone here\n",
    "\n",
    "# Enable async support in Jupyter\n",
    "nest_asyncio.apply()\n",
    "\n",
    "# Add the project root directory to Python path\n",
    "project_root = str(Path().absolute().parent)\n",
    "if project_root not in sys.path:\n",
    "    sys.path.append(project_root)\n",
    "    print(f\"Added {project_root} to Python path\")\n",
    "\n",
    "# Now we can safely import our local modules\n",
    "from sqlalchemy import select, func\n",
    "from database.session import get_db_session\n",
    "from database.models import WeatherForecast, WeatherObservation\n",
    "\n",
    "print(\"Setup complete!\")"
   ]
  },
  {
   "cell_type": "code",
   "execution_count": 49,
   "metadata": {},
   "outputs": [
    {
     "name": "stdout",
     "output_type": "stream",
     "text": [
      "DEBUG: Testing database connection without date filters...\n",
      "DEBUG: Found 588 daytime forecasts for NYC_CASTLE_2\n",
      "DEBUG: Found 38 matching observations for NYC_CASTLE_2\n"
     ]
    }
   ],
   "source": [
    "async def load_data(start_date=None, end_date=None, location=\"NYC_CASTLE_2\"):\n",
    "    \"\"\"Load forecasts and observations from database.\"\"\"\n",
    "    async with get_db_session() as session:\n",
    "        # Base query for forecasts with location and daytime filter\n",
    "        forecast_query = select(WeatherForecast).where(\n",
    "            WeatherForecast.location == location,\n",
    "            WeatherForecast.is_daytime == True  # Filter for daytime forecasts\n",
    "        )\n",
    "        if start_date:\n",
    "            forecast_query = forecast_query.where(WeatherForecast.forecast_time >= start_date)\n",
    "        if end_date:\n",
    "            forecast_query = forecast_query.where(WeatherForecast.forecast_time <= end_date)\n",
    "        \n",
    "        result = await session.execute(forecast_query)\n",
    "        forecasts = result.scalars().all()\n",
    "        print(f\"DEBUG: Found {len(forecasts)} daytime forecasts for {location}\")\n",
    "        \n",
    "        if len(forecasts) > 0:\n",
    "            forecast_times = {f.forecast_time for f in forecasts}\n",
    "            min_time = min(forecast_times)\n",
    "            max_time = max(forecast_times) + timedelta(hours=1)\n",
    "            \n",
    "            # For observations, we'll match the times from our daytime forecasts\n",
    "            obs_query = select(WeatherObservation).where(\n",
    "                WeatherObservation.location == location,\n",
    "                WeatherObservation.observed_time >= min_time,\n",
    "                WeatherObservation.observed_time <= max_time,\n",
    "                # We don't need a daytime filter here since we're matching forecast times\n",
    "            )\n",
    "            result = await session.execute(obs_query)\n",
    "            observations = result.scalars().all()\n",
    "            print(f\"DEBUG: Found {len(observations)} matching observations for {location}\")\n",
    "        else:\n",
    "            observations = []\n",
    "            \n",
    "        return forecasts, observations\n",
    "\n",
    "# For the visualization, replace the matplotlib code in analyze_forecast_accuracy with:\n",
    "\n",
    "# Try loading without date filters first\n",
    "print(\"DEBUG: Testing database connection without date filters...\")\n",
    "forecasts, observations = await load_data()\n",
    "\n",
    "if len(forecasts) == 0:\n",
    "    print(\"\\nDEBUG: No data found. Possible issues:\")\n",
    "    print(\"1. Database connection issues\")\n",
    "    print(\"2. Empty tables\")\n",
    "    print(\"3. Timezone mismatch in queries\")\n",
    "    print(\"\\nTrying with explicit date range...\")\n",
    "    \n",
    "    # Now try with date filters\n",
    "    start_date = datetime(2024, 1, 1, tzinfo=timezone.utc)\n",
    "    end_date = datetime(2024, 2, 1, tzinfo=timezone.utc)\n",
    "    forecasts, observations = await load_data(start_date, end_date)"
   ]
  },
  {
   "cell_type": "code",
   "execution_count": 50,
   "metadata": {},
   "outputs": [],
   "source": [
    "def process_data(forecasts, observations):\n",
    "    \"\"\"Convert data to pandas DataFrames and process for analysis.\"\"\"\n",
    "    # Convert forecasts to DataFrame\n",
    "    forecast_data = []\n",
    "    for f in forecasts:\n",
    "        # Round the forecast time to the nearest hour\n",
    "        forecast_time = f.forecast_time.replace(minute=0, second=0, microsecond=0)\n",
    "        forecast_data.append({\n",
    "            'forecast_time': f.forecast_time,\n",
    "            'created_at': f.created_at,\n",
    "            'location': f.location,\n",
    "            'temperature': f.temperature,\n",
    "            'forecast_time_hour': forecast_time  # Changed from forecast_hour\n",
    "        })\n",
    "    df_forecasts = pd.DataFrame(forecast_data)\n",
    "    \n",
    "    # Convert observations to DataFrame\n",
    "    obs_data = []\n",
    "    for o in observations:\n",
    "        # Round the observation time to the nearest hour\n",
    "        observation_time = o.observed_time.replace(minute=0, second=0, microsecond=0)\n",
    "        obs_data.append({\n",
    "            'observed_time': o.observed_time,\n",
    "            'location': o.location,\n",
    "            'temperature': o.temperature,\n",
    "            'observation_time_hour': observation_time  # Changed from observation_hour\n",
    "        })\n",
    "    df_observations = pd.DataFrame(obs_data)\n",
    "    \n",
    "    # Group forecasts by forecast hour\n",
    "    grouped_forecasts = df_forecasts.groupby('forecast_time_hour')\n",
    "    \n",
    "    return df_forecasts, df_observations, grouped_forecasts"
   ]
  },
  {
   "cell_type": "code",
   "execution_count": 54,
   "metadata": {},
   "outputs": [],
   "source": [
    "def process_data(forecasts, observations):\n",
    "    \"\"\"Convert data to pandas DataFrames and process for analysis.\"\"\"\n",
    "    # Convert forecasts to DataFrame\n",
    "    forecast_data = []\n",
    "    for f in forecasts:\n",
    "        # Round the forecast time to the nearest hour and convert to EST\n",
    "        forecast_time = f.forecast_time.replace(minute=0, second=0, microsecond=0)\n",
    "        forecast_time_est = forecast_time.astimezone(timezone(timedelta(hours=-5)))\n",
    "        created_at_est = f.created_at.astimezone(timezone(timedelta(hours=-5)))\n",
    "        \n",
    "        forecast_data.append({\n",
    "            'forecast_time': forecast_time_est,  # Now in EST\n",
    "            'created_at': created_at_est,        # Now in EST\n",
    "            'location': f.location,\n",
    "            'temperature': f.temperature,\n",
    "            'forecast_time_hour': forecast_time_est  # Changed from forecast_hour\n",
    "        })\n",
    "    df_forecasts = pd.DataFrame(forecast_data)\n",
    "    \n",
    "    # Debug print\n",
    "    print(\"Forecast DataFrame columns:\", df_forecasts.columns.tolist())\n",
    "    print(\"First few rows of forecasts:\")\n",
    "    print(df_forecasts.head())\n",
    "    \n",
    "    # Convert observations to DataFrame\n",
    "    obs_data = []\n",
    "    for o in observations:\n",
    "        # Round the observation time to the nearest hour and convert to EST\n",
    "        observation_time = o.observed_time.replace(minute=0, second=0, microsecond=0)\n",
    "        observation_time_est = observation_time.astimezone(timezone(timedelta(hours=-5)))\n",
    "        \n",
    "        obs_data.append({\n",
    "            'observed_time': observation_time_est,  # Now in EST\n",
    "            'location': o.location,\n",
    "            'temperature': o.temperature,\n",
    "            'observation_time_hour': observation_time_est  # Changed from observation_hour\n",
    "        })\n",
    "    df_observations = pd.DataFrame(obs_data)\n",
    "    \n",
    "    # Debug print\n",
    "    print(\"\\nObservation DataFrame columns:\", df_observations.columns.tolist())\n",
    "    print(\"First few rows of observations:\")\n",
    "    print(df_observations.head())\n",
    "    \n",
    "    # Group forecasts by forecast hour\n",
    "    grouped_forecasts = df_forecasts.groupby('forecast_time_hour')\n",
    "    \n",
    "    return df_forecasts, df_observations, grouped_forecasts"
   ]
  },
  {
   "cell_type": "code",
   "execution_count": 55,
   "metadata": {},
   "outputs": [],
   "source": [
    "\n",
    "def analyze_forecast_accuracy(df_forecasts, df_observations, grouped_forecasts):\n",
    "    \"\"\"Analyze and visualize forecast accuracy.\"\"\"\n",
    "    accuracy_data = []\n",
    "    \n",
    "    for forecast_time_hour, group in grouped_forecasts:\n",
    "        hour_observations = df_observations[\n",
    "            (df_observations['observed_time'] >= forecast_time_hour) &\n",
    "            (df_observations['observed_time'] < forecast_time_hour + timedelta(hours=1))\n",
    "        ]\n",
    "        \n",
    "        if not hour_observations.empty:\n",
    "            actual_temp = hour_observations['temperature'].mean()\n",
    "            \n",
    "            for _, forecast in group.iterrows():\n",
    "                hours_ahead = (forecast_time_hour - forecast['created_at']).total_seconds() / 3600\n",
    "                error = forecast['temperature'] - actual_temp\n",
    "                accuracy_data.append({\n",
    "                    'forecast_time': forecast_time_hour,\n",
    "                    'hours_ahead': hours_ahead,\n",
    "                    'error': error,\n",
    "                    'actual_temp': actual_temp,\n",
    "                    'forecast_temp': forecast['temperature'],\n",
    "                    'error_magnitude': abs(error)  # For coloring\n",
    "                })\n",
    "    \n",
    "    df_accuracy = pd.DataFrame(accuracy_data)\n",
    "    \n",
    "    # Create interactive plot with plotly\n",
    "    import plotly.express as px\n",
    "    \n",
    "    fig = px.scatter(df_accuracy, \n",
    "                     x='hours_ahead',\n",
    "                     y='error',\n",
    "                     color='error_magnitude',\n",
    "                     color_continuous_scale='RdYlBu_r',  # Red for large errors, blue for small\n",
    "                     hover_data=['forecast_time', 'actual_temp', 'forecast_temp'],\n",
    "                     labels={\n",
    "                         'hours_ahead': 'Hours Ahead of Forecast',\n",
    "                         'error': 'Forecast Error (°F)',\n",
    "                         'error_magnitude': 'Absolute Error (°F)'\n",
    "                     },\n",
    "                     title='Forecast Error vs Forecast Lead Time')\n",
    "    \n",
    "    fig.add_hline(y=0, line_dash=\"dash\", line_color=\"red\")\n",
    "    fig.update_layout(\n",
    "        height=600,\n",
    "        showlegend=True,\n",
    "        hovermode='closest'\n",
    "    )\n",
    "    \n",
    "    fig.show()\n",
    "    return df_accuracy"
   ]
  },
  {
   "cell_type": "code",
   "execution_count": 56,
   "metadata": {},
   "outputs": [
    {
     "name": "stdout",
     "output_type": "stream",
     "text": [
      "Forecast DataFrame columns: ['forecast_time', 'created_at', 'location', 'temperature', 'forecast_time_hour']\n",
      "First few rows of forecasts:\n",
      "              forecast_time                       created_at      location  \\\n",
      "0 2024-12-08 16:00:00-05:00 2024-12-08 15:35:44.402781-05:00  NYC_CASTLE_2   \n",
      "1 2024-12-08 17:00:00-05:00 2024-12-08 15:35:44.402781-05:00  NYC_CASTLE_2   \n",
      "2 2024-12-09 06:00:00-05:00 2024-12-08 15:35:44.402781-05:00  NYC_CASTLE_2   \n",
      "3 2024-12-09 07:00:00-05:00 2024-12-08 15:35:44.402781-05:00  NYC_CASTLE_2   \n",
      "4 2024-12-09 08:00:00-05:00 2024-12-08 15:35:44.402781-05:00  NYC_CASTLE_2   \n",
      "\n",
      "   temperature        forecast_time_hour  \n",
      "0         53.0 2024-12-08 16:00:00-05:00  \n",
      "1         52.0 2024-12-08 17:00:00-05:00  \n",
      "2         37.0 2024-12-09 06:00:00-05:00  \n",
      "3         38.0 2024-12-09 07:00:00-05:00  \n",
      "4         39.0 2024-12-09 08:00:00-05:00  \n",
      "\n",
      "Observation DataFrame columns: ['observed_time', 'location', 'temperature', 'observation_time_hour']\n",
      "First few rows of observations:\n",
      "              observed_time      location  temperature  \\\n",
      "0 2024-12-08 16:00:00-05:00  NYC_CASTLE_2        51.98   \n",
      "1 2024-12-08 17:00:00-05:00  NYC_CASTLE_2        51.98   \n",
      "2 2024-12-08 18:00:00-05:00  NYC_CASTLE_2        51.08   \n",
      "3 2024-12-08 19:00:00-05:00  NYC_CASTLE_2        51.08   \n",
      "4 2024-12-08 20:00:00-05:00  NYC_CASTLE_2        50.00   \n",
      "\n",
      "      observation_time_hour  \n",
      "0 2024-12-08 16:00:00-05:00  \n",
      "1 2024-12-08 17:00:00-05:00  \n",
      "2 2024-12-08 18:00:00-05:00  \n",
      "3 2024-12-08 19:00:00-05:00  \n",
      "4 2024-12-08 20:00:00-05:00  \n",
      "\n",
      "Processed 588 forecasts into 26 hourly groups\n"
     ]
    },
    {
     "data": {
      "application/vnd.plotly.v1+json": {
       "config": {
        "plotlyServerURL": "https://plot.ly"
       },
       "data": [
        {
         "customdata": [
          [
           "2024-12-08T16:00:00-05:00",
           51.98,
           53
          ],
          [
           "2024-12-08T16:00:00-05:00",
           51.98,
           53
          ],
          [
           "2024-12-08T17:00:00-05:00",
           51.98,
           52
          ],
          [
           "2024-12-08T17:00:00-05:00",
           51.98,
           52
          ],
          [
           "2024-12-08T17:00:00-05:00",
           51.98,
           52
          ],
          [
           "2024-12-09T06:00:00-05:00",
           46.04,
           37
          ],
          [
           "2024-12-09T06:00:00-05:00",
           46.04,
           37
          ],
          [
           "2024-12-09T06:00:00-05:00",
           46.04,
           37
          ],
          [
           "2024-12-09T06:00:00-05:00",
           46.04,
           37
          ],
          [
           "2024-12-09T06:00:00-05:00",
           46.04,
           37
          ],
          [
           "2024-12-09T06:00:00-05:00",
           46.04,
           37
          ],
          [
           "2024-12-09T06:00:00-05:00",
           46.04,
           37
          ],
          [
           "2024-12-09T06:00:00-05:00",
           46.04,
           37
          ],
          [
           "2024-12-09T06:00:00-05:00",
           46.04,
           37
          ],
          [
           "2024-12-09T06:00:00-05:00",
           46.04,
           37
          ],
          [
           "2024-12-09T06:00:00-05:00",
           46.04,
           37
          ],
          [
           "2024-12-09T06:00:00-05:00",
           46.04,
           42
          ],
          [
           "2024-12-09T06:00:00-05:00",
           46.04,
           42
          ],
          [
           "2024-12-09T06:00:00-05:00",
           46.04,
           42
          ],
          [
           "2024-12-09T06:00:00-05:00",
           46.04,
           42
          ],
          [
           "2024-12-09T06:00:00-05:00",
           46.04,
           42
          ],
          [
           "2024-12-09T06:00:00-05:00",
           46.04,
           42
          ],
          [
           "2024-12-09T06:00:00-05:00",
           46.04,
           42
          ],
          [
           "2024-12-09T06:00:00-05:00",
           46.04,
           42
          ],
          [
           "2024-12-09T06:00:00-05:00",
           46.04,
           42
          ],
          [
           "2024-12-09T06:00:00-05:00",
           46.04,
           42
          ],
          [
           "2024-12-09T06:00:00-05:00",
           46.04,
           42
          ],
          [
           "2024-12-09T06:00:00-05:00",
           46.04,
           42
          ],
          [
           "2024-12-09T06:00:00-05:00",
           46.04,
           42
          ],
          [
           "2024-12-09T06:00:00-05:00",
           46.04,
           42
          ],
          [
           "2024-12-09T06:00:00-05:00",
           46.04,
           42
          ],
          [
           "2024-12-09T06:00:00-05:00",
           46.04,
           42
          ],
          [
           "2024-12-09T06:00:00-05:00",
           46.04,
           42
          ],
          [
           "2024-12-09T06:00:00-05:00",
           46.04,
           44
          ],
          [
           "2024-12-09T06:00:00-05:00",
           46.04,
           44
          ],
          [
           "2024-12-09T06:00:00-05:00",
           46.04,
           44
          ],
          [
           "2024-12-09T06:00:00-05:00",
           46.04,
           44
          ],
          [
           "2024-12-09T06:00:00-05:00",
           46.04,
           44
          ],
          [
           "2024-12-09T06:00:00-05:00",
           46.04,
           44
          ],
          [
           "2024-12-09T06:00:00-05:00",
           46.04,
           44
          ],
          [
           "2024-12-09T07:00:00-05:00",
           46.04,
           38
          ],
          [
           "2024-12-09T07:00:00-05:00",
           46.04,
           38
          ],
          [
           "2024-12-09T07:00:00-05:00",
           46.04,
           38
          ],
          [
           "2024-12-09T07:00:00-05:00",
           46.04,
           38
          ],
          [
           "2024-12-09T07:00:00-05:00",
           46.04,
           38
          ],
          [
           "2024-12-09T07:00:00-05:00",
           46.04,
           38
          ],
          [
           "2024-12-09T07:00:00-05:00",
           46.04,
           38
          ],
          [
           "2024-12-09T07:00:00-05:00",
           46.04,
           38
          ],
          [
           "2024-12-09T07:00:00-05:00",
           46.04,
           38
          ],
          [
           "2024-12-09T07:00:00-05:00",
           46.04,
           38
          ],
          [
           "2024-12-09T07:00:00-05:00",
           46.04,
           38
          ],
          [
           "2024-12-09T07:00:00-05:00",
           46.04,
           42
          ],
          [
           "2024-12-09T07:00:00-05:00",
           46.04,
           42
          ],
          [
           "2024-12-09T07:00:00-05:00",
           46.04,
           42
          ],
          [
           "2024-12-09T07:00:00-05:00",
           46.04,
           42
          ],
          [
           "2024-12-09T07:00:00-05:00",
           46.04,
           42
          ],
          [
           "2024-12-09T07:00:00-05:00",
           46.04,
           42
          ],
          [
           "2024-12-09T07:00:00-05:00",
           46.04,
           42
          ],
          [
           "2024-12-09T07:00:00-05:00",
           46.04,
           42
          ],
          [
           "2024-12-09T07:00:00-05:00",
           46.04,
           42
          ],
          [
           "2024-12-09T07:00:00-05:00",
           46.04,
           42
          ],
          [
           "2024-12-09T07:00:00-05:00",
           46.04,
           42
          ],
          [
           "2024-12-09T07:00:00-05:00",
           46.04,
           42
          ],
          [
           "2024-12-09T07:00:00-05:00",
           46.04,
           42
          ],
          [
           "2024-12-09T07:00:00-05:00",
           46.04,
           42
          ],
          [
           "2024-12-09T07:00:00-05:00",
           46.04,
           42
          ],
          [
           "2024-12-09T07:00:00-05:00",
           46.04,
           42
          ],
          [
           "2024-12-09T07:00:00-05:00",
           46.04,
           42
          ],
          [
           "2024-12-09T07:00:00-05:00",
           46.04,
           43
          ],
          [
           "2024-12-09T07:00:00-05:00",
           46.04,
           43
          ],
          [
           "2024-12-09T07:00:00-05:00",
           46.04,
           43
          ],
          [
           "2024-12-09T07:00:00-05:00",
           46.04,
           43
          ],
          [
           "2024-12-09T07:00:00-05:00",
           46.04,
           43
          ],
          [
           "2024-12-09T07:00:00-05:00",
           46.04,
           43
          ],
          [
           "2024-12-09T07:00:00-05:00",
           46.04,
           43
          ],
          [
           "2024-12-09T07:00:00-05:00",
           46.04,
           42
          ],
          [
           "2024-12-09T08:00:00-05:00",
           50,
           39
          ],
          [
           "2024-12-09T08:00:00-05:00",
           50,
           39
          ],
          [
           "2024-12-09T08:00:00-05:00",
           50,
           39
          ],
          [
           "2024-12-09T08:00:00-05:00",
           50,
           39
          ],
          [
           "2024-12-09T08:00:00-05:00",
           50,
           39
          ],
          [
           "2024-12-09T08:00:00-05:00",
           50,
           39
          ],
          [
           "2024-12-09T08:00:00-05:00",
           50,
           39
          ],
          [
           "2024-12-09T08:00:00-05:00",
           50,
           39
          ],
          [
           "2024-12-09T08:00:00-05:00",
           50,
           39
          ],
          [
           "2024-12-09T08:00:00-05:00",
           50,
           39
          ],
          [
           "2024-12-09T08:00:00-05:00",
           50,
           39
          ],
          [
           "2024-12-09T08:00:00-05:00",
           50,
           41
          ],
          [
           "2024-12-09T08:00:00-05:00",
           50,
           41
          ],
          [
           "2024-12-09T08:00:00-05:00",
           50,
           41
          ],
          [
           "2024-12-09T08:00:00-05:00",
           50,
           41
          ],
          [
           "2024-12-09T08:00:00-05:00",
           50,
           41
          ],
          [
           "2024-12-09T08:00:00-05:00",
           50,
           41
          ],
          [
           "2024-12-09T08:00:00-05:00",
           50,
           41
          ],
          [
           "2024-12-09T08:00:00-05:00",
           50,
           41
          ],
          [
           "2024-12-09T08:00:00-05:00",
           50,
           41
          ],
          [
           "2024-12-09T08:00:00-05:00",
           50,
           41
          ],
          [
           "2024-12-09T08:00:00-05:00",
           50,
           41
          ],
          [
           "2024-12-09T08:00:00-05:00",
           50,
           41
          ],
          [
           "2024-12-09T08:00:00-05:00",
           50,
           41
          ],
          [
           "2024-12-09T08:00:00-05:00",
           50,
           41
          ],
          [
           "2024-12-09T08:00:00-05:00",
           50,
           41
          ],
          [
           "2024-12-09T08:00:00-05:00",
           50,
           41
          ],
          [
           "2024-12-09T08:00:00-05:00",
           50,
           41
          ],
          [
           "2024-12-09T08:00:00-05:00",
           50,
           42
          ],
          [
           "2024-12-09T08:00:00-05:00",
           50,
           42
          ],
          [
           "2024-12-09T08:00:00-05:00",
           50,
           42
          ],
          [
           "2024-12-09T08:00:00-05:00",
           50,
           42
          ],
          [
           "2024-12-09T08:00:00-05:00",
           50,
           42
          ],
          [
           "2024-12-09T08:00:00-05:00",
           50,
           42
          ],
          [
           "2024-12-09T08:00:00-05:00",
           50,
           42
          ],
          [
           "2024-12-09T08:00:00-05:00",
           50,
           43
          ],
          [
           "2024-12-09T08:00:00-05:00",
           50,
           43
          ],
          [
           "2024-12-09T09:00:00-05:00",
           50,
           41
          ],
          [
           "2024-12-09T09:00:00-05:00",
           50,
           41
          ],
          [
           "2024-12-09T09:00:00-05:00",
           50,
           41
          ],
          [
           "2024-12-09T09:00:00-05:00",
           50,
           41
          ],
          [
           "2024-12-09T09:00:00-05:00",
           50,
           41
          ],
          [
           "2024-12-09T09:00:00-05:00",
           50,
           41
          ],
          [
           "2024-12-09T09:00:00-05:00",
           50,
           41
          ],
          [
           "2024-12-09T09:00:00-05:00",
           50,
           41
          ],
          [
           "2024-12-09T09:00:00-05:00",
           50,
           41
          ],
          [
           "2024-12-09T09:00:00-05:00",
           50,
           41
          ],
          [
           "2024-12-09T09:00:00-05:00",
           50,
           41
          ],
          [
           "2024-12-09T09:00:00-05:00",
           50,
           41
          ],
          [
           "2024-12-09T09:00:00-05:00",
           50,
           41
          ],
          [
           "2024-12-09T09:00:00-05:00",
           50,
           41
          ],
          [
           "2024-12-09T09:00:00-05:00",
           50,
           41
          ],
          [
           "2024-12-09T09:00:00-05:00",
           50,
           41
          ],
          [
           "2024-12-09T09:00:00-05:00",
           50,
           41
          ],
          [
           "2024-12-09T09:00:00-05:00",
           50,
           41
          ],
          [
           "2024-12-09T09:00:00-05:00",
           50,
           41
          ],
          [
           "2024-12-09T09:00:00-05:00",
           50,
           41
          ],
          [
           "2024-12-09T09:00:00-05:00",
           50,
           41
          ],
          [
           "2024-12-09T09:00:00-05:00",
           50,
           41
          ],
          [
           "2024-12-09T09:00:00-05:00",
           50,
           41
          ],
          [
           "2024-12-09T09:00:00-05:00",
           50,
           41
          ],
          [
           "2024-12-09T09:00:00-05:00",
           50,
           41
          ],
          [
           "2024-12-09T09:00:00-05:00",
           50,
           41
          ],
          [
           "2024-12-09T09:00:00-05:00",
           50,
           41
          ],
          [
           "2024-12-09T09:00:00-05:00",
           50,
           41
          ],
          [
           "2024-12-09T09:00:00-05:00",
           50,
           41
          ],
          [
           "2024-12-09T09:00:00-05:00",
           50,
           41
          ],
          [
           "2024-12-09T09:00:00-05:00",
           50,
           41
          ],
          [
           "2024-12-09T09:00:00-05:00",
           50,
           41
          ],
          [
           "2024-12-09T09:00:00-05:00",
           50,
           41
          ],
          [
           "2024-12-09T09:00:00-05:00",
           50,
           41
          ],
          [
           "2024-12-09T09:00:00-05:00",
           50,
           41
          ],
          [
           "2024-12-09T09:00:00-05:00",
           50,
           44
          ],
          [
           "2024-12-09T09:00:00-05:00",
           50,
           44
          ],
          [
           "2024-12-09T10:00:00-05:00",
           51.08,
           44
          ],
          [
           "2024-12-09T10:00:00-05:00",
           51.08,
           44
          ],
          [
           "2024-12-09T10:00:00-05:00",
           51.08,
           44
          ],
          [
           "2024-12-09T10:00:00-05:00",
           51.08,
           44
          ],
          [
           "2024-12-09T10:00:00-05:00",
           51.08,
           44
          ],
          [
           "2024-12-09T10:00:00-05:00",
           51.08,
           44
          ],
          [
           "2024-12-09T10:00:00-05:00",
           51.08,
           44
          ],
          [
           "2024-12-09T10:00:00-05:00",
           51.08,
           44
          ],
          [
           "2024-12-09T10:00:00-05:00",
           51.08,
           44
          ],
          [
           "2024-12-09T10:00:00-05:00",
           51.08,
           44
          ],
          [
           "2024-12-09T10:00:00-05:00",
           51.08,
           44
          ],
          [
           "2024-12-09T10:00:00-05:00",
           51.08,
           44
          ],
          [
           "2024-12-09T10:00:00-05:00",
           51.08,
           44
          ],
          [
           "2024-12-09T10:00:00-05:00",
           51.08,
           44
          ],
          [
           "2024-12-09T10:00:00-05:00",
           51.08,
           44
          ],
          [
           "2024-12-09T10:00:00-05:00",
           51.08,
           44
          ],
          [
           "2024-12-09T10:00:00-05:00",
           51.08,
           44
          ],
          [
           "2024-12-09T10:00:00-05:00",
           51.08,
           44
          ],
          [
           "2024-12-09T10:00:00-05:00",
           51.08,
           44
          ],
          [
           "2024-12-09T10:00:00-05:00",
           51.08,
           44
          ],
          [
           "2024-12-09T10:00:00-05:00",
           51.08,
           44
          ],
          [
           "2024-12-09T10:00:00-05:00",
           51.08,
           44
          ],
          [
           "2024-12-09T10:00:00-05:00",
           51.08,
           44
          ],
          [
           "2024-12-09T10:00:00-05:00",
           51.08,
           44
          ],
          [
           "2024-12-09T10:00:00-05:00",
           51.08,
           44
          ],
          [
           "2024-12-09T10:00:00-05:00",
           51.08,
           44
          ],
          [
           "2024-12-09T10:00:00-05:00",
           51.08,
           44
          ],
          [
           "2024-12-09T10:00:00-05:00",
           51.08,
           44
          ],
          [
           "2024-12-09T10:00:00-05:00",
           51.08,
           44
          ],
          [
           "2024-12-09T10:00:00-05:00",
           51.08,
           44
          ],
          [
           "2024-12-09T10:00:00-05:00",
           51.08,
           44
          ],
          [
           "2024-12-09T10:00:00-05:00",
           51.08,
           44
          ],
          [
           "2024-12-09T10:00:00-05:00",
           51.08,
           44
          ],
          [
           "2024-12-09T10:00:00-05:00",
           51.08,
           44
          ],
          [
           "2024-12-09T10:00:00-05:00",
           51.08,
           44
          ],
          [
           "2024-12-09T10:00:00-05:00",
           51.08,
           46
          ],
          [
           "2024-12-09T10:00:00-05:00",
           51.08,
           46
          ],
          [
           "2024-12-09T10:00:00-05:00",
           51.08,
           46
          ],
          [
           "2024-12-09T11:00:00-05:00",
           50,
           45
          ],
          [
           "2024-12-09T11:00:00-05:00",
           50,
           45
          ],
          [
           "2024-12-09T11:00:00-05:00",
           50,
           45
          ],
          [
           "2024-12-09T11:00:00-05:00",
           50,
           45
          ],
          [
           "2024-12-09T11:00:00-05:00",
           50,
           45
          ],
          [
           "2024-12-09T11:00:00-05:00",
           50,
           45
          ],
          [
           "2024-12-09T11:00:00-05:00",
           50,
           45
          ],
          [
           "2024-12-09T11:00:00-05:00",
           50,
           45
          ],
          [
           "2024-12-09T11:00:00-05:00",
           50,
           45
          ],
          [
           "2024-12-09T11:00:00-05:00",
           50,
           45
          ],
          [
           "2024-12-09T11:00:00-05:00",
           50,
           45
          ],
          [
           "2024-12-09T11:00:00-05:00",
           50,
           45
          ],
          [
           "2024-12-09T11:00:00-05:00",
           50,
           45
          ],
          [
           "2024-12-09T11:00:00-05:00",
           50,
           45
          ],
          [
           "2024-12-09T11:00:00-05:00",
           50,
           45
          ],
          [
           "2024-12-09T11:00:00-05:00",
           50,
           45
          ],
          [
           "2024-12-09T11:00:00-05:00",
           50,
           45
          ],
          [
           "2024-12-09T11:00:00-05:00",
           50,
           45
          ],
          [
           "2024-12-09T11:00:00-05:00",
           50,
           45
          ],
          [
           "2024-12-09T11:00:00-05:00",
           50,
           45
          ],
          [
           "2024-12-09T11:00:00-05:00",
           50,
           45
          ],
          [
           "2024-12-09T11:00:00-05:00",
           50,
           45
          ],
          [
           "2024-12-09T11:00:00-05:00",
           50,
           45
          ],
          [
           "2024-12-09T11:00:00-05:00",
           50,
           45
          ],
          [
           "2024-12-09T11:00:00-05:00",
           50,
           45
          ],
          [
           "2024-12-09T11:00:00-05:00",
           50,
           45
          ],
          [
           "2024-12-09T11:00:00-05:00",
           50,
           45
          ],
          [
           "2024-12-09T11:00:00-05:00",
           50,
           45
          ],
          [
           "2024-12-09T11:00:00-05:00",
           50,
           45
          ],
          [
           "2024-12-09T11:00:00-05:00",
           50,
           45
          ],
          [
           "2024-12-09T11:00:00-05:00",
           50,
           45
          ],
          [
           "2024-12-09T11:00:00-05:00",
           50,
           45
          ],
          [
           "2024-12-09T11:00:00-05:00",
           50,
           45
          ],
          [
           "2024-12-09T11:00:00-05:00",
           50,
           45
          ],
          [
           "2024-12-09T11:00:00-05:00",
           50,
           45
          ],
          [
           "2024-12-09T11:00:00-05:00",
           50,
           48
          ],
          [
           "2024-12-09T11:00:00-05:00",
           50,
           48
          ],
          [
           "2024-12-09T11:00:00-05:00",
           50,
           47
          ],
          [
           "2024-12-09T11:00:00-05:00",
           50,
           47
          ],
          [
           "2024-12-09T12:00:00-05:00",
           50,
           47
          ],
          [
           "2024-12-09T12:00:00-05:00",
           50,
           47
          ],
          [
           "2024-12-09T12:00:00-05:00",
           50,
           47
          ],
          [
           "2024-12-09T12:00:00-05:00",
           50,
           47
          ],
          [
           "2024-12-09T12:00:00-05:00",
           50,
           47
          ],
          [
           "2024-12-09T12:00:00-05:00",
           50,
           47
          ],
          [
           "2024-12-09T12:00:00-05:00",
           50,
           47
          ],
          [
           "2024-12-09T12:00:00-05:00",
           50,
           47
          ],
          [
           "2024-12-09T12:00:00-05:00",
           50,
           47
          ],
          [
           "2024-12-09T12:00:00-05:00",
           50,
           47
          ],
          [
           "2024-12-09T12:00:00-05:00",
           50,
           47
          ],
          [
           "2024-12-09T12:00:00-05:00",
           50,
           47
          ],
          [
           "2024-12-09T12:00:00-05:00",
           50,
           47
          ],
          [
           "2024-12-09T12:00:00-05:00",
           50,
           47
          ],
          [
           "2024-12-09T12:00:00-05:00",
           50,
           47
          ],
          [
           "2024-12-09T12:00:00-05:00",
           50,
           47
          ],
          [
           "2024-12-09T12:00:00-05:00",
           50,
           47
          ],
          [
           "2024-12-09T12:00:00-05:00",
           50,
           47
          ],
          [
           "2024-12-09T12:00:00-05:00",
           50,
           47
          ],
          [
           "2024-12-09T12:00:00-05:00",
           50,
           47
          ],
          [
           "2024-12-09T12:00:00-05:00",
           50,
           47
          ],
          [
           "2024-12-09T12:00:00-05:00",
           50,
           47
          ],
          [
           "2024-12-09T12:00:00-05:00",
           50,
           47
          ],
          [
           "2024-12-09T12:00:00-05:00",
           50,
           47
          ],
          [
           "2024-12-09T12:00:00-05:00",
           50,
           47
          ],
          [
           "2024-12-09T12:00:00-05:00",
           50,
           47
          ],
          [
           "2024-12-09T12:00:00-05:00",
           50,
           47
          ],
          [
           "2024-12-09T12:00:00-05:00",
           50,
           47
          ],
          [
           "2024-12-09T12:00:00-05:00",
           50,
           47
          ],
          [
           "2024-12-09T12:00:00-05:00",
           50,
           47
          ],
          [
           "2024-12-09T12:00:00-05:00",
           50,
           47
          ],
          [
           "2024-12-09T12:00:00-05:00",
           50,
           47
          ],
          [
           "2024-12-09T12:00:00-05:00",
           50,
           47
          ],
          [
           "2024-12-09T12:00:00-05:00",
           50,
           47
          ],
          [
           "2024-12-09T12:00:00-05:00",
           50,
           47
          ],
          [
           "2024-12-09T12:00:00-05:00",
           50,
           49
          ],
          [
           "2024-12-09T12:00:00-05:00",
           50,
           49
          ],
          [
           "2024-12-09T12:00:00-05:00",
           50,
           49
          ],
          [
           "2024-12-09T12:00:00-05:00",
           50,
           49
          ],
          [
           "2024-12-09T12:00:00-05:00",
           50,
           49
          ],
          [
           "2024-12-09T13:00:00-05:00",
           48.92,
           49
          ],
          [
           "2024-12-09T13:00:00-05:00",
           48.92,
           49
          ],
          [
           "2024-12-09T13:00:00-05:00",
           48.92,
           49
          ],
          [
           "2024-12-09T13:00:00-05:00",
           48.92,
           49
          ],
          [
           "2024-12-09T13:00:00-05:00",
           48.92,
           49
          ],
          [
           "2024-12-09T13:00:00-05:00",
           48.92,
           49
          ],
          [
           "2024-12-09T13:00:00-05:00",
           48.92,
           49
          ],
          [
           "2024-12-09T13:00:00-05:00",
           48.92,
           49
          ],
          [
           "2024-12-09T13:00:00-05:00",
           48.92,
           49
          ],
          [
           "2024-12-09T13:00:00-05:00",
           48.92,
           49
          ],
          [
           "2024-12-09T13:00:00-05:00",
           48.92,
           49
          ],
          [
           "2024-12-09T13:00:00-05:00",
           48.92,
           49
          ],
          [
           "2024-12-09T13:00:00-05:00",
           48.92,
           49
          ],
          [
           "2024-12-09T13:00:00-05:00",
           48.92,
           49
          ],
          [
           "2024-12-09T13:00:00-05:00",
           48.92,
           49
          ],
          [
           "2024-12-09T13:00:00-05:00",
           48.92,
           49
          ],
          [
           "2024-12-09T13:00:00-05:00",
           48.92,
           49
          ],
          [
           "2024-12-09T13:00:00-05:00",
           48.92,
           49
          ],
          [
           "2024-12-09T13:00:00-05:00",
           48.92,
           49
          ],
          [
           "2024-12-09T13:00:00-05:00",
           48.92,
           49
          ],
          [
           "2024-12-09T13:00:00-05:00",
           48.92,
           49
          ],
          [
           "2024-12-09T13:00:00-05:00",
           48.92,
           49
          ],
          [
           "2024-12-09T13:00:00-05:00",
           48.92,
           49
          ],
          [
           "2024-12-09T13:00:00-05:00",
           48.92,
           49
          ],
          [
           "2024-12-09T13:00:00-05:00",
           48.92,
           49
          ],
          [
           "2024-12-09T13:00:00-05:00",
           48.92,
           49
          ],
          [
           "2024-12-09T13:00:00-05:00",
           48.92,
           49
          ],
          [
           "2024-12-09T13:00:00-05:00",
           48.92,
           49
          ],
          [
           "2024-12-09T13:00:00-05:00",
           48.92,
           49
          ],
          [
           "2024-12-09T13:00:00-05:00",
           48.92,
           49
          ],
          [
           "2024-12-09T13:00:00-05:00",
           48.92,
           49
          ],
          [
           "2024-12-09T13:00:00-05:00",
           48.92,
           49
          ],
          [
           "2024-12-09T13:00:00-05:00",
           48.92,
           49
          ],
          [
           "2024-12-09T13:00:00-05:00",
           48.92,
           49
          ],
          [
           "2024-12-09T13:00:00-05:00",
           48.92,
           49
          ],
          [
           "2024-12-09T13:00:00-05:00",
           48.92,
           50
          ],
          [
           "2024-12-09T13:00:00-05:00",
           48.92,
           50
          ],
          [
           "2024-12-09T13:00:00-05:00",
           48.92,
           50
          ],
          [
           "2024-12-09T13:00:00-05:00",
           48.92,
           50
          ],
          [
           "2024-12-09T13:00:00-05:00",
           48.92,
           50
          ],
          [
           "2024-12-09T13:00:00-05:00",
           48.92,
           50
          ],
          [
           "2024-12-09T14:00:00-05:00",
           48.74000000000001,
           49
          ],
          [
           "2024-12-09T14:00:00-05:00",
           48.74000000000001,
           49
          ],
          [
           "2024-12-09T14:00:00-05:00",
           48.74000000000001,
           49
          ],
          [
           "2024-12-09T14:00:00-05:00",
           48.74000000000001,
           49
          ],
          [
           "2024-12-09T14:00:00-05:00",
           48.74000000000001,
           49
          ],
          [
           "2024-12-09T14:00:00-05:00",
           48.74000000000001,
           49
          ],
          [
           "2024-12-09T14:00:00-05:00",
           48.74000000000001,
           49
          ],
          [
           "2024-12-09T14:00:00-05:00",
           48.74000000000001,
           49
          ],
          [
           "2024-12-09T14:00:00-05:00",
           48.74000000000001,
           49
          ],
          [
           "2024-12-09T14:00:00-05:00",
           48.74000000000001,
           49
          ],
          [
           "2024-12-09T14:00:00-05:00",
           48.74000000000001,
           49
          ],
          [
           "2024-12-09T14:00:00-05:00",
           48.74000000000001,
           49
          ],
          [
           "2024-12-09T14:00:00-05:00",
           48.74000000000001,
           49
          ],
          [
           "2024-12-09T14:00:00-05:00",
           48.74000000000001,
           49
          ],
          [
           "2024-12-09T14:00:00-05:00",
           48.74000000000001,
           49
          ],
          [
           "2024-12-09T14:00:00-05:00",
           48.74000000000001,
           49
          ],
          [
           "2024-12-09T14:00:00-05:00",
           48.74000000000001,
           49
          ],
          [
           "2024-12-09T14:00:00-05:00",
           48.74000000000001,
           49
          ],
          [
           "2024-12-09T14:00:00-05:00",
           48.74000000000001,
           49
          ],
          [
           "2024-12-09T14:00:00-05:00",
           48.74000000000001,
           49
          ],
          [
           "2024-12-09T14:00:00-05:00",
           48.74000000000001,
           49
          ],
          [
           "2024-12-09T14:00:00-05:00",
           48.74000000000001,
           49
          ],
          [
           "2024-12-09T14:00:00-05:00",
           48.74000000000001,
           49
          ],
          [
           "2024-12-09T14:00:00-05:00",
           48.74000000000001,
           49
          ],
          [
           "2024-12-09T14:00:00-05:00",
           48.74000000000001,
           49
          ],
          [
           "2024-12-09T14:00:00-05:00",
           48.74000000000001,
           49
          ],
          [
           "2024-12-09T14:00:00-05:00",
           48.74000000000001,
           49
          ],
          [
           "2024-12-09T14:00:00-05:00",
           48.74000000000001,
           49
          ],
          [
           "2024-12-09T14:00:00-05:00",
           48.74000000000001,
           49
          ],
          [
           "2024-12-09T14:00:00-05:00",
           48.74000000000001,
           49
          ],
          [
           "2024-12-09T14:00:00-05:00",
           48.74000000000001,
           49
          ],
          [
           "2024-12-09T14:00:00-05:00",
           48.74000000000001,
           49
          ],
          [
           "2024-12-09T14:00:00-05:00",
           48.74000000000001,
           49
          ],
          [
           "2024-12-09T14:00:00-05:00",
           48.74000000000001,
           49
          ],
          [
           "2024-12-09T14:00:00-05:00",
           48.74000000000001,
           49
          ],
          [
           "2024-12-09T14:00:00-05:00",
           48.74000000000001,
           50
          ],
          [
           "2024-12-09T14:00:00-05:00",
           48.74000000000001,
           50
          ],
          [
           "2024-12-09T14:00:00-05:00",
           48.74000000000001,
           50
          ],
          [
           "2024-12-09T14:00:00-05:00",
           48.74000000000001,
           50
          ],
          [
           "2024-12-09T14:00:00-05:00",
           48.74000000000001,
           50
          ],
          [
           "2024-12-09T14:00:00-05:00",
           48.74000000000001,
           50
          ],
          [
           "2024-12-09T14:00:00-05:00",
           48.74000000000001,
           50
          ],
          [
           "2024-12-09T15:00:00-05:00",
           48.47,
           50
          ],
          [
           "2024-12-09T15:00:00-05:00",
           48.47,
           50
          ],
          [
           "2024-12-09T15:00:00-05:00",
           48.47,
           50
          ],
          [
           "2024-12-09T15:00:00-05:00",
           48.47,
           50
          ],
          [
           "2024-12-09T15:00:00-05:00",
           48.47,
           50
          ],
          [
           "2024-12-09T15:00:00-05:00",
           48.47,
           50
          ],
          [
           "2024-12-09T15:00:00-05:00",
           48.47,
           50
          ],
          [
           "2024-12-09T15:00:00-05:00",
           48.47,
           50
          ],
          [
           "2024-12-09T15:00:00-05:00",
           48.47,
           50
          ],
          [
           "2024-12-09T15:00:00-05:00",
           48.47,
           50
          ],
          [
           "2024-12-09T15:00:00-05:00",
           48.47,
           50
          ],
          [
           "2024-12-09T15:00:00-05:00",
           48.47,
           50
          ],
          [
           "2024-12-09T15:00:00-05:00",
           48.47,
           50
          ],
          [
           "2024-12-09T15:00:00-05:00",
           48.47,
           50
          ],
          [
           "2024-12-09T15:00:00-05:00",
           48.47,
           50
          ],
          [
           "2024-12-09T15:00:00-05:00",
           48.47,
           50
          ],
          [
           "2024-12-09T15:00:00-05:00",
           48.47,
           50
          ],
          [
           "2024-12-09T15:00:00-05:00",
           48.47,
           50
          ],
          [
           "2024-12-09T15:00:00-05:00",
           48.47,
           50
          ],
          [
           "2024-12-09T15:00:00-05:00",
           48.47,
           50
          ],
          [
           "2024-12-09T15:00:00-05:00",
           48.47,
           50
          ],
          [
           "2024-12-09T15:00:00-05:00",
           48.47,
           50
          ],
          [
           "2024-12-09T15:00:00-05:00",
           48.47,
           50
          ],
          [
           "2024-12-09T15:00:00-05:00",
           48.47,
           50
          ],
          [
           "2024-12-09T15:00:00-05:00",
           48.47,
           50
          ],
          [
           "2024-12-09T15:00:00-05:00",
           48.47,
           50
          ],
          [
           "2024-12-09T15:00:00-05:00",
           48.47,
           50
          ],
          [
           "2024-12-09T15:00:00-05:00",
           48.47,
           50
          ],
          [
           "2024-12-09T15:00:00-05:00",
           48.47,
           50
          ],
          [
           "2024-12-09T15:00:00-05:00",
           48.47,
           50
          ],
          [
           "2024-12-09T15:00:00-05:00",
           48.47,
           50
          ],
          [
           "2024-12-09T15:00:00-05:00",
           48.47,
           50
          ],
          [
           "2024-12-09T15:00:00-05:00",
           48.47,
           50
          ],
          [
           "2024-12-09T15:00:00-05:00",
           48.47,
           50
          ],
          [
           "2024-12-09T15:00:00-05:00",
           48.47,
           50
          ],
          [
           "2024-12-09T15:00:00-05:00",
           48.47,
           50
          ],
          [
           "2024-12-09T15:00:00-05:00",
           48.47,
           50
          ],
          [
           "2024-12-09T15:00:00-05:00",
           48.47,
           50
          ],
          [
           "2024-12-09T15:00:00-05:00",
           48.47,
           50
          ],
          [
           "2024-12-09T15:00:00-05:00",
           48.47,
           50
          ],
          [
           "2024-12-09T15:00:00-05:00",
           48.47,
           50
          ],
          [
           "2024-12-09T15:00:00-05:00",
           48.47,
           50
          ],
          [
           "2024-12-09T15:00:00-05:00",
           48.47,
           50
          ],
          [
           "2024-12-09T16:00:00-05:00",
           48.620000000000005,
           50
          ],
          [
           "2024-12-09T16:00:00-05:00",
           48.620000000000005,
           50
          ],
          [
           "2024-12-09T16:00:00-05:00",
           48.620000000000005,
           50
          ],
          [
           "2024-12-09T16:00:00-05:00",
           48.620000000000005,
           50
          ],
          [
           "2024-12-09T16:00:00-05:00",
           48.620000000000005,
           50
          ],
          [
           "2024-12-09T16:00:00-05:00",
           48.620000000000005,
           50
          ],
          [
           "2024-12-09T16:00:00-05:00",
           48.620000000000005,
           50
          ],
          [
           "2024-12-09T16:00:00-05:00",
           48.620000000000005,
           50
          ],
          [
           "2024-12-09T16:00:00-05:00",
           48.620000000000005,
           50
          ],
          [
           "2024-12-09T16:00:00-05:00",
           48.620000000000005,
           50
          ],
          [
           "2024-12-09T16:00:00-05:00",
           48.620000000000005,
           50
          ],
          [
           "2024-12-09T16:00:00-05:00",
           48.620000000000005,
           50
          ],
          [
           "2024-12-09T16:00:00-05:00",
           48.620000000000005,
           50
          ],
          [
           "2024-12-09T16:00:00-05:00",
           48.620000000000005,
           50
          ],
          [
           "2024-12-09T16:00:00-05:00",
           48.620000000000005,
           50
          ],
          [
           "2024-12-09T16:00:00-05:00",
           48.620000000000005,
           50
          ],
          [
           "2024-12-09T16:00:00-05:00",
           48.620000000000005,
           50
          ],
          [
           "2024-12-09T16:00:00-05:00",
           48.620000000000005,
           50
          ],
          [
           "2024-12-09T16:00:00-05:00",
           48.620000000000005,
           50
          ],
          [
           "2024-12-09T16:00:00-05:00",
           48.620000000000005,
           50
          ],
          [
           "2024-12-09T16:00:00-05:00",
           48.620000000000005,
           50
          ],
          [
           "2024-12-09T16:00:00-05:00",
           48.620000000000005,
           50
          ],
          [
           "2024-12-09T16:00:00-05:00",
           48.620000000000005,
           50
          ],
          [
           "2024-12-09T16:00:00-05:00",
           48.620000000000005,
           50
          ],
          [
           "2024-12-09T16:00:00-05:00",
           48.620000000000005,
           50
          ],
          [
           "2024-12-09T16:00:00-05:00",
           48.620000000000005,
           50
          ],
          [
           "2024-12-09T16:00:00-05:00",
           48.620000000000005,
           50
          ],
          [
           "2024-12-09T16:00:00-05:00",
           48.620000000000005,
           50
          ],
          [
           "2024-12-09T16:00:00-05:00",
           48.620000000000005,
           50
          ],
          [
           "2024-12-09T16:00:00-05:00",
           48.620000000000005,
           50
          ],
          [
           "2024-12-09T16:00:00-05:00",
           48.620000000000005,
           50
          ],
          [
           "2024-12-09T16:00:00-05:00",
           48.620000000000005,
           50
          ],
          [
           "2024-12-09T16:00:00-05:00",
           48.620000000000005,
           50
          ],
          [
           "2024-12-09T16:00:00-05:00",
           48.620000000000005,
           50
          ],
          [
           "2024-12-09T16:00:00-05:00",
           48.620000000000005,
           50
          ],
          [
           "2024-12-09T16:00:00-05:00",
           48.620000000000005,
           50
          ],
          [
           "2024-12-09T16:00:00-05:00",
           48.620000000000005,
           50
          ],
          [
           "2024-12-09T16:00:00-05:00",
           48.620000000000005,
           50
          ],
          [
           "2024-12-09T16:00:00-05:00",
           48.620000000000005,
           50
          ],
          [
           "2024-12-09T16:00:00-05:00",
           48.620000000000005,
           50
          ],
          [
           "2024-12-09T16:00:00-05:00",
           48.620000000000005,
           50
          ],
          [
           "2024-12-09T16:00:00-05:00",
           48.620000000000005,
           50
          ],
          [
           "2024-12-09T17:00:00-05:00",
           48.92,
           50
          ],
          [
           "2024-12-09T17:00:00-05:00",
           48.92,
           50
          ],
          [
           "2024-12-09T17:00:00-05:00",
           48.92,
           50
          ],
          [
           "2024-12-09T17:00:00-05:00",
           48.92,
           50
          ],
          [
           "2024-12-09T17:00:00-05:00",
           48.92,
           50
          ],
          [
           "2024-12-09T17:00:00-05:00",
           48.92,
           50
          ],
          [
           "2024-12-09T17:00:00-05:00",
           48.92,
           50
          ],
          [
           "2024-12-09T17:00:00-05:00",
           48.92,
           50
          ],
          [
           "2024-12-09T17:00:00-05:00",
           48.92,
           50
          ],
          [
           "2024-12-09T17:00:00-05:00",
           48.92,
           50
          ],
          [
           "2024-12-09T17:00:00-05:00",
           48.92,
           50
          ],
          [
           "2024-12-09T17:00:00-05:00",
           48.92,
           50
          ],
          [
           "2024-12-09T17:00:00-05:00",
           48.92,
           50
          ],
          [
           "2024-12-09T17:00:00-05:00",
           48.92,
           50
          ],
          [
           "2024-12-09T17:00:00-05:00",
           48.92,
           50
          ],
          [
           "2024-12-09T17:00:00-05:00",
           48.92,
           50
          ],
          [
           "2024-12-09T17:00:00-05:00",
           48.92,
           50
          ],
          [
           "2024-12-09T17:00:00-05:00",
           48.92,
           50
          ],
          [
           "2024-12-09T17:00:00-05:00",
           48.92,
           50
          ],
          [
           "2024-12-09T17:00:00-05:00",
           48.92,
           50
          ],
          [
           "2024-12-09T17:00:00-05:00",
           48.92,
           50
          ],
          [
           "2024-12-09T17:00:00-05:00",
           48.92,
           50
          ],
          [
           "2024-12-09T17:00:00-05:00",
           48.92,
           50
          ],
          [
           "2024-12-09T17:00:00-05:00",
           48.92,
           50
          ],
          [
           "2024-12-09T17:00:00-05:00",
           48.92,
           50
          ],
          [
           "2024-12-09T17:00:00-05:00",
           48.92,
           50
          ],
          [
           "2024-12-09T17:00:00-05:00",
           48.92,
           50
          ],
          [
           "2024-12-09T17:00:00-05:00",
           48.92,
           50
          ],
          [
           "2024-12-09T17:00:00-05:00",
           48.92,
           50
          ],
          [
           "2024-12-09T17:00:00-05:00",
           48.92,
           50
          ],
          [
           "2024-12-09T17:00:00-05:00",
           48.92,
           50
          ],
          [
           "2024-12-09T17:00:00-05:00",
           48.92,
           50
          ],
          [
           "2024-12-09T17:00:00-05:00",
           48.92,
           50
          ],
          [
           "2024-12-09T17:00:00-05:00",
           48.92,
           50
          ],
          [
           "2024-12-09T17:00:00-05:00",
           48.92,
           50
          ],
          [
           "2024-12-09T17:00:00-05:00",
           48.92,
           50
          ],
          [
           "2024-12-09T17:00:00-05:00",
           48.92,
           50
          ],
          [
           "2024-12-09T17:00:00-05:00",
           48.92,
           50
          ],
          [
           "2024-12-09T17:00:00-05:00",
           48.92,
           50
          ],
          [
           "2024-12-09T17:00:00-05:00",
           48.92,
           50
          ],
          [
           "2024-12-09T17:00:00-05:00",
           48.92,
           50
          ],
          [
           "2024-12-09T17:00:00-05:00",
           48.92,
           50
          ]
         ],
         "hovertemplate": "Hours Ahead of Forecast=%{x}<br>Forecast Error (°F)=%{y}<br>forecast_time=%{customdata[0]}<br>actual_temp=%{customdata[1]}<br>forecast_temp=%{customdata[2]}<br>Absolute Error (°F)=%{marker.color}<extra></extra>",
         "legendgroup": "",
         "marker": {
          "color": [
           1.0200000000000031,
           1.0200000000000031,
           0.020000000000003126,
           0.020000000000003126,
           0.020000000000003126,
           9.04,
           9.04,
           9.04,
           9.04,
           9.04,
           9.04,
           9.04,
           9.04,
           9.04,
           9.04,
           9.04,
           4.039999999999999,
           4.039999999999999,
           4.039999999999999,
           4.039999999999999,
           4.039999999999999,
           4.039999999999999,
           4.039999999999999,
           4.039999999999999,
           4.039999999999999,
           4.039999999999999,
           4.039999999999999,
           4.039999999999999,
           4.039999999999999,
           4.039999999999999,
           4.039999999999999,
           4.039999999999999,
           4.039999999999999,
           2.039999999999999,
           2.039999999999999,
           2.039999999999999,
           2.039999999999999,
           2.039999999999999,
           2.039999999999999,
           2.039999999999999,
           8.04,
           8.04,
           8.04,
           8.04,
           8.04,
           8.04,
           8.04,
           8.04,
           8.04,
           8.04,
           8.04,
           4.039999999999999,
           4.039999999999999,
           4.039999999999999,
           4.039999999999999,
           4.039999999999999,
           4.039999999999999,
           4.039999999999999,
           4.039999999999999,
           4.039999999999999,
           4.039999999999999,
           4.039999999999999,
           4.039999999999999,
           4.039999999999999,
           4.039999999999999,
           4.039999999999999,
           4.039999999999999,
           4.039999999999999,
           3.039999999999999,
           3.039999999999999,
           3.039999999999999,
           3.039999999999999,
           3.039999999999999,
           3.039999999999999,
           3.039999999999999,
           4.039999999999999,
           11,
           11,
           11,
           11,
           11,
           11,
           11,
           11,
           11,
           11,
           11,
           9,
           9,
           9,
           9,
           9,
           9,
           9,
           9,
           9,
           9,
           9,
           9,
           9,
           9,
           9,
           9,
           9,
           8,
           8,
           8,
           8,
           8,
           8,
           8,
           7,
           7,
           9,
           9,
           9,
           9,
           9,
           9,
           9,
           9,
           9,
           9,
           9,
           9,
           9,
           9,
           9,
           9,
           9,
           9,
           9,
           9,
           9,
           9,
           9,
           9,
           9,
           9,
           9,
           9,
           9,
           9,
           9,
           9,
           9,
           9,
           9,
           6,
           6,
           7.079999999999998,
           7.079999999999998,
           7.079999999999998,
           7.079999999999998,
           7.079999999999998,
           7.079999999999998,
           7.079999999999998,
           7.079999999999998,
           7.079999999999998,
           7.079999999999998,
           7.079999999999998,
           7.079999999999998,
           7.079999999999998,
           7.079999999999998,
           7.079999999999998,
           7.079999999999998,
           7.079999999999998,
           7.079999999999998,
           7.079999999999998,
           7.079999999999998,
           7.079999999999998,
           7.079999999999998,
           7.079999999999998,
           7.079999999999998,
           7.079999999999998,
           7.079999999999998,
           7.079999999999998,
           7.079999999999998,
           7.079999999999998,
           7.079999999999998,
           7.079999999999998,
           7.079999999999998,
           7.079999999999998,
           7.079999999999998,
           7.079999999999998,
           5.079999999999998,
           5.079999999999998,
           5.079999999999998,
           5,
           5,
           5,
           5,
           5,
           5,
           5,
           5,
           5,
           5,
           5,
           5,
           5,
           5,
           5,
           5,
           5,
           5,
           5,
           5,
           5,
           5,
           5,
           5,
           5,
           5,
           5,
           5,
           5,
           5,
           5,
           5,
           5,
           5,
           5,
           2,
           2,
           3,
           3,
           3,
           3,
           3,
           3,
           3,
           3,
           3,
           3,
           3,
           3,
           3,
           3,
           3,
           3,
           3,
           3,
           3,
           3,
           3,
           3,
           3,
           3,
           3,
           3,
           3,
           3,
           3,
           3,
           3,
           3,
           3,
           3,
           3,
           3,
           3,
           1,
           1,
           1,
           1,
           1,
           0.0799999999999983,
           0.0799999999999983,
           0.0799999999999983,
           0.0799999999999983,
           0.0799999999999983,
           0.0799999999999983,
           0.0799999999999983,
           0.0799999999999983,
           0.0799999999999983,
           0.0799999999999983,
           0.0799999999999983,
           0.0799999999999983,
           0.0799999999999983,
           0.0799999999999983,
           0.0799999999999983,
           0.0799999999999983,
           0.0799999999999983,
           0.0799999999999983,
           0.0799999999999983,
           0.0799999999999983,
           0.0799999999999983,
           0.0799999999999983,
           0.0799999999999983,
           0.0799999999999983,
           0.0799999999999983,
           0.0799999999999983,
           0.0799999999999983,
           0.0799999999999983,
           0.0799999999999983,
           0.0799999999999983,
           0.0799999999999983,
           0.0799999999999983,
           0.0799999999999983,
           0.0799999999999983,
           0.0799999999999983,
           1.0799999999999983,
           1.0799999999999983,
           1.0799999999999983,
           1.0799999999999983,
           1.0799999999999983,
           1.0799999999999983,
           0.2599999999999909,
           0.2599999999999909,
           0.2599999999999909,
           0.2599999999999909,
           0.2599999999999909,
           0.2599999999999909,
           0.2599999999999909,
           0.2599999999999909,
           0.2599999999999909,
           0.2599999999999909,
           0.2599999999999909,
           0.2599999999999909,
           0.2599999999999909,
           0.2599999999999909,
           0.2599999999999909,
           0.2599999999999909,
           0.2599999999999909,
           0.2599999999999909,
           0.2599999999999909,
           0.2599999999999909,
           0.2599999999999909,
           0.2599999999999909,
           0.2599999999999909,
           0.2599999999999909,
           0.2599999999999909,
           0.2599999999999909,
           0.2599999999999909,
           0.2599999999999909,
           0.2599999999999909,
           0.2599999999999909,
           0.2599999999999909,
           0.2599999999999909,
           0.2599999999999909,
           0.2599999999999909,
           0.2599999999999909,
           1.259999999999991,
           1.259999999999991,
           1.259999999999991,
           1.259999999999991,
           1.259999999999991,
           1.259999999999991,
           1.259999999999991,
           1.5300000000000011,
           1.5300000000000011,
           1.5300000000000011,
           1.5300000000000011,
           1.5300000000000011,
           1.5300000000000011,
           1.5300000000000011,
           1.5300000000000011,
           1.5300000000000011,
           1.5300000000000011,
           1.5300000000000011,
           1.5300000000000011,
           1.5300000000000011,
           1.5300000000000011,
           1.5300000000000011,
           1.5300000000000011,
           1.5300000000000011,
           1.5300000000000011,
           1.5300000000000011,
           1.5300000000000011,
           1.5300000000000011,
           1.5300000000000011,
           1.5300000000000011,
           1.5300000000000011,
           1.5300000000000011,
           1.5300000000000011,
           1.5300000000000011,
           1.5300000000000011,
           1.5300000000000011,
           1.5300000000000011,
           1.5300000000000011,
           1.5300000000000011,
           1.5300000000000011,
           1.5300000000000011,
           1.5300000000000011,
           1.5300000000000011,
           1.5300000000000011,
           1.5300000000000011,
           1.5300000000000011,
           1.5300000000000011,
           1.5300000000000011,
           1.5300000000000011,
           1.5300000000000011,
           1.3799999999999955,
           1.3799999999999955,
           1.3799999999999955,
           1.3799999999999955,
           1.3799999999999955,
           1.3799999999999955,
           1.3799999999999955,
           1.3799999999999955,
           1.3799999999999955,
           1.3799999999999955,
           1.3799999999999955,
           1.3799999999999955,
           1.3799999999999955,
           1.3799999999999955,
           1.3799999999999955,
           1.3799999999999955,
           1.3799999999999955,
           1.3799999999999955,
           1.3799999999999955,
           1.3799999999999955,
           1.3799999999999955,
           1.3799999999999955,
           1.3799999999999955,
           1.3799999999999955,
           1.3799999999999955,
           1.3799999999999955,
           1.3799999999999955,
           1.3799999999999955,
           1.3799999999999955,
           1.3799999999999955,
           1.3799999999999955,
           1.3799999999999955,
           1.3799999999999955,
           1.3799999999999955,
           1.3799999999999955,
           1.3799999999999955,
           1.3799999999999955,
           1.3799999999999955,
           1.3799999999999955,
           1.3799999999999955,
           1.3799999999999955,
           1.3799999999999955,
           1.0799999999999983,
           1.0799999999999983,
           1.0799999999999983,
           1.0799999999999983,
           1.0799999999999983,
           1.0799999999999983,
           1.0799999999999983,
           1.0799999999999983,
           1.0799999999999983,
           1.0799999999999983,
           1.0799999999999983,
           1.0799999999999983,
           1.0799999999999983,
           1.0799999999999983,
           1.0799999999999983,
           1.0799999999999983,
           1.0799999999999983,
           1.0799999999999983,
           1.0799999999999983,
           1.0799999999999983,
           1.0799999999999983,
           1.0799999999999983,
           1.0799999999999983,
           1.0799999999999983,
           1.0799999999999983,
           1.0799999999999983,
           1.0799999999999983,
           1.0799999999999983,
           1.0799999999999983,
           1.0799999999999983,
           1.0799999999999983,
           1.0799999999999983,
           1.0799999999999983,
           1.0799999999999983,
           1.0799999999999983,
           1.0799999999999983,
           1.0799999999999983,
           1.0799999999999983,
           1.0799999999999983,
           1.0799999999999983,
           1.0799999999999983,
           1.0799999999999983
          ],
          "coloraxis": "coloraxis",
          "symbol": "circle"
         },
         "mode": "markers",
         "name": "",
         "orientation": "v",
         "showlegend": false,
         "type": "scatter",
         "x": [
          0.40433256083333335,
          0.23770469194444444,
          1.4043325608333335,
          1.2377046919444443,
          0.9894420719444444,
          14.404332560833334,
          14.237704691944444,
          13.989442071944444,
          12.738026605555556,
          12.654555516944443,
          12.48785018388889,
          12.32090226861111,
          12.23787400888889,
          12.15455935388889,
          11.905624260277778,
          10.154542825555556,
          8.571212727499999,
          9.192012053055556,
          9.398578243055555,
          9.122786354999999,
          9.082991290277779,
          8.904603061944444,
          8.727255199444445,
          8.694784378055555,
          8.671887580555556,
          8.48790026861111,
          8.219995573611111,
          8.154513038055555,
          8.07116575,
          7.988921400277778,
          7.9056208352777775,
          7.822229465,
          7.737438610555556,
          6.992861859166667,
          5.9933272111111116,
          4.993743924444444,
          3.9941894522222223,
          2.9941425363888885,
          1.9895257377777777,
          0.994167665,
          15.404332560833334,
          15.237704691944444,
          14.989442071944444,
          13.738026605555556,
          13.654555516944443,
          13.48785018388889,
          13.32090226861111,
          13.23787400888889,
          13.15455935388889,
          12.905624260277778,
          11.154542825555556,
          9.571212727499999,
          9.487900268611112,
          10.192012053055556,
          10.398578243055555,
          10.122786354999999,
          10.082991290277777,
          9.904603061944444,
          9.727255199444445,
          9.694784378055555,
          9.671887580555556,
          9.21999557361111,
          9.154513038055557,
          9.07116575,
          8.988921400277778,
          8.905620835277778,
          8.822229465,
          8.737438610555555,
          7.992861859166667,
          6.9933272111111116,
          5.993743924444444,
          4.994189452222223,
          3.9941425363888885,
          2.9895257377777775,
          1.994167665,
          0.9937900819444445,
          16.404332560833335,
          16.237704691944444,
          15.989442071944444,
          14.738026605555556,
          14.654555516944443,
          14.48785018388889,
          14.32090226861111,
          14.23787400888889,
          14.15455935388889,
          13.905624260277778,
          12.154542825555556,
          10.571212727499999,
          10.487900268611112,
          11.192012053055556,
          11.398578243055555,
          11.122786354999999,
          11.082991290277777,
          10.904603061944444,
          10.727255199444445,
          10.694784378055555,
          10.671887580555556,
          10.21999557361111,
          10.154513038055557,
          10.07116575,
          9.988921400277777,
          9.905620835277778,
          9.822229465,
          9.737438610555555,
          8.992861859166666,
          7.9933272111111116,
          6.993743924444444,
          5.994189452222223,
          4.994142536388889,
          3.9895257377777775,
          2.994167665,
          1.9937900819444445,
          0.9941085055555556,
          17.404332560833335,
          17.237704691944444,
          16.989442071944442,
          15.738026605555556,
          15.654555516944443,
          15.48785018388889,
          15.32090226861111,
          15.23787400888889,
          15.15455935388889,
          14.905624260277778,
          13.154542825555556,
          11.571212727499999,
          11.487900268611112,
          12.192012053055556,
          12.398578243055555,
          12.122786354999999,
          12.082991290277777,
          11.904603061944444,
          11.727255199444445,
          11.694784378055555,
          11.671887580555556,
          11.21999557361111,
          11.154513038055557,
          11.07116575,
          10.988921400277777,
          10.905620835277778,
          10.822229465,
          10.737438610555555,
          9.992861859166666,
          8.993327211111112,
          7.993743924444444,
          6.994189452222223,
          5.994142536388889,
          4.989525737777778,
          3.994167665,
          2.9937900819444443,
          1.9941085055555554,
          18.404332560833335,
          18.237704691944444,
          17.989442071944442,
          16.738026605555554,
          16.654555516944445,
          16.487850183888888,
          16.32090226861111,
          16.237874008888888,
          16.15455935388889,
          15.905624260277778,
          14.154542825555556,
          12.571212727499999,
          12.487900268611112,
          13.192012053055556,
          13.398578243055555,
          13.122786354999999,
          13.082991290277777,
          12.904603061944444,
          12.727255199444445,
          12.694784378055555,
          12.671887580555556,
          12.21999557361111,
          12.154513038055557,
          12.07116575,
          11.988921400277777,
          11.905620835277778,
          11.822229465,
          11.737438610555555,
          10.992861859166666,
          9.99332721111111,
          8.993743924444445,
          7.994189452222223,
          6.994142536388889,
          5.989525737777778,
          4.994167665000001,
          3.9937900819444443,
          2.9941085055555554,
          0.9936836952777779,
          19.404332560833335,
          19.237704691944444,
          18.989442071944442,
          17.738026605555554,
          17.654555516944445,
          17.487850183888888,
          17.32090226861111,
          17.237874008888888,
          17.15455935388889,
          16.90562426027778,
          15.154542825555556,
          13.571212727499999,
          13.487900268611112,
          14.192012053055556,
          14.398578243055555,
          14.122786354999999,
          14.082991290277777,
          13.904603061944444,
          13.727255199444445,
          13.694784378055555,
          13.671887580555556,
          13.21999557361111,
          13.154513038055557,
          13.07116575,
          12.988921400277777,
          12.905620835277778,
          12.822229465,
          12.737438610555555,
          11.992861859166666,
          10.99332721111111,
          9.993743924444445,
          8.994189452222223,
          7.994142536388889,
          6.989525737777778,
          5.994167665000001,
          4.993790081944444,
          3.9941085055555554,
          1.993683695277778,
          0.9934895811111111,
          20.404332560833335,
          20.237704691944444,
          19.989442071944442,
          18.738026605555557,
          18.654555516944445,
          18.487850183888888,
          18.32090226861111,
          18.23787400888889,
          18.15455935388889,
          17.90562426027778,
          16.154542825555556,
          14.571212727499999,
          14.487900268611112,
          15.192012053055556,
          15.398578243055555,
          15.122786354999999,
          15.082991290277777,
          14.904603061944444,
          14.727255199444445,
          14.694784378055555,
          14.671887580555556,
          14.21999557361111,
          14.154513038055557,
          14.07116575,
          13.988921400277777,
          13.905620835277778,
          13.822229465,
          13.737438610555555,
          12.992861859166666,
          11.99332721111111,
          10.993743924444445,
          9.994189452222221,
          8.994142536388889,
          7.989525737777778,
          6.994167665000001,
          5.993790081944444,
          4.994108505555555,
          2.9936836952777774,
          1.993489581111111,
          0.9933211041666666,
          21.404332560833335,
          21.237704691944444,
          20.989442071944442,
          19.738026605555557,
          19.654555516944445,
          19.487850183888888,
          19.32090226861111,
          19.23787400888889,
          19.15455935388889,
          18.905624260277776,
          17.154542825555556,
          15.571212727499999,
          15.487900268611112,
          16.192012053055556,
          16.398578243055553,
          16.122786355,
          16.08299129027778,
          15.904603061944444,
          15.727255199444445,
          15.694784378055555,
          15.671887580555556,
          15.21999557361111,
          15.154513038055557,
          15.07116575,
          14.988921400277777,
          14.905620835277778,
          14.822229465,
          14.737438610555555,
          13.992861859166666,
          12.99332721111111,
          11.993743924444445,
          10.994189452222221,
          9.994142536388889,
          8.989525737777779,
          7.994167665000001,
          6.993790081944444,
          5.994108505555555,
          3.9936836952777774,
          2.993489581111111,
          1.9933211041666665,
          0.9919762222222221,
          22.404332560833335,
          22.237704691944444,
          21.989442071944442,
          20.738026605555557,
          20.654555516944445,
          20.487850183888888,
          20.32090226861111,
          20.23787400888889,
          20.15455935388889,
          19.905624260277776,
          18.154542825555556,
          16.5712127275,
          16.48790026861111,
          17.192012053055556,
          17.398578243055553,
          17.122786355,
          17.08299129027778,
          16.904603061944442,
          16.727255199444443,
          16.694784378055555,
          16.671887580555556,
          16.21999557361111,
          16.154513038055555,
          16.07116575,
          15.988921400277777,
          15.905620835277778,
          15.822229465,
          15.737438610555555,
          14.992861859166666,
          13.99332721111111,
          12.993743924444445,
          11.994189452222221,
          10.994142536388889,
          9.989525737777777,
          8.994167665,
          7.993790081944444,
          6.994108505555555,
          4.9936836952777774,
          3.993489581111111,
          2.9933211041666667,
          1.9919762222222224,
          0.9934348816666666,
          23.404332560833335,
          23.237704691944444,
          22.989442071944442,
          21.738026605555557,
          21.654555516944445,
          21.487850183888888,
          21.32090226861111,
          21.23787400888889,
          21.15455935388889,
          20.905624260277776,
          19.154542825555556,
          17.5712127275,
          17.48790026861111,
          18.192012053055556,
          18.398578243055553,
          18.122786355,
          18.08299129027778,
          17.904603061944442,
          17.727255199444443,
          17.694784378055555,
          17.671887580555556,
          17.21999557361111,
          17.154513038055555,
          17.07116575,
          16.98892140027778,
          16.90562083527778,
          16.822229465,
          16.737438610555557,
          15.992861859166666,
          14.99332721111111,
          13.993743924444445,
          12.994189452222221,
          11.994142536388889,
          10.989525737777777,
          9.994167665,
          8.993790081944445,
          7.994108505555555,
          5.9936836952777774,
          4.9934895811111115,
          3.9933211041666667,
          2.991976222222222,
          1.9934348816666667,
          0.9928819405555555,
          23.989442071944442,
          22.738026605555557,
          22.654555516944445,
          22.487850183888888,
          22.32090226861111,
          22.23787400888889,
          22.15455935388889,
          21.905624260277776,
          20.154542825555556,
          18.5712127275,
          18.48790026861111,
          19.192012053055553,
          19.398578243055553,
          19.122786355000002,
          19.08299129027778,
          18.904603061944442,
          18.727255199444443,
          18.694784378055555,
          18.671887580555556,
          18.21999557361111,
          18.154513038055555,
          18.07116575,
          17.98892140027778,
          17.90562083527778,
          17.822229465,
          17.737438610555557,
          16.992861859166666,
          15.99332721111111,
          14.993743924444445,
          13.994189452222221,
          12.994142536388889,
          11.989525737777777,
          10.994167665,
          9.993790081944445,
          8.994108505555555,
          6.9936836952777774,
          5.9934895811111115,
          4.993321104166667,
          3.991976222222222,
          2.9934348816666665,
          1.9928819405555556,
          0.9889330233333333,
          23.738026605555557,
          23.654555516944445,
          23.487850183888888,
          23.32090226861111,
          23.23787400888889,
          23.15455935388889,
          22.905624260277776,
          21.154542825555556,
          19.5712127275,
          19.48790026861111,
          20.192012053055553,
          20.398578243055553,
          20.122786355000002,
          20.08299129027778,
          19.904603061944442,
          19.727255199444443,
          19.694784378055555,
          19.671887580555556,
          19.21999557361111,
          19.154513038055555,
          19.07116575,
          18.98892140027778,
          18.905620835277777,
          18.822229465,
          18.737438610555554,
          17.992861859166666,
          16.99332721111111,
          15.993743924444445,
          14.994189452222221,
          13.994142536388889,
          12.989525737777777,
          11.994167665,
          10.993790081944445,
          9.994108505555555,
          7.9936836952777774,
          6.9934895811111115,
          5.993321104166667,
          4.991976222222222,
          3.9934348816666665,
          2.992881940555556,
          1.9889330233333335,
          0.9933875513888889
         ],
         "xaxis": "x",
         "y": [
          1.0200000000000031,
          1.0200000000000031,
          0.020000000000003126,
          0.020000000000003126,
          0.020000000000003126,
          -9.04,
          -9.04,
          -9.04,
          -9.04,
          -9.04,
          -9.04,
          -9.04,
          -9.04,
          -9.04,
          -9.04,
          -9.04,
          -4.039999999999999,
          -4.039999999999999,
          -4.039999999999999,
          -4.039999999999999,
          -4.039999999999999,
          -4.039999999999999,
          -4.039999999999999,
          -4.039999999999999,
          -4.039999999999999,
          -4.039999999999999,
          -4.039999999999999,
          -4.039999999999999,
          -4.039999999999999,
          -4.039999999999999,
          -4.039999999999999,
          -4.039999999999999,
          -4.039999999999999,
          -2.039999999999999,
          -2.039999999999999,
          -2.039999999999999,
          -2.039999999999999,
          -2.039999999999999,
          -2.039999999999999,
          -2.039999999999999,
          -8.04,
          -8.04,
          -8.04,
          -8.04,
          -8.04,
          -8.04,
          -8.04,
          -8.04,
          -8.04,
          -8.04,
          -8.04,
          -4.039999999999999,
          -4.039999999999999,
          -4.039999999999999,
          -4.039999999999999,
          -4.039999999999999,
          -4.039999999999999,
          -4.039999999999999,
          -4.039999999999999,
          -4.039999999999999,
          -4.039999999999999,
          -4.039999999999999,
          -4.039999999999999,
          -4.039999999999999,
          -4.039999999999999,
          -4.039999999999999,
          -4.039999999999999,
          -4.039999999999999,
          -3.039999999999999,
          -3.039999999999999,
          -3.039999999999999,
          -3.039999999999999,
          -3.039999999999999,
          -3.039999999999999,
          -3.039999999999999,
          -4.039999999999999,
          -11,
          -11,
          -11,
          -11,
          -11,
          -11,
          -11,
          -11,
          -11,
          -11,
          -11,
          -9,
          -9,
          -9,
          -9,
          -9,
          -9,
          -9,
          -9,
          -9,
          -9,
          -9,
          -9,
          -9,
          -9,
          -9,
          -9,
          -9,
          -8,
          -8,
          -8,
          -8,
          -8,
          -8,
          -8,
          -7,
          -7,
          -9,
          -9,
          -9,
          -9,
          -9,
          -9,
          -9,
          -9,
          -9,
          -9,
          -9,
          -9,
          -9,
          -9,
          -9,
          -9,
          -9,
          -9,
          -9,
          -9,
          -9,
          -9,
          -9,
          -9,
          -9,
          -9,
          -9,
          -9,
          -9,
          -9,
          -9,
          -9,
          -9,
          -9,
          -9,
          -6,
          -6,
          -7.079999999999998,
          -7.079999999999998,
          -7.079999999999998,
          -7.079999999999998,
          -7.079999999999998,
          -7.079999999999998,
          -7.079999999999998,
          -7.079999999999998,
          -7.079999999999998,
          -7.079999999999998,
          -7.079999999999998,
          -7.079999999999998,
          -7.079999999999998,
          -7.079999999999998,
          -7.079999999999998,
          -7.079999999999998,
          -7.079999999999998,
          -7.079999999999998,
          -7.079999999999998,
          -7.079999999999998,
          -7.079999999999998,
          -7.079999999999998,
          -7.079999999999998,
          -7.079999999999998,
          -7.079999999999998,
          -7.079999999999998,
          -7.079999999999998,
          -7.079999999999998,
          -7.079999999999998,
          -7.079999999999998,
          -7.079999999999998,
          -7.079999999999998,
          -7.079999999999998,
          -7.079999999999998,
          -7.079999999999998,
          -5.079999999999998,
          -5.079999999999998,
          -5.079999999999998,
          -5,
          -5,
          -5,
          -5,
          -5,
          -5,
          -5,
          -5,
          -5,
          -5,
          -5,
          -5,
          -5,
          -5,
          -5,
          -5,
          -5,
          -5,
          -5,
          -5,
          -5,
          -5,
          -5,
          -5,
          -5,
          -5,
          -5,
          -5,
          -5,
          -5,
          -5,
          -5,
          -5,
          -5,
          -5,
          -2,
          -2,
          -3,
          -3,
          -3,
          -3,
          -3,
          -3,
          -3,
          -3,
          -3,
          -3,
          -3,
          -3,
          -3,
          -3,
          -3,
          -3,
          -3,
          -3,
          -3,
          -3,
          -3,
          -3,
          -3,
          -3,
          -3,
          -3,
          -3,
          -3,
          -3,
          -3,
          -3,
          -3,
          -3,
          -3,
          -3,
          -3,
          -3,
          -1,
          -1,
          -1,
          -1,
          -1,
          0.0799999999999983,
          0.0799999999999983,
          0.0799999999999983,
          0.0799999999999983,
          0.0799999999999983,
          0.0799999999999983,
          0.0799999999999983,
          0.0799999999999983,
          0.0799999999999983,
          0.0799999999999983,
          0.0799999999999983,
          0.0799999999999983,
          0.0799999999999983,
          0.0799999999999983,
          0.0799999999999983,
          0.0799999999999983,
          0.0799999999999983,
          0.0799999999999983,
          0.0799999999999983,
          0.0799999999999983,
          0.0799999999999983,
          0.0799999999999983,
          0.0799999999999983,
          0.0799999999999983,
          0.0799999999999983,
          0.0799999999999983,
          0.0799999999999983,
          0.0799999999999983,
          0.0799999999999983,
          0.0799999999999983,
          0.0799999999999983,
          0.0799999999999983,
          0.0799999999999983,
          0.0799999999999983,
          0.0799999999999983,
          1.0799999999999983,
          1.0799999999999983,
          1.0799999999999983,
          1.0799999999999983,
          1.0799999999999983,
          1.0799999999999983,
          0.2599999999999909,
          0.2599999999999909,
          0.2599999999999909,
          0.2599999999999909,
          0.2599999999999909,
          0.2599999999999909,
          0.2599999999999909,
          0.2599999999999909,
          0.2599999999999909,
          0.2599999999999909,
          0.2599999999999909,
          0.2599999999999909,
          0.2599999999999909,
          0.2599999999999909,
          0.2599999999999909,
          0.2599999999999909,
          0.2599999999999909,
          0.2599999999999909,
          0.2599999999999909,
          0.2599999999999909,
          0.2599999999999909,
          0.2599999999999909,
          0.2599999999999909,
          0.2599999999999909,
          0.2599999999999909,
          0.2599999999999909,
          0.2599999999999909,
          0.2599999999999909,
          0.2599999999999909,
          0.2599999999999909,
          0.2599999999999909,
          0.2599999999999909,
          0.2599999999999909,
          0.2599999999999909,
          0.2599999999999909,
          1.259999999999991,
          1.259999999999991,
          1.259999999999991,
          1.259999999999991,
          1.259999999999991,
          1.259999999999991,
          1.259999999999991,
          1.5300000000000011,
          1.5300000000000011,
          1.5300000000000011,
          1.5300000000000011,
          1.5300000000000011,
          1.5300000000000011,
          1.5300000000000011,
          1.5300000000000011,
          1.5300000000000011,
          1.5300000000000011,
          1.5300000000000011,
          1.5300000000000011,
          1.5300000000000011,
          1.5300000000000011,
          1.5300000000000011,
          1.5300000000000011,
          1.5300000000000011,
          1.5300000000000011,
          1.5300000000000011,
          1.5300000000000011,
          1.5300000000000011,
          1.5300000000000011,
          1.5300000000000011,
          1.5300000000000011,
          1.5300000000000011,
          1.5300000000000011,
          1.5300000000000011,
          1.5300000000000011,
          1.5300000000000011,
          1.5300000000000011,
          1.5300000000000011,
          1.5300000000000011,
          1.5300000000000011,
          1.5300000000000011,
          1.5300000000000011,
          1.5300000000000011,
          1.5300000000000011,
          1.5300000000000011,
          1.5300000000000011,
          1.5300000000000011,
          1.5300000000000011,
          1.5300000000000011,
          1.5300000000000011,
          1.3799999999999955,
          1.3799999999999955,
          1.3799999999999955,
          1.3799999999999955,
          1.3799999999999955,
          1.3799999999999955,
          1.3799999999999955,
          1.3799999999999955,
          1.3799999999999955,
          1.3799999999999955,
          1.3799999999999955,
          1.3799999999999955,
          1.3799999999999955,
          1.3799999999999955,
          1.3799999999999955,
          1.3799999999999955,
          1.3799999999999955,
          1.3799999999999955,
          1.3799999999999955,
          1.3799999999999955,
          1.3799999999999955,
          1.3799999999999955,
          1.3799999999999955,
          1.3799999999999955,
          1.3799999999999955,
          1.3799999999999955,
          1.3799999999999955,
          1.3799999999999955,
          1.3799999999999955,
          1.3799999999999955,
          1.3799999999999955,
          1.3799999999999955,
          1.3799999999999955,
          1.3799999999999955,
          1.3799999999999955,
          1.3799999999999955,
          1.3799999999999955,
          1.3799999999999955,
          1.3799999999999955,
          1.3799999999999955,
          1.3799999999999955,
          1.3799999999999955,
          1.0799999999999983,
          1.0799999999999983,
          1.0799999999999983,
          1.0799999999999983,
          1.0799999999999983,
          1.0799999999999983,
          1.0799999999999983,
          1.0799999999999983,
          1.0799999999999983,
          1.0799999999999983,
          1.0799999999999983,
          1.0799999999999983,
          1.0799999999999983,
          1.0799999999999983,
          1.0799999999999983,
          1.0799999999999983,
          1.0799999999999983,
          1.0799999999999983,
          1.0799999999999983,
          1.0799999999999983,
          1.0799999999999983,
          1.0799999999999983,
          1.0799999999999983,
          1.0799999999999983,
          1.0799999999999983,
          1.0799999999999983,
          1.0799999999999983,
          1.0799999999999983,
          1.0799999999999983,
          1.0799999999999983,
          1.0799999999999983,
          1.0799999999999983,
          1.0799999999999983,
          1.0799999999999983,
          1.0799999999999983,
          1.0799999999999983,
          1.0799999999999983,
          1.0799999999999983,
          1.0799999999999983,
          1.0799999999999983,
          1.0799999999999983,
          1.0799999999999983
         ],
         "yaxis": "y"
        }
       ],
       "layout": {
        "coloraxis": {
         "colorbar": {
          "title": {
           "text": "Absolute Error (°F)"
          }
         },
         "colorscale": [
          [
           0,
           "rgb(49,54,149)"
          ],
          [
           0.1,
           "rgb(69,117,180)"
          ],
          [
           0.2,
           "rgb(116,173,209)"
          ],
          [
           0.3,
           "rgb(171,217,233)"
          ],
          [
           0.4,
           "rgb(224,243,248)"
          ],
          [
           0.5,
           "rgb(255,255,191)"
          ],
          [
           0.6,
           "rgb(254,224,144)"
          ],
          [
           0.7,
           "rgb(253,174,97)"
          ],
          [
           0.8,
           "rgb(244,109,67)"
          ],
          [
           0.9,
           "rgb(215,48,39)"
          ],
          [
           1,
           "rgb(165,0,38)"
          ]
         ]
        },
        "height": 600,
        "hovermode": "closest",
        "legend": {
         "tracegroupgap": 0
        },
        "shapes": [
         {
          "line": {
           "color": "red",
           "dash": "dash"
          },
          "type": "line",
          "x0": 0,
          "x1": 1,
          "xref": "x domain",
          "y0": 0,
          "y1": 0,
          "yref": "y"
         }
        ],
        "showlegend": true,
        "template": {
         "data": {
          "bar": [
           {
            "error_x": {
             "color": "#2a3f5f"
            },
            "error_y": {
             "color": "#2a3f5f"
            },
            "marker": {
             "line": {
              "color": "#E5ECF6",
              "width": 0.5
             },
             "pattern": {
              "fillmode": "overlay",
              "size": 10,
              "solidity": 0.2
             }
            },
            "type": "bar"
           }
          ],
          "barpolar": [
           {
            "marker": {
             "line": {
              "color": "#E5ECF6",
              "width": 0.5
             },
             "pattern": {
              "fillmode": "overlay",
              "size": 10,
              "solidity": 0.2
             }
            },
            "type": "barpolar"
           }
          ],
          "carpet": [
           {
            "aaxis": {
             "endlinecolor": "#2a3f5f",
             "gridcolor": "white",
             "linecolor": "white",
             "minorgridcolor": "white",
             "startlinecolor": "#2a3f5f"
            },
            "baxis": {
             "endlinecolor": "#2a3f5f",
             "gridcolor": "white",
             "linecolor": "white",
             "minorgridcolor": "white",
             "startlinecolor": "#2a3f5f"
            },
            "type": "carpet"
           }
          ],
          "choropleth": [
           {
            "colorbar": {
             "outlinewidth": 0,
             "ticks": ""
            },
            "type": "choropleth"
           }
          ],
          "contour": [
           {
            "colorbar": {
             "outlinewidth": 0,
             "ticks": ""
            },
            "colorscale": [
             [
              0,
              "#0d0887"
             ],
             [
              0.1111111111111111,
              "#46039f"
             ],
             [
              0.2222222222222222,
              "#7201a8"
             ],
             [
              0.3333333333333333,
              "#9c179e"
             ],
             [
              0.4444444444444444,
              "#bd3786"
             ],
             [
              0.5555555555555556,
              "#d8576b"
             ],
             [
              0.6666666666666666,
              "#ed7953"
             ],
             [
              0.7777777777777778,
              "#fb9f3a"
             ],
             [
              0.8888888888888888,
              "#fdca26"
             ],
             [
              1,
              "#f0f921"
             ]
            ],
            "type": "contour"
           }
          ],
          "contourcarpet": [
           {
            "colorbar": {
             "outlinewidth": 0,
             "ticks": ""
            },
            "type": "contourcarpet"
           }
          ],
          "heatmap": [
           {
            "colorbar": {
             "outlinewidth": 0,
             "ticks": ""
            },
            "colorscale": [
             [
              0,
              "#0d0887"
             ],
             [
              0.1111111111111111,
              "#46039f"
             ],
             [
              0.2222222222222222,
              "#7201a8"
             ],
             [
              0.3333333333333333,
              "#9c179e"
             ],
             [
              0.4444444444444444,
              "#bd3786"
             ],
             [
              0.5555555555555556,
              "#d8576b"
             ],
             [
              0.6666666666666666,
              "#ed7953"
             ],
             [
              0.7777777777777778,
              "#fb9f3a"
             ],
             [
              0.8888888888888888,
              "#fdca26"
             ],
             [
              1,
              "#f0f921"
             ]
            ],
            "type": "heatmap"
           }
          ],
          "heatmapgl": [
           {
            "colorbar": {
             "outlinewidth": 0,
             "ticks": ""
            },
            "colorscale": [
             [
              0,
              "#0d0887"
             ],
             [
              0.1111111111111111,
              "#46039f"
             ],
             [
              0.2222222222222222,
              "#7201a8"
             ],
             [
              0.3333333333333333,
              "#9c179e"
             ],
             [
              0.4444444444444444,
              "#bd3786"
             ],
             [
              0.5555555555555556,
              "#d8576b"
             ],
             [
              0.6666666666666666,
              "#ed7953"
             ],
             [
              0.7777777777777778,
              "#fb9f3a"
             ],
             [
              0.8888888888888888,
              "#fdca26"
             ],
             [
              1,
              "#f0f921"
             ]
            ],
            "type": "heatmapgl"
           }
          ],
          "histogram": [
           {
            "marker": {
             "pattern": {
              "fillmode": "overlay",
              "size": 10,
              "solidity": 0.2
             }
            },
            "type": "histogram"
           }
          ],
          "histogram2d": [
           {
            "colorbar": {
             "outlinewidth": 0,
             "ticks": ""
            },
            "colorscale": [
             [
              0,
              "#0d0887"
             ],
             [
              0.1111111111111111,
              "#46039f"
             ],
             [
              0.2222222222222222,
              "#7201a8"
             ],
             [
              0.3333333333333333,
              "#9c179e"
             ],
             [
              0.4444444444444444,
              "#bd3786"
             ],
             [
              0.5555555555555556,
              "#d8576b"
             ],
             [
              0.6666666666666666,
              "#ed7953"
             ],
             [
              0.7777777777777778,
              "#fb9f3a"
             ],
             [
              0.8888888888888888,
              "#fdca26"
             ],
             [
              1,
              "#f0f921"
             ]
            ],
            "type": "histogram2d"
           }
          ],
          "histogram2dcontour": [
           {
            "colorbar": {
             "outlinewidth": 0,
             "ticks": ""
            },
            "colorscale": [
             [
              0,
              "#0d0887"
             ],
             [
              0.1111111111111111,
              "#46039f"
             ],
             [
              0.2222222222222222,
              "#7201a8"
             ],
             [
              0.3333333333333333,
              "#9c179e"
             ],
             [
              0.4444444444444444,
              "#bd3786"
             ],
             [
              0.5555555555555556,
              "#d8576b"
             ],
             [
              0.6666666666666666,
              "#ed7953"
             ],
             [
              0.7777777777777778,
              "#fb9f3a"
             ],
             [
              0.8888888888888888,
              "#fdca26"
             ],
             [
              1,
              "#f0f921"
             ]
            ],
            "type": "histogram2dcontour"
           }
          ],
          "mesh3d": [
           {
            "colorbar": {
             "outlinewidth": 0,
             "ticks": ""
            },
            "type": "mesh3d"
           }
          ],
          "parcoords": [
           {
            "line": {
             "colorbar": {
              "outlinewidth": 0,
              "ticks": ""
             }
            },
            "type": "parcoords"
           }
          ],
          "pie": [
           {
            "automargin": true,
            "type": "pie"
           }
          ],
          "scatter": [
           {
            "fillpattern": {
             "fillmode": "overlay",
             "size": 10,
             "solidity": 0.2
            },
            "type": "scatter"
           }
          ],
          "scatter3d": [
           {
            "line": {
             "colorbar": {
              "outlinewidth": 0,
              "ticks": ""
             }
            },
            "marker": {
             "colorbar": {
              "outlinewidth": 0,
              "ticks": ""
             }
            },
            "type": "scatter3d"
           }
          ],
          "scattercarpet": [
           {
            "marker": {
             "colorbar": {
              "outlinewidth": 0,
              "ticks": ""
             }
            },
            "type": "scattercarpet"
           }
          ],
          "scattergeo": [
           {
            "marker": {
             "colorbar": {
              "outlinewidth": 0,
              "ticks": ""
             }
            },
            "type": "scattergeo"
           }
          ],
          "scattergl": [
           {
            "marker": {
             "colorbar": {
              "outlinewidth": 0,
              "ticks": ""
             }
            },
            "type": "scattergl"
           }
          ],
          "scattermapbox": [
           {
            "marker": {
             "colorbar": {
              "outlinewidth": 0,
              "ticks": ""
             }
            },
            "type": "scattermapbox"
           }
          ],
          "scatterpolar": [
           {
            "marker": {
             "colorbar": {
              "outlinewidth": 0,
              "ticks": ""
             }
            },
            "type": "scatterpolar"
           }
          ],
          "scatterpolargl": [
           {
            "marker": {
             "colorbar": {
              "outlinewidth": 0,
              "ticks": ""
             }
            },
            "type": "scatterpolargl"
           }
          ],
          "scatterternary": [
           {
            "marker": {
             "colorbar": {
              "outlinewidth": 0,
              "ticks": ""
             }
            },
            "type": "scatterternary"
           }
          ],
          "surface": [
           {
            "colorbar": {
             "outlinewidth": 0,
             "ticks": ""
            },
            "colorscale": [
             [
              0,
              "#0d0887"
             ],
             [
              0.1111111111111111,
              "#46039f"
             ],
             [
              0.2222222222222222,
              "#7201a8"
             ],
             [
              0.3333333333333333,
              "#9c179e"
             ],
             [
              0.4444444444444444,
              "#bd3786"
             ],
             [
              0.5555555555555556,
              "#d8576b"
             ],
             [
              0.6666666666666666,
              "#ed7953"
             ],
             [
              0.7777777777777778,
              "#fb9f3a"
             ],
             [
              0.8888888888888888,
              "#fdca26"
             ],
             [
              1,
              "#f0f921"
             ]
            ],
            "type": "surface"
           }
          ],
          "table": [
           {
            "cells": {
             "fill": {
              "color": "#EBF0F8"
             },
             "line": {
              "color": "white"
             }
            },
            "header": {
             "fill": {
              "color": "#C8D4E3"
             },
             "line": {
              "color": "white"
             }
            },
            "type": "table"
           }
          ]
         },
         "layout": {
          "annotationdefaults": {
           "arrowcolor": "#2a3f5f",
           "arrowhead": 0,
           "arrowwidth": 1
          },
          "autotypenumbers": "strict",
          "coloraxis": {
           "colorbar": {
            "outlinewidth": 0,
            "ticks": ""
           }
          },
          "colorscale": {
           "diverging": [
            [
             0,
             "#8e0152"
            ],
            [
             0.1,
             "#c51b7d"
            ],
            [
             0.2,
             "#de77ae"
            ],
            [
             0.3,
             "#f1b6da"
            ],
            [
             0.4,
             "#fde0ef"
            ],
            [
             0.5,
             "#f7f7f7"
            ],
            [
             0.6,
             "#e6f5d0"
            ],
            [
             0.7,
             "#b8e186"
            ],
            [
             0.8,
             "#7fbc41"
            ],
            [
             0.9,
             "#4d9221"
            ],
            [
             1,
             "#276419"
            ]
           ],
           "sequential": [
            [
             0,
             "#0d0887"
            ],
            [
             0.1111111111111111,
             "#46039f"
            ],
            [
             0.2222222222222222,
             "#7201a8"
            ],
            [
             0.3333333333333333,
             "#9c179e"
            ],
            [
             0.4444444444444444,
             "#bd3786"
            ],
            [
             0.5555555555555556,
             "#d8576b"
            ],
            [
             0.6666666666666666,
             "#ed7953"
            ],
            [
             0.7777777777777778,
             "#fb9f3a"
            ],
            [
             0.8888888888888888,
             "#fdca26"
            ],
            [
             1,
             "#f0f921"
            ]
           ],
           "sequentialminus": [
            [
             0,
             "#0d0887"
            ],
            [
             0.1111111111111111,
             "#46039f"
            ],
            [
             0.2222222222222222,
             "#7201a8"
            ],
            [
             0.3333333333333333,
             "#9c179e"
            ],
            [
             0.4444444444444444,
             "#bd3786"
            ],
            [
             0.5555555555555556,
             "#d8576b"
            ],
            [
             0.6666666666666666,
             "#ed7953"
            ],
            [
             0.7777777777777778,
             "#fb9f3a"
            ],
            [
             0.8888888888888888,
             "#fdca26"
            ],
            [
             1,
             "#f0f921"
            ]
           ]
          },
          "colorway": [
           "#636efa",
           "#EF553B",
           "#00cc96",
           "#ab63fa",
           "#FFA15A",
           "#19d3f3",
           "#FF6692",
           "#B6E880",
           "#FF97FF",
           "#FECB52"
          ],
          "font": {
           "color": "#2a3f5f"
          },
          "geo": {
           "bgcolor": "white",
           "lakecolor": "white",
           "landcolor": "#E5ECF6",
           "showlakes": true,
           "showland": true,
           "subunitcolor": "white"
          },
          "hoverlabel": {
           "align": "left"
          },
          "hovermode": "closest",
          "mapbox": {
           "style": "light"
          },
          "paper_bgcolor": "white",
          "plot_bgcolor": "#E5ECF6",
          "polar": {
           "angularaxis": {
            "gridcolor": "white",
            "linecolor": "white",
            "ticks": ""
           },
           "bgcolor": "#E5ECF6",
           "radialaxis": {
            "gridcolor": "white",
            "linecolor": "white",
            "ticks": ""
           }
          },
          "scene": {
           "xaxis": {
            "backgroundcolor": "#E5ECF6",
            "gridcolor": "white",
            "gridwidth": 2,
            "linecolor": "white",
            "showbackground": true,
            "ticks": "",
            "zerolinecolor": "white"
           },
           "yaxis": {
            "backgroundcolor": "#E5ECF6",
            "gridcolor": "white",
            "gridwidth": 2,
            "linecolor": "white",
            "showbackground": true,
            "ticks": "",
            "zerolinecolor": "white"
           },
           "zaxis": {
            "backgroundcolor": "#E5ECF6",
            "gridcolor": "white",
            "gridwidth": 2,
            "linecolor": "white",
            "showbackground": true,
            "ticks": "",
            "zerolinecolor": "white"
           }
          },
          "shapedefaults": {
           "line": {
            "color": "#2a3f5f"
           }
          },
          "ternary": {
           "aaxis": {
            "gridcolor": "white",
            "linecolor": "white",
            "ticks": ""
           },
           "baxis": {
            "gridcolor": "white",
            "linecolor": "white",
            "ticks": ""
           },
           "bgcolor": "#E5ECF6",
           "caxis": {
            "gridcolor": "white",
            "linecolor": "white",
            "ticks": ""
           }
          },
          "title": {
           "x": 0.05
          },
          "xaxis": {
           "automargin": true,
           "gridcolor": "white",
           "linecolor": "white",
           "ticks": "",
           "title": {
            "standoff": 15
           },
           "zerolinecolor": "white",
           "zerolinewidth": 2
          },
          "yaxis": {
           "automargin": true,
           "gridcolor": "white",
           "linecolor": "white",
           "ticks": "",
           "title": {
            "standoff": 15
           },
           "zerolinecolor": "white",
           "zerolinewidth": 2
          }
         }
        },
        "title": {
         "text": "Forecast Error vs Forecast Lead Time"
        },
        "xaxis": {
         "anchor": "y",
         "domain": [
          0,
          1
         ],
         "title": {
          "text": "Hours Ahead of Forecast"
         }
        },
        "yaxis": {
         "anchor": "x",
         "domain": [
          0,
          1
         ],
         "title": {
          "text": "Forecast Error (°F)"
         }
        }
       }
      }
     },
     "metadata": {},
     "output_type": "display_data"
    },
    {
     "name": "stdout",
     "output_type": "stream",
     "text": [
      "Analysis complete\n",
      "Mean absolute error: 3.76°F\n"
     ]
    }
   ],
   "source": [
    "# Run analysis and create visualization\n",
    "df_forecasts, df_observations, grouped_forecasts = process_data(forecasts, observations)\n",
    "print(f\"\\nProcessed {len(df_forecasts)} forecasts into {len(grouped_forecasts)} hourly groups\")\n",
    "\n",
    "df_accuracy = analyze_forecast_accuracy(df_forecasts, df_observations, grouped_forecasts)\n",
    "\n",
    "print(\"Analysis complete\")\n",
    "print(f\"Mean absolute error: {abs(df_accuracy['error']).mean():.2f}°F\")"
   ]
  },
  {
   "cell_type": "code",
   "execution_count": 61,
   "metadata": {},
   "outputs": [
    {
     "data": {
      "application/vnd.plotly.v1+json": {
       "config": {
        "plotlyServerURL": "https://plot.ly"
       },
       "data": [
        {
         "alignmentgroup": "True",
         "hovertemplate": "Hours Ahead of Forecast=%{x}<br>Forecast Error (°F)=%{y}<extra></extra>",
         "legendgroup": "",
         "marker": {
          "color": "#636efa"
         },
         "name": "",
         "notched": false,
         "offsetgroup": "",
         "orientation": "v",
         "showlegend": false,
         "type": "box",
         "x": [
          0,
          0,
          1,
          1,
          1,
          14,
          14,
          14,
          13,
          13,
          12,
          12,
          12,
          12,
          12,
          10,
          9,
          9,
          9,
          9,
          9,
          9,
          9,
          9,
          9,
          8,
          8,
          8,
          8,
          8,
          8,
          8,
          8,
          7,
          6,
          5,
          4,
          3,
          2,
          1,
          15,
          15,
          15,
          14,
          14,
          13,
          13,
          13,
          13,
          13,
          11,
          10,
          9,
          10,
          10,
          10,
          10,
          10,
          10,
          10,
          10,
          9,
          9,
          9,
          9,
          9,
          9,
          9,
          8,
          7,
          6,
          5,
          4,
          3,
          2,
          1,
          16,
          16,
          16,
          15,
          15,
          14,
          14,
          14,
          14,
          14,
          12,
          11,
          10,
          11,
          11,
          11,
          11,
          11,
          11,
          11,
          11,
          10,
          10,
          10,
          10,
          10,
          10,
          10,
          9,
          8,
          7,
          6,
          5,
          4,
          3,
          2,
          1,
          17,
          17,
          17,
          16,
          16,
          15,
          15,
          15,
          15,
          15,
          13,
          12,
          11,
          12,
          12,
          12,
          12,
          12,
          12,
          12,
          12,
          11,
          11,
          11,
          11,
          11,
          11,
          11,
          10,
          9,
          8,
          7,
          6,
          5,
          4,
          3,
          2,
          18,
          18,
          18,
          17,
          17,
          16,
          16,
          16,
          16,
          16,
          14,
          13,
          12,
          13,
          13,
          13,
          13,
          13,
          13,
          13,
          13,
          12,
          12,
          12,
          12,
          12,
          12,
          12,
          11,
          10,
          9,
          8,
          7,
          6,
          5,
          4,
          3,
          1,
          19,
          19,
          19,
          18,
          18,
          17,
          17,
          17,
          17,
          17,
          15,
          14,
          13,
          14,
          14,
          14,
          14,
          14,
          14,
          14,
          14,
          13,
          13,
          13,
          13,
          13,
          13,
          13,
          12,
          11,
          10,
          9,
          8,
          7,
          6,
          5,
          4,
          2,
          1,
          20,
          20,
          20,
          19,
          19,
          18,
          18,
          18,
          18,
          18,
          16,
          15,
          14,
          15,
          15,
          15,
          15,
          15,
          15,
          15,
          15,
          14,
          14,
          14,
          14,
          14,
          14,
          14,
          13,
          12,
          11,
          10,
          9,
          8,
          7,
          6,
          5,
          3,
          2,
          1,
          21,
          21,
          21,
          20,
          20,
          19,
          19,
          19,
          19,
          19,
          17,
          16,
          15,
          16,
          16,
          16,
          16,
          16,
          16,
          16,
          16,
          15,
          15,
          15,
          15,
          15,
          15,
          15,
          14,
          13,
          12,
          11,
          10,
          9,
          8,
          7,
          6,
          4,
          3,
          2,
          1,
          22,
          22,
          22,
          21,
          21,
          20,
          20,
          20,
          20,
          20,
          18,
          17,
          16,
          17,
          17,
          17,
          17,
          17,
          17,
          17,
          17,
          16,
          16,
          16,
          16,
          16,
          16,
          16,
          15,
          14,
          13,
          12,
          11,
          10,
          9,
          8,
          7,
          5,
          4,
          3,
          2,
          1,
          23,
          23,
          23,
          22,
          22,
          21,
          21,
          21,
          21,
          21,
          19,
          18,
          17,
          18,
          18,
          18,
          18,
          18,
          18,
          18,
          18,
          17,
          17,
          17,
          17,
          17,
          17,
          17,
          16,
          15,
          14,
          13,
          12,
          11,
          10,
          9,
          8,
          6,
          5,
          4,
          3,
          2,
          1,
          24,
          23,
          23,
          22,
          22,
          22,
          22,
          22,
          20,
          19,
          18,
          19,
          19,
          19,
          19,
          19,
          19,
          19,
          19,
          18,
          18,
          18,
          18,
          18,
          18,
          18,
          17,
          16,
          15,
          14,
          13,
          12,
          11,
          10,
          9,
          7,
          6,
          5,
          4,
          3,
          2,
          1,
          24,
          24,
          23,
          23,
          23,
          23,
          23,
          21,
          20,
          19,
          20,
          20,
          20,
          20,
          20,
          20,
          20,
          20,
          19,
          19,
          19,
          19,
          19,
          19,
          19,
          18,
          17,
          16,
          15,
          14,
          13,
          12,
          11,
          10,
          8,
          7,
          6,
          5,
          4,
          3,
          2,
          1
         ],
         "x0": " ",
         "xaxis": "x",
         "y": [
          1.0200000000000031,
          1.0200000000000031,
          0.020000000000003126,
          0.020000000000003126,
          0.020000000000003126,
          -9.04,
          -9.04,
          -9.04,
          -9.04,
          -9.04,
          -9.04,
          -9.04,
          -9.04,
          -9.04,
          -9.04,
          -9.04,
          -4.039999999999999,
          -4.039999999999999,
          -4.039999999999999,
          -4.039999999999999,
          -4.039999999999999,
          -4.039999999999999,
          -4.039999999999999,
          -4.039999999999999,
          -4.039999999999999,
          -4.039999999999999,
          -4.039999999999999,
          -4.039999999999999,
          -4.039999999999999,
          -4.039999999999999,
          -4.039999999999999,
          -4.039999999999999,
          -4.039999999999999,
          -2.039999999999999,
          -2.039999999999999,
          -2.039999999999999,
          -2.039999999999999,
          -2.039999999999999,
          -2.039999999999999,
          -2.039999999999999,
          -8.04,
          -8.04,
          -8.04,
          -8.04,
          -8.04,
          -8.04,
          -8.04,
          -8.04,
          -8.04,
          -8.04,
          -8.04,
          -4.039999999999999,
          -4.039999999999999,
          -4.039999999999999,
          -4.039999999999999,
          -4.039999999999999,
          -4.039999999999999,
          -4.039999999999999,
          -4.039999999999999,
          -4.039999999999999,
          -4.039999999999999,
          -4.039999999999999,
          -4.039999999999999,
          -4.039999999999999,
          -4.039999999999999,
          -4.039999999999999,
          -4.039999999999999,
          -4.039999999999999,
          -3.039999999999999,
          -3.039999999999999,
          -3.039999999999999,
          -3.039999999999999,
          -3.039999999999999,
          -3.039999999999999,
          -3.039999999999999,
          -4.039999999999999,
          -11,
          -11,
          -11,
          -11,
          -11,
          -11,
          -11,
          -11,
          -11,
          -11,
          -11,
          -9,
          -9,
          -9,
          -9,
          -9,
          -9,
          -9,
          -9,
          -9,
          -9,
          -9,
          -9,
          -9,
          -9,
          -9,
          -9,
          -9,
          -8,
          -8,
          -8,
          -8,
          -8,
          -8,
          -8,
          -7,
          -7,
          -9,
          -9,
          -9,
          -9,
          -9,
          -9,
          -9,
          -9,
          -9,
          -9,
          -9,
          -9,
          -9,
          -9,
          -9,
          -9,
          -9,
          -9,
          -9,
          -9,
          -9,
          -9,
          -9,
          -9,
          -9,
          -9,
          -9,
          -9,
          -9,
          -9,
          -9,
          -9,
          -9,
          -9,
          -9,
          -6,
          -6,
          -7.079999999999998,
          -7.079999999999998,
          -7.079999999999998,
          -7.079999999999998,
          -7.079999999999998,
          -7.079999999999998,
          -7.079999999999998,
          -7.079999999999998,
          -7.079999999999998,
          -7.079999999999998,
          -7.079999999999998,
          -7.079999999999998,
          -7.079999999999998,
          -7.079999999999998,
          -7.079999999999998,
          -7.079999999999998,
          -7.079999999999998,
          -7.079999999999998,
          -7.079999999999998,
          -7.079999999999998,
          -7.079999999999998,
          -7.079999999999998,
          -7.079999999999998,
          -7.079999999999998,
          -7.079999999999998,
          -7.079999999999998,
          -7.079999999999998,
          -7.079999999999998,
          -7.079999999999998,
          -7.079999999999998,
          -7.079999999999998,
          -7.079999999999998,
          -7.079999999999998,
          -7.079999999999998,
          -7.079999999999998,
          -5.079999999999998,
          -5.079999999999998,
          -5.079999999999998,
          -5,
          -5,
          -5,
          -5,
          -5,
          -5,
          -5,
          -5,
          -5,
          -5,
          -5,
          -5,
          -5,
          -5,
          -5,
          -5,
          -5,
          -5,
          -5,
          -5,
          -5,
          -5,
          -5,
          -5,
          -5,
          -5,
          -5,
          -5,
          -5,
          -5,
          -5,
          -5,
          -5,
          -5,
          -5,
          -2,
          -2,
          -3,
          -3,
          -3,
          -3,
          -3,
          -3,
          -3,
          -3,
          -3,
          -3,
          -3,
          -3,
          -3,
          -3,
          -3,
          -3,
          -3,
          -3,
          -3,
          -3,
          -3,
          -3,
          -3,
          -3,
          -3,
          -3,
          -3,
          -3,
          -3,
          -3,
          -3,
          -3,
          -3,
          -3,
          -3,
          -3,
          -3,
          -1,
          -1,
          -1,
          -1,
          -1,
          0.0799999999999983,
          0.0799999999999983,
          0.0799999999999983,
          0.0799999999999983,
          0.0799999999999983,
          0.0799999999999983,
          0.0799999999999983,
          0.0799999999999983,
          0.0799999999999983,
          0.0799999999999983,
          0.0799999999999983,
          0.0799999999999983,
          0.0799999999999983,
          0.0799999999999983,
          0.0799999999999983,
          0.0799999999999983,
          0.0799999999999983,
          0.0799999999999983,
          0.0799999999999983,
          0.0799999999999983,
          0.0799999999999983,
          0.0799999999999983,
          0.0799999999999983,
          0.0799999999999983,
          0.0799999999999983,
          0.0799999999999983,
          0.0799999999999983,
          0.0799999999999983,
          0.0799999999999983,
          0.0799999999999983,
          0.0799999999999983,
          0.0799999999999983,
          0.0799999999999983,
          0.0799999999999983,
          0.0799999999999983,
          1.0799999999999983,
          1.0799999999999983,
          1.0799999999999983,
          1.0799999999999983,
          1.0799999999999983,
          1.0799999999999983,
          0.2599999999999909,
          0.2599999999999909,
          0.2599999999999909,
          0.2599999999999909,
          0.2599999999999909,
          0.2599999999999909,
          0.2599999999999909,
          0.2599999999999909,
          0.2599999999999909,
          0.2599999999999909,
          0.2599999999999909,
          0.2599999999999909,
          0.2599999999999909,
          0.2599999999999909,
          0.2599999999999909,
          0.2599999999999909,
          0.2599999999999909,
          0.2599999999999909,
          0.2599999999999909,
          0.2599999999999909,
          0.2599999999999909,
          0.2599999999999909,
          0.2599999999999909,
          0.2599999999999909,
          0.2599999999999909,
          0.2599999999999909,
          0.2599999999999909,
          0.2599999999999909,
          0.2599999999999909,
          0.2599999999999909,
          0.2599999999999909,
          0.2599999999999909,
          0.2599999999999909,
          0.2599999999999909,
          0.2599999999999909,
          1.259999999999991,
          1.259999999999991,
          1.259999999999991,
          1.259999999999991,
          1.259999999999991,
          1.259999999999991,
          1.259999999999991,
          1.5300000000000011,
          1.5300000000000011,
          1.5300000000000011,
          1.5300000000000011,
          1.5300000000000011,
          1.5300000000000011,
          1.5300000000000011,
          1.5300000000000011,
          1.5300000000000011,
          1.5300000000000011,
          1.5300000000000011,
          1.5300000000000011,
          1.5300000000000011,
          1.5300000000000011,
          1.5300000000000011,
          1.5300000000000011,
          1.5300000000000011,
          1.5300000000000011,
          1.5300000000000011,
          1.5300000000000011,
          1.5300000000000011,
          1.5300000000000011,
          1.5300000000000011,
          1.5300000000000011,
          1.5300000000000011,
          1.5300000000000011,
          1.5300000000000011,
          1.5300000000000011,
          1.5300000000000011,
          1.5300000000000011,
          1.5300000000000011,
          1.5300000000000011,
          1.5300000000000011,
          1.5300000000000011,
          1.5300000000000011,
          1.5300000000000011,
          1.5300000000000011,
          1.5300000000000011,
          1.5300000000000011,
          1.5300000000000011,
          1.5300000000000011,
          1.5300000000000011,
          1.5300000000000011,
          1.3799999999999955,
          1.3799999999999955,
          1.3799999999999955,
          1.3799999999999955,
          1.3799999999999955,
          1.3799999999999955,
          1.3799999999999955,
          1.3799999999999955,
          1.3799999999999955,
          1.3799999999999955,
          1.3799999999999955,
          1.3799999999999955,
          1.3799999999999955,
          1.3799999999999955,
          1.3799999999999955,
          1.3799999999999955,
          1.3799999999999955,
          1.3799999999999955,
          1.3799999999999955,
          1.3799999999999955,
          1.3799999999999955,
          1.3799999999999955,
          1.3799999999999955,
          1.3799999999999955,
          1.3799999999999955,
          1.3799999999999955,
          1.3799999999999955,
          1.3799999999999955,
          1.3799999999999955,
          1.3799999999999955,
          1.3799999999999955,
          1.3799999999999955,
          1.3799999999999955,
          1.3799999999999955,
          1.3799999999999955,
          1.3799999999999955,
          1.3799999999999955,
          1.3799999999999955,
          1.3799999999999955,
          1.3799999999999955,
          1.3799999999999955,
          1.3799999999999955,
          1.0799999999999983,
          1.0799999999999983,
          1.0799999999999983,
          1.0799999999999983,
          1.0799999999999983,
          1.0799999999999983,
          1.0799999999999983,
          1.0799999999999983,
          1.0799999999999983,
          1.0799999999999983,
          1.0799999999999983,
          1.0799999999999983,
          1.0799999999999983,
          1.0799999999999983,
          1.0799999999999983,
          1.0799999999999983,
          1.0799999999999983,
          1.0799999999999983,
          1.0799999999999983,
          1.0799999999999983,
          1.0799999999999983,
          1.0799999999999983,
          1.0799999999999983,
          1.0799999999999983,
          1.0799999999999983,
          1.0799999999999983,
          1.0799999999999983,
          1.0799999999999983,
          1.0799999999999983,
          1.0799999999999983,
          1.0799999999999983,
          1.0799999999999983,
          1.0799999999999983,
          1.0799999999999983,
          1.0799999999999983,
          1.0799999999999983,
          1.0799999999999983,
          1.0799999999999983,
          1.0799999999999983,
          1.0799999999999983,
          1.0799999999999983,
          1.0799999999999983
         ],
         "y0": " ",
         "yaxis": "y"
        }
       ],
       "layout": {
        "boxmode": "group",
        "legend": {
         "tracegroupgap": 0
        },
        "template": {
         "data": {
          "bar": [
           {
            "error_x": {
             "color": "#2a3f5f"
            },
            "error_y": {
             "color": "#2a3f5f"
            },
            "marker": {
             "line": {
              "color": "#E5ECF6",
              "width": 0.5
             },
             "pattern": {
              "fillmode": "overlay",
              "size": 10,
              "solidity": 0.2
             }
            },
            "type": "bar"
           }
          ],
          "barpolar": [
           {
            "marker": {
             "line": {
              "color": "#E5ECF6",
              "width": 0.5
             },
             "pattern": {
              "fillmode": "overlay",
              "size": 10,
              "solidity": 0.2
             }
            },
            "type": "barpolar"
           }
          ],
          "carpet": [
           {
            "aaxis": {
             "endlinecolor": "#2a3f5f",
             "gridcolor": "white",
             "linecolor": "white",
             "minorgridcolor": "white",
             "startlinecolor": "#2a3f5f"
            },
            "baxis": {
             "endlinecolor": "#2a3f5f",
             "gridcolor": "white",
             "linecolor": "white",
             "minorgridcolor": "white",
             "startlinecolor": "#2a3f5f"
            },
            "type": "carpet"
           }
          ],
          "choropleth": [
           {
            "colorbar": {
             "outlinewidth": 0,
             "ticks": ""
            },
            "type": "choropleth"
           }
          ],
          "contour": [
           {
            "colorbar": {
             "outlinewidth": 0,
             "ticks": ""
            },
            "colorscale": [
             [
              0,
              "#0d0887"
             ],
             [
              0.1111111111111111,
              "#46039f"
             ],
             [
              0.2222222222222222,
              "#7201a8"
             ],
             [
              0.3333333333333333,
              "#9c179e"
             ],
             [
              0.4444444444444444,
              "#bd3786"
             ],
             [
              0.5555555555555556,
              "#d8576b"
             ],
             [
              0.6666666666666666,
              "#ed7953"
             ],
             [
              0.7777777777777778,
              "#fb9f3a"
             ],
             [
              0.8888888888888888,
              "#fdca26"
             ],
             [
              1,
              "#f0f921"
             ]
            ],
            "type": "contour"
           }
          ],
          "contourcarpet": [
           {
            "colorbar": {
             "outlinewidth": 0,
             "ticks": ""
            },
            "type": "contourcarpet"
           }
          ],
          "heatmap": [
           {
            "colorbar": {
             "outlinewidth": 0,
             "ticks": ""
            },
            "colorscale": [
             [
              0,
              "#0d0887"
             ],
             [
              0.1111111111111111,
              "#46039f"
             ],
             [
              0.2222222222222222,
              "#7201a8"
             ],
             [
              0.3333333333333333,
              "#9c179e"
             ],
             [
              0.4444444444444444,
              "#bd3786"
             ],
             [
              0.5555555555555556,
              "#d8576b"
             ],
             [
              0.6666666666666666,
              "#ed7953"
             ],
             [
              0.7777777777777778,
              "#fb9f3a"
             ],
             [
              0.8888888888888888,
              "#fdca26"
             ],
             [
              1,
              "#f0f921"
             ]
            ],
            "type": "heatmap"
           }
          ],
          "heatmapgl": [
           {
            "colorbar": {
             "outlinewidth": 0,
             "ticks": ""
            },
            "colorscale": [
             [
              0,
              "#0d0887"
             ],
             [
              0.1111111111111111,
              "#46039f"
             ],
             [
              0.2222222222222222,
              "#7201a8"
             ],
             [
              0.3333333333333333,
              "#9c179e"
             ],
             [
              0.4444444444444444,
              "#bd3786"
             ],
             [
              0.5555555555555556,
              "#d8576b"
             ],
             [
              0.6666666666666666,
              "#ed7953"
             ],
             [
              0.7777777777777778,
              "#fb9f3a"
             ],
             [
              0.8888888888888888,
              "#fdca26"
             ],
             [
              1,
              "#f0f921"
             ]
            ],
            "type": "heatmapgl"
           }
          ],
          "histogram": [
           {
            "marker": {
             "pattern": {
              "fillmode": "overlay",
              "size": 10,
              "solidity": 0.2
             }
            },
            "type": "histogram"
           }
          ],
          "histogram2d": [
           {
            "colorbar": {
             "outlinewidth": 0,
             "ticks": ""
            },
            "colorscale": [
             [
              0,
              "#0d0887"
             ],
             [
              0.1111111111111111,
              "#46039f"
             ],
             [
              0.2222222222222222,
              "#7201a8"
             ],
             [
              0.3333333333333333,
              "#9c179e"
             ],
             [
              0.4444444444444444,
              "#bd3786"
             ],
             [
              0.5555555555555556,
              "#d8576b"
             ],
             [
              0.6666666666666666,
              "#ed7953"
             ],
             [
              0.7777777777777778,
              "#fb9f3a"
             ],
             [
              0.8888888888888888,
              "#fdca26"
             ],
             [
              1,
              "#f0f921"
             ]
            ],
            "type": "histogram2d"
           }
          ],
          "histogram2dcontour": [
           {
            "colorbar": {
             "outlinewidth": 0,
             "ticks": ""
            },
            "colorscale": [
             [
              0,
              "#0d0887"
             ],
             [
              0.1111111111111111,
              "#46039f"
             ],
             [
              0.2222222222222222,
              "#7201a8"
             ],
             [
              0.3333333333333333,
              "#9c179e"
             ],
             [
              0.4444444444444444,
              "#bd3786"
             ],
             [
              0.5555555555555556,
              "#d8576b"
             ],
             [
              0.6666666666666666,
              "#ed7953"
             ],
             [
              0.7777777777777778,
              "#fb9f3a"
             ],
             [
              0.8888888888888888,
              "#fdca26"
             ],
             [
              1,
              "#f0f921"
             ]
            ],
            "type": "histogram2dcontour"
           }
          ],
          "mesh3d": [
           {
            "colorbar": {
             "outlinewidth": 0,
             "ticks": ""
            },
            "type": "mesh3d"
           }
          ],
          "parcoords": [
           {
            "line": {
             "colorbar": {
              "outlinewidth": 0,
              "ticks": ""
             }
            },
            "type": "parcoords"
           }
          ],
          "pie": [
           {
            "automargin": true,
            "type": "pie"
           }
          ],
          "scatter": [
           {
            "fillpattern": {
             "fillmode": "overlay",
             "size": 10,
             "solidity": 0.2
            },
            "type": "scatter"
           }
          ],
          "scatter3d": [
           {
            "line": {
             "colorbar": {
              "outlinewidth": 0,
              "ticks": ""
             }
            },
            "marker": {
             "colorbar": {
              "outlinewidth": 0,
              "ticks": ""
             }
            },
            "type": "scatter3d"
           }
          ],
          "scattercarpet": [
           {
            "marker": {
             "colorbar": {
              "outlinewidth": 0,
              "ticks": ""
             }
            },
            "type": "scattercarpet"
           }
          ],
          "scattergeo": [
           {
            "marker": {
             "colorbar": {
              "outlinewidth": 0,
              "ticks": ""
             }
            },
            "type": "scattergeo"
           }
          ],
          "scattergl": [
           {
            "marker": {
             "colorbar": {
              "outlinewidth": 0,
              "ticks": ""
             }
            },
            "type": "scattergl"
           }
          ],
          "scattermapbox": [
           {
            "marker": {
             "colorbar": {
              "outlinewidth": 0,
              "ticks": ""
             }
            },
            "type": "scattermapbox"
           }
          ],
          "scatterpolar": [
           {
            "marker": {
             "colorbar": {
              "outlinewidth": 0,
              "ticks": ""
             }
            },
            "type": "scatterpolar"
           }
          ],
          "scatterpolargl": [
           {
            "marker": {
             "colorbar": {
              "outlinewidth": 0,
              "ticks": ""
             }
            },
            "type": "scatterpolargl"
           }
          ],
          "scatterternary": [
           {
            "marker": {
             "colorbar": {
              "outlinewidth": 0,
              "ticks": ""
             }
            },
            "type": "scatterternary"
           }
          ],
          "surface": [
           {
            "colorbar": {
             "outlinewidth": 0,
             "ticks": ""
            },
            "colorscale": [
             [
              0,
              "#0d0887"
             ],
             [
              0.1111111111111111,
              "#46039f"
             ],
             [
              0.2222222222222222,
              "#7201a8"
             ],
             [
              0.3333333333333333,
              "#9c179e"
             ],
             [
              0.4444444444444444,
              "#bd3786"
             ],
             [
              0.5555555555555556,
              "#d8576b"
             ],
             [
              0.6666666666666666,
              "#ed7953"
             ],
             [
              0.7777777777777778,
              "#fb9f3a"
             ],
             [
              0.8888888888888888,
              "#fdca26"
             ],
             [
              1,
              "#f0f921"
             ]
            ],
            "type": "surface"
           }
          ],
          "table": [
           {
            "cells": {
             "fill": {
              "color": "#EBF0F8"
             },
             "line": {
              "color": "white"
             }
            },
            "header": {
             "fill": {
              "color": "#C8D4E3"
             },
             "line": {
              "color": "white"
             }
            },
            "type": "table"
           }
          ]
         },
         "layout": {
          "annotationdefaults": {
           "arrowcolor": "#2a3f5f",
           "arrowhead": 0,
           "arrowwidth": 1
          },
          "autotypenumbers": "strict",
          "coloraxis": {
           "colorbar": {
            "outlinewidth": 0,
            "ticks": ""
           }
          },
          "colorscale": {
           "diverging": [
            [
             0,
             "#8e0152"
            ],
            [
             0.1,
             "#c51b7d"
            ],
            [
             0.2,
             "#de77ae"
            ],
            [
             0.3,
             "#f1b6da"
            ],
            [
             0.4,
             "#fde0ef"
            ],
            [
             0.5,
             "#f7f7f7"
            ],
            [
             0.6,
             "#e6f5d0"
            ],
            [
             0.7,
             "#b8e186"
            ],
            [
             0.8,
             "#7fbc41"
            ],
            [
             0.9,
             "#4d9221"
            ],
            [
             1,
             "#276419"
            ]
           ],
           "sequential": [
            [
             0,
             "#0d0887"
            ],
            [
             0.1111111111111111,
             "#46039f"
            ],
            [
             0.2222222222222222,
             "#7201a8"
            ],
            [
             0.3333333333333333,
             "#9c179e"
            ],
            [
             0.4444444444444444,
             "#bd3786"
            ],
            [
             0.5555555555555556,
             "#d8576b"
            ],
            [
             0.6666666666666666,
             "#ed7953"
            ],
            [
             0.7777777777777778,
             "#fb9f3a"
            ],
            [
             0.8888888888888888,
             "#fdca26"
            ],
            [
             1,
             "#f0f921"
            ]
           ],
           "sequentialminus": [
            [
             0,
             "#0d0887"
            ],
            [
             0.1111111111111111,
             "#46039f"
            ],
            [
             0.2222222222222222,
             "#7201a8"
            ],
            [
             0.3333333333333333,
             "#9c179e"
            ],
            [
             0.4444444444444444,
             "#bd3786"
            ],
            [
             0.5555555555555556,
             "#d8576b"
            ],
            [
             0.6666666666666666,
             "#ed7953"
            ],
            [
             0.7777777777777778,
             "#fb9f3a"
            ],
            [
             0.8888888888888888,
             "#fdca26"
            ],
            [
             1,
             "#f0f921"
            ]
           ]
          },
          "colorway": [
           "#636efa",
           "#EF553B",
           "#00cc96",
           "#ab63fa",
           "#FFA15A",
           "#19d3f3",
           "#FF6692",
           "#B6E880",
           "#FF97FF",
           "#FECB52"
          ],
          "font": {
           "color": "#2a3f5f"
          },
          "geo": {
           "bgcolor": "white",
           "lakecolor": "white",
           "landcolor": "#E5ECF6",
           "showlakes": true,
           "showland": true,
           "subunitcolor": "white"
          },
          "hoverlabel": {
           "align": "left"
          },
          "hovermode": "closest",
          "mapbox": {
           "style": "light"
          },
          "paper_bgcolor": "white",
          "plot_bgcolor": "#E5ECF6",
          "polar": {
           "angularaxis": {
            "gridcolor": "white",
            "linecolor": "white",
            "ticks": ""
           },
           "bgcolor": "#E5ECF6",
           "radialaxis": {
            "gridcolor": "white",
            "linecolor": "white",
            "ticks": ""
           }
          },
          "scene": {
           "xaxis": {
            "backgroundcolor": "#E5ECF6",
            "gridcolor": "white",
            "gridwidth": 2,
            "linecolor": "white",
            "showbackground": true,
            "ticks": "",
            "zerolinecolor": "white"
           },
           "yaxis": {
            "backgroundcolor": "#E5ECF6",
            "gridcolor": "white",
            "gridwidth": 2,
            "linecolor": "white",
            "showbackground": true,
            "ticks": "",
            "zerolinecolor": "white"
           },
           "zaxis": {
            "backgroundcolor": "#E5ECF6",
            "gridcolor": "white",
            "gridwidth": 2,
            "linecolor": "white",
            "showbackground": true,
            "ticks": "",
            "zerolinecolor": "white"
           }
          },
          "shapedefaults": {
           "line": {
            "color": "#2a3f5f"
           }
          },
          "ternary": {
           "aaxis": {
            "gridcolor": "white",
            "linecolor": "white",
            "ticks": ""
           },
           "baxis": {
            "gridcolor": "white",
            "linecolor": "white",
            "ticks": ""
           },
           "bgcolor": "#E5ECF6",
           "caxis": {
            "gridcolor": "white",
            "linecolor": "white",
            "ticks": ""
           }
          },
          "title": {
           "x": 0.05
          },
          "xaxis": {
           "automargin": true,
           "gridcolor": "white",
           "linecolor": "white",
           "ticks": "",
           "title": {
            "standoff": 15
           },
           "zerolinecolor": "white",
           "zerolinewidth": 2
          },
          "yaxis": {
           "automargin": true,
           "gridcolor": "white",
           "linecolor": "white",
           "ticks": "",
           "title": {
            "standoff": 15
           },
           "zerolinecolor": "white",
           "zerolinewidth": 2
          }
         }
        },
        "title": {
         "text": "Distribution of Forecast Errors by Lead Time"
        },
        "xaxis": {
         "anchor": "y",
         "domain": [
          0,
          1
         ],
         "title": {
          "text": "Hours Ahead of Forecast"
         }
        },
        "yaxis": {
         "anchor": "x",
         "domain": [
          0,
          1
         ],
         "title": {
          "text": "Forecast Error (°F)"
         }
        }
       }
      }
     },
     "metadata": {},
     "output_type": "display_data"
    },
    {
     "data": {
      "application/vnd.plotly.v1+json": {
       "config": {
        "plotlyServerURL": "https://plot.ly"
       },
       "data": [
        {
         "alignmentgroup": "True",
         "hovertemplate": "Hour of Day (EST)=%{x}<br>Mean Absolute Error (°F)=%{y}<extra></extra>",
         "legendgroup": "",
         "marker": {
          "color": "#636efa",
          "pattern": {
           "shape": ""
          }
         },
         "name": "",
         "offsetgroup": "",
         "orientation": "v",
         "showlegend": false,
         "textposition": "auto",
         "type": "bar",
         "x": [
          6,
          7,
          8,
          9,
          10,
          11,
          12,
          13,
          14,
          15,
          16,
          17
         ],
         "xaxis": "x",
         "y": [
          5.211428571428571,
          5.067777777777777,
          9.297297297297296,
          8.837837837837839,
          6.922105263157894,
          4.743589743589744,
          2.75,
          0.22634146341463243,
          0.4266666666666576,
          1.5300000000000011,
          1.3636363636363595,
          1.0093333333333319
         ],
         "yaxis": "y"
        }
       ],
       "layout": {
        "barmode": "relative",
        "legend": {
         "tracegroupgap": 0
        },
        "template": {
         "data": {
          "bar": [
           {
            "error_x": {
             "color": "#2a3f5f"
            },
            "error_y": {
             "color": "#2a3f5f"
            },
            "marker": {
             "line": {
              "color": "#E5ECF6",
              "width": 0.5
             },
             "pattern": {
              "fillmode": "overlay",
              "size": 10,
              "solidity": 0.2
             }
            },
            "type": "bar"
           }
          ],
          "barpolar": [
           {
            "marker": {
             "line": {
              "color": "#E5ECF6",
              "width": 0.5
             },
             "pattern": {
              "fillmode": "overlay",
              "size": 10,
              "solidity": 0.2
             }
            },
            "type": "barpolar"
           }
          ],
          "carpet": [
           {
            "aaxis": {
             "endlinecolor": "#2a3f5f",
             "gridcolor": "white",
             "linecolor": "white",
             "minorgridcolor": "white",
             "startlinecolor": "#2a3f5f"
            },
            "baxis": {
             "endlinecolor": "#2a3f5f",
             "gridcolor": "white",
             "linecolor": "white",
             "minorgridcolor": "white",
             "startlinecolor": "#2a3f5f"
            },
            "type": "carpet"
           }
          ],
          "choropleth": [
           {
            "colorbar": {
             "outlinewidth": 0,
             "ticks": ""
            },
            "type": "choropleth"
           }
          ],
          "contour": [
           {
            "colorbar": {
             "outlinewidth": 0,
             "ticks": ""
            },
            "colorscale": [
             [
              0,
              "#0d0887"
             ],
             [
              0.1111111111111111,
              "#46039f"
             ],
             [
              0.2222222222222222,
              "#7201a8"
             ],
             [
              0.3333333333333333,
              "#9c179e"
             ],
             [
              0.4444444444444444,
              "#bd3786"
             ],
             [
              0.5555555555555556,
              "#d8576b"
             ],
             [
              0.6666666666666666,
              "#ed7953"
             ],
             [
              0.7777777777777778,
              "#fb9f3a"
             ],
             [
              0.8888888888888888,
              "#fdca26"
             ],
             [
              1,
              "#f0f921"
             ]
            ],
            "type": "contour"
           }
          ],
          "contourcarpet": [
           {
            "colorbar": {
             "outlinewidth": 0,
             "ticks": ""
            },
            "type": "contourcarpet"
           }
          ],
          "heatmap": [
           {
            "colorbar": {
             "outlinewidth": 0,
             "ticks": ""
            },
            "colorscale": [
             [
              0,
              "#0d0887"
             ],
             [
              0.1111111111111111,
              "#46039f"
             ],
             [
              0.2222222222222222,
              "#7201a8"
             ],
             [
              0.3333333333333333,
              "#9c179e"
             ],
             [
              0.4444444444444444,
              "#bd3786"
             ],
             [
              0.5555555555555556,
              "#d8576b"
             ],
             [
              0.6666666666666666,
              "#ed7953"
             ],
             [
              0.7777777777777778,
              "#fb9f3a"
             ],
             [
              0.8888888888888888,
              "#fdca26"
             ],
             [
              1,
              "#f0f921"
             ]
            ],
            "type": "heatmap"
           }
          ],
          "heatmapgl": [
           {
            "colorbar": {
             "outlinewidth": 0,
             "ticks": ""
            },
            "colorscale": [
             [
              0,
              "#0d0887"
             ],
             [
              0.1111111111111111,
              "#46039f"
             ],
             [
              0.2222222222222222,
              "#7201a8"
             ],
             [
              0.3333333333333333,
              "#9c179e"
             ],
             [
              0.4444444444444444,
              "#bd3786"
             ],
             [
              0.5555555555555556,
              "#d8576b"
             ],
             [
              0.6666666666666666,
              "#ed7953"
             ],
             [
              0.7777777777777778,
              "#fb9f3a"
             ],
             [
              0.8888888888888888,
              "#fdca26"
             ],
             [
              1,
              "#f0f921"
             ]
            ],
            "type": "heatmapgl"
           }
          ],
          "histogram": [
           {
            "marker": {
             "pattern": {
              "fillmode": "overlay",
              "size": 10,
              "solidity": 0.2
             }
            },
            "type": "histogram"
           }
          ],
          "histogram2d": [
           {
            "colorbar": {
             "outlinewidth": 0,
             "ticks": ""
            },
            "colorscale": [
             [
              0,
              "#0d0887"
             ],
             [
              0.1111111111111111,
              "#46039f"
             ],
             [
              0.2222222222222222,
              "#7201a8"
             ],
             [
              0.3333333333333333,
              "#9c179e"
             ],
             [
              0.4444444444444444,
              "#bd3786"
             ],
             [
              0.5555555555555556,
              "#d8576b"
             ],
             [
              0.6666666666666666,
              "#ed7953"
             ],
             [
              0.7777777777777778,
              "#fb9f3a"
             ],
             [
              0.8888888888888888,
              "#fdca26"
             ],
             [
              1,
              "#f0f921"
             ]
            ],
            "type": "histogram2d"
           }
          ],
          "histogram2dcontour": [
           {
            "colorbar": {
             "outlinewidth": 0,
             "ticks": ""
            },
            "colorscale": [
             [
              0,
              "#0d0887"
             ],
             [
              0.1111111111111111,
              "#46039f"
             ],
             [
              0.2222222222222222,
              "#7201a8"
             ],
             [
              0.3333333333333333,
              "#9c179e"
             ],
             [
              0.4444444444444444,
              "#bd3786"
             ],
             [
              0.5555555555555556,
              "#d8576b"
             ],
             [
              0.6666666666666666,
              "#ed7953"
             ],
             [
              0.7777777777777778,
              "#fb9f3a"
             ],
             [
              0.8888888888888888,
              "#fdca26"
             ],
             [
              1,
              "#f0f921"
             ]
            ],
            "type": "histogram2dcontour"
           }
          ],
          "mesh3d": [
           {
            "colorbar": {
             "outlinewidth": 0,
             "ticks": ""
            },
            "type": "mesh3d"
           }
          ],
          "parcoords": [
           {
            "line": {
             "colorbar": {
              "outlinewidth": 0,
              "ticks": ""
             }
            },
            "type": "parcoords"
           }
          ],
          "pie": [
           {
            "automargin": true,
            "type": "pie"
           }
          ],
          "scatter": [
           {
            "fillpattern": {
             "fillmode": "overlay",
             "size": 10,
             "solidity": 0.2
            },
            "type": "scatter"
           }
          ],
          "scatter3d": [
           {
            "line": {
             "colorbar": {
              "outlinewidth": 0,
              "ticks": ""
             }
            },
            "marker": {
             "colorbar": {
              "outlinewidth": 0,
              "ticks": ""
             }
            },
            "type": "scatter3d"
           }
          ],
          "scattercarpet": [
           {
            "marker": {
             "colorbar": {
              "outlinewidth": 0,
              "ticks": ""
             }
            },
            "type": "scattercarpet"
           }
          ],
          "scattergeo": [
           {
            "marker": {
             "colorbar": {
              "outlinewidth": 0,
              "ticks": ""
             }
            },
            "type": "scattergeo"
           }
          ],
          "scattergl": [
           {
            "marker": {
             "colorbar": {
              "outlinewidth": 0,
              "ticks": ""
             }
            },
            "type": "scattergl"
           }
          ],
          "scattermapbox": [
           {
            "marker": {
             "colorbar": {
              "outlinewidth": 0,
              "ticks": ""
             }
            },
            "type": "scattermapbox"
           }
          ],
          "scatterpolar": [
           {
            "marker": {
             "colorbar": {
              "outlinewidth": 0,
              "ticks": ""
             }
            },
            "type": "scatterpolar"
           }
          ],
          "scatterpolargl": [
           {
            "marker": {
             "colorbar": {
              "outlinewidth": 0,
              "ticks": ""
             }
            },
            "type": "scatterpolargl"
           }
          ],
          "scatterternary": [
           {
            "marker": {
             "colorbar": {
              "outlinewidth": 0,
              "ticks": ""
             }
            },
            "type": "scatterternary"
           }
          ],
          "surface": [
           {
            "colorbar": {
             "outlinewidth": 0,
             "ticks": ""
            },
            "colorscale": [
             [
              0,
              "#0d0887"
             ],
             [
              0.1111111111111111,
              "#46039f"
             ],
             [
              0.2222222222222222,
              "#7201a8"
             ],
             [
              0.3333333333333333,
              "#9c179e"
             ],
             [
              0.4444444444444444,
              "#bd3786"
             ],
             [
              0.5555555555555556,
              "#d8576b"
             ],
             [
              0.6666666666666666,
              "#ed7953"
             ],
             [
              0.7777777777777778,
              "#fb9f3a"
             ],
             [
              0.8888888888888888,
              "#fdca26"
             ],
             [
              1,
              "#f0f921"
             ]
            ],
            "type": "surface"
           }
          ],
          "table": [
           {
            "cells": {
             "fill": {
              "color": "#EBF0F8"
             },
             "line": {
              "color": "white"
             }
            },
            "header": {
             "fill": {
              "color": "#C8D4E3"
             },
             "line": {
              "color": "white"
             }
            },
            "type": "table"
           }
          ]
         },
         "layout": {
          "annotationdefaults": {
           "arrowcolor": "#2a3f5f",
           "arrowhead": 0,
           "arrowwidth": 1
          },
          "autotypenumbers": "strict",
          "coloraxis": {
           "colorbar": {
            "outlinewidth": 0,
            "ticks": ""
           }
          },
          "colorscale": {
           "diverging": [
            [
             0,
             "#8e0152"
            ],
            [
             0.1,
             "#c51b7d"
            ],
            [
             0.2,
             "#de77ae"
            ],
            [
             0.3,
             "#f1b6da"
            ],
            [
             0.4,
             "#fde0ef"
            ],
            [
             0.5,
             "#f7f7f7"
            ],
            [
             0.6,
             "#e6f5d0"
            ],
            [
             0.7,
             "#b8e186"
            ],
            [
             0.8,
             "#7fbc41"
            ],
            [
             0.9,
             "#4d9221"
            ],
            [
             1,
             "#276419"
            ]
           ],
           "sequential": [
            [
             0,
             "#0d0887"
            ],
            [
             0.1111111111111111,
             "#46039f"
            ],
            [
             0.2222222222222222,
             "#7201a8"
            ],
            [
             0.3333333333333333,
             "#9c179e"
            ],
            [
             0.4444444444444444,
             "#bd3786"
            ],
            [
             0.5555555555555556,
             "#d8576b"
            ],
            [
             0.6666666666666666,
             "#ed7953"
            ],
            [
             0.7777777777777778,
             "#fb9f3a"
            ],
            [
             0.8888888888888888,
             "#fdca26"
            ],
            [
             1,
             "#f0f921"
            ]
           ],
           "sequentialminus": [
            [
             0,
             "#0d0887"
            ],
            [
             0.1111111111111111,
             "#46039f"
            ],
            [
             0.2222222222222222,
             "#7201a8"
            ],
            [
             0.3333333333333333,
             "#9c179e"
            ],
            [
             0.4444444444444444,
             "#bd3786"
            ],
            [
             0.5555555555555556,
             "#d8576b"
            ],
            [
             0.6666666666666666,
             "#ed7953"
            ],
            [
             0.7777777777777778,
             "#fb9f3a"
            ],
            [
             0.8888888888888888,
             "#fdca26"
            ],
            [
             1,
             "#f0f921"
            ]
           ]
          },
          "colorway": [
           "#636efa",
           "#EF553B",
           "#00cc96",
           "#ab63fa",
           "#FFA15A",
           "#19d3f3",
           "#FF6692",
           "#B6E880",
           "#FF97FF",
           "#FECB52"
          ],
          "font": {
           "color": "#2a3f5f"
          },
          "geo": {
           "bgcolor": "white",
           "lakecolor": "white",
           "landcolor": "#E5ECF6",
           "showlakes": true,
           "showland": true,
           "subunitcolor": "white"
          },
          "hoverlabel": {
           "align": "left"
          },
          "hovermode": "closest",
          "mapbox": {
           "style": "light"
          },
          "paper_bgcolor": "white",
          "plot_bgcolor": "#E5ECF6",
          "polar": {
           "angularaxis": {
            "gridcolor": "white",
            "linecolor": "white",
            "ticks": ""
           },
           "bgcolor": "#E5ECF6",
           "radialaxis": {
            "gridcolor": "white",
            "linecolor": "white",
            "ticks": ""
           }
          },
          "scene": {
           "xaxis": {
            "backgroundcolor": "#E5ECF6",
            "gridcolor": "white",
            "gridwidth": 2,
            "linecolor": "white",
            "showbackground": true,
            "ticks": "",
            "zerolinecolor": "white"
           },
           "yaxis": {
            "backgroundcolor": "#E5ECF6",
            "gridcolor": "white",
            "gridwidth": 2,
            "linecolor": "white",
            "showbackground": true,
            "ticks": "",
            "zerolinecolor": "white"
           },
           "zaxis": {
            "backgroundcolor": "#E5ECF6",
            "gridcolor": "white",
            "gridwidth": 2,
            "linecolor": "white",
            "showbackground": true,
            "ticks": "",
            "zerolinecolor": "white"
           }
          },
          "shapedefaults": {
           "line": {
            "color": "#2a3f5f"
           }
          },
          "ternary": {
           "aaxis": {
            "gridcolor": "white",
            "linecolor": "white",
            "ticks": ""
           },
           "baxis": {
            "gridcolor": "white",
            "linecolor": "white",
            "ticks": ""
           },
           "bgcolor": "#E5ECF6",
           "caxis": {
            "gridcolor": "white",
            "linecolor": "white",
            "ticks": ""
           }
          },
          "title": {
           "x": 0.05
          },
          "xaxis": {
           "automargin": true,
           "gridcolor": "white",
           "linecolor": "white",
           "ticks": "",
           "title": {
            "standoff": 15
           },
           "zerolinecolor": "white",
           "zerolinewidth": 2
          },
          "yaxis": {
           "automargin": true,
           "gridcolor": "white",
           "linecolor": "white",
           "ticks": "",
           "title": {
            "standoff": 15
           },
           "zerolinecolor": "white",
           "zerolinewidth": 2
          }
         }
        },
        "title": {
         "text": "Average Forecast Error by Hour of Day (EST)"
        },
        "xaxis": {
         "anchor": "y",
         "domain": [
          0,
          1
         ],
         "title": {
          "text": "Hour of Day (EST)"
         }
        },
        "yaxis": {
         "anchor": "x",
         "domain": [
          0,
          1
         ],
         "title": {
          "text": "Mean Absolute Error (°F)"
         }
        }
       }
      }
     },
     "metadata": {},
     "output_type": "display_data"
    },
    {
     "data": {
      "application/vnd.plotly.v1+json": {
       "config": {
        "plotlyServerURL": "https://plot.ly"
       },
       "data": [
        {
         "coloraxis": "coloraxis",
         "hovertemplate": "Hours Ahead: %{x}<br>Hour of Day (EST): %{y}<br>Mean Absolute Error (°F): %{z}<extra></extra>",
         "name": "0",
         "type": "heatmap",
         "x": [
          0,
          1,
          2,
          3,
          4,
          5,
          6,
          7,
          8,
          9,
          10,
          11,
          12,
          13,
          14,
          15,
          16,
          17,
          18,
          19,
          20,
          21,
          22,
          23,
          24
         ],
         "xaxis": "x",
         "y": [
          6,
          7,
          8,
          9,
          10,
          11,
          12,
          13,
          14,
          15,
          16,
          17
         ],
         "yaxis": "y",
         "z": [
          [
           null,
           2.039999999999999,
           2.039999999999999,
           2.039999999999999,
           2.039999999999999,
           2.039999999999999,
           2.039999999999999,
           2.039999999999999,
           4.039999999999999,
           4.039999999999999,
           9.04,
           null,
           9.04,
           9.04,
           9.04,
           null,
           null,
           null,
           null,
           null,
           null,
           null,
           null,
           null,
           null
          ],
          [
           null,
           4.039999999999999,
           3.039999999999999,
           3.039999999999999,
           3.039999999999999,
           3.039999999999999,
           3.039999999999999,
           3.039999999999999,
           3.039999999999999,
           4.039999999999999,
           4.039999999999999,
           8.04,
           null,
           8.04,
           8.04,
           8.04,
           null,
           null,
           null,
           null,
           null,
           null,
           null,
           null,
           null
          ],
          [
           null,
           7,
           7,
           8,
           8,
           8,
           8,
           8,
           8,
           8,
           9,
           9,
           11,
           null,
           11,
           11,
           11,
           null,
           null,
           null,
           null,
           null,
           null,
           null,
           null
          ],
          [
           null,
           null,
           6,
           6,
           9,
           9,
           9,
           9,
           9,
           9,
           9,
           9,
           9,
           9,
           null,
           9,
           9,
           9,
           null,
           null,
           null,
           null,
           null,
           null,
           null
          ],
          [
           null,
           5.079999999999998,
           null,
           5.079999999999998,
           5.079999999999998,
           7.079999999999998,
           7.079999999999998,
           7.079999999999998,
           7.079999999999998,
           7.079999999999998,
           7.079999999999998,
           7.079999999999998,
           7.079999999999998,
           7.079999999999998,
           7.079999999999998,
           null,
           7.079999999999998,
           7.079999999999998,
           7.079999999999998,
           null,
           null,
           null,
           null,
           null,
           null
          ],
          [
           null,
           3,
           3,
           null,
           2,
           2,
           5,
           5,
           5,
           5,
           5,
           5,
           5,
           5,
           5,
           5,
           null,
           5,
           5,
           5,
           null,
           null,
           null,
           null,
           null
          ],
          [
           null,
           1,
           1,
           1,
           null,
           1,
           1,
           3,
           3,
           3,
           3,
           3,
           3,
           3,
           3,
           3,
           3,
           null,
           3,
           3,
           3,
           null,
           null,
           null,
           null
          ],
          [
           null,
           1.0799999999999983,
           1.0799999999999983,
           1.0799999999999983,
           1.0799999999999983,
           null,
           1.0799999999999983,
           1.0799999999999983,
           0.0799999999999983,
           0.0799999999999983,
           0.0799999999999983,
           0.0799999999999983,
           0.0799999999999983,
           0.0799999999999983,
           0.0799999999999983,
           0.0799999999999983,
           0.0799999999999983,
           0.0799999999999983,
           null,
           0.0799999999999983,
           0.0799999999999983,
           0.0799999999999983,
           null,
           null,
           null
          ],
          [
           null,
           1.259999999999991,
           1.259999999999991,
           1.259999999999991,
           1.259999999999991,
           1.259999999999991,
           null,
           1.259999999999991,
           1.259999999999991,
           0.2599999999999909,
           0.2599999999999909,
           0.2599999999999909,
           0.2599999999999909,
           0.2599999999999909,
           0.2599999999999909,
           0.2599999999999909,
           0.2599999999999909,
           0.2599999999999909,
           0.2599999999999909,
           null,
           0.2599999999999909,
           0.2599999999999909,
           0.2599999999999909,
           null,
           null
          ],
          [
           null,
           1.5300000000000011,
           1.5300000000000011,
           1.5300000000000011,
           1.5300000000000011,
           1.5300000000000011,
           1.5300000000000011,
           null,
           1.5300000000000011,
           1.5300000000000011,
           1.5300000000000011,
           1.5300000000000011,
           1.5300000000000011,
           1.5300000000000011,
           1.5300000000000011,
           1.5300000000000011,
           1.5300000000000011,
           1.5300000000000011,
           1.5300000000000011,
           1.5300000000000011,
           null,
           1.5300000000000011,
           1.5300000000000011,
           1.5300000000000011,
           null
          ],
          [
           1.0200000000000031,
           1.3799999999999955,
           1.3799999999999955,
           1.3799999999999955,
           1.3799999999999955,
           1.3799999999999955,
           1.3799999999999955,
           1.3799999999999955,
           null,
           1.3799999999999955,
           1.3799999999999955,
           1.3799999999999955,
           1.3799999999999955,
           1.3799999999999955,
           1.3799999999999955,
           1.3799999999999955,
           1.3799999999999955,
           1.3799999999999955,
           1.3799999999999955,
           1.3799999999999955,
           1.3799999999999955,
           null,
           1.3799999999999955,
           1.3799999999999955,
           1.3799999999999955
          ],
          [
           null,
           0.2850000000000019,
           1.0799999999999983,
           1.0799999999999983,
           1.0799999999999983,
           1.0799999999999983,
           1.0799999999999983,
           1.0799999999999983,
           1.0799999999999983,
           null,
           1.0799999999999983,
           1.0799999999999983,
           1.0799999999999983,
           1.0799999999999983,
           1.0799999999999983,
           1.0799999999999983,
           1.0799999999999983,
           1.0799999999999983,
           1.0799999999999983,
           1.0799999999999983,
           1.0799999999999983,
           1.0799999999999983,
           null,
           1.0799999999999983,
           1.0799999999999983
          ]
         ]
        }
       ],
       "layout": {
        "coloraxis": {
         "colorbar": {
          "title": {
           "text": "Mean Absolute Error (°F)"
          }
         },
         "colorscale": [
          [
           0,
           "rgb(49,54,149)"
          ],
          [
           0.1,
           "rgb(69,117,180)"
          ],
          [
           0.2,
           "rgb(116,173,209)"
          ],
          [
           0.3,
           "rgb(171,217,233)"
          ],
          [
           0.4,
           "rgb(224,243,248)"
          ],
          [
           0.5,
           "rgb(255,255,191)"
          ],
          [
           0.6,
           "rgb(254,224,144)"
          ],
          [
           0.7,
           "rgb(253,174,97)"
          ],
          [
           0.8,
           "rgb(244,109,67)"
          ],
          [
           0.9,
           "rgb(215,48,39)"
          ],
          [
           1,
           "rgb(165,0,38)"
          ]
         ]
        },
        "template": {
         "data": {
          "bar": [
           {
            "error_x": {
             "color": "#2a3f5f"
            },
            "error_y": {
             "color": "#2a3f5f"
            },
            "marker": {
             "line": {
              "color": "#E5ECF6",
              "width": 0.5
             },
             "pattern": {
              "fillmode": "overlay",
              "size": 10,
              "solidity": 0.2
             }
            },
            "type": "bar"
           }
          ],
          "barpolar": [
           {
            "marker": {
             "line": {
              "color": "#E5ECF6",
              "width": 0.5
             },
             "pattern": {
              "fillmode": "overlay",
              "size": 10,
              "solidity": 0.2
             }
            },
            "type": "barpolar"
           }
          ],
          "carpet": [
           {
            "aaxis": {
             "endlinecolor": "#2a3f5f",
             "gridcolor": "white",
             "linecolor": "white",
             "minorgridcolor": "white",
             "startlinecolor": "#2a3f5f"
            },
            "baxis": {
             "endlinecolor": "#2a3f5f",
             "gridcolor": "white",
             "linecolor": "white",
             "minorgridcolor": "white",
             "startlinecolor": "#2a3f5f"
            },
            "type": "carpet"
           }
          ],
          "choropleth": [
           {
            "colorbar": {
             "outlinewidth": 0,
             "ticks": ""
            },
            "type": "choropleth"
           }
          ],
          "contour": [
           {
            "colorbar": {
             "outlinewidth": 0,
             "ticks": ""
            },
            "colorscale": [
             [
              0,
              "#0d0887"
             ],
             [
              0.1111111111111111,
              "#46039f"
             ],
             [
              0.2222222222222222,
              "#7201a8"
             ],
             [
              0.3333333333333333,
              "#9c179e"
             ],
             [
              0.4444444444444444,
              "#bd3786"
             ],
             [
              0.5555555555555556,
              "#d8576b"
             ],
             [
              0.6666666666666666,
              "#ed7953"
             ],
             [
              0.7777777777777778,
              "#fb9f3a"
             ],
             [
              0.8888888888888888,
              "#fdca26"
             ],
             [
              1,
              "#f0f921"
             ]
            ],
            "type": "contour"
           }
          ],
          "contourcarpet": [
           {
            "colorbar": {
             "outlinewidth": 0,
             "ticks": ""
            },
            "type": "contourcarpet"
           }
          ],
          "heatmap": [
           {
            "colorbar": {
             "outlinewidth": 0,
             "ticks": ""
            },
            "colorscale": [
             [
              0,
              "#0d0887"
             ],
             [
              0.1111111111111111,
              "#46039f"
             ],
             [
              0.2222222222222222,
              "#7201a8"
             ],
             [
              0.3333333333333333,
              "#9c179e"
             ],
             [
              0.4444444444444444,
              "#bd3786"
             ],
             [
              0.5555555555555556,
              "#d8576b"
             ],
             [
              0.6666666666666666,
              "#ed7953"
             ],
             [
              0.7777777777777778,
              "#fb9f3a"
             ],
             [
              0.8888888888888888,
              "#fdca26"
             ],
             [
              1,
              "#f0f921"
             ]
            ],
            "type": "heatmap"
           }
          ],
          "heatmapgl": [
           {
            "colorbar": {
             "outlinewidth": 0,
             "ticks": ""
            },
            "colorscale": [
             [
              0,
              "#0d0887"
             ],
             [
              0.1111111111111111,
              "#46039f"
             ],
             [
              0.2222222222222222,
              "#7201a8"
             ],
             [
              0.3333333333333333,
              "#9c179e"
             ],
             [
              0.4444444444444444,
              "#bd3786"
             ],
             [
              0.5555555555555556,
              "#d8576b"
             ],
             [
              0.6666666666666666,
              "#ed7953"
             ],
             [
              0.7777777777777778,
              "#fb9f3a"
             ],
             [
              0.8888888888888888,
              "#fdca26"
             ],
             [
              1,
              "#f0f921"
             ]
            ],
            "type": "heatmapgl"
           }
          ],
          "histogram": [
           {
            "marker": {
             "pattern": {
              "fillmode": "overlay",
              "size": 10,
              "solidity": 0.2
             }
            },
            "type": "histogram"
           }
          ],
          "histogram2d": [
           {
            "colorbar": {
             "outlinewidth": 0,
             "ticks": ""
            },
            "colorscale": [
             [
              0,
              "#0d0887"
             ],
             [
              0.1111111111111111,
              "#46039f"
             ],
             [
              0.2222222222222222,
              "#7201a8"
             ],
             [
              0.3333333333333333,
              "#9c179e"
             ],
             [
              0.4444444444444444,
              "#bd3786"
             ],
             [
              0.5555555555555556,
              "#d8576b"
             ],
             [
              0.6666666666666666,
              "#ed7953"
             ],
             [
              0.7777777777777778,
              "#fb9f3a"
             ],
             [
              0.8888888888888888,
              "#fdca26"
             ],
             [
              1,
              "#f0f921"
             ]
            ],
            "type": "histogram2d"
           }
          ],
          "histogram2dcontour": [
           {
            "colorbar": {
             "outlinewidth": 0,
             "ticks": ""
            },
            "colorscale": [
             [
              0,
              "#0d0887"
             ],
             [
              0.1111111111111111,
              "#46039f"
             ],
             [
              0.2222222222222222,
              "#7201a8"
             ],
             [
              0.3333333333333333,
              "#9c179e"
             ],
             [
              0.4444444444444444,
              "#bd3786"
             ],
             [
              0.5555555555555556,
              "#d8576b"
             ],
             [
              0.6666666666666666,
              "#ed7953"
             ],
             [
              0.7777777777777778,
              "#fb9f3a"
             ],
             [
              0.8888888888888888,
              "#fdca26"
             ],
             [
              1,
              "#f0f921"
             ]
            ],
            "type": "histogram2dcontour"
           }
          ],
          "mesh3d": [
           {
            "colorbar": {
             "outlinewidth": 0,
             "ticks": ""
            },
            "type": "mesh3d"
           }
          ],
          "parcoords": [
           {
            "line": {
             "colorbar": {
              "outlinewidth": 0,
              "ticks": ""
             }
            },
            "type": "parcoords"
           }
          ],
          "pie": [
           {
            "automargin": true,
            "type": "pie"
           }
          ],
          "scatter": [
           {
            "fillpattern": {
             "fillmode": "overlay",
             "size": 10,
             "solidity": 0.2
            },
            "type": "scatter"
           }
          ],
          "scatter3d": [
           {
            "line": {
             "colorbar": {
              "outlinewidth": 0,
              "ticks": ""
             }
            },
            "marker": {
             "colorbar": {
              "outlinewidth": 0,
              "ticks": ""
             }
            },
            "type": "scatter3d"
           }
          ],
          "scattercarpet": [
           {
            "marker": {
             "colorbar": {
              "outlinewidth": 0,
              "ticks": ""
             }
            },
            "type": "scattercarpet"
           }
          ],
          "scattergeo": [
           {
            "marker": {
             "colorbar": {
              "outlinewidth": 0,
              "ticks": ""
             }
            },
            "type": "scattergeo"
           }
          ],
          "scattergl": [
           {
            "marker": {
             "colorbar": {
              "outlinewidth": 0,
              "ticks": ""
             }
            },
            "type": "scattergl"
           }
          ],
          "scattermapbox": [
           {
            "marker": {
             "colorbar": {
              "outlinewidth": 0,
              "ticks": ""
             }
            },
            "type": "scattermapbox"
           }
          ],
          "scatterpolar": [
           {
            "marker": {
             "colorbar": {
              "outlinewidth": 0,
              "ticks": ""
             }
            },
            "type": "scatterpolar"
           }
          ],
          "scatterpolargl": [
           {
            "marker": {
             "colorbar": {
              "outlinewidth": 0,
              "ticks": ""
             }
            },
            "type": "scatterpolargl"
           }
          ],
          "scatterternary": [
           {
            "marker": {
             "colorbar": {
              "outlinewidth": 0,
              "ticks": ""
             }
            },
            "type": "scatterternary"
           }
          ],
          "surface": [
           {
            "colorbar": {
             "outlinewidth": 0,
             "ticks": ""
            },
            "colorscale": [
             [
              0,
              "#0d0887"
             ],
             [
              0.1111111111111111,
              "#46039f"
             ],
             [
              0.2222222222222222,
              "#7201a8"
             ],
             [
              0.3333333333333333,
              "#9c179e"
             ],
             [
              0.4444444444444444,
              "#bd3786"
             ],
             [
              0.5555555555555556,
              "#d8576b"
             ],
             [
              0.6666666666666666,
              "#ed7953"
             ],
             [
              0.7777777777777778,
              "#fb9f3a"
             ],
             [
              0.8888888888888888,
              "#fdca26"
             ],
             [
              1,
              "#f0f921"
             ]
            ],
            "type": "surface"
           }
          ],
          "table": [
           {
            "cells": {
             "fill": {
              "color": "#EBF0F8"
             },
             "line": {
              "color": "white"
             }
            },
            "header": {
             "fill": {
              "color": "#C8D4E3"
             },
             "line": {
              "color": "white"
             }
            },
            "type": "table"
           }
          ]
         },
         "layout": {
          "annotationdefaults": {
           "arrowcolor": "#2a3f5f",
           "arrowhead": 0,
           "arrowwidth": 1
          },
          "autotypenumbers": "strict",
          "coloraxis": {
           "colorbar": {
            "outlinewidth": 0,
            "ticks": ""
           }
          },
          "colorscale": {
           "diverging": [
            [
             0,
             "#8e0152"
            ],
            [
             0.1,
             "#c51b7d"
            ],
            [
             0.2,
             "#de77ae"
            ],
            [
             0.3,
             "#f1b6da"
            ],
            [
             0.4,
             "#fde0ef"
            ],
            [
             0.5,
             "#f7f7f7"
            ],
            [
             0.6,
             "#e6f5d0"
            ],
            [
             0.7,
             "#b8e186"
            ],
            [
             0.8,
             "#7fbc41"
            ],
            [
             0.9,
             "#4d9221"
            ],
            [
             1,
             "#276419"
            ]
           ],
           "sequential": [
            [
             0,
             "#0d0887"
            ],
            [
             0.1111111111111111,
             "#46039f"
            ],
            [
             0.2222222222222222,
             "#7201a8"
            ],
            [
             0.3333333333333333,
             "#9c179e"
            ],
            [
             0.4444444444444444,
             "#bd3786"
            ],
            [
             0.5555555555555556,
             "#d8576b"
            ],
            [
             0.6666666666666666,
             "#ed7953"
            ],
            [
             0.7777777777777778,
             "#fb9f3a"
            ],
            [
             0.8888888888888888,
             "#fdca26"
            ],
            [
             1,
             "#f0f921"
            ]
           ],
           "sequentialminus": [
            [
             0,
             "#0d0887"
            ],
            [
             0.1111111111111111,
             "#46039f"
            ],
            [
             0.2222222222222222,
             "#7201a8"
            ],
            [
             0.3333333333333333,
             "#9c179e"
            ],
            [
             0.4444444444444444,
             "#bd3786"
            ],
            [
             0.5555555555555556,
             "#d8576b"
            ],
            [
             0.6666666666666666,
             "#ed7953"
            ],
            [
             0.7777777777777778,
             "#fb9f3a"
            ],
            [
             0.8888888888888888,
             "#fdca26"
            ],
            [
             1,
             "#f0f921"
            ]
           ]
          },
          "colorway": [
           "#636efa",
           "#EF553B",
           "#00cc96",
           "#ab63fa",
           "#FFA15A",
           "#19d3f3",
           "#FF6692",
           "#B6E880",
           "#FF97FF",
           "#FECB52"
          ],
          "font": {
           "color": "#2a3f5f"
          },
          "geo": {
           "bgcolor": "white",
           "lakecolor": "white",
           "landcolor": "#E5ECF6",
           "showlakes": true,
           "showland": true,
           "subunitcolor": "white"
          },
          "hoverlabel": {
           "align": "left"
          },
          "hovermode": "closest",
          "mapbox": {
           "style": "light"
          },
          "paper_bgcolor": "white",
          "plot_bgcolor": "#E5ECF6",
          "polar": {
           "angularaxis": {
            "gridcolor": "white",
            "linecolor": "white",
            "ticks": ""
           },
           "bgcolor": "#E5ECF6",
           "radialaxis": {
            "gridcolor": "white",
            "linecolor": "white",
            "ticks": ""
           }
          },
          "scene": {
           "xaxis": {
            "backgroundcolor": "#E5ECF6",
            "gridcolor": "white",
            "gridwidth": 2,
            "linecolor": "white",
            "showbackground": true,
            "ticks": "",
            "zerolinecolor": "white"
           },
           "yaxis": {
            "backgroundcolor": "#E5ECF6",
            "gridcolor": "white",
            "gridwidth": 2,
            "linecolor": "white",
            "showbackground": true,
            "ticks": "",
            "zerolinecolor": "white"
           },
           "zaxis": {
            "backgroundcolor": "#E5ECF6",
            "gridcolor": "white",
            "gridwidth": 2,
            "linecolor": "white",
            "showbackground": true,
            "ticks": "",
            "zerolinecolor": "white"
           }
          },
          "shapedefaults": {
           "line": {
            "color": "#2a3f5f"
           }
          },
          "ternary": {
           "aaxis": {
            "gridcolor": "white",
            "linecolor": "white",
            "ticks": ""
           },
           "baxis": {
            "gridcolor": "white",
            "linecolor": "white",
            "ticks": ""
           },
           "bgcolor": "#E5ECF6",
           "caxis": {
            "gridcolor": "white",
            "linecolor": "white",
            "ticks": ""
           }
          },
          "title": {
           "x": 0.05
          },
          "xaxis": {
           "automargin": true,
           "gridcolor": "white",
           "linecolor": "white",
           "ticks": "",
           "title": {
            "standoff": 15
           },
           "zerolinecolor": "white",
           "zerolinewidth": 2
          },
          "yaxis": {
           "automargin": true,
           "gridcolor": "white",
           "linecolor": "white",
           "ticks": "",
           "title": {
            "standoff": 15
           },
           "zerolinecolor": "white",
           "zerolinewidth": 2
          }
         }
        },
        "title": {
         "text": "Error Heatmap: Hour of Day vs Forecast Lead Time"
        },
        "xaxis": {
         "anchor": "y",
         "domain": [
          0,
          1
         ],
         "title": {
          "text": "Hours Ahead"
         }
        },
        "yaxis": {
         "anchor": "x",
         "autorange": "reversed",
         "domain": [
          0,
          1
         ],
         "title": {
          "text": "Hour of Day (EST)"
         }
        }
       }
      }
     },
     "metadata": {},
     "output_type": "display_data"
    },
    {
     "name": "stdout",
     "output_type": "stream",
     "text": [
      "\n",
      "Summary Statistics:\n",
      "Overall Mean Absolute Error: 3.76°F\n",
      "Median Absolute Error: 3.00°F\n",
      "\n",
      "Mean Absolute Error by Lead Time:\n",
      "hours_ahead\n",
      "0     1.02\n",
      "1     2.04\n",
      "2     2.58\n",
      "3     2.86\n",
      "4     3.23\n",
      "5     3.40\n",
      "6     3.66\n",
      "7     3.81\n",
      "8     3.97\n",
      "9     4.00\n",
      "10    5.40\n",
      "11    6.94\n",
      "12    6.87\n",
      "13    5.75\n",
      "14    5.41\n",
      "15    4.00\n",
      "16    3.10\n",
      "17    2.78\n",
      "18    2.50\n",
      "19    1.57\n",
      "20    1.08\n",
      "21    0.86\n",
      "22    1.07\n",
      "23    1.27\n",
      "24    1.18\n",
      "Name: error_magnitude, dtype: float64\n"
     ]
    },
    {
     "data": {
      "application/vnd.plotly.v1+json": {
       "config": {
        "plotlyServerURL": "https://plot.ly"
       },
       "data": [
        {
         "hovertemplate": "Hours Ahead of Forecast=%{x}<br>Absolute Error (°F)=%{y}<extra></extra>",
         "legendgroup": "",
         "marker": {
          "color": "#636efa",
          "opacity": 0.5,
          "symbol": "circle"
         },
         "mode": "markers",
         "name": "",
         "orientation": "v",
         "showlegend": false,
         "type": "scatter",
         "x": [
          0,
          0,
          1,
          1,
          1,
          14,
          14,
          14,
          13,
          13,
          12,
          12,
          12,
          12,
          12,
          10,
          9,
          9,
          9,
          9,
          9,
          9,
          9,
          9,
          9,
          8,
          8,
          8,
          8,
          8,
          8,
          8,
          8,
          7,
          6,
          5,
          4,
          3,
          2,
          1,
          15,
          15,
          15,
          14,
          14,
          13,
          13,
          13,
          13,
          13,
          11,
          10,
          9,
          10,
          10,
          10,
          10,
          10,
          10,
          10,
          10,
          9,
          9,
          9,
          9,
          9,
          9,
          9,
          8,
          7,
          6,
          5,
          4,
          3,
          2,
          1,
          16,
          16,
          16,
          15,
          15,
          14,
          14,
          14,
          14,
          14,
          12,
          11,
          10,
          11,
          11,
          11,
          11,
          11,
          11,
          11,
          11,
          10,
          10,
          10,
          10,
          10,
          10,
          10,
          9,
          8,
          7,
          6,
          5,
          4,
          3,
          2,
          1,
          17,
          17,
          17,
          16,
          16,
          15,
          15,
          15,
          15,
          15,
          13,
          12,
          11,
          12,
          12,
          12,
          12,
          12,
          12,
          12,
          12,
          11,
          11,
          11,
          11,
          11,
          11,
          11,
          10,
          9,
          8,
          7,
          6,
          5,
          4,
          3,
          2,
          18,
          18,
          18,
          17,
          17,
          16,
          16,
          16,
          16,
          16,
          14,
          13,
          12,
          13,
          13,
          13,
          13,
          13,
          13,
          13,
          13,
          12,
          12,
          12,
          12,
          12,
          12,
          12,
          11,
          10,
          9,
          8,
          7,
          6,
          5,
          4,
          3,
          1,
          19,
          19,
          19,
          18,
          18,
          17,
          17,
          17,
          17,
          17,
          15,
          14,
          13,
          14,
          14,
          14,
          14,
          14,
          14,
          14,
          14,
          13,
          13,
          13,
          13,
          13,
          13,
          13,
          12,
          11,
          10,
          9,
          8,
          7,
          6,
          5,
          4,
          2,
          1,
          20,
          20,
          20,
          19,
          19,
          18,
          18,
          18,
          18,
          18,
          16,
          15,
          14,
          15,
          15,
          15,
          15,
          15,
          15,
          15,
          15,
          14,
          14,
          14,
          14,
          14,
          14,
          14,
          13,
          12,
          11,
          10,
          9,
          8,
          7,
          6,
          5,
          3,
          2,
          1,
          21,
          21,
          21,
          20,
          20,
          19,
          19,
          19,
          19,
          19,
          17,
          16,
          15,
          16,
          16,
          16,
          16,
          16,
          16,
          16,
          16,
          15,
          15,
          15,
          15,
          15,
          15,
          15,
          14,
          13,
          12,
          11,
          10,
          9,
          8,
          7,
          6,
          4,
          3,
          2,
          1,
          22,
          22,
          22,
          21,
          21,
          20,
          20,
          20,
          20,
          20,
          18,
          17,
          16,
          17,
          17,
          17,
          17,
          17,
          17,
          17,
          17,
          16,
          16,
          16,
          16,
          16,
          16,
          16,
          15,
          14,
          13,
          12,
          11,
          10,
          9,
          8,
          7,
          5,
          4,
          3,
          2,
          1,
          23,
          23,
          23,
          22,
          22,
          21,
          21,
          21,
          21,
          21,
          19,
          18,
          17,
          18,
          18,
          18,
          18,
          18,
          18,
          18,
          18,
          17,
          17,
          17,
          17,
          17,
          17,
          17,
          16,
          15,
          14,
          13,
          12,
          11,
          10,
          9,
          8,
          6,
          5,
          4,
          3,
          2,
          1,
          24,
          23,
          23,
          22,
          22,
          22,
          22,
          22,
          20,
          19,
          18,
          19,
          19,
          19,
          19,
          19,
          19,
          19,
          19,
          18,
          18,
          18,
          18,
          18,
          18,
          18,
          17,
          16,
          15,
          14,
          13,
          12,
          11,
          10,
          9,
          7,
          6,
          5,
          4,
          3,
          2,
          1,
          24,
          24,
          23,
          23,
          23,
          23,
          23,
          21,
          20,
          19,
          20,
          20,
          20,
          20,
          20,
          20,
          20,
          20,
          19,
          19,
          19,
          19,
          19,
          19,
          19,
          18,
          17,
          16,
          15,
          14,
          13,
          12,
          11,
          10,
          8,
          7,
          6,
          5,
          4,
          3,
          2,
          1
         ],
         "xaxis": "x",
         "y": [
          1.0200000000000031,
          1.0200000000000031,
          0.020000000000003126,
          0.020000000000003126,
          0.020000000000003126,
          9.04,
          9.04,
          9.04,
          9.04,
          9.04,
          9.04,
          9.04,
          9.04,
          9.04,
          9.04,
          9.04,
          4.039999999999999,
          4.039999999999999,
          4.039999999999999,
          4.039999999999999,
          4.039999999999999,
          4.039999999999999,
          4.039999999999999,
          4.039999999999999,
          4.039999999999999,
          4.039999999999999,
          4.039999999999999,
          4.039999999999999,
          4.039999999999999,
          4.039999999999999,
          4.039999999999999,
          4.039999999999999,
          4.039999999999999,
          2.039999999999999,
          2.039999999999999,
          2.039999999999999,
          2.039999999999999,
          2.039999999999999,
          2.039999999999999,
          2.039999999999999,
          8.04,
          8.04,
          8.04,
          8.04,
          8.04,
          8.04,
          8.04,
          8.04,
          8.04,
          8.04,
          8.04,
          4.039999999999999,
          4.039999999999999,
          4.039999999999999,
          4.039999999999999,
          4.039999999999999,
          4.039999999999999,
          4.039999999999999,
          4.039999999999999,
          4.039999999999999,
          4.039999999999999,
          4.039999999999999,
          4.039999999999999,
          4.039999999999999,
          4.039999999999999,
          4.039999999999999,
          4.039999999999999,
          4.039999999999999,
          3.039999999999999,
          3.039999999999999,
          3.039999999999999,
          3.039999999999999,
          3.039999999999999,
          3.039999999999999,
          3.039999999999999,
          4.039999999999999,
          11,
          11,
          11,
          11,
          11,
          11,
          11,
          11,
          11,
          11,
          11,
          9,
          9,
          9,
          9,
          9,
          9,
          9,
          9,
          9,
          9,
          9,
          9,
          9,
          9,
          9,
          9,
          9,
          8,
          8,
          8,
          8,
          8,
          8,
          8,
          7,
          7,
          9,
          9,
          9,
          9,
          9,
          9,
          9,
          9,
          9,
          9,
          9,
          9,
          9,
          9,
          9,
          9,
          9,
          9,
          9,
          9,
          9,
          9,
          9,
          9,
          9,
          9,
          9,
          9,
          9,
          9,
          9,
          9,
          9,
          9,
          9,
          6,
          6,
          7.079999999999998,
          7.079999999999998,
          7.079999999999998,
          7.079999999999998,
          7.079999999999998,
          7.079999999999998,
          7.079999999999998,
          7.079999999999998,
          7.079999999999998,
          7.079999999999998,
          7.079999999999998,
          7.079999999999998,
          7.079999999999998,
          7.079999999999998,
          7.079999999999998,
          7.079999999999998,
          7.079999999999998,
          7.079999999999998,
          7.079999999999998,
          7.079999999999998,
          7.079999999999998,
          7.079999999999998,
          7.079999999999998,
          7.079999999999998,
          7.079999999999998,
          7.079999999999998,
          7.079999999999998,
          7.079999999999998,
          7.079999999999998,
          7.079999999999998,
          7.079999999999998,
          7.079999999999998,
          7.079999999999998,
          7.079999999999998,
          7.079999999999998,
          5.079999999999998,
          5.079999999999998,
          5.079999999999998,
          5,
          5,
          5,
          5,
          5,
          5,
          5,
          5,
          5,
          5,
          5,
          5,
          5,
          5,
          5,
          5,
          5,
          5,
          5,
          5,
          5,
          5,
          5,
          5,
          5,
          5,
          5,
          5,
          5,
          5,
          5,
          5,
          5,
          5,
          5,
          2,
          2,
          3,
          3,
          3,
          3,
          3,
          3,
          3,
          3,
          3,
          3,
          3,
          3,
          3,
          3,
          3,
          3,
          3,
          3,
          3,
          3,
          3,
          3,
          3,
          3,
          3,
          3,
          3,
          3,
          3,
          3,
          3,
          3,
          3,
          3,
          3,
          3,
          3,
          1,
          1,
          1,
          1,
          1,
          0.0799999999999983,
          0.0799999999999983,
          0.0799999999999983,
          0.0799999999999983,
          0.0799999999999983,
          0.0799999999999983,
          0.0799999999999983,
          0.0799999999999983,
          0.0799999999999983,
          0.0799999999999983,
          0.0799999999999983,
          0.0799999999999983,
          0.0799999999999983,
          0.0799999999999983,
          0.0799999999999983,
          0.0799999999999983,
          0.0799999999999983,
          0.0799999999999983,
          0.0799999999999983,
          0.0799999999999983,
          0.0799999999999983,
          0.0799999999999983,
          0.0799999999999983,
          0.0799999999999983,
          0.0799999999999983,
          0.0799999999999983,
          0.0799999999999983,
          0.0799999999999983,
          0.0799999999999983,
          0.0799999999999983,
          0.0799999999999983,
          0.0799999999999983,
          0.0799999999999983,
          0.0799999999999983,
          0.0799999999999983,
          1.0799999999999983,
          1.0799999999999983,
          1.0799999999999983,
          1.0799999999999983,
          1.0799999999999983,
          1.0799999999999983,
          0.2599999999999909,
          0.2599999999999909,
          0.2599999999999909,
          0.2599999999999909,
          0.2599999999999909,
          0.2599999999999909,
          0.2599999999999909,
          0.2599999999999909,
          0.2599999999999909,
          0.2599999999999909,
          0.2599999999999909,
          0.2599999999999909,
          0.2599999999999909,
          0.2599999999999909,
          0.2599999999999909,
          0.2599999999999909,
          0.2599999999999909,
          0.2599999999999909,
          0.2599999999999909,
          0.2599999999999909,
          0.2599999999999909,
          0.2599999999999909,
          0.2599999999999909,
          0.2599999999999909,
          0.2599999999999909,
          0.2599999999999909,
          0.2599999999999909,
          0.2599999999999909,
          0.2599999999999909,
          0.2599999999999909,
          0.2599999999999909,
          0.2599999999999909,
          0.2599999999999909,
          0.2599999999999909,
          0.2599999999999909,
          1.259999999999991,
          1.259999999999991,
          1.259999999999991,
          1.259999999999991,
          1.259999999999991,
          1.259999999999991,
          1.259999999999991,
          1.5300000000000011,
          1.5300000000000011,
          1.5300000000000011,
          1.5300000000000011,
          1.5300000000000011,
          1.5300000000000011,
          1.5300000000000011,
          1.5300000000000011,
          1.5300000000000011,
          1.5300000000000011,
          1.5300000000000011,
          1.5300000000000011,
          1.5300000000000011,
          1.5300000000000011,
          1.5300000000000011,
          1.5300000000000011,
          1.5300000000000011,
          1.5300000000000011,
          1.5300000000000011,
          1.5300000000000011,
          1.5300000000000011,
          1.5300000000000011,
          1.5300000000000011,
          1.5300000000000011,
          1.5300000000000011,
          1.5300000000000011,
          1.5300000000000011,
          1.5300000000000011,
          1.5300000000000011,
          1.5300000000000011,
          1.5300000000000011,
          1.5300000000000011,
          1.5300000000000011,
          1.5300000000000011,
          1.5300000000000011,
          1.5300000000000011,
          1.5300000000000011,
          1.5300000000000011,
          1.5300000000000011,
          1.5300000000000011,
          1.5300000000000011,
          1.5300000000000011,
          1.5300000000000011,
          1.3799999999999955,
          1.3799999999999955,
          1.3799999999999955,
          1.3799999999999955,
          1.3799999999999955,
          1.3799999999999955,
          1.3799999999999955,
          1.3799999999999955,
          1.3799999999999955,
          1.3799999999999955,
          1.3799999999999955,
          1.3799999999999955,
          1.3799999999999955,
          1.3799999999999955,
          1.3799999999999955,
          1.3799999999999955,
          1.3799999999999955,
          1.3799999999999955,
          1.3799999999999955,
          1.3799999999999955,
          1.3799999999999955,
          1.3799999999999955,
          1.3799999999999955,
          1.3799999999999955,
          1.3799999999999955,
          1.3799999999999955,
          1.3799999999999955,
          1.3799999999999955,
          1.3799999999999955,
          1.3799999999999955,
          1.3799999999999955,
          1.3799999999999955,
          1.3799999999999955,
          1.3799999999999955,
          1.3799999999999955,
          1.3799999999999955,
          1.3799999999999955,
          1.3799999999999955,
          1.3799999999999955,
          1.3799999999999955,
          1.3799999999999955,
          1.3799999999999955,
          1.0799999999999983,
          1.0799999999999983,
          1.0799999999999983,
          1.0799999999999983,
          1.0799999999999983,
          1.0799999999999983,
          1.0799999999999983,
          1.0799999999999983,
          1.0799999999999983,
          1.0799999999999983,
          1.0799999999999983,
          1.0799999999999983,
          1.0799999999999983,
          1.0799999999999983,
          1.0799999999999983,
          1.0799999999999983,
          1.0799999999999983,
          1.0799999999999983,
          1.0799999999999983,
          1.0799999999999983,
          1.0799999999999983,
          1.0799999999999983,
          1.0799999999999983,
          1.0799999999999983,
          1.0799999999999983,
          1.0799999999999983,
          1.0799999999999983,
          1.0799999999999983,
          1.0799999999999983,
          1.0799999999999983,
          1.0799999999999983,
          1.0799999999999983,
          1.0799999999999983,
          1.0799999999999983,
          1.0799999999999983,
          1.0799999999999983,
          1.0799999999999983,
          1.0799999999999983,
          1.0799999999999983,
          1.0799999999999983,
          1.0799999999999983,
          1.0799999999999983
         ],
         "yaxis": "y"
        },
        {
         "hovertemplate": "<b>OLS trendline</b><br>error_magnitude = -0.106947 * hours_ahead + 5.13921<br>R<sup>2</sup>=0.034414<br><br>Hours Ahead of Forecast=%{x}<br>Absolute Error (°F)=%{y} <b>(trend)</b><extra></extra>",
         "legendgroup": "",
         "marker": {
          "color": "#636efa",
          "symbol": "circle"
         },
         "mode": "lines",
         "name": "",
         "showlegend": false,
         "type": "scatter",
         "x": [
          0,
          0,
          1,
          1,
          1,
          1,
          1,
          1,
          1,
          1,
          1,
          1,
          1,
          1,
          1,
          1,
          2,
          2,
          2,
          2,
          2,
          2,
          2,
          2,
          2,
          2,
          2,
          3,
          3,
          3,
          3,
          3,
          3,
          3,
          3,
          3,
          3,
          3,
          4,
          4,
          4,
          4,
          4,
          4,
          4,
          4,
          4,
          4,
          4,
          5,
          5,
          5,
          5,
          5,
          5,
          5,
          5,
          5,
          5,
          5,
          6,
          6,
          6,
          6,
          6,
          6,
          6,
          6,
          6,
          6,
          6,
          7,
          7,
          7,
          7,
          7,
          7,
          7,
          7,
          7,
          7,
          7,
          8,
          8,
          8,
          8,
          8,
          8,
          8,
          8,
          8,
          8,
          8,
          8,
          8,
          8,
          8,
          8,
          8,
          8,
          9,
          9,
          9,
          9,
          9,
          9,
          9,
          9,
          9,
          9,
          9,
          9,
          9,
          9,
          9,
          9,
          9,
          9,
          9,
          9,
          9,
          9,
          9,
          9,
          9,
          9,
          10,
          10,
          10,
          10,
          10,
          10,
          10,
          10,
          10,
          10,
          10,
          10,
          10,
          10,
          10,
          10,
          10,
          10,
          10,
          10,
          10,
          10,
          10,
          10,
          10,
          10,
          10,
          11,
          11,
          11,
          11,
          11,
          11,
          11,
          11,
          11,
          11,
          11,
          11,
          11,
          11,
          11,
          11,
          11,
          11,
          11,
          11,
          11,
          11,
          11,
          11,
          11,
          11,
          12,
          12,
          12,
          12,
          12,
          12,
          12,
          12,
          12,
          12,
          12,
          12,
          12,
          12,
          12,
          12,
          12,
          12,
          12,
          12,
          12,
          12,
          12,
          12,
          12,
          12,
          12,
          12,
          12,
          12,
          13,
          13,
          13,
          13,
          13,
          13,
          13,
          13,
          13,
          13,
          13,
          13,
          13,
          13,
          13,
          13,
          13,
          13,
          13,
          13,
          13,
          13,
          13,
          13,
          13,
          13,
          13,
          13,
          13,
          13,
          13,
          14,
          14,
          14,
          14,
          14,
          14,
          14,
          14,
          14,
          14,
          14,
          14,
          14,
          14,
          14,
          14,
          14,
          14,
          14,
          14,
          14,
          14,
          14,
          14,
          14,
          14,
          14,
          14,
          14,
          14,
          14,
          14,
          14,
          15,
          15,
          15,
          15,
          15,
          15,
          15,
          15,
          15,
          15,
          15,
          15,
          15,
          15,
          15,
          15,
          15,
          15,
          15,
          15,
          15,
          15,
          15,
          15,
          15,
          15,
          15,
          15,
          15,
          15,
          15,
          15,
          16,
          16,
          16,
          16,
          16,
          16,
          16,
          16,
          16,
          16,
          16,
          16,
          16,
          16,
          16,
          16,
          16,
          16,
          16,
          16,
          16,
          16,
          16,
          16,
          16,
          16,
          16,
          16,
          16,
          16,
          16,
          17,
          17,
          17,
          17,
          17,
          17,
          17,
          17,
          17,
          17,
          17,
          17,
          17,
          17,
          17,
          17,
          17,
          17,
          17,
          17,
          17,
          17,
          17,
          17,
          17,
          17,
          17,
          17,
          17,
          17,
          18,
          18,
          18,
          18,
          18,
          18,
          18,
          18,
          18,
          18,
          18,
          18,
          18,
          18,
          18,
          18,
          18,
          18,
          18,
          18,
          18,
          18,
          18,
          18,
          18,
          18,
          18,
          18,
          18,
          19,
          19,
          19,
          19,
          19,
          19,
          19,
          19,
          19,
          19,
          19,
          19,
          19,
          19,
          19,
          19,
          19,
          19,
          19,
          19,
          19,
          19,
          19,
          19,
          19,
          19,
          19,
          19,
          20,
          20,
          20,
          20,
          20,
          20,
          20,
          20,
          20,
          20,
          20,
          20,
          20,
          20,
          20,
          20,
          20,
          20,
          20,
          20,
          21,
          21,
          21,
          21,
          21,
          21,
          21,
          21,
          21,
          21,
          21,
          22,
          22,
          22,
          22,
          22,
          22,
          22,
          22,
          22,
          22,
          23,
          23,
          23,
          23,
          23,
          23,
          23,
          23,
          23,
          23,
          24,
          24,
          24
         ],
         "xaxis": "x",
         "y": [
          5.13920764871434,
          5.13920764871434,
          5.032261023947711,
          5.032261023947711,
          5.032261023947711,
          5.032261023947711,
          5.032261023947711,
          5.032261023947711,
          5.032261023947711,
          5.032261023947711,
          5.032261023947711,
          5.032261023947711,
          5.032261023947711,
          5.032261023947711,
          5.032261023947711,
          5.032261023947711,
          4.92531439918108,
          4.92531439918108,
          4.92531439918108,
          4.92531439918108,
          4.92531439918108,
          4.92531439918108,
          4.92531439918108,
          4.92531439918108,
          4.92531439918108,
          4.92531439918108,
          4.92531439918108,
          4.818367774414451,
          4.818367774414451,
          4.818367774414451,
          4.818367774414451,
          4.818367774414451,
          4.818367774414451,
          4.818367774414451,
          4.818367774414451,
          4.818367774414451,
          4.818367774414451,
          4.818367774414451,
          4.711421149647822,
          4.711421149647822,
          4.711421149647822,
          4.711421149647822,
          4.711421149647822,
          4.711421149647822,
          4.711421149647822,
          4.711421149647822,
          4.711421149647822,
          4.711421149647822,
          4.711421149647822,
          4.604474524881192,
          4.604474524881192,
          4.604474524881192,
          4.604474524881192,
          4.604474524881192,
          4.604474524881192,
          4.604474524881192,
          4.604474524881192,
          4.604474524881192,
          4.604474524881192,
          4.604474524881192,
          4.497527900114562,
          4.497527900114562,
          4.497527900114562,
          4.497527900114562,
          4.497527900114562,
          4.497527900114562,
          4.497527900114562,
          4.497527900114562,
          4.497527900114562,
          4.497527900114562,
          4.497527900114562,
          4.390581275347933,
          4.390581275347933,
          4.390581275347933,
          4.390581275347933,
          4.390581275347933,
          4.390581275347933,
          4.390581275347933,
          4.390581275347933,
          4.390581275347933,
          4.390581275347933,
          4.390581275347933,
          4.283634650581303,
          4.283634650581303,
          4.283634650581303,
          4.283634650581303,
          4.283634650581303,
          4.283634650581303,
          4.283634650581303,
          4.283634650581303,
          4.283634650581303,
          4.283634650581303,
          4.283634650581303,
          4.283634650581303,
          4.283634650581303,
          4.283634650581303,
          4.283634650581303,
          4.283634650581303,
          4.283634650581303,
          4.283634650581303,
          4.1766880258146735,
          4.1766880258146735,
          4.1766880258146735,
          4.1766880258146735,
          4.1766880258146735,
          4.1766880258146735,
          4.1766880258146735,
          4.1766880258146735,
          4.1766880258146735,
          4.1766880258146735,
          4.1766880258146735,
          4.1766880258146735,
          4.1766880258146735,
          4.1766880258146735,
          4.1766880258146735,
          4.1766880258146735,
          4.1766880258146735,
          4.1766880258146735,
          4.1766880258146735,
          4.1766880258146735,
          4.1766880258146735,
          4.1766880258146735,
          4.1766880258146735,
          4.1766880258146735,
          4.1766880258146735,
          4.1766880258146735,
          4.069741401048043,
          4.069741401048043,
          4.069741401048043,
          4.069741401048043,
          4.069741401048043,
          4.069741401048043,
          4.069741401048043,
          4.069741401048043,
          4.069741401048043,
          4.069741401048043,
          4.069741401048043,
          4.069741401048043,
          4.069741401048043,
          4.069741401048043,
          4.069741401048043,
          4.069741401048043,
          4.069741401048043,
          4.069741401048043,
          4.069741401048043,
          4.069741401048043,
          4.069741401048043,
          4.069741401048043,
          4.069741401048043,
          4.069741401048043,
          4.069741401048043,
          4.069741401048043,
          4.069741401048043,
          3.962794776281414,
          3.962794776281414,
          3.962794776281414,
          3.962794776281414,
          3.962794776281414,
          3.962794776281414,
          3.962794776281414,
          3.962794776281414,
          3.962794776281414,
          3.962794776281414,
          3.962794776281414,
          3.962794776281414,
          3.962794776281414,
          3.962794776281414,
          3.962794776281414,
          3.962794776281414,
          3.962794776281414,
          3.962794776281414,
          3.962794776281414,
          3.962794776281414,
          3.962794776281414,
          3.962794776281414,
          3.962794776281414,
          3.962794776281414,
          3.962794776281414,
          3.962794776281414,
          3.8558481515147847,
          3.8558481515147847,
          3.8558481515147847,
          3.8558481515147847,
          3.8558481515147847,
          3.8558481515147847,
          3.8558481515147847,
          3.8558481515147847,
          3.8558481515147847,
          3.8558481515147847,
          3.8558481515147847,
          3.8558481515147847,
          3.8558481515147847,
          3.8558481515147847,
          3.8558481515147847,
          3.8558481515147847,
          3.8558481515147847,
          3.8558481515147847,
          3.8558481515147847,
          3.8558481515147847,
          3.8558481515147847,
          3.8558481515147847,
          3.8558481515147847,
          3.8558481515147847,
          3.8558481515147847,
          3.8558481515147847,
          3.8558481515147847,
          3.8558481515147847,
          3.8558481515147847,
          3.8558481515147847,
          3.748901526748155,
          3.748901526748155,
          3.748901526748155,
          3.748901526748155,
          3.748901526748155,
          3.748901526748155,
          3.748901526748155,
          3.748901526748155,
          3.748901526748155,
          3.748901526748155,
          3.748901526748155,
          3.748901526748155,
          3.748901526748155,
          3.748901526748155,
          3.748901526748155,
          3.748901526748155,
          3.748901526748155,
          3.748901526748155,
          3.748901526748155,
          3.748901526748155,
          3.748901526748155,
          3.748901526748155,
          3.748901526748155,
          3.748901526748155,
          3.748901526748155,
          3.748901526748155,
          3.748901526748155,
          3.748901526748155,
          3.748901526748155,
          3.748901526748155,
          3.748901526748155,
          3.641954901981525,
          3.641954901981525,
          3.641954901981525,
          3.641954901981525,
          3.641954901981525,
          3.641954901981525,
          3.641954901981525,
          3.641954901981525,
          3.641954901981525,
          3.641954901981525,
          3.641954901981525,
          3.641954901981525,
          3.641954901981525,
          3.641954901981525,
          3.641954901981525,
          3.641954901981525,
          3.641954901981525,
          3.641954901981525,
          3.641954901981525,
          3.641954901981525,
          3.641954901981525,
          3.641954901981525,
          3.641954901981525,
          3.641954901981525,
          3.641954901981525,
          3.641954901981525,
          3.641954901981525,
          3.641954901981525,
          3.641954901981525,
          3.641954901981525,
          3.641954901981525,
          3.641954901981525,
          3.641954901981525,
          3.535008277214896,
          3.535008277214896,
          3.535008277214896,
          3.535008277214896,
          3.535008277214896,
          3.535008277214896,
          3.535008277214896,
          3.535008277214896,
          3.535008277214896,
          3.535008277214896,
          3.535008277214896,
          3.535008277214896,
          3.535008277214896,
          3.535008277214896,
          3.535008277214896,
          3.535008277214896,
          3.535008277214896,
          3.535008277214896,
          3.535008277214896,
          3.535008277214896,
          3.535008277214896,
          3.535008277214896,
          3.535008277214896,
          3.535008277214896,
          3.535008277214896,
          3.535008277214896,
          3.535008277214896,
          3.535008277214896,
          3.535008277214896,
          3.535008277214896,
          3.535008277214896,
          3.535008277214896,
          3.428061652448266,
          3.428061652448266,
          3.428061652448266,
          3.428061652448266,
          3.428061652448266,
          3.428061652448266,
          3.428061652448266,
          3.428061652448266,
          3.428061652448266,
          3.428061652448266,
          3.428061652448266,
          3.428061652448266,
          3.428061652448266,
          3.428061652448266,
          3.428061652448266,
          3.428061652448266,
          3.428061652448266,
          3.428061652448266,
          3.428061652448266,
          3.428061652448266,
          3.428061652448266,
          3.428061652448266,
          3.428061652448266,
          3.428061652448266,
          3.428061652448266,
          3.428061652448266,
          3.428061652448266,
          3.428061652448266,
          3.428061652448266,
          3.428061652448266,
          3.428061652448266,
          3.3211150276816364,
          3.3211150276816364,
          3.3211150276816364,
          3.3211150276816364,
          3.3211150276816364,
          3.3211150276816364,
          3.3211150276816364,
          3.3211150276816364,
          3.3211150276816364,
          3.3211150276816364,
          3.3211150276816364,
          3.3211150276816364,
          3.3211150276816364,
          3.3211150276816364,
          3.3211150276816364,
          3.3211150276816364,
          3.3211150276816364,
          3.3211150276816364,
          3.3211150276816364,
          3.3211150276816364,
          3.3211150276816364,
          3.3211150276816364,
          3.3211150276816364,
          3.3211150276816364,
          3.3211150276816364,
          3.3211150276816364,
          3.3211150276816364,
          3.3211150276816364,
          3.3211150276816364,
          3.3211150276816364,
          3.214168402915007,
          3.214168402915007,
          3.214168402915007,
          3.214168402915007,
          3.214168402915007,
          3.214168402915007,
          3.214168402915007,
          3.214168402915007,
          3.214168402915007,
          3.214168402915007,
          3.214168402915007,
          3.214168402915007,
          3.214168402915007,
          3.214168402915007,
          3.214168402915007,
          3.214168402915007,
          3.214168402915007,
          3.214168402915007,
          3.214168402915007,
          3.214168402915007,
          3.214168402915007,
          3.214168402915007,
          3.214168402915007,
          3.214168402915007,
          3.214168402915007,
          3.214168402915007,
          3.214168402915007,
          3.214168402915007,
          3.214168402915007,
          3.1072217781483773,
          3.1072217781483773,
          3.1072217781483773,
          3.1072217781483773,
          3.1072217781483773,
          3.1072217781483773,
          3.1072217781483773,
          3.1072217781483773,
          3.1072217781483773,
          3.1072217781483773,
          3.1072217781483773,
          3.1072217781483773,
          3.1072217781483773,
          3.1072217781483773,
          3.1072217781483773,
          3.1072217781483773,
          3.1072217781483773,
          3.1072217781483773,
          3.1072217781483773,
          3.1072217781483773,
          3.1072217781483773,
          3.1072217781483773,
          3.1072217781483773,
          3.1072217781483773,
          3.1072217781483773,
          3.1072217781483773,
          3.1072217781483773,
          3.1072217781483773,
          3.0002751533817476,
          3.0002751533817476,
          3.0002751533817476,
          3.0002751533817476,
          3.0002751533817476,
          3.0002751533817476,
          3.0002751533817476,
          3.0002751533817476,
          3.0002751533817476,
          3.0002751533817476,
          3.0002751533817476,
          3.0002751533817476,
          3.0002751533817476,
          3.0002751533817476,
          3.0002751533817476,
          3.0002751533817476,
          3.0002751533817476,
          3.0002751533817476,
          3.0002751533817476,
          3.0002751533817476,
          2.8933285286151182,
          2.8933285286151182,
          2.8933285286151182,
          2.8933285286151182,
          2.8933285286151182,
          2.8933285286151182,
          2.8933285286151182,
          2.8933285286151182,
          2.8933285286151182,
          2.8933285286151182,
          2.8933285286151182,
          2.7863819038484885,
          2.7863819038484885,
          2.7863819038484885,
          2.7863819038484885,
          2.7863819038484885,
          2.7863819038484885,
          2.7863819038484885,
          2.7863819038484885,
          2.7863819038484885,
          2.7863819038484885,
          2.6794352790818587,
          2.6794352790818587,
          2.6794352790818587,
          2.6794352790818587,
          2.6794352790818587,
          2.6794352790818587,
          2.6794352790818587,
          2.6794352790818587,
          2.6794352790818587,
          2.6794352790818587,
          2.5724886543152294,
          2.5724886543152294,
          2.5724886543152294
         ],
         "yaxis": "y"
        }
       ],
       "layout": {
        "legend": {
         "tracegroupgap": 0
        },
        "template": {
         "data": {
          "bar": [
           {
            "error_x": {
             "color": "#2a3f5f"
            },
            "error_y": {
             "color": "#2a3f5f"
            },
            "marker": {
             "line": {
              "color": "#E5ECF6",
              "width": 0.5
             },
             "pattern": {
              "fillmode": "overlay",
              "size": 10,
              "solidity": 0.2
             }
            },
            "type": "bar"
           }
          ],
          "barpolar": [
           {
            "marker": {
             "line": {
              "color": "#E5ECF6",
              "width": 0.5
             },
             "pattern": {
              "fillmode": "overlay",
              "size": 10,
              "solidity": 0.2
             }
            },
            "type": "barpolar"
           }
          ],
          "carpet": [
           {
            "aaxis": {
             "endlinecolor": "#2a3f5f",
             "gridcolor": "white",
             "linecolor": "white",
             "minorgridcolor": "white",
             "startlinecolor": "#2a3f5f"
            },
            "baxis": {
             "endlinecolor": "#2a3f5f",
             "gridcolor": "white",
             "linecolor": "white",
             "minorgridcolor": "white",
             "startlinecolor": "#2a3f5f"
            },
            "type": "carpet"
           }
          ],
          "choropleth": [
           {
            "colorbar": {
             "outlinewidth": 0,
             "ticks": ""
            },
            "type": "choropleth"
           }
          ],
          "contour": [
           {
            "colorbar": {
             "outlinewidth": 0,
             "ticks": ""
            },
            "colorscale": [
             [
              0,
              "#0d0887"
             ],
             [
              0.1111111111111111,
              "#46039f"
             ],
             [
              0.2222222222222222,
              "#7201a8"
             ],
             [
              0.3333333333333333,
              "#9c179e"
             ],
             [
              0.4444444444444444,
              "#bd3786"
             ],
             [
              0.5555555555555556,
              "#d8576b"
             ],
             [
              0.6666666666666666,
              "#ed7953"
             ],
             [
              0.7777777777777778,
              "#fb9f3a"
             ],
             [
              0.8888888888888888,
              "#fdca26"
             ],
             [
              1,
              "#f0f921"
             ]
            ],
            "type": "contour"
           }
          ],
          "contourcarpet": [
           {
            "colorbar": {
             "outlinewidth": 0,
             "ticks": ""
            },
            "type": "contourcarpet"
           }
          ],
          "heatmap": [
           {
            "colorbar": {
             "outlinewidth": 0,
             "ticks": ""
            },
            "colorscale": [
             [
              0,
              "#0d0887"
             ],
             [
              0.1111111111111111,
              "#46039f"
             ],
             [
              0.2222222222222222,
              "#7201a8"
             ],
             [
              0.3333333333333333,
              "#9c179e"
             ],
             [
              0.4444444444444444,
              "#bd3786"
             ],
             [
              0.5555555555555556,
              "#d8576b"
             ],
             [
              0.6666666666666666,
              "#ed7953"
             ],
             [
              0.7777777777777778,
              "#fb9f3a"
             ],
             [
              0.8888888888888888,
              "#fdca26"
             ],
             [
              1,
              "#f0f921"
             ]
            ],
            "type": "heatmap"
           }
          ],
          "heatmapgl": [
           {
            "colorbar": {
             "outlinewidth": 0,
             "ticks": ""
            },
            "colorscale": [
             [
              0,
              "#0d0887"
             ],
             [
              0.1111111111111111,
              "#46039f"
             ],
             [
              0.2222222222222222,
              "#7201a8"
             ],
             [
              0.3333333333333333,
              "#9c179e"
             ],
             [
              0.4444444444444444,
              "#bd3786"
             ],
             [
              0.5555555555555556,
              "#d8576b"
             ],
             [
              0.6666666666666666,
              "#ed7953"
             ],
             [
              0.7777777777777778,
              "#fb9f3a"
             ],
             [
              0.8888888888888888,
              "#fdca26"
             ],
             [
              1,
              "#f0f921"
             ]
            ],
            "type": "heatmapgl"
           }
          ],
          "histogram": [
           {
            "marker": {
             "pattern": {
              "fillmode": "overlay",
              "size": 10,
              "solidity": 0.2
             }
            },
            "type": "histogram"
           }
          ],
          "histogram2d": [
           {
            "colorbar": {
             "outlinewidth": 0,
             "ticks": ""
            },
            "colorscale": [
             [
              0,
              "#0d0887"
             ],
             [
              0.1111111111111111,
              "#46039f"
             ],
             [
              0.2222222222222222,
              "#7201a8"
             ],
             [
              0.3333333333333333,
              "#9c179e"
             ],
             [
              0.4444444444444444,
              "#bd3786"
             ],
             [
              0.5555555555555556,
              "#d8576b"
             ],
             [
              0.6666666666666666,
              "#ed7953"
             ],
             [
              0.7777777777777778,
              "#fb9f3a"
             ],
             [
              0.8888888888888888,
              "#fdca26"
             ],
             [
              1,
              "#f0f921"
             ]
            ],
            "type": "histogram2d"
           }
          ],
          "histogram2dcontour": [
           {
            "colorbar": {
             "outlinewidth": 0,
             "ticks": ""
            },
            "colorscale": [
             [
              0,
              "#0d0887"
             ],
             [
              0.1111111111111111,
              "#46039f"
             ],
             [
              0.2222222222222222,
              "#7201a8"
             ],
             [
              0.3333333333333333,
              "#9c179e"
             ],
             [
              0.4444444444444444,
              "#bd3786"
             ],
             [
              0.5555555555555556,
              "#d8576b"
             ],
             [
              0.6666666666666666,
              "#ed7953"
             ],
             [
              0.7777777777777778,
              "#fb9f3a"
             ],
             [
              0.8888888888888888,
              "#fdca26"
             ],
             [
              1,
              "#f0f921"
             ]
            ],
            "type": "histogram2dcontour"
           }
          ],
          "mesh3d": [
           {
            "colorbar": {
             "outlinewidth": 0,
             "ticks": ""
            },
            "type": "mesh3d"
           }
          ],
          "parcoords": [
           {
            "line": {
             "colorbar": {
              "outlinewidth": 0,
              "ticks": ""
             }
            },
            "type": "parcoords"
           }
          ],
          "pie": [
           {
            "automargin": true,
            "type": "pie"
           }
          ],
          "scatter": [
           {
            "fillpattern": {
             "fillmode": "overlay",
             "size": 10,
             "solidity": 0.2
            },
            "type": "scatter"
           }
          ],
          "scatter3d": [
           {
            "line": {
             "colorbar": {
              "outlinewidth": 0,
              "ticks": ""
             }
            },
            "marker": {
             "colorbar": {
              "outlinewidth": 0,
              "ticks": ""
             }
            },
            "type": "scatter3d"
           }
          ],
          "scattercarpet": [
           {
            "marker": {
             "colorbar": {
              "outlinewidth": 0,
              "ticks": ""
             }
            },
            "type": "scattercarpet"
           }
          ],
          "scattergeo": [
           {
            "marker": {
             "colorbar": {
              "outlinewidth": 0,
              "ticks": ""
             }
            },
            "type": "scattergeo"
           }
          ],
          "scattergl": [
           {
            "marker": {
             "colorbar": {
              "outlinewidth": 0,
              "ticks": ""
             }
            },
            "type": "scattergl"
           }
          ],
          "scattermapbox": [
           {
            "marker": {
             "colorbar": {
              "outlinewidth": 0,
              "ticks": ""
             }
            },
            "type": "scattermapbox"
           }
          ],
          "scatterpolar": [
           {
            "marker": {
             "colorbar": {
              "outlinewidth": 0,
              "ticks": ""
             }
            },
            "type": "scatterpolar"
           }
          ],
          "scatterpolargl": [
           {
            "marker": {
             "colorbar": {
              "outlinewidth": 0,
              "ticks": ""
             }
            },
            "type": "scatterpolargl"
           }
          ],
          "scatterternary": [
           {
            "marker": {
             "colorbar": {
              "outlinewidth": 0,
              "ticks": ""
             }
            },
            "type": "scatterternary"
           }
          ],
          "surface": [
           {
            "colorbar": {
             "outlinewidth": 0,
             "ticks": ""
            },
            "colorscale": [
             [
              0,
              "#0d0887"
             ],
             [
              0.1111111111111111,
              "#46039f"
             ],
             [
              0.2222222222222222,
              "#7201a8"
             ],
             [
              0.3333333333333333,
              "#9c179e"
             ],
             [
              0.4444444444444444,
              "#bd3786"
             ],
             [
              0.5555555555555556,
              "#d8576b"
             ],
             [
              0.6666666666666666,
              "#ed7953"
             ],
             [
              0.7777777777777778,
              "#fb9f3a"
             ],
             [
              0.8888888888888888,
              "#fdca26"
             ],
             [
              1,
              "#f0f921"
             ]
            ],
            "type": "surface"
           }
          ],
          "table": [
           {
            "cells": {
             "fill": {
              "color": "#EBF0F8"
             },
             "line": {
              "color": "white"
             }
            },
            "header": {
             "fill": {
              "color": "#C8D4E3"
             },
             "line": {
              "color": "white"
             }
            },
            "type": "table"
           }
          ]
         },
         "layout": {
          "annotationdefaults": {
           "arrowcolor": "#2a3f5f",
           "arrowhead": 0,
           "arrowwidth": 1
          },
          "autotypenumbers": "strict",
          "coloraxis": {
           "colorbar": {
            "outlinewidth": 0,
            "ticks": ""
           }
          },
          "colorscale": {
           "diverging": [
            [
             0,
             "#8e0152"
            ],
            [
             0.1,
             "#c51b7d"
            ],
            [
             0.2,
             "#de77ae"
            ],
            [
             0.3,
             "#f1b6da"
            ],
            [
             0.4,
             "#fde0ef"
            ],
            [
             0.5,
             "#f7f7f7"
            ],
            [
             0.6,
             "#e6f5d0"
            ],
            [
             0.7,
             "#b8e186"
            ],
            [
             0.8,
             "#7fbc41"
            ],
            [
             0.9,
             "#4d9221"
            ],
            [
             1,
             "#276419"
            ]
           ],
           "sequential": [
            [
             0,
             "#0d0887"
            ],
            [
             0.1111111111111111,
             "#46039f"
            ],
            [
             0.2222222222222222,
             "#7201a8"
            ],
            [
             0.3333333333333333,
             "#9c179e"
            ],
            [
             0.4444444444444444,
             "#bd3786"
            ],
            [
             0.5555555555555556,
             "#d8576b"
            ],
            [
             0.6666666666666666,
             "#ed7953"
            ],
            [
             0.7777777777777778,
             "#fb9f3a"
            ],
            [
             0.8888888888888888,
             "#fdca26"
            ],
            [
             1,
             "#f0f921"
            ]
           ],
           "sequentialminus": [
            [
             0,
             "#0d0887"
            ],
            [
             0.1111111111111111,
             "#46039f"
            ],
            [
             0.2222222222222222,
             "#7201a8"
            ],
            [
             0.3333333333333333,
             "#9c179e"
            ],
            [
             0.4444444444444444,
             "#bd3786"
            ],
            [
             0.5555555555555556,
             "#d8576b"
            ],
            [
             0.6666666666666666,
             "#ed7953"
            ],
            [
             0.7777777777777778,
             "#fb9f3a"
            ],
            [
             0.8888888888888888,
             "#fdca26"
            ],
            [
             1,
             "#f0f921"
            ]
           ]
          },
          "colorway": [
           "#636efa",
           "#EF553B",
           "#00cc96",
           "#ab63fa",
           "#FFA15A",
           "#19d3f3",
           "#FF6692",
           "#B6E880",
           "#FF97FF",
           "#FECB52"
          ],
          "font": {
           "color": "#2a3f5f"
          },
          "geo": {
           "bgcolor": "white",
           "lakecolor": "white",
           "landcolor": "#E5ECF6",
           "showlakes": true,
           "showland": true,
           "subunitcolor": "white"
          },
          "hoverlabel": {
           "align": "left"
          },
          "hovermode": "closest",
          "mapbox": {
           "style": "light"
          },
          "paper_bgcolor": "white",
          "plot_bgcolor": "#E5ECF6",
          "polar": {
           "angularaxis": {
            "gridcolor": "white",
            "linecolor": "white",
            "ticks": ""
           },
           "bgcolor": "#E5ECF6",
           "radialaxis": {
            "gridcolor": "white",
            "linecolor": "white",
            "ticks": ""
           }
          },
          "scene": {
           "xaxis": {
            "backgroundcolor": "#E5ECF6",
            "gridcolor": "white",
            "gridwidth": 2,
            "linecolor": "white",
            "showbackground": true,
            "ticks": "",
            "zerolinecolor": "white"
           },
           "yaxis": {
            "backgroundcolor": "#E5ECF6",
            "gridcolor": "white",
            "gridwidth": 2,
            "linecolor": "white",
            "showbackground": true,
            "ticks": "",
            "zerolinecolor": "white"
           },
           "zaxis": {
            "backgroundcolor": "#E5ECF6",
            "gridcolor": "white",
            "gridwidth": 2,
            "linecolor": "white",
            "showbackground": true,
            "ticks": "",
            "zerolinecolor": "white"
           }
          },
          "shapedefaults": {
           "line": {
            "color": "#2a3f5f"
           }
          },
          "ternary": {
           "aaxis": {
            "gridcolor": "white",
            "linecolor": "white",
            "ticks": ""
           },
           "baxis": {
            "gridcolor": "white",
            "linecolor": "white",
            "ticks": ""
           },
           "bgcolor": "#E5ECF6",
           "caxis": {
            "gridcolor": "white",
            "linecolor": "white",
            "ticks": ""
           }
          },
          "title": {
           "x": 0.05
          },
          "xaxis": {
           "automargin": true,
           "gridcolor": "white",
           "linecolor": "white",
           "ticks": "",
           "title": {
            "standoff": 15
           },
           "zerolinecolor": "white",
           "zerolinewidth": 2
          },
          "yaxis": {
           "automargin": true,
           "gridcolor": "white",
           "linecolor": "white",
           "ticks": "",
           "title": {
            "standoff": 15
           },
           "zerolinecolor": "white",
           "zerolinewidth": 2
          }
         }
        },
        "title": {
         "text": "Forecast Error vs Lead Time with Trend"
        },
        "xaxis": {
         "anchor": "y",
         "domain": [
          0,
          1
         ],
         "title": {
          "text": "Hours Ahead of Forecast"
         }
        },
        "yaxis": {
         "anchor": "x",
         "domain": [
          0,
          1
         ],
         "title": {
          "text": "Absolute Error (°F)"
         }
        }
       }
      }
     },
     "metadata": {},
     "output_type": "display_data"
    }
   ],
   "source": [
    "def analyze_forecast_accuracy(df_forecasts, df_observations, grouped_forecasts):\n",
    "    \"\"\"Analyze and visualize forecast accuracy from multiple perspectives.\"\"\"\n",
    "    accuracy_data = []\n",
    "    \n",
    "    for forecast_time_hour, group in grouped_forecasts:\n",
    "        hour_observations = df_observations[\n",
    "            (df_observations['observed_time'] >= forecast_time_hour) &\n",
    "            (df_observations['observed_time'] < forecast_time_hour + timedelta(hours=1))\n",
    "        ]\n",
    "        \n",
    "        if not hour_observations.empty:\n",
    "            actual_temp = hour_observations['temperature'].mean()\n",
    "            \n",
    "            for _, forecast in group.iterrows():\n",
    "                hours_ahead = (forecast_time_hour - forecast['created_at']).total_seconds() / 3600\n",
    "                error = forecast['temperature'] - actual_temp\n",
    "                accuracy_data.append({\n",
    "                    'forecast_time': forecast_time_hour,\n",
    "                    'hours_ahead': round(hours_ahead),  # Round to nearest hour for better grouping\n",
    "                    'error': error,\n",
    "                    'actual_temp': actual_temp,\n",
    "                    'forecast_temp': forecast['temperature'],\n",
    "                    'error_magnitude': abs(error),\n",
    "                    'hour_of_day': forecast_time_hour.hour,\n",
    "                    'date': forecast_time_hour.date()\n",
    "                })\n",
    "    \n",
    "    df_accuracy = pd.DataFrame(accuracy_data)\n",
    "    \n",
    "    import plotly.express as px\n",
    "    import plotly.graph_objects as go\n",
    "    from plotly.subplots import make_subplots\n",
    "    \n",
    "    # 1. Box plot of errors by hours ahead\n",
    "    fig1 = px.box(df_accuracy, \n",
    "                  x='hours_ahead',\n",
    "                  y='error',\n",
    "                  title='Distribution of Forecast Errors by Lead Time',\n",
    "                  labels={'hours_ahead': 'Hours Ahead of Forecast',\n",
    "                         'error': 'Forecast Error (°F)'})\n",
    "    fig1.show()\n",
    "    \n",
    "    # 2. Average absolute error by hour of day\n",
    "\n",
    "    \n",
    "    # In this graph, hour_of_day comes from forecast_time_hour which is derived from forecast_time in our data processing:\n",
    "    # So this graph shows the average error magnitude for each hour of the day that was being forecast for (the forecast_time), not when the forecast was made (created_at).\n",
    "    #     For example, if the bar at hour 14 (2 PM EST) shows an error of 3°F, this means:\n",
    "    #         For all forecasts that were predicting the temperature at 2 PM\n",
    "    #         Regardless of when those forecasts were made (could be 6 hours ahead, 12 hours ahead, etc.)\n",
    "    #         The average absolute error was 3°F\n",
    "    \n",
    "    hourly_mae = df_accuracy.groupby('hour_of_day')['error_magnitude'].mean().reset_index()\n",
    "    fig2 = px.bar(hourly_mae,\n",
    "                  x='hour_of_day',\n",
    "                  y='error_magnitude',\n",
    "                  title='Average Forecast Error by Hour of Day (EST)',\n",
    "                  labels={'hour_of_day': 'Hour of Day (EST)',\n",
    "                         'error_magnitude': 'Mean Absolute Error (°F)'})\n",
    "    fig2.show()\n",
    "    \n",
    "    # 3. Heatmap of average absolute error by hour of day and hours ahead\n",
    "    pivot_data = df_accuracy.pivot_table(\n",
    "        values='error_magnitude',\n",
    "        index='hour_of_day',\n",
    "        columns='hours_ahead',\n",
    "        aggfunc='mean'\n",
    "    )\n",
    "    \n",
    "    fig3 = px.imshow(pivot_data,\n",
    "                     title='Error Heatmap: Hour of Day vs Forecast Lead Time',\n",
    "                     labels=dict(x='Hours Ahead', y='Hour of Day (EST)', color='Mean Absolute Error (°F)'),\n",
    "                     aspect='auto',\n",
    "                     color_continuous_scale='RdYlBu_r')\n",
    "    fig3.show()\n",
    "    \n",
    "    # 4. Summary statistics\n",
    "    print(\"\\nSummary Statistics:\")\n",
    "    print(f\"Overall Mean Absolute Error: {df_accuracy['error_magnitude'].mean():.2f}°F\")\n",
    "    print(f\"Median Absolute Error: {df_accuracy['error_magnitude'].median():.2f}°F\")\n",
    "    print(\"\\nMean Absolute Error by Lead Time:\")\n",
    "    print(df_accuracy.groupby('hours_ahead')['error_magnitude'].mean().round(2))\n",
    "    \n",
    "    # 5. Scatter plot with simple linear trendline instead of LOWESS\n",
    "    fig4 = px.scatter(df_accuracy,\n",
    "                      x='hours_ahead',\n",
    "                      y='error_magnitude',\n",
    "                      trendline=\"ols\",  # Changed from \"lowess\" to \"ols\" (linear)\n",
    "                      title='Forecast Error vs Lead Time with Trend',\n",
    "                      labels={'hours_ahead': 'Hours Ahead of Forecast',\n",
    "                             'error_magnitude': 'Absolute Error (°F)'},\n",
    "                      opacity=0.5)\n",
    "    fig4.show()\n",
    "    \n",
    "    return df_accuracy\n",
    "\n",
    "# Run the analysis\n",
    "df_accuracy = analyze_forecast_accuracy(df_forecasts, df_observations, grouped_forecasts)"
   ]
  },
  {
   "cell_type": "code",
   "execution_count": 63,
   "metadata": {},
   "outputs": [
    {
     "data": {
      "application/vnd.plotly.v1+json": {
       "config": {
        "plotlyServerURL": "https://plot.ly"
       },
       "data": [
        {
         "alignmentgroup": "True",
         "customdata": [
          [
           2
          ],
          [
           14
          ],
          [
           11
          ],
          [
           11
          ],
          [
           11
          ],
          [
           11
          ],
          [
           11
          ],
          [
           11
          ],
          [
           18
          ],
          [
           26
          ],
          [
           27
          ],
          [
           26
          ],
          [
           30
          ],
          [
           31
          ],
          [
           33
          ],
          [
           32
          ],
          [
           31
          ],
          [
           30
          ],
          [
           29
          ],
          [
           28
          ],
          [
           20
          ],
          [
           11
          ],
          [
           10
          ],
          [
           10
          ],
          [
           3
          ]
         ],
         "hovertemplate": "Hours Ahead of Forecast Time=%{x}<br>Mean Absolute Error (°F)=%{y}<br>count=%{customdata[0]}<extra></extra>",
         "legendgroup": "",
         "marker": {
          "color": "#636efa",
          "pattern": {
           "shape": ""
          }
         },
         "name": "",
         "offsetgroup": "",
         "orientation": "v",
         "showlegend": false,
         "textposition": "auto",
         "type": "bar",
         "x": [
          0,
          1,
          2,
          3,
          4,
          5,
          6,
          7,
          8,
          9,
          10,
          11,
          12,
          13,
          14,
          15,
          16,
          17,
          18,
          19,
          20,
          21,
          22,
          23,
          24
         ],
         "xaxis": "x",
         "y": [
          1.0200000000000031,
          2.0392857142857137,
          2.582727272727271,
          2.862727272727271,
          3.2263636363636348,
          3.400909090909089,
          3.6572727272727263,
          3.8145454545454527,
          3.9661111111111103,
          4.000384615384614,
          5.40037037037037,
          6.940384615384615,
          6.872333333333332,
          5.752580645161289,
          5.412424242424242,
          4.000312499999999,
          3.102903225806448,
          2.775999999999997,
          2.4962068965517226,
          1.5710714285714265,
          1.0779999999999965,
          0.862727272727271,
          1.0739999999999952,
          1.2749999999999986,
          1.1799999999999973
         ],
         "yaxis": "y"
        }
       ],
       "layout": {
        "barmode": "relative",
        "legend": {
         "tracegroupgap": 0
        },
        "template": {
         "data": {
          "bar": [
           {
            "error_x": {
             "color": "#2a3f5f"
            },
            "error_y": {
             "color": "#2a3f5f"
            },
            "marker": {
             "line": {
              "color": "#E5ECF6",
              "width": 0.5
             },
             "pattern": {
              "fillmode": "overlay",
              "size": 10,
              "solidity": 0.2
             }
            },
            "type": "bar"
           }
          ],
          "barpolar": [
           {
            "marker": {
             "line": {
              "color": "#E5ECF6",
              "width": 0.5
             },
             "pattern": {
              "fillmode": "overlay",
              "size": 10,
              "solidity": 0.2
             }
            },
            "type": "barpolar"
           }
          ],
          "carpet": [
           {
            "aaxis": {
             "endlinecolor": "#2a3f5f",
             "gridcolor": "white",
             "linecolor": "white",
             "minorgridcolor": "white",
             "startlinecolor": "#2a3f5f"
            },
            "baxis": {
             "endlinecolor": "#2a3f5f",
             "gridcolor": "white",
             "linecolor": "white",
             "minorgridcolor": "white",
             "startlinecolor": "#2a3f5f"
            },
            "type": "carpet"
           }
          ],
          "choropleth": [
           {
            "colorbar": {
             "outlinewidth": 0,
             "ticks": ""
            },
            "type": "choropleth"
           }
          ],
          "contour": [
           {
            "colorbar": {
             "outlinewidth": 0,
             "ticks": ""
            },
            "colorscale": [
             [
              0,
              "#0d0887"
             ],
             [
              0.1111111111111111,
              "#46039f"
             ],
             [
              0.2222222222222222,
              "#7201a8"
             ],
             [
              0.3333333333333333,
              "#9c179e"
             ],
             [
              0.4444444444444444,
              "#bd3786"
             ],
             [
              0.5555555555555556,
              "#d8576b"
             ],
             [
              0.6666666666666666,
              "#ed7953"
             ],
             [
              0.7777777777777778,
              "#fb9f3a"
             ],
             [
              0.8888888888888888,
              "#fdca26"
             ],
             [
              1,
              "#f0f921"
             ]
            ],
            "type": "contour"
           }
          ],
          "contourcarpet": [
           {
            "colorbar": {
             "outlinewidth": 0,
             "ticks": ""
            },
            "type": "contourcarpet"
           }
          ],
          "heatmap": [
           {
            "colorbar": {
             "outlinewidth": 0,
             "ticks": ""
            },
            "colorscale": [
             [
              0,
              "#0d0887"
             ],
             [
              0.1111111111111111,
              "#46039f"
             ],
             [
              0.2222222222222222,
              "#7201a8"
             ],
             [
              0.3333333333333333,
              "#9c179e"
             ],
             [
              0.4444444444444444,
              "#bd3786"
             ],
             [
              0.5555555555555556,
              "#d8576b"
             ],
             [
              0.6666666666666666,
              "#ed7953"
             ],
             [
              0.7777777777777778,
              "#fb9f3a"
             ],
             [
              0.8888888888888888,
              "#fdca26"
             ],
             [
              1,
              "#f0f921"
             ]
            ],
            "type": "heatmap"
           }
          ],
          "heatmapgl": [
           {
            "colorbar": {
             "outlinewidth": 0,
             "ticks": ""
            },
            "colorscale": [
             [
              0,
              "#0d0887"
             ],
             [
              0.1111111111111111,
              "#46039f"
             ],
             [
              0.2222222222222222,
              "#7201a8"
             ],
             [
              0.3333333333333333,
              "#9c179e"
             ],
             [
              0.4444444444444444,
              "#bd3786"
             ],
             [
              0.5555555555555556,
              "#d8576b"
             ],
             [
              0.6666666666666666,
              "#ed7953"
             ],
             [
              0.7777777777777778,
              "#fb9f3a"
             ],
             [
              0.8888888888888888,
              "#fdca26"
             ],
             [
              1,
              "#f0f921"
             ]
            ],
            "type": "heatmapgl"
           }
          ],
          "histogram": [
           {
            "marker": {
             "pattern": {
              "fillmode": "overlay",
              "size": 10,
              "solidity": 0.2
             }
            },
            "type": "histogram"
           }
          ],
          "histogram2d": [
           {
            "colorbar": {
             "outlinewidth": 0,
             "ticks": ""
            },
            "colorscale": [
             [
              0,
              "#0d0887"
             ],
             [
              0.1111111111111111,
              "#46039f"
             ],
             [
              0.2222222222222222,
              "#7201a8"
             ],
             [
              0.3333333333333333,
              "#9c179e"
             ],
             [
              0.4444444444444444,
              "#bd3786"
             ],
             [
              0.5555555555555556,
              "#d8576b"
             ],
             [
              0.6666666666666666,
              "#ed7953"
             ],
             [
              0.7777777777777778,
              "#fb9f3a"
             ],
             [
              0.8888888888888888,
              "#fdca26"
             ],
             [
              1,
              "#f0f921"
             ]
            ],
            "type": "histogram2d"
           }
          ],
          "histogram2dcontour": [
           {
            "colorbar": {
             "outlinewidth": 0,
             "ticks": ""
            },
            "colorscale": [
             [
              0,
              "#0d0887"
             ],
             [
              0.1111111111111111,
              "#46039f"
             ],
             [
              0.2222222222222222,
              "#7201a8"
             ],
             [
              0.3333333333333333,
              "#9c179e"
             ],
             [
              0.4444444444444444,
              "#bd3786"
             ],
             [
              0.5555555555555556,
              "#d8576b"
             ],
             [
              0.6666666666666666,
              "#ed7953"
             ],
             [
              0.7777777777777778,
              "#fb9f3a"
             ],
             [
              0.8888888888888888,
              "#fdca26"
             ],
             [
              1,
              "#f0f921"
             ]
            ],
            "type": "histogram2dcontour"
           }
          ],
          "mesh3d": [
           {
            "colorbar": {
             "outlinewidth": 0,
             "ticks": ""
            },
            "type": "mesh3d"
           }
          ],
          "parcoords": [
           {
            "line": {
             "colorbar": {
              "outlinewidth": 0,
              "ticks": ""
             }
            },
            "type": "parcoords"
           }
          ],
          "pie": [
           {
            "automargin": true,
            "type": "pie"
           }
          ],
          "scatter": [
           {
            "fillpattern": {
             "fillmode": "overlay",
             "size": 10,
             "solidity": 0.2
            },
            "type": "scatter"
           }
          ],
          "scatter3d": [
           {
            "line": {
             "colorbar": {
              "outlinewidth": 0,
              "ticks": ""
             }
            },
            "marker": {
             "colorbar": {
              "outlinewidth": 0,
              "ticks": ""
             }
            },
            "type": "scatter3d"
           }
          ],
          "scattercarpet": [
           {
            "marker": {
             "colorbar": {
              "outlinewidth": 0,
              "ticks": ""
             }
            },
            "type": "scattercarpet"
           }
          ],
          "scattergeo": [
           {
            "marker": {
             "colorbar": {
              "outlinewidth": 0,
              "ticks": ""
             }
            },
            "type": "scattergeo"
           }
          ],
          "scattergl": [
           {
            "marker": {
             "colorbar": {
              "outlinewidth": 0,
              "ticks": ""
             }
            },
            "type": "scattergl"
           }
          ],
          "scattermapbox": [
           {
            "marker": {
             "colorbar": {
              "outlinewidth": 0,
              "ticks": ""
             }
            },
            "type": "scattermapbox"
           }
          ],
          "scatterpolar": [
           {
            "marker": {
             "colorbar": {
              "outlinewidth": 0,
              "ticks": ""
             }
            },
            "type": "scatterpolar"
           }
          ],
          "scatterpolargl": [
           {
            "marker": {
             "colorbar": {
              "outlinewidth": 0,
              "ticks": ""
             }
            },
            "type": "scatterpolargl"
           }
          ],
          "scatterternary": [
           {
            "marker": {
             "colorbar": {
              "outlinewidth": 0,
              "ticks": ""
             }
            },
            "type": "scatterternary"
           }
          ],
          "surface": [
           {
            "colorbar": {
             "outlinewidth": 0,
             "ticks": ""
            },
            "colorscale": [
             [
              0,
              "#0d0887"
             ],
             [
              0.1111111111111111,
              "#46039f"
             ],
             [
              0.2222222222222222,
              "#7201a8"
             ],
             [
              0.3333333333333333,
              "#9c179e"
             ],
             [
              0.4444444444444444,
              "#bd3786"
             ],
             [
              0.5555555555555556,
              "#d8576b"
             ],
             [
              0.6666666666666666,
              "#ed7953"
             ],
             [
              0.7777777777777778,
              "#fb9f3a"
             ],
             [
              0.8888888888888888,
              "#fdca26"
             ],
             [
              1,
              "#f0f921"
             ]
            ],
            "type": "surface"
           }
          ],
          "table": [
           {
            "cells": {
             "fill": {
              "color": "#EBF0F8"
             },
             "line": {
              "color": "white"
             }
            },
            "header": {
             "fill": {
              "color": "#C8D4E3"
             },
             "line": {
              "color": "white"
             }
            },
            "type": "table"
           }
          ]
         },
         "layout": {
          "annotationdefaults": {
           "arrowcolor": "#2a3f5f",
           "arrowhead": 0,
           "arrowwidth": 1
          },
          "autotypenumbers": "strict",
          "coloraxis": {
           "colorbar": {
            "outlinewidth": 0,
            "ticks": ""
           }
          },
          "colorscale": {
           "diverging": [
            [
             0,
             "#8e0152"
            ],
            [
             0.1,
             "#c51b7d"
            ],
            [
             0.2,
             "#de77ae"
            ],
            [
             0.3,
             "#f1b6da"
            ],
            [
             0.4,
             "#fde0ef"
            ],
            [
             0.5,
             "#f7f7f7"
            ],
            [
             0.6,
             "#e6f5d0"
            ],
            [
             0.7,
             "#b8e186"
            ],
            [
             0.8,
             "#7fbc41"
            ],
            [
             0.9,
             "#4d9221"
            ],
            [
             1,
             "#276419"
            ]
           ],
           "sequential": [
            [
             0,
             "#0d0887"
            ],
            [
             0.1111111111111111,
             "#46039f"
            ],
            [
             0.2222222222222222,
             "#7201a8"
            ],
            [
             0.3333333333333333,
             "#9c179e"
            ],
            [
             0.4444444444444444,
             "#bd3786"
            ],
            [
             0.5555555555555556,
             "#d8576b"
            ],
            [
             0.6666666666666666,
             "#ed7953"
            ],
            [
             0.7777777777777778,
             "#fb9f3a"
            ],
            [
             0.8888888888888888,
             "#fdca26"
            ],
            [
             1,
             "#f0f921"
            ]
           ],
           "sequentialminus": [
            [
             0,
             "#0d0887"
            ],
            [
             0.1111111111111111,
             "#46039f"
            ],
            [
             0.2222222222222222,
             "#7201a8"
            ],
            [
             0.3333333333333333,
             "#9c179e"
            ],
            [
             0.4444444444444444,
             "#bd3786"
            ],
            [
             0.5555555555555556,
             "#d8576b"
            ],
            [
             0.6666666666666666,
             "#ed7953"
            ],
            [
             0.7777777777777778,
             "#fb9f3a"
            ],
            [
             0.8888888888888888,
             "#fdca26"
            ],
            [
             1,
             "#f0f921"
            ]
           ]
          },
          "colorway": [
           "#636efa",
           "#EF553B",
           "#00cc96",
           "#ab63fa",
           "#FFA15A",
           "#19d3f3",
           "#FF6692",
           "#B6E880",
           "#FF97FF",
           "#FECB52"
          ],
          "font": {
           "color": "#2a3f5f"
          },
          "geo": {
           "bgcolor": "white",
           "lakecolor": "white",
           "landcolor": "#E5ECF6",
           "showlakes": true,
           "showland": true,
           "subunitcolor": "white"
          },
          "hoverlabel": {
           "align": "left"
          },
          "hovermode": "closest",
          "mapbox": {
           "style": "light"
          },
          "paper_bgcolor": "white",
          "plot_bgcolor": "#E5ECF6",
          "polar": {
           "angularaxis": {
            "gridcolor": "white",
            "linecolor": "white",
            "ticks": ""
           },
           "bgcolor": "#E5ECF6",
           "radialaxis": {
            "gridcolor": "white",
            "linecolor": "white",
            "ticks": ""
           }
          },
          "scene": {
           "xaxis": {
            "backgroundcolor": "#E5ECF6",
            "gridcolor": "white",
            "gridwidth": 2,
            "linecolor": "white",
            "showbackground": true,
            "ticks": "",
            "zerolinecolor": "white"
           },
           "yaxis": {
            "backgroundcolor": "#E5ECF6",
            "gridcolor": "white",
            "gridwidth": 2,
            "linecolor": "white",
            "showbackground": true,
            "ticks": "",
            "zerolinecolor": "white"
           },
           "zaxis": {
            "backgroundcolor": "#E5ECF6",
            "gridcolor": "white",
            "gridwidth": 2,
            "linecolor": "white",
            "showbackground": true,
            "ticks": "",
            "zerolinecolor": "white"
           }
          },
          "shapedefaults": {
           "line": {
            "color": "#2a3f5f"
           }
          },
          "ternary": {
           "aaxis": {
            "gridcolor": "white",
            "linecolor": "white",
            "ticks": ""
           },
           "baxis": {
            "gridcolor": "white",
            "linecolor": "white",
            "ticks": ""
           },
           "bgcolor": "#E5ECF6",
           "caxis": {
            "gridcolor": "white",
            "linecolor": "white",
            "ticks": ""
           }
          },
          "title": {
           "x": 0.05
          },
          "xaxis": {
           "automargin": true,
           "gridcolor": "white",
           "linecolor": "white",
           "ticks": "",
           "title": {
            "standoff": 15
           },
           "zerolinecolor": "white",
           "zerolinewidth": 2
          },
          "yaxis": {
           "automargin": true,
           "gridcolor": "white",
           "linecolor": "white",
           "ticks": "",
           "title": {
            "standoff": 15
           },
           "zerolinecolor": "white",
           "zerolinewidth": 2
          }
         }
        },
        "title": {
         "text": "Average Forecast Error by Hours Ahead"
        },
        "xaxis": {
         "anchor": "y",
         "domain": [
          0,
          1
         ],
         "title": {
          "text": "Hours Ahead of Forecast Time"
         }
        },
        "yaxis": {
         "anchor": "x",
         "domain": [
          0,
          1
         ],
         "title": {
          "text": "Mean Absolute Error (°F)"
         }
        }
       }
      }
     },
     "metadata": {},
     "output_type": "display_data"
    },
    {
     "data": {
      "application/vnd.plotly.v1+json": {
       "config": {
        "plotlyServerURL": "https://plot.ly"
       },
       "data": [
        {
         "alignmentgroup": "True",
         "hovertemplate": "Hour Forecast Was Made (EST)=%{x}<br>Mean Absolute Error (°F)=%{y}<extra></extra>",
         "legendgroup": "",
         "marker": {
          "color": "#636efa",
          "pattern": {
           "shape": ""
          }
         },
         "name": "",
         "offsetgroup": "",
         "orientation": "v",
         "showlegend": false,
         "textposition": "auto",
         "type": "bar",
         "x": [
          0,
          1,
          2,
          3,
          4,
          5,
          6,
          7,
          9,
          10,
          11,
          12,
          13,
          14,
          15,
          16,
          17,
          18,
          19,
          20,
          21,
          22,
          23
         ],
         "xaxis": "x",
         "y": [
          3.4574999999999982,
          3.4574999999999982,
          3.4574999999999982,
          3.4574999999999982,
          3.4574999999999982,
          3.4574999999999982,
          2.8590909090909076,
          2.7409999999999983,
          1.9262499999999978,
          1.4757142857142835,
          1.221666666666664,
          1.265999999999997,
          1.3124999999999964,
          1.3299999999999983,
          4.33076923076923,
          4.346923076923075,
          4.707499999999999,
          4.707499999999999,
          4.707499999999999,
          3.7908333333333317,
          3.790833333333332,
          3.7908333333333317,
          3.4574999999999982
         ],
         "yaxis": "y"
        }
       ],
       "layout": {
        "barmode": "relative",
        "legend": {
         "tracegroupgap": 0
        },
        "template": {
         "data": {
          "bar": [
           {
            "error_x": {
             "color": "#2a3f5f"
            },
            "error_y": {
             "color": "#2a3f5f"
            },
            "marker": {
             "line": {
              "color": "#E5ECF6",
              "width": 0.5
             },
             "pattern": {
              "fillmode": "overlay",
              "size": 10,
              "solidity": 0.2
             }
            },
            "type": "bar"
           }
          ],
          "barpolar": [
           {
            "marker": {
             "line": {
              "color": "#E5ECF6",
              "width": 0.5
             },
             "pattern": {
              "fillmode": "overlay",
              "size": 10,
              "solidity": 0.2
             }
            },
            "type": "barpolar"
           }
          ],
          "carpet": [
           {
            "aaxis": {
             "endlinecolor": "#2a3f5f",
             "gridcolor": "white",
             "linecolor": "white",
             "minorgridcolor": "white",
             "startlinecolor": "#2a3f5f"
            },
            "baxis": {
             "endlinecolor": "#2a3f5f",
             "gridcolor": "white",
             "linecolor": "white",
             "minorgridcolor": "white",
             "startlinecolor": "#2a3f5f"
            },
            "type": "carpet"
           }
          ],
          "choropleth": [
           {
            "colorbar": {
             "outlinewidth": 0,
             "ticks": ""
            },
            "type": "choropleth"
           }
          ],
          "contour": [
           {
            "colorbar": {
             "outlinewidth": 0,
             "ticks": ""
            },
            "colorscale": [
             [
              0,
              "#0d0887"
             ],
             [
              0.1111111111111111,
              "#46039f"
             ],
             [
              0.2222222222222222,
              "#7201a8"
             ],
             [
              0.3333333333333333,
              "#9c179e"
             ],
             [
              0.4444444444444444,
              "#bd3786"
             ],
             [
              0.5555555555555556,
              "#d8576b"
             ],
             [
              0.6666666666666666,
              "#ed7953"
             ],
             [
              0.7777777777777778,
              "#fb9f3a"
             ],
             [
              0.8888888888888888,
              "#fdca26"
             ],
             [
              1,
              "#f0f921"
             ]
            ],
            "type": "contour"
           }
          ],
          "contourcarpet": [
           {
            "colorbar": {
             "outlinewidth": 0,
             "ticks": ""
            },
            "type": "contourcarpet"
           }
          ],
          "heatmap": [
           {
            "colorbar": {
             "outlinewidth": 0,
             "ticks": ""
            },
            "colorscale": [
             [
              0,
              "#0d0887"
             ],
             [
              0.1111111111111111,
              "#46039f"
             ],
             [
              0.2222222222222222,
              "#7201a8"
             ],
             [
              0.3333333333333333,
              "#9c179e"
             ],
             [
              0.4444444444444444,
              "#bd3786"
             ],
             [
              0.5555555555555556,
              "#d8576b"
             ],
             [
              0.6666666666666666,
              "#ed7953"
             ],
             [
              0.7777777777777778,
              "#fb9f3a"
             ],
             [
              0.8888888888888888,
              "#fdca26"
             ],
             [
              1,
              "#f0f921"
             ]
            ],
            "type": "heatmap"
           }
          ],
          "heatmapgl": [
           {
            "colorbar": {
             "outlinewidth": 0,
             "ticks": ""
            },
            "colorscale": [
             [
              0,
              "#0d0887"
             ],
             [
              0.1111111111111111,
              "#46039f"
             ],
             [
              0.2222222222222222,
              "#7201a8"
             ],
             [
              0.3333333333333333,
              "#9c179e"
             ],
             [
              0.4444444444444444,
              "#bd3786"
             ],
             [
              0.5555555555555556,
              "#d8576b"
             ],
             [
              0.6666666666666666,
              "#ed7953"
             ],
             [
              0.7777777777777778,
              "#fb9f3a"
             ],
             [
              0.8888888888888888,
              "#fdca26"
             ],
             [
              1,
              "#f0f921"
             ]
            ],
            "type": "heatmapgl"
           }
          ],
          "histogram": [
           {
            "marker": {
             "pattern": {
              "fillmode": "overlay",
              "size": 10,
              "solidity": 0.2
             }
            },
            "type": "histogram"
           }
          ],
          "histogram2d": [
           {
            "colorbar": {
             "outlinewidth": 0,
             "ticks": ""
            },
            "colorscale": [
             [
              0,
              "#0d0887"
             ],
             [
              0.1111111111111111,
              "#46039f"
             ],
             [
              0.2222222222222222,
              "#7201a8"
             ],
             [
              0.3333333333333333,
              "#9c179e"
             ],
             [
              0.4444444444444444,
              "#bd3786"
             ],
             [
              0.5555555555555556,
              "#d8576b"
             ],
             [
              0.6666666666666666,
              "#ed7953"
             ],
             [
              0.7777777777777778,
              "#fb9f3a"
             ],
             [
              0.8888888888888888,
              "#fdca26"
             ],
             [
              1,
              "#f0f921"
             ]
            ],
            "type": "histogram2d"
           }
          ],
          "histogram2dcontour": [
           {
            "colorbar": {
             "outlinewidth": 0,
             "ticks": ""
            },
            "colorscale": [
             [
              0,
              "#0d0887"
             ],
             [
              0.1111111111111111,
              "#46039f"
             ],
             [
              0.2222222222222222,
              "#7201a8"
             ],
             [
              0.3333333333333333,
              "#9c179e"
             ],
             [
              0.4444444444444444,
              "#bd3786"
             ],
             [
              0.5555555555555556,
              "#d8576b"
             ],
             [
              0.6666666666666666,
              "#ed7953"
             ],
             [
              0.7777777777777778,
              "#fb9f3a"
             ],
             [
              0.8888888888888888,
              "#fdca26"
             ],
             [
              1,
              "#f0f921"
             ]
            ],
            "type": "histogram2dcontour"
           }
          ],
          "mesh3d": [
           {
            "colorbar": {
             "outlinewidth": 0,
             "ticks": ""
            },
            "type": "mesh3d"
           }
          ],
          "parcoords": [
           {
            "line": {
             "colorbar": {
              "outlinewidth": 0,
              "ticks": ""
             }
            },
            "type": "parcoords"
           }
          ],
          "pie": [
           {
            "automargin": true,
            "type": "pie"
           }
          ],
          "scatter": [
           {
            "fillpattern": {
             "fillmode": "overlay",
             "size": 10,
             "solidity": 0.2
            },
            "type": "scatter"
           }
          ],
          "scatter3d": [
           {
            "line": {
             "colorbar": {
              "outlinewidth": 0,
              "ticks": ""
             }
            },
            "marker": {
             "colorbar": {
              "outlinewidth": 0,
              "ticks": ""
             }
            },
            "type": "scatter3d"
           }
          ],
          "scattercarpet": [
           {
            "marker": {
             "colorbar": {
              "outlinewidth": 0,
              "ticks": ""
             }
            },
            "type": "scattercarpet"
           }
          ],
          "scattergeo": [
           {
            "marker": {
             "colorbar": {
              "outlinewidth": 0,
              "ticks": ""
             }
            },
            "type": "scattergeo"
           }
          ],
          "scattergl": [
           {
            "marker": {
             "colorbar": {
              "outlinewidth": 0,
              "ticks": ""
             }
            },
            "type": "scattergl"
           }
          ],
          "scattermapbox": [
           {
            "marker": {
             "colorbar": {
              "outlinewidth": 0,
              "ticks": ""
             }
            },
            "type": "scattermapbox"
           }
          ],
          "scatterpolar": [
           {
            "marker": {
             "colorbar": {
              "outlinewidth": 0,
              "ticks": ""
             }
            },
            "type": "scatterpolar"
           }
          ],
          "scatterpolargl": [
           {
            "marker": {
             "colorbar": {
              "outlinewidth": 0,
              "ticks": ""
             }
            },
            "type": "scatterpolargl"
           }
          ],
          "scatterternary": [
           {
            "marker": {
             "colorbar": {
              "outlinewidth": 0,
              "ticks": ""
             }
            },
            "type": "scatterternary"
           }
          ],
          "surface": [
           {
            "colorbar": {
             "outlinewidth": 0,
             "ticks": ""
            },
            "colorscale": [
             [
              0,
              "#0d0887"
             ],
             [
              0.1111111111111111,
              "#46039f"
             ],
             [
              0.2222222222222222,
              "#7201a8"
             ],
             [
              0.3333333333333333,
              "#9c179e"
             ],
             [
              0.4444444444444444,
              "#bd3786"
             ],
             [
              0.5555555555555556,
              "#d8576b"
             ],
             [
              0.6666666666666666,
              "#ed7953"
             ],
             [
              0.7777777777777778,
              "#fb9f3a"
             ],
             [
              0.8888888888888888,
              "#fdca26"
             ],
             [
              1,
              "#f0f921"
             ]
            ],
            "type": "surface"
           }
          ],
          "table": [
           {
            "cells": {
             "fill": {
              "color": "#EBF0F8"
             },
             "line": {
              "color": "white"
             }
            },
            "header": {
             "fill": {
              "color": "#C8D4E3"
             },
             "line": {
              "color": "white"
             }
            },
            "type": "table"
           }
          ]
         },
         "layout": {
          "annotationdefaults": {
           "arrowcolor": "#2a3f5f",
           "arrowhead": 0,
           "arrowwidth": 1
          },
          "autotypenumbers": "strict",
          "coloraxis": {
           "colorbar": {
            "outlinewidth": 0,
            "ticks": ""
           }
          },
          "colorscale": {
           "diverging": [
            [
             0,
             "#8e0152"
            ],
            [
             0.1,
             "#c51b7d"
            ],
            [
             0.2,
             "#de77ae"
            ],
            [
             0.3,
             "#f1b6da"
            ],
            [
             0.4,
             "#fde0ef"
            ],
            [
             0.5,
             "#f7f7f7"
            ],
            [
             0.6,
             "#e6f5d0"
            ],
            [
             0.7,
             "#b8e186"
            ],
            [
             0.8,
             "#7fbc41"
            ],
            [
             0.9,
             "#4d9221"
            ],
            [
             1,
             "#276419"
            ]
           ],
           "sequential": [
            [
             0,
             "#0d0887"
            ],
            [
             0.1111111111111111,
             "#46039f"
            ],
            [
             0.2222222222222222,
             "#7201a8"
            ],
            [
             0.3333333333333333,
             "#9c179e"
            ],
            [
             0.4444444444444444,
             "#bd3786"
            ],
            [
             0.5555555555555556,
             "#d8576b"
            ],
            [
             0.6666666666666666,
             "#ed7953"
            ],
            [
             0.7777777777777778,
             "#fb9f3a"
            ],
            [
             0.8888888888888888,
             "#fdca26"
            ],
            [
             1,
             "#f0f921"
            ]
           ],
           "sequentialminus": [
            [
             0,
             "#0d0887"
            ],
            [
             0.1111111111111111,
             "#46039f"
            ],
            [
             0.2222222222222222,
             "#7201a8"
            ],
            [
             0.3333333333333333,
             "#9c179e"
            ],
            [
             0.4444444444444444,
             "#bd3786"
            ],
            [
             0.5555555555555556,
             "#d8576b"
            ],
            [
             0.6666666666666666,
             "#ed7953"
            ],
            [
             0.7777777777777778,
             "#fb9f3a"
            ],
            [
             0.8888888888888888,
             "#fdca26"
            ],
            [
             1,
             "#f0f921"
            ]
           ]
          },
          "colorway": [
           "#636efa",
           "#EF553B",
           "#00cc96",
           "#ab63fa",
           "#FFA15A",
           "#19d3f3",
           "#FF6692",
           "#B6E880",
           "#FF97FF",
           "#FECB52"
          ],
          "font": {
           "color": "#2a3f5f"
          },
          "geo": {
           "bgcolor": "white",
           "lakecolor": "white",
           "landcolor": "#E5ECF6",
           "showlakes": true,
           "showland": true,
           "subunitcolor": "white"
          },
          "hoverlabel": {
           "align": "left"
          },
          "hovermode": "closest",
          "mapbox": {
           "style": "light"
          },
          "paper_bgcolor": "white",
          "plot_bgcolor": "#E5ECF6",
          "polar": {
           "angularaxis": {
            "gridcolor": "white",
            "linecolor": "white",
            "ticks": ""
           },
           "bgcolor": "#E5ECF6",
           "radialaxis": {
            "gridcolor": "white",
            "linecolor": "white",
            "ticks": ""
           }
          },
          "scene": {
           "xaxis": {
            "backgroundcolor": "#E5ECF6",
            "gridcolor": "white",
            "gridwidth": 2,
            "linecolor": "white",
            "showbackground": true,
            "ticks": "",
            "zerolinecolor": "white"
           },
           "yaxis": {
            "backgroundcolor": "#E5ECF6",
            "gridcolor": "white",
            "gridwidth": 2,
            "linecolor": "white",
            "showbackground": true,
            "ticks": "",
            "zerolinecolor": "white"
           },
           "zaxis": {
            "backgroundcolor": "#E5ECF6",
            "gridcolor": "white",
            "gridwidth": 2,
            "linecolor": "white",
            "showbackground": true,
            "ticks": "",
            "zerolinecolor": "white"
           }
          },
          "shapedefaults": {
           "line": {
            "color": "#2a3f5f"
           }
          },
          "ternary": {
           "aaxis": {
            "gridcolor": "white",
            "linecolor": "white",
            "ticks": ""
           },
           "baxis": {
            "gridcolor": "white",
            "linecolor": "white",
            "ticks": ""
           },
           "bgcolor": "#E5ECF6",
           "caxis": {
            "gridcolor": "white",
            "linecolor": "white",
            "ticks": ""
           }
          },
          "title": {
           "x": 0.05
          },
          "xaxis": {
           "automargin": true,
           "gridcolor": "white",
           "linecolor": "white",
           "ticks": "",
           "title": {
            "standoff": 15
           },
           "zerolinecolor": "white",
           "zerolinewidth": 2
          },
          "yaxis": {
           "automargin": true,
           "gridcolor": "white",
           "linecolor": "white",
           "ticks": "",
           "title": {
            "standoff": 15
           },
           "zerolinecolor": "white",
           "zerolinewidth": 2
          }
         }
        },
        "title": {
         "text": "Average Forecast Error by Hour Created (EST)"
        },
        "xaxis": {
         "anchor": "y",
         "domain": [
          0,
          1
         ],
         "title": {
          "text": "Hour Forecast Was Made (EST)"
         }
        },
        "yaxis": {
         "anchor": "x",
         "domain": [
          0,
          1
         ],
         "title": {
          "text": "Mean Absolute Error (°F)"
         }
        }
       }
      }
     },
     "metadata": {},
     "output_type": "display_data"
    },
    {
     "data": {
      "application/vnd.plotly.v1+json": {
       "config": {
        "plotlyServerURL": "https://plot.ly"
       },
       "data": [
        {
         "coloraxis": "coloraxis",
         "hovertemplate": "Hours Ahead: %{x}<br>Hour Forecast Was Made (EST): %{y}<br>Mean Absolute Error (°F): %{z}<extra></extra>",
         "name": "0",
         "type": "heatmap",
         "x": [
          0,
          1,
          2,
          3,
          4,
          5,
          6,
          7,
          8,
          9,
          10,
          11,
          12,
          13,
          14,
          15,
          16,
          17,
          18,
          19,
          20,
          21,
          22,
          23,
          24
         ],
         "xaxis": "x",
         "y": [
          0,
          1,
          2,
          3,
          4,
          5,
          6,
          7,
          9,
          10,
          11,
          12,
          13,
          14,
          15,
          16,
          17,
          18,
          19,
          20,
          21,
          22,
          23
         ],
         "yaxis": "y",
         "z": [
          [
           null,
           null,
           null,
           null,
           null,
           null,
           2.039999999999999,
           3.039999999999999,
           8,
           9,
           7.079999999999998,
           5,
           3,
           0.0799999999999983,
           0.2599999999999909,
           1.5300000000000011,
           1.3799999999999955,
           1.0799999999999983,
           null,
           null,
           null,
           null,
           null,
           null,
           null
          ],
          [
           null,
           null,
           null,
           null,
           null,
           2.039999999999999,
           3.039999999999999,
           8,
           9,
           7.079999999999998,
           5,
           3,
           0.0799999999999983,
           0.2599999999999909,
           1.5300000000000011,
           1.3799999999999955,
           1.0799999999999983,
           null,
           null,
           null,
           null,
           null,
           null,
           null,
           null
          ],
          [
           null,
           null,
           null,
           null,
           2.039999999999999,
           3.039999999999999,
           8,
           9,
           7.079999999999998,
           5,
           3,
           0.0799999999999983,
           0.2599999999999909,
           1.5300000000000011,
           1.3799999999999955,
           1.0799999999999983,
           null,
           null,
           null,
           null,
           null,
           null,
           null,
           null,
           null
          ],
          [
           null,
           null,
           null,
           2.039999999999999,
           3.039999999999999,
           8,
           9,
           7.079999999999998,
           5,
           3,
           0.0799999999999983,
           0.2599999999999909,
           1.5300000000000011,
           1.3799999999999955,
           1.0799999999999983,
           null,
           null,
           null,
           null,
           null,
           null,
           null,
           null,
           null,
           null
          ],
          [
           null,
           null,
           2.039999999999999,
           3.039999999999999,
           8,
           9,
           7.079999999999998,
           5,
           3,
           0.0799999999999983,
           0.2599999999999909,
           1.5300000000000011,
           1.3799999999999955,
           1.0799999999999983,
           null,
           null,
           null,
           null,
           null,
           null,
           null,
           null,
           null,
           null,
           null
          ],
          [
           null,
           2.039999999999999,
           3.039999999999999,
           8,
           9,
           7.079999999999998,
           5,
           3,
           0.0799999999999983,
           0.2599999999999909,
           1.5300000000000011,
           1.3799999999999955,
           1.0799999999999983,
           null,
           null,
           null,
           null,
           null,
           null,
           null,
           null,
           null,
           null,
           null,
           null
          ],
          [
           null,
           4.039999999999999,
           7,
           6,
           5.079999999999998,
           2,
           1,
           1.0799999999999983,
           1.259999999999991,
           1.5300000000000011,
           1.3799999999999955,
           1.0799999999999983,
           null,
           null,
           null,
           null,
           null,
           null,
           null,
           null,
           null,
           null,
           null,
           null,
           null
          ],
          [
           null,
           7,
           6,
           5.079999999999998,
           2,
           1,
           1.0799999999999983,
           1.259999999999991,
           1.5300000000000011,
           1.3799999999999955,
           1.0799999999999983,
           null,
           null,
           null,
           null,
           null,
           null,
           null,
           null,
           null,
           null,
           null,
           null,
           null,
           null
          ],
          [
           null,
           5.079999999999998,
           3,
           1,
           1.0799999999999983,
           1.259999999999991,
           1.5300000000000011,
           1.3799999999999955,
           1.0799999999999983,
           null,
           null,
           null,
           null,
           null,
           null,
           null,
           null,
           null,
           null,
           null,
           null,
           null,
           null,
           null,
           null
          ],
          [
           null,
           3,
           1,
           1.0799999999999983,
           1.259999999999991,
           1.5300000000000011,
           1.3799999999999955,
           1.0799999999999983,
           null,
           null,
           null,
           null,
           null,
           null,
           null,
           null,
           null,
           null,
           null,
           null,
           null,
           null,
           null,
           null,
           null
          ],
          [
           null,
           1,
           1.0799999999999983,
           1.259999999999991,
           1.5300000000000011,
           1.3799999999999955,
           1.0799999999999983,
           null,
           null,
           null,
           null,
           null,
           null,
           null,
           null,
           null,
           null,
           null,
           null,
           null,
           null,
           null,
           null,
           null,
           null
          ],
          [
           null,
           1.0799999999999983,
           1.259999999999991,
           1.5300000000000011,
           1.3799999999999955,
           1.0799999999999983,
           null,
           null,
           null,
           null,
           null,
           null,
           null,
           null,
           null,
           null,
           null,
           null,
           null,
           null,
           null,
           null,
           null,
           null,
           null
          ],
          [
           null,
           1.259999999999991,
           1.5300000000000011,
           1.3799999999999955,
           1.0799999999999983,
           null,
           null,
           null,
           null,
           null,
           null,
           null,
           null,
           null,
           null,
           null,
           null,
           null,
           null,
           null,
           null,
           null,
           null,
           null,
           null
          ],
          [
           null,
           1.5300000000000011,
           1.3799999999999955,
           1.0799999999999983,
           null,
           null,
           null,
           null,
           null,
           null,
           null,
           null,
           null,
           null,
           null,
           null,
           null,
           null,
           null,
           null,
           null,
           null,
           null,
           null,
           null
          ],
          [
           1.0200000000000031,
           0.4733333333333339,
           1.0799999999999983,
           null,
           null,
           null,
           null,
           null,
           null,
           null,
           null,
           null,
           null,
           null,
           9.04,
           8.04,
           11,
           9,
           7.079999999999998,
           5,
           3,
           0.0799999999999983,
           0.2599999999999909,
           1.5300000000000011,
           null
          ],
          [
           null,
           0.5500000000000007,
           null,
           null,
           null,
           null,
           null,
           null,
           null,
           null,
           null,
           null,
           null,
           null,
           9.04,
           8.04,
           11,
           9,
           7.079999999999998,
           5,
           3,
           0.0799999999999983,
           0.2599999999999909,
           1.5300000000000011,
           1.3799999999999955
          ],
          [
           null,
           null,
           null,
           null,
           null,
           null,
           null,
           null,
           null,
           null,
           null,
           null,
           9.04,
           8.373333333333333,
           10.013333333333334,
           9.666666666666666,
           7.719999999999999,
           5.6933333333333325,
           3.6666666666666665,
           1.0533333333333321,
           0.19999999999999338,
           1.1066666666666645,
           1.4299999999999973,
           1.1799999999999973,
           1.0799999999999983
          ],
          [
           null,
           null,
           null,
           null,
           null,
           null,
           null,
           null,
           null,
           null,
           null,
           null,
           9.04,
           8.04,
           11,
           9,
           7.079999999999998,
           5,
           3,
           0.0799999999999983,
           0.2599999999999909,
           1.5300000000000011,
           1.3799999999999955,
           1.0799999999999983,
           null
          ],
          [
           null,
           null,
           null,
           null,
           null,
           null,
           null,
           null,
           null,
           null,
           9.04,
           8.04,
           11,
           9,
           7.079999999999998,
           5,
           3,
           0.0799999999999983,
           0.2599999999999909,
           1.5300000000000011,
           1.3799999999999955,
           1.0799999999999983,
           null,
           null,
           null
          ],
          [
           null,
           null,
           null,
           null,
           null,
           null,
           null,
           null,
           null,
           4.039999999999999,
           4.039999999999999,
           9,
           9,
           7.079999999999998,
           5,
           3,
           0.0799999999999983,
           0.2599999999999909,
           1.5300000000000011,
           1.3799999999999955,
           1.0799999999999983,
           null,
           null,
           null,
           null
          ],
          [
           null,
           null,
           null,
           null,
           null,
           null,
           null,
           null,
           4.039999999999999,
           4.039999999999999,
           6.244444444444444,
           9,
           8.146666666666667,
           6.155555555555555,
           4.111111111111111,
           1.7022222222222214,
           0.159999999999995,
           0.8244444444444399,
           1.463333333333332,
           1.2466666666666635,
           1.0799999999999983,
           null,
           null,
           null,
           null
          ],
          [
           null,
           null,
           null,
           null,
           null,
           null,
           null,
           null,
           4.039999999999999,
           4.039999999999999,
           9,
           9,
           7.079999999999998,
           5,
           3,
           0.0799999999999983,
           0.2599999999999909,
           1.5300000000000011,
           1.3799999999999955,
           1.0799999999999983,
           null,
           null,
           null,
           null,
           null
          ],
          [
           null,
           null,
           null,
           null,
           null,
           null,
           null,
           2.039999999999999,
           3.039999999999999,
           8,
           9,
           7.079999999999998,
           5,
           3,
           0.0799999999999983,
           0.2599999999999909,
           1.5300000000000011,
           1.3799999999999955,
           1.0799999999999983,
           null,
           null,
           null,
           null,
           null,
           null
          ]
         ]
        }
       ],
       "layout": {
        "coloraxis": {
         "colorbar": {
          "title": {
           "text": "Mean Absolute Error (°F)"
          }
         },
         "colorscale": [
          [
           0,
           "rgb(49,54,149)"
          ],
          [
           0.1,
           "rgb(69,117,180)"
          ],
          [
           0.2,
           "rgb(116,173,209)"
          ],
          [
           0.3,
           "rgb(171,217,233)"
          ],
          [
           0.4,
           "rgb(224,243,248)"
          ],
          [
           0.5,
           "rgb(255,255,191)"
          ],
          [
           0.6,
           "rgb(254,224,144)"
          ],
          [
           0.7,
           "rgb(253,174,97)"
          ],
          [
           0.8,
           "rgb(244,109,67)"
          ],
          [
           0.9,
           "rgb(215,48,39)"
          ],
          [
           1,
           "rgb(165,0,38)"
          ]
         ]
        },
        "template": {
         "data": {
          "bar": [
           {
            "error_x": {
             "color": "#2a3f5f"
            },
            "error_y": {
             "color": "#2a3f5f"
            },
            "marker": {
             "line": {
              "color": "#E5ECF6",
              "width": 0.5
             },
             "pattern": {
              "fillmode": "overlay",
              "size": 10,
              "solidity": 0.2
             }
            },
            "type": "bar"
           }
          ],
          "barpolar": [
           {
            "marker": {
             "line": {
              "color": "#E5ECF6",
              "width": 0.5
             },
             "pattern": {
              "fillmode": "overlay",
              "size": 10,
              "solidity": 0.2
             }
            },
            "type": "barpolar"
           }
          ],
          "carpet": [
           {
            "aaxis": {
             "endlinecolor": "#2a3f5f",
             "gridcolor": "white",
             "linecolor": "white",
             "minorgridcolor": "white",
             "startlinecolor": "#2a3f5f"
            },
            "baxis": {
             "endlinecolor": "#2a3f5f",
             "gridcolor": "white",
             "linecolor": "white",
             "minorgridcolor": "white",
             "startlinecolor": "#2a3f5f"
            },
            "type": "carpet"
           }
          ],
          "choropleth": [
           {
            "colorbar": {
             "outlinewidth": 0,
             "ticks": ""
            },
            "type": "choropleth"
           }
          ],
          "contour": [
           {
            "colorbar": {
             "outlinewidth": 0,
             "ticks": ""
            },
            "colorscale": [
             [
              0,
              "#0d0887"
             ],
             [
              0.1111111111111111,
              "#46039f"
             ],
             [
              0.2222222222222222,
              "#7201a8"
             ],
             [
              0.3333333333333333,
              "#9c179e"
             ],
             [
              0.4444444444444444,
              "#bd3786"
             ],
             [
              0.5555555555555556,
              "#d8576b"
             ],
             [
              0.6666666666666666,
              "#ed7953"
             ],
             [
              0.7777777777777778,
              "#fb9f3a"
             ],
             [
              0.8888888888888888,
              "#fdca26"
             ],
             [
              1,
              "#f0f921"
             ]
            ],
            "type": "contour"
           }
          ],
          "contourcarpet": [
           {
            "colorbar": {
             "outlinewidth": 0,
             "ticks": ""
            },
            "type": "contourcarpet"
           }
          ],
          "heatmap": [
           {
            "colorbar": {
             "outlinewidth": 0,
             "ticks": ""
            },
            "colorscale": [
             [
              0,
              "#0d0887"
             ],
             [
              0.1111111111111111,
              "#46039f"
             ],
             [
              0.2222222222222222,
              "#7201a8"
             ],
             [
              0.3333333333333333,
              "#9c179e"
             ],
             [
              0.4444444444444444,
              "#bd3786"
             ],
             [
              0.5555555555555556,
              "#d8576b"
             ],
             [
              0.6666666666666666,
              "#ed7953"
             ],
             [
              0.7777777777777778,
              "#fb9f3a"
             ],
             [
              0.8888888888888888,
              "#fdca26"
             ],
             [
              1,
              "#f0f921"
             ]
            ],
            "type": "heatmap"
           }
          ],
          "heatmapgl": [
           {
            "colorbar": {
             "outlinewidth": 0,
             "ticks": ""
            },
            "colorscale": [
             [
              0,
              "#0d0887"
             ],
             [
              0.1111111111111111,
              "#46039f"
             ],
             [
              0.2222222222222222,
              "#7201a8"
             ],
             [
              0.3333333333333333,
              "#9c179e"
             ],
             [
              0.4444444444444444,
              "#bd3786"
             ],
             [
              0.5555555555555556,
              "#d8576b"
             ],
             [
              0.6666666666666666,
              "#ed7953"
             ],
             [
              0.7777777777777778,
              "#fb9f3a"
             ],
             [
              0.8888888888888888,
              "#fdca26"
             ],
             [
              1,
              "#f0f921"
             ]
            ],
            "type": "heatmapgl"
           }
          ],
          "histogram": [
           {
            "marker": {
             "pattern": {
              "fillmode": "overlay",
              "size": 10,
              "solidity": 0.2
             }
            },
            "type": "histogram"
           }
          ],
          "histogram2d": [
           {
            "colorbar": {
             "outlinewidth": 0,
             "ticks": ""
            },
            "colorscale": [
             [
              0,
              "#0d0887"
             ],
             [
              0.1111111111111111,
              "#46039f"
             ],
             [
              0.2222222222222222,
              "#7201a8"
             ],
             [
              0.3333333333333333,
              "#9c179e"
             ],
             [
              0.4444444444444444,
              "#bd3786"
             ],
             [
              0.5555555555555556,
              "#d8576b"
             ],
             [
              0.6666666666666666,
              "#ed7953"
             ],
             [
              0.7777777777777778,
              "#fb9f3a"
             ],
             [
              0.8888888888888888,
              "#fdca26"
             ],
             [
              1,
              "#f0f921"
             ]
            ],
            "type": "histogram2d"
           }
          ],
          "histogram2dcontour": [
           {
            "colorbar": {
             "outlinewidth": 0,
             "ticks": ""
            },
            "colorscale": [
             [
              0,
              "#0d0887"
             ],
             [
              0.1111111111111111,
              "#46039f"
             ],
             [
              0.2222222222222222,
              "#7201a8"
             ],
             [
              0.3333333333333333,
              "#9c179e"
             ],
             [
              0.4444444444444444,
              "#bd3786"
             ],
             [
              0.5555555555555556,
              "#d8576b"
             ],
             [
              0.6666666666666666,
              "#ed7953"
             ],
             [
              0.7777777777777778,
              "#fb9f3a"
             ],
             [
              0.8888888888888888,
              "#fdca26"
             ],
             [
              1,
              "#f0f921"
             ]
            ],
            "type": "histogram2dcontour"
           }
          ],
          "mesh3d": [
           {
            "colorbar": {
             "outlinewidth": 0,
             "ticks": ""
            },
            "type": "mesh3d"
           }
          ],
          "parcoords": [
           {
            "line": {
             "colorbar": {
              "outlinewidth": 0,
              "ticks": ""
             }
            },
            "type": "parcoords"
           }
          ],
          "pie": [
           {
            "automargin": true,
            "type": "pie"
           }
          ],
          "scatter": [
           {
            "fillpattern": {
             "fillmode": "overlay",
             "size": 10,
             "solidity": 0.2
            },
            "type": "scatter"
           }
          ],
          "scatter3d": [
           {
            "line": {
             "colorbar": {
              "outlinewidth": 0,
              "ticks": ""
             }
            },
            "marker": {
             "colorbar": {
              "outlinewidth": 0,
              "ticks": ""
             }
            },
            "type": "scatter3d"
           }
          ],
          "scattercarpet": [
           {
            "marker": {
             "colorbar": {
              "outlinewidth": 0,
              "ticks": ""
             }
            },
            "type": "scattercarpet"
           }
          ],
          "scattergeo": [
           {
            "marker": {
             "colorbar": {
              "outlinewidth": 0,
              "ticks": ""
             }
            },
            "type": "scattergeo"
           }
          ],
          "scattergl": [
           {
            "marker": {
             "colorbar": {
              "outlinewidth": 0,
              "ticks": ""
             }
            },
            "type": "scattergl"
           }
          ],
          "scattermapbox": [
           {
            "marker": {
             "colorbar": {
              "outlinewidth": 0,
              "ticks": ""
             }
            },
            "type": "scattermapbox"
           }
          ],
          "scatterpolar": [
           {
            "marker": {
             "colorbar": {
              "outlinewidth": 0,
              "ticks": ""
             }
            },
            "type": "scatterpolar"
           }
          ],
          "scatterpolargl": [
           {
            "marker": {
             "colorbar": {
              "outlinewidth": 0,
              "ticks": ""
             }
            },
            "type": "scatterpolargl"
           }
          ],
          "scatterternary": [
           {
            "marker": {
             "colorbar": {
              "outlinewidth": 0,
              "ticks": ""
             }
            },
            "type": "scatterternary"
           }
          ],
          "surface": [
           {
            "colorbar": {
             "outlinewidth": 0,
             "ticks": ""
            },
            "colorscale": [
             [
              0,
              "#0d0887"
             ],
             [
              0.1111111111111111,
              "#46039f"
             ],
             [
              0.2222222222222222,
              "#7201a8"
             ],
             [
              0.3333333333333333,
              "#9c179e"
             ],
             [
              0.4444444444444444,
              "#bd3786"
             ],
             [
              0.5555555555555556,
              "#d8576b"
             ],
             [
              0.6666666666666666,
              "#ed7953"
             ],
             [
              0.7777777777777778,
              "#fb9f3a"
             ],
             [
              0.8888888888888888,
              "#fdca26"
             ],
             [
              1,
              "#f0f921"
             ]
            ],
            "type": "surface"
           }
          ],
          "table": [
           {
            "cells": {
             "fill": {
              "color": "#EBF0F8"
             },
             "line": {
              "color": "white"
             }
            },
            "header": {
             "fill": {
              "color": "#C8D4E3"
             },
             "line": {
              "color": "white"
             }
            },
            "type": "table"
           }
          ]
         },
         "layout": {
          "annotationdefaults": {
           "arrowcolor": "#2a3f5f",
           "arrowhead": 0,
           "arrowwidth": 1
          },
          "autotypenumbers": "strict",
          "coloraxis": {
           "colorbar": {
            "outlinewidth": 0,
            "ticks": ""
           }
          },
          "colorscale": {
           "diverging": [
            [
             0,
             "#8e0152"
            ],
            [
             0.1,
             "#c51b7d"
            ],
            [
             0.2,
             "#de77ae"
            ],
            [
             0.3,
             "#f1b6da"
            ],
            [
             0.4,
             "#fde0ef"
            ],
            [
             0.5,
             "#f7f7f7"
            ],
            [
             0.6,
             "#e6f5d0"
            ],
            [
             0.7,
             "#b8e186"
            ],
            [
             0.8,
             "#7fbc41"
            ],
            [
             0.9,
             "#4d9221"
            ],
            [
             1,
             "#276419"
            ]
           ],
           "sequential": [
            [
             0,
             "#0d0887"
            ],
            [
             0.1111111111111111,
             "#46039f"
            ],
            [
             0.2222222222222222,
             "#7201a8"
            ],
            [
             0.3333333333333333,
             "#9c179e"
            ],
            [
             0.4444444444444444,
             "#bd3786"
            ],
            [
             0.5555555555555556,
             "#d8576b"
            ],
            [
             0.6666666666666666,
             "#ed7953"
            ],
            [
             0.7777777777777778,
             "#fb9f3a"
            ],
            [
             0.8888888888888888,
             "#fdca26"
            ],
            [
             1,
             "#f0f921"
            ]
           ],
           "sequentialminus": [
            [
             0,
             "#0d0887"
            ],
            [
             0.1111111111111111,
             "#46039f"
            ],
            [
             0.2222222222222222,
             "#7201a8"
            ],
            [
             0.3333333333333333,
             "#9c179e"
            ],
            [
             0.4444444444444444,
             "#bd3786"
            ],
            [
             0.5555555555555556,
             "#d8576b"
            ],
            [
             0.6666666666666666,
             "#ed7953"
            ],
            [
             0.7777777777777778,
             "#fb9f3a"
            ],
            [
             0.8888888888888888,
             "#fdca26"
            ],
            [
             1,
             "#f0f921"
            ]
           ]
          },
          "colorway": [
           "#636efa",
           "#EF553B",
           "#00cc96",
           "#ab63fa",
           "#FFA15A",
           "#19d3f3",
           "#FF6692",
           "#B6E880",
           "#FF97FF",
           "#FECB52"
          ],
          "font": {
           "color": "#2a3f5f"
          },
          "geo": {
           "bgcolor": "white",
           "lakecolor": "white",
           "landcolor": "#E5ECF6",
           "showlakes": true,
           "showland": true,
           "subunitcolor": "white"
          },
          "hoverlabel": {
           "align": "left"
          },
          "hovermode": "closest",
          "mapbox": {
           "style": "light"
          },
          "paper_bgcolor": "white",
          "plot_bgcolor": "#E5ECF6",
          "polar": {
           "angularaxis": {
            "gridcolor": "white",
            "linecolor": "white",
            "ticks": ""
           },
           "bgcolor": "#E5ECF6",
           "radialaxis": {
            "gridcolor": "white",
            "linecolor": "white",
            "ticks": ""
           }
          },
          "scene": {
           "xaxis": {
            "backgroundcolor": "#E5ECF6",
            "gridcolor": "white",
            "gridwidth": 2,
            "linecolor": "white",
            "showbackground": true,
            "ticks": "",
            "zerolinecolor": "white"
           },
           "yaxis": {
            "backgroundcolor": "#E5ECF6",
            "gridcolor": "white",
            "gridwidth": 2,
            "linecolor": "white",
            "showbackground": true,
            "ticks": "",
            "zerolinecolor": "white"
           },
           "zaxis": {
            "backgroundcolor": "#E5ECF6",
            "gridcolor": "white",
            "gridwidth": 2,
            "linecolor": "white",
            "showbackground": true,
            "ticks": "",
            "zerolinecolor": "white"
           }
          },
          "shapedefaults": {
           "line": {
            "color": "#2a3f5f"
           }
          },
          "ternary": {
           "aaxis": {
            "gridcolor": "white",
            "linecolor": "white",
            "ticks": ""
           },
           "baxis": {
            "gridcolor": "white",
            "linecolor": "white",
            "ticks": ""
           },
           "bgcolor": "#E5ECF6",
           "caxis": {
            "gridcolor": "white",
            "linecolor": "white",
            "ticks": ""
           }
          },
          "title": {
           "x": 0.05
          },
          "xaxis": {
           "automargin": true,
           "gridcolor": "white",
           "linecolor": "white",
           "ticks": "",
           "title": {
            "standoff": 15
           },
           "zerolinecolor": "white",
           "zerolinewidth": 2
          },
          "yaxis": {
           "automargin": true,
           "gridcolor": "white",
           "linecolor": "white",
           "ticks": "",
           "title": {
            "standoff": 15
           },
           "zerolinecolor": "white",
           "zerolinewidth": 2
          }
         }
        },
        "title": {
         "text": "Error Heatmap: Creation Hour vs Hours Ahead"
        },
        "xaxis": {
         "anchor": "y",
         "domain": [
          0,
          1
         ],
         "title": {
          "text": "Hours Ahead"
         }
        },
        "yaxis": {
         "anchor": "x",
         "autorange": "reversed",
         "domain": [
          0,
          1
         ],
         "title": {
          "text": "Hour Forecast Was Made (EST)"
         }
        }
       }
      }
     },
     "metadata": {},
     "output_type": "display_data"
    },
    {
     "name": "stdout",
     "output_type": "stream",
     "text": [
      "\n",
      "Summary Statistics by Forecast Horizon:\n",
      "0-6 hours ahead: 2.72°F (n=60)\n",
      "6-12 hours ahead: 4.91°F (n=119)\n",
      "12-24 hours ahead: 3.53°F (n=295)\n",
      "24-48 hours ahead: 1.18°F (n=3)\n",
      "48-72 hours ahead: nan°F (n=0)\n"
     ]
    }
   ],
   "source": [
    "import plotly.express as px\n",
    "import plotly.graph_objects as go\n",
    "from plotly.subplots import make_subplots\n",
    "\n",
    "def analyze_forecast_accuracy(df_forecasts, df_observations, grouped_forecasts):\n",
    "    \"\"\"Analyze and visualize forecast accuracy.\"\"\"\n",
    "    accuracy_data = []\n",
    "    \n",
    "    for forecast_time_hour, group in grouped_forecasts:\n",
    "        hour_observations = df_observations[\n",
    "            (df_observations['observed_time'] >= forecast_time_hour) &\n",
    "            (df_observations['observed_time'] < forecast_time_hour + timedelta(hours=1))\n",
    "        ]\n",
    "        \n",
    "        if not hour_observations.empty:\n",
    "            actual_temp = hour_observations['temperature'].mean()\n",
    "            \n",
    "            for _, forecast in group.iterrows():\n",
    "                hours_ahead = (forecast_time_hour - forecast['created_at']).total_seconds() / 3600\n",
    "                error = forecast['temperature'] - actual_temp\n",
    "                accuracy_data.append({\n",
    "                    'forecast_time': forecast_time_hour,\n",
    "                    'created_at': forecast['created_at'],\n",
    "                    'created_hour': forecast['created_at'].hour,\n",
    "                    'hours_ahead': round(hours_ahead),  # Round to nearest hour\n",
    "                    'error': error,\n",
    "                    'actual_temp': actual_temp,\n",
    "                    'forecast_temp': forecast['temperature'],\n",
    "                    'error_magnitude': abs(error)\n",
    "                })\n",
    "    \n",
    "    df_accuracy = pd.DataFrame(accuracy_data)\n",
    "    \n",
    "    # 1. Average error by how many hours ahead the forecast was made\n",
    "    hours_ahead_mae = df_accuracy.groupby('hours_ahead')['error_magnitude'].agg(['mean', 'count']).reset_index()\n",
    "    fig1 = px.bar(hours_ahead_mae,\n",
    "                  x='hours_ahead',\n",
    "                  y='mean',\n",
    "                  title='Average Forecast Error by Hours Ahead',\n",
    "                  labels={'hours_ahead': 'Hours Ahead of Forecast Time',\n",
    "                         'mean': 'Mean Absolute Error (°F)'},\n",
    "                  hover_data=['count'])  # Show number of forecasts for each bar\n",
    "    fig1.show()\n",
    "    \n",
    "    # 2. Average error by creation hour\n",
    "    created_hour_mae = df_accuracy.groupby('created_hour')['error_magnitude'].mean().reset_index()\n",
    "    fig2 = px.bar(created_hour_mae,\n",
    "                  x='created_hour',\n",
    "                  y='error_magnitude',\n",
    "                  title='Average Forecast Error by Hour Created (EST)',\n",
    "                  labels={'created_hour': 'Hour Forecast Was Made (EST)',\n",
    "                         'error_magnitude': 'Mean Absolute Error (°F)'})\n",
    "    fig2.show()\n",
    "    \n",
    "    # 3. Heatmap showing error by creation hour and hours ahead\n",
    "    pivot_data = df_accuracy.pivot_table(\n",
    "        values='error_magnitude',\n",
    "        index='created_hour',\n",
    "        columns='hours_ahead',\n",
    "        aggfunc='mean'\n",
    "    )\n",
    "    \n",
    "    fig3 = px.imshow(pivot_data,\n",
    "                     title='Error Heatmap: Creation Hour vs Hours Ahead',\n",
    "                     labels=dict(x='Hours Ahead', \n",
    "                               y='Hour Forecast Was Made (EST)', \n",
    "                               color='Mean Absolute Error (°F)'),\n",
    "                     aspect='auto',\n",
    "                     color_continuous_scale='RdYlBu_r')\n",
    "    fig3.show()\n",
    "    \n",
    "    # 4. Summary statistics by forecast horizon\n",
    "    print(\"\\nSummary Statistics by Forecast Horizon:\")\n",
    "    horizons = [0, 6, 12, 24, 48, 72]  # Different forecast horizons to analyze\n",
    "    for i in range(len(horizons)-1):\n",
    "        mask = (df_accuracy['hours_ahead'] >= horizons[i]) & (df_accuracy['hours_ahead'] < horizons[i+1])\n",
    "        mae = df_accuracy[mask]['error_magnitude'].mean()\n",
    "        count = mask.sum()\n",
    "        print(f\"{horizons[i]}-{horizons[i+1]} hours ahead: {mae:.2f}°F (n={count})\")\n",
    "    \n",
    "    return df_accuracy\n",
    "\n",
    "# Run the analysis\n",
    "df_accuracy = analyze_forecast_accuracy(df_forecasts, df_observations, grouped_forecasts)"
   ]
  },
  {
   "cell_type": "code",
   "execution_count": 65,
   "metadata": {},
   "outputs": [
    {
     "data": {
      "application/vnd.plotly.v1+json": {
       "config": {
        "plotlyServerURL": "https://plot.ly"
       },
       "data": [
        {
         "customdata": [
          [
           "2024-12-08",
           0.40433256083333335,
           1.0200000000000031,
           "2024-12-08T15:35:44.402781-05:00"
          ],
          [
           "2024-12-08",
           0.23770469194444444,
           1.0200000000000031,
           "2024-12-08T15:45:44.263109-05:00"
          ],
          [
           "2024-12-09",
           18.404332560833335,
           -7.079999999999998,
           "2024-12-08T15:35:44.402781-05:00"
          ],
          [
           "2024-12-09",
           18.237704691944444,
           -7.079999999999998,
           "2024-12-08T15:45:44.263109-05:00"
          ],
          [
           "2024-12-09",
           17.989442071944442,
           -7.079999999999998,
           "2024-12-08T16:00:38.008541-05:00"
          ],
          [
           "2024-12-09",
           16.738026605555554,
           -7.079999999999998,
           "2024-12-08T17:15:43.104220-05:00"
          ],
          [
           "2024-12-09",
           16.654555516944445,
           -7.079999999999998,
           "2024-12-08T17:20:43.600139-05:00"
          ],
          [
           "2024-12-09",
           16.487850183888888,
           -7.079999999999998,
           "2024-12-08T17:30:43.739338-05:00"
          ],
          [
           "2024-12-09",
           16.32090226861111,
           -7.079999999999998,
           "2024-12-08T17:40:44.751833-05:00"
          ],
          [
           "2024-12-09",
           16.237874008888888,
           -7.079999999999998,
           "2024-12-08T17:45:43.653568-05:00"
          ],
          [
           "2024-12-09",
           16.15455935388889,
           -7.079999999999998,
           "2024-12-08T17:50:43.586326-05:00"
          ],
          [
           "2024-12-09",
           15.905624260277778,
           -7.079999999999998,
           "2024-12-08T18:05:39.752663-05:00"
          ],
          [
           "2024-12-09",
           14.154542825555556,
           -7.079999999999998,
           "2024-12-08T19:50:43.645828-05:00"
          ],
          [
           "2024-12-09",
           12.571212727499999,
           -7.079999999999998,
           "2024-12-08T21:25:43.634181-05:00"
          ],
          [
           "2024-12-09",
           12.487900268611112,
           -7.079999999999998,
           "2024-12-08T21:30:43.559033-05:00"
          ],
          [
           "2024-12-09",
           13.192012053055556,
           -7.079999999999998,
           "2024-12-08T20:48:28.756609-05:00"
          ],
          [
           "2024-12-09",
           13.398578243055555,
           -7.079999999999998,
           "2024-12-08T20:36:05.118325-05:00"
          ],
          [
           "2024-12-09",
           13.122786354999999,
           -7.079999999999998,
           "2024-12-08T20:52:37.969122-05:00"
          ],
          [
           "2024-12-09",
           13.082991290277777,
           -7.079999999999998,
           "2024-12-08T20:55:01.231355-05:00"
          ],
          [
           "2024-12-09",
           12.904603061944444,
           -7.079999999999998,
           "2024-12-08T21:05:43.428977-05:00"
          ],
          [
           "2024-12-09",
           12.727255199444445,
           -7.079999999999998,
           "2024-12-08T21:16:21.881282-05:00"
          ],
          [
           "2024-12-09",
           12.694784378055555,
           -7.079999999999998,
           "2024-12-08T21:18:18.776239-05:00"
          ],
          [
           "2024-12-09",
           12.671887580555556,
           -7.079999999999998,
           "2024-12-08T21:19:41.204710-05:00"
          ],
          [
           "2024-12-09",
           12.21999557361111,
           -7.079999999999998,
           "2024-12-08T21:46:48.015935-05:00"
          ],
          [
           "2024-12-09",
           12.154513038055557,
           -7.079999999999998,
           "2024-12-08T21:50:43.753063-05:00"
          ],
          [
           "2024-12-09",
           12.07116575,
           -7.079999999999998,
           "2024-12-08T21:55:43.803300-05:00"
          ],
          [
           "2024-12-09",
           11.988921400277777,
           -7.079999999999998,
           "2024-12-08T22:00:39.882959-05:00"
          ],
          [
           "2024-12-09",
           11.905620835277778,
           -7.079999999999998,
           "2024-12-08T22:05:39.764993-05:00"
          ],
          [
           "2024-12-09",
           11.822229465,
           -7.079999999999998,
           "2024-12-08T22:10:39.973926-05:00"
          ],
          [
           "2024-12-09",
           11.737438610555555,
           -7.079999999999998,
           "2024-12-08T22:15:45.221002-05:00"
          ],
          [
           "2024-12-09",
           10.992861859166666,
           -7.079999999999998,
           "2024-12-08T23:00:25.697307-05:00"
          ],
          [
           "2024-12-09",
           9.99332721111111,
           -7.079999999999998,
           "2024-12-09T00:00:24.022040-05:00"
          ],
          [
           "2024-12-09",
           8.993743924444445,
           -7.079999999999998,
           "2024-12-09T01:00:22.521872-05:00"
          ],
          [
           "2024-12-09",
           7.994189452222223,
           -7.079999999999998,
           "2024-12-09T02:00:20.917972-05:00"
          ],
          [
           "2024-12-09",
           6.994142536388889,
           -7.079999999999998,
           "2024-12-09T03:00:21.086869-05:00"
          ],
          [
           "2024-12-09",
           5.989525737777778,
           -7.079999999999998,
           "2024-12-09T04:00:37.707344-05:00"
          ],
          [
           "2024-12-09",
           4.994167665000001,
           -7.079999999999998,
           "2024-12-09T05:00:20.996406-05:00"
          ],
          [
           "2024-12-09",
           3.9937900819444443,
           -5.079999999999998,
           "2024-12-09T06:00:22.355705-05:00"
          ],
          [
           "2024-12-09",
           2.9941085055555554,
           -5.079999999999998,
           "2024-12-09T07:00:21.209380-05:00"
          ],
          [
           "2024-12-09",
           0.9936836952777779,
           -5.079999999999998,
           "2024-12-09T09:00:22.738697-05:00"
          ]
         ],
         "hovertemplate": "actual_max_temp=%{x:.2f}<br>forecast_temp=%{y:.2f}<br>date=%{customdata[0]}<br>hours_ahead=%{customdata[1]:.2f}<br>error=%{customdata[2]:.2f}<br>forecast_created=%{customdata[3]}<extra></extra>",
         "legendgroup": "",
         "marker": {
          "color": "#636efa",
          "symbol": "circle"
         },
         "mode": "markers",
         "name": "",
         "orientation": "v",
         "showlegend": false,
         "type": "scatter",
         "x": [
          51.98,
          51.98,
          51.08,
          51.08,
          51.08,
          51.08,
          51.08,
          51.08,
          51.08,
          51.08,
          51.08,
          51.08,
          51.08,
          51.08,
          51.08,
          51.08,
          51.08,
          51.08,
          51.08,
          51.08,
          51.08,
          51.08,
          51.08,
          51.08,
          51.08,
          51.08,
          51.08,
          51.08,
          51.08,
          51.08,
          51.08,
          51.08,
          51.08,
          51.08,
          51.08,
          51.08,
          51.08,
          51.08,
          51.08,
          51.08
         ],
         "xaxis": "x",
         "y": [
          53,
          53,
          44,
          44,
          44,
          44,
          44,
          44,
          44,
          44,
          44,
          44,
          44,
          44,
          44,
          44,
          44,
          44,
          44,
          44,
          44,
          44,
          44,
          44,
          44,
          44,
          44,
          44,
          44,
          44,
          44,
          44,
          44,
          44,
          44,
          44,
          44,
          46,
          46,
          46
         ],
         "yaxis": "y"
        },
        {
         "line": {
          "dash": "dash"
         },
         "mode": "lines",
         "name": "Perfect Forecast",
         "type": "scatter",
         "x": [
          51.08,
          51.98
         ],
         "y": [
          51.08,
          51.98
         ]
        }
       ],
       "layout": {
        "legend": {
         "tracegroupgap": 0
        },
        "template": {
         "data": {
          "bar": [
           {
            "error_x": {
             "color": "#2a3f5f"
            },
            "error_y": {
             "color": "#2a3f5f"
            },
            "marker": {
             "line": {
              "color": "#E5ECF6",
              "width": 0.5
             },
             "pattern": {
              "fillmode": "overlay",
              "size": 10,
              "solidity": 0.2
             }
            },
            "type": "bar"
           }
          ],
          "barpolar": [
           {
            "marker": {
             "line": {
              "color": "#E5ECF6",
              "width": 0.5
             },
             "pattern": {
              "fillmode": "overlay",
              "size": 10,
              "solidity": 0.2
             }
            },
            "type": "barpolar"
           }
          ],
          "carpet": [
           {
            "aaxis": {
             "endlinecolor": "#2a3f5f",
             "gridcolor": "white",
             "linecolor": "white",
             "minorgridcolor": "white",
             "startlinecolor": "#2a3f5f"
            },
            "baxis": {
             "endlinecolor": "#2a3f5f",
             "gridcolor": "white",
             "linecolor": "white",
             "minorgridcolor": "white",
             "startlinecolor": "#2a3f5f"
            },
            "type": "carpet"
           }
          ],
          "choropleth": [
           {
            "colorbar": {
             "outlinewidth": 0,
             "ticks": ""
            },
            "type": "choropleth"
           }
          ],
          "contour": [
           {
            "colorbar": {
             "outlinewidth": 0,
             "ticks": ""
            },
            "colorscale": [
             [
              0,
              "#0d0887"
             ],
             [
              0.1111111111111111,
              "#46039f"
             ],
             [
              0.2222222222222222,
              "#7201a8"
             ],
             [
              0.3333333333333333,
              "#9c179e"
             ],
             [
              0.4444444444444444,
              "#bd3786"
             ],
             [
              0.5555555555555556,
              "#d8576b"
             ],
             [
              0.6666666666666666,
              "#ed7953"
             ],
             [
              0.7777777777777778,
              "#fb9f3a"
             ],
             [
              0.8888888888888888,
              "#fdca26"
             ],
             [
              1,
              "#f0f921"
             ]
            ],
            "type": "contour"
           }
          ],
          "contourcarpet": [
           {
            "colorbar": {
             "outlinewidth": 0,
             "ticks": ""
            },
            "type": "contourcarpet"
           }
          ],
          "heatmap": [
           {
            "colorbar": {
             "outlinewidth": 0,
             "ticks": ""
            },
            "colorscale": [
             [
              0,
              "#0d0887"
             ],
             [
              0.1111111111111111,
              "#46039f"
             ],
             [
              0.2222222222222222,
              "#7201a8"
             ],
             [
              0.3333333333333333,
              "#9c179e"
             ],
             [
              0.4444444444444444,
              "#bd3786"
             ],
             [
              0.5555555555555556,
              "#d8576b"
             ],
             [
              0.6666666666666666,
              "#ed7953"
             ],
             [
              0.7777777777777778,
              "#fb9f3a"
             ],
             [
              0.8888888888888888,
              "#fdca26"
             ],
             [
              1,
              "#f0f921"
             ]
            ],
            "type": "heatmap"
           }
          ],
          "heatmapgl": [
           {
            "colorbar": {
             "outlinewidth": 0,
             "ticks": ""
            },
            "colorscale": [
             [
              0,
              "#0d0887"
             ],
             [
              0.1111111111111111,
              "#46039f"
             ],
             [
              0.2222222222222222,
              "#7201a8"
             ],
             [
              0.3333333333333333,
              "#9c179e"
             ],
             [
              0.4444444444444444,
              "#bd3786"
             ],
             [
              0.5555555555555556,
              "#d8576b"
             ],
             [
              0.6666666666666666,
              "#ed7953"
             ],
             [
              0.7777777777777778,
              "#fb9f3a"
             ],
             [
              0.8888888888888888,
              "#fdca26"
             ],
             [
              1,
              "#f0f921"
             ]
            ],
            "type": "heatmapgl"
           }
          ],
          "histogram": [
           {
            "marker": {
             "pattern": {
              "fillmode": "overlay",
              "size": 10,
              "solidity": 0.2
             }
            },
            "type": "histogram"
           }
          ],
          "histogram2d": [
           {
            "colorbar": {
             "outlinewidth": 0,
             "ticks": ""
            },
            "colorscale": [
             [
              0,
              "#0d0887"
             ],
             [
              0.1111111111111111,
              "#46039f"
             ],
             [
              0.2222222222222222,
              "#7201a8"
             ],
             [
              0.3333333333333333,
              "#9c179e"
             ],
             [
              0.4444444444444444,
              "#bd3786"
             ],
             [
              0.5555555555555556,
              "#d8576b"
             ],
             [
              0.6666666666666666,
              "#ed7953"
             ],
             [
              0.7777777777777778,
              "#fb9f3a"
             ],
             [
              0.8888888888888888,
              "#fdca26"
             ],
             [
              1,
              "#f0f921"
             ]
            ],
            "type": "histogram2d"
           }
          ],
          "histogram2dcontour": [
           {
            "colorbar": {
             "outlinewidth": 0,
             "ticks": ""
            },
            "colorscale": [
             [
              0,
              "#0d0887"
             ],
             [
              0.1111111111111111,
              "#46039f"
             ],
             [
              0.2222222222222222,
              "#7201a8"
             ],
             [
              0.3333333333333333,
              "#9c179e"
             ],
             [
              0.4444444444444444,
              "#bd3786"
             ],
             [
              0.5555555555555556,
              "#d8576b"
             ],
             [
              0.6666666666666666,
              "#ed7953"
             ],
             [
              0.7777777777777778,
              "#fb9f3a"
             ],
             [
              0.8888888888888888,
              "#fdca26"
             ],
             [
              1,
              "#f0f921"
             ]
            ],
            "type": "histogram2dcontour"
           }
          ],
          "mesh3d": [
           {
            "colorbar": {
             "outlinewidth": 0,
             "ticks": ""
            },
            "type": "mesh3d"
           }
          ],
          "parcoords": [
           {
            "line": {
             "colorbar": {
              "outlinewidth": 0,
              "ticks": ""
             }
            },
            "type": "parcoords"
           }
          ],
          "pie": [
           {
            "automargin": true,
            "type": "pie"
           }
          ],
          "scatter": [
           {
            "fillpattern": {
             "fillmode": "overlay",
             "size": 10,
             "solidity": 0.2
            },
            "type": "scatter"
           }
          ],
          "scatter3d": [
           {
            "line": {
             "colorbar": {
              "outlinewidth": 0,
              "ticks": ""
             }
            },
            "marker": {
             "colorbar": {
              "outlinewidth": 0,
              "ticks": ""
             }
            },
            "type": "scatter3d"
           }
          ],
          "scattercarpet": [
           {
            "marker": {
             "colorbar": {
              "outlinewidth": 0,
              "ticks": ""
             }
            },
            "type": "scattercarpet"
           }
          ],
          "scattergeo": [
           {
            "marker": {
             "colorbar": {
              "outlinewidth": 0,
              "ticks": ""
             }
            },
            "type": "scattergeo"
           }
          ],
          "scattergl": [
           {
            "marker": {
             "colorbar": {
              "outlinewidth": 0,
              "ticks": ""
             }
            },
            "type": "scattergl"
           }
          ],
          "scattermapbox": [
           {
            "marker": {
             "colorbar": {
              "outlinewidth": 0,
              "ticks": ""
             }
            },
            "type": "scattermapbox"
           }
          ],
          "scatterpolar": [
           {
            "marker": {
             "colorbar": {
              "outlinewidth": 0,
              "ticks": ""
             }
            },
            "type": "scatterpolar"
           }
          ],
          "scatterpolargl": [
           {
            "marker": {
             "colorbar": {
              "outlinewidth": 0,
              "ticks": ""
             }
            },
            "type": "scatterpolargl"
           }
          ],
          "scatterternary": [
           {
            "marker": {
             "colorbar": {
              "outlinewidth": 0,
              "ticks": ""
             }
            },
            "type": "scatterternary"
           }
          ],
          "surface": [
           {
            "colorbar": {
             "outlinewidth": 0,
             "ticks": ""
            },
            "colorscale": [
             [
              0,
              "#0d0887"
             ],
             [
              0.1111111111111111,
              "#46039f"
             ],
             [
              0.2222222222222222,
              "#7201a8"
             ],
             [
              0.3333333333333333,
              "#9c179e"
             ],
             [
              0.4444444444444444,
              "#bd3786"
             ],
             [
              0.5555555555555556,
              "#d8576b"
             ],
             [
              0.6666666666666666,
              "#ed7953"
             ],
             [
              0.7777777777777778,
              "#fb9f3a"
             ],
             [
              0.8888888888888888,
              "#fdca26"
             ],
             [
              1,
              "#f0f921"
             ]
            ],
            "type": "surface"
           }
          ],
          "table": [
           {
            "cells": {
             "fill": {
              "color": "#EBF0F8"
             },
             "line": {
              "color": "white"
             }
            },
            "header": {
             "fill": {
              "color": "#C8D4E3"
             },
             "line": {
              "color": "white"
             }
            },
            "type": "table"
           }
          ]
         },
         "layout": {
          "annotationdefaults": {
           "arrowcolor": "#2a3f5f",
           "arrowhead": 0,
           "arrowwidth": 1
          },
          "autotypenumbers": "strict",
          "coloraxis": {
           "colorbar": {
            "outlinewidth": 0,
            "ticks": ""
           }
          },
          "colorscale": {
           "diverging": [
            [
             0,
             "#8e0152"
            ],
            [
             0.1,
             "#c51b7d"
            ],
            [
             0.2,
             "#de77ae"
            ],
            [
             0.3,
             "#f1b6da"
            ],
            [
             0.4,
             "#fde0ef"
            ],
            [
             0.5,
             "#f7f7f7"
            ],
            [
             0.6,
             "#e6f5d0"
            ],
            [
             0.7,
             "#b8e186"
            ],
            [
             0.8,
             "#7fbc41"
            ],
            [
             0.9,
             "#4d9221"
            ],
            [
             1,
             "#276419"
            ]
           ],
           "sequential": [
            [
             0,
             "#0d0887"
            ],
            [
             0.1111111111111111,
             "#46039f"
            ],
            [
             0.2222222222222222,
             "#7201a8"
            ],
            [
             0.3333333333333333,
             "#9c179e"
            ],
            [
             0.4444444444444444,
             "#bd3786"
            ],
            [
             0.5555555555555556,
             "#d8576b"
            ],
            [
             0.6666666666666666,
             "#ed7953"
            ],
            [
             0.7777777777777778,
             "#fb9f3a"
            ],
            [
             0.8888888888888888,
             "#fdca26"
            ],
            [
             1,
             "#f0f921"
            ]
           ],
           "sequentialminus": [
            [
             0,
             "#0d0887"
            ],
            [
             0.1111111111111111,
             "#46039f"
            ],
            [
             0.2222222222222222,
             "#7201a8"
            ],
            [
             0.3333333333333333,
             "#9c179e"
            ],
            [
             0.4444444444444444,
             "#bd3786"
            ],
            [
             0.5555555555555556,
             "#d8576b"
            ],
            [
             0.6666666666666666,
             "#ed7953"
            ],
            [
             0.7777777777777778,
             "#fb9f3a"
            ],
            [
             0.8888888888888888,
             "#fdca26"
            ],
            [
             1,
             "#f0f921"
            ]
           ]
          },
          "colorway": [
           "#636efa",
           "#EF553B",
           "#00cc96",
           "#ab63fa",
           "#FFA15A",
           "#19d3f3",
           "#FF6692",
           "#B6E880",
           "#FF97FF",
           "#FECB52"
          ],
          "font": {
           "color": "#2a3f5f"
          },
          "geo": {
           "bgcolor": "white",
           "lakecolor": "white",
           "landcolor": "#E5ECF6",
           "showlakes": true,
           "showland": true,
           "subunitcolor": "white"
          },
          "hoverlabel": {
           "align": "left"
          },
          "hovermode": "closest",
          "mapbox": {
           "style": "light"
          },
          "paper_bgcolor": "white",
          "plot_bgcolor": "#E5ECF6",
          "polar": {
           "angularaxis": {
            "gridcolor": "white",
            "linecolor": "white",
            "ticks": ""
           },
           "bgcolor": "#E5ECF6",
           "radialaxis": {
            "gridcolor": "white",
            "linecolor": "white",
            "ticks": ""
           }
          },
          "scene": {
           "xaxis": {
            "backgroundcolor": "#E5ECF6",
            "gridcolor": "white",
            "gridwidth": 2,
            "linecolor": "white",
            "showbackground": true,
            "ticks": "",
            "zerolinecolor": "white"
           },
           "yaxis": {
            "backgroundcolor": "#E5ECF6",
            "gridcolor": "white",
            "gridwidth": 2,
            "linecolor": "white",
            "showbackground": true,
            "ticks": "",
            "zerolinecolor": "white"
           },
           "zaxis": {
            "backgroundcolor": "#E5ECF6",
            "gridcolor": "white",
            "gridwidth": 2,
            "linecolor": "white",
            "showbackground": true,
            "ticks": "",
            "zerolinecolor": "white"
           }
          },
          "shapedefaults": {
           "line": {
            "color": "#2a3f5f"
           }
          },
          "ternary": {
           "aaxis": {
            "gridcolor": "white",
            "linecolor": "white",
            "ticks": ""
           },
           "baxis": {
            "gridcolor": "white",
            "linecolor": "white",
            "ticks": ""
           },
           "bgcolor": "#E5ECF6",
           "caxis": {
            "gridcolor": "white",
            "linecolor": "white",
            "ticks": ""
           }
          },
          "title": {
           "x": 0.05
          },
          "xaxis": {
           "automargin": true,
           "gridcolor": "white",
           "linecolor": "white",
           "ticks": "",
           "title": {
            "standoff": 15
           },
           "zerolinecolor": "white",
           "zerolinewidth": 2
          },
          "yaxis": {
           "automargin": true,
           "gridcolor": "white",
           "linecolor": "white",
           "ticks": "",
           "title": {
            "standoff": 15
           },
           "zerolinecolor": "white",
           "zerolinewidth": 2
          }
         }
        },
        "title": {
         "text": "Forecast vs Actual Daily Maximum Temperatures"
        },
        "xaxis": {
         "anchor": "y",
         "domain": [
          0,
          1
         ],
         "title": {
          "text": "actual_max_temp"
         }
        },
        "yaxis": {
         "anchor": "x",
         "domain": [
          0,
          1
         ],
         "title": {
          "text": "forecast_temp"
         }
        }
       }
      }
     },
     "metadata": {},
     "output_type": "display_data"
    },
    {
     "data": {
      "application/vnd.plotly.v1+json": {
       "config": {
        "plotlyServerURL": "https://plot.ly"
       },
       "data": [
        {
         "alignmentgroup": "True",
         "customdata": [
          [
           "2024-12-08",
           "2024-12-08T15:35:44.402781-05:00"
          ],
          [
           "2024-12-08",
           "2024-12-08T15:45:44.263109-05:00"
          ],
          [
           "2024-12-09",
           "2024-12-08T15:35:44.402781-05:00"
          ],
          [
           "2024-12-09",
           "2024-12-08T15:45:44.263109-05:00"
          ],
          [
           "2024-12-09",
           "2024-12-08T16:00:38.008541-05:00"
          ],
          [
           "2024-12-09",
           "2024-12-08T17:15:43.104220-05:00"
          ],
          [
           "2024-12-09",
           "2024-12-08T17:20:43.600139-05:00"
          ],
          [
           "2024-12-09",
           "2024-12-08T17:30:43.739338-05:00"
          ],
          [
           "2024-12-09",
           "2024-12-08T17:40:44.751833-05:00"
          ],
          [
           "2024-12-09",
           "2024-12-08T17:45:43.653568-05:00"
          ],
          [
           "2024-12-09",
           "2024-12-08T17:50:43.586326-05:00"
          ],
          [
           "2024-12-09",
           "2024-12-08T18:05:39.752663-05:00"
          ],
          [
           "2024-12-09",
           "2024-12-08T19:50:43.645828-05:00"
          ],
          [
           "2024-12-09",
           "2024-12-08T21:25:43.634181-05:00"
          ],
          [
           "2024-12-09",
           "2024-12-08T21:30:43.559033-05:00"
          ],
          [
           "2024-12-09",
           "2024-12-08T20:48:28.756609-05:00"
          ],
          [
           "2024-12-09",
           "2024-12-08T20:36:05.118325-05:00"
          ],
          [
           "2024-12-09",
           "2024-12-08T20:52:37.969122-05:00"
          ],
          [
           "2024-12-09",
           "2024-12-08T20:55:01.231355-05:00"
          ],
          [
           "2024-12-09",
           "2024-12-08T21:05:43.428977-05:00"
          ],
          [
           "2024-12-09",
           "2024-12-08T21:16:21.881282-05:00"
          ],
          [
           "2024-12-09",
           "2024-12-08T21:18:18.776239-05:00"
          ],
          [
           "2024-12-09",
           "2024-12-08T21:19:41.204710-05:00"
          ],
          [
           "2024-12-09",
           "2024-12-08T21:46:48.015935-05:00"
          ],
          [
           "2024-12-09",
           "2024-12-08T21:50:43.753063-05:00"
          ],
          [
           "2024-12-09",
           "2024-12-08T21:55:43.803300-05:00"
          ],
          [
           "2024-12-09",
           "2024-12-08T22:00:39.882959-05:00"
          ],
          [
           "2024-12-09",
           "2024-12-08T22:05:39.764993-05:00"
          ],
          [
           "2024-12-09",
           "2024-12-08T22:10:39.973926-05:00"
          ],
          [
           "2024-12-09",
           "2024-12-08T22:15:45.221002-05:00"
          ],
          [
           "2024-12-09",
           "2024-12-08T23:00:25.697307-05:00"
          ],
          [
           "2024-12-09",
           "2024-12-09T00:00:24.022040-05:00"
          ],
          [
           "2024-12-09",
           "2024-12-09T01:00:22.521872-05:00"
          ],
          [
           "2024-12-09",
           "2024-12-09T02:00:20.917972-05:00"
          ],
          [
           "2024-12-09",
           "2024-12-09T03:00:21.086869-05:00"
          ],
          [
           "2024-12-09",
           "2024-12-09T04:00:37.707344-05:00"
          ],
          [
           "2024-12-09",
           "2024-12-09T05:00:20.996406-05:00"
          ],
          [
           "2024-12-09",
           "2024-12-09T06:00:22.355705-05:00"
          ],
          [
           "2024-12-09",
           "2024-12-09T07:00:21.209380-05:00"
          ],
          [
           "2024-12-09",
           "2024-12-09T09:00:22.738697-05:00"
          ]
         ],
         "hovertemplate": "x=%{x}<br>error=%{y}<br>date=%{customdata[0]}<br>forecast_created=%{customdata[1]}<extra></extra>",
         "legendgroup": "",
         "marker": {
          "color": "#636efa"
         },
         "name": "",
         "notched": false,
         "offsetgroup": "",
         "orientation": "v",
         "showlegend": false,
         "type": "box",
         "x": [
          0,
          0,
          18,
          18,
          18,
          17,
          17,
          16,
          16,
          16,
          16,
          16,
          14,
          13,
          12,
          13,
          13,
          13,
          13,
          13,
          13,
          13,
          13,
          12,
          12,
          12,
          12,
          12,
          12,
          12,
          11,
          10,
          9,
          8,
          7,
          6,
          5,
          4,
          3,
          1
         ],
         "x0": " ",
         "xaxis": "x",
         "y": [
          1.0200000000000031,
          1.0200000000000031,
          -7.079999999999998,
          -7.079999999999998,
          -7.079999999999998,
          -7.079999999999998,
          -7.079999999999998,
          -7.079999999999998,
          -7.079999999999998,
          -7.079999999999998,
          -7.079999999999998,
          -7.079999999999998,
          -7.079999999999998,
          -7.079999999999998,
          -7.079999999999998,
          -7.079999999999998,
          -7.079999999999998,
          -7.079999999999998,
          -7.079999999999998,
          -7.079999999999998,
          -7.079999999999998,
          -7.079999999999998,
          -7.079999999999998,
          -7.079999999999998,
          -7.079999999999998,
          -7.079999999999998,
          -7.079999999999998,
          -7.079999999999998,
          -7.079999999999998,
          -7.079999999999998,
          -7.079999999999998,
          -7.079999999999998,
          -7.079999999999998,
          -7.079999999999998,
          -7.079999999999998,
          -7.079999999999998,
          -7.079999999999998,
          -5.079999999999998,
          -5.079999999999998,
          -5.079999999999998
         ],
         "y0": " ",
         "yaxis": "y"
        }
       ],
       "layout": {
        "boxmode": "group",
        "legend": {
         "tracegroupgap": 0
        },
        "template": {
         "data": {
          "bar": [
           {
            "error_x": {
             "color": "#2a3f5f"
            },
            "error_y": {
             "color": "#2a3f5f"
            },
            "marker": {
             "line": {
              "color": "#E5ECF6",
              "width": 0.5
             },
             "pattern": {
              "fillmode": "overlay",
              "size": 10,
              "solidity": 0.2
             }
            },
            "type": "bar"
           }
          ],
          "barpolar": [
           {
            "marker": {
             "line": {
              "color": "#E5ECF6",
              "width": 0.5
             },
             "pattern": {
              "fillmode": "overlay",
              "size": 10,
              "solidity": 0.2
             }
            },
            "type": "barpolar"
           }
          ],
          "carpet": [
           {
            "aaxis": {
             "endlinecolor": "#2a3f5f",
             "gridcolor": "white",
             "linecolor": "white",
             "minorgridcolor": "white",
             "startlinecolor": "#2a3f5f"
            },
            "baxis": {
             "endlinecolor": "#2a3f5f",
             "gridcolor": "white",
             "linecolor": "white",
             "minorgridcolor": "white",
             "startlinecolor": "#2a3f5f"
            },
            "type": "carpet"
           }
          ],
          "choropleth": [
           {
            "colorbar": {
             "outlinewidth": 0,
             "ticks": ""
            },
            "type": "choropleth"
           }
          ],
          "contour": [
           {
            "colorbar": {
             "outlinewidth": 0,
             "ticks": ""
            },
            "colorscale": [
             [
              0,
              "#0d0887"
             ],
             [
              0.1111111111111111,
              "#46039f"
             ],
             [
              0.2222222222222222,
              "#7201a8"
             ],
             [
              0.3333333333333333,
              "#9c179e"
             ],
             [
              0.4444444444444444,
              "#bd3786"
             ],
             [
              0.5555555555555556,
              "#d8576b"
             ],
             [
              0.6666666666666666,
              "#ed7953"
             ],
             [
              0.7777777777777778,
              "#fb9f3a"
             ],
             [
              0.8888888888888888,
              "#fdca26"
             ],
             [
              1,
              "#f0f921"
             ]
            ],
            "type": "contour"
           }
          ],
          "contourcarpet": [
           {
            "colorbar": {
             "outlinewidth": 0,
             "ticks": ""
            },
            "type": "contourcarpet"
           }
          ],
          "heatmap": [
           {
            "colorbar": {
             "outlinewidth": 0,
             "ticks": ""
            },
            "colorscale": [
             [
              0,
              "#0d0887"
             ],
             [
              0.1111111111111111,
              "#46039f"
             ],
             [
              0.2222222222222222,
              "#7201a8"
             ],
             [
              0.3333333333333333,
              "#9c179e"
             ],
             [
              0.4444444444444444,
              "#bd3786"
             ],
             [
              0.5555555555555556,
              "#d8576b"
             ],
             [
              0.6666666666666666,
              "#ed7953"
             ],
             [
              0.7777777777777778,
              "#fb9f3a"
             ],
             [
              0.8888888888888888,
              "#fdca26"
             ],
             [
              1,
              "#f0f921"
             ]
            ],
            "type": "heatmap"
           }
          ],
          "heatmapgl": [
           {
            "colorbar": {
             "outlinewidth": 0,
             "ticks": ""
            },
            "colorscale": [
             [
              0,
              "#0d0887"
             ],
             [
              0.1111111111111111,
              "#46039f"
             ],
             [
              0.2222222222222222,
              "#7201a8"
             ],
             [
              0.3333333333333333,
              "#9c179e"
             ],
             [
              0.4444444444444444,
              "#bd3786"
             ],
             [
              0.5555555555555556,
              "#d8576b"
             ],
             [
              0.6666666666666666,
              "#ed7953"
             ],
             [
              0.7777777777777778,
              "#fb9f3a"
             ],
             [
              0.8888888888888888,
              "#fdca26"
             ],
             [
              1,
              "#f0f921"
             ]
            ],
            "type": "heatmapgl"
           }
          ],
          "histogram": [
           {
            "marker": {
             "pattern": {
              "fillmode": "overlay",
              "size": 10,
              "solidity": 0.2
             }
            },
            "type": "histogram"
           }
          ],
          "histogram2d": [
           {
            "colorbar": {
             "outlinewidth": 0,
             "ticks": ""
            },
            "colorscale": [
             [
              0,
              "#0d0887"
             ],
             [
              0.1111111111111111,
              "#46039f"
             ],
             [
              0.2222222222222222,
              "#7201a8"
             ],
             [
              0.3333333333333333,
              "#9c179e"
             ],
             [
              0.4444444444444444,
              "#bd3786"
             ],
             [
              0.5555555555555556,
              "#d8576b"
             ],
             [
              0.6666666666666666,
              "#ed7953"
             ],
             [
              0.7777777777777778,
              "#fb9f3a"
             ],
             [
              0.8888888888888888,
              "#fdca26"
             ],
             [
              1,
              "#f0f921"
             ]
            ],
            "type": "histogram2d"
           }
          ],
          "histogram2dcontour": [
           {
            "colorbar": {
             "outlinewidth": 0,
             "ticks": ""
            },
            "colorscale": [
             [
              0,
              "#0d0887"
             ],
             [
              0.1111111111111111,
              "#46039f"
             ],
             [
              0.2222222222222222,
              "#7201a8"
             ],
             [
              0.3333333333333333,
              "#9c179e"
             ],
             [
              0.4444444444444444,
              "#bd3786"
             ],
             [
              0.5555555555555556,
              "#d8576b"
             ],
             [
              0.6666666666666666,
              "#ed7953"
             ],
             [
              0.7777777777777778,
              "#fb9f3a"
             ],
             [
              0.8888888888888888,
              "#fdca26"
             ],
             [
              1,
              "#f0f921"
             ]
            ],
            "type": "histogram2dcontour"
           }
          ],
          "mesh3d": [
           {
            "colorbar": {
             "outlinewidth": 0,
             "ticks": ""
            },
            "type": "mesh3d"
           }
          ],
          "parcoords": [
           {
            "line": {
             "colorbar": {
              "outlinewidth": 0,
              "ticks": ""
             }
            },
            "type": "parcoords"
           }
          ],
          "pie": [
           {
            "automargin": true,
            "type": "pie"
           }
          ],
          "scatter": [
           {
            "fillpattern": {
             "fillmode": "overlay",
             "size": 10,
             "solidity": 0.2
            },
            "type": "scatter"
           }
          ],
          "scatter3d": [
           {
            "line": {
             "colorbar": {
              "outlinewidth": 0,
              "ticks": ""
             }
            },
            "marker": {
             "colorbar": {
              "outlinewidth": 0,
              "ticks": ""
             }
            },
            "type": "scatter3d"
           }
          ],
          "scattercarpet": [
           {
            "marker": {
             "colorbar": {
              "outlinewidth": 0,
              "ticks": ""
             }
            },
            "type": "scattercarpet"
           }
          ],
          "scattergeo": [
           {
            "marker": {
             "colorbar": {
              "outlinewidth": 0,
              "ticks": ""
             }
            },
            "type": "scattergeo"
           }
          ],
          "scattergl": [
           {
            "marker": {
             "colorbar": {
              "outlinewidth": 0,
              "ticks": ""
             }
            },
            "type": "scattergl"
           }
          ],
          "scattermapbox": [
           {
            "marker": {
             "colorbar": {
              "outlinewidth": 0,
              "ticks": ""
             }
            },
            "type": "scattermapbox"
           }
          ],
          "scatterpolar": [
           {
            "marker": {
             "colorbar": {
              "outlinewidth": 0,
              "ticks": ""
             }
            },
            "type": "scatterpolar"
           }
          ],
          "scatterpolargl": [
           {
            "marker": {
             "colorbar": {
              "outlinewidth": 0,
              "ticks": ""
             }
            },
            "type": "scatterpolargl"
           }
          ],
          "scatterternary": [
           {
            "marker": {
             "colorbar": {
              "outlinewidth": 0,
              "ticks": ""
             }
            },
            "type": "scatterternary"
           }
          ],
          "surface": [
           {
            "colorbar": {
             "outlinewidth": 0,
             "ticks": ""
            },
            "colorscale": [
             [
              0,
              "#0d0887"
             ],
             [
              0.1111111111111111,
              "#46039f"
             ],
             [
              0.2222222222222222,
              "#7201a8"
             ],
             [
              0.3333333333333333,
              "#9c179e"
             ],
             [
              0.4444444444444444,
              "#bd3786"
             ],
             [
              0.5555555555555556,
              "#d8576b"
             ],
             [
              0.6666666666666666,
              "#ed7953"
             ],
             [
              0.7777777777777778,
              "#fb9f3a"
             ],
             [
              0.8888888888888888,
              "#fdca26"
             ],
             [
              1,
              "#f0f921"
             ]
            ],
            "type": "surface"
           }
          ],
          "table": [
           {
            "cells": {
             "fill": {
              "color": "#EBF0F8"
             },
             "line": {
              "color": "white"
             }
            },
            "header": {
             "fill": {
              "color": "#C8D4E3"
             },
             "line": {
              "color": "white"
             }
            },
            "type": "table"
           }
          ]
         },
         "layout": {
          "annotationdefaults": {
           "arrowcolor": "#2a3f5f",
           "arrowhead": 0,
           "arrowwidth": 1
          },
          "autotypenumbers": "strict",
          "coloraxis": {
           "colorbar": {
            "outlinewidth": 0,
            "ticks": ""
           }
          },
          "colorscale": {
           "diverging": [
            [
             0,
             "#8e0152"
            ],
            [
             0.1,
             "#c51b7d"
            ],
            [
             0.2,
             "#de77ae"
            ],
            [
             0.3,
             "#f1b6da"
            ],
            [
             0.4,
             "#fde0ef"
            ],
            [
             0.5,
             "#f7f7f7"
            ],
            [
             0.6,
             "#e6f5d0"
            ],
            [
             0.7,
             "#b8e186"
            ],
            [
             0.8,
             "#7fbc41"
            ],
            [
             0.9,
             "#4d9221"
            ],
            [
             1,
             "#276419"
            ]
           ],
           "sequential": [
            [
             0,
             "#0d0887"
            ],
            [
             0.1111111111111111,
             "#46039f"
            ],
            [
             0.2222222222222222,
             "#7201a8"
            ],
            [
             0.3333333333333333,
             "#9c179e"
            ],
            [
             0.4444444444444444,
             "#bd3786"
            ],
            [
             0.5555555555555556,
             "#d8576b"
            ],
            [
             0.6666666666666666,
             "#ed7953"
            ],
            [
             0.7777777777777778,
             "#fb9f3a"
            ],
            [
             0.8888888888888888,
             "#fdca26"
            ],
            [
             1,
             "#f0f921"
            ]
           ],
           "sequentialminus": [
            [
             0,
             "#0d0887"
            ],
            [
             0.1111111111111111,
             "#46039f"
            ],
            [
             0.2222222222222222,
             "#7201a8"
            ],
            [
             0.3333333333333333,
             "#9c179e"
            ],
            [
             0.4444444444444444,
             "#bd3786"
            ],
            [
             0.5555555555555556,
             "#d8576b"
            ],
            [
             0.6666666666666666,
             "#ed7953"
            ],
            [
             0.7777777777777778,
             "#fb9f3a"
            ],
            [
             0.8888888888888888,
             "#fdca26"
            ],
            [
             1,
             "#f0f921"
            ]
           ]
          },
          "colorway": [
           "#636efa",
           "#EF553B",
           "#00cc96",
           "#ab63fa",
           "#FFA15A",
           "#19d3f3",
           "#FF6692",
           "#B6E880",
           "#FF97FF",
           "#FECB52"
          ],
          "font": {
           "color": "#2a3f5f"
          },
          "geo": {
           "bgcolor": "white",
           "lakecolor": "white",
           "landcolor": "#E5ECF6",
           "showlakes": true,
           "showland": true,
           "subunitcolor": "white"
          },
          "hoverlabel": {
           "align": "left"
          },
          "hovermode": "closest",
          "mapbox": {
           "style": "light"
          },
          "paper_bgcolor": "white",
          "plot_bgcolor": "#E5ECF6",
          "polar": {
           "angularaxis": {
            "gridcolor": "white",
            "linecolor": "white",
            "ticks": ""
           },
           "bgcolor": "#E5ECF6",
           "radialaxis": {
            "gridcolor": "white",
            "linecolor": "white",
            "ticks": ""
           }
          },
          "scene": {
           "xaxis": {
            "backgroundcolor": "#E5ECF6",
            "gridcolor": "white",
            "gridwidth": 2,
            "linecolor": "white",
            "showbackground": true,
            "ticks": "",
            "zerolinecolor": "white"
           },
           "yaxis": {
            "backgroundcolor": "#E5ECF6",
            "gridcolor": "white",
            "gridwidth": 2,
            "linecolor": "white",
            "showbackground": true,
            "ticks": "",
            "zerolinecolor": "white"
           },
           "zaxis": {
            "backgroundcolor": "#E5ECF6",
            "gridcolor": "white",
            "gridwidth": 2,
            "linecolor": "white",
            "showbackground": true,
            "ticks": "",
            "zerolinecolor": "white"
           }
          },
          "shapedefaults": {
           "line": {
            "color": "#2a3f5f"
           }
          },
          "ternary": {
           "aaxis": {
            "gridcolor": "white",
            "linecolor": "white",
            "ticks": ""
           },
           "baxis": {
            "gridcolor": "white",
            "linecolor": "white",
            "ticks": ""
           },
           "bgcolor": "#E5ECF6",
           "caxis": {
            "gridcolor": "white",
            "linecolor": "white",
            "ticks": ""
           }
          },
          "title": {
           "x": 0.05
          },
          "xaxis": {
           "automargin": true,
           "gridcolor": "white",
           "linecolor": "white",
           "ticks": "",
           "title": {
            "standoff": 15
           },
           "zerolinecolor": "white",
           "zerolinewidth": 2
          },
          "yaxis": {
           "automargin": true,
           "gridcolor": "white",
           "linecolor": "white",
           "ticks": "",
           "title": {
            "standoff": 15
           },
           "zerolinecolor": "white",
           "zerolinewidth": 2
          }
         }
        },
        "title": {
         "text": "Forecast Error Distribution by Lead Time (Daily Max Temp)"
        },
        "xaxis": {
         "anchor": "y",
         "domain": [
          0,
          1
         ],
         "title": {
          "text": "x"
         }
        },
        "yaxis": {
         "anchor": "x",
         "domain": [
          0,
          1
         ],
         "title": {
          "text": "error"
         }
        }
       }
      }
     },
     "metadata": {},
     "output_type": "display_data"
    },
    {
     "data": {
      "application/vnd.plotly.v1+json": {
       "config": {
        "plotlyServerURL": "https://plot.ly"
       },
       "data": [
        {
         "customdata": [
          [
           0.40433256083333335,
           "2024-12-08T15:35:44.402781-05:00",
           51.98,
           53
          ],
          [
           0.23770469194444444,
           "2024-12-08T15:45:44.263109-05:00",
           51.98,
           53
          ],
          [
           12.671887580555556,
           "2024-12-08T21:19:41.204710-05:00",
           51.08,
           44
          ],
          [
           12.21999557361111,
           "2024-12-08T21:46:48.015935-05:00",
           51.08,
           44
          ],
          [
           12.154513038055557,
           "2024-12-08T21:50:43.753063-05:00",
           51.08,
           44
          ],
          [
           12.07116575,
           "2024-12-08T21:55:43.803300-05:00",
           51.08,
           44
          ],
          [
           11.988921400277777,
           "2024-12-08T22:00:39.882959-05:00",
           51.08,
           44
          ],
          [
           11.905620835277778,
           "2024-12-08T22:05:39.764993-05:00",
           51.08,
           44
          ],
          [
           11.822229465,
           "2024-12-08T22:10:39.973926-05:00",
           51.08,
           44
          ],
          [
           11.737438610555555,
           "2024-12-08T22:15:45.221002-05:00",
           51.08,
           44
          ],
          [
           10.992861859166666,
           "2024-12-08T23:00:25.697307-05:00",
           51.08,
           44
          ],
          [
           9.99332721111111,
           "2024-12-09T00:00:24.022040-05:00",
           51.08,
           44
          ],
          [
           8.993743924444445,
           "2024-12-09T01:00:22.521872-05:00",
           51.08,
           44
          ],
          [
           7.994189452222223,
           "2024-12-09T02:00:20.917972-05:00",
           51.08,
           44
          ],
          [
           6.994142536388889,
           "2024-12-09T03:00:21.086869-05:00",
           51.08,
           44
          ],
          [
           5.989525737777778,
           "2024-12-09T04:00:37.707344-05:00",
           51.08,
           44
          ],
          [
           4.994167665000001,
           "2024-12-09T05:00:20.996406-05:00",
           51.08,
           44
          ],
          [
           3.9937900819444443,
           "2024-12-09T06:00:22.355705-05:00",
           51.08,
           46
          ],
          [
           12.694784378055555,
           "2024-12-08T21:18:18.776239-05:00",
           51.08,
           44
          ],
          [
           12.727255199444445,
           "2024-12-08T21:16:21.881282-05:00",
           51.08,
           44
          ],
          [
           12.904603061944444,
           "2024-12-08T21:05:43.428977-05:00",
           51.08,
           44
          ],
          [
           13.082991290277777,
           "2024-12-08T20:55:01.231355-05:00",
           51.08,
           44
          ],
          [
           18.404332560833335,
           "2024-12-08T15:35:44.402781-05:00",
           51.08,
           44
          ],
          [
           18.237704691944444,
           "2024-12-08T15:45:44.263109-05:00",
           51.08,
           44
          ],
          [
           17.989442071944442,
           "2024-12-08T16:00:38.008541-05:00",
           51.08,
           44
          ],
          [
           16.738026605555554,
           "2024-12-08T17:15:43.104220-05:00",
           51.08,
           44
          ],
          [
           16.654555516944445,
           "2024-12-08T17:20:43.600139-05:00",
           51.08,
           44
          ],
          [
           16.487850183888888,
           "2024-12-08T17:30:43.739338-05:00",
           51.08,
           44
          ],
          [
           16.32090226861111,
           "2024-12-08T17:40:44.751833-05:00",
           51.08,
           44
          ],
          [
           2.9941085055555554,
           "2024-12-09T07:00:21.209380-05:00",
           51.08,
           46
          ],
          [
           16.237874008888888,
           "2024-12-08T17:45:43.653568-05:00",
           51.08,
           44
          ],
          [
           15.905624260277778,
           "2024-12-08T18:05:39.752663-05:00",
           51.08,
           44
          ],
          [
           14.154542825555556,
           "2024-12-08T19:50:43.645828-05:00",
           51.08,
           44
          ],
          [
           12.571212727499999,
           "2024-12-08T21:25:43.634181-05:00",
           51.08,
           44
          ],
          [
           12.487900268611112,
           "2024-12-08T21:30:43.559033-05:00",
           51.08,
           44
          ],
          [
           13.192012053055556,
           "2024-12-08T20:48:28.756609-05:00",
           51.08,
           44
          ],
          [
           13.398578243055555,
           "2024-12-08T20:36:05.118325-05:00",
           51.08,
           44
          ],
          [
           13.122786354999999,
           "2024-12-08T20:52:37.969122-05:00",
           51.08,
           44
          ],
          [
           16.15455935388889,
           "2024-12-08T17:50:43.586326-05:00",
           51.08,
           44
          ],
          [
           0.9936836952777779,
           "2024-12-09T09:00:22.738697-05:00",
           51.08,
           46
          ]
         ],
         "hovertemplate": "date=%{x}<br>error=%{y:.2f}<br>hours_ahead=%{customdata[0]:.2f}<br>forecast_created=%{customdata[1]}<br>actual_max_temp=%{customdata[2]:.2f}<br>forecast_temp=%{customdata[3]:.2f}<extra></extra>",
         "legendgroup": "",
         "marker": {
          "color": "#636efa",
          "symbol": "circle"
         },
         "mode": "markers",
         "name": "",
         "orientation": "v",
         "showlegend": false,
         "type": "scatter",
         "x": [
          "2024-12-08",
          "2024-12-08",
          "2024-12-09",
          "2024-12-09",
          "2024-12-09",
          "2024-12-09",
          "2024-12-09",
          "2024-12-09",
          "2024-12-09",
          "2024-12-09",
          "2024-12-09",
          "2024-12-09",
          "2024-12-09",
          "2024-12-09",
          "2024-12-09",
          "2024-12-09",
          "2024-12-09",
          "2024-12-09",
          "2024-12-09",
          "2024-12-09",
          "2024-12-09",
          "2024-12-09",
          "2024-12-09",
          "2024-12-09",
          "2024-12-09",
          "2024-12-09",
          "2024-12-09",
          "2024-12-09",
          "2024-12-09",
          "2024-12-09",
          "2024-12-09",
          "2024-12-09",
          "2024-12-09",
          "2024-12-09",
          "2024-12-09",
          "2024-12-09",
          "2024-12-09",
          "2024-12-09",
          "2024-12-09",
          "2024-12-09"
         ],
         "xaxis": "x",
         "y": [
          1.0200000000000031,
          1.0200000000000031,
          -7.079999999999998,
          -7.079999999999998,
          -7.079999999999998,
          -7.079999999999998,
          -7.079999999999998,
          -7.079999999999998,
          -7.079999999999998,
          -7.079999999999998,
          -7.079999999999998,
          -7.079999999999998,
          -7.079999999999998,
          -7.079999999999998,
          -7.079999999999998,
          -7.079999999999998,
          -7.079999999999998,
          -5.079999999999998,
          -7.079999999999998,
          -7.079999999999998,
          -7.079999999999998,
          -7.079999999999998,
          -7.079999999999998,
          -7.079999999999998,
          -7.079999999999998,
          -7.079999999999998,
          -7.079999999999998,
          -7.079999999999998,
          -7.079999999999998,
          -5.079999999999998,
          -7.079999999999998,
          -7.079999999999998,
          -7.079999999999998,
          -7.079999999999998,
          -7.079999999999998,
          -7.079999999999998,
          -7.079999999999998,
          -7.079999999999998,
          -7.079999999999998,
          -5.079999999999998
         ],
         "yaxis": "y"
        }
       ],
       "layout": {
        "legend": {
         "tracegroupgap": 0
        },
        "shapes": [
         {
          "line": {
           "color": "red",
           "dash": "dash"
          },
          "type": "line",
          "x0": 0,
          "x1": 1,
          "xref": "x domain",
          "y0": 0,
          "y1": 0,
          "yref": "y"
         }
        ],
        "template": {
         "data": {
          "bar": [
           {
            "error_x": {
             "color": "#2a3f5f"
            },
            "error_y": {
             "color": "#2a3f5f"
            },
            "marker": {
             "line": {
              "color": "#E5ECF6",
              "width": 0.5
             },
             "pattern": {
              "fillmode": "overlay",
              "size": 10,
              "solidity": 0.2
             }
            },
            "type": "bar"
           }
          ],
          "barpolar": [
           {
            "marker": {
             "line": {
              "color": "#E5ECF6",
              "width": 0.5
             },
             "pattern": {
              "fillmode": "overlay",
              "size": 10,
              "solidity": 0.2
             }
            },
            "type": "barpolar"
           }
          ],
          "carpet": [
           {
            "aaxis": {
             "endlinecolor": "#2a3f5f",
             "gridcolor": "white",
             "linecolor": "white",
             "minorgridcolor": "white",
             "startlinecolor": "#2a3f5f"
            },
            "baxis": {
             "endlinecolor": "#2a3f5f",
             "gridcolor": "white",
             "linecolor": "white",
             "minorgridcolor": "white",
             "startlinecolor": "#2a3f5f"
            },
            "type": "carpet"
           }
          ],
          "choropleth": [
           {
            "colorbar": {
             "outlinewidth": 0,
             "ticks": ""
            },
            "type": "choropleth"
           }
          ],
          "contour": [
           {
            "colorbar": {
             "outlinewidth": 0,
             "ticks": ""
            },
            "colorscale": [
             [
              0,
              "#0d0887"
             ],
             [
              0.1111111111111111,
              "#46039f"
             ],
             [
              0.2222222222222222,
              "#7201a8"
             ],
             [
              0.3333333333333333,
              "#9c179e"
             ],
             [
              0.4444444444444444,
              "#bd3786"
             ],
             [
              0.5555555555555556,
              "#d8576b"
             ],
             [
              0.6666666666666666,
              "#ed7953"
             ],
             [
              0.7777777777777778,
              "#fb9f3a"
             ],
             [
              0.8888888888888888,
              "#fdca26"
             ],
             [
              1,
              "#f0f921"
             ]
            ],
            "type": "contour"
           }
          ],
          "contourcarpet": [
           {
            "colorbar": {
             "outlinewidth": 0,
             "ticks": ""
            },
            "type": "contourcarpet"
           }
          ],
          "heatmap": [
           {
            "colorbar": {
             "outlinewidth": 0,
             "ticks": ""
            },
            "colorscale": [
             [
              0,
              "#0d0887"
             ],
             [
              0.1111111111111111,
              "#46039f"
             ],
             [
              0.2222222222222222,
              "#7201a8"
             ],
             [
              0.3333333333333333,
              "#9c179e"
             ],
             [
              0.4444444444444444,
              "#bd3786"
             ],
             [
              0.5555555555555556,
              "#d8576b"
             ],
             [
              0.6666666666666666,
              "#ed7953"
             ],
             [
              0.7777777777777778,
              "#fb9f3a"
             ],
             [
              0.8888888888888888,
              "#fdca26"
             ],
             [
              1,
              "#f0f921"
             ]
            ],
            "type": "heatmap"
           }
          ],
          "heatmapgl": [
           {
            "colorbar": {
             "outlinewidth": 0,
             "ticks": ""
            },
            "colorscale": [
             [
              0,
              "#0d0887"
             ],
             [
              0.1111111111111111,
              "#46039f"
             ],
             [
              0.2222222222222222,
              "#7201a8"
             ],
             [
              0.3333333333333333,
              "#9c179e"
             ],
             [
              0.4444444444444444,
              "#bd3786"
             ],
             [
              0.5555555555555556,
              "#d8576b"
             ],
             [
              0.6666666666666666,
              "#ed7953"
             ],
             [
              0.7777777777777778,
              "#fb9f3a"
             ],
             [
              0.8888888888888888,
              "#fdca26"
             ],
             [
              1,
              "#f0f921"
             ]
            ],
            "type": "heatmapgl"
           }
          ],
          "histogram": [
           {
            "marker": {
             "pattern": {
              "fillmode": "overlay",
              "size": 10,
              "solidity": 0.2
             }
            },
            "type": "histogram"
           }
          ],
          "histogram2d": [
           {
            "colorbar": {
             "outlinewidth": 0,
             "ticks": ""
            },
            "colorscale": [
             [
              0,
              "#0d0887"
             ],
             [
              0.1111111111111111,
              "#46039f"
             ],
             [
              0.2222222222222222,
              "#7201a8"
             ],
             [
              0.3333333333333333,
              "#9c179e"
             ],
             [
              0.4444444444444444,
              "#bd3786"
             ],
             [
              0.5555555555555556,
              "#d8576b"
             ],
             [
              0.6666666666666666,
              "#ed7953"
             ],
             [
              0.7777777777777778,
              "#fb9f3a"
             ],
             [
              0.8888888888888888,
              "#fdca26"
             ],
             [
              1,
              "#f0f921"
             ]
            ],
            "type": "histogram2d"
           }
          ],
          "histogram2dcontour": [
           {
            "colorbar": {
             "outlinewidth": 0,
             "ticks": ""
            },
            "colorscale": [
             [
              0,
              "#0d0887"
             ],
             [
              0.1111111111111111,
              "#46039f"
             ],
             [
              0.2222222222222222,
              "#7201a8"
             ],
             [
              0.3333333333333333,
              "#9c179e"
             ],
             [
              0.4444444444444444,
              "#bd3786"
             ],
             [
              0.5555555555555556,
              "#d8576b"
             ],
             [
              0.6666666666666666,
              "#ed7953"
             ],
             [
              0.7777777777777778,
              "#fb9f3a"
             ],
             [
              0.8888888888888888,
              "#fdca26"
             ],
             [
              1,
              "#f0f921"
             ]
            ],
            "type": "histogram2dcontour"
           }
          ],
          "mesh3d": [
           {
            "colorbar": {
             "outlinewidth": 0,
             "ticks": ""
            },
            "type": "mesh3d"
           }
          ],
          "parcoords": [
           {
            "line": {
             "colorbar": {
              "outlinewidth": 0,
              "ticks": ""
             }
            },
            "type": "parcoords"
           }
          ],
          "pie": [
           {
            "automargin": true,
            "type": "pie"
           }
          ],
          "scatter": [
           {
            "fillpattern": {
             "fillmode": "overlay",
             "size": 10,
             "solidity": 0.2
            },
            "type": "scatter"
           }
          ],
          "scatter3d": [
           {
            "line": {
             "colorbar": {
              "outlinewidth": 0,
              "ticks": ""
             }
            },
            "marker": {
             "colorbar": {
              "outlinewidth": 0,
              "ticks": ""
             }
            },
            "type": "scatter3d"
           }
          ],
          "scattercarpet": [
           {
            "marker": {
             "colorbar": {
              "outlinewidth": 0,
              "ticks": ""
             }
            },
            "type": "scattercarpet"
           }
          ],
          "scattergeo": [
           {
            "marker": {
             "colorbar": {
              "outlinewidth": 0,
              "ticks": ""
             }
            },
            "type": "scattergeo"
           }
          ],
          "scattergl": [
           {
            "marker": {
             "colorbar": {
              "outlinewidth": 0,
              "ticks": ""
             }
            },
            "type": "scattergl"
           }
          ],
          "scattermapbox": [
           {
            "marker": {
             "colorbar": {
              "outlinewidth": 0,
              "ticks": ""
             }
            },
            "type": "scattermapbox"
           }
          ],
          "scatterpolar": [
           {
            "marker": {
             "colorbar": {
              "outlinewidth": 0,
              "ticks": ""
             }
            },
            "type": "scatterpolar"
           }
          ],
          "scatterpolargl": [
           {
            "marker": {
             "colorbar": {
              "outlinewidth": 0,
              "ticks": ""
             }
            },
            "type": "scatterpolargl"
           }
          ],
          "scatterternary": [
           {
            "marker": {
             "colorbar": {
              "outlinewidth": 0,
              "ticks": ""
             }
            },
            "type": "scatterternary"
           }
          ],
          "surface": [
           {
            "colorbar": {
             "outlinewidth": 0,
             "ticks": ""
            },
            "colorscale": [
             [
              0,
              "#0d0887"
             ],
             [
              0.1111111111111111,
              "#46039f"
             ],
             [
              0.2222222222222222,
              "#7201a8"
             ],
             [
              0.3333333333333333,
              "#9c179e"
             ],
             [
              0.4444444444444444,
              "#bd3786"
             ],
             [
              0.5555555555555556,
              "#d8576b"
             ],
             [
              0.6666666666666666,
              "#ed7953"
             ],
             [
              0.7777777777777778,
              "#fb9f3a"
             ],
             [
              0.8888888888888888,
              "#fdca26"
             ],
             [
              1,
              "#f0f921"
             ]
            ],
            "type": "surface"
           }
          ],
          "table": [
           {
            "cells": {
             "fill": {
              "color": "#EBF0F8"
             },
             "line": {
              "color": "white"
             }
            },
            "header": {
             "fill": {
              "color": "#C8D4E3"
             },
             "line": {
              "color": "white"
             }
            },
            "type": "table"
           }
          ]
         },
         "layout": {
          "annotationdefaults": {
           "arrowcolor": "#2a3f5f",
           "arrowhead": 0,
           "arrowwidth": 1
          },
          "autotypenumbers": "strict",
          "coloraxis": {
           "colorbar": {
            "outlinewidth": 0,
            "ticks": ""
           }
          },
          "colorscale": {
           "diverging": [
            [
             0,
             "#8e0152"
            ],
            [
             0.1,
             "#c51b7d"
            ],
            [
             0.2,
             "#de77ae"
            ],
            [
             0.3,
             "#f1b6da"
            ],
            [
             0.4,
             "#fde0ef"
            ],
            [
             0.5,
             "#f7f7f7"
            ],
            [
             0.6,
             "#e6f5d0"
            ],
            [
             0.7,
             "#b8e186"
            ],
            [
             0.8,
             "#7fbc41"
            ],
            [
             0.9,
             "#4d9221"
            ],
            [
             1,
             "#276419"
            ]
           ],
           "sequential": [
            [
             0,
             "#0d0887"
            ],
            [
             0.1111111111111111,
             "#46039f"
            ],
            [
             0.2222222222222222,
             "#7201a8"
            ],
            [
             0.3333333333333333,
             "#9c179e"
            ],
            [
             0.4444444444444444,
             "#bd3786"
            ],
            [
             0.5555555555555556,
             "#d8576b"
            ],
            [
             0.6666666666666666,
             "#ed7953"
            ],
            [
             0.7777777777777778,
             "#fb9f3a"
            ],
            [
             0.8888888888888888,
             "#fdca26"
            ],
            [
             1,
             "#f0f921"
            ]
           ],
           "sequentialminus": [
            [
             0,
             "#0d0887"
            ],
            [
             0.1111111111111111,
             "#46039f"
            ],
            [
             0.2222222222222222,
             "#7201a8"
            ],
            [
             0.3333333333333333,
             "#9c179e"
            ],
            [
             0.4444444444444444,
             "#bd3786"
            ],
            [
             0.5555555555555556,
             "#d8576b"
            ],
            [
             0.6666666666666666,
             "#ed7953"
            ],
            [
             0.7777777777777778,
             "#fb9f3a"
            ],
            [
             0.8888888888888888,
             "#fdca26"
            ],
            [
             1,
             "#f0f921"
            ]
           ]
          },
          "colorway": [
           "#636efa",
           "#EF553B",
           "#00cc96",
           "#ab63fa",
           "#FFA15A",
           "#19d3f3",
           "#FF6692",
           "#B6E880",
           "#FF97FF",
           "#FECB52"
          ],
          "font": {
           "color": "#2a3f5f"
          },
          "geo": {
           "bgcolor": "white",
           "lakecolor": "white",
           "landcolor": "#E5ECF6",
           "showlakes": true,
           "showland": true,
           "subunitcolor": "white"
          },
          "hoverlabel": {
           "align": "left"
          },
          "hovermode": "closest",
          "mapbox": {
           "style": "light"
          },
          "paper_bgcolor": "white",
          "plot_bgcolor": "#E5ECF6",
          "polar": {
           "angularaxis": {
            "gridcolor": "white",
            "linecolor": "white",
            "ticks": ""
           },
           "bgcolor": "#E5ECF6",
           "radialaxis": {
            "gridcolor": "white",
            "linecolor": "white",
            "ticks": ""
           }
          },
          "scene": {
           "xaxis": {
            "backgroundcolor": "#E5ECF6",
            "gridcolor": "white",
            "gridwidth": 2,
            "linecolor": "white",
            "showbackground": true,
            "ticks": "",
            "zerolinecolor": "white"
           },
           "yaxis": {
            "backgroundcolor": "#E5ECF6",
            "gridcolor": "white",
            "gridwidth": 2,
            "linecolor": "white",
            "showbackground": true,
            "ticks": "",
            "zerolinecolor": "white"
           },
           "zaxis": {
            "backgroundcolor": "#E5ECF6",
            "gridcolor": "white",
            "gridwidth": 2,
            "linecolor": "white",
            "showbackground": true,
            "ticks": "",
            "zerolinecolor": "white"
           }
          },
          "shapedefaults": {
           "line": {
            "color": "#2a3f5f"
           }
          },
          "ternary": {
           "aaxis": {
            "gridcolor": "white",
            "linecolor": "white",
            "ticks": ""
           },
           "baxis": {
            "gridcolor": "white",
            "linecolor": "white",
            "ticks": ""
           },
           "bgcolor": "#E5ECF6",
           "caxis": {
            "gridcolor": "white",
            "linecolor": "white",
            "ticks": ""
           }
          },
          "title": {
           "x": 0.05
          },
          "xaxis": {
           "automargin": true,
           "gridcolor": "white",
           "linecolor": "white",
           "ticks": "",
           "title": {
            "standoff": 15
           },
           "zerolinecolor": "white",
           "zerolinewidth": 2
          },
          "yaxis": {
           "automargin": true,
           "gridcolor": "white",
           "linecolor": "white",
           "ticks": "",
           "title": {
            "standoff": 15
           },
           "zerolinecolor": "white",
           "zerolinewidth": 2
          }
         }
        },
        "title": {
         "text": "Daily Maximum Temperature Forecast Errors Over Time"
        },
        "xaxis": {
         "anchor": "y",
         "domain": [
          0,
          1
         ],
         "title": {
          "text": "date"
         }
        },
        "yaxis": {
         "anchor": "x",
         "domain": [
          0,
          1
         ],
         "title": {
          "text": "error"
         }
        }
       }
      }
     },
     "metadata": {},
     "output_type": "display_data"
    },
    {
     "name": "stdout",
     "output_type": "stream",
     "text": [
      "\n",
      "Summary Statistics for Daily Maximum Temperature Forecasts:\n",
      "Mean Absolute Error: 6.63°F\n",
      "Median Absolute Error: 7.08°F\n",
      "Number of forecasts analyzed: 40\n",
      "Number of unique days: 2\n",
      "\n",
      "Error by Forecast Horizon:\n",
      "             mean  count\n",
      "hours_ahead             \n",
      "0.0          1.02      2\n",
      "1.0          5.08      1\n",
      "3.0          5.08      1\n",
      "4.0          5.08      1\n",
      "5.0          7.08      1\n",
      "6.0          7.08      1\n",
      "7.0          7.08      1\n",
      "8.0          7.08      1\n",
      "9.0          7.08      1\n",
      "10.0         7.08      1\n",
      "11.0         7.08      1\n",
      "12.0         7.08      8\n",
      "13.0         7.08      9\n",
      "14.0         7.08      1\n",
      "16.0         7.08      5\n",
      "17.0         7.08      2\n",
      "18.0         7.08      3\n"
     ]
    }
   ],
   "source": [
    "def analyze_daily_max_temps(df_forecasts, df_observations):\n",
    "    \"\"\"Analyze forecast accuracy for daily maximum temperatures.\"\"\"\n",
    "    \n",
    "    # First, find the actual daily max temperatures and their times\n",
    "    daily_maxes = []\n",
    "    \n",
    "    # Group observations by date\n",
    "    df_observations['date'] = df_observations['observed_time'].dt.date\n",
    "    daily_obs = df_observations.groupby('date')\n",
    "    \n",
    "    for date, day_obs in daily_obs:\n",
    "        # Find max temperature for the day\n",
    "        max_temp = day_obs['temperature'].max()\n",
    "        # Get all observations that match the max temp\n",
    "        max_temp_times = day_obs[day_obs['temperature'] == max_temp]\n",
    "        \n",
    "        if not max_temp_times.empty:\n",
    "            # Take the first occurrence of max temp for this day\n",
    "            max_record = max_temp_times.iloc[0]\n",
    "            max_hour = max_record['observed_time'].replace(minute=0, second=0, microsecond=0)\n",
    "            \n",
    "            # Find matching forecasts (those predicting this hour)\n",
    "            matching_forecasts = df_forecasts[\n",
    "                (df_forecasts['forecast_time_hour'] == max_hour)\n",
    "            ]\n",
    "            \n",
    "            if not matching_forecasts.empty:\n",
    "                # Include all forecasts for this max temp hour\n",
    "                for _, forecast in matching_forecasts.iterrows():\n",
    "                    error = forecast['temperature'] - max_temp\n",
    "                    daily_maxes.append({\n",
    "                        'date': date,\n",
    "                        'max_temp_hour': max_hour,\n",
    "                        'actual_max_temp': max_temp,\n",
    "                        'forecast_temp': forecast['temperature'],\n",
    "                        'forecast_created': forecast['created_at'],\n",
    "                        'error': error,\n",
    "                        'error_magnitude': abs(error),\n",
    "                        'hours_ahead': (max_hour - forecast['created_at']).total_seconds() / 3600\n",
    "                    })\n",
    "    \n",
    "    # Convert to DataFrame\n",
    "    df_max_analysis = pd.DataFrame(daily_maxes)\n",
    "    \n",
    "    if df_max_analysis.empty:\n",
    "        print(\"No matching data found for analysis\")\n",
    "        return None\n",
    "    \n",
    "    # Create visualizations\n",
    "    import plotly.express as px\n",
    "    import plotly.graph_objects as go\n",
    "    \n",
    "    # 1. Scatter plot of forecast vs actual max temps\n",
    "    fig1 = px.scatter(df_max_analysis,\n",
    "                     x='actual_max_temp',\n",
    "                     y='forecast_temp',\n",
    "                     hover_data={\n",
    "                         'date': True,\n",
    "                         'hours_ahead': ':.2f',\n",
    "                         'error': ':.2f',\n",
    "                         'forecast_created': True,\n",
    "                         'actual_max_temp': ':.2f',\n",
    "                         'forecast_temp': ':.2f'\n",
    "                     },\n",
    "                     title='Forecast vs Actual Daily Maximum Temperatures')\n",
    "    \n",
    "    # Add perfect forecast line\n",
    "    fig1.add_trace(go.Scatter(\n",
    "        x=[df_max_analysis['actual_max_temp'].min(),\n",
    "           df_max_analysis['actual_max_temp'].max()],\n",
    "        y=[df_max_analysis['actual_max_temp'].min(),\n",
    "           df_max_analysis['actual_max_temp'].max()],\n",
    "        mode='lines',\n",
    "        name='Perfect Forecast',\n",
    "        line=dict(dash='dash')))\n",
    "    fig1.show()\n",
    "    \n",
    "    # 2. Error distribution by hours ahead\n",
    "    fig2 = px.box(df_max_analysis,\n",
    "                  x=df_max_analysis['hours_ahead'].round(),\n",
    "                  y='error',\n",
    "                  hover_data=['date', 'forecast_created'],\n",
    "                  title='Forecast Error Distribution by Lead Time (Daily Max Temp)')\n",
    "    fig2.show()\n",
    "    \n",
    "    # 3. Time series of errors\n",
    "    fig3 = px.scatter(df_max_analysis.sort_values('date'),\n",
    "                   x='date',\n",
    "                   y='error',\n",
    "                   hover_data={\n",
    "                       'hours_ahead': ':.2f',\n",
    "                       'forecast_created': True,\n",
    "                       'actual_max_temp': ':.2f',\n",
    "                       'forecast_temp': ':.2f',\n",
    "                       'error': ':.2f'\n",
    "                   },\n",
    "                   title='Daily Maximum Temperature Forecast Errors Over Time')\n",
    "    fig3.add_hline(y=0, line_dash=\"dash\", line_color=\"red\")\n",
    "    fig3.show()\n",
    "    \n",
    "    # Print summary statistics\n",
    "    print(\"\\nSummary Statistics for Daily Maximum Temperature Forecasts:\")\n",
    "    print(f\"Mean Absolute Error: {df_max_analysis['error_magnitude'].mean():.2f}°F\")\n",
    "    print(f\"Median Absolute Error: {df_max_analysis['error_magnitude'].median():.2f}°F\")\n",
    "    print(f\"Number of forecasts analyzed: {len(df_max_analysis)}\")\n",
    "    print(f\"Number of unique days: {df_max_analysis['date'].nunique()}\")\n",
    "    \n",
    "    # Additional statistics by forecast horizon\n",
    "    print(\"\\nError by Forecast Horizon:\")\n",
    "    horizon_stats = df_max_analysis.groupby(\n",
    "        df_max_analysis['hours_ahead'].round()\n",
    "    )['error_magnitude'].agg(['mean', 'count']).round(2)\n",
    "    print(horizon_stats)\n",
    "    \n",
    "    return df_max_analysis\n",
    "\n",
    "# Run the analysis\n",
    "df_max_analysis = analyze_daily_max_temps(df_forecasts, df_observations)"
   ]
  },
  {
   "cell_type": "code",
   "execution_count": 68,
   "metadata": {},
   "outputs": [
    {
     "name": "stdout",
     "output_type": "stream",
     "text": [
      "\n",
      "Daily Maximum Temperature Analysis:\n",
      "===================================\n",
      "\n",
      "Date: 2024-12-08\n",
      "Daily High: 52.0°F at 04:00 PM EST\n",
      "Total forecasts for this hour: 2\n",
      "Accurate forecasts (±1.0°F): 0\n",
      "\n",
      "Date: 2024-12-09\n",
      "Daily High: 51.1°F at 10:00 AM EST\n",
      "Total forecasts for this hour: 38\n",
      "Accurate forecasts (±1.0°F): 0\n"
     ]
    },
    {
     "data": {
      "application/vnd.plotly.v1+json": {
       "config": {
        "plotlyServerURL": "https://plot.ly"
       },
       "data": [
        {
         "customdata": [
          [
           "2024-12-08",
           "2024-12-08T16:00:00-05:00",
           "2024-12-08T15:35:44.402781-05:00",
           0.40433256083333335,
           1.0200000000000031
          ],
          [
           "2024-12-08",
           "2024-12-08T16:00:00-05:00",
           "2024-12-08T15:45:44.263109-05:00",
           0.23770469194444444,
           1.0200000000000031
          ],
          [
           "2024-12-09",
           "2024-12-09T10:00:00-05:00",
           "2024-12-08T15:35:44.402781-05:00",
           18.404332560833335,
           -7.079999999999998
          ],
          [
           "2024-12-09",
           "2024-12-09T10:00:00-05:00",
           "2024-12-08T15:45:44.263109-05:00",
           18.237704691944444,
           -7.079999999999998
          ],
          [
           "2024-12-09",
           "2024-12-09T10:00:00-05:00",
           "2024-12-08T16:00:38.008541-05:00",
           17.989442071944442,
           -7.079999999999998
          ],
          [
           "2024-12-09",
           "2024-12-09T10:00:00-05:00",
           "2024-12-08T17:15:43.104220-05:00",
           16.738026605555554,
           -7.079999999999998
          ],
          [
           "2024-12-09",
           "2024-12-09T10:00:00-05:00",
           "2024-12-08T17:20:43.600139-05:00",
           16.654555516944445,
           -7.079999999999998
          ],
          [
           "2024-12-09",
           "2024-12-09T10:00:00-05:00",
           "2024-12-08T17:30:43.739338-05:00",
           16.487850183888888,
           -7.079999999999998
          ],
          [
           "2024-12-09",
           "2024-12-09T10:00:00-05:00",
           "2024-12-08T17:40:44.751833-05:00",
           16.32090226861111,
           -7.079999999999998
          ],
          [
           "2024-12-09",
           "2024-12-09T10:00:00-05:00",
           "2024-12-08T17:45:43.653568-05:00",
           16.237874008888888,
           -7.079999999999998
          ],
          [
           "2024-12-09",
           "2024-12-09T10:00:00-05:00",
           "2024-12-08T17:50:43.586326-05:00",
           16.15455935388889,
           -7.079999999999998
          ],
          [
           "2024-12-09",
           "2024-12-09T10:00:00-05:00",
           "2024-12-08T18:05:39.752663-05:00",
           15.905624260277778,
           -7.079999999999998
          ],
          [
           "2024-12-09",
           "2024-12-09T10:00:00-05:00",
           "2024-12-08T19:50:43.645828-05:00",
           14.154542825555556,
           -7.079999999999998
          ],
          [
           "2024-12-09",
           "2024-12-09T10:00:00-05:00",
           "2024-12-08T21:25:43.634181-05:00",
           12.571212727499999,
           -7.079999999999998
          ],
          [
           "2024-12-09",
           "2024-12-09T10:00:00-05:00",
           "2024-12-08T21:30:43.559033-05:00",
           12.487900268611112,
           -7.079999999999998
          ],
          [
           "2024-12-09",
           "2024-12-09T10:00:00-05:00",
           "2024-12-08T20:48:28.756609-05:00",
           13.192012053055556,
           -7.079999999999998
          ],
          [
           "2024-12-09",
           "2024-12-09T10:00:00-05:00",
           "2024-12-08T20:36:05.118325-05:00",
           13.398578243055555,
           -7.079999999999998
          ],
          [
           "2024-12-09",
           "2024-12-09T10:00:00-05:00",
           "2024-12-08T20:52:37.969122-05:00",
           13.122786354999999,
           -7.079999999999998
          ],
          [
           "2024-12-09",
           "2024-12-09T10:00:00-05:00",
           "2024-12-08T20:55:01.231355-05:00",
           13.082991290277777,
           -7.079999999999998
          ],
          [
           "2024-12-09",
           "2024-12-09T10:00:00-05:00",
           "2024-12-08T21:05:43.428977-05:00",
           12.904603061944444,
           -7.079999999999998
          ],
          [
           "2024-12-09",
           "2024-12-09T10:00:00-05:00",
           "2024-12-08T21:16:21.881282-05:00",
           12.727255199444445,
           -7.079999999999998
          ],
          [
           "2024-12-09",
           "2024-12-09T10:00:00-05:00",
           "2024-12-08T21:18:18.776239-05:00",
           12.694784378055555,
           -7.079999999999998
          ],
          [
           "2024-12-09",
           "2024-12-09T10:00:00-05:00",
           "2024-12-08T21:19:41.204710-05:00",
           12.671887580555556,
           -7.079999999999998
          ],
          [
           "2024-12-09",
           "2024-12-09T10:00:00-05:00",
           "2024-12-08T21:46:48.015935-05:00",
           12.21999557361111,
           -7.079999999999998
          ],
          [
           "2024-12-09",
           "2024-12-09T10:00:00-05:00",
           "2024-12-08T21:50:43.753063-05:00",
           12.154513038055557,
           -7.079999999999998
          ],
          [
           "2024-12-09",
           "2024-12-09T10:00:00-05:00",
           "2024-12-08T21:55:43.803300-05:00",
           12.07116575,
           -7.079999999999998
          ],
          [
           "2024-12-09",
           "2024-12-09T10:00:00-05:00",
           "2024-12-08T22:00:39.882959-05:00",
           11.988921400277777,
           -7.079999999999998
          ],
          [
           "2024-12-09",
           "2024-12-09T10:00:00-05:00",
           "2024-12-08T22:05:39.764993-05:00",
           11.905620835277778,
           -7.079999999999998
          ],
          [
           "2024-12-09",
           "2024-12-09T10:00:00-05:00",
           "2024-12-08T22:10:39.973926-05:00",
           11.822229465,
           -7.079999999999998
          ],
          [
           "2024-12-09",
           "2024-12-09T10:00:00-05:00",
           "2024-12-08T22:15:45.221002-05:00",
           11.737438610555555,
           -7.079999999999998
          ],
          [
           "2024-12-09",
           "2024-12-09T10:00:00-05:00",
           "2024-12-08T23:00:25.697307-05:00",
           10.992861859166666,
           -7.079999999999998
          ],
          [
           "2024-12-09",
           "2024-12-09T10:00:00-05:00",
           "2024-12-09T00:00:24.022040-05:00",
           9.99332721111111,
           -7.079999999999998
          ],
          [
           "2024-12-09",
           "2024-12-09T10:00:00-05:00",
           "2024-12-09T01:00:22.521872-05:00",
           8.993743924444445,
           -7.079999999999998
          ],
          [
           "2024-12-09",
           "2024-12-09T10:00:00-05:00",
           "2024-12-09T02:00:20.917972-05:00",
           7.994189452222223,
           -7.079999999999998
          ],
          [
           "2024-12-09",
           "2024-12-09T10:00:00-05:00",
           "2024-12-09T03:00:21.086869-05:00",
           6.994142536388889,
           -7.079999999999998
          ],
          [
           "2024-12-09",
           "2024-12-09T10:00:00-05:00",
           "2024-12-09T04:00:37.707344-05:00",
           5.989525737777778,
           -7.079999999999998
          ],
          [
           "2024-12-09",
           "2024-12-09T10:00:00-05:00",
           "2024-12-09T05:00:20.996406-05:00",
           4.994167665000001,
           -7.079999999999998
          ],
          [
           "2024-12-09",
           "2024-12-09T10:00:00-05:00",
           "2024-12-09T06:00:22.355705-05:00",
           3.9937900819444443,
           -5.079999999999998
          ],
          [
           "2024-12-09",
           "2024-12-09T10:00:00-05:00",
           "2024-12-09T07:00:21.209380-05:00",
           2.9941085055555554,
           -5.079999999999998
          ],
          [
           "2024-12-09",
           "2024-12-09T10:00:00-05:00",
           "2024-12-09T09:00:22.738697-05:00",
           0.9936836952777779,
           -5.079999999999998
          ]
         ],
         "hovertemplate": "is_accurate=False<br>high_temp=%{x}<br>forecast_temp=%{y}<br>date=%{customdata[0]}<br>high_temp_time=%{customdata[1]}<br>forecast_created=%{customdata[2]}<br>hours_ahead=%{customdata[3]:.1f}<br>error=%{customdata[4]:.1f}<extra></extra>",
         "legendgroup": "False",
         "marker": {
          "color": "#636efa",
          "symbol": "circle"
         },
         "mode": "markers",
         "name": "False",
         "orientation": "v",
         "showlegend": true,
         "type": "scatter",
         "x": [
          51.98,
          51.98,
          51.08,
          51.08,
          51.08,
          51.08,
          51.08,
          51.08,
          51.08,
          51.08,
          51.08,
          51.08,
          51.08,
          51.08,
          51.08,
          51.08,
          51.08,
          51.08,
          51.08,
          51.08,
          51.08,
          51.08,
          51.08,
          51.08,
          51.08,
          51.08,
          51.08,
          51.08,
          51.08,
          51.08,
          51.08,
          51.08,
          51.08,
          51.08,
          51.08,
          51.08,
          51.08,
          51.08,
          51.08,
          51.08
         ],
         "xaxis": "x",
         "y": [
          53,
          53,
          44,
          44,
          44,
          44,
          44,
          44,
          44,
          44,
          44,
          44,
          44,
          44,
          44,
          44,
          44,
          44,
          44,
          44,
          44,
          44,
          44,
          44,
          44,
          44,
          44,
          44,
          44,
          44,
          44,
          44,
          44,
          44,
          44,
          44,
          44,
          46,
          46,
          46
         ],
         "yaxis": "y"
        },
        {
         "line": {
          "color": "black",
          "dash": "dash"
         },
         "mode": "lines",
         "name": "Perfect Forecast",
         "type": "scatter",
         "x": [
          46.08,
          46.19010101010101,
          46.30020202020202,
          46.41030303030303,
          46.52040404040404,
          46.63050505050505,
          46.74060606060606,
          46.85070707070707,
          46.96080808080808,
          47.07090909090909,
          47.1810101010101,
          47.29111111111111,
          47.40121212121212,
          47.51131313131313,
          47.62141414141414,
          47.73151515151515,
          47.84161616161616,
          47.95171717171717,
          48.06181818181818,
          48.17191919191919,
          48.2820202020202,
          48.39212121212121,
          48.50222222222222,
          48.61232323232323,
          48.72242424242424,
          48.83252525252525,
          48.94262626262626,
          49.05272727272727,
          49.16282828282828,
          49.27292929292929,
          49.3830303030303,
          49.493131313131315,
          49.60323232323232,
          49.71333333333333,
          49.82343434343434,
          49.93353535353535,
          50.04363636363636,
          50.15373737373737,
          50.26383838383838,
          50.373939393939395,
          50.4840404040404,
          50.59414141414141,
          50.70424242424242,
          50.814343434343435,
          50.92444444444444,
          51.03454545454545,
          51.14464646464646,
          51.254747474747475,
          51.36484848484848,
          51.47494949494949,
          51.5850505050505,
          51.695151515151515,
          51.80525252525252,
          51.91535353535353,
          52.025454545454544,
          52.135555555555555,
          52.24565656565656,
          52.35575757575757,
          52.465858585858584,
          52.575959595959596,
          52.68606060606061,
          52.79616161616161,
          52.906262626262624,
          53.016363636363636,
          53.12646464646464,
          53.23656565656565,
          53.346666666666664,
          53.456767676767676,
          53.56686868686869,
          53.67696969696969,
          53.787070707070704,
          53.897171717171716,
          54.00727272727272,
          54.11737373737373,
          54.227474747474744,
          54.337575757575756,
          54.44767676767677,
          54.55777777777777,
          54.667878787878784,
          54.777979797979796,
          54.8880808080808,
          54.99818181818182,
          55.108282828282825,
          55.218383838383836,
          55.32848484848485,
          55.43858585858585,
          55.548686868686865,
          55.65878787878788,
          55.76888888888889,
          55.8789898989899,
          55.989090909090905,
          56.09919191919192,
          56.20929292929293,
          56.31939393939393,
          56.429494949494945,
          56.53959595959596,
          56.64969696969697,
          56.75979797979798,
          56.869898989898985,
          56.98
         ],
         "y": [
          46.08,
          46.19010101010101,
          46.30020202020202,
          46.41030303030303,
          46.52040404040404,
          46.63050505050505,
          46.74060606060606,
          46.85070707070707,
          46.96080808080808,
          47.07090909090909,
          47.1810101010101,
          47.29111111111111,
          47.40121212121212,
          47.51131313131313,
          47.62141414141414,
          47.73151515151515,
          47.84161616161616,
          47.95171717171717,
          48.06181818181818,
          48.17191919191919,
          48.2820202020202,
          48.39212121212121,
          48.50222222222222,
          48.61232323232323,
          48.72242424242424,
          48.83252525252525,
          48.94262626262626,
          49.05272727272727,
          49.16282828282828,
          49.27292929292929,
          49.3830303030303,
          49.493131313131315,
          49.60323232323232,
          49.71333333333333,
          49.82343434343434,
          49.93353535353535,
          50.04363636363636,
          50.15373737373737,
          50.26383838383838,
          50.373939393939395,
          50.4840404040404,
          50.59414141414141,
          50.70424242424242,
          50.814343434343435,
          50.92444444444444,
          51.03454545454545,
          51.14464646464646,
          51.254747474747475,
          51.36484848484848,
          51.47494949494949,
          51.5850505050505,
          51.695151515151515,
          51.80525252525252,
          51.91535353535353,
          52.025454545454544,
          52.135555555555555,
          52.24565656565656,
          52.35575757575757,
          52.465858585858584,
          52.575959595959596,
          52.68606060606061,
          52.79616161616161,
          52.906262626262624,
          53.016363636363636,
          53.12646464646464,
          53.23656565656565,
          53.346666666666664,
          53.456767676767676,
          53.56686868686869,
          53.67696969696969,
          53.787070707070704,
          53.897171717171716,
          54.00727272727272,
          54.11737373737373,
          54.227474747474744,
          54.337575757575756,
          54.44767676767677,
          54.55777777777777,
          54.667878787878784,
          54.777979797979796,
          54.8880808080808,
          54.99818181818182,
          55.108282828282825,
          55.218383838383836,
          55.32848484848485,
          55.43858585858585,
          55.548686868686865,
          55.65878787878788,
          55.76888888888889,
          55.8789898989899,
          55.989090909090905,
          56.09919191919192,
          56.20929292929293,
          56.31939393939393,
          56.429494949494945,
          56.53959595959596,
          56.64969696969697,
          56.75979797979798,
          56.869898989898985,
          56.98
         ]
        },
        {
         "line": {
          "color": "gray",
          "dash": "dot"
         },
         "mode": "lines",
         "name": "+1.0°F Margin",
         "type": "scatter",
         "x": [
          46.08,
          46.19010101010101,
          46.30020202020202,
          46.41030303030303,
          46.52040404040404,
          46.63050505050505,
          46.74060606060606,
          46.85070707070707,
          46.96080808080808,
          47.07090909090909,
          47.1810101010101,
          47.29111111111111,
          47.40121212121212,
          47.51131313131313,
          47.62141414141414,
          47.73151515151515,
          47.84161616161616,
          47.95171717171717,
          48.06181818181818,
          48.17191919191919,
          48.2820202020202,
          48.39212121212121,
          48.50222222222222,
          48.61232323232323,
          48.72242424242424,
          48.83252525252525,
          48.94262626262626,
          49.05272727272727,
          49.16282828282828,
          49.27292929292929,
          49.3830303030303,
          49.493131313131315,
          49.60323232323232,
          49.71333333333333,
          49.82343434343434,
          49.93353535353535,
          50.04363636363636,
          50.15373737373737,
          50.26383838383838,
          50.373939393939395,
          50.4840404040404,
          50.59414141414141,
          50.70424242424242,
          50.814343434343435,
          50.92444444444444,
          51.03454545454545,
          51.14464646464646,
          51.254747474747475,
          51.36484848484848,
          51.47494949494949,
          51.5850505050505,
          51.695151515151515,
          51.80525252525252,
          51.91535353535353,
          52.025454545454544,
          52.135555555555555,
          52.24565656565656,
          52.35575757575757,
          52.465858585858584,
          52.575959595959596,
          52.68606060606061,
          52.79616161616161,
          52.906262626262624,
          53.016363636363636,
          53.12646464646464,
          53.23656565656565,
          53.346666666666664,
          53.456767676767676,
          53.56686868686869,
          53.67696969696969,
          53.787070707070704,
          53.897171717171716,
          54.00727272727272,
          54.11737373737373,
          54.227474747474744,
          54.337575757575756,
          54.44767676767677,
          54.55777777777777,
          54.667878787878784,
          54.777979797979796,
          54.8880808080808,
          54.99818181818182,
          55.108282828282825,
          55.218383838383836,
          55.32848484848485,
          55.43858585858585,
          55.548686868686865,
          55.65878787878788,
          55.76888888888889,
          55.8789898989899,
          55.989090909090905,
          56.09919191919192,
          56.20929292929293,
          56.31939393939393,
          56.429494949494945,
          56.53959595959596,
          56.64969696969697,
          56.75979797979798,
          56.869898989898985,
          56.98
         ],
         "y": [
          47.08,
          47.19010101010101,
          47.30020202020202,
          47.41030303030303,
          47.52040404040404,
          47.63050505050505,
          47.74060606060606,
          47.85070707070707,
          47.96080808080808,
          48.07090909090909,
          48.1810101010101,
          48.29111111111111,
          48.40121212121212,
          48.51131313131313,
          48.62141414141414,
          48.73151515151515,
          48.84161616161616,
          48.95171717171717,
          49.06181818181818,
          49.17191919191919,
          49.2820202020202,
          49.39212121212121,
          49.50222222222222,
          49.61232323232323,
          49.72242424242424,
          49.83252525252525,
          49.94262626262626,
          50.05272727272727,
          50.16282828282828,
          50.27292929292929,
          50.3830303030303,
          50.493131313131315,
          50.60323232323232,
          50.71333333333333,
          50.82343434343434,
          50.93353535353535,
          51.04363636363636,
          51.15373737373737,
          51.26383838383838,
          51.373939393939395,
          51.4840404040404,
          51.59414141414141,
          51.70424242424242,
          51.814343434343435,
          51.92444444444444,
          52.03454545454545,
          52.14464646464646,
          52.254747474747475,
          52.36484848484848,
          52.47494949494949,
          52.5850505050505,
          52.695151515151515,
          52.80525252525252,
          52.91535353535353,
          53.025454545454544,
          53.135555555555555,
          53.24565656565656,
          53.35575757575757,
          53.465858585858584,
          53.575959595959596,
          53.68606060606061,
          53.79616161616161,
          53.906262626262624,
          54.016363636363636,
          54.12646464646464,
          54.23656565656565,
          54.346666666666664,
          54.456767676767676,
          54.56686868686869,
          54.67696969696969,
          54.787070707070704,
          54.897171717171716,
          55.00727272727272,
          55.11737373737373,
          55.227474747474744,
          55.337575757575756,
          55.44767676767677,
          55.55777777777777,
          55.667878787878784,
          55.777979797979796,
          55.8880808080808,
          55.99818181818182,
          56.108282828282825,
          56.218383838383836,
          56.32848484848485,
          56.43858585858585,
          56.548686868686865,
          56.65878787878788,
          56.76888888888889,
          56.8789898989899,
          56.989090909090905,
          57.09919191919192,
          57.20929292929293,
          57.31939393939393,
          57.429494949494945,
          57.53959595959596,
          57.64969696969697,
          57.75979797979798,
          57.869898989898985,
          57.98
         ]
        },
        {
         "line": {
          "color": "gray",
          "dash": "dot"
         },
         "mode": "lines",
         "name": "-1.0°F Margin",
         "type": "scatter",
         "x": [
          46.08,
          46.19010101010101,
          46.30020202020202,
          46.41030303030303,
          46.52040404040404,
          46.63050505050505,
          46.74060606060606,
          46.85070707070707,
          46.96080808080808,
          47.07090909090909,
          47.1810101010101,
          47.29111111111111,
          47.40121212121212,
          47.51131313131313,
          47.62141414141414,
          47.73151515151515,
          47.84161616161616,
          47.95171717171717,
          48.06181818181818,
          48.17191919191919,
          48.2820202020202,
          48.39212121212121,
          48.50222222222222,
          48.61232323232323,
          48.72242424242424,
          48.83252525252525,
          48.94262626262626,
          49.05272727272727,
          49.16282828282828,
          49.27292929292929,
          49.3830303030303,
          49.493131313131315,
          49.60323232323232,
          49.71333333333333,
          49.82343434343434,
          49.93353535353535,
          50.04363636363636,
          50.15373737373737,
          50.26383838383838,
          50.373939393939395,
          50.4840404040404,
          50.59414141414141,
          50.70424242424242,
          50.814343434343435,
          50.92444444444444,
          51.03454545454545,
          51.14464646464646,
          51.254747474747475,
          51.36484848484848,
          51.47494949494949,
          51.5850505050505,
          51.695151515151515,
          51.80525252525252,
          51.91535353535353,
          52.025454545454544,
          52.135555555555555,
          52.24565656565656,
          52.35575757575757,
          52.465858585858584,
          52.575959595959596,
          52.68606060606061,
          52.79616161616161,
          52.906262626262624,
          53.016363636363636,
          53.12646464646464,
          53.23656565656565,
          53.346666666666664,
          53.456767676767676,
          53.56686868686869,
          53.67696969696969,
          53.787070707070704,
          53.897171717171716,
          54.00727272727272,
          54.11737373737373,
          54.227474747474744,
          54.337575757575756,
          54.44767676767677,
          54.55777777777777,
          54.667878787878784,
          54.777979797979796,
          54.8880808080808,
          54.99818181818182,
          55.108282828282825,
          55.218383838383836,
          55.32848484848485,
          55.43858585858585,
          55.548686868686865,
          55.65878787878788,
          55.76888888888889,
          55.8789898989899,
          55.989090909090905,
          56.09919191919192,
          56.20929292929293,
          56.31939393939393,
          56.429494949494945,
          56.53959595959596,
          56.64969696969697,
          56.75979797979798,
          56.869898989898985,
          56.98
         ],
         "y": [
          45.08,
          45.19010101010101,
          45.30020202020202,
          45.41030303030303,
          45.52040404040404,
          45.63050505050505,
          45.74060606060606,
          45.85070707070707,
          45.96080808080808,
          46.07090909090909,
          46.1810101010101,
          46.29111111111111,
          46.40121212121212,
          46.51131313131313,
          46.62141414141414,
          46.73151515151515,
          46.84161616161616,
          46.95171717171717,
          47.06181818181818,
          47.17191919191919,
          47.2820202020202,
          47.39212121212121,
          47.50222222222222,
          47.61232323232323,
          47.72242424242424,
          47.83252525252525,
          47.94262626262626,
          48.05272727272727,
          48.16282828282828,
          48.27292929292929,
          48.3830303030303,
          48.493131313131315,
          48.60323232323232,
          48.71333333333333,
          48.82343434343434,
          48.93353535353535,
          49.04363636363636,
          49.15373737373737,
          49.26383838383838,
          49.373939393939395,
          49.4840404040404,
          49.59414141414141,
          49.70424242424242,
          49.814343434343435,
          49.92444444444444,
          50.03454545454545,
          50.14464646464646,
          50.254747474747475,
          50.36484848484848,
          50.47494949494949,
          50.5850505050505,
          50.695151515151515,
          50.80525252525252,
          50.91535353535353,
          51.025454545454544,
          51.135555555555555,
          51.24565656565656,
          51.35575757575757,
          51.465858585858584,
          51.575959595959596,
          51.68606060606061,
          51.79616161616161,
          51.906262626262624,
          52.016363636363636,
          52.12646464646464,
          52.23656565656565,
          52.346666666666664,
          52.456767676767676,
          52.56686868686869,
          52.67696969696969,
          52.787070707070704,
          52.897171717171716,
          53.00727272727272,
          53.11737373737373,
          53.227474747474744,
          53.337575757575756,
          53.44767676767677,
          53.55777777777777,
          53.667878787878784,
          53.777979797979796,
          53.8880808080808,
          53.99818181818182,
          54.108282828282825,
          54.218383838383836,
          54.32848484848485,
          54.43858585858585,
          54.548686868686865,
          54.65878787878788,
          54.76888888888889,
          54.8789898989899,
          54.989090909090905,
          55.09919191919192,
          55.20929292929293,
          55.31939393939393,
          55.429494949494945,
          55.53959595959596,
          55.64969696969697,
          55.75979797979798,
          55.869898989898985,
          55.98
         ]
        }
       ],
       "layout": {
        "legend": {
         "title": {
          "text": "is_accurate"
         },
         "tracegroupgap": 0
        },
        "template": {
         "data": {
          "bar": [
           {
            "error_x": {
             "color": "#2a3f5f"
            },
            "error_y": {
             "color": "#2a3f5f"
            },
            "marker": {
             "line": {
              "color": "#E5ECF6",
              "width": 0.5
             },
             "pattern": {
              "fillmode": "overlay",
              "size": 10,
              "solidity": 0.2
             }
            },
            "type": "bar"
           }
          ],
          "barpolar": [
           {
            "marker": {
             "line": {
              "color": "#E5ECF6",
              "width": 0.5
             },
             "pattern": {
              "fillmode": "overlay",
              "size": 10,
              "solidity": 0.2
             }
            },
            "type": "barpolar"
           }
          ],
          "carpet": [
           {
            "aaxis": {
             "endlinecolor": "#2a3f5f",
             "gridcolor": "white",
             "linecolor": "white",
             "minorgridcolor": "white",
             "startlinecolor": "#2a3f5f"
            },
            "baxis": {
             "endlinecolor": "#2a3f5f",
             "gridcolor": "white",
             "linecolor": "white",
             "minorgridcolor": "white",
             "startlinecolor": "#2a3f5f"
            },
            "type": "carpet"
           }
          ],
          "choropleth": [
           {
            "colorbar": {
             "outlinewidth": 0,
             "ticks": ""
            },
            "type": "choropleth"
           }
          ],
          "contour": [
           {
            "colorbar": {
             "outlinewidth": 0,
             "ticks": ""
            },
            "colorscale": [
             [
              0,
              "#0d0887"
             ],
             [
              0.1111111111111111,
              "#46039f"
             ],
             [
              0.2222222222222222,
              "#7201a8"
             ],
             [
              0.3333333333333333,
              "#9c179e"
             ],
             [
              0.4444444444444444,
              "#bd3786"
             ],
             [
              0.5555555555555556,
              "#d8576b"
             ],
             [
              0.6666666666666666,
              "#ed7953"
             ],
             [
              0.7777777777777778,
              "#fb9f3a"
             ],
             [
              0.8888888888888888,
              "#fdca26"
             ],
             [
              1,
              "#f0f921"
             ]
            ],
            "type": "contour"
           }
          ],
          "contourcarpet": [
           {
            "colorbar": {
             "outlinewidth": 0,
             "ticks": ""
            },
            "type": "contourcarpet"
           }
          ],
          "heatmap": [
           {
            "colorbar": {
             "outlinewidth": 0,
             "ticks": ""
            },
            "colorscale": [
             [
              0,
              "#0d0887"
             ],
             [
              0.1111111111111111,
              "#46039f"
             ],
             [
              0.2222222222222222,
              "#7201a8"
             ],
             [
              0.3333333333333333,
              "#9c179e"
             ],
             [
              0.4444444444444444,
              "#bd3786"
             ],
             [
              0.5555555555555556,
              "#d8576b"
             ],
             [
              0.6666666666666666,
              "#ed7953"
             ],
             [
              0.7777777777777778,
              "#fb9f3a"
             ],
             [
              0.8888888888888888,
              "#fdca26"
             ],
             [
              1,
              "#f0f921"
             ]
            ],
            "type": "heatmap"
           }
          ],
          "heatmapgl": [
           {
            "colorbar": {
             "outlinewidth": 0,
             "ticks": ""
            },
            "colorscale": [
             [
              0,
              "#0d0887"
             ],
             [
              0.1111111111111111,
              "#46039f"
             ],
             [
              0.2222222222222222,
              "#7201a8"
             ],
             [
              0.3333333333333333,
              "#9c179e"
             ],
             [
              0.4444444444444444,
              "#bd3786"
             ],
             [
              0.5555555555555556,
              "#d8576b"
             ],
             [
              0.6666666666666666,
              "#ed7953"
             ],
             [
              0.7777777777777778,
              "#fb9f3a"
             ],
             [
              0.8888888888888888,
              "#fdca26"
             ],
             [
              1,
              "#f0f921"
             ]
            ],
            "type": "heatmapgl"
           }
          ],
          "histogram": [
           {
            "marker": {
             "pattern": {
              "fillmode": "overlay",
              "size": 10,
              "solidity": 0.2
             }
            },
            "type": "histogram"
           }
          ],
          "histogram2d": [
           {
            "colorbar": {
             "outlinewidth": 0,
             "ticks": ""
            },
            "colorscale": [
             [
              0,
              "#0d0887"
             ],
             [
              0.1111111111111111,
              "#46039f"
             ],
             [
              0.2222222222222222,
              "#7201a8"
             ],
             [
              0.3333333333333333,
              "#9c179e"
             ],
             [
              0.4444444444444444,
              "#bd3786"
             ],
             [
              0.5555555555555556,
              "#d8576b"
             ],
             [
              0.6666666666666666,
              "#ed7953"
             ],
             [
              0.7777777777777778,
              "#fb9f3a"
             ],
             [
              0.8888888888888888,
              "#fdca26"
             ],
             [
              1,
              "#f0f921"
             ]
            ],
            "type": "histogram2d"
           }
          ],
          "histogram2dcontour": [
           {
            "colorbar": {
             "outlinewidth": 0,
             "ticks": ""
            },
            "colorscale": [
             [
              0,
              "#0d0887"
             ],
             [
              0.1111111111111111,
              "#46039f"
             ],
             [
              0.2222222222222222,
              "#7201a8"
             ],
             [
              0.3333333333333333,
              "#9c179e"
             ],
             [
              0.4444444444444444,
              "#bd3786"
             ],
             [
              0.5555555555555556,
              "#d8576b"
             ],
             [
              0.6666666666666666,
              "#ed7953"
             ],
             [
              0.7777777777777778,
              "#fb9f3a"
             ],
             [
              0.8888888888888888,
              "#fdca26"
             ],
             [
              1,
              "#f0f921"
             ]
            ],
            "type": "histogram2dcontour"
           }
          ],
          "mesh3d": [
           {
            "colorbar": {
             "outlinewidth": 0,
             "ticks": ""
            },
            "type": "mesh3d"
           }
          ],
          "parcoords": [
           {
            "line": {
             "colorbar": {
              "outlinewidth": 0,
              "ticks": ""
             }
            },
            "type": "parcoords"
           }
          ],
          "pie": [
           {
            "automargin": true,
            "type": "pie"
           }
          ],
          "scatter": [
           {
            "fillpattern": {
             "fillmode": "overlay",
             "size": 10,
             "solidity": 0.2
            },
            "type": "scatter"
           }
          ],
          "scatter3d": [
           {
            "line": {
             "colorbar": {
              "outlinewidth": 0,
              "ticks": ""
             }
            },
            "marker": {
             "colorbar": {
              "outlinewidth": 0,
              "ticks": ""
             }
            },
            "type": "scatter3d"
           }
          ],
          "scattercarpet": [
           {
            "marker": {
             "colorbar": {
              "outlinewidth": 0,
              "ticks": ""
             }
            },
            "type": "scattercarpet"
           }
          ],
          "scattergeo": [
           {
            "marker": {
             "colorbar": {
              "outlinewidth": 0,
              "ticks": ""
             }
            },
            "type": "scattergeo"
           }
          ],
          "scattergl": [
           {
            "marker": {
             "colorbar": {
              "outlinewidth": 0,
              "ticks": ""
             }
            },
            "type": "scattergl"
           }
          ],
          "scattermapbox": [
           {
            "marker": {
             "colorbar": {
              "outlinewidth": 0,
              "ticks": ""
             }
            },
            "type": "scattermapbox"
           }
          ],
          "scatterpolar": [
           {
            "marker": {
             "colorbar": {
              "outlinewidth": 0,
              "ticks": ""
             }
            },
            "type": "scatterpolar"
           }
          ],
          "scatterpolargl": [
           {
            "marker": {
             "colorbar": {
              "outlinewidth": 0,
              "ticks": ""
             }
            },
            "type": "scatterpolargl"
           }
          ],
          "scatterternary": [
           {
            "marker": {
             "colorbar": {
              "outlinewidth": 0,
              "ticks": ""
             }
            },
            "type": "scatterternary"
           }
          ],
          "surface": [
           {
            "colorbar": {
             "outlinewidth": 0,
             "ticks": ""
            },
            "colorscale": [
             [
              0,
              "#0d0887"
             ],
             [
              0.1111111111111111,
              "#46039f"
             ],
             [
              0.2222222222222222,
              "#7201a8"
             ],
             [
              0.3333333333333333,
              "#9c179e"
             ],
             [
              0.4444444444444444,
              "#bd3786"
             ],
             [
              0.5555555555555556,
              "#d8576b"
             ],
             [
              0.6666666666666666,
              "#ed7953"
             ],
             [
              0.7777777777777778,
              "#fb9f3a"
             ],
             [
              0.8888888888888888,
              "#fdca26"
             ],
             [
              1,
              "#f0f921"
             ]
            ],
            "type": "surface"
           }
          ],
          "table": [
           {
            "cells": {
             "fill": {
              "color": "#EBF0F8"
             },
             "line": {
              "color": "white"
             }
            },
            "header": {
             "fill": {
              "color": "#C8D4E3"
             },
             "line": {
              "color": "white"
             }
            },
            "type": "table"
           }
          ]
         },
         "layout": {
          "annotationdefaults": {
           "arrowcolor": "#2a3f5f",
           "arrowhead": 0,
           "arrowwidth": 1
          },
          "autotypenumbers": "strict",
          "coloraxis": {
           "colorbar": {
            "outlinewidth": 0,
            "ticks": ""
           }
          },
          "colorscale": {
           "diverging": [
            [
             0,
             "#8e0152"
            ],
            [
             0.1,
             "#c51b7d"
            ],
            [
             0.2,
             "#de77ae"
            ],
            [
             0.3,
             "#f1b6da"
            ],
            [
             0.4,
             "#fde0ef"
            ],
            [
             0.5,
             "#f7f7f7"
            ],
            [
             0.6,
             "#e6f5d0"
            ],
            [
             0.7,
             "#b8e186"
            ],
            [
             0.8,
             "#7fbc41"
            ],
            [
             0.9,
             "#4d9221"
            ],
            [
             1,
             "#276419"
            ]
           ],
           "sequential": [
            [
             0,
             "#0d0887"
            ],
            [
             0.1111111111111111,
             "#46039f"
            ],
            [
             0.2222222222222222,
             "#7201a8"
            ],
            [
             0.3333333333333333,
             "#9c179e"
            ],
            [
             0.4444444444444444,
             "#bd3786"
            ],
            [
             0.5555555555555556,
             "#d8576b"
            ],
            [
             0.6666666666666666,
             "#ed7953"
            ],
            [
             0.7777777777777778,
             "#fb9f3a"
            ],
            [
             0.8888888888888888,
             "#fdca26"
            ],
            [
             1,
             "#f0f921"
            ]
           ],
           "sequentialminus": [
            [
             0,
             "#0d0887"
            ],
            [
             0.1111111111111111,
             "#46039f"
            ],
            [
             0.2222222222222222,
             "#7201a8"
            ],
            [
             0.3333333333333333,
             "#9c179e"
            ],
            [
             0.4444444444444444,
             "#bd3786"
            ],
            [
             0.5555555555555556,
             "#d8576b"
            ],
            [
             0.6666666666666666,
             "#ed7953"
            ],
            [
             0.7777777777777778,
             "#fb9f3a"
            ],
            [
             0.8888888888888888,
             "#fdca26"
            ],
            [
             1,
             "#f0f921"
            ]
           ]
          },
          "colorway": [
           "#636efa",
           "#EF553B",
           "#00cc96",
           "#ab63fa",
           "#FFA15A",
           "#19d3f3",
           "#FF6692",
           "#B6E880",
           "#FF97FF",
           "#FECB52"
          ],
          "font": {
           "color": "#2a3f5f"
          },
          "geo": {
           "bgcolor": "white",
           "lakecolor": "white",
           "landcolor": "#E5ECF6",
           "showlakes": true,
           "showland": true,
           "subunitcolor": "white"
          },
          "hoverlabel": {
           "align": "left"
          },
          "hovermode": "closest",
          "mapbox": {
           "style": "light"
          },
          "paper_bgcolor": "white",
          "plot_bgcolor": "#E5ECF6",
          "polar": {
           "angularaxis": {
            "gridcolor": "white",
            "linecolor": "white",
            "ticks": ""
           },
           "bgcolor": "#E5ECF6",
           "radialaxis": {
            "gridcolor": "white",
            "linecolor": "white",
            "ticks": ""
           }
          },
          "scene": {
           "xaxis": {
            "backgroundcolor": "#E5ECF6",
            "gridcolor": "white",
            "gridwidth": 2,
            "linecolor": "white",
            "showbackground": true,
            "ticks": "",
            "zerolinecolor": "white"
           },
           "yaxis": {
            "backgroundcolor": "#E5ECF6",
            "gridcolor": "white",
            "gridwidth": 2,
            "linecolor": "white",
            "showbackground": true,
            "ticks": "",
            "zerolinecolor": "white"
           },
           "zaxis": {
            "backgroundcolor": "#E5ECF6",
            "gridcolor": "white",
            "gridwidth": 2,
            "linecolor": "white",
            "showbackground": true,
            "ticks": "",
            "zerolinecolor": "white"
           }
          },
          "shapedefaults": {
           "line": {
            "color": "#2a3f5f"
           }
          },
          "ternary": {
           "aaxis": {
            "gridcolor": "white",
            "linecolor": "white",
            "ticks": ""
           },
           "baxis": {
            "gridcolor": "white",
            "linecolor": "white",
            "ticks": ""
           },
           "bgcolor": "#E5ECF6",
           "caxis": {
            "gridcolor": "white",
            "linecolor": "white",
            "ticks": ""
           }
          },
          "title": {
           "x": 0.05
          },
          "xaxis": {
           "automargin": true,
           "gridcolor": "white",
           "linecolor": "white",
           "ticks": "",
           "title": {
            "standoff": 15
           },
           "zerolinecolor": "white",
           "zerolinewidth": 2
          },
          "yaxis": {
           "automargin": true,
           "gridcolor": "white",
           "linecolor": "white",
           "ticks": "",
           "title": {
            "standoff": 15
           },
           "zerolinecolor": "white",
           "zerolinewidth": 2
          }
         }
        },
        "title": {
         "text": "Forecast vs Actual Daily Maximum Temperatures (±1.0°F margin)"
        },
        "xaxis": {
         "anchor": "y",
         "domain": [
          0,
          1
         ],
         "title": {
          "text": "high_temp"
         }
        },
        "yaxis": {
         "anchor": "x",
         "domain": [
          0,
          1
         ],
         "title": {
          "text": "forecast_temp"
         }
        }
       }
      }
     },
     "metadata": {},
     "output_type": "display_data"
    },
    {
     "data": {
      "application/vnd.plotly.v1+json": {
       "config": {
        "plotlyServerURL": "https://plot.ly"
       },
       "data": [
        {
         "customdata": [
          [
           "2024-12-08T16:00:00-05:00",
           "2024-12-08T15:35:44.402781-05:00",
           0.40433256083333335,
           1.0200000000000031,
           51.98
          ],
          [
           "2024-12-08T16:00:00-05:00",
           "2024-12-08T15:45:44.263109-05:00",
           0.23770469194444444,
           1.0200000000000031,
           51.98
          ],
          [
           "2024-12-09T10:00:00-05:00",
           "2024-12-08T15:35:44.402781-05:00",
           18.404332560833335,
           -7.079999999999998,
           51.08
          ],
          [
           "2024-12-09T10:00:00-05:00",
           "2024-12-08T15:45:44.263109-05:00",
           18.237704691944444,
           -7.079999999999998,
           51.08
          ],
          [
           "2024-12-09T10:00:00-05:00",
           "2024-12-08T16:00:38.008541-05:00",
           17.989442071944442,
           -7.079999999999998,
           51.08
          ],
          [
           "2024-12-09T10:00:00-05:00",
           "2024-12-08T17:15:43.104220-05:00",
           16.738026605555554,
           -7.079999999999998,
           51.08
          ],
          [
           "2024-12-09T10:00:00-05:00",
           "2024-12-08T17:20:43.600139-05:00",
           16.654555516944445,
           -7.079999999999998,
           51.08
          ],
          [
           "2024-12-09T10:00:00-05:00",
           "2024-12-08T17:30:43.739338-05:00",
           16.487850183888888,
           -7.079999999999998,
           51.08
          ],
          [
           "2024-12-09T10:00:00-05:00",
           "2024-12-08T17:40:44.751833-05:00",
           16.32090226861111,
           -7.079999999999998,
           51.08
          ],
          [
           "2024-12-09T10:00:00-05:00",
           "2024-12-08T17:45:43.653568-05:00",
           16.237874008888888,
           -7.079999999999998,
           51.08
          ],
          [
           "2024-12-09T10:00:00-05:00",
           "2024-12-08T17:50:43.586326-05:00",
           16.15455935388889,
           -7.079999999999998,
           51.08
          ],
          [
           "2024-12-09T10:00:00-05:00",
           "2024-12-08T18:05:39.752663-05:00",
           15.905624260277778,
           -7.079999999999998,
           51.08
          ],
          [
           "2024-12-09T10:00:00-05:00",
           "2024-12-08T19:50:43.645828-05:00",
           14.154542825555556,
           -7.079999999999998,
           51.08
          ],
          [
           "2024-12-09T10:00:00-05:00",
           "2024-12-08T21:25:43.634181-05:00",
           12.571212727499999,
           -7.079999999999998,
           51.08
          ],
          [
           "2024-12-09T10:00:00-05:00",
           "2024-12-08T21:30:43.559033-05:00",
           12.487900268611112,
           -7.079999999999998,
           51.08
          ],
          [
           "2024-12-09T10:00:00-05:00",
           "2024-12-08T20:48:28.756609-05:00",
           13.192012053055556,
           -7.079999999999998,
           51.08
          ],
          [
           "2024-12-09T10:00:00-05:00",
           "2024-12-08T20:36:05.118325-05:00",
           13.398578243055555,
           -7.079999999999998,
           51.08
          ],
          [
           "2024-12-09T10:00:00-05:00",
           "2024-12-08T20:52:37.969122-05:00",
           13.122786354999999,
           -7.079999999999998,
           51.08
          ],
          [
           "2024-12-09T10:00:00-05:00",
           "2024-12-08T20:55:01.231355-05:00",
           13.082991290277777,
           -7.079999999999998,
           51.08
          ],
          [
           "2024-12-09T10:00:00-05:00",
           "2024-12-08T21:05:43.428977-05:00",
           12.904603061944444,
           -7.079999999999998,
           51.08
          ],
          [
           "2024-12-09T10:00:00-05:00",
           "2024-12-08T21:16:21.881282-05:00",
           12.727255199444445,
           -7.079999999999998,
           51.08
          ],
          [
           "2024-12-09T10:00:00-05:00",
           "2024-12-08T21:18:18.776239-05:00",
           12.694784378055555,
           -7.079999999999998,
           51.08
          ],
          [
           "2024-12-09T10:00:00-05:00",
           "2024-12-08T21:19:41.204710-05:00",
           12.671887580555556,
           -7.079999999999998,
           51.08
          ],
          [
           "2024-12-09T10:00:00-05:00",
           "2024-12-08T21:46:48.015935-05:00",
           12.21999557361111,
           -7.079999999999998,
           51.08
          ],
          [
           "2024-12-09T10:00:00-05:00",
           "2024-12-08T21:50:43.753063-05:00",
           12.154513038055557,
           -7.079999999999998,
           51.08
          ],
          [
           "2024-12-09T10:00:00-05:00",
           "2024-12-08T21:55:43.803300-05:00",
           12.07116575,
           -7.079999999999998,
           51.08
          ],
          [
           "2024-12-09T10:00:00-05:00",
           "2024-12-08T22:00:39.882959-05:00",
           11.988921400277777,
           -7.079999999999998,
           51.08
          ],
          [
           "2024-12-09T10:00:00-05:00",
           "2024-12-08T22:05:39.764993-05:00",
           11.905620835277778,
           -7.079999999999998,
           51.08
          ],
          [
           "2024-12-09T10:00:00-05:00",
           "2024-12-08T22:10:39.973926-05:00",
           11.822229465,
           -7.079999999999998,
           51.08
          ],
          [
           "2024-12-09T10:00:00-05:00",
           "2024-12-08T22:15:45.221002-05:00",
           11.737438610555555,
           -7.079999999999998,
           51.08
          ],
          [
           "2024-12-09T10:00:00-05:00",
           "2024-12-08T23:00:25.697307-05:00",
           10.992861859166666,
           -7.079999999999998,
           51.08
          ],
          [
           "2024-12-09T10:00:00-05:00",
           "2024-12-09T00:00:24.022040-05:00",
           9.99332721111111,
           -7.079999999999998,
           51.08
          ],
          [
           "2024-12-09T10:00:00-05:00",
           "2024-12-09T01:00:22.521872-05:00",
           8.993743924444445,
           -7.079999999999998,
           51.08
          ],
          [
           "2024-12-09T10:00:00-05:00",
           "2024-12-09T02:00:20.917972-05:00",
           7.994189452222223,
           -7.079999999999998,
           51.08
          ],
          [
           "2024-12-09T10:00:00-05:00",
           "2024-12-09T03:00:21.086869-05:00",
           6.994142536388889,
           -7.079999999999998,
           51.08
          ],
          [
           "2024-12-09T10:00:00-05:00",
           "2024-12-09T04:00:37.707344-05:00",
           5.989525737777778,
           -7.079999999999998,
           51.08
          ],
          [
           "2024-12-09T10:00:00-05:00",
           "2024-12-09T05:00:20.996406-05:00",
           4.994167665000001,
           -7.079999999999998,
           51.08
          ],
          [
           "2024-12-09T10:00:00-05:00",
           "2024-12-09T06:00:22.355705-05:00",
           3.9937900819444443,
           -5.079999999999998,
           51.08
          ],
          [
           "2024-12-09T10:00:00-05:00",
           "2024-12-09T07:00:21.209380-05:00",
           2.9941085055555554,
           -5.079999999999998,
           51.08
          ],
          [
           "2024-12-09T10:00:00-05:00",
           "2024-12-09T09:00:22.738697-05:00",
           0.9936836952777779,
           -5.079999999999998,
           51.08
          ]
         ],
         "hovertemplate": "is_accurate=False<br>date=%{x}<br>forecast_temp=%{y}<br>high_temp_time=%{customdata[0]}<br>forecast_created=%{customdata[1]}<br>hours_ahead=%{customdata[2]:.1f}<br>error=%{customdata[3]:.1f}<br>high_temp=%{customdata[4]:.1f}<extra></extra>",
         "legendgroup": "False",
         "marker": {
          "color": "#636efa",
          "symbol": "circle"
         },
         "mode": "markers",
         "name": "False",
         "orientation": "v",
         "showlegend": true,
         "type": "scatter",
         "x": [
          "2024-12-08",
          "2024-12-08",
          "2024-12-09",
          "2024-12-09",
          "2024-12-09",
          "2024-12-09",
          "2024-12-09",
          "2024-12-09",
          "2024-12-09",
          "2024-12-09",
          "2024-12-09",
          "2024-12-09",
          "2024-12-09",
          "2024-12-09",
          "2024-12-09",
          "2024-12-09",
          "2024-12-09",
          "2024-12-09",
          "2024-12-09",
          "2024-12-09",
          "2024-12-09",
          "2024-12-09",
          "2024-12-09",
          "2024-12-09",
          "2024-12-09",
          "2024-12-09",
          "2024-12-09",
          "2024-12-09",
          "2024-12-09",
          "2024-12-09",
          "2024-12-09",
          "2024-12-09",
          "2024-12-09",
          "2024-12-09",
          "2024-12-09",
          "2024-12-09",
          "2024-12-09",
          "2024-12-09",
          "2024-12-09",
          "2024-12-09"
         ],
         "xaxis": "x",
         "y": [
          53,
          53,
          44,
          44,
          44,
          44,
          44,
          44,
          44,
          44,
          44,
          44,
          44,
          44,
          44,
          44,
          44,
          44,
          44,
          44,
          44,
          44,
          44,
          44,
          44,
          44,
          44,
          44,
          44,
          44,
          44,
          44,
          44,
          44,
          44,
          44,
          44,
          46,
          46,
          46
         ],
         "yaxis": "y"
        },
        {
         "line": {
          "color": "black"
         },
         "mode": "lines+markers",
         "name": "Actual High",
         "type": "scatter",
         "x": [
          "2024-12-08",
          "2024-12-09"
         ],
         "y": [
          51.98,
          51.08
         ]
        }
       ],
       "layout": {
        "legend": {
         "title": {
          "text": "is_accurate"
         },
         "tracegroupgap": 0
        },
        "template": {
         "data": {
          "bar": [
           {
            "error_x": {
             "color": "#2a3f5f"
            },
            "error_y": {
             "color": "#2a3f5f"
            },
            "marker": {
             "line": {
              "color": "#E5ECF6",
              "width": 0.5
             },
             "pattern": {
              "fillmode": "overlay",
              "size": 10,
              "solidity": 0.2
             }
            },
            "type": "bar"
           }
          ],
          "barpolar": [
           {
            "marker": {
             "line": {
              "color": "#E5ECF6",
              "width": 0.5
             },
             "pattern": {
              "fillmode": "overlay",
              "size": 10,
              "solidity": 0.2
             }
            },
            "type": "barpolar"
           }
          ],
          "carpet": [
           {
            "aaxis": {
             "endlinecolor": "#2a3f5f",
             "gridcolor": "white",
             "linecolor": "white",
             "minorgridcolor": "white",
             "startlinecolor": "#2a3f5f"
            },
            "baxis": {
             "endlinecolor": "#2a3f5f",
             "gridcolor": "white",
             "linecolor": "white",
             "minorgridcolor": "white",
             "startlinecolor": "#2a3f5f"
            },
            "type": "carpet"
           }
          ],
          "choropleth": [
           {
            "colorbar": {
             "outlinewidth": 0,
             "ticks": ""
            },
            "type": "choropleth"
           }
          ],
          "contour": [
           {
            "colorbar": {
             "outlinewidth": 0,
             "ticks": ""
            },
            "colorscale": [
             [
              0,
              "#0d0887"
             ],
             [
              0.1111111111111111,
              "#46039f"
             ],
             [
              0.2222222222222222,
              "#7201a8"
             ],
             [
              0.3333333333333333,
              "#9c179e"
             ],
             [
              0.4444444444444444,
              "#bd3786"
             ],
             [
              0.5555555555555556,
              "#d8576b"
             ],
             [
              0.6666666666666666,
              "#ed7953"
             ],
             [
              0.7777777777777778,
              "#fb9f3a"
             ],
             [
              0.8888888888888888,
              "#fdca26"
             ],
             [
              1,
              "#f0f921"
             ]
            ],
            "type": "contour"
           }
          ],
          "contourcarpet": [
           {
            "colorbar": {
             "outlinewidth": 0,
             "ticks": ""
            },
            "type": "contourcarpet"
           }
          ],
          "heatmap": [
           {
            "colorbar": {
             "outlinewidth": 0,
             "ticks": ""
            },
            "colorscale": [
             [
              0,
              "#0d0887"
             ],
             [
              0.1111111111111111,
              "#46039f"
             ],
             [
              0.2222222222222222,
              "#7201a8"
             ],
             [
              0.3333333333333333,
              "#9c179e"
             ],
             [
              0.4444444444444444,
              "#bd3786"
             ],
             [
              0.5555555555555556,
              "#d8576b"
             ],
             [
              0.6666666666666666,
              "#ed7953"
             ],
             [
              0.7777777777777778,
              "#fb9f3a"
             ],
             [
              0.8888888888888888,
              "#fdca26"
             ],
             [
              1,
              "#f0f921"
             ]
            ],
            "type": "heatmap"
           }
          ],
          "heatmapgl": [
           {
            "colorbar": {
             "outlinewidth": 0,
             "ticks": ""
            },
            "colorscale": [
             [
              0,
              "#0d0887"
             ],
             [
              0.1111111111111111,
              "#46039f"
             ],
             [
              0.2222222222222222,
              "#7201a8"
             ],
             [
              0.3333333333333333,
              "#9c179e"
             ],
             [
              0.4444444444444444,
              "#bd3786"
             ],
             [
              0.5555555555555556,
              "#d8576b"
             ],
             [
              0.6666666666666666,
              "#ed7953"
             ],
             [
              0.7777777777777778,
              "#fb9f3a"
             ],
             [
              0.8888888888888888,
              "#fdca26"
             ],
             [
              1,
              "#f0f921"
             ]
            ],
            "type": "heatmapgl"
           }
          ],
          "histogram": [
           {
            "marker": {
             "pattern": {
              "fillmode": "overlay",
              "size": 10,
              "solidity": 0.2
             }
            },
            "type": "histogram"
           }
          ],
          "histogram2d": [
           {
            "colorbar": {
             "outlinewidth": 0,
             "ticks": ""
            },
            "colorscale": [
             [
              0,
              "#0d0887"
             ],
             [
              0.1111111111111111,
              "#46039f"
             ],
             [
              0.2222222222222222,
              "#7201a8"
             ],
             [
              0.3333333333333333,
              "#9c179e"
             ],
             [
              0.4444444444444444,
              "#bd3786"
             ],
             [
              0.5555555555555556,
              "#d8576b"
             ],
             [
              0.6666666666666666,
              "#ed7953"
             ],
             [
              0.7777777777777778,
              "#fb9f3a"
             ],
             [
              0.8888888888888888,
              "#fdca26"
             ],
             [
              1,
              "#f0f921"
             ]
            ],
            "type": "histogram2d"
           }
          ],
          "histogram2dcontour": [
           {
            "colorbar": {
             "outlinewidth": 0,
             "ticks": ""
            },
            "colorscale": [
             [
              0,
              "#0d0887"
             ],
             [
              0.1111111111111111,
              "#46039f"
             ],
             [
              0.2222222222222222,
              "#7201a8"
             ],
             [
              0.3333333333333333,
              "#9c179e"
             ],
             [
              0.4444444444444444,
              "#bd3786"
             ],
             [
              0.5555555555555556,
              "#d8576b"
             ],
             [
              0.6666666666666666,
              "#ed7953"
             ],
             [
              0.7777777777777778,
              "#fb9f3a"
             ],
             [
              0.8888888888888888,
              "#fdca26"
             ],
             [
              1,
              "#f0f921"
             ]
            ],
            "type": "histogram2dcontour"
           }
          ],
          "mesh3d": [
           {
            "colorbar": {
             "outlinewidth": 0,
             "ticks": ""
            },
            "type": "mesh3d"
           }
          ],
          "parcoords": [
           {
            "line": {
             "colorbar": {
              "outlinewidth": 0,
              "ticks": ""
             }
            },
            "type": "parcoords"
           }
          ],
          "pie": [
           {
            "automargin": true,
            "type": "pie"
           }
          ],
          "scatter": [
           {
            "fillpattern": {
             "fillmode": "overlay",
             "size": 10,
             "solidity": 0.2
            },
            "type": "scatter"
           }
          ],
          "scatter3d": [
           {
            "line": {
             "colorbar": {
              "outlinewidth": 0,
              "ticks": ""
             }
            },
            "marker": {
             "colorbar": {
              "outlinewidth": 0,
              "ticks": ""
             }
            },
            "type": "scatter3d"
           }
          ],
          "scattercarpet": [
           {
            "marker": {
             "colorbar": {
              "outlinewidth": 0,
              "ticks": ""
             }
            },
            "type": "scattercarpet"
           }
          ],
          "scattergeo": [
           {
            "marker": {
             "colorbar": {
              "outlinewidth": 0,
              "ticks": ""
             }
            },
            "type": "scattergeo"
           }
          ],
          "scattergl": [
           {
            "marker": {
             "colorbar": {
              "outlinewidth": 0,
              "ticks": ""
             }
            },
            "type": "scattergl"
           }
          ],
          "scattermapbox": [
           {
            "marker": {
             "colorbar": {
              "outlinewidth": 0,
              "ticks": ""
             }
            },
            "type": "scattermapbox"
           }
          ],
          "scatterpolar": [
           {
            "marker": {
             "colorbar": {
              "outlinewidth": 0,
              "ticks": ""
             }
            },
            "type": "scatterpolar"
           }
          ],
          "scatterpolargl": [
           {
            "marker": {
             "colorbar": {
              "outlinewidth": 0,
              "ticks": ""
             }
            },
            "type": "scatterpolargl"
           }
          ],
          "scatterternary": [
           {
            "marker": {
             "colorbar": {
              "outlinewidth": 0,
              "ticks": ""
             }
            },
            "type": "scatterternary"
           }
          ],
          "surface": [
           {
            "colorbar": {
             "outlinewidth": 0,
             "ticks": ""
            },
            "colorscale": [
             [
              0,
              "#0d0887"
             ],
             [
              0.1111111111111111,
              "#46039f"
             ],
             [
              0.2222222222222222,
              "#7201a8"
             ],
             [
              0.3333333333333333,
              "#9c179e"
             ],
             [
              0.4444444444444444,
              "#bd3786"
             ],
             [
              0.5555555555555556,
              "#d8576b"
             ],
             [
              0.6666666666666666,
              "#ed7953"
             ],
             [
              0.7777777777777778,
              "#fb9f3a"
             ],
             [
              0.8888888888888888,
              "#fdca26"
             ],
             [
              1,
              "#f0f921"
             ]
            ],
            "type": "surface"
           }
          ],
          "table": [
           {
            "cells": {
             "fill": {
              "color": "#EBF0F8"
             },
             "line": {
              "color": "white"
             }
            },
            "header": {
             "fill": {
              "color": "#C8D4E3"
             },
             "line": {
              "color": "white"
             }
            },
            "type": "table"
           }
          ]
         },
         "layout": {
          "annotationdefaults": {
           "arrowcolor": "#2a3f5f",
           "arrowhead": 0,
           "arrowwidth": 1
          },
          "autotypenumbers": "strict",
          "coloraxis": {
           "colorbar": {
            "outlinewidth": 0,
            "ticks": ""
           }
          },
          "colorscale": {
           "diverging": [
            [
             0,
             "#8e0152"
            ],
            [
             0.1,
             "#c51b7d"
            ],
            [
             0.2,
             "#de77ae"
            ],
            [
             0.3,
             "#f1b6da"
            ],
            [
             0.4,
             "#fde0ef"
            ],
            [
             0.5,
             "#f7f7f7"
            ],
            [
             0.6,
             "#e6f5d0"
            ],
            [
             0.7,
             "#b8e186"
            ],
            [
             0.8,
             "#7fbc41"
            ],
            [
             0.9,
             "#4d9221"
            ],
            [
             1,
             "#276419"
            ]
           ],
           "sequential": [
            [
             0,
             "#0d0887"
            ],
            [
             0.1111111111111111,
             "#46039f"
            ],
            [
             0.2222222222222222,
             "#7201a8"
            ],
            [
             0.3333333333333333,
             "#9c179e"
            ],
            [
             0.4444444444444444,
             "#bd3786"
            ],
            [
             0.5555555555555556,
             "#d8576b"
            ],
            [
             0.6666666666666666,
             "#ed7953"
            ],
            [
             0.7777777777777778,
             "#fb9f3a"
            ],
            [
             0.8888888888888888,
             "#fdca26"
            ],
            [
             1,
             "#f0f921"
            ]
           ],
           "sequentialminus": [
            [
             0,
             "#0d0887"
            ],
            [
             0.1111111111111111,
             "#46039f"
            ],
            [
             0.2222222222222222,
             "#7201a8"
            ],
            [
             0.3333333333333333,
             "#9c179e"
            ],
            [
             0.4444444444444444,
             "#bd3786"
            ],
            [
             0.5555555555555556,
             "#d8576b"
            ],
            [
             0.6666666666666666,
             "#ed7953"
            ],
            [
             0.7777777777777778,
             "#fb9f3a"
            ],
            [
             0.8888888888888888,
             "#fdca26"
            ],
            [
             1,
             "#f0f921"
            ]
           ]
          },
          "colorway": [
           "#636efa",
           "#EF553B",
           "#00cc96",
           "#ab63fa",
           "#FFA15A",
           "#19d3f3",
           "#FF6692",
           "#B6E880",
           "#FF97FF",
           "#FECB52"
          ],
          "font": {
           "color": "#2a3f5f"
          },
          "geo": {
           "bgcolor": "white",
           "lakecolor": "white",
           "landcolor": "#E5ECF6",
           "showlakes": true,
           "showland": true,
           "subunitcolor": "white"
          },
          "hoverlabel": {
           "align": "left"
          },
          "hovermode": "closest",
          "mapbox": {
           "style": "light"
          },
          "paper_bgcolor": "white",
          "plot_bgcolor": "#E5ECF6",
          "polar": {
           "angularaxis": {
            "gridcolor": "white",
            "linecolor": "white",
            "ticks": ""
           },
           "bgcolor": "#E5ECF6",
           "radialaxis": {
            "gridcolor": "white",
            "linecolor": "white",
            "ticks": ""
           }
          },
          "scene": {
           "xaxis": {
            "backgroundcolor": "#E5ECF6",
            "gridcolor": "white",
            "gridwidth": 2,
            "linecolor": "white",
            "showbackground": true,
            "ticks": "",
            "zerolinecolor": "white"
           },
           "yaxis": {
            "backgroundcolor": "#E5ECF6",
            "gridcolor": "white",
            "gridwidth": 2,
            "linecolor": "white",
            "showbackground": true,
            "ticks": "",
            "zerolinecolor": "white"
           },
           "zaxis": {
            "backgroundcolor": "#E5ECF6",
            "gridcolor": "white",
            "gridwidth": 2,
            "linecolor": "white",
            "showbackground": true,
            "ticks": "",
            "zerolinecolor": "white"
           }
          },
          "shapedefaults": {
           "line": {
            "color": "#2a3f5f"
           }
          },
          "ternary": {
           "aaxis": {
            "gridcolor": "white",
            "linecolor": "white",
            "ticks": ""
           },
           "baxis": {
            "gridcolor": "white",
            "linecolor": "white",
            "ticks": ""
           },
           "bgcolor": "#E5ECF6",
           "caxis": {
            "gridcolor": "white",
            "linecolor": "white",
            "ticks": ""
           }
          },
          "title": {
           "x": 0.05
          },
          "xaxis": {
           "automargin": true,
           "gridcolor": "white",
           "linecolor": "white",
           "ticks": "",
           "title": {
            "standoff": 15
           },
           "zerolinecolor": "white",
           "zerolinewidth": 2
          },
          "yaxis": {
           "automargin": true,
           "gridcolor": "white",
           "linecolor": "white",
           "ticks": "",
           "title": {
            "standoff": 15
           },
           "zerolinecolor": "white",
           "zerolinewidth": 2
          }
         }
        },
        "title": {
         "text": "Daily Maximum Temperature Forecasts Over Time"
        },
        "xaxis": {
         "anchor": "y",
         "domain": [
          0,
          1
         ],
         "title": {
          "text": "date"
         }
        },
        "yaxis": {
         "anchor": "x",
         "domain": [
          0,
          1
         ],
         "title": {
          "text": "forecast_temp"
         }
        }
       }
      }
     },
     "metadata": {},
     "output_type": "display_data"
    }
   ],
   "source": [
    "import numpy as np\n",
    "import plotly.express as px\n",
    "import plotly.graph_objects as go\n",
    "\n",
    "def analyze_max_temp_forecast_accuracy(df_forecasts, df_observations, temp_margin=1.0):\n",
    "    \"\"\"\n",
    "    Analyze forecasts that correctly predicted daily maximum temperatures within a margin.\n",
    "    \n",
    "    Args:\n",
    "        df_forecasts: DataFrame of forecasts\n",
    "        df_observations: DataFrame of observations\n",
    "        temp_margin: Temperature margin for considering a forecast \"correct\" (±°F)\n",
    "    \"\"\"\n",
    "    # Find daily maximum temperatures\n",
    "    daily_maxes = []\n",
    "    df_observations['date'] = df_observations['observed_time'].dt.date\n",
    "    daily_obs = df_observations.groupby('date')\n",
    "    \n",
    "    for date, day_obs in daily_obs:\n",
    "        # Get max temp and its time for this day\n",
    "        max_temp = day_obs['temperature'].max()\n",
    "        max_temp_obs = day_obs[day_obs['temperature'] == max_temp].iloc[0]\n",
    "        max_temp_time = max_temp_obs['observed_time']\n",
    "        \n",
    "        # Find the corresponding forecast hour (round down to nearest hour)\n",
    "        forecast_hour = max_temp_time.replace(minute=0, second=0, microsecond=0)\n",
    "        \n",
    "        # Get all forecasts that were predicting this specific hour\n",
    "        matching_forecasts = df_forecasts[\n",
    "            df_forecasts['forecast_time_hour'] == forecast_hour\n",
    "        ]\n",
    "        \n",
    "        if not matching_forecasts.empty:\n",
    "            # Analyze each forecast for this max temp hour\n",
    "            for _, forecast in matching_forecasts.iterrows():\n",
    "                error = forecast['temperature'] - max_temp\n",
    "                is_accurate = abs(error) <= temp_margin\n",
    "                \n",
    "                daily_maxes.append({\n",
    "                    'date': date,\n",
    "                    'high_temp': max_temp,\n",
    "                    'high_temp_time': max_temp_time,\n",
    "                    'forecast_temp': forecast['temperature'],\n",
    "                    'forecast_created': forecast['created_at'],\n",
    "                    'hours_ahead': (forecast_hour - forecast['created_at']).total_seconds() / 3600,\n",
    "                    'error': error,\n",
    "                    'error_magnitude': abs(error),\n",
    "                    'is_accurate': is_accurate\n",
    "                })\n",
    "    \n",
    "    df_analysis = pd.DataFrame(daily_maxes)\n",
    "    \n",
    "    if df_analysis.empty:\n",
    "        print(\"No matching data found for analysis\")\n",
    "        return None\n",
    "    \n",
    "    # Print summary for each day\n",
    "    print(\"\\nDaily Maximum Temperature Analysis:\")\n",
    "    print(\"===================================\")\n",
    "    \n",
    "    for date, day_data in df_analysis.groupby('date'):\n",
    "        high_temp = day_data['high_temp'].iloc[0]\n",
    "        high_time = day_data['high_temp_time'].iloc[0]\n",
    "        accurate_forecasts = day_data[day_data['is_accurate']]\n",
    "        \n",
    "        print(f\"\\nDate: {date}\")\n",
    "        print(f\"Daily High: {high_temp:.1f}°F at {high_time.strftime('%I:%M %p EST')}\")\n",
    "        print(f\"Total forecasts for this hour: {len(day_data)}\")\n",
    "        print(f\"Accurate forecasts (±{temp_margin}°F): {len(accurate_forecasts)}\")\n",
    "        \n",
    "        if len(accurate_forecasts) > 0:\n",
    "            print(\"\\nAccurate Forecasts:\")\n",
    "            for _, forecast in accurate_forecasts.iterrows():\n",
    "                print(f\"  Created: {forecast['forecast_created'].strftime('%Y-%m-%d %I:%M %p EST')}\")\n",
    "                print(f\"  Predicted: {forecast['forecast_temp']:.1f}°F\")\n",
    "                print(f\"  Hours ahead: {forecast['hours_ahead']:.1f}\")\n",
    "                print(f\"  Error: {forecast['error']:.1f}°F\")\n",
    "                print(\"  ---\")\n",
    "    \n",
    "    # Visualizations\n",
    "    import plotly.express as px\n",
    "    \n",
    "       # ... (previous code remains the same until visualizations) ...\n",
    "\n",
    "    # 1. Scatter plot of all forecasts vs actual highs\n",
    "    fig1 = px.scatter(df_analysis,\n",
    "                     x='high_temp',\n",
    "                     y='forecast_temp',\n",
    "                     color='is_accurate',\n",
    "                     hover_data={\n",
    "                         'date': True,\n",
    "                         'high_temp_time': True,\n",
    "                         'forecast_created': True,\n",
    "                         'hours_ahead': ':.1f',\n",
    "                         'error': ':.1f'\n",
    "                     },\n",
    "                     title=f'Forecast vs Actual Daily Maximum Temperatures (±{temp_margin}°F margin)')\n",
    "    \n",
    "    # Add single perfect forecast line with margin bands\n",
    "    temp_range = np.linspace(\n",
    "        df_analysis['high_temp'].min() - 5,\n",
    "        df_analysis['high_temp'].max() + 5,\n",
    "        100\n",
    "    )\n",
    "    \n",
    "    fig1.add_trace(go.Scatter(\n",
    "        x=temp_range,\n",
    "        y=temp_range,\n",
    "        mode='lines',\n",
    "        name='Perfect Forecast',\n",
    "        line=dict(color='black', dash='dash')\n",
    "    ))\n",
    "    \n",
    "    fig1.add_trace(go.Scatter(\n",
    "        x=temp_range,\n",
    "        y=temp_range + temp_margin,\n",
    "        mode='lines',\n",
    "        name=f'+{temp_margin}°F Margin',\n",
    "        line=dict(color='gray', dash='dot')\n",
    "    ))\n",
    "    \n",
    "    fig1.add_trace(go.Scatter(\n",
    "        x=temp_range,\n",
    "        y=temp_range - temp_margin,\n",
    "        mode='lines',\n",
    "        name=f'-{temp_margin}°F Margin',\n",
    "        line=dict(color='gray', dash='dot')\n",
    "    ))\n",
    "    \n",
    "    fig1.show()\n",
    "    \n",
    "    # 2. Time series of forecasts vs actuals\n",
    "    fig2 = px.scatter(df_analysis,\n",
    "                     x='date',\n",
    "                     y='forecast_temp',\n",
    "                     color='is_accurate',\n",
    "                     hover_data={\n",
    "                         'high_temp_time': True,\n",
    "                         'forecast_created': True,\n",
    "                         'hours_ahead': ':.1f',\n",
    "                         'error': ':.1f',\n",
    "                         'high_temp': ':.1f'\n",
    "                     },\n",
    "                     title='Daily Maximum Temperature Forecasts Over Time')\n",
    "    \n",
    "    # Add actual temperatures line\n",
    "    daily_highs = df_analysis.groupby('date')['high_temp'].first().reset_index()\n",
    "    fig2.add_trace(go.Scatter(\n",
    "        x=daily_highs['date'],\n",
    "        y=daily_highs['high_temp'],\n",
    "        mode='lines+markers',\n",
    "        name='Actual High',\n",
    "        line=dict(color='black')\n",
    "    ))\n",
    "    \n",
    "    fig2.show()\n",
    "    return df_analysis\n",
    "\n",
    "# Run the analysis\n",
    "df_max_analysis = analyze_max_temp_forecast_accuracy(df_forecasts, df_observations, temp_margin=1.0)"
   ]
  },
  {
   "cell_type": "code",
   "execution_count": 71,
   "metadata": {},
   "outputs": [
    {
     "name": "stdout",
     "output_type": "stream",
     "text": [
      "\n",
      "Daily Maximum Temperature Analysis (Forecast Max vs Actual Max):\n",
      "=============================================================\n",
      "\n",
      "Date: 2024-12-08\n",
      "Actual Daily Max: 52.0°F\n",
      "Total forecasts: 5\n",
      "Accurate forecasts (±1.0°F): 3\n",
      "\n",
      "Accurate Forecasts:\n",
      "  Created: 2024-12-08 03:35 PM EST\n",
      "  Forecast Time: 2024-12-08 05:00 PM EST\n",
      "  Predicted Max: 52.0°F\n",
      "  Hours Ahead: 1.4\n",
      "  Error: 0.0°F\n",
      "  ---\n",
      "  Created: 2024-12-08 03:45 PM EST\n",
      "  Forecast Time: 2024-12-08 05:00 PM EST\n",
      "  Predicted Max: 52.0°F\n",
      "  Hours Ahead: 1.2\n",
      "  Error: 0.0°F\n",
      "  ---\n",
      "  Created: 2024-12-08 04:00 PM EST\n",
      "  Forecast Time: 2024-12-08 05:00 PM EST\n",
      "  Predicted Max: 52.0°F\n",
      "  Hours Ahead: 1.0\n",
      "  Error: 0.0°F\n",
      "  ---\n",
      "\n",
      "Date: 2024-12-09\n",
      "Actual Daily Max: 51.1°F\n",
      "Total forecasts: 472\n",
      "Accurate forecasts (±1.0°F): 0\n"
     ]
    },
    {
     "data": {
      "application/vnd.plotly.v1+json": {
       "config": {
        "plotlyServerURL": "https://plot.ly"
       },
       "data": [
        {
         "customdata": [
          [
           "2024-12-08",
           "2024-12-08T16:00:00-05:00",
           "2024-12-08T15:35:44.402781-05:00",
           0.40433256083333335,
           1.0200000000000031,
           false
          ],
          [
           "2024-12-08",
           "2024-12-08T17:00:00-05:00",
           "2024-12-08T15:35:44.402781-05:00",
           1.4043325608333335,
           0.020000000000003126,
           true
          ],
          [
           "2024-12-08",
           "2024-12-08T16:00:00-05:00",
           "2024-12-08T15:45:44.263109-05:00",
           0.23770469194444444,
           1.0200000000000031,
           false
          ],
          [
           "2024-12-08",
           "2024-12-08T17:00:00-05:00",
           "2024-12-08T15:45:44.263109-05:00",
           1.2377046919444443,
           0.020000000000003126,
           true
          ],
          [
           "2024-12-08",
           "2024-12-08T17:00:00-05:00",
           "2024-12-08T16:00:38.008541-05:00",
           0.9894420719444444,
           0.020000000000003126,
           true
          ],
          [
           "2024-12-09",
           "2024-12-09T06:00:00-05:00",
           "2024-12-08T15:35:44.402781-05:00",
           14.404332560833334,
           -14.079999999999998,
           false
          ],
          [
           "2024-12-09",
           "2024-12-09T07:00:00-05:00",
           "2024-12-08T15:35:44.402781-05:00",
           15.404332560833334,
           -13.079999999999998,
           false
          ],
          [
           "2024-12-09",
           "2024-12-09T08:00:00-05:00",
           "2024-12-08T15:35:44.402781-05:00",
           16.404332560833335,
           -12.079999999999998,
           false
          ],
          [
           "2024-12-09",
           "2024-12-09T09:00:00-05:00",
           "2024-12-08T15:35:44.402781-05:00",
           17.404332560833335,
           -10.079999999999998,
           false
          ],
          [
           "2024-12-09",
           "2024-12-09T10:00:00-05:00",
           "2024-12-08T15:35:44.402781-05:00",
           18.404332560833335,
           -7.079999999999998,
           false
          ],
          [
           "2024-12-09",
           "2024-12-09T11:00:00-05:00",
           "2024-12-08T15:35:44.402781-05:00",
           19.404332560833335,
           -6.079999999999998,
           false
          ],
          [
           "2024-12-09",
           "2024-12-09T12:00:00-05:00",
           "2024-12-08T15:35:44.402781-05:00",
           20.404332560833335,
           -4.079999999999998,
           false
          ],
          [
           "2024-12-09",
           "2024-12-09T13:00:00-05:00",
           "2024-12-08T15:35:44.402781-05:00",
           21.404332560833335,
           -2.0799999999999983,
           false
          ],
          [
           "2024-12-09",
           "2024-12-09T14:00:00-05:00",
           "2024-12-08T15:35:44.402781-05:00",
           22.404332560833335,
           -2.0799999999999983,
           false
          ],
          [
           "2024-12-09",
           "2024-12-09T15:00:00-05:00",
           "2024-12-08T15:35:44.402781-05:00",
           23.404332560833335,
           -1.0799999999999983,
           false
          ],
          [
           "2024-12-09",
           "2024-12-09T06:00:00-05:00",
           "2024-12-08T15:45:44.263109-05:00",
           14.237704691944444,
           -14.079999999999998,
           false
          ],
          [
           "2024-12-09",
           "2024-12-09T07:00:00-05:00",
           "2024-12-08T15:45:44.263109-05:00",
           15.237704691944444,
           -13.079999999999998,
           false
          ],
          [
           "2024-12-09",
           "2024-12-09T08:00:00-05:00",
           "2024-12-08T15:45:44.263109-05:00",
           16.237704691944444,
           -12.079999999999998,
           false
          ],
          [
           "2024-12-09",
           "2024-12-09T09:00:00-05:00",
           "2024-12-08T15:45:44.263109-05:00",
           17.237704691944444,
           -10.079999999999998,
           false
          ],
          [
           "2024-12-09",
           "2024-12-09T10:00:00-05:00",
           "2024-12-08T15:45:44.263109-05:00",
           18.237704691944444,
           -7.079999999999998,
           false
          ],
          [
           "2024-12-09",
           "2024-12-09T11:00:00-05:00",
           "2024-12-08T15:45:44.263109-05:00",
           19.237704691944444,
           -6.079999999999998,
           false
          ],
          [
           "2024-12-09",
           "2024-12-09T12:00:00-05:00",
           "2024-12-08T15:45:44.263109-05:00",
           20.237704691944444,
           -4.079999999999998,
           false
          ],
          [
           "2024-12-09",
           "2024-12-09T13:00:00-05:00",
           "2024-12-08T15:45:44.263109-05:00",
           21.237704691944444,
           -2.0799999999999983,
           false
          ],
          [
           "2024-12-09",
           "2024-12-09T14:00:00-05:00",
           "2024-12-08T15:45:44.263109-05:00",
           22.237704691944444,
           -2.0799999999999983,
           false
          ],
          [
           "2024-12-09",
           "2024-12-09T15:00:00-05:00",
           "2024-12-08T15:45:44.263109-05:00",
           23.237704691944444,
           -1.0799999999999983,
           false
          ],
          [
           "2024-12-09",
           "2024-12-09T06:00:00-05:00",
           "2024-12-08T16:00:38.008541-05:00",
           13.989442071944444,
           -14.079999999999998,
           false
          ],
          [
           "2024-12-09",
           "2024-12-09T07:00:00-05:00",
           "2024-12-08T16:00:38.008541-05:00",
           14.989442071944444,
           -13.079999999999998,
           false
          ],
          [
           "2024-12-09",
           "2024-12-09T08:00:00-05:00",
           "2024-12-08T16:00:38.008541-05:00",
           15.989442071944444,
           -12.079999999999998,
           false
          ],
          [
           "2024-12-09",
           "2024-12-09T09:00:00-05:00",
           "2024-12-08T16:00:38.008541-05:00",
           16.989442071944442,
           -10.079999999999998,
           false
          ],
          [
           "2024-12-09",
           "2024-12-09T10:00:00-05:00",
           "2024-12-08T16:00:38.008541-05:00",
           17.989442071944442,
           -7.079999999999998,
           false
          ],
          [
           "2024-12-09",
           "2024-12-09T11:00:00-05:00",
           "2024-12-08T16:00:38.008541-05:00",
           18.989442071944442,
           -6.079999999999998,
           false
          ],
          [
           "2024-12-09",
           "2024-12-09T12:00:00-05:00",
           "2024-12-08T16:00:38.008541-05:00",
           19.989442071944442,
           -4.079999999999998,
           false
          ],
          [
           "2024-12-09",
           "2024-12-09T13:00:00-05:00",
           "2024-12-08T16:00:38.008541-05:00",
           20.989442071944442,
           -2.0799999999999983,
           false
          ],
          [
           "2024-12-09",
           "2024-12-09T14:00:00-05:00",
           "2024-12-08T16:00:38.008541-05:00",
           21.989442071944442,
           -2.0799999999999983,
           false
          ],
          [
           "2024-12-09",
           "2024-12-09T15:00:00-05:00",
           "2024-12-08T16:00:38.008541-05:00",
           22.989442071944442,
           -1.0799999999999983,
           false
          ],
          [
           "2024-12-09",
           "2024-12-09T16:00:00-05:00",
           "2024-12-08T16:00:38.008541-05:00",
           23.989442071944442,
           -1.0799999999999983,
           false
          ],
          [
           "2024-12-09",
           "2024-12-09T06:00:00-05:00",
           "2024-12-08T17:15:43.104220-05:00",
           12.738026605555556,
           -14.079999999999998,
           false
          ],
          [
           "2024-12-09",
           "2024-12-09T07:00:00-05:00",
           "2024-12-08T17:15:43.104220-05:00",
           13.738026605555556,
           -13.079999999999998,
           false
          ],
          [
           "2024-12-09",
           "2024-12-09T08:00:00-05:00",
           "2024-12-08T17:15:43.104220-05:00",
           14.738026605555556,
           -12.079999999999998,
           false
          ],
          [
           "2024-12-09",
           "2024-12-09T09:00:00-05:00",
           "2024-12-08T17:15:43.104220-05:00",
           15.738026605555556,
           -10.079999999999998,
           false
          ],
          [
           "2024-12-09",
           "2024-12-09T10:00:00-05:00",
           "2024-12-08T17:15:43.104220-05:00",
           16.738026605555554,
           -7.079999999999998,
           false
          ],
          [
           "2024-12-09",
           "2024-12-09T11:00:00-05:00",
           "2024-12-08T17:15:43.104220-05:00",
           17.738026605555554,
           -6.079999999999998,
           false
          ],
          [
           "2024-12-09",
           "2024-12-09T12:00:00-05:00",
           "2024-12-08T17:15:43.104220-05:00",
           18.738026605555557,
           -4.079999999999998,
           false
          ],
          [
           "2024-12-09",
           "2024-12-09T13:00:00-05:00",
           "2024-12-08T17:15:43.104220-05:00",
           19.738026605555557,
           -2.0799999999999983,
           false
          ],
          [
           "2024-12-09",
           "2024-12-09T14:00:00-05:00",
           "2024-12-08T17:15:43.104220-05:00",
           20.738026605555557,
           -2.0799999999999983,
           false
          ],
          [
           "2024-12-09",
           "2024-12-09T15:00:00-05:00",
           "2024-12-08T17:15:43.104220-05:00",
           21.738026605555557,
           -1.0799999999999983,
           false
          ],
          [
           "2024-12-09",
           "2024-12-09T16:00:00-05:00",
           "2024-12-08T17:15:43.104220-05:00",
           22.738026605555557,
           -1.0799999999999983,
           false
          ],
          [
           "2024-12-09",
           "2024-12-09T17:00:00-05:00",
           "2024-12-08T17:15:43.104220-05:00",
           23.738026605555557,
           -1.0799999999999983,
           false
          ],
          [
           "2024-12-09",
           "2024-12-09T06:00:00-05:00",
           "2024-12-08T17:20:43.600139-05:00",
           12.654555516944443,
           -14.079999999999998,
           false
          ],
          [
           "2024-12-09",
           "2024-12-09T07:00:00-05:00",
           "2024-12-08T17:20:43.600139-05:00",
           13.654555516944443,
           -13.079999999999998,
           false
          ],
          [
           "2024-12-09",
           "2024-12-09T08:00:00-05:00",
           "2024-12-08T17:20:43.600139-05:00",
           14.654555516944443,
           -12.079999999999998,
           false
          ],
          [
           "2024-12-09",
           "2024-12-09T09:00:00-05:00",
           "2024-12-08T17:20:43.600139-05:00",
           15.654555516944443,
           -10.079999999999998,
           false
          ],
          [
           "2024-12-09",
           "2024-12-09T10:00:00-05:00",
           "2024-12-08T17:20:43.600139-05:00",
           16.654555516944445,
           -7.079999999999998,
           false
          ],
          [
           "2024-12-09",
           "2024-12-09T11:00:00-05:00",
           "2024-12-08T17:20:43.600139-05:00",
           17.654555516944445,
           -6.079999999999998,
           false
          ],
          [
           "2024-12-09",
           "2024-12-09T12:00:00-05:00",
           "2024-12-08T17:20:43.600139-05:00",
           18.654555516944445,
           -4.079999999999998,
           false
          ],
          [
           "2024-12-09",
           "2024-12-09T13:00:00-05:00",
           "2024-12-08T17:20:43.600139-05:00",
           19.654555516944445,
           -2.0799999999999983,
           false
          ],
          [
           "2024-12-09",
           "2024-12-09T14:00:00-05:00",
           "2024-12-08T17:20:43.600139-05:00",
           20.654555516944445,
           -2.0799999999999983,
           false
          ],
          [
           "2024-12-09",
           "2024-12-09T15:00:00-05:00",
           "2024-12-08T17:20:43.600139-05:00",
           21.654555516944445,
           -1.0799999999999983,
           false
          ],
          [
           "2024-12-09",
           "2024-12-09T16:00:00-05:00",
           "2024-12-08T17:20:43.600139-05:00",
           22.654555516944445,
           -1.0799999999999983,
           false
          ],
          [
           "2024-12-09",
           "2024-12-09T17:00:00-05:00",
           "2024-12-08T17:20:43.600139-05:00",
           23.654555516944445,
           -1.0799999999999983,
           false
          ],
          [
           "2024-12-09",
           "2024-12-09T06:00:00-05:00",
           "2024-12-08T17:30:43.739338-05:00",
           12.48785018388889,
           -14.079999999999998,
           false
          ],
          [
           "2024-12-09",
           "2024-12-09T07:00:00-05:00",
           "2024-12-08T17:30:43.739338-05:00",
           13.48785018388889,
           -13.079999999999998,
           false
          ],
          [
           "2024-12-09",
           "2024-12-09T08:00:00-05:00",
           "2024-12-08T17:30:43.739338-05:00",
           14.48785018388889,
           -12.079999999999998,
           false
          ],
          [
           "2024-12-09",
           "2024-12-09T09:00:00-05:00",
           "2024-12-08T17:30:43.739338-05:00",
           15.48785018388889,
           -10.079999999999998,
           false
          ],
          [
           "2024-12-09",
           "2024-12-09T10:00:00-05:00",
           "2024-12-08T17:30:43.739338-05:00",
           16.487850183888888,
           -7.079999999999998,
           false
          ],
          [
           "2024-12-09",
           "2024-12-09T11:00:00-05:00",
           "2024-12-08T17:30:43.739338-05:00",
           17.487850183888888,
           -6.079999999999998,
           false
          ],
          [
           "2024-12-09",
           "2024-12-09T12:00:00-05:00",
           "2024-12-08T17:30:43.739338-05:00",
           18.487850183888888,
           -4.079999999999998,
           false
          ],
          [
           "2024-12-09",
           "2024-12-09T13:00:00-05:00",
           "2024-12-08T17:30:43.739338-05:00",
           19.487850183888888,
           -2.0799999999999983,
           false
          ],
          [
           "2024-12-09",
           "2024-12-09T14:00:00-05:00",
           "2024-12-08T17:30:43.739338-05:00",
           20.487850183888888,
           -2.0799999999999983,
           false
          ],
          [
           "2024-12-09",
           "2024-12-09T15:00:00-05:00",
           "2024-12-08T17:30:43.739338-05:00",
           21.487850183888888,
           -1.0799999999999983,
           false
          ],
          [
           "2024-12-09",
           "2024-12-09T16:00:00-05:00",
           "2024-12-08T17:30:43.739338-05:00",
           22.487850183888888,
           -1.0799999999999983,
           false
          ],
          [
           "2024-12-09",
           "2024-12-09T17:00:00-05:00",
           "2024-12-08T17:30:43.739338-05:00",
           23.487850183888888,
           -1.0799999999999983,
           false
          ],
          [
           "2024-12-09",
           "2024-12-09T06:00:00-05:00",
           "2024-12-08T17:40:44.751833-05:00",
           12.32090226861111,
           -14.079999999999998,
           false
          ],
          [
           "2024-12-09",
           "2024-12-09T07:00:00-05:00",
           "2024-12-08T17:40:44.751833-05:00",
           13.32090226861111,
           -13.079999999999998,
           false
          ],
          [
           "2024-12-09",
           "2024-12-09T08:00:00-05:00",
           "2024-12-08T17:40:44.751833-05:00",
           14.32090226861111,
           -12.079999999999998,
           false
          ],
          [
           "2024-12-09",
           "2024-12-09T09:00:00-05:00",
           "2024-12-08T17:40:44.751833-05:00",
           15.32090226861111,
           -10.079999999999998,
           false
          ],
          [
           "2024-12-09",
           "2024-12-09T10:00:00-05:00",
           "2024-12-08T17:40:44.751833-05:00",
           16.32090226861111,
           -7.079999999999998,
           false
          ],
          [
           "2024-12-09",
           "2024-12-09T11:00:00-05:00",
           "2024-12-08T17:40:44.751833-05:00",
           17.32090226861111,
           -6.079999999999998,
           false
          ],
          [
           "2024-12-09",
           "2024-12-09T12:00:00-05:00",
           "2024-12-08T17:40:44.751833-05:00",
           18.32090226861111,
           -4.079999999999998,
           false
          ],
          [
           "2024-12-09",
           "2024-12-09T13:00:00-05:00",
           "2024-12-08T17:40:44.751833-05:00",
           19.32090226861111,
           -2.0799999999999983,
           false
          ],
          [
           "2024-12-09",
           "2024-12-09T14:00:00-05:00",
           "2024-12-08T17:40:44.751833-05:00",
           20.32090226861111,
           -2.0799999999999983,
           false
          ],
          [
           "2024-12-09",
           "2024-12-09T15:00:00-05:00",
           "2024-12-08T17:40:44.751833-05:00",
           21.32090226861111,
           -1.0799999999999983,
           false
          ],
          [
           "2024-12-09",
           "2024-12-09T16:00:00-05:00",
           "2024-12-08T17:40:44.751833-05:00",
           22.32090226861111,
           -1.0799999999999983,
           false
          ],
          [
           "2024-12-09",
           "2024-12-09T17:00:00-05:00",
           "2024-12-08T17:40:44.751833-05:00",
           23.32090226861111,
           -1.0799999999999983,
           false
          ],
          [
           "2024-12-09",
           "2024-12-09T06:00:00-05:00",
           "2024-12-08T17:45:43.653568-05:00",
           12.23787400888889,
           -14.079999999999998,
           false
          ],
          [
           "2024-12-09",
           "2024-12-09T07:00:00-05:00",
           "2024-12-08T17:45:43.653568-05:00",
           13.23787400888889,
           -13.079999999999998,
           false
          ],
          [
           "2024-12-09",
           "2024-12-09T08:00:00-05:00",
           "2024-12-08T17:45:43.653568-05:00",
           14.23787400888889,
           -12.079999999999998,
           false
          ],
          [
           "2024-12-09",
           "2024-12-09T09:00:00-05:00",
           "2024-12-08T17:45:43.653568-05:00",
           15.23787400888889,
           -10.079999999999998,
           false
          ],
          [
           "2024-12-09",
           "2024-12-09T10:00:00-05:00",
           "2024-12-08T17:45:43.653568-05:00",
           16.237874008888888,
           -7.079999999999998,
           false
          ],
          [
           "2024-12-09",
           "2024-12-09T11:00:00-05:00",
           "2024-12-08T17:45:43.653568-05:00",
           17.237874008888888,
           -6.079999999999998,
           false
          ],
          [
           "2024-12-09",
           "2024-12-09T12:00:00-05:00",
           "2024-12-08T17:45:43.653568-05:00",
           18.23787400888889,
           -4.079999999999998,
           false
          ],
          [
           "2024-12-09",
           "2024-12-09T13:00:00-05:00",
           "2024-12-08T17:45:43.653568-05:00",
           19.23787400888889,
           -2.0799999999999983,
           false
          ],
          [
           "2024-12-09",
           "2024-12-09T14:00:00-05:00",
           "2024-12-08T17:45:43.653568-05:00",
           20.23787400888889,
           -2.0799999999999983,
           false
          ],
          [
           "2024-12-09",
           "2024-12-09T15:00:00-05:00",
           "2024-12-08T17:45:43.653568-05:00",
           21.23787400888889,
           -1.0799999999999983,
           false
          ],
          [
           "2024-12-09",
           "2024-12-09T16:00:00-05:00",
           "2024-12-08T17:45:43.653568-05:00",
           22.23787400888889,
           -1.0799999999999983,
           false
          ],
          [
           "2024-12-09",
           "2024-12-09T17:00:00-05:00",
           "2024-12-08T17:45:43.653568-05:00",
           23.23787400888889,
           -1.0799999999999983,
           false
          ],
          [
           "2024-12-09",
           "2024-12-09T06:00:00-05:00",
           "2024-12-08T17:50:43.586326-05:00",
           12.15455935388889,
           -14.079999999999998,
           false
          ],
          [
           "2024-12-09",
           "2024-12-09T07:00:00-05:00",
           "2024-12-08T17:50:43.586326-05:00",
           13.15455935388889,
           -13.079999999999998,
           false
          ],
          [
           "2024-12-09",
           "2024-12-09T08:00:00-05:00",
           "2024-12-08T17:50:43.586326-05:00",
           14.15455935388889,
           -12.079999999999998,
           false
          ],
          [
           "2024-12-09",
           "2024-12-09T09:00:00-05:00",
           "2024-12-08T17:50:43.586326-05:00",
           15.15455935388889,
           -10.079999999999998,
           false
          ],
          [
           "2024-12-09",
           "2024-12-09T10:00:00-05:00",
           "2024-12-08T17:50:43.586326-05:00",
           16.15455935388889,
           -7.079999999999998,
           false
          ],
          [
           "2024-12-09",
           "2024-12-09T11:00:00-05:00",
           "2024-12-08T17:50:43.586326-05:00",
           17.15455935388889,
           -6.079999999999998,
           false
          ],
          [
           "2024-12-09",
           "2024-12-09T12:00:00-05:00",
           "2024-12-08T17:50:43.586326-05:00",
           18.15455935388889,
           -4.079999999999998,
           false
          ],
          [
           "2024-12-09",
           "2024-12-09T13:00:00-05:00",
           "2024-12-08T17:50:43.586326-05:00",
           19.15455935388889,
           -2.0799999999999983,
           false
          ],
          [
           "2024-12-09",
           "2024-12-09T14:00:00-05:00",
           "2024-12-08T17:50:43.586326-05:00",
           20.15455935388889,
           -2.0799999999999983,
           false
          ],
          [
           "2024-12-09",
           "2024-12-09T15:00:00-05:00",
           "2024-12-08T17:50:43.586326-05:00",
           21.15455935388889,
           -1.0799999999999983,
           false
          ],
          [
           "2024-12-09",
           "2024-12-09T16:00:00-05:00",
           "2024-12-08T17:50:43.586326-05:00",
           22.15455935388889,
           -1.0799999999999983,
           false
          ],
          [
           "2024-12-09",
           "2024-12-09T17:00:00-05:00",
           "2024-12-08T17:50:43.586326-05:00",
           23.15455935388889,
           -1.0799999999999983,
           false
          ],
          [
           "2024-12-09",
           "2024-12-09T06:00:00-05:00",
           "2024-12-08T18:05:39.752663-05:00",
           11.905624260277778,
           -14.079999999999998,
           false
          ],
          [
           "2024-12-09",
           "2024-12-09T07:00:00-05:00",
           "2024-12-08T18:05:39.752663-05:00",
           12.905624260277778,
           -13.079999999999998,
           false
          ],
          [
           "2024-12-09",
           "2024-12-09T08:00:00-05:00",
           "2024-12-08T18:05:39.752663-05:00",
           13.905624260277778,
           -12.079999999999998,
           false
          ],
          [
           "2024-12-09",
           "2024-12-09T09:00:00-05:00",
           "2024-12-08T18:05:39.752663-05:00",
           14.905624260277778,
           -10.079999999999998,
           false
          ],
          [
           "2024-12-09",
           "2024-12-09T10:00:00-05:00",
           "2024-12-08T18:05:39.752663-05:00",
           15.905624260277778,
           -7.079999999999998,
           false
          ],
          [
           "2024-12-09",
           "2024-12-09T11:00:00-05:00",
           "2024-12-08T18:05:39.752663-05:00",
           16.90562426027778,
           -6.079999999999998,
           false
          ],
          [
           "2024-12-09",
           "2024-12-09T12:00:00-05:00",
           "2024-12-08T18:05:39.752663-05:00",
           17.90562426027778,
           -4.079999999999998,
           false
          ],
          [
           "2024-12-09",
           "2024-12-09T13:00:00-05:00",
           "2024-12-08T18:05:39.752663-05:00",
           18.905624260277776,
           -2.0799999999999983,
           false
          ],
          [
           "2024-12-09",
           "2024-12-09T14:00:00-05:00",
           "2024-12-08T18:05:39.752663-05:00",
           19.905624260277776,
           -2.0799999999999983,
           false
          ],
          [
           "2024-12-09",
           "2024-12-09T15:00:00-05:00",
           "2024-12-08T18:05:39.752663-05:00",
           20.905624260277776,
           -1.0799999999999983,
           false
          ],
          [
           "2024-12-09",
           "2024-12-09T16:00:00-05:00",
           "2024-12-08T18:05:39.752663-05:00",
           21.905624260277776,
           -1.0799999999999983,
           false
          ],
          [
           "2024-12-09",
           "2024-12-09T17:00:00-05:00",
           "2024-12-08T18:05:39.752663-05:00",
           22.905624260277776,
           -1.0799999999999983,
           false
          ],
          [
           "2024-12-09",
           "2024-12-09T06:00:00-05:00",
           "2024-12-08T19:50:43.645828-05:00",
           10.154542825555556,
           -14.079999999999998,
           false
          ],
          [
           "2024-12-09",
           "2024-12-09T07:00:00-05:00",
           "2024-12-08T19:50:43.645828-05:00",
           11.154542825555556,
           -13.079999999999998,
           false
          ],
          [
           "2024-12-09",
           "2024-12-09T08:00:00-05:00",
           "2024-12-08T19:50:43.645828-05:00",
           12.154542825555556,
           -12.079999999999998,
           false
          ],
          [
           "2024-12-09",
           "2024-12-09T09:00:00-05:00",
           "2024-12-08T19:50:43.645828-05:00",
           13.154542825555556,
           -10.079999999999998,
           false
          ],
          [
           "2024-12-09",
           "2024-12-09T10:00:00-05:00",
           "2024-12-08T19:50:43.645828-05:00",
           14.154542825555556,
           -7.079999999999998,
           false
          ],
          [
           "2024-12-09",
           "2024-12-09T11:00:00-05:00",
           "2024-12-08T19:50:43.645828-05:00",
           15.154542825555556,
           -6.079999999999998,
           false
          ],
          [
           "2024-12-09",
           "2024-12-09T12:00:00-05:00",
           "2024-12-08T19:50:43.645828-05:00",
           16.154542825555556,
           -4.079999999999998,
           false
          ],
          [
           "2024-12-09",
           "2024-12-09T13:00:00-05:00",
           "2024-12-08T19:50:43.645828-05:00",
           17.154542825555556,
           -2.0799999999999983,
           false
          ],
          [
           "2024-12-09",
           "2024-12-09T14:00:00-05:00",
           "2024-12-08T19:50:43.645828-05:00",
           18.154542825555556,
           -2.0799999999999983,
           false
          ],
          [
           "2024-12-09",
           "2024-12-09T15:00:00-05:00",
           "2024-12-08T19:50:43.645828-05:00",
           19.154542825555556,
           -1.0799999999999983,
           false
          ],
          [
           "2024-12-09",
           "2024-12-09T16:00:00-05:00",
           "2024-12-08T19:50:43.645828-05:00",
           20.154542825555556,
           -1.0799999999999983,
           false
          ],
          [
           "2024-12-09",
           "2024-12-09T17:00:00-05:00",
           "2024-12-08T19:50:43.645828-05:00",
           21.154542825555556,
           -1.0799999999999983,
           false
          ],
          [
           "2024-12-09",
           "2024-12-09T06:00:00-05:00",
           "2024-12-08T21:25:43.634181-05:00",
           8.571212727499999,
           -9.079999999999998,
           false
          ],
          [
           "2024-12-09",
           "2024-12-09T07:00:00-05:00",
           "2024-12-08T21:25:43.634181-05:00",
           9.571212727499999,
           -9.079999999999998,
           false
          ],
          [
           "2024-12-09",
           "2024-12-09T08:00:00-05:00",
           "2024-12-08T21:25:43.634181-05:00",
           10.571212727499999,
           -10.079999999999998,
           false
          ],
          [
           "2024-12-09",
           "2024-12-09T09:00:00-05:00",
           "2024-12-08T21:25:43.634181-05:00",
           11.571212727499999,
           -10.079999999999998,
           false
          ],
          [
           "2024-12-09",
           "2024-12-09T10:00:00-05:00",
           "2024-12-08T21:25:43.634181-05:00",
           12.571212727499999,
           -7.079999999999998,
           false
          ],
          [
           "2024-12-09",
           "2024-12-09T11:00:00-05:00",
           "2024-12-08T21:25:43.634181-05:00",
           13.571212727499999,
           -6.079999999999998,
           false
          ],
          [
           "2024-12-09",
           "2024-12-09T12:00:00-05:00",
           "2024-12-08T21:25:43.634181-05:00",
           14.571212727499999,
           -4.079999999999998,
           false
          ],
          [
           "2024-12-09",
           "2024-12-09T13:00:00-05:00",
           "2024-12-08T21:25:43.634181-05:00",
           15.571212727499999,
           -2.0799999999999983,
           false
          ],
          [
           "2024-12-09",
           "2024-12-09T14:00:00-05:00",
           "2024-12-08T21:25:43.634181-05:00",
           16.5712127275,
           -2.0799999999999983,
           false
          ],
          [
           "2024-12-09",
           "2024-12-09T15:00:00-05:00",
           "2024-12-08T21:25:43.634181-05:00",
           17.5712127275,
           -1.0799999999999983,
           false
          ],
          [
           "2024-12-09",
           "2024-12-09T16:00:00-05:00",
           "2024-12-08T21:25:43.634181-05:00",
           18.5712127275,
           -1.0799999999999983,
           false
          ],
          [
           "2024-12-09",
           "2024-12-09T17:00:00-05:00",
           "2024-12-08T21:25:43.634181-05:00",
           19.5712127275,
           -1.0799999999999983,
           false
          ],
          [
           "2024-12-09",
           "2024-12-09T07:00:00-05:00",
           "2024-12-08T21:30:43.559033-05:00",
           9.487900268611112,
           -9.079999999999998,
           false
          ],
          [
           "2024-12-09",
           "2024-12-09T08:00:00-05:00",
           "2024-12-08T21:30:43.559033-05:00",
           10.487900268611112,
           -10.079999999999998,
           false
          ],
          [
           "2024-12-09",
           "2024-12-09T09:00:00-05:00",
           "2024-12-08T21:30:43.559033-05:00",
           11.487900268611112,
           -10.079999999999998,
           false
          ],
          [
           "2024-12-09",
           "2024-12-09T10:00:00-05:00",
           "2024-12-08T21:30:43.559033-05:00",
           12.487900268611112,
           -7.079999999999998,
           false
          ],
          [
           "2024-12-09",
           "2024-12-09T11:00:00-05:00",
           "2024-12-08T21:30:43.559033-05:00",
           13.487900268611112,
           -6.079999999999998,
           false
          ],
          [
           "2024-12-09",
           "2024-12-09T12:00:00-05:00",
           "2024-12-08T21:30:43.559033-05:00",
           14.487900268611112,
           -4.079999999999998,
           false
          ],
          [
           "2024-12-09",
           "2024-12-09T13:00:00-05:00",
           "2024-12-08T21:30:43.559033-05:00",
           15.487900268611112,
           -2.0799999999999983,
           false
          ],
          [
           "2024-12-09",
           "2024-12-09T14:00:00-05:00",
           "2024-12-08T21:30:43.559033-05:00",
           16.48790026861111,
           -2.0799999999999983,
           false
          ],
          [
           "2024-12-09",
           "2024-12-09T15:00:00-05:00",
           "2024-12-08T21:30:43.559033-05:00",
           17.48790026861111,
           -1.0799999999999983,
           false
          ],
          [
           "2024-12-09",
           "2024-12-09T16:00:00-05:00",
           "2024-12-08T21:30:43.559033-05:00",
           18.48790026861111,
           -1.0799999999999983,
           false
          ],
          [
           "2024-12-09",
           "2024-12-09T17:00:00-05:00",
           "2024-12-08T21:30:43.559033-05:00",
           19.48790026861111,
           -1.0799999999999983,
           false
          ],
          [
           "2024-12-09",
           "2024-12-09T06:00:00-05:00",
           "2024-12-08T20:48:28.756609-05:00",
           9.192012053055556,
           -9.079999999999998,
           false
          ],
          [
           "2024-12-09",
           "2024-12-09T07:00:00-05:00",
           "2024-12-08T20:48:28.756609-05:00",
           10.192012053055556,
           -9.079999999999998,
           false
          ],
          [
           "2024-12-09",
           "2024-12-09T08:00:00-05:00",
           "2024-12-08T20:48:28.756609-05:00",
           11.192012053055556,
           -10.079999999999998,
           false
          ],
          [
           "2024-12-09",
           "2024-12-09T09:00:00-05:00",
           "2024-12-08T20:48:28.756609-05:00",
           12.192012053055556,
           -10.079999999999998,
           false
          ],
          [
           "2024-12-09",
           "2024-12-09T10:00:00-05:00",
           "2024-12-08T20:48:28.756609-05:00",
           13.192012053055556,
           -7.079999999999998,
           false
          ],
          [
           "2024-12-09",
           "2024-12-09T11:00:00-05:00",
           "2024-12-08T20:48:28.756609-05:00",
           14.192012053055556,
           -6.079999999999998,
           false
          ],
          [
           "2024-12-09",
           "2024-12-09T12:00:00-05:00",
           "2024-12-08T20:48:28.756609-05:00",
           15.192012053055556,
           -4.079999999999998,
           false
          ],
          [
           "2024-12-09",
           "2024-12-09T13:00:00-05:00",
           "2024-12-08T20:48:28.756609-05:00",
           16.192012053055556,
           -2.0799999999999983,
           false
          ],
          [
           "2024-12-09",
           "2024-12-09T14:00:00-05:00",
           "2024-12-08T20:48:28.756609-05:00",
           17.192012053055556,
           -2.0799999999999983,
           false
          ],
          [
           "2024-12-09",
           "2024-12-09T15:00:00-05:00",
           "2024-12-08T20:48:28.756609-05:00",
           18.192012053055556,
           -1.0799999999999983,
           false
          ],
          [
           "2024-12-09",
           "2024-12-09T16:00:00-05:00",
           "2024-12-08T20:48:28.756609-05:00",
           19.192012053055553,
           -1.0799999999999983,
           false
          ],
          [
           "2024-12-09",
           "2024-12-09T17:00:00-05:00",
           "2024-12-08T20:48:28.756609-05:00",
           20.192012053055553,
           -1.0799999999999983,
           false
          ],
          [
           "2024-12-09",
           "2024-12-09T06:00:00-05:00",
           "2024-12-08T20:36:05.118325-05:00",
           9.398578243055555,
           -9.079999999999998,
           false
          ],
          [
           "2024-12-09",
           "2024-12-09T07:00:00-05:00",
           "2024-12-08T20:36:05.118325-05:00",
           10.398578243055555,
           -9.079999999999998,
           false
          ],
          [
           "2024-12-09",
           "2024-12-09T08:00:00-05:00",
           "2024-12-08T20:36:05.118325-05:00",
           11.398578243055555,
           -10.079999999999998,
           false
          ],
          [
           "2024-12-09",
           "2024-12-09T09:00:00-05:00",
           "2024-12-08T20:36:05.118325-05:00",
           12.398578243055555,
           -10.079999999999998,
           false
          ],
          [
           "2024-12-09",
           "2024-12-09T10:00:00-05:00",
           "2024-12-08T20:36:05.118325-05:00",
           13.398578243055555,
           -7.079999999999998,
           false
          ],
          [
           "2024-12-09",
           "2024-12-09T11:00:00-05:00",
           "2024-12-08T20:36:05.118325-05:00",
           14.398578243055555,
           -6.079999999999998,
           false
          ],
          [
           "2024-12-09",
           "2024-12-09T12:00:00-05:00",
           "2024-12-08T20:36:05.118325-05:00",
           15.398578243055555,
           -4.079999999999998,
           false
          ],
          [
           "2024-12-09",
           "2024-12-09T13:00:00-05:00",
           "2024-12-08T20:36:05.118325-05:00",
           16.398578243055553,
           -2.0799999999999983,
           false
          ],
          [
           "2024-12-09",
           "2024-12-09T14:00:00-05:00",
           "2024-12-08T20:36:05.118325-05:00",
           17.398578243055553,
           -2.0799999999999983,
           false
          ],
          [
           "2024-12-09",
           "2024-12-09T15:00:00-05:00",
           "2024-12-08T20:36:05.118325-05:00",
           18.398578243055553,
           -1.0799999999999983,
           false
          ],
          [
           "2024-12-09",
           "2024-12-09T16:00:00-05:00",
           "2024-12-08T20:36:05.118325-05:00",
           19.398578243055553,
           -1.0799999999999983,
           false
          ],
          [
           "2024-12-09",
           "2024-12-09T17:00:00-05:00",
           "2024-12-08T20:36:05.118325-05:00",
           20.398578243055553,
           -1.0799999999999983,
           false
          ],
          [
           "2024-12-09",
           "2024-12-09T06:00:00-05:00",
           "2024-12-08T20:52:37.969122-05:00",
           9.122786354999999,
           -9.079999999999998,
           false
          ],
          [
           "2024-12-09",
           "2024-12-09T07:00:00-05:00",
           "2024-12-08T20:52:37.969122-05:00",
           10.122786354999999,
           -9.079999999999998,
           false
          ],
          [
           "2024-12-09",
           "2024-12-09T08:00:00-05:00",
           "2024-12-08T20:52:37.969122-05:00",
           11.122786354999999,
           -10.079999999999998,
           false
          ],
          [
           "2024-12-09",
           "2024-12-09T09:00:00-05:00",
           "2024-12-08T20:52:37.969122-05:00",
           12.122786354999999,
           -10.079999999999998,
           false
          ],
          [
           "2024-12-09",
           "2024-12-09T10:00:00-05:00",
           "2024-12-08T20:52:37.969122-05:00",
           13.122786354999999,
           -7.079999999999998,
           false
          ],
          [
           "2024-12-09",
           "2024-12-09T11:00:00-05:00",
           "2024-12-08T20:52:37.969122-05:00",
           14.122786354999999,
           -6.079999999999998,
           false
          ],
          [
           "2024-12-09",
           "2024-12-09T12:00:00-05:00",
           "2024-12-08T20:52:37.969122-05:00",
           15.122786354999999,
           -4.079999999999998,
           false
          ],
          [
           "2024-12-09",
           "2024-12-09T13:00:00-05:00",
           "2024-12-08T20:52:37.969122-05:00",
           16.122786355,
           -2.0799999999999983,
           false
          ],
          [
           "2024-12-09",
           "2024-12-09T14:00:00-05:00",
           "2024-12-08T20:52:37.969122-05:00",
           17.122786355,
           -2.0799999999999983,
           false
          ],
          [
           "2024-12-09",
           "2024-12-09T15:00:00-05:00",
           "2024-12-08T20:52:37.969122-05:00",
           18.122786355,
           -1.0799999999999983,
           false
          ],
          [
           "2024-12-09",
           "2024-12-09T16:00:00-05:00",
           "2024-12-08T20:52:37.969122-05:00",
           19.122786355000002,
           -1.0799999999999983,
           false
          ],
          [
           "2024-12-09",
           "2024-12-09T17:00:00-05:00",
           "2024-12-08T20:52:37.969122-05:00",
           20.122786355000002,
           -1.0799999999999983,
           false
          ],
          [
           "2024-12-09",
           "2024-12-09T06:00:00-05:00",
           "2024-12-08T20:55:01.231355-05:00",
           9.082991290277779,
           -9.079999999999998,
           false
          ],
          [
           "2024-12-09",
           "2024-12-09T07:00:00-05:00",
           "2024-12-08T20:55:01.231355-05:00",
           10.082991290277777,
           -9.079999999999998,
           false
          ],
          [
           "2024-12-09",
           "2024-12-09T08:00:00-05:00",
           "2024-12-08T20:55:01.231355-05:00",
           11.082991290277777,
           -10.079999999999998,
           false
          ],
          [
           "2024-12-09",
           "2024-12-09T09:00:00-05:00",
           "2024-12-08T20:55:01.231355-05:00",
           12.082991290277777,
           -10.079999999999998,
           false
          ],
          [
           "2024-12-09",
           "2024-12-09T10:00:00-05:00",
           "2024-12-08T20:55:01.231355-05:00",
           13.082991290277777,
           -7.079999999999998,
           false
          ],
          [
           "2024-12-09",
           "2024-12-09T11:00:00-05:00",
           "2024-12-08T20:55:01.231355-05:00",
           14.082991290277777,
           -6.079999999999998,
           false
          ],
          [
           "2024-12-09",
           "2024-12-09T12:00:00-05:00",
           "2024-12-08T20:55:01.231355-05:00",
           15.082991290277777,
           -4.079999999999998,
           false
          ],
          [
           "2024-12-09",
           "2024-12-09T13:00:00-05:00",
           "2024-12-08T20:55:01.231355-05:00",
           16.08299129027778,
           -2.0799999999999983,
           false
          ],
          [
           "2024-12-09",
           "2024-12-09T14:00:00-05:00",
           "2024-12-08T20:55:01.231355-05:00",
           17.08299129027778,
           -2.0799999999999983,
           false
          ],
          [
           "2024-12-09",
           "2024-12-09T15:00:00-05:00",
           "2024-12-08T20:55:01.231355-05:00",
           18.08299129027778,
           -1.0799999999999983,
           false
          ],
          [
           "2024-12-09",
           "2024-12-09T16:00:00-05:00",
           "2024-12-08T20:55:01.231355-05:00",
           19.08299129027778,
           -1.0799999999999983,
           false
          ],
          [
           "2024-12-09",
           "2024-12-09T17:00:00-05:00",
           "2024-12-08T20:55:01.231355-05:00",
           20.08299129027778,
           -1.0799999999999983,
           false
          ],
          [
           "2024-12-09",
           "2024-12-09T06:00:00-05:00",
           "2024-12-08T21:05:43.428977-05:00",
           8.904603061944444,
           -9.079999999999998,
           false
          ],
          [
           "2024-12-09",
           "2024-12-09T07:00:00-05:00",
           "2024-12-08T21:05:43.428977-05:00",
           9.904603061944444,
           -9.079999999999998,
           false
          ],
          [
           "2024-12-09",
           "2024-12-09T08:00:00-05:00",
           "2024-12-08T21:05:43.428977-05:00",
           10.904603061944444,
           -10.079999999999998,
           false
          ],
          [
           "2024-12-09",
           "2024-12-09T09:00:00-05:00",
           "2024-12-08T21:05:43.428977-05:00",
           11.904603061944444,
           -10.079999999999998,
           false
          ],
          [
           "2024-12-09",
           "2024-12-09T10:00:00-05:00",
           "2024-12-08T21:05:43.428977-05:00",
           12.904603061944444,
           -7.079999999999998,
           false
          ],
          [
           "2024-12-09",
           "2024-12-09T11:00:00-05:00",
           "2024-12-08T21:05:43.428977-05:00",
           13.904603061944444,
           -6.079999999999998,
           false
          ],
          [
           "2024-12-09",
           "2024-12-09T12:00:00-05:00",
           "2024-12-08T21:05:43.428977-05:00",
           14.904603061944444,
           -4.079999999999998,
           false
          ],
          [
           "2024-12-09",
           "2024-12-09T13:00:00-05:00",
           "2024-12-08T21:05:43.428977-05:00",
           15.904603061944444,
           -2.0799999999999983,
           false
          ],
          [
           "2024-12-09",
           "2024-12-09T14:00:00-05:00",
           "2024-12-08T21:05:43.428977-05:00",
           16.904603061944442,
           -2.0799999999999983,
           false
          ],
          [
           "2024-12-09",
           "2024-12-09T15:00:00-05:00",
           "2024-12-08T21:05:43.428977-05:00",
           17.904603061944442,
           -1.0799999999999983,
           false
          ],
          [
           "2024-12-09",
           "2024-12-09T16:00:00-05:00",
           "2024-12-08T21:05:43.428977-05:00",
           18.904603061944442,
           -1.0799999999999983,
           false
          ],
          [
           "2024-12-09",
           "2024-12-09T17:00:00-05:00",
           "2024-12-08T21:05:43.428977-05:00",
           19.904603061944442,
           -1.0799999999999983,
           false
          ],
          [
           "2024-12-09",
           "2024-12-09T06:00:00-05:00",
           "2024-12-08T21:16:21.881282-05:00",
           8.727255199444445,
           -9.079999999999998,
           false
          ],
          [
           "2024-12-09",
           "2024-12-09T07:00:00-05:00",
           "2024-12-08T21:16:21.881282-05:00",
           9.727255199444445,
           -9.079999999999998,
           false
          ],
          [
           "2024-12-09",
           "2024-12-09T08:00:00-05:00",
           "2024-12-08T21:16:21.881282-05:00",
           10.727255199444445,
           -10.079999999999998,
           false
          ],
          [
           "2024-12-09",
           "2024-12-09T09:00:00-05:00",
           "2024-12-08T21:16:21.881282-05:00",
           11.727255199444445,
           -10.079999999999998,
           false
          ],
          [
           "2024-12-09",
           "2024-12-09T10:00:00-05:00",
           "2024-12-08T21:16:21.881282-05:00",
           12.727255199444445,
           -7.079999999999998,
           false
          ],
          [
           "2024-12-09",
           "2024-12-09T11:00:00-05:00",
           "2024-12-08T21:16:21.881282-05:00",
           13.727255199444445,
           -6.079999999999998,
           false
          ],
          [
           "2024-12-09",
           "2024-12-09T12:00:00-05:00",
           "2024-12-08T21:16:21.881282-05:00",
           14.727255199444445,
           -4.079999999999998,
           false
          ],
          [
           "2024-12-09",
           "2024-12-09T13:00:00-05:00",
           "2024-12-08T21:16:21.881282-05:00",
           15.727255199444445,
           -2.0799999999999983,
           false
          ],
          [
           "2024-12-09",
           "2024-12-09T14:00:00-05:00",
           "2024-12-08T21:16:21.881282-05:00",
           16.727255199444443,
           -2.0799999999999983,
           false
          ],
          [
           "2024-12-09",
           "2024-12-09T15:00:00-05:00",
           "2024-12-08T21:16:21.881282-05:00",
           17.727255199444443,
           -1.0799999999999983,
           false
          ],
          [
           "2024-12-09",
           "2024-12-09T16:00:00-05:00",
           "2024-12-08T21:16:21.881282-05:00",
           18.727255199444443,
           -1.0799999999999983,
           false
          ],
          [
           "2024-12-09",
           "2024-12-09T17:00:00-05:00",
           "2024-12-08T21:16:21.881282-05:00",
           19.727255199444443,
           -1.0799999999999983,
           false
          ],
          [
           "2024-12-09",
           "2024-12-09T06:00:00-05:00",
           "2024-12-08T21:18:18.776239-05:00",
           8.694784378055555,
           -9.079999999999998,
           false
          ],
          [
           "2024-12-09",
           "2024-12-09T07:00:00-05:00",
           "2024-12-08T21:18:18.776239-05:00",
           9.694784378055555,
           -9.079999999999998,
           false
          ],
          [
           "2024-12-09",
           "2024-12-09T08:00:00-05:00",
           "2024-12-08T21:18:18.776239-05:00",
           10.694784378055555,
           -10.079999999999998,
           false
          ],
          [
           "2024-12-09",
           "2024-12-09T09:00:00-05:00",
           "2024-12-08T21:18:18.776239-05:00",
           11.694784378055555,
           -10.079999999999998,
           false
          ],
          [
           "2024-12-09",
           "2024-12-09T10:00:00-05:00",
           "2024-12-08T21:18:18.776239-05:00",
           12.694784378055555,
           -7.079999999999998,
           false
          ],
          [
           "2024-12-09",
           "2024-12-09T11:00:00-05:00",
           "2024-12-08T21:18:18.776239-05:00",
           13.694784378055555,
           -6.079999999999998,
           false
          ],
          [
           "2024-12-09",
           "2024-12-09T12:00:00-05:00",
           "2024-12-08T21:18:18.776239-05:00",
           14.694784378055555,
           -4.079999999999998,
           false
          ],
          [
           "2024-12-09",
           "2024-12-09T13:00:00-05:00",
           "2024-12-08T21:18:18.776239-05:00",
           15.694784378055555,
           -2.0799999999999983,
           false
          ],
          [
           "2024-12-09",
           "2024-12-09T14:00:00-05:00",
           "2024-12-08T21:18:18.776239-05:00",
           16.694784378055555,
           -2.0799999999999983,
           false
          ],
          [
           "2024-12-09",
           "2024-12-09T15:00:00-05:00",
           "2024-12-08T21:18:18.776239-05:00",
           17.694784378055555,
           -1.0799999999999983,
           false
          ],
          [
           "2024-12-09",
           "2024-12-09T16:00:00-05:00",
           "2024-12-08T21:18:18.776239-05:00",
           18.694784378055555,
           -1.0799999999999983,
           false
          ],
          [
           "2024-12-09",
           "2024-12-09T17:00:00-05:00",
           "2024-12-08T21:18:18.776239-05:00",
           19.694784378055555,
           -1.0799999999999983,
           false
          ],
          [
           "2024-12-09",
           "2024-12-09T06:00:00-05:00",
           "2024-12-08T21:19:41.204710-05:00",
           8.671887580555556,
           -9.079999999999998,
           false
          ],
          [
           "2024-12-09",
           "2024-12-09T07:00:00-05:00",
           "2024-12-08T21:19:41.204710-05:00",
           9.671887580555556,
           -9.079999999999998,
           false
          ],
          [
           "2024-12-09",
           "2024-12-09T08:00:00-05:00",
           "2024-12-08T21:19:41.204710-05:00",
           10.671887580555556,
           -10.079999999999998,
           false
          ],
          [
           "2024-12-09",
           "2024-12-09T09:00:00-05:00",
           "2024-12-08T21:19:41.204710-05:00",
           11.671887580555556,
           -10.079999999999998,
           false
          ],
          [
           "2024-12-09",
           "2024-12-09T10:00:00-05:00",
           "2024-12-08T21:19:41.204710-05:00",
           12.671887580555556,
           -7.079999999999998,
           false
          ],
          [
           "2024-12-09",
           "2024-12-09T11:00:00-05:00",
           "2024-12-08T21:19:41.204710-05:00",
           13.671887580555556,
           -6.079999999999998,
           false
          ],
          [
           "2024-12-09",
           "2024-12-09T12:00:00-05:00",
           "2024-12-08T21:19:41.204710-05:00",
           14.671887580555556,
           -4.079999999999998,
           false
          ],
          [
           "2024-12-09",
           "2024-12-09T13:00:00-05:00",
           "2024-12-08T21:19:41.204710-05:00",
           15.671887580555556,
           -2.0799999999999983,
           false
          ],
          [
           "2024-12-09",
           "2024-12-09T14:00:00-05:00",
           "2024-12-08T21:19:41.204710-05:00",
           16.671887580555556,
           -2.0799999999999983,
           false
          ],
          [
           "2024-12-09",
           "2024-12-09T15:00:00-05:00",
           "2024-12-08T21:19:41.204710-05:00",
           17.671887580555556,
           -1.0799999999999983,
           false
          ],
          [
           "2024-12-09",
           "2024-12-09T16:00:00-05:00",
           "2024-12-08T21:19:41.204710-05:00",
           18.671887580555556,
           -1.0799999999999983,
           false
          ],
          [
           "2024-12-09",
           "2024-12-09T17:00:00-05:00",
           "2024-12-08T21:19:41.204710-05:00",
           19.671887580555556,
           -1.0799999999999983,
           false
          ],
          [
           "2024-12-09",
           "2024-12-09T06:00:00-05:00",
           "2024-12-08T21:30:43.559033-05:00",
           8.48790026861111,
           -9.079999999999998,
           false
          ],
          [
           "2024-12-09",
           "2024-12-09T06:00:00-05:00",
           "2024-12-08T21:46:48.015935-05:00",
           8.219995573611111,
           -9.079999999999998,
           false
          ],
          [
           "2024-12-09",
           "2024-12-09T07:00:00-05:00",
           "2024-12-08T21:46:48.015935-05:00",
           9.21999557361111,
           -9.079999999999998,
           false
          ],
          [
           "2024-12-09",
           "2024-12-09T08:00:00-05:00",
           "2024-12-08T21:46:48.015935-05:00",
           10.21999557361111,
           -10.079999999999998,
           false
          ],
          [
           "2024-12-09",
           "2024-12-09T09:00:00-05:00",
           "2024-12-08T21:46:48.015935-05:00",
           11.21999557361111,
           -10.079999999999998,
           false
          ],
          [
           "2024-12-09",
           "2024-12-09T10:00:00-05:00",
           "2024-12-08T21:46:48.015935-05:00",
           12.21999557361111,
           -7.079999999999998,
           false
          ],
          [
           "2024-12-09",
           "2024-12-09T11:00:00-05:00",
           "2024-12-08T21:46:48.015935-05:00",
           13.21999557361111,
           -6.079999999999998,
           false
          ],
          [
           "2024-12-09",
           "2024-12-09T12:00:00-05:00",
           "2024-12-08T21:46:48.015935-05:00",
           14.21999557361111,
           -4.079999999999998,
           false
          ],
          [
           "2024-12-09",
           "2024-12-09T13:00:00-05:00",
           "2024-12-08T21:46:48.015935-05:00",
           15.21999557361111,
           -2.0799999999999983,
           false
          ],
          [
           "2024-12-09",
           "2024-12-09T14:00:00-05:00",
           "2024-12-08T21:46:48.015935-05:00",
           16.21999557361111,
           -2.0799999999999983,
           false
          ],
          [
           "2024-12-09",
           "2024-12-09T15:00:00-05:00",
           "2024-12-08T21:46:48.015935-05:00",
           17.21999557361111,
           -1.0799999999999983,
           false
          ],
          [
           "2024-12-09",
           "2024-12-09T16:00:00-05:00",
           "2024-12-08T21:46:48.015935-05:00",
           18.21999557361111,
           -1.0799999999999983,
           false
          ],
          [
           "2024-12-09",
           "2024-12-09T17:00:00-05:00",
           "2024-12-08T21:46:48.015935-05:00",
           19.21999557361111,
           -1.0799999999999983,
           false
          ],
          [
           "2024-12-09",
           "2024-12-09T06:00:00-05:00",
           "2024-12-08T21:50:43.753063-05:00",
           8.154513038055555,
           -9.079999999999998,
           false
          ],
          [
           "2024-12-09",
           "2024-12-09T07:00:00-05:00",
           "2024-12-08T21:50:43.753063-05:00",
           9.154513038055557,
           -9.079999999999998,
           false
          ],
          [
           "2024-12-09",
           "2024-12-09T08:00:00-05:00",
           "2024-12-08T21:50:43.753063-05:00",
           10.154513038055557,
           -10.079999999999998,
           false
          ],
          [
           "2024-12-09",
           "2024-12-09T09:00:00-05:00",
           "2024-12-08T21:50:43.753063-05:00",
           11.154513038055557,
           -10.079999999999998,
           false
          ],
          [
           "2024-12-09",
           "2024-12-09T10:00:00-05:00",
           "2024-12-08T21:50:43.753063-05:00",
           12.154513038055557,
           -7.079999999999998,
           false
          ],
          [
           "2024-12-09",
           "2024-12-09T11:00:00-05:00",
           "2024-12-08T21:50:43.753063-05:00",
           13.154513038055557,
           -6.079999999999998,
           false
          ],
          [
           "2024-12-09",
           "2024-12-09T12:00:00-05:00",
           "2024-12-08T21:50:43.753063-05:00",
           14.154513038055557,
           -4.079999999999998,
           false
          ],
          [
           "2024-12-09",
           "2024-12-09T13:00:00-05:00",
           "2024-12-08T21:50:43.753063-05:00",
           15.154513038055557,
           -2.0799999999999983,
           false
          ],
          [
           "2024-12-09",
           "2024-12-09T14:00:00-05:00",
           "2024-12-08T21:50:43.753063-05:00",
           16.154513038055555,
           -2.0799999999999983,
           false
          ],
          [
           "2024-12-09",
           "2024-12-09T15:00:00-05:00",
           "2024-12-08T21:50:43.753063-05:00",
           17.154513038055555,
           -1.0799999999999983,
           false
          ],
          [
           "2024-12-09",
           "2024-12-09T16:00:00-05:00",
           "2024-12-08T21:50:43.753063-05:00",
           18.154513038055555,
           -1.0799999999999983,
           false
          ],
          [
           "2024-12-09",
           "2024-12-09T17:00:00-05:00",
           "2024-12-08T21:50:43.753063-05:00",
           19.154513038055555,
           -1.0799999999999983,
           false
          ],
          [
           "2024-12-09",
           "2024-12-09T06:00:00-05:00",
           "2024-12-08T21:55:43.803300-05:00",
           8.07116575,
           -9.079999999999998,
           false
          ],
          [
           "2024-12-09",
           "2024-12-09T07:00:00-05:00",
           "2024-12-08T21:55:43.803300-05:00",
           9.07116575,
           -9.079999999999998,
           false
          ],
          [
           "2024-12-09",
           "2024-12-09T08:00:00-05:00",
           "2024-12-08T21:55:43.803300-05:00",
           10.07116575,
           -10.079999999999998,
           false
          ],
          [
           "2024-12-09",
           "2024-12-09T09:00:00-05:00",
           "2024-12-08T21:55:43.803300-05:00",
           11.07116575,
           -10.079999999999998,
           false
          ],
          [
           "2024-12-09",
           "2024-12-09T10:00:00-05:00",
           "2024-12-08T21:55:43.803300-05:00",
           12.07116575,
           -7.079999999999998,
           false
          ],
          [
           "2024-12-09",
           "2024-12-09T11:00:00-05:00",
           "2024-12-08T21:55:43.803300-05:00",
           13.07116575,
           -6.079999999999998,
           false
          ],
          [
           "2024-12-09",
           "2024-12-09T12:00:00-05:00",
           "2024-12-08T21:55:43.803300-05:00",
           14.07116575,
           -4.079999999999998,
           false
          ],
          [
           "2024-12-09",
           "2024-12-09T13:00:00-05:00",
           "2024-12-08T21:55:43.803300-05:00",
           15.07116575,
           -2.0799999999999983,
           false
          ],
          [
           "2024-12-09",
           "2024-12-09T14:00:00-05:00",
           "2024-12-08T21:55:43.803300-05:00",
           16.07116575,
           -2.0799999999999983,
           false
          ],
          [
           "2024-12-09",
           "2024-12-09T15:00:00-05:00",
           "2024-12-08T21:55:43.803300-05:00",
           17.07116575,
           -1.0799999999999983,
           false
          ],
          [
           "2024-12-09",
           "2024-12-09T16:00:00-05:00",
           "2024-12-08T21:55:43.803300-05:00",
           18.07116575,
           -1.0799999999999983,
           false
          ],
          [
           "2024-12-09",
           "2024-12-09T17:00:00-05:00",
           "2024-12-08T21:55:43.803300-05:00",
           19.07116575,
           -1.0799999999999983,
           false
          ],
          [
           "2024-12-09",
           "2024-12-09T06:00:00-05:00",
           "2024-12-08T22:00:39.882959-05:00",
           7.988921400277778,
           -9.079999999999998,
           false
          ],
          [
           "2024-12-09",
           "2024-12-09T07:00:00-05:00",
           "2024-12-08T22:00:39.882959-05:00",
           8.988921400277778,
           -9.079999999999998,
           false
          ],
          [
           "2024-12-09",
           "2024-12-09T08:00:00-05:00",
           "2024-12-08T22:00:39.882959-05:00",
           9.988921400277777,
           -10.079999999999998,
           false
          ],
          [
           "2024-12-09",
           "2024-12-09T09:00:00-05:00",
           "2024-12-08T22:00:39.882959-05:00",
           10.988921400277777,
           -10.079999999999998,
           false
          ],
          [
           "2024-12-09",
           "2024-12-09T10:00:00-05:00",
           "2024-12-08T22:00:39.882959-05:00",
           11.988921400277777,
           -7.079999999999998,
           false
          ],
          [
           "2024-12-09",
           "2024-12-09T11:00:00-05:00",
           "2024-12-08T22:00:39.882959-05:00",
           12.988921400277777,
           -6.079999999999998,
           false
          ],
          [
           "2024-12-09",
           "2024-12-09T12:00:00-05:00",
           "2024-12-08T22:00:39.882959-05:00",
           13.988921400277777,
           -4.079999999999998,
           false
          ],
          [
           "2024-12-09",
           "2024-12-09T13:00:00-05:00",
           "2024-12-08T22:00:39.882959-05:00",
           14.988921400277777,
           -2.0799999999999983,
           false
          ],
          [
           "2024-12-09",
           "2024-12-09T14:00:00-05:00",
           "2024-12-08T22:00:39.882959-05:00",
           15.988921400277777,
           -2.0799999999999983,
           false
          ],
          [
           "2024-12-09",
           "2024-12-09T15:00:00-05:00",
           "2024-12-08T22:00:39.882959-05:00",
           16.98892140027778,
           -1.0799999999999983,
           false
          ],
          [
           "2024-12-09",
           "2024-12-09T16:00:00-05:00",
           "2024-12-08T22:00:39.882959-05:00",
           17.98892140027778,
           -1.0799999999999983,
           false
          ],
          [
           "2024-12-09",
           "2024-12-09T17:00:00-05:00",
           "2024-12-08T22:00:39.882959-05:00",
           18.98892140027778,
           -1.0799999999999983,
           false
          ],
          [
           "2024-12-09",
           "2024-12-09T06:00:00-05:00",
           "2024-12-08T22:05:39.764993-05:00",
           7.9056208352777775,
           -9.079999999999998,
           false
          ],
          [
           "2024-12-09",
           "2024-12-09T07:00:00-05:00",
           "2024-12-08T22:05:39.764993-05:00",
           8.905620835277778,
           -9.079999999999998,
           false
          ],
          [
           "2024-12-09",
           "2024-12-09T08:00:00-05:00",
           "2024-12-08T22:05:39.764993-05:00",
           9.905620835277778,
           -10.079999999999998,
           false
          ],
          [
           "2024-12-09",
           "2024-12-09T09:00:00-05:00",
           "2024-12-08T22:05:39.764993-05:00",
           10.905620835277778,
           -10.079999999999998,
           false
          ],
          [
           "2024-12-09",
           "2024-12-09T10:00:00-05:00",
           "2024-12-08T22:05:39.764993-05:00",
           11.905620835277778,
           -7.079999999999998,
           false
          ],
          [
           "2024-12-09",
           "2024-12-09T11:00:00-05:00",
           "2024-12-08T22:05:39.764993-05:00",
           12.905620835277778,
           -6.079999999999998,
           false
          ],
          [
           "2024-12-09",
           "2024-12-09T12:00:00-05:00",
           "2024-12-08T22:05:39.764993-05:00",
           13.905620835277778,
           -4.079999999999998,
           false
          ],
          [
           "2024-12-09",
           "2024-12-09T13:00:00-05:00",
           "2024-12-08T22:05:39.764993-05:00",
           14.905620835277778,
           -2.0799999999999983,
           false
          ],
          [
           "2024-12-09",
           "2024-12-09T14:00:00-05:00",
           "2024-12-08T22:05:39.764993-05:00",
           15.905620835277778,
           -2.0799999999999983,
           false
          ],
          [
           "2024-12-09",
           "2024-12-09T15:00:00-05:00",
           "2024-12-08T22:05:39.764993-05:00",
           16.90562083527778,
           -1.0799999999999983,
           false
          ],
          [
           "2024-12-09",
           "2024-12-09T16:00:00-05:00",
           "2024-12-08T22:05:39.764993-05:00",
           17.90562083527778,
           -1.0799999999999983,
           false
          ],
          [
           "2024-12-09",
           "2024-12-09T17:00:00-05:00",
           "2024-12-08T22:05:39.764993-05:00",
           18.905620835277777,
           -1.0799999999999983,
           false
          ],
          [
           "2024-12-09",
           "2024-12-09T06:00:00-05:00",
           "2024-12-08T22:10:39.973926-05:00",
           7.822229465,
           -9.079999999999998,
           false
          ],
          [
           "2024-12-09",
           "2024-12-09T07:00:00-05:00",
           "2024-12-08T22:10:39.973926-05:00",
           8.822229465,
           -9.079999999999998,
           false
          ],
          [
           "2024-12-09",
           "2024-12-09T08:00:00-05:00",
           "2024-12-08T22:10:39.973926-05:00",
           9.822229465,
           -10.079999999999998,
           false
          ],
          [
           "2024-12-09",
           "2024-12-09T09:00:00-05:00",
           "2024-12-08T22:10:39.973926-05:00",
           10.822229465,
           -10.079999999999998,
           false
          ],
          [
           "2024-12-09",
           "2024-12-09T10:00:00-05:00",
           "2024-12-08T22:10:39.973926-05:00",
           11.822229465,
           -7.079999999999998,
           false
          ],
          [
           "2024-12-09",
           "2024-12-09T11:00:00-05:00",
           "2024-12-08T22:10:39.973926-05:00",
           12.822229465,
           -6.079999999999998,
           false
          ],
          [
           "2024-12-09",
           "2024-12-09T12:00:00-05:00",
           "2024-12-08T22:10:39.973926-05:00",
           13.822229465,
           -4.079999999999998,
           false
          ],
          [
           "2024-12-09",
           "2024-12-09T13:00:00-05:00",
           "2024-12-08T22:10:39.973926-05:00",
           14.822229465,
           -2.0799999999999983,
           false
          ],
          [
           "2024-12-09",
           "2024-12-09T14:00:00-05:00",
           "2024-12-08T22:10:39.973926-05:00",
           15.822229465,
           -2.0799999999999983,
           false
          ],
          [
           "2024-12-09",
           "2024-12-09T15:00:00-05:00",
           "2024-12-08T22:10:39.973926-05:00",
           16.822229465,
           -1.0799999999999983,
           false
          ],
          [
           "2024-12-09",
           "2024-12-09T16:00:00-05:00",
           "2024-12-08T22:10:39.973926-05:00",
           17.822229465,
           -1.0799999999999983,
           false
          ],
          [
           "2024-12-09",
           "2024-12-09T17:00:00-05:00",
           "2024-12-08T22:10:39.973926-05:00",
           18.822229465,
           -1.0799999999999983,
           false
          ],
          [
           "2024-12-09",
           "2024-12-09T06:00:00-05:00",
           "2024-12-08T22:15:45.221002-05:00",
           7.737438610555556,
           -9.079999999999998,
           false
          ],
          [
           "2024-12-09",
           "2024-12-09T07:00:00-05:00",
           "2024-12-08T22:15:45.221002-05:00",
           8.737438610555555,
           -9.079999999999998,
           false
          ],
          [
           "2024-12-09",
           "2024-12-09T08:00:00-05:00",
           "2024-12-08T22:15:45.221002-05:00",
           9.737438610555555,
           -10.079999999999998,
           false
          ],
          [
           "2024-12-09",
           "2024-12-09T09:00:00-05:00",
           "2024-12-08T22:15:45.221002-05:00",
           10.737438610555555,
           -10.079999999999998,
           false
          ],
          [
           "2024-12-09",
           "2024-12-09T10:00:00-05:00",
           "2024-12-08T22:15:45.221002-05:00",
           11.737438610555555,
           -7.079999999999998,
           false
          ],
          [
           "2024-12-09",
           "2024-12-09T11:00:00-05:00",
           "2024-12-08T22:15:45.221002-05:00",
           12.737438610555555,
           -6.079999999999998,
           false
          ],
          [
           "2024-12-09",
           "2024-12-09T12:00:00-05:00",
           "2024-12-08T22:15:45.221002-05:00",
           13.737438610555555,
           -4.079999999999998,
           false
          ],
          [
           "2024-12-09",
           "2024-12-09T13:00:00-05:00",
           "2024-12-08T22:15:45.221002-05:00",
           14.737438610555555,
           -2.0799999999999983,
           false
          ],
          [
           "2024-12-09",
           "2024-12-09T14:00:00-05:00",
           "2024-12-08T22:15:45.221002-05:00",
           15.737438610555555,
           -2.0799999999999983,
           false
          ],
          [
           "2024-12-09",
           "2024-12-09T15:00:00-05:00",
           "2024-12-08T22:15:45.221002-05:00",
           16.737438610555557,
           -1.0799999999999983,
           false
          ],
          [
           "2024-12-09",
           "2024-12-09T16:00:00-05:00",
           "2024-12-08T22:15:45.221002-05:00",
           17.737438610555557,
           -1.0799999999999983,
           false
          ],
          [
           "2024-12-09",
           "2024-12-09T17:00:00-05:00",
           "2024-12-08T22:15:45.221002-05:00",
           18.737438610555554,
           -1.0799999999999983,
           false
          ],
          [
           "2024-12-09",
           "2024-12-09T06:00:00-05:00",
           "2024-12-08T23:00:25.697307-05:00",
           6.992861859166667,
           -7.079999999999998,
           false
          ],
          [
           "2024-12-09",
           "2024-12-09T07:00:00-05:00",
           "2024-12-08T23:00:25.697307-05:00",
           7.992861859166667,
           -8.079999999999998,
           false
          ],
          [
           "2024-12-09",
           "2024-12-09T08:00:00-05:00",
           "2024-12-08T23:00:25.697307-05:00",
           8.992861859166666,
           -9.079999999999998,
           false
          ],
          [
           "2024-12-09",
           "2024-12-09T09:00:00-05:00",
           "2024-12-08T23:00:25.697307-05:00",
           9.992861859166666,
           -10.079999999999998,
           false
          ],
          [
           "2024-12-09",
           "2024-12-09T10:00:00-05:00",
           "2024-12-08T23:00:25.697307-05:00",
           10.992861859166666,
           -7.079999999999998,
           false
          ],
          [
           "2024-12-09",
           "2024-12-09T11:00:00-05:00",
           "2024-12-08T23:00:25.697307-05:00",
           11.992861859166666,
           -6.079999999999998,
           false
          ],
          [
           "2024-12-09",
           "2024-12-09T12:00:00-05:00",
           "2024-12-08T23:00:25.697307-05:00",
           12.992861859166666,
           -4.079999999999998,
           false
          ],
          [
           "2024-12-09",
           "2024-12-09T13:00:00-05:00",
           "2024-12-08T23:00:25.697307-05:00",
           13.992861859166666,
           -2.0799999999999983,
           false
          ],
          [
           "2024-12-09",
           "2024-12-09T14:00:00-05:00",
           "2024-12-08T23:00:25.697307-05:00",
           14.992861859166666,
           -2.0799999999999983,
           false
          ],
          [
           "2024-12-09",
           "2024-12-09T15:00:00-05:00",
           "2024-12-08T23:00:25.697307-05:00",
           15.992861859166666,
           -1.0799999999999983,
           false
          ],
          [
           "2024-12-09",
           "2024-12-09T16:00:00-05:00",
           "2024-12-08T23:00:25.697307-05:00",
           16.992861859166666,
           -1.0799999999999983,
           false
          ],
          [
           "2024-12-09",
           "2024-12-09T17:00:00-05:00",
           "2024-12-08T23:00:25.697307-05:00",
           17.992861859166666,
           -1.0799999999999983,
           false
          ],
          [
           "2024-12-09",
           "2024-12-09T06:00:00-05:00",
           "2024-12-09T00:00:24.022040-05:00",
           5.9933272111111116,
           -7.079999999999998,
           false
          ],
          [
           "2024-12-09",
           "2024-12-09T07:00:00-05:00",
           "2024-12-09T00:00:24.022040-05:00",
           6.9933272111111116,
           -8.079999999999998,
           false
          ],
          [
           "2024-12-09",
           "2024-12-09T08:00:00-05:00",
           "2024-12-09T00:00:24.022040-05:00",
           7.9933272111111116,
           -9.079999999999998,
           false
          ],
          [
           "2024-12-09",
           "2024-12-09T09:00:00-05:00",
           "2024-12-09T00:00:24.022040-05:00",
           8.993327211111112,
           -10.079999999999998,
           false
          ],
          [
           "2024-12-09",
           "2024-12-09T10:00:00-05:00",
           "2024-12-09T00:00:24.022040-05:00",
           9.99332721111111,
           -7.079999999999998,
           false
          ],
          [
           "2024-12-09",
           "2024-12-09T11:00:00-05:00",
           "2024-12-09T00:00:24.022040-05:00",
           10.99332721111111,
           -6.079999999999998,
           false
          ],
          [
           "2024-12-09",
           "2024-12-09T12:00:00-05:00",
           "2024-12-09T00:00:24.022040-05:00",
           11.99332721111111,
           -4.079999999999998,
           false
          ],
          [
           "2024-12-09",
           "2024-12-09T13:00:00-05:00",
           "2024-12-09T00:00:24.022040-05:00",
           12.99332721111111,
           -2.0799999999999983,
           false
          ],
          [
           "2024-12-09",
           "2024-12-09T14:00:00-05:00",
           "2024-12-09T00:00:24.022040-05:00",
           13.99332721111111,
           -2.0799999999999983,
           false
          ],
          [
           "2024-12-09",
           "2024-12-09T15:00:00-05:00",
           "2024-12-09T00:00:24.022040-05:00",
           14.99332721111111,
           -1.0799999999999983,
           false
          ],
          [
           "2024-12-09",
           "2024-12-09T16:00:00-05:00",
           "2024-12-09T00:00:24.022040-05:00",
           15.99332721111111,
           -1.0799999999999983,
           false
          ],
          [
           "2024-12-09",
           "2024-12-09T17:00:00-05:00",
           "2024-12-09T00:00:24.022040-05:00",
           16.99332721111111,
           -1.0799999999999983,
           false
          ],
          [
           "2024-12-09",
           "2024-12-09T06:00:00-05:00",
           "2024-12-09T01:00:22.521872-05:00",
           4.993743924444444,
           -7.079999999999998,
           false
          ],
          [
           "2024-12-09",
           "2024-12-09T07:00:00-05:00",
           "2024-12-09T01:00:22.521872-05:00",
           5.993743924444444,
           -8.079999999999998,
           false
          ],
          [
           "2024-12-09",
           "2024-12-09T08:00:00-05:00",
           "2024-12-09T01:00:22.521872-05:00",
           6.993743924444444,
           -9.079999999999998,
           false
          ],
          [
           "2024-12-09",
           "2024-12-09T09:00:00-05:00",
           "2024-12-09T01:00:22.521872-05:00",
           7.993743924444444,
           -10.079999999999998,
           false
          ],
          [
           "2024-12-09",
           "2024-12-09T10:00:00-05:00",
           "2024-12-09T01:00:22.521872-05:00",
           8.993743924444445,
           -7.079999999999998,
           false
          ],
          [
           "2024-12-09",
           "2024-12-09T11:00:00-05:00",
           "2024-12-09T01:00:22.521872-05:00",
           9.993743924444445,
           -6.079999999999998,
           false
          ],
          [
           "2024-12-09",
           "2024-12-09T12:00:00-05:00",
           "2024-12-09T01:00:22.521872-05:00",
           10.993743924444445,
           -4.079999999999998,
           false
          ],
          [
           "2024-12-09",
           "2024-12-09T13:00:00-05:00",
           "2024-12-09T01:00:22.521872-05:00",
           11.993743924444445,
           -2.0799999999999983,
           false
          ],
          [
           "2024-12-09",
           "2024-12-09T14:00:00-05:00",
           "2024-12-09T01:00:22.521872-05:00",
           12.993743924444445,
           -2.0799999999999983,
           false
          ],
          [
           "2024-12-09",
           "2024-12-09T15:00:00-05:00",
           "2024-12-09T01:00:22.521872-05:00",
           13.993743924444445,
           -1.0799999999999983,
           false
          ],
          [
           "2024-12-09",
           "2024-12-09T16:00:00-05:00",
           "2024-12-09T01:00:22.521872-05:00",
           14.993743924444445,
           -1.0799999999999983,
           false
          ],
          [
           "2024-12-09",
           "2024-12-09T17:00:00-05:00",
           "2024-12-09T01:00:22.521872-05:00",
           15.993743924444445,
           -1.0799999999999983,
           false
          ],
          [
           "2024-12-09",
           "2024-12-09T06:00:00-05:00",
           "2024-12-09T02:00:20.917972-05:00",
           3.9941894522222223,
           -7.079999999999998,
           false
          ],
          [
           "2024-12-09",
           "2024-12-09T07:00:00-05:00",
           "2024-12-09T02:00:20.917972-05:00",
           4.994189452222223,
           -8.079999999999998,
           false
          ],
          [
           "2024-12-09",
           "2024-12-09T08:00:00-05:00",
           "2024-12-09T02:00:20.917972-05:00",
           5.994189452222223,
           -9.079999999999998,
           false
          ],
          [
           "2024-12-09",
           "2024-12-09T09:00:00-05:00",
           "2024-12-09T02:00:20.917972-05:00",
           6.994189452222223,
           -10.079999999999998,
           false
          ],
          [
           "2024-12-09",
           "2024-12-09T10:00:00-05:00",
           "2024-12-09T02:00:20.917972-05:00",
           7.994189452222223,
           -7.079999999999998,
           false
          ],
          [
           "2024-12-09",
           "2024-12-09T11:00:00-05:00",
           "2024-12-09T02:00:20.917972-05:00",
           8.994189452222223,
           -6.079999999999998,
           false
          ],
          [
           "2024-12-09",
           "2024-12-09T12:00:00-05:00",
           "2024-12-09T02:00:20.917972-05:00",
           9.994189452222221,
           -4.079999999999998,
           false
          ],
          [
           "2024-12-09",
           "2024-12-09T13:00:00-05:00",
           "2024-12-09T02:00:20.917972-05:00",
           10.994189452222221,
           -2.0799999999999983,
           false
          ],
          [
           "2024-12-09",
           "2024-12-09T14:00:00-05:00",
           "2024-12-09T02:00:20.917972-05:00",
           11.994189452222221,
           -2.0799999999999983,
           false
          ],
          [
           "2024-12-09",
           "2024-12-09T15:00:00-05:00",
           "2024-12-09T02:00:20.917972-05:00",
           12.994189452222221,
           -1.0799999999999983,
           false
          ],
          [
           "2024-12-09",
           "2024-12-09T16:00:00-05:00",
           "2024-12-09T02:00:20.917972-05:00",
           13.994189452222221,
           -1.0799999999999983,
           false
          ],
          [
           "2024-12-09",
           "2024-12-09T17:00:00-05:00",
           "2024-12-09T02:00:20.917972-05:00",
           14.994189452222221,
           -1.0799999999999983,
           false
          ],
          [
           "2024-12-09",
           "2024-12-09T06:00:00-05:00",
           "2024-12-09T03:00:21.086869-05:00",
           2.9941425363888885,
           -7.079999999999998,
           false
          ],
          [
           "2024-12-09",
           "2024-12-09T07:00:00-05:00",
           "2024-12-09T03:00:21.086869-05:00",
           3.9941425363888885,
           -8.079999999999998,
           false
          ],
          [
           "2024-12-09",
           "2024-12-09T08:00:00-05:00",
           "2024-12-09T03:00:21.086869-05:00",
           4.994142536388889,
           -9.079999999999998,
           false
          ],
          [
           "2024-12-09",
           "2024-12-09T09:00:00-05:00",
           "2024-12-09T03:00:21.086869-05:00",
           5.994142536388889,
           -10.079999999999998,
           false
          ],
          [
           "2024-12-09",
           "2024-12-09T10:00:00-05:00",
           "2024-12-09T03:00:21.086869-05:00",
           6.994142536388889,
           -7.079999999999998,
           false
          ],
          [
           "2024-12-09",
           "2024-12-09T11:00:00-05:00",
           "2024-12-09T03:00:21.086869-05:00",
           7.994142536388889,
           -6.079999999999998,
           false
          ],
          [
           "2024-12-09",
           "2024-12-09T12:00:00-05:00",
           "2024-12-09T03:00:21.086869-05:00",
           8.994142536388889,
           -4.079999999999998,
           false
          ],
          [
           "2024-12-09",
           "2024-12-09T13:00:00-05:00",
           "2024-12-09T03:00:21.086869-05:00",
           9.994142536388889,
           -2.0799999999999983,
           false
          ],
          [
           "2024-12-09",
           "2024-12-09T14:00:00-05:00",
           "2024-12-09T03:00:21.086869-05:00",
           10.994142536388889,
           -2.0799999999999983,
           false
          ],
          [
           "2024-12-09",
           "2024-12-09T15:00:00-05:00",
           "2024-12-09T03:00:21.086869-05:00",
           11.994142536388889,
           -1.0799999999999983,
           false
          ],
          [
           "2024-12-09",
           "2024-12-09T16:00:00-05:00",
           "2024-12-09T03:00:21.086869-05:00",
           12.994142536388889,
           -1.0799999999999983,
           false
          ],
          [
           "2024-12-09",
           "2024-12-09T17:00:00-05:00",
           "2024-12-09T03:00:21.086869-05:00",
           13.994142536388889,
           -1.0799999999999983,
           false
          ],
          [
           "2024-12-09",
           "2024-12-09T06:00:00-05:00",
           "2024-12-09T04:00:37.707344-05:00",
           1.9895257377777777,
           -7.079999999999998,
           false
          ],
          [
           "2024-12-09",
           "2024-12-09T07:00:00-05:00",
           "2024-12-09T04:00:37.707344-05:00",
           2.9895257377777775,
           -8.079999999999998,
           false
          ],
          [
           "2024-12-09",
           "2024-12-09T08:00:00-05:00",
           "2024-12-09T04:00:37.707344-05:00",
           3.9895257377777775,
           -9.079999999999998,
           false
          ],
          [
           "2024-12-09",
           "2024-12-09T09:00:00-05:00",
           "2024-12-09T04:00:37.707344-05:00",
           4.989525737777778,
           -10.079999999999998,
           false
          ],
          [
           "2024-12-09",
           "2024-12-09T10:00:00-05:00",
           "2024-12-09T04:00:37.707344-05:00",
           5.989525737777778,
           -7.079999999999998,
           false
          ],
          [
           "2024-12-09",
           "2024-12-09T11:00:00-05:00",
           "2024-12-09T04:00:37.707344-05:00",
           6.989525737777778,
           -6.079999999999998,
           false
          ],
          [
           "2024-12-09",
           "2024-12-09T12:00:00-05:00",
           "2024-12-09T04:00:37.707344-05:00",
           7.989525737777778,
           -4.079999999999998,
           false
          ],
          [
           "2024-12-09",
           "2024-12-09T13:00:00-05:00",
           "2024-12-09T04:00:37.707344-05:00",
           8.989525737777779,
           -2.0799999999999983,
           false
          ],
          [
           "2024-12-09",
           "2024-12-09T14:00:00-05:00",
           "2024-12-09T04:00:37.707344-05:00",
           9.989525737777777,
           -2.0799999999999983,
           false
          ],
          [
           "2024-12-09",
           "2024-12-09T15:00:00-05:00",
           "2024-12-09T04:00:37.707344-05:00",
           10.989525737777777,
           -1.0799999999999983,
           false
          ],
          [
           "2024-12-09",
           "2024-12-09T16:00:00-05:00",
           "2024-12-09T04:00:37.707344-05:00",
           11.989525737777777,
           -1.0799999999999983,
           false
          ],
          [
           "2024-12-09",
           "2024-12-09T17:00:00-05:00",
           "2024-12-09T04:00:37.707344-05:00",
           12.989525737777777,
           -1.0799999999999983,
           false
          ],
          [
           "2024-12-09",
           "2024-12-09T06:00:00-05:00",
           "2024-12-09T05:00:20.996406-05:00",
           0.994167665,
           -7.079999999999998,
           false
          ],
          [
           "2024-12-09",
           "2024-12-09T07:00:00-05:00",
           "2024-12-09T05:00:20.996406-05:00",
           1.994167665,
           -8.079999999999998,
           false
          ],
          [
           "2024-12-09",
           "2024-12-09T08:00:00-05:00",
           "2024-12-09T05:00:20.996406-05:00",
           2.994167665,
           -9.079999999999998,
           false
          ],
          [
           "2024-12-09",
           "2024-12-09T09:00:00-05:00",
           "2024-12-09T05:00:20.996406-05:00",
           3.994167665,
           -10.079999999999998,
           false
          ],
          [
           "2024-12-09",
           "2024-12-09T10:00:00-05:00",
           "2024-12-09T05:00:20.996406-05:00",
           4.994167665000001,
           -7.079999999999998,
           false
          ],
          [
           "2024-12-09",
           "2024-12-09T11:00:00-05:00",
           "2024-12-09T05:00:20.996406-05:00",
           5.994167665000001,
           -6.079999999999998,
           false
          ],
          [
           "2024-12-09",
           "2024-12-09T12:00:00-05:00",
           "2024-12-09T05:00:20.996406-05:00",
           6.994167665000001,
           -4.079999999999998,
           false
          ],
          [
           "2024-12-09",
           "2024-12-09T13:00:00-05:00",
           "2024-12-09T05:00:20.996406-05:00",
           7.994167665000001,
           -2.0799999999999983,
           false
          ],
          [
           "2024-12-09",
           "2024-12-09T14:00:00-05:00",
           "2024-12-09T05:00:20.996406-05:00",
           8.994167665,
           -2.0799999999999983,
           false
          ],
          [
           "2024-12-09",
           "2024-12-09T15:00:00-05:00",
           "2024-12-09T05:00:20.996406-05:00",
           9.994167665,
           -1.0799999999999983,
           false
          ],
          [
           "2024-12-09",
           "2024-12-09T16:00:00-05:00",
           "2024-12-09T05:00:20.996406-05:00",
           10.994167665,
           -1.0799999999999983,
           false
          ],
          [
           "2024-12-09",
           "2024-12-09T17:00:00-05:00",
           "2024-12-09T05:00:20.996406-05:00",
           11.994167665,
           -1.0799999999999983,
           false
          ],
          [
           "2024-12-09",
           "2024-12-09T07:00:00-05:00",
           "2024-12-09T06:00:22.355705-05:00",
           0.9937900819444445,
           -9.079999999999998,
           false
          ],
          [
           "2024-12-09",
           "2024-12-09T08:00:00-05:00",
           "2024-12-09T06:00:22.355705-05:00",
           1.9937900819444445,
           -8.079999999999998,
           false
          ],
          [
           "2024-12-09",
           "2024-12-09T09:00:00-05:00",
           "2024-12-09T06:00:22.355705-05:00",
           2.9937900819444443,
           -7.079999999999998,
           false
          ],
          [
           "2024-12-09",
           "2024-12-09T10:00:00-05:00",
           "2024-12-09T06:00:22.355705-05:00",
           3.9937900819444443,
           -5.079999999999998,
           false
          ],
          [
           "2024-12-09",
           "2024-12-09T11:00:00-05:00",
           "2024-12-09T06:00:22.355705-05:00",
           4.993790081944444,
           -3.0799999999999983,
           false
          ],
          [
           "2024-12-09",
           "2024-12-09T12:00:00-05:00",
           "2024-12-09T06:00:22.355705-05:00",
           5.993790081944444,
           -2.0799999999999983,
           false
          ],
          [
           "2024-12-09",
           "2024-12-09T13:00:00-05:00",
           "2024-12-09T06:00:22.355705-05:00",
           6.993790081944444,
           -1.0799999999999983,
           false
          ],
          [
           "2024-12-09",
           "2024-12-09T14:00:00-05:00",
           "2024-12-09T06:00:22.355705-05:00",
           7.993790081944444,
           -1.0799999999999983,
           false
          ],
          [
           "2024-12-09",
           "2024-12-09T15:00:00-05:00",
           "2024-12-09T06:00:22.355705-05:00",
           8.993790081944445,
           -1.0799999999999983,
           false
          ],
          [
           "2024-12-09",
           "2024-12-09T16:00:00-05:00",
           "2024-12-09T06:00:22.355705-05:00",
           9.993790081944445,
           -1.0799999999999983,
           false
          ],
          [
           "2024-12-09",
           "2024-12-09T17:00:00-05:00",
           "2024-12-09T06:00:22.355705-05:00",
           10.993790081944445,
           -1.0799999999999983,
           false
          ],
          [
           "2024-12-09",
           "2024-12-09T08:00:00-05:00",
           "2024-12-09T07:00:21.209380-05:00",
           0.9941085055555556,
           -8.079999999999998,
           false
          ],
          [
           "2024-12-09",
           "2024-12-09T09:00:00-05:00",
           "2024-12-09T07:00:21.209380-05:00",
           1.9941085055555554,
           -7.079999999999998,
           false
          ],
          [
           "2024-12-09",
           "2024-12-09T10:00:00-05:00",
           "2024-12-09T07:00:21.209380-05:00",
           2.9941085055555554,
           -5.079999999999998,
           false
          ],
          [
           "2024-12-09",
           "2024-12-09T11:00:00-05:00",
           "2024-12-09T07:00:21.209380-05:00",
           3.9941085055555554,
           -3.0799999999999983,
           false
          ],
          [
           "2024-12-09",
           "2024-12-09T12:00:00-05:00",
           "2024-12-09T07:00:21.209380-05:00",
           4.994108505555555,
           -2.0799999999999983,
           false
          ],
          [
           "2024-12-09",
           "2024-12-09T13:00:00-05:00",
           "2024-12-09T07:00:21.209380-05:00",
           5.994108505555555,
           -1.0799999999999983,
           false
          ],
          [
           "2024-12-09",
           "2024-12-09T14:00:00-05:00",
           "2024-12-09T07:00:21.209380-05:00",
           6.994108505555555,
           -1.0799999999999983,
           false
          ],
          [
           "2024-12-09",
           "2024-12-09T15:00:00-05:00",
           "2024-12-09T07:00:21.209380-05:00",
           7.994108505555555,
           -1.0799999999999983,
           false
          ],
          [
           "2024-12-09",
           "2024-12-09T16:00:00-05:00",
           "2024-12-09T07:00:21.209380-05:00",
           8.994108505555555,
           -1.0799999999999983,
           false
          ],
          [
           "2024-12-09",
           "2024-12-09T17:00:00-05:00",
           "2024-12-09T07:00:21.209380-05:00",
           9.994108505555555,
           -1.0799999999999983,
           false
          ],
          [
           "2024-12-09",
           "2024-12-09T10:00:00-05:00",
           "2024-12-09T09:00:22.738697-05:00",
           0.9936836952777779,
           -5.079999999999998,
           false
          ],
          [
           "2024-12-09",
           "2024-12-09T11:00:00-05:00",
           "2024-12-09T09:00:22.738697-05:00",
           1.993683695277778,
           -4.079999999999998,
           false
          ],
          [
           "2024-12-09",
           "2024-12-09T12:00:00-05:00",
           "2024-12-09T09:00:22.738697-05:00",
           2.9936836952777774,
           -2.0799999999999983,
           false
          ],
          [
           "2024-12-09",
           "2024-12-09T13:00:00-05:00",
           "2024-12-09T09:00:22.738697-05:00",
           3.9936836952777774,
           -1.0799999999999983,
           false
          ],
          [
           "2024-12-09",
           "2024-12-09T14:00:00-05:00",
           "2024-12-09T09:00:22.738697-05:00",
           4.9936836952777774,
           -1.0799999999999983,
           false
          ],
          [
           "2024-12-09",
           "2024-12-09T15:00:00-05:00",
           "2024-12-09T09:00:22.738697-05:00",
           5.9936836952777774,
           -1.0799999999999983,
           false
          ],
          [
           "2024-12-09",
           "2024-12-09T16:00:00-05:00",
           "2024-12-09T09:00:22.738697-05:00",
           6.9936836952777774,
           -1.0799999999999983,
           false
          ],
          [
           "2024-12-09",
           "2024-12-09T17:00:00-05:00",
           "2024-12-09T09:00:22.738697-05:00",
           7.9936836952777774,
           -1.0799999999999983,
           false
          ],
          [
           "2024-12-09",
           "2024-12-09T11:00:00-05:00",
           "2024-12-09T10:00:23.437508-05:00",
           0.9934895811111111,
           -4.079999999999998,
           false
          ],
          [
           "2024-12-09",
           "2024-12-09T12:00:00-05:00",
           "2024-12-09T10:00:23.437508-05:00",
           1.993489581111111,
           -2.0799999999999983,
           false
          ],
          [
           "2024-12-09",
           "2024-12-09T13:00:00-05:00",
           "2024-12-09T10:00:23.437508-05:00",
           2.993489581111111,
           -1.0799999999999983,
           false
          ],
          [
           "2024-12-09",
           "2024-12-09T14:00:00-05:00",
           "2024-12-09T10:00:23.437508-05:00",
           3.993489581111111,
           -1.0799999999999983,
           false
          ],
          [
           "2024-12-09",
           "2024-12-09T15:00:00-05:00",
           "2024-12-09T10:00:23.437508-05:00",
           4.9934895811111115,
           -1.0799999999999983,
           false
          ],
          [
           "2024-12-09",
           "2024-12-09T16:00:00-05:00",
           "2024-12-09T10:00:23.437508-05:00",
           5.9934895811111115,
           -1.0799999999999983,
           false
          ],
          [
           "2024-12-09",
           "2024-12-09T17:00:00-05:00",
           "2024-12-09T10:00:23.437508-05:00",
           6.9934895811111115,
           -1.0799999999999983,
           false
          ],
          [
           "2024-12-09",
           "2024-12-09T12:00:00-05:00",
           "2024-12-09T11:00:24.044025-05:00",
           0.9933211041666666,
           -2.0799999999999983,
           false
          ],
          [
           "2024-12-09",
           "2024-12-09T13:00:00-05:00",
           "2024-12-09T11:00:24.044025-05:00",
           1.9933211041666665,
           -1.0799999999999983,
           false
          ],
          [
           "2024-12-09",
           "2024-12-09T14:00:00-05:00",
           "2024-12-09T11:00:24.044025-05:00",
           2.9933211041666667,
           -1.0799999999999983,
           false
          ],
          [
           "2024-12-09",
           "2024-12-09T15:00:00-05:00",
           "2024-12-09T11:00:24.044025-05:00",
           3.9933211041666667,
           -1.0799999999999983,
           false
          ],
          [
           "2024-12-09",
           "2024-12-09T16:00:00-05:00",
           "2024-12-09T11:00:24.044025-05:00",
           4.993321104166667,
           -1.0799999999999983,
           false
          ],
          [
           "2024-12-09",
           "2024-12-09T17:00:00-05:00",
           "2024-12-09T11:00:24.044025-05:00",
           5.993321104166667,
           -1.0799999999999983,
           false
          ],
          [
           "2024-12-09",
           "2024-12-09T13:00:00-05:00",
           "2024-12-09T12:00:28.885600-05:00",
           0.9919762222222221,
           -1.0799999999999983,
           false
          ],
          [
           "2024-12-09",
           "2024-12-09T14:00:00-05:00",
           "2024-12-09T12:00:28.885600-05:00",
           1.9919762222222224,
           -1.0799999999999983,
           false
          ],
          [
           "2024-12-09",
           "2024-12-09T15:00:00-05:00",
           "2024-12-09T12:00:28.885600-05:00",
           2.991976222222222,
           -1.0799999999999983,
           false
          ],
          [
           "2024-12-09",
           "2024-12-09T16:00:00-05:00",
           "2024-12-09T12:00:28.885600-05:00",
           3.991976222222222,
           -1.0799999999999983,
           false
          ],
          [
           "2024-12-09",
           "2024-12-09T17:00:00-05:00",
           "2024-12-09T12:00:28.885600-05:00",
           4.991976222222222,
           -1.0799999999999983,
           false
          ],
          [
           "2024-12-09",
           "2024-12-09T14:00:00-05:00",
           "2024-12-09T13:00:23.634426-05:00",
           0.9934348816666666,
           -1.0799999999999983,
           false
          ],
          [
           "2024-12-09",
           "2024-12-09T15:00:00-05:00",
           "2024-12-09T13:00:23.634426-05:00",
           1.9934348816666667,
           -1.0799999999999983,
           false
          ],
          [
           "2024-12-09",
           "2024-12-09T16:00:00-05:00",
           "2024-12-09T13:00:23.634426-05:00",
           2.9934348816666665,
           -1.0799999999999983,
           false
          ],
          [
           "2024-12-09",
           "2024-12-09T17:00:00-05:00",
           "2024-12-09T13:00:23.634426-05:00",
           3.9934348816666665,
           -1.0799999999999983,
           false
          ],
          [
           "2024-12-09",
           "2024-12-09T15:00:00-05:00",
           "2024-12-09T14:00:25.625014-05:00",
           0.9928819405555555,
           -1.0799999999999983,
           false
          ],
          [
           "2024-12-09",
           "2024-12-09T16:00:00-05:00",
           "2024-12-09T14:00:25.625014-05:00",
           1.9928819405555556,
           -1.0799999999999983,
           false
          ],
          [
           "2024-12-09",
           "2024-12-09T17:00:00-05:00",
           "2024-12-09T14:00:25.625014-05:00",
           2.992881940555556,
           -1.0799999999999983,
           false
          ],
          [
           "2024-12-09",
           "2024-12-09T16:00:00-05:00",
           "2024-12-09T15:00:39.841116-05:00",
           0.9889330233333333,
           -1.0799999999999983,
           false
          ],
          [
           "2024-12-09",
           "2024-12-09T17:00:00-05:00",
           "2024-12-09T15:00:39.841116-05:00",
           1.9889330233333335,
           -1.0799999999999983,
           false
          ],
          [
           "2024-12-09",
           "2024-12-09T17:00:00-05:00",
           "2024-12-09T16:00:23.804815-05:00",
           0.9933875513888889,
           -1.0799999999999983,
           false
          ]
         ],
         "hovertemplate": "actual_max_temp=%{x:.2f}<br>forecast_max_temp=%{y:.2f}<br>date=%{customdata[0]}<br>forecast_time=%{customdata[1]}<br>forecast_created=%{customdata[2]}<br>hours_ahead=%{marker.color:.1f}<br>error=%{customdata[4]:.2f}<br>is_accurate=%{customdata[5]}<extra></extra>",
         "legendgroup": "",
         "marker": {
          "color": [
           0.40433256083333335,
           1.4043325608333335,
           0.23770469194444444,
           1.2377046919444443,
           0.9894420719444444,
           14.404332560833334,
           15.404332560833334,
           16.404332560833335,
           17.404332560833335,
           18.404332560833335,
           19.404332560833335,
           20.404332560833335,
           21.404332560833335,
           22.404332560833335,
           23.404332560833335,
           14.237704691944444,
           15.237704691944444,
           16.237704691944444,
           17.237704691944444,
           18.237704691944444,
           19.237704691944444,
           20.237704691944444,
           21.237704691944444,
           22.237704691944444,
           23.237704691944444,
           13.989442071944444,
           14.989442071944444,
           15.989442071944444,
           16.989442071944442,
           17.989442071944442,
           18.989442071944442,
           19.989442071944442,
           20.989442071944442,
           21.989442071944442,
           22.989442071944442,
           23.989442071944442,
           12.738026605555556,
           13.738026605555556,
           14.738026605555556,
           15.738026605555556,
           16.738026605555554,
           17.738026605555554,
           18.738026605555557,
           19.738026605555557,
           20.738026605555557,
           21.738026605555557,
           22.738026605555557,
           23.738026605555557,
           12.654555516944443,
           13.654555516944443,
           14.654555516944443,
           15.654555516944443,
           16.654555516944445,
           17.654555516944445,
           18.654555516944445,
           19.654555516944445,
           20.654555516944445,
           21.654555516944445,
           22.654555516944445,
           23.654555516944445,
           12.48785018388889,
           13.48785018388889,
           14.48785018388889,
           15.48785018388889,
           16.487850183888888,
           17.487850183888888,
           18.487850183888888,
           19.487850183888888,
           20.487850183888888,
           21.487850183888888,
           22.487850183888888,
           23.487850183888888,
           12.32090226861111,
           13.32090226861111,
           14.32090226861111,
           15.32090226861111,
           16.32090226861111,
           17.32090226861111,
           18.32090226861111,
           19.32090226861111,
           20.32090226861111,
           21.32090226861111,
           22.32090226861111,
           23.32090226861111,
           12.23787400888889,
           13.23787400888889,
           14.23787400888889,
           15.23787400888889,
           16.237874008888888,
           17.237874008888888,
           18.23787400888889,
           19.23787400888889,
           20.23787400888889,
           21.23787400888889,
           22.23787400888889,
           23.23787400888889,
           12.15455935388889,
           13.15455935388889,
           14.15455935388889,
           15.15455935388889,
           16.15455935388889,
           17.15455935388889,
           18.15455935388889,
           19.15455935388889,
           20.15455935388889,
           21.15455935388889,
           22.15455935388889,
           23.15455935388889,
           11.905624260277778,
           12.905624260277778,
           13.905624260277778,
           14.905624260277778,
           15.905624260277778,
           16.90562426027778,
           17.90562426027778,
           18.905624260277776,
           19.905624260277776,
           20.905624260277776,
           21.905624260277776,
           22.905624260277776,
           10.154542825555556,
           11.154542825555556,
           12.154542825555556,
           13.154542825555556,
           14.154542825555556,
           15.154542825555556,
           16.154542825555556,
           17.154542825555556,
           18.154542825555556,
           19.154542825555556,
           20.154542825555556,
           21.154542825555556,
           8.571212727499999,
           9.571212727499999,
           10.571212727499999,
           11.571212727499999,
           12.571212727499999,
           13.571212727499999,
           14.571212727499999,
           15.571212727499999,
           16.5712127275,
           17.5712127275,
           18.5712127275,
           19.5712127275,
           9.487900268611112,
           10.487900268611112,
           11.487900268611112,
           12.487900268611112,
           13.487900268611112,
           14.487900268611112,
           15.487900268611112,
           16.48790026861111,
           17.48790026861111,
           18.48790026861111,
           19.48790026861111,
           9.192012053055556,
           10.192012053055556,
           11.192012053055556,
           12.192012053055556,
           13.192012053055556,
           14.192012053055556,
           15.192012053055556,
           16.192012053055556,
           17.192012053055556,
           18.192012053055556,
           19.192012053055553,
           20.192012053055553,
           9.398578243055555,
           10.398578243055555,
           11.398578243055555,
           12.398578243055555,
           13.398578243055555,
           14.398578243055555,
           15.398578243055555,
           16.398578243055553,
           17.398578243055553,
           18.398578243055553,
           19.398578243055553,
           20.398578243055553,
           9.122786354999999,
           10.122786354999999,
           11.122786354999999,
           12.122786354999999,
           13.122786354999999,
           14.122786354999999,
           15.122786354999999,
           16.122786355,
           17.122786355,
           18.122786355,
           19.122786355000002,
           20.122786355000002,
           9.082991290277779,
           10.082991290277777,
           11.082991290277777,
           12.082991290277777,
           13.082991290277777,
           14.082991290277777,
           15.082991290277777,
           16.08299129027778,
           17.08299129027778,
           18.08299129027778,
           19.08299129027778,
           20.08299129027778,
           8.904603061944444,
           9.904603061944444,
           10.904603061944444,
           11.904603061944444,
           12.904603061944444,
           13.904603061944444,
           14.904603061944444,
           15.904603061944444,
           16.904603061944442,
           17.904603061944442,
           18.904603061944442,
           19.904603061944442,
           8.727255199444445,
           9.727255199444445,
           10.727255199444445,
           11.727255199444445,
           12.727255199444445,
           13.727255199444445,
           14.727255199444445,
           15.727255199444445,
           16.727255199444443,
           17.727255199444443,
           18.727255199444443,
           19.727255199444443,
           8.694784378055555,
           9.694784378055555,
           10.694784378055555,
           11.694784378055555,
           12.694784378055555,
           13.694784378055555,
           14.694784378055555,
           15.694784378055555,
           16.694784378055555,
           17.694784378055555,
           18.694784378055555,
           19.694784378055555,
           8.671887580555556,
           9.671887580555556,
           10.671887580555556,
           11.671887580555556,
           12.671887580555556,
           13.671887580555556,
           14.671887580555556,
           15.671887580555556,
           16.671887580555556,
           17.671887580555556,
           18.671887580555556,
           19.671887580555556,
           8.48790026861111,
           8.219995573611111,
           9.21999557361111,
           10.21999557361111,
           11.21999557361111,
           12.21999557361111,
           13.21999557361111,
           14.21999557361111,
           15.21999557361111,
           16.21999557361111,
           17.21999557361111,
           18.21999557361111,
           19.21999557361111,
           8.154513038055555,
           9.154513038055557,
           10.154513038055557,
           11.154513038055557,
           12.154513038055557,
           13.154513038055557,
           14.154513038055557,
           15.154513038055557,
           16.154513038055555,
           17.154513038055555,
           18.154513038055555,
           19.154513038055555,
           8.07116575,
           9.07116575,
           10.07116575,
           11.07116575,
           12.07116575,
           13.07116575,
           14.07116575,
           15.07116575,
           16.07116575,
           17.07116575,
           18.07116575,
           19.07116575,
           7.988921400277778,
           8.988921400277778,
           9.988921400277777,
           10.988921400277777,
           11.988921400277777,
           12.988921400277777,
           13.988921400277777,
           14.988921400277777,
           15.988921400277777,
           16.98892140027778,
           17.98892140027778,
           18.98892140027778,
           7.9056208352777775,
           8.905620835277778,
           9.905620835277778,
           10.905620835277778,
           11.905620835277778,
           12.905620835277778,
           13.905620835277778,
           14.905620835277778,
           15.905620835277778,
           16.90562083527778,
           17.90562083527778,
           18.905620835277777,
           7.822229465,
           8.822229465,
           9.822229465,
           10.822229465,
           11.822229465,
           12.822229465,
           13.822229465,
           14.822229465,
           15.822229465,
           16.822229465,
           17.822229465,
           18.822229465,
           7.737438610555556,
           8.737438610555555,
           9.737438610555555,
           10.737438610555555,
           11.737438610555555,
           12.737438610555555,
           13.737438610555555,
           14.737438610555555,
           15.737438610555555,
           16.737438610555557,
           17.737438610555557,
           18.737438610555554,
           6.992861859166667,
           7.992861859166667,
           8.992861859166666,
           9.992861859166666,
           10.992861859166666,
           11.992861859166666,
           12.992861859166666,
           13.992861859166666,
           14.992861859166666,
           15.992861859166666,
           16.992861859166666,
           17.992861859166666,
           5.9933272111111116,
           6.9933272111111116,
           7.9933272111111116,
           8.993327211111112,
           9.99332721111111,
           10.99332721111111,
           11.99332721111111,
           12.99332721111111,
           13.99332721111111,
           14.99332721111111,
           15.99332721111111,
           16.99332721111111,
           4.993743924444444,
           5.993743924444444,
           6.993743924444444,
           7.993743924444444,
           8.993743924444445,
           9.993743924444445,
           10.993743924444445,
           11.993743924444445,
           12.993743924444445,
           13.993743924444445,
           14.993743924444445,
           15.993743924444445,
           3.9941894522222223,
           4.994189452222223,
           5.994189452222223,
           6.994189452222223,
           7.994189452222223,
           8.994189452222223,
           9.994189452222221,
           10.994189452222221,
           11.994189452222221,
           12.994189452222221,
           13.994189452222221,
           14.994189452222221,
           2.9941425363888885,
           3.9941425363888885,
           4.994142536388889,
           5.994142536388889,
           6.994142536388889,
           7.994142536388889,
           8.994142536388889,
           9.994142536388889,
           10.994142536388889,
           11.994142536388889,
           12.994142536388889,
           13.994142536388889,
           1.9895257377777777,
           2.9895257377777775,
           3.9895257377777775,
           4.989525737777778,
           5.989525737777778,
           6.989525737777778,
           7.989525737777778,
           8.989525737777779,
           9.989525737777777,
           10.989525737777777,
           11.989525737777777,
           12.989525737777777,
           0.994167665,
           1.994167665,
           2.994167665,
           3.994167665,
           4.994167665000001,
           5.994167665000001,
           6.994167665000001,
           7.994167665000001,
           8.994167665,
           9.994167665,
           10.994167665,
           11.994167665,
           0.9937900819444445,
           1.9937900819444445,
           2.9937900819444443,
           3.9937900819444443,
           4.993790081944444,
           5.993790081944444,
           6.993790081944444,
           7.993790081944444,
           8.993790081944445,
           9.993790081944445,
           10.993790081944445,
           0.9941085055555556,
           1.9941085055555554,
           2.9941085055555554,
           3.9941085055555554,
           4.994108505555555,
           5.994108505555555,
           6.994108505555555,
           7.994108505555555,
           8.994108505555555,
           9.994108505555555,
           0.9936836952777779,
           1.993683695277778,
           2.9936836952777774,
           3.9936836952777774,
           4.9936836952777774,
           5.9936836952777774,
           6.9936836952777774,
           7.9936836952777774,
           0.9934895811111111,
           1.993489581111111,
           2.993489581111111,
           3.993489581111111,
           4.9934895811111115,
           5.9934895811111115,
           6.9934895811111115,
           0.9933211041666666,
           1.9933211041666665,
           2.9933211041666667,
           3.9933211041666667,
           4.993321104166667,
           5.993321104166667,
           0.9919762222222221,
           1.9919762222222224,
           2.991976222222222,
           3.991976222222222,
           4.991976222222222,
           0.9934348816666666,
           1.9934348816666667,
           2.9934348816666665,
           3.9934348816666665,
           0.9928819405555555,
           1.9928819405555556,
           2.992881940555556,
           0.9889330233333333,
           1.9889330233333335,
           0.9933875513888889
          ],
          "coloraxis": "coloraxis",
          "size": 12,
          "symbol": "circle"
         },
         "mode": "markers",
         "name": "",
         "orientation": "v",
         "showlegend": false,
         "type": "scatter",
         "x": [
          51.98,
          51.98,
          51.98,
          51.98,
          51.98,
          51.08,
          51.08,
          51.08,
          51.08,
          51.08,
          51.08,
          51.08,
          51.08,
          51.08,
          51.08,
          51.08,
          51.08,
          51.08,
          51.08,
          51.08,
          51.08,
          51.08,
          51.08,
          51.08,
          51.08,
          51.08,
          51.08,
          51.08,
          51.08,
          51.08,
          51.08,
          51.08,
          51.08,
          51.08,
          51.08,
          51.08,
          51.08,
          51.08,
          51.08,
          51.08,
          51.08,
          51.08,
          51.08,
          51.08,
          51.08,
          51.08,
          51.08,
          51.08,
          51.08,
          51.08,
          51.08,
          51.08,
          51.08,
          51.08,
          51.08,
          51.08,
          51.08,
          51.08,
          51.08,
          51.08,
          51.08,
          51.08,
          51.08,
          51.08,
          51.08,
          51.08,
          51.08,
          51.08,
          51.08,
          51.08,
          51.08,
          51.08,
          51.08,
          51.08,
          51.08,
          51.08,
          51.08,
          51.08,
          51.08,
          51.08,
          51.08,
          51.08,
          51.08,
          51.08,
          51.08,
          51.08,
          51.08,
          51.08,
          51.08,
          51.08,
          51.08,
          51.08,
          51.08,
          51.08,
          51.08,
          51.08,
          51.08,
          51.08,
          51.08,
          51.08,
          51.08,
          51.08,
          51.08,
          51.08,
          51.08,
          51.08,
          51.08,
          51.08,
          51.08,
          51.08,
          51.08,
          51.08,
          51.08,
          51.08,
          51.08,
          51.08,
          51.08,
          51.08,
          51.08,
          51.08,
          51.08,
          51.08,
          51.08,
          51.08,
          51.08,
          51.08,
          51.08,
          51.08,
          51.08,
          51.08,
          51.08,
          51.08,
          51.08,
          51.08,
          51.08,
          51.08,
          51.08,
          51.08,
          51.08,
          51.08,
          51.08,
          51.08,
          51.08,
          51.08,
          51.08,
          51.08,
          51.08,
          51.08,
          51.08,
          51.08,
          51.08,
          51.08,
          51.08,
          51.08,
          51.08,
          51.08,
          51.08,
          51.08,
          51.08,
          51.08,
          51.08,
          51.08,
          51.08,
          51.08,
          51.08,
          51.08,
          51.08,
          51.08,
          51.08,
          51.08,
          51.08,
          51.08,
          51.08,
          51.08,
          51.08,
          51.08,
          51.08,
          51.08,
          51.08,
          51.08,
          51.08,
          51.08,
          51.08,
          51.08,
          51.08,
          51.08,
          51.08,
          51.08,
          51.08,
          51.08,
          51.08,
          51.08,
          51.08,
          51.08,
          51.08,
          51.08,
          51.08,
          51.08,
          51.08,
          51.08,
          51.08,
          51.08,
          51.08,
          51.08,
          51.08,
          51.08,
          51.08,
          51.08,
          51.08,
          51.08,
          51.08,
          51.08,
          51.08,
          51.08,
          51.08,
          51.08,
          51.08,
          51.08,
          51.08,
          51.08,
          51.08,
          51.08,
          51.08,
          51.08,
          51.08,
          51.08,
          51.08,
          51.08,
          51.08,
          51.08,
          51.08,
          51.08,
          51.08,
          51.08,
          51.08,
          51.08,
          51.08,
          51.08,
          51.08,
          51.08,
          51.08,
          51.08,
          51.08,
          51.08,
          51.08,
          51.08,
          51.08,
          51.08,
          51.08,
          51.08,
          51.08,
          51.08,
          51.08,
          51.08,
          51.08,
          51.08,
          51.08,
          51.08,
          51.08,
          51.08,
          51.08,
          51.08,
          51.08,
          51.08,
          51.08,
          51.08,
          51.08,
          51.08,
          51.08,
          51.08,
          51.08,
          51.08,
          51.08,
          51.08,
          51.08,
          51.08,
          51.08,
          51.08,
          51.08,
          51.08,
          51.08,
          51.08,
          51.08,
          51.08,
          51.08,
          51.08,
          51.08,
          51.08,
          51.08,
          51.08,
          51.08,
          51.08,
          51.08,
          51.08,
          51.08,
          51.08,
          51.08,
          51.08,
          51.08,
          51.08,
          51.08,
          51.08,
          51.08,
          51.08,
          51.08,
          51.08,
          51.08,
          51.08,
          51.08,
          51.08,
          51.08,
          51.08,
          51.08,
          51.08,
          51.08,
          51.08,
          51.08,
          51.08,
          51.08,
          51.08,
          51.08,
          51.08,
          51.08,
          51.08,
          51.08,
          51.08,
          51.08,
          51.08,
          51.08,
          51.08,
          51.08,
          51.08,
          51.08,
          51.08,
          51.08,
          51.08,
          51.08,
          51.08,
          51.08,
          51.08,
          51.08,
          51.08,
          51.08,
          51.08,
          51.08,
          51.08,
          51.08,
          51.08,
          51.08,
          51.08,
          51.08,
          51.08,
          51.08,
          51.08,
          51.08,
          51.08,
          51.08,
          51.08,
          51.08,
          51.08,
          51.08,
          51.08,
          51.08,
          51.08,
          51.08,
          51.08,
          51.08,
          51.08,
          51.08,
          51.08,
          51.08,
          51.08,
          51.08,
          51.08,
          51.08,
          51.08,
          51.08,
          51.08,
          51.08,
          51.08,
          51.08,
          51.08,
          51.08,
          51.08,
          51.08,
          51.08,
          51.08,
          51.08,
          51.08,
          51.08,
          51.08,
          51.08,
          51.08,
          51.08,
          51.08,
          51.08,
          51.08,
          51.08,
          51.08,
          51.08,
          51.08,
          51.08,
          51.08,
          51.08,
          51.08,
          51.08,
          51.08,
          51.08,
          51.08,
          51.08,
          51.08,
          51.08,
          51.08,
          51.08,
          51.08,
          51.08,
          51.08,
          51.08,
          51.08,
          51.08,
          51.08,
          51.08,
          51.08,
          51.08,
          51.08,
          51.08,
          51.08,
          51.08,
          51.08,
          51.08,
          51.08,
          51.08,
          51.08,
          51.08,
          51.08,
          51.08,
          51.08,
          51.08,
          51.08,
          51.08,
          51.08,
          51.08,
          51.08,
          51.08,
          51.08,
          51.08,
          51.08,
          51.08,
          51.08,
          51.08,
          51.08,
          51.08,
          51.08,
          51.08,
          51.08,
          51.08,
          51.08,
          51.08,
          51.08,
          51.08,
          51.08,
          51.08,
          51.08,
          51.08,
          51.08,
          51.08,
          51.08,
          51.08,
          51.08,
          51.08,
          51.08,
          51.08,
          51.08,
          51.08,
          51.08,
          51.08,
          51.08
         ],
         "xaxis": "x",
         "y": [
          53,
          52,
          53,
          52,
          52,
          37,
          38,
          39,
          41,
          44,
          45,
          47,
          49,
          49,
          50,
          37,
          38,
          39,
          41,
          44,
          45,
          47,
          49,
          49,
          50,
          37,
          38,
          39,
          41,
          44,
          45,
          47,
          49,
          49,
          50,
          50,
          37,
          38,
          39,
          41,
          44,
          45,
          47,
          49,
          49,
          50,
          50,
          50,
          37,
          38,
          39,
          41,
          44,
          45,
          47,
          49,
          49,
          50,
          50,
          50,
          37,
          38,
          39,
          41,
          44,
          45,
          47,
          49,
          49,
          50,
          50,
          50,
          37,
          38,
          39,
          41,
          44,
          45,
          47,
          49,
          49,
          50,
          50,
          50,
          37,
          38,
          39,
          41,
          44,
          45,
          47,
          49,
          49,
          50,
          50,
          50,
          37,
          38,
          39,
          41,
          44,
          45,
          47,
          49,
          49,
          50,
          50,
          50,
          37,
          38,
          39,
          41,
          44,
          45,
          47,
          49,
          49,
          50,
          50,
          50,
          37,
          38,
          39,
          41,
          44,
          45,
          47,
          49,
          49,
          50,
          50,
          50,
          42,
          42,
          41,
          41,
          44,
          45,
          47,
          49,
          49,
          50,
          50,
          50,
          42,
          41,
          41,
          44,
          45,
          47,
          49,
          49,
          50,
          50,
          50,
          42,
          42,
          41,
          41,
          44,
          45,
          47,
          49,
          49,
          50,
          50,
          50,
          42,
          42,
          41,
          41,
          44,
          45,
          47,
          49,
          49,
          50,
          50,
          50,
          42,
          42,
          41,
          41,
          44,
          45,
          47,
          49,
          49,
          50,
          50,
          50,
          42,
          42,
          41,
          41,
          44,
          45,
          47,
          49,
          49,
          50,
          50,
          50,
          42,
          42,
          41,
          41,
          44,
          45,
          47,
          49,
          49,
          50,
          50,
          50,
          42,
          42,
          41,
          41,
          44,
          45,
          47,
          49,
          49,
          50,
          50,
          50,
          42,
          42,
          41,
          41,
          44,
          45,
          47,
          49,
          49,
          50,
          50,
          50,
          42,
          42,
          41,
          41,
          44,
          45,
          47,
          49,
          49,
          50,
          50,
          50,
          42,
          42,
          42,
          41,
          41,
          44,
          45,
          47,
          49,
          49,
          50,
          50,
          50,
          42,
          42,
          41,
          41,
          44,
          45,
          47,
          49,
          49,
          50,
          50,
          50,
          42,
          42,
          41,
          41,
          44,
          45,
          47,
          49,
          49,
          50,
          50,
          50,
          42,
          42,
          41,
          41,
          44,
          45,
          47,
          49,
          49,
          50,
          50,
          50,
          42,
          42,
          41,
          41,
          44,
          45,
          47,
          49,
          49,
          50,
          50,
          50,
          42,
          42,
          41,
          41,
          44,
          45,
          47,
          49,
          49,
          50,
          50,
          50,
          42,
          42,
          41,
          41,
          44,
          45,
          47,
          49,
          49,
          50,
          50,
          50,
          44,
          43,
          42,
          41,
          44,
          45,
          47,
          49,
          49,
          50,
          50,
          50,
          44,
          43,
          42,
          41,
          44,
          45,
          47,
          49,
          49,
          50,
          50,
          50,
          44,
          43,
          42,
          41,
          44,
          45,
          47,
          49,
          49,
          50,
          50,
          50,
          44,
          43,
          42,
          41,
          44,
          45,
          47,
          49,
          49,
          50,
          50,
          50,
          44,
          43,
          42,
          41,
          44,
          45,
          47,
          49,
          49,
          50,
          50,
          50,
          44,
          43,
          42,
          41,
          44,
          45,
          47,
          49,
          49,
          50,
          50,
          50,
          44,
          43,
          42,
          41,
          44,
          45,
          47,
          49,
          49,
          50,
          50,
          50,
          42,
          43,
          44,
          46,
          48,
          49,
          50,
          50,
          50,
          50,
          50,
          43,
          44,
          46,
          48,
          49,
          50,
          50,
          50,
          50,
          50,
          46,
          47,
          49,
          50,
          50,
          50,
          50,
          50,
          47,
          49,
          50,
          50,
          50,
          50,
          50,
          49,
          50,
          50,
          50,
          50,
          50,
          50,
          50,
          50,
          50,
          50,
          50,
          50,
          50,
          50,
          50,
          50,
          50,
          50,
          50,
          50
         ],
         "yaxis": "y"
        },
        {
         "line": {
          "color": "black",
          "dash": "dash"
         },
         "mode": "lines",
         "name": "Perfect Forecast",
         "type": "scatter",
         "x": [
          46.08,
          46.19010101010101,
          46.30020202020202,
          46.41030303030303,
          46.52040404040404,
          46.63050505050505,
          46.74060606060606,
          46.85070707070707,
          46.96080808080808,
          47.07090909090909,
          47.1810101010101,
          47.29111111111111,
          47.40121212121212,
          47.51131313131313,
          47.62141414141414,
          47.73151515151515,
          47.84161616161616,
          47.95171717171717,
          48.06181818181818,
          48.17191919191919,
          48.2820202020202,
          48.39212121212121,
          48.50222222222222,
          48.61232323232323,
          48.72242424242424,
          48.83252525252525,
          48.94262626262626,
          49.05272727272727,
          49.16282828282828,
          49.27292929292929,
          49.3830303030303,
          49.493131313131315,
          49.60323232323232,
          49.71333333333333,
          49.82343434343434,
          49.93353535353535,
          50.04363636363636,
          50.15373737373737,
          50.26383838383838,
          50.373939393939395,
          50.4840404040404,
          50.59414141414141,
          50.70424242424242,
          50.814343434343435,
          50.92444444444444,
          51.03454545454545,
          51.14464646464646,
          51.254747474747475,
          51.36484848484848,
          51.47494949494949,
          51.5850505050505,
          51.695151515151515,
          51.80525252525252,
          51.91535353535353,
          52.025454545454544,
          52.135555555555555,
          52.24565656565656,
          52.35575757575757,
          52.465858585858584,
          52.575959595959596,
          52.68606060606061,
          52.79616161616161,
          52.906262626262624,
          53.016363636363636,
          53.12646464646464,
          53.23656565656565,
          53.346666666666664,
          53.456767676767676,
          53.56686868686869,
          53.67696969696969,
          53.787070707070704,
          53.897171717171716,
          54.00727272727272,
          54.11737373737373,
          54.227474747474744,
          54.337575757575756,
          54.44767676767677,
          54.55777777777777,
          54.667878787878784,
          54.777979797979796,
          54.8880808080808,
          54.99818181818182,
          55.108282828282825,
          55.218383838383836,
          55.32848484848485,
          55.43858585858585,
          55.548686868686865,
          55.65878787878788,
          55.76888888888889,
          55.8789898989899,
          55.989090909090905,
          56.09919191919192,
          56.20929292929293,
          56.31939393939393,
          56.429494949494945,
          56.53959595959596,
          56.64969696969697,
          56.75979797979798,
          56.869898989898985,
          56.98
         ],
         "y": [
          46.08,
          46.19010101010101,
          46.30020202020202,
          46.41030303030303,
          46.52040404040404,
          46.63050505050505,
          46.74060606060606,
          46.85070707070707,
          46.96080808080808,
          47.07090909090909,
          47.1810101010101,
          47.29111111111111,
          47.40121212121212,
          47.51131313131313,
          47.62141414141414,
          47.73151515151515,
          47.84161616161616,
          47.95171717171717,
          48.06181818181818,
          48.17191919191919,
          48.2820202020202,
          48.39212121212121,
          48.50222222222222,
          48.61232323232323,
          48.72242424242424,
          48.83252525252525,
          48.94262626262626,
          49.05272727272727,
          49.16282828282828,
          49.27292929292929,
          49.3830303030303,
          49.493131313131315,
          49.60323232323232,
          49.71333333333333,
          49.82343434343434,
          49.93353535353535,
          50.04363636363636,
          50.15373737373737,
          50.26383838383838,
          50.373939393939395,
          50.4840404040404,
          50.59414141414141,
          50.70424242424242,
          50.814343434343435,
          50.92444444444444,
          51.03454545454545,
          51.14464646464646,
          51.254747474747475,
          51.36484848484848,
          51.47494949494949,
          51.5850505050505,
          51.695151515151515,
          51.80525252525252,
          51.91535353535353,
          52.025454545454544,
          52.135555555555555,
          52.24565656565656,
          52.35575757575757,
          52.465858585858584,
          52.575959595959596,
          52.68606060606061,
          52.79616161616161,
          52.906262626262624,
          53.016363636363636,
          53.12646464646464,
          53.23656565656565,
          53.346666666666664,
          53.456767676767676,
          53.56686868686869,
          53.67696969696969,
          53.787070707070704,
          53.897171717171716,
          54.00727272727272,
          54.11737373737373,
          54.227474747474744,
          54.337575757575756,
          54.44767676767677,
          54.55777777777777,
          54.667878787878784,
          54.777979797979796,
          54.8880808080808,
          54.99818181818182,
          55.108282828282825,
          55.218383838383836,
          55.32848484848485,
          55.43858585858585,
          55.548686868686865,
          55.65878787878788,
          55.76888888888889,
          55.8789898989899,
          55.989090909090905,
          56.09919191919192,
          56.20929292929293,
          56.31939393939393,
          56.429494949494945,
          56.53959595959596,
          56.64969696969697,
          56.75979797979798,
          56.869898989898985,
          56.98
         ]
        },
        {
         "line": {
          "color": "gray",
          "dash": "dot"
         },
         "mode": "lines",
         "name": "+1.0°F Margin",
         "type": "scatter",
         "x": [
          46.08,
          46.19010101010101,
          46.30020202020202,
          46.41030303030303,
          46.52040404040404,
          46.63050505050505,
          46.74060606060606,
          46.85070707070707,
          46.96080808080808,
          47.07090909090909,
          47.1810101010101,
          47.29111111111111,
          47.40121212121212,
          47.51131313131313,
          47.62141414141414,
          47.73151515151515,
          47.84161616161616,
          47.95171717171717,
          48.06181818181818,
          48.17191919191919,
          48.2820202020202,
          48.39212121212121,
          48.50222222222222,
          48.61232323232323,
          48.72242424242424,
          48.83252525252525,
          48.94262626262626,
          49.05272727272727,
          49.16282828282828,
          49.27292929292929,
          49.3830303030303,
          49.493131313131315,
          49.60323232323232,
          49.71333333333333,
          49.82343434343434,
          49.93353535353535,
          50.04363636363636,
          50.15373737373737,
          50.26383838383838,
          50.373939393939395,
          50.4840404040404,
          50.59414141414141,
          50.70424242424242,
          50.814343434343435,
          50.92444444444444,
          51.03454545454545,
          51.14464646464646,
          51.254747474747475,
          51.36484848484848,
          51.47494949494949,
          51.5850505050505,
          51.695151515151515,
          51.80525252525252,
          51.91535353535353,
          52.025454545454544,
          52.135555555555555,
          52.24565656565656,
          52.35575757575757,
          52.465858585858584,
          52.575959595959596,
          52.68606060606061,
          52.79616161616161,
          52.906262626262624,
          53.016363636363636,
          53.12646464646464,
          53.23656565656565,
          53.346666666666664,
          53.456767676767676,
          53.56686868686869,
          53.67696969696969,
          53.787070707070704,
          53.897171717171716,
          54.00727272727272,
          54.11737373737373,
          54.227474747474744,
          54.337575757575756,
          54.44767676767677,
          54.55777777777777,
          54.667878787878784,
          54.777979797979796,
          54.8880808080808,
          54.99818181818182,
          55.108282828282825,
          55.218383838383836,
          55.32848484848485,
          55.43858585858585,
          55.548686868686865,
          55.65878787878788,
          55.76888888888889,
          55.8789898989899,
          55.989090909090905,
          56.09919191919192,
          56.20929292929293,
          56.31939393939393,
          56.429494949494945,
          56.53959595959596,
          56.64969696969697,
          56.75979797979798,
          56.869898989898985,
          56.98
         ],
         "y": [
          47.08,
          47.19010101010101,
          47.30020202020202,
          47.41030303030303,
          47.52040404040404,
          47.63050505050505,
          47.74060606060606,
          47.85070707070707,
          47.96080808080808,
          48.07090909090909,
          48.1810101010101,
          48.29111111111111,
          48.40121212121212,
          48.51131313131313,
          48.62141414141414,
          48.73151515151515,
          48.84161616161616,
          48.95171717171717,
          49.06181818181818,
          49.17191919191919,
          49.2820202020202,
          49.39212121212121,
          49.50222222222222,
          49.61232323232323,
          49.72242424242424,
          49.83252525252525,
          49.94262626262626,
          50.05272727272727,
          50.16282828282828,
          50.27292929292929,
          50.3830303030303,
          50.493131313131315,
          50.60323232323232,
          50.71333333333333,
          50.82343434343434,
          50.93353535353535,
          51.04363636363636,
          51.15373737373737,
          51.26383838383838,
          51.373939393939395,
          51.4840404040404,
          51.59414141414141,
          51.70424242424242,
          51.814343434343435,
          51.92444444444444,
          52.03454545454545,
          52.14464646464646,
          52.254747474747475,
          52.36484848484848,
          52.47494949494949,
          52.5850505050505,
          52.695151515151515,
          52.80525252525252,
          52.91535353535353,
          53.025454545454544,
          53.135555555555555,
          53.24565656565656,
          53.35575757575757,
          53.465858585858584,
          53.575959595959596,
          53.68606060606061,
          53.79616161616161,
          53.906262626262624,
          54.016363636363636,
          54.12646464646464,
          54.23656565656565,
          54.346666666666664,
          54.456767676767676,
          54.56686868686869,
          54.67696969696969,
          54.787070707070704,
          54.897171717171716,
          55.00727272727272,
          55.11737373737373,
          55.227474747474744,
          55.337575757575756,
          55.44767676767677,
          55.55777777777777,
          55.667878787878784,
          55.777979797979796,
          55.8880808080808,
          55.99818181818182,
          56.108282828282825,
          56.218383838383836,
          56.32848484848485,
          56.43858585858585,
          56.548686868686865,
          56.65878787878788,
          56.76888888888889,
          56.8789898989899,
          56.989090909090905,
          57.09919191919192,
          57.20929292929293,
          57.31939393939393,
          57.429494949494945,
          57.53959595959596,
          57.64969696969697,
          57.75979797979798,
          57.869898989898985,
          57.98
         ]
        },
        {
         "line": {
          "color": "gray",
          "dash": "dot"
         },
         "mode": "lines",
         "name": "-1.0°F Margin",
         "type": "scatter",
         "x": [
          46.08,
          46.19010101010101,
          46.30020202020202,
          46.41030303030303,
          46.52040404040404,
          46.63050505050505,
          46.74060606060606,
          46.85070707070707,
          46.96080808080808,
          47.07090909090909,
          47.1810101010101,
          47.29111111111111,
          47.40121212121212,
          47.51131313131313,
          47.62141414141414,
          47.73151515151515,
          47.84161616161616,
          47.95171717171717,
          48.06181818181818,
          48.17191919191919,
          48.2820202020202,
          48.39212121212121,
          48.50222222222222,
          48.61232323232323,
          48.72242424242424,
          48.83252525252525,
          48.94262626262626,
          49.05272727272727,
          49.16282828282828,
          49.27292929292929,
          49.3830303030303,
          49.493131313131315,
          49.60323232323232,
          49.71333333333333,
          49.82343434343434,
          49.93353535353535,
          50.04363636363636,
          50.15373737373737,
          50.26383838383838,
          50.373939393939395,
          50.4840404040404,
          50.59414141414141,
          50.70424242424242,
          50.814343434343435,
          50.92444444444444,
          51.03454545454545,
          51.14464646464646,
          51.254747474747475,
          51.36484848484848,
          51.47494949494949,
          51.5850505050505,
          51.695151515151515,
          51.80525252525252,
          51.91535353535353,
          52.025454545454544,
          52.135555555555555,
          52.24565656565656,
          52.35575757575757,
          52.465858585858584,
          52.575959595959596,
          52.68606060606061,
          52.79616161616161,
          52.906262626262624,
          53.016363636363636,
          53.12646464646464,
          53.23656565656565,
          53.346666666666664,
          53.456767676767676,
          53.56686868686869,
          53.67696969696969,
          53.787070707070704,
          53.897171717171716,
          54.00727272727272,
          54.11737373737373,
          54.227474747474744,
          54.337575757575756,
          54.44767676767677,
          54.55777777777777,
          54.667878787878784,
          54.777979797979796,
          54.8880808080808,
          54.99818181818182,
          55.108282828282825,
          55.218383838383836,
          55.32848484848485,
          55.43858585858585,
          55.548686868686865,
          55.65878787878788,
          55.76888888888889,
          55.8789898989899,
          55.989090909090905,
          56.09919191919192,
          56.20929292929293,
          56.31939393939393,
          56.429494949494945,
          56.53959595959596,
          56.64969696969697,
          56.75979797979798,
          56.869898989898985,
          56.98
         ],
         "y": [
          45.08,
          45.19010101010101,
          45.30020202020202,
          45.41030303030303,
          45.52040404040404,
          45.63050505050505,
          45.74060606060606,
          45.85070707070707,
          45.96080808080808,
          46.07090909090909,
          46.1810101010101,
          46.29111111111111,
          46.40121212121212,
          46.51131313131313,
          46.62141414141414,
          46.73151515151515,
          46.84161616161616,
          46.95171717171717,
          47.06181818181818,
          47.17191919191919,
          47.2820202020202,
          47.39212121212121,
          47.50222222222222,
          47.61232323232323,
          47.72242424242424,
          47.83252525252525,
          47.94262626262626,
          48.05272727272727,
          48.16282828282828,
          48.27292929292929,
          48.3830303030303,
          48.493131313131315,
          48.60323232323232,
          48.71333333333333,
          48.82343434343434,
          48.93353535353535,
          49.04363636363636,
          49.15373737373737,
          49.26383838383838,
          49.373939393939395,
          49.4840404040404,
          49.59414141414141,
          49.70424242424242,
          49.814343434343435,
          49.92444444444444,
          50.03454545454545,
          50.14464646464646,
          50.254747474747475,
          50.36484848484848,
          50.47494949494949,
          50.5850505050505,
          50.695151515151515,
          50.80525252525252,
          50.91535353535353,
          51.025454545454544,
          51.135555555555555,
          51.24565656565656,
          51.35575757575757,
          51.465858585858584,
          51.575959595959596,
          51.68606060606061,
          51.79616161616161,
          51.906262626262624,
          52.016363636363636,
          52.12646464646464,
          52.23656565656565,
          52.346666666666664,
          52.456767676767676,
          52.56686868686869,
          52.67696969696969,
          52.787070707070704,
          52.897171717171716,
          53.00727272727272,
          53.11737373737373,
          53.227474747474744,
          53.337575757575756,
          53.44767676767677,
          53.55777777777777,
          53.667878787878784,
          53.777979797979796,
          53.8880808080808,
          53.99818181818182,
          54.108282828282825,
          54.218383838383836,
          54.32848484848485,
          54.43858585858585,
          54.548686868686865,
          54.65878787878788,
          54.76888888888889,
          54.8789898989899,
          54.989090909090905,
          55.09919191919192,
          55.20929292929293,
          55.31939393939393,
          55.429494949494945,
          55.53959595959596,
          55.64969696969697,
          55.75979797979798,
          55.869898989898985,
          55.98
         ]
        }
       ],
       "layout": {
        "coloraxis": {
         "cmax": 14,
         "cmin": 0,
         "colorbar": {
          "title": {
           "text": "hours_ahead"
          }
         },
         "colorscale": [
          [
           0,
           "rgb(49,54,149)"
          ],
          [
           0.1,
           "rgb(69,117,180)"
          ],
          [
           0.2,
           "rgb(116,173,209)"
          ],
          [
           0.3,
           "rgb(171,217,233)"
          ],
          [
           0.4,
           "rgb(224,243,248)"
          ],
          [
           0.5,
           "rgb(255,255,191)"
          ],
          [
           0.6,
           "rgb(254,224,144)"
          ],
          [
           0.7,
           "rgb(253,174,97)"
          ],
          [
           0.8,
           "rgb(244,109,67)"
          ],
          [
           0.9,
           "rgb(215,48,39)"
          ],
          [
           1,
           "rgb(165,0,38)"
          ]
         ]
        },
        "legend": {
         "tracegroupgap": 0
        },
        "template": {
         "data": {
          "bar": [
           {
            "error_x": {
             "color": "#2a3f5f"
            },
            "error_y": {
             "color": "#2a3f5f"
            },
            "marker": {
             "line": {
              "color": "#E5ECF6",
              "width": 0.5
             },
             "pattern": {
              "fillmode": "overlay",
              "size": 10,
              "solidity": 0.2
             }
            },
            "type": "bar"
           }
          ],
          "barpolar": [
           {
            "marker": {
             "line": {
              "color": "#E5ECF6",
              "width": 0.5
             },
             "pattern": {
              "fillmode": "overlay",
              "size": 10,
              "solidity": 0.2
             }
            },
            "type": "barpolar"
           }
          ],
          "carpet": [
           {
            "aaxis": {
             "endlinecolor": "#2a3f5f",
             "gridcolor": "white",
             "linecolor": "white",
             "minorgridcolor": "white",
             "startlinecolor": "#2a3f5f"
            },
            "baxis": {
             "endlinecolor": "#2a3f5f",
             "gridcolor": "white",
             "linecolor": "white",
             "minorgridcolor": "white",
             "startlinecolor": "#2a3f5f"
            },
            "type": "carpet"
           }
          ],
          "choropleth": [
           {
            "colorbar": {
             "outlinewidth": 0,
             "ticks": ""
            },
            "type": "choropleth"
           }
          ],
          "contour": [
           {
            "colorbar": {
             "outlinewidth": 0,
             "ticks": ""
            },
            "colorscale": [
             [
              0,
              "#0d0887"
             ],
             [
              0.1111111111111111,
              "#46039f"
             ],
             [
              0.2222222222222222,
              "#7201a8"
             ],
             [
              0.3333333333333333,
              "#9c179e"
             ],
             [
              0.4444444444444444,
              "#bd3786"
             ],
             [
              0.5555555555555556,
              "#d8576b"
             ],
             [
              0.6666666666666666,
              "#ed7953"
             ],
             [
              0.7777777777777778,
              "#fb9f3a"
             ],
             [
              0.8888888888888888,
              "#fdca26"
             ],
             [
              1,
              "#f0f921"
             ]
            ],
            "type": "contour"
           }
          ],
          "contourcarpet": [
           {
            "colorbar": {
             "outlinewidth": 0,
             "ticks": ""
            },
            "type": "contourcarpet"
           }
          ],
          "heatmap": [
           {
            "colorbar": {
             "outlinewidth": 0,
             "ticks": ""
            },
            "colorscale": [
             [
              0,
              "#0d0887"
             ],
             [
              0.1111111111111111,
              "#46039f"
             ],
             [
              0.2222222222222222,
              "#7201a8"
             ],
             [
              0.3333333333333333,
              "#9c179e"
             ],
             [
              0.4444444444444444,
              "#bd3786"
             ],
             [
              0.5555555555555556,
              "#d8576b"
             ],
             [
              0.6666666666666666,
              "#ed7953"
             ],
             [
              0.7777777777777778,
              "#fb9f3a"
             ],
             [
              0.8888888888888888,
              "#fdca26"
             ],
             [
              1,
              "#f0f921"
             ]
            ],
            "type": "heatmap"
           }
          ],
          "heatmapgl": [
           {
            "colorbar": {
             "outlinewidth": 0,
             "ticks": ""
            },
            "colorscale": [
             [
              0,
              "#0d0887"
             ],
             [
              0.1111111111111111,
              "#46039f"
             ],
             [
              0.2222222222222222,
              "#7201a8"
             ],
             [
              0.3333333333333333,
              "#9c179e"
             ],
             [
              0.4444444444444444,
              "#bd3786"
             ],
             [
              0.5555555555555556,
              "#d8576b"
             ],
             [
              0.6666666666666666,
              "#ed7953"
             ],
             [
              0.7777777777777778,
              "#fb9f3a"
             ],
             [
              0.8888888888888888,
              "#fdca26"
             ],
             [
              1,
              "#f0f921"
             ]
            ],
            "type": "heatmapgl"
           }
          ],
          "histogram": [
           {
            "marker": {
             "pattern": {
              "fillmode": "overlay",
              "size": 10,
              "solidity": 0.2
             }
            },
            "type": "histogram"
           }
          ],
          "histogram2d": [
           {
            "colorbar": {
             "outlinewidth": 0,
             "ticks": ""
            },
            "colorscale": [
             [
              0,
              "#0d0887"
             ],
             [
              0.1111111111111111,
              "#46039f"
             ],
             [
              0.2222222222222222,
              "#7201a8"
             ],
             [
              0.3333333333333333,
              "#9c179e"
             ],
             [
              0.4444444444444444,
              "#bd3786"
             ],
             [
              0.5555555555555556,
              "#d8576b"
             ],
             [
              0.6666666666666666,
              "#ed7953"
             ],
             [
              0.7777777777777778,
              "#fb9f3a"
             ],
             [
              0.8888888888888888,
              "#fdca26"
             ],
             [
              1,
              "#f0f921"
             ]
            ],
            "type": "histogram2d"
           }
          ],
          "histogram2dcontour": [
           {
            "colorbar": {
             "outlinewidth": 0,
             "ticks": ""
            },
            "colorscale": [
             [
              0,
              "#0d0887"
             ],
             [
              0.1111111111111111,
              "#46039f"
             ],
             [
              0.2222222222222222,
              "#7201a8"
             ],
             [
              0.3333333333333333,
              "#9c179e"
             ],
             [
              0.4444444444444444,
              "#bd3786"
             ],
             [
              0.5555555555555556,
              "#d8576b"
             ],
             [
              0.6666666666666666,
              "#ed7953"
             ],
             [
              0.7777777777777778,
              "#fb9f3a"
             ],
             [
              0.8888888888888888,
              "#fdca26"
             ],
             [
              1,
              "#f0f921"
             ]
            ],
            "type": "histogram2dcontour"
           }
          ],
          "mesh3d": [
           {
            "colorbar": {
             "outlinewidth": 0,
             "ticks": ""
            },
            "type": "mesh3d"
           }
          ],
          "parcoords": [
           {
            "line": {
             "colorbar": {
              "outlinewidth": 0,
              "ticks": ""
             }
            },
            "type": "parcoords"
           }
          ],
          "pie": [
           {
            "automargin": true,
            "type": "pie"
           }
          ],
          "scatter": [
           {
            "fillpattern": {
             "fillmode": "overlay",
             "size": 10,
             "solidity": 0.2
            },
            "type": "scatter"
           }
          ],
          "scatter3d": [
           {
            "line": {
             "colorbar": {
              "outlinewidth": 0,
              "ticks": ""
             }
            },
            "marker": {
             "colorbar": {
              "outlinewidth": 0,
              "ticks": ""
             }
            },
            "type": "scatter3d"
           }
          ],
          "scattercarpet": [
           {
            "marker": {
             "colorbar": {
              "outlinewidth": 0,
              "ticks": ""
             }
            },
            "type": "scattercarpet"
           }
          ],
          "scattergeo": [
           {
            "marker": {
             "colorbar": {
              "outlinewidth": 0,
              "ticks": ""
             }
            },
            "type": "scattergeo"
           }
          ],
          "scattergl": [
           {
            "marker": {
             "colorbar": {
              "outlinewidth": 0,
              "ticks": ""
             }
            },
            "type": "scattergl"
           }
          ],
          "scattermapbox": [
           {
            "marker": {
             "colorbar": {
              "outlinewidth": 0,
              "ticks": ""
             }
            },
            "type": "scattermapbox"
           }
          ],
          "scatterpolar": [
           {
            "marker": {
             "colorbar": {
              "outlinewidth": 0,
              "ticks": ""
             }
            },
            "type": "scatterpolar"
           }
          ],
          "scatterpolargl": [
           {
            "marker": {
             "colorbar": {
              "outlinewidth": 0,
              "ticks": ""
             }
            },
            "type": "scatterpolargl"
           }
          ],
          "scatterternary": [
           {
            "marker": {
             "colorbar": {
              "outlinewidth": 0,
              "ticks": ""
             }
            },
            "type": "scatterternary"
           }
          ],
          "surface": [
           {
            "colorbar": {
             "outlinewidth": 0,
             "ticks": ""
            },
            "colorscale": [
             [
              0,
              "#0d0887"
             ],
             [
              0.1111111111111111,
              "#46039f"
             ],
             [
              0.2222222222222222,
              "#7201a8"
             ],
             [
              0.3333333333333333,
              "#9c179e"
             ],
             [
              0.4444444444444444,
              "#bd3786"
             ],
             [
              0.5555555555555556,
              "#d8576b"
             ],
             [
              0.6666666666666666,
              "#ed7953"
             ],
             [
              0.7777777777777778,
              "#fb9f3a"
             ],
             [
              0.8888888888888888,
              "#fdca26"
             ],
             [
              1,
              "#f0f921"
             ]
            ],
            "type": "surface"
           }
          ],
          "table": [
           {
            "cells": {
             "fill": {
              "color": "#EBF0F8"
             },
             "line": {
              "color": "white"
             }
            },
            "header": {
             "fill": {
              "color": "#C8D4E3"
             },
             "line": {
              "color": "white"
             }
            },
            "type": "table"
           }
          ]
         },
         "layout": {
          "annotationdefaults": {
           "arrowcolor": "#2a3f5f",
           "arrowhead": 0,
           "arrowwidth": 1
          },
          "autotypenumbers": "strict",
          "coloraxis": {
           "colorbar": {
            "outlinewidth": 0,
            "ticks": ""
           }
          },
          "colorscale": {
           "diverging": [
            [
             0,
             "#8e0152"
            ],
            [
             0.1,
             "#c51b7d"
            ],
            [
             0.2,
             "#de77ae"
            ],
            [
             0.3,
             "#f1b6da"
            ],
            [
             0.4,
             "#fde0ef"
            ],
            [
             0.5,
             "#f7f7f7"
            ],
            [
             0.6,
             "#e6f5d0"
            ],
            [
             0.7,
             "#b8e186"
            ],
            [
             0.8,
             "#7fbc41"
            ],
            [
             0.9,
             "#4d9221"
            ],
            [
             1,
             "#276419"
            ]
           ],
           "sequential": [
            [
             0,
             "#0d0887"
            ],
            [
             0.1111111111111111,
             "#46039f"
            ],
            [
             0.2222222222222222,
             "#7201a8"
            ],
            [
             0.3333333333333333,
             "#9c179e"
            ],
            [
             0.4444444444444444,
             "#bd3786"
            ],
            [
             0.5555555555555556,
             "#d8576b"
            ],
            [
             0.6666666666666666,
             "#ed7953"
            ],
            [
             0.7777777777777778,
             "#fb9f3a"
            ],
            [
             0.8888888888888888,
             "#fdca26"
            ],
            [
             1,
             "#f0f921"
            ]
           ],
           "sequentialminus": [
            [
             0,
             "#0d0887"
            ],
            [
             0.1111111111111111,
             "#46039f"
            ],
            [
             0.2222222222222222,
             "#7201a8"
            ],
            [
             0.3333333333333333,
             "#9c179e"
            ],
            [
             0.4444444444444444,
             "#bd3786"
            ],
            [
             0.5555555555555556,
             "#d8576b"
            ],
            [
             0.6666666666666666,
             "#ed7953"
            ],
            [
             0.7777777777777778,
             "#fb9f3a"
            ],
            [
             0.8888888888888888,
             "#fdca26"
            ],
            [
             1,
             "#f0f921"
            ]
           ]
          },
          "colorway": [
           "#636efa",
           "#EF553B",
           "#00cc96",
           "#ab63fa",
           "#FFA15A",
           "#19d3f3",
           "#FF6692",
           "#B6E880",
           "#FF97FF",
           "#FECB52"
          ],
          "font": {
           "color": "#2a3f5f"
          },
          "geo": {
           "bgcolor": "white",
           "lakecolor": "white",
           "landcolor": "#E5ECF6",
           "showlakes": true,
           "showland": true,
           "subunitcolor": "white"
          },
          "hoverlabel": {
           "align": "left"
          },
          "hovermode": "closest",
          "mapbox": {
           "style": "light"
          },
          "paper_bgcolor": "white",
          "plot_bgcolor": "#E5ECF6",
          "polar": {
           "angularaxis": {
            "gridcolor": "white",
            "linecolor": "white",
            "ticks": ""
           },
           "bgcolor": "#E5ECF6",
           "radialaxis": {
            "gridcolor": "white",
            "linecolor": "white",
            "ticks": ""
           }
          },
          "scene": {
           "xaxis": {
            "backgroundcolor": "#E5ECF6",
            "gridcolor": "white",
            "gridwidth": 2,
            "linecolor": "white",
            "showbackground": true,
            "ticks": "",
            "zerolinecolor": "white"
           },
           "yaxis": {
            "backgroundcolor": "#E5ECF6",
            "gridcolor": "white",
            "gridwidth": 2,
            "linecolor": "white",
            "showbackground": true,
            "ticks": "",
            "zerolinecolor": "white"
           },
           "zaxis": {
            "backgroundcolor": "#E5ECF6",
            "gridcolor": "white",
            "gridwidth": 2,
            "linecolor": "white",
            "showbackground": true,
            "ticks": "",
            "zerolinecolor": "white"
           }
          },
          "shapedefaults": {
           "line": {
            "color": "#2a3f5f"
           }
          },
          "ternary": {
           "aaxis": {
            "gridcolor": "white",
            "linecolor": "white",
            "ticks": ""
           },
           "baxis": {
            "gridcolor": "white",
            "linecolor": "white",
            "ticks": ""
           },
           "bgcolor": "#E5ECF6",
           "caxis": {
            "gridcolor": "white",
            "linecolor": "white",
            "ticks": ""
           }
          },
          "title": {
           "x": 0.05
          },
          "xaxis": {
           "automargin": true,
           "gridcolor": "white",
           "linecolor": "white",
           "ticks": "",
           "title": {
            "standoff": 15
           },
           "zerolinecolor": "white",
           "zerolinewidth": 2
          },
          "yaxis": {
           "automargin": true,
           "gridcolor": "white",
           "linecolor": "white",
           "ticks": "",
           "title": {
            "standoff": 15
           },
           "zerolinecolor": "white",
           "zerolinewidth": 2
          }
         }
        },
        "title": {
         "text": "Forecast vs Actual Daily Maximum Temperatures (±1.0°F margin)<br>Color shows hours before actual high"
        },
        "xaxis": {
         "anchor": "y",
         "domain": [
          0,
          1
         ],
         "title": {
          "text": "actual_max_temp"
         }
        },
        "yaxis": {
         "anchor": "x",
         "domain": [
          0,
          1
         ],
         "title": {
          "text": "forecast_max_temp"
         }
        }
       }
      }
     },
     "metadata": {},
     "output_type": "display_data"
    },
    {
     "data": {
      "application/vnd.plotly.v1+json": {
       "config": {
        "plotlyServerURL": "https://plot.ly"
       },
       "data": [
        {
         "customdata": [
          [
           "2024-12-08T16:00:00-05:00",
           "2024-12-08T15:35:44.402781-05:00",
           0.40433256083333335,
           1.0200000000000031,
           51.98,
           false
          ],
          [
           "2024-12-08T17:00:00-05:00",
           "2024-12-08T15:35:44.402781-05:00",
           1.4043325608333335,
           0.020000000000003126,
           51.98,
           true
          ],
          [
           "2024-12-08T16:00:00-05:00",
           "2024-12-08T15:45:44.263109-05:00",
           0.23770469194444444,
           1.0200000000000031,
           51.98,
           false
          ],
          [
           "2024-12-08T17:00:00-05:00",
           "2024-12-08T15:45:44.263109-05:00",
           1.2377046919444443,
           0.020000000000003126,
           51.98,
           true
          ],
          [
           "2024-12-08T17:00:00-05:00",
           "2024-12-08T16:00:38.008541-05:00",
           0.9894420719444444,
           0.020000000000003126,
           51.98,
           true
          ],
          [
           "2024-12-09T06:00:00-05:00",
           "2024-12-08T15:35:44.402781-05:00",
           14.404332560833334,
           -14.079999999999998,
           51.08,
           false
          ],
          [
           "2024-12-09T07:00:00-05:00",
           "2024-12-08T15:35:44.402781-05:00",
           15.404332560833334,
           -13.079999999999998,
           51.08,
           false
          ],
          [
           "2024-12-09T08:00:00-05:00",
           "2024-12-08T15:35:44.402781-05:00",
           16.404332560833335,
           -12.079999999999998,
           51.08,
           false
          ],
          [
           "2024-12-09T09:00:00-05:00",
           "2024-12-08T15:35:44.402781-05:00",
           17.404332560833335,
           -10.079999999999998,
           51.08,
           false
          ],
          [
           "2024-12-09T10:00:00-05:00",
           "2024-12-08T15:35:44.402781-05:00",
           18.404332560833335,
           -7.079999999999998,
           51.08,
           false
          ],
          [
           "2024-12-09T11:00:00-05:00",
           "2024-12-08T15:35:44.402781-05:00",
           19.404332560833335,
           -6.079999999999998,
           51.08,
           false
          ],
          [
           "2024-12-09T12:00:00-05:00",
           "2024-12-08T15:35:44.402781-05:00",
           20.404332560833335,
           -4.079999999999998,
           51.08,
           false
          ],
          [
           "2024-12-09T13:00:00-05:00",
           "2024-12-08T15:35:44.402781-05:00",
           21.404332560833335,
           -2.0799999999999983,
           51.08,
           false
          ],
          [
           "2024-12-09T14:00:00-05:00",
           "2024-12-08T15:35:44.402781-05:00",
           22.404332560833335,
           -2.0799999999999983,
           51.08,
           false
          ],
          [
           "2024-12-09T15:00:00-05:00",
           "2024-12-08T15:35:44.402781-05:00",
           23.404332560833335,
           -1.0799999999999983,
           51.08,
           false
          ],
          [
           "2024-12-09T06:00:00-05:00",
           "2024-12-08T15:45:44.263109-05:00",
           14.237704691944444,
           -14.079999999999998,
           51.08,
           false
          ],
          [
           "2024-12-09T07:00:00-05:00",
           "2024-12-08T15:45:44.263109-05:00",
           15.237704691944444,
           -13.079999999999998,
           51.08,
           false
          ],
          [
           "2024-12-09T08:00:00-05:00",
           "2024-12-08T15:45:44.263109-05:00",
           16.237704691944444,
           -12.079999999999998,
           51.08,
           false
          ],
          [
           "2024-12-09T09:00:00-05:00",
           "2024-12-08T15:45:44.263109-05:00",
           17.237704691944444,
           -10.079999999999998,
           51.08,
           false
          ],
          [
           "2024-12-09T10:00:00-05:00",
           "2024-12-08T15:45:44.263109-05:00",
           18.237704691944444,
           -7.079999999999998,
           51.08,
           false
          ],
          [
           "2024-12-09T11:00:00-05:00",
           "2024-12-08T15:45:44.263109-05:00",
           19.237704691944444,
           -6.079999999999998,
           51.08,
           false
          ],
          [
           "2024-12-09T12:00:00-05:00",
           "2024-12-08T15:45:44.263109-05:00",
           20.237704691944444,
           -4.079999999999998,
           51.08,
           false
          ],
          [
           "2024-12-09T13:00:00-05:00",
           "2024-12-08T15:45:44.263109-05:00",
           21.237704691944444,
           -2.0799999999999983,
           51.08,
           false
          ],
          [
           "2024-12-09T14:00:00-05:00",
           "2024-12-08T15:45:44.263109-05:00",
           22.237704691944444,
           -2.0799999999999983,
           51.08,
           false
          ],
          [
           "2024-12-09T15:00:00-05:00",
           "2024-12-08T15:45:44.263109-05:00",
           23.237704691944444,
           -1.0799999999999983,
           51.08,
           false
          ],
          [
           "2024-12-09T06:00:00-05:00",
           "2024-12-08T16:00:38.008541-05:00",
           13.989442071944444,
           -14.079999999999998,
           51.08,
           false
          ],
          [
           "2024-12-09T07:00:00-05:00",
           "2024-12-08T16:00:38.008541-05:00",
           14.989442071944444,
           -13.079999999999998,
           51.08,
           false
          ],
          [
           "2024-12-09T08:00:00-05:00",
           "2024-12-08T16:00:38.008541-05:00",
           15.989442071944444,
           -12.079999999999998,
           51.08,
           false
          ],
          [
           "2024-12-09T09:00:00-05:00",
           "2024-12-08T16:00:38.008541-05:00",
           16.989442071944442,
           -10.079999999999998,
           51.08,
           false
          ],
          [
           "2024-12-09T10:00:00-05:00",
           "2024-12-08T16:00:38.008541-05:00",
           17.989442071944442,
           -7.079999999999998,
           51.08,
           false
          ],
          [
           "2024-12-09T11:00:00-05:00",
           "2024-12-08T16:00:38.008541-05:00",
           18.989442071944442,
           -6.079999999999998,
           51.08,
           false
          ],
          [
           "2024-12-09T12:00:00-05:00",
           "2024-12-08T16:00:38.008541-05:00",
           19.989442071944442,
           -4.079999999999998,
           51.08,
           false
          ],
          [
           "2024-12-09T13:00:00-05:00",
           "2024-12-08T16:00:38.008541-05:00",
           20.989442071944442,
           -2.0799999999999983,
           51.08,
           false
          ],
          [
           "2024-12-09T14:00:00-05:00",
           "2024-12-08T16:00:38.008541-05:00",
           21.989442071944442,
           -2.0799999999999983,
           51.08,
           false
          ],
          [
           "2024-12-09T15:00:00-05:00",
           "2024-12-08T16:00:38.008541-05:00",
           22.989442071944442,
           -1.0799999999999983,
           51.08,
           false
          ],
          [
           "2024-12-09T16:00:00-05:00",
           "2024-12-08T16:00:38.008541-05:00",
           23.989442071944442,
           -1.0799999999999983,
           51.08,
           false
          ],
          [
           "2024-12-09T06:00:00-05:00",
           "2024-12-08T17:15:43.104220-05:00",
           12.738026605555556,
           -14.079999999999998,
           51.08,
           false
          ],
          [
           "2024-12-09T07:00:00-05:00",
           "2024-12-08T17:15:43.104220-05:00",
           13.738026605555556,
           -13.079999999999998,
           51.08,
           false
          ],
          [
           "2024-12-09T08:00:00-05:00",
           "2024-12-08T17:15:43.104220-05:00",
           14.738026605555556,
           -12.079999999999998,
           51.08,
           false
          ],
          [
           "2024-12-09T09:00:00-05:00",
           "2024-12-08T17:15:43.104220-05:00",
           15.738026605555556,
           -10.079999999999998,
           51.08,
           false
          ],
          [
           "2024-12-09T10:00:00-05:00",
           "2024-12-08T17:15:43.104220-05:00",
           16.738026605555554,
           -7.079999999999998,
           51.08,
           false
          ],
          [
           "2024-12-09T11:00:00-05:00",
           "2024-12-08T17:15:43.104220-05:00",
           17.738026605555554,
           -6.079999999999998,
           51.08,
           false
          ],
          [
           "2024-12-09T12:00:00-05:00",
           "2024-12-08T17:15:43.104220-05:00",
           18.738026605555557,
           -4.079999999999998,
           51.08,
           false
          ],
          [
           "2024-12-09T13:00:00-05:00",
           "2024-12-08T17:15:43.104220-05:00",
           19.738026605555557,
           -2.0799999999999983,
           51.08,
           false
          ],
          [
           "2024-12-09T14:00:00-05:00",
           "2024-12-08T17:15:43.104220-05:00",
           20.738026605555557,
           -2.0799999999999983,
           51.08,
           false
          ],
          [
           "2024-12-09T15:00:00-05:00",
           "2024-12-08T17:15:43.104220-05:00",
           21.738026605555557,
           -1.0799999999999983,
           51.08,
           false
          ],
          [
           "2024-12-09T16:00:00-05:00",
           "2024-12-08T17:15:43.104220-05:00",
           22.738026605555557,
           -1.0799999999999983,
           51.08,
           false
          ],
          [
           "2024-12-09T17:00:00-05:00",
           "2024-12-08T17:15:43.104220-05:00",
           23.738026605555557,
           -1.0799999999999983,
           51.08,
           false
          ],
          [
           "2024-12-09T06:00:00-05:00",
           "2024-12-08T17:20:43.600139-05:00",
           12.654555516944443,
           -14.079999999999998,
           51.08,
           false
          ],
          [
           "2024-12-09T07:00:00-05:00",
           "2024-12-08T17:20:43.600139-05:00",
           13.654555516944443,
           -13.079999999999998,
           51.08,
           false
          ],
          [
           "2024-12-09T08:00:00-05:00",
           "2024-12-08T17:20:43.600139-05:00",
           14.654555516944443,
           -12.079999999999998,
           51.08,
           false
          ],
          [
           "2024-12-09T09:00:00-05:00",
           "2024-12-08T17:20:43.600139-05:00",
           15.654555516944443,
           -10.079999999999998,
           51.08,
           false
          ],
          [
           "2024-12-09T10:00:00-05:00",
           "2024-12-08T17:20:43.600139-05:00",
           16.654555516944445,
           -7.079999999999998,
           51.08,
           false
          ],
          [
           "2024-12-09T11:00:00-05:00",
           "2024-12-08T17:20:43.600139-05:00",
           17.654555516944445,
           -6.079999999999998,
           51.08,
           false
          ],
          [
           "2024-12-09T12:00:00-05:00",
           "2024-12-08T17:20:43.600139-05:00",
           18.654555516944445,
           -4.079999999999998,
           51.08,
           false
          ],
          [
           "2024-12-09T13:00:00-05:00",
           "2024-12-08T17:20:43.600139-05:00",
           19.654555516944445,
           -2.0799999999999983,
           51.08,
           false
          ],
          [
           "2024-12-09T14:00:00-05:00",
           "2024-12-08T17:20:43.600139-05:00",
           20.654555516944445,
           -2.0799999999999983,
           51.08,
           false
          ],
          [
           "2024-12-09T15:00:00-05:00",
           "2024-12-08T17:20:43.600139-05:00",
           21.654555516944445,
           -1.0799999999999983,
           51.08,
           false
          ],
          [
           "2024-12-09T16:00:00-05:00",
           "2024-12-08T17:20:43.600139-05:00",
           22.654555516944445,
           -1.0799999999999983,
           51.08,
           false
          ],
          [
           "2024-12-09T17:00:00-05:00",
           "2024-12-08T17:20:43.600139-05:00",
           23.654555516944445,
           -1.0799999999999983,
           51.08,
           false
          ],
          [
           "2024-12-09T06:00:00-05:00",
           "2024-12-08T17:30:43.739338-05:00",
           12.48785018388889,
           -14.079999999999998,
           51.08,
           false
          ],
          [
           "2024-12-09T07:00:00-05:00",
           "2024-12-08T17:30:43.739338-05:00",
           13.48785018388889,
           -13.079999999999998,
           51.08,
           false
          ],
          [
           "2024-12-09T08:00:00-05:00",
           "2024-12-08T17:30:43.739338-05:00",
           14.48785018388889,
           -12.079999999999998,
           51.08,
           false
          ],
          [
           "2024-12-09T09:00:00-05:00",
           "2024-12-08T17:30:43.739338-05:00",
           15.48785018388889,
           -10.079999999999998,
           51.08,
           false
          ],
          [
           "2024-12-09T10:00:00-05:00",
           "2024-12-08T17:30:43.739338-05:00",
           16.487850183888888,
           -7.079999999999998,
           51.08,
           false
          ],
          [
           "2024-12-09T11:00:00-05:00",
           "2024-12-08T17:30:43.739338-05:00",
           17.487850183888888,
           -6.079999999999998,
           51.08,
           false
          ],
          [
           "2024-12-09T12:00:00-05:00",
           "2024-12-08T17:30:43.739338-05:00",
           18.487850183888888,
           -4.079999999999998,
           51.08,
           false
          ],
          [
           "2024-12-09T13:00:00-05:00",
           "2024-12-08T17:30:43.739338-05:00",
           19.487850183888888,
           -2.0799999999999983,
           51.08,
           false
          ],
          [
           "2024-12-09T14:00:00-05:00",
           "2024-12-08T17:30:43.739338-05:00",
           20.487850183888888,
           -2.0799999999999983,
           51.08,
           false
          ],
          [
           "2024-12-09T15:00:00-05:00",
           "2024-12-08T17:30:43.739338-05:00",
           21.487850183888888,
           -1.0799999999999983,
           51.08,
           false
          ],
          [
           "2024-12-09T16:00:00-05:00",
           "2024-12-08T17:30:43.739338-05:00",
           22.487850183888888,
           -1.0799999999999983,
           51.08,
           false
          ],
          [
           "2024-12-09T17:00:00-05:00",
           "2024-12-08T17:30:43.739338-05:00",
           23.487850183888888,
           -1.0799999999999983,
           51.08,
           false
          ],
          [
           "2024-12-09T06:00:00-05:00",
           "2024-12-08T17:40:44.751833-05:00",
           12.32090226861111,
           -14.079999999999998,
           51.08,
           false
          ],
          [
           "2024-12-09T07:00:00-05:00",
           "2024-12-08T17:40:44.751833-05:00",
           13.32090226861111,
           -13.079999999999998,
           51.08,
           false
          ],
          [
           "2024-12-09T08:00:00-05:00",
           "2024-12-08T17:40:44.751833-05:00",
           14.32090226861111,
           -12.079999999999998,
           51.08,
           false
          ],
          [
           "2024-12-09T09:00:00-05:00",
           "2024-12-08T17:40:44.751833-05:00",
           15.32090226861111,
           -10.079999999999998,
           51.08,
           false
          ],
          [
           "2024-12-09T10:00:00-05:00",
           "2024-12-08T17:40:44.751833-05:00",
           16.32090226861111,
           -7.079999999999998,
           51.08,
           false
          ],
          [
           "2024-12-09T11:00:00-05:00",
           "2024-12-08T17:40:44.751833-05:00",
           17.32090226861111,
           -6.079999999999998,
           51.08,
           false
          ],
          [
           "2024-12-09T12:00:00-05:00",
           "2024-12-08T17:40:44.751833-05:00",
           18.32090226861111,
           -4.079999999999998,
           51.08,
           false
          ],
          [
           "2024-12-09T13:00:00-05:00",
           "2024-12-08T17:40:44.751833-05:00",
           19.32090226861111,
           -2.0799999999999983,
           51.08,
           false
          ],
          [
           "2024-12-09T14:00:00-05:00",
           "2024-12-08T17:40:44.751833-05:00",
           20.32090226861111,
           -2.0799999999999983,
           51.08,
           false
          ],
          [
           "2024-12-09T15:00:00-05:00",
           "2024-12-08T17:40:44.751833-05:00",
           21.32090226861111,
           -1.0799999999999983,
           51.08,
           false
          ],
          [
           "2024-12-09T16:00:00-05:00",
           "2024-12-08T17:40:44.751833-05:00",
           22.32090226861111,
           -1.0799999999999983,
           51.08,
           false
          ],
          [
           "2024-12-09T17:00:00-05:00",
           "2024-12-08T17:40:44.751833-05:00",
           23.32090226861111,
           -1.0799999999999983,
           51.08,
           false
          ],
          [
           "2024-12-09T06:00:00-05:00",
           "2024-12-08T17:45:43.653568-05:00",
           12.23787400888889,
           -14.079999999999998,
           51.08,
           false
          ],
          [
           "2024-12-09T07:00:00-05:00",
           "2024-12-08T17:45:43.653568-05:00",
           13.23787400888889,
           -13.079999999999998,
           51.08,
           false
          ],
          [
           "2024-12-09T08:00:00-05:00",
           "2024-12-08T17:45:43.653568-05:00",
           14.23787400888889,
           -12.079999999999998,
           51.08,
           false
          ],
          [
           "2024-12-09T09:00:00-05:00",
           "2024-12-08T17:45:43.653568-05:00",
           15.23787400888889,
           -10.079999999999998,
           51.08,
           false
          ],
          [
           "2024-12-09T10:00:00-05:00",
           "2024-12-08T17:45:43.653568-05:00",
           16.237874008888888,
           -7.079999999999998,
           51.08,
           false
          ],
          [
           "2024-12-09T11:00:00-05:00",
           "2024-12-08T17:45:43.653568-05:00",
           17.237874008888888,
           -6.079999999999998,
           51.08,
           false
          ],
          [
           "2024-12-09T12:00:00-05:00",
           "2024-12-08T17:45:43.653568-05:00",
           18.23787400888889,
           -4.079999999999998,
           51.08,
           false
          ],
          [
           "2024-12-09T13:00:00-05:00",
           "2024-12-08T17:45:43.653568-05:00",
           19.23787400888889,
           -2.0799999999999983,
           51.08,
           false
          ],
          [
           "2024-12-09T14:00:00-05:00",
           "2024-12-08T17:45:43.653568-05:00",
           20.23787400888889,
           -2.0799999999999983,
           51.08,
           false
          ],
          [
           "2024-12-09T15:00:00-05:00",
           "2024-12-08T17:45:43.653568-05:00",
           21.23787400888889,
           -1.0799999999999983,
           51.08,
           false
          ],
          [
           "2024-12-09T16:00:00-05:00",
           "2024-12-08T17:45:43.653568-05:00",
           22.23787400888889,
           -1.0799999999999983,
           51.08,
           false
          ],
          [
           "2024-12-09T17:00:00-05:00",
           "2024-12-08T17:45:43.653568-05:00",
           23.23787400888889,
           -1.0799999999999983,
           51.08,
           false
          ],
          [
           "2024-12-09T06:00:00-05:00",
           "2024-12-08T17:50:43.586326-05:00",
           12.15455935388889,
           -14.079999999999998,
           51.08,
           false
          ],
          [
           "2024-12-09T07:00:00-05:00",
           "2024-12-08T17:50:43.586326-05:00",
           13.15455935388889,
           -13.079999999999998,
           51.08,
           false
          ],
          [
           "2024-12-09T08:00:00-05:00",
           "2024-12-08T17:50:43.586326-05:00",
           14.15455935388889,
           -12.079999999999998,
           51.08,
           false
          ],
          [
           "2024-12-09T09:00:00-05:00",
           "2024-12-08T17:50:43.586326-05:00",
           15.15455935388889,
           -10.079999999999998,
           51.08,
           false
          ],
          [
           "2024-12-09T10:00:00-05:00",
           "2024-12-08T17:50:43.586326-05:00",
           16.15455935388889,
           -7.079999999999998,
           51.08,
           false
          ],
          [
           "2024-12-09T11:00:00-05:00",
           "2024-12-08T17:50:43.586326-05:00",
           17.15455935388889,
           -6.079999999999998,
           51.08,
           false
          ],
          [
           "2024-12-09T12:00:00-05:00",
           "2024-12-08T17:50:43.586326-05:00",
           18.15455935388889,
           -4.079999999999998,
           51.08,
           false
          ],
          [
           "2024-12-09T13:00:00-05:00",
           "2024-12-08T17:50:43.586326-05:00",
           19.15455935388889,
           -2.0799999999999983,
           51.08,
           false
          ],
          [
           "2024-12-09T14:00:00-05:00",
           "2024-12-08T17:50:43.586326-05:00",
           20.15455935388889,
           -2.0799999999999983,
           51.08,
           false
          ],
          [
           "2024-12-09T15:00:00-05:00",
           "2024-12-08T17:50:43.586326-05:00",
           21.15455935388889,
           -1.0799999999999983,
           51.08,
           false
          ],
          [
           "2024-12-09T16:00:00-05:00",
           "2024-12-08T17:50:43.586326-05:00",
           22.15455935388889,
           -1.0799999999999983,
           51.08,
           false
          ],
          [
           "2024-12-09T17:00:00-05:00",
           "2024-12-08T17:50:43.586326-05:00",
           23.15455935388889,
           -1.0799999999999983,
           51.08,
           false
          ],
          [
           "2024-12-09T06:00:00-05:00",
           "2024-12-08T18:05:39.752663-05:00",
           11.905624260277778,
           -14.079999999999998,
           51.08,
           false
          ],
          [
           "2024-12-09T07:00:00-05:00",
           "2024-12-08T18:05:39.752663-05:00",
           12.905624260277778,
           -13.079999999999998,
           51.08,
           false
          ],
          [
           "2024-12-09T08:00:00-05:00",
           "2024-12-08T18:05:39.752663-05:00",
           13.905624260277778,
           -12.079999999999998,
           51.08,
           false
          ],
          [
           "2024-12-09T09:00:00-05:00",
           "2024-12-08T18:05:39.752663-05:00",
           14.905624260277778,
           -10.079999999999998,
           51.08,
           false
          ],
          [
           "2024-12-09T10:00:00-05:00",
           "2024-12-08T18:05:39.752663-05:00",
           15.905624260277778,
           -7.079999999999998,
           51.08,
           false
          ],
          [
           "2024-12-09T11:00:00-05:00",
           "2024-12-08T18:05:39.752663-05:00",
           16.90562426027778,
           -6.079999999999998,
           51.08,
           false
          ],
          [
           "2024-12-09T12:00:00-05:00",
           "2024-12-08T18:05:39.752663-05:00",
           17.90562426027778,
           -4.079999999999998,
           51.08,
           false
          ],
          [
           "2024-12-09T13:00:00-05:00",
           "2024-12-08T18:05:39.752663-05:00",
           18.905624260277776,
           -2.0799999999999983,
           51.08,
           false
          ],
          [
           "2024-12-09T14:00:00-05:00",
           "2024-12-08T18:05:39.752663-05:00",
           19.905624260277776,
           -2.0799999999999983,
           51.08,
           false
          ],
          [
           "2024-12-09T15:00:00-05:00",
           "2024-12-08T18:05:39.752663-05:00",
           20.905624260277776,
           -1.0799999999999983,
           51.08,
           false
          ],
          [
           "2024-12-09T16:00:00-05:00",
           "2024-12-08T18:05:39.752663-05:00",
           21.905624260277776,
           -1.0799999999999983,
           51.08,
           false
          ],
          [
           "2024-12-09T17:00:00-05:00",
           "2024-12-08T18:05:39.752663-05:00",
           22.905624260277776,
           -1.0799999999999983,
           51.08,
           false
          ],
          [
           "2024-12-09T06:00:00-05:00",
           "2024-12-08T19:50:43.645828-05:00",
           10.154542825555556,
           -14.079999999999998,
           51.08,
           false
          ],
          [
           "2024-12-09T07:00:00-05:00",
           "2024-12-08T19:50:43.645828-05:00",
           11.154542825555556,
           -13.079999999999998,
           51.08,
           false
          ],
          [
           "2024-12-09T08:00:00-05:00",
           "2024-12-08T19:50:43.645828-05:00",
           12.154542825555556,
           -12.079999999999998,
           51.08,
           false
          ],
          [
           "2024-12-09T09:00:00-05:00",
           "2024-12-08T19:50:43.645828-05:00",
           13.154542825555556,
           -10.079999999999998,
           51.08,
           false
          ],
          [
           "2024-12-09T10:00:00-05:00",
           "2024-12-08T19:50:43.645828-05:00",
           14.154542825555556,
           -7.079999999999998,
           51.08,
           false
          ],
          [
           "2024-12-09T11:00:00-05:00",
           "2024-12-08T19:50:43.645828-05:00",
           15.154542825555556,
           -6.079999999999998,
           51.08,
           false
          ],
          [
           "2024-12-09T12:00:00-05:00",
           "2024-12-08T19:50:43.645828-05:00",
           16.154542825555556,
           -4.079999999999998,
           51.08,
           false
          ],
          [
           "2024-12-09T13:00:00-05:00",
           "2024-12-08T19:50:43.645828-05:00",
           17.154542825555556,
           -2.0799999999999983,
           51.08,
           false
          ],
          [
           "2024-12-09T14:00:00-05:00",
           "2024-12-08T19:50:43.645828-05:00",
           18.154542825555556,
           -2.0799999999999983,
           51.08,
           false
          ],
          [
           "2024-12-09T15:00:00-05:00",
           "2024-12-08T19:50:43.645828-05:00",
           19.154542825555556,
           -1.0799999999999983,
           51.08,
           false
          ],
          [
           "2024-12-09T16:00:00-05:00",
           "2024-12-08T19:50:43.645828-05:00",
           20.154542825555556,
           -1.0799999999999983,
           51.08,
           false
          ],
          [
           "2024-12-09T17:00:00-05:00",
           "2024-12-08T19:50:43.645828-05:00",
           21.154542825555556,
           -1.0799999999999983,
           51.08,
           false
          ],
          [
           "2024-12-09T06:00:00-05:00",
           "2024-12-08T21:25:43.634181-05:00",
           8.571212727499999,
           -9.079999999999998,
           51.08,
           false
          ],
          [
           "2024-12-09T07:00:00-05:00",
           "2024-12-08T21:25:43.634181-05:00",
           9.571212727499999,
           -9.079999999999998,
           51.08,
           false
          ],
          [
           "2024-12-09T08:00:00-05:00",
           "2024-12-08T21:25:43.634181-05:00",
           10.571212727499999,
           -10.079999999999998,
           51.08,
           false
          ],
          [
           "2024-12-09T09:00:00-05:00",
           "2024-12-08T21:25:43.634181-05:00",
           11.571212727499999,
           -10.079999999999998,
           51.08,
           false
          ],
          [
           "2024-12-09T10:00:00-05:00",
           "2024-12-08T21:25:43.634181-05:00",
           12.571212727499999,
           -7.079999999999998,
           51.08,
           false
          ],
          [
           "2024-12-09T11:00:00-05:00",
           "2024-12-08T21:25:43.634181-05:00",
           13.571212727499999,
           -6.079999999999998,
           51.08,
           false
          ],
          [
           "2024-12-09T12:00:00-05:00",
           "2024-12-08T21:25:43.634181-05:00",
           14.571212727499999,
           -4.079999999999998,
           51.08,
           false
          ],
          [
           "2024-12-09T13:00:00-05:00",
           "2024-12-08T21:25:43.634181-05:00",
           15.571212727499999,
           -2.0799999999999983,
           51.08,
           false
          ],
          [
           "2024-12-09T14:00:00-05:00",
           "2024-12-08T21:25:43.634181-05:00",
           16.5712127275,
           -2.0799999999999983,
           51.08,
           false
          ],
          [
           "2024-12-09T15:00:00-05:00",
           "2024-12-08T21:25:43.634181-05:00",
           17.5712127275,
           -1.0799999999999983,
           51.08,
           false
          ],
          [
           "2024-12-09T16:00:00-05:00",
           "2024-12-08T21:25:43.634181-05:00",
           18.5712127275,
           -1.0799999999999983,
           51.08,
           false
          ],
          [
           "2024-12-09T17:00:00-05:00",
           "2024-12-08T21:25:43.634181-05:00",
           19.5712127275,
           -1.0799999999999983,
           51.08,
           false
          ],
          [
           "2024-12-09T07:00:00-05:00",
           "2024-12-08T21:30:43.559033-05:00",
           9.487900268611112,
           -9.079999999999998,
           51.08,
           false
          ],
          [
           "2024-12-09T08:00:00-05:00",
           "2024-12-08T21:30:43.559033-05:00",
           10.487900268611112,
           -10.079999999999998,
           51.08,
           false
          ],
          [
           "2024-12-09T09:00:00-05:00",
           "2024-12-08T21:30:43.559033-05:00",
           11.487900268611112,
           -10.079999999999998,
           51.08,
           false
          ],
          [
           "2024-12-09T10:00:00-05:00",
           "2024-12-08T21:30:43.559033-05:00",
           12.487900268611112,
           -7.079999999999998,
           51.08,
           false
          ],
          [
           "2024-12-09T11:00:00-05:00",
           "2024-12-08T21:30:43.559033-05:00",
           13.487900268611112,
           -6.079999999999998,
           51.08,
           false
          ],
          [
           "2024-12-09T12:00:00-05:00",
           "2024-12-08T21:30:43.559033-05:00",
           14.487900268611112,
           -4.079999999999998,
           51.08,
           false
          ],
          [
           "2024-12-09T13:00:00-05:00",
           "2024-12-08T21:30:43.559033-05:00",
           15.487900268611112,
           -2.0799999999999983,
           51.08,
           false
          ],
          [
           "2024-12-09T14:00:00-05:00",
           "2024-12-08T21:30:43.559033-05:00",
           16.48790026861111,
           -2.0799999999999983,
           51.08,
           false
          ],
          [
           "2024-12-09T15:00:00-05:00",
           "2024-12-08T21:30:43.559033-05:00",
           17.48790026861111,
           -1.0799999999999983,
           51.08,
           false
          ],
          [
           "2024-12-09T16:00:00-05:00",
           "2024-12-08T21:30:43.559033-05:00",
           18.48790026861111,
           -1.0799999999999983,
           51.08,
           false
          ],
          [
           "2024-12-09T17:00:00-05:00",
           "2024-12-08T21:30:43.559033-05:00",
           19.48790026861111,
           -1.0799999999999983,
           51.08,
           false
          ],
          [
           "2024-12-09T06:00:00-05:00",
           "2024-12-08T20:48:28.756609-05:00",
           9.192012053055556,
           -9.079999999999998,
           51.08,
           false
          ],
          [
           "2024-12-09T07:00:00-05:00",
           "2024-12-08T20:48:28.756609-05:00",
           10.192012053055556,
           -9.079999999999998,
           51.08,
           false
          ],
          [
           "2024-12-09T08:00:00-05:00",
           "2024-12-08T20:48:28.756609-05:00",
           11.192012053055556,
           -10.079999999999998,
           51.08,
           false
          ],
          [
           "2024-12-09T09:00:00-05:00",
           "2024-12-08T20:48:28.756609-05:00",
           12.192012053055556,
           -10.079999999999998,
           51.08,
           false
          ],
          [
           "2024-12-09T10:00:00-05:00",
           "2024-12-08T20:48:28.756609-05:00",
           13.192012053055556,
           -7.079999999999998,
           51.08,
           false
          ],
          [
           "2024-12-09T11:00:00-05:00",
           "2024-12-08T20:48:28.756609-05:00",
           14.192012053055556,
           -6.079999999999998,
           51.08,
           false
          ],
          [
           "2024-12-09T12:00:00-05:00",
           "2024-12-08T20:48:28.756609-05:00",
           15.192012053055556,
           -4.079999999999998,
           51.08,
           false
          ],
          [
           "2024-12-09T13:00:00-05:00",
           "2024-12-08T20:48:28.756609-05:00",
           16.192012053055556,
           -2.0799999999999983,
           51.08,
           false
          ],
          [
           "2024-12-09T14:00:00-05:00",
           "2024-12-08T20:48:28.756609-05:00",
           17.192012053055556,
           -2.0799999999999983,
           51.08,
           false
          ],
          [
           "2024-12-09T15:00:00-05:00",
           "2024-12-08T20:48:28.756609-05:00",
           18.192012053055556,
           -1.0799999999999983,
           51.08,
           false
          ],
          [
           "2024-12-09T16:00:00-05:00",
           "2024-12-08T20:48:28.756609-05:00",
           19.192012053055553,
           -1.0799999999999983,
           51.08,
           false
          ],
          [
           "2024-12-09T17:00:00-05:00",
           "2024-12-08T20:48:28.756609-05:00",
           20.192012053055553,
           -1.0799999999999983,
           51.08,
           false
          ],
          [
           "2024-12-09T06:00:00-05:00",
           "2024-12-08T20:36:05.118325-05:00",
           9.398578243055555,
           -9.079999999999998,
           51.08,
           false
          ],
          [
           "2024-12-09T07:00:00-05:00",
           "2024-12-08T20:36:05.118325-05:00",
           10.398578243055555,
           -9.079999999999998,
           51.08,
           false
          ],
          [
           "2024-12-09T08:00:00-05:00",
           "2024-12-08T20:36:05.118325-05:00",
           11.398578243055555,
           -10.079999999999998,
           51.08,
           false
          ],
          [
           "2024-12-09T09:00:00-05:00",
           "2024-12-08T20:36:05.118325-05:00",
           12.398578243055555,
           -10.079999999999998,
           51.08,
           false
          ],
          [
           "2024-12-09T10:00:00-05:00",
           "2024-12-08T20:36:05.118325-05:00",
           13.398578243055555,
           -7.079999999999998,
           51.08,
           false
          ],
          [
           "2024-12-09T11:00:00-05:00",
           "2024-12-08T20:36:05.118325-05:00",
           14.398578243055555,
           -6.079999999999998,
           51.08,
           false
          ],
          [
           "2024-12-09T12:00:00-05:00",
           "2024-12-08T20:36:05.118325-05:00",
           15.398578243055555,
           -4.079999999999998,
           51.08,
           false
          ],
          [
           "2024-12-09T13:00:00-05:00",
           "2024-12-08T20:36:05.118325-05:00",
           16.398578243055553,
           -2.0799999999999983,
           51.08,
           false
          ],
          [
           "2024-12-09T14:00:00-05:00",
           "2024-12-08T20:36:05.118325-05:00",
           17.398578243055553,
           -2.0799999999999983,
           51.08,
           false
          ],
          [
           "2024-12-09T15:00:00-05:00",
           "2024-12-08T20:36:05.118325-05:00",
           18.398578243055553,
           -1.0799999999999983,
           51.08,
           false
          ],
          [
           "2024-12-09T16:00:00-05:00",
           "2024-12-08T20:36:05.118325-05:00",
           19.398578243055553,
           -1.0799999999999983,
           51.08,
           false
          ],
          [
           "2024-12-09T17:00:00-05:00",
           "2024-12-08T20:36:05.118325-05:00",
           20.398578243055553,
           -1.0799999999999983,
           51.08,
           false
          ],
          [
           "2024-12-09T06:00:00-05:00",
           "2024-12-08T20:52:37.969122-05:00",
           9.122786354999999,
           -9.079999999999998,
           51.08,
           false
          ],
          [
           "2024-12-09T07:00:00-05:00",
           "2024-12-08T20:52:37.969122-05:00",
           10.122786354999999,
           -9.079999999999998,
           51.08,
           false
          ],
          [
           "2024-12-09T08:00:00-05:00",
           "2024-12-08T20:52:37.969122-05:00",
           11.122786354999999,
           -10.079999999999998,
           51.08,
           false
          ],
          [
           "2024-12-09T09:00:00-05:00",
           "2024-12-08T20:52:37.969122-05:00",
           12.122786354999999,
           -10.079999999999998,
           51.08,
           false
          ],
          [
           "2024-12-09T10:00:00-05:00",
           "2024-12-08T20:52:37.969122-05:00",
           13.122786354999999,
           -7.079999999999998,
           51.08,
           false
          ],
          [
           "2024-12-09T11:00:00-05:00",
           "2024-12-08T20:52:37.969122-05:00",
           14.122786354999999,
           -6.079999999999998,
           51.08,
           false
          ],
          [
           "2024-12-09T12:00:00-05:00",
           "2024-12-08T20:52:37.969122-05:00",
           15.122786354999999,
           -4.079999999999998,
           51.08,
           false
          ],
          [
           "2024-12-09T13:00:00-05:00",
           "2024-12-08T20:52:37.969122-05:00",
           16.122786355,
           -2.0799999999999983,
           51.08,
           false
          ],
          [
           "2024-12-09T14:00:00-05:00",
           "2024-12-08T20:52:37.969122-05:00",
           17.122786355,
           -2.0799999999999983,
           51.08,
           false
          ],
          [
           "2024-12-09T15:00:00-05:00",
           "2024-12-08T20:52:37.969122-05:00",
           18.122786355,
           -1.0799999999999983,
           51.08,
           false
          ],
          [
           "2024-12-09T16:00:00-05:00",
           "2024-12-08T20:52:37.969122-05:00",
           19.122786355000002,
           -1.0799999999999983,
           51.08,
           false
          ],
          [
           "2024-12-09T17:00:00-05:00",
           "2024-12-08T20:52:37.969122-05:00",
           20.122786355000002,
           -1.0799999999999983,
           51.08,
           false
          ],
          [
           "2024-12-09T06:00:00-05:00",
           "2024-12-08T20:55:01.231355-05:00",
           9.082991290277779,
           -9.079999999999998,
           51.08,
           false
          ],
          [
           "2024-12-09T07:00:00-05:00",
           "2024-12-08T20:55:01.231355-05:00",
           10.082991290277777,
           -9.079999999999998,
           51.08,
           false
          ],
          [
           "2024-12-09T08:00:00-05:00",
           "2024-12-08T20:55:01.231355-05:00",
           11.082991290277777,
           -10.079999999999998,
           51.08,
           false
          ],
          [
           "2024-12-09T09:00:00-05:00",
           "2024-12-08T20:55:01.231355-05:00",
           12.082991290277777,
           -10.079999999999998,
           51.08,
           false
          ],
          [
           "2024-12-09T10:00:00-05:00",
           "2024-12-08T20:55:01.231355-05:00",
           13.082991290277777,
           -7.079999999999998,
           51.08,
           false
          ],
          [
           "2024-12-09T11:00:00-05:00",
           "2024-12-08T20:55:01.231355-05:00",
           14.082991290277777,
           -6.079999999999998,
           51.08,
           false
          ],
          [
           "2024-12-09T12:00:00-05:00",
           "2024-12-08T20:55:01.231355-05:00",
           15.082991290277777,
           -4.079999999999998,
           51.08,
           false
          ],
          [
           "2024-12-09T13:00:00-05:00",
           "2024-12-08T20:55:01.231355-05:00",
           16.08299129027778,
           -2.0799999999999983,
           51.08,
           false
          ],
          [
           "2024-12-09T14:00:00-05:00",
           "2024-12-08T20:55:01.231355-05:00",
           17.08299129027778,
           -2.0799999999999983,
           51.08,
           false
          ],
          [
           "2024-12-09T15:00:00-05:00",
           "2024-12-08T20:55:01.231355-05:00",
           18.08299129027778,
           -1.0799999999999983,
           51.08,
           false
          ],
          [
           "2024-12-09T16:00:00-05:00",
           "2024-12-08T20:55:01.231355-05:00",
           19.08299129027778,
           -1.0799999999999983,
           51.08,
           false
          ],
          [
           "2024-12-09T17:00:00-05:00",
           "2024-12-08T20:55:01.231355-05:00",
           20.08299129027778,
           -1.0799999999999983,
           51.08,
           false
          ],
          [
           "2024-12-09T06:00:00-05:00",
           "2024-12-08T21:05:43.428977-05:00",
           8.904603061944444,
           -9.079999999999998,
           51.08,
           false
          ],
          [
           "2024-12-09T07:00:00-05:00",
           "2024-12-08T21:05:43.428977-05:00",
           9.904603061944444,
           -9.079999999999998,
           51.08,
           false
          ],
          [
           "2024-12-09T08:00:00-05:00",
           "2024-12-08T21:05:43.428977-05:00",
           10.904603061944444,
           -10.079999999999998,
           51.08,
           false
          ],
          [
           "2024-12-09T09:00:00-05:00",
           "2024-12-08T21:05:43.428977-05:00",
           11.904603061944444,
           -10.079999999999998,
           51.08,
           false
          ],
          [
           "2024-12-09T10:00:00-05:00",
           "2024-12-08T21:05:43.428977-05:00",
           12.904603061944444,
           -7.079999999999998,
           51.08,
           false
          ],
          [
           "2024-12-09T11:00:00-05:00",
           "2024-12-08T21:05:43.428977-05:00",
           13.904603061944444,
           -6.079999999999998,
           51.08,
           false
          ],
          [
           "2024-12-09T12:00:00-05:00",
           "2024-12-08T21:05:43.428977-05:00",
           14.904603061944444,
           -4.079999999999998,
           51.08,
           false
          ],
          [
           "2024-12-09T13:00:00-05:00",
           "2024-12-08T21:05:43.428977-05:00",
           15.904603061944444,
           -2.0799999999999983,
           51.08,
           false
          ],
          [
           "2024-12-09T14:00:00-05:00",
           "2024-12-08T21:05:43.428977-05:00",
           16.904603061944442,
           -2.0799999999999983,
           51.08,
           false
          ],
          [
           "2024-12-09T15:00:00-05:00",
           "2024-12-08T21:05:43.428977-05:00",
           17.904603061944442,
           -1.0799999999999983,
           51.08,
           false
          ],
          [
           "2024-12-09T16:00:00-05:00",
           "2024-12-08T21:05:43.428977-05:00",
           18.904603061944442,
           -1.0799999999999983,
           51.08,
           false
          ],
          [
           "2024-12-09T17:00:00-05:00",
           "2024-12-08T21:05:43.428977-05:00",
           19.904603061944442,
           -1.0799999999999983,
           51.08,
           false
          ],
          [
           "2024-12-09T06:00:00-05:00",
           "2024-12-08T21:16:21.881282-05:00",
           8.727255199444445,
           -9.079999999999998,
           51.08,
           false
          ],
          [
           "2024-12-09T07:00:00-05:00",
           "2024-12-08T21:16:21.881282-05:00",
           9.727255199444445,
           -9.079999999999998,
           51.08,
           false
          ],
          [
           "2024-12-09T08:00:00-05:00",
           "2024-12-08T21:16:21.881282-05:00",
           10.727255199444445,
           -10.079999999999998,
           51.08,
           false
          ],
          [
           "2024-12-09T09:00:00-05:00",
           "2024-12-08T21:16:21.881282-05:00",
           11.727255199444445,
           -10.079999999999998,
           51.08,
           false
          ],
          [
           "2024-12-09T10:00:00-05:00",
           "2024-12-08T21:16:21.881282-05:00",
           12.727255199444445,
           -7.079999999999998,
           51.08,
           false
          ],
          [
           "2024-12-09T11:00:00-05:00",
           "2024-12-08T21:16:21.881282-05:00",
           13.727255199444445,
           -6.079999999999998,
           51.08,
           false
          ],
          [
           "2024-12-09T12:00:00-05:00",
           "2024-12-08T21:16:21.881282-05:00",
           14.727255199444445,
           -4.079999999999998,
           51.08,
           false
          ],
          [
           "2024-12-09T13:00:00-05:00",
           "2024-12-08T21:16:21.881282-05:00",
           15.727255199444445,
           -2.0799999999999983,
           51.08,
           false
          ],
          [
           "2024-12-09T14:00:00-05:00",
           "2024-12-08T21:16:21.881282-05:00",
           16.727255199444443,
           -2.0799999999999983,
           51.08,
           false
          ],
          [
           "2024-12-09T15:00:00-05:00",
           "2024-12-08T21:16:21.881282-05:00",
           17.727255199444443,
           -1.0799999999999983,
           51.08,
           false
          ],
          [
           "2024-12-09T16:00:00-05:00",
           "2024-12-08T21:16:21.881282-05:00",
           18.727255199444443,
           -1.0799999999999983,
           51.08,
           false
          ],
          [
           "2024-12-09T17:00:00-05:00",
           "2024-12-08T21:16:21.881282-05:00",
           19.727255199444443,
           -1.0799999999999983,
           51.08,
           false
          ],
          [
           "2024-12-09T06:00:00-05:00",
           "2024-12-08T21:18:18.776239-05:00",
           8.694784378055555,
           -9.079999999999998,
           51.08,
           false
          ],
          [
           "2024-12-09T07:00:00-05:00",
           "2024-12-08T21:18:18.776239-05:00",
           9.694784378055555,
           -9.079999999999998,
           51.08,
           false
          ],
          [
           "2024-12-09T08:00:00-05:00",
           "2024-12-08T21:18:18.776239-05:00",
           10.694784378055555,
           -10.079999999999998,
           51.08,
           false
          ],
          [
           "2024-12-09T09:00:00-05:00",
           "2024-12-08T21:18:18.776239-05:00",
           11.694784378055555,
           -10.079999999999998,
           51.08,
           false
          ],
          [
           "2024-12-09T10:00:00-05:00",
           "2024-12-08T21:18:18.776239-05:00",
           12.694784378055555,
           -7.079999999999998,
           51.08,
           false
          ],
          [
           "2024-12-09T11:00:00-05:00",
           "2024-12-08T21:18:18.776239-05:00",
           13.694784378055555,
           -6.079999999999998,
           51.08,
           false
          ],
          [
           "2024-12-09T12:00:00-05:00",
           "2024-12-08T21:18:18.776239-05:00",
           14.694784378055555,
           -4.079999999999998,
           51.08,
           false
          ],
          [
           "2024-12-09T13:00:00-05:00",
           "2024-12-08T21:18:18.776239-05:00",
           15.694784378055555,
           -2.0799999999999983,
           51.08,
           false
          ],
          [
           "2024-12-09T14:00:00-05:00",
           "2024-12-08T21:18:18.776239-05:00",
           16.694784378055555,
           -2.0799999999999983,
           51.08,
           false
          ],
          [
           "2024-12-09T15:00:00-05:00",
           "2024-12-08T21:18:18.776239-05:00",
           17.694784378055555,
           -1.0799999999999983,
           51.08,
           false
          ],
          [
           "2024-12-09T16:00:00-05:00",
           "2024-12-08T21:18:18.776239-05:00",
           18.694784378055555,
           -1.0799999999999983,
           51.08,
           false
          ],
          [
           "2024-12-09T17:00:00-05:00",
           "2024-12-08T21:18:18.776239-05:00",
           19.694784378055555,
           -1.0799999999999983,
           51.08,
           false
          ],
          [
           "2024-12-09T06:00:00-05:00",
           "2024-12-08T21:19:41.204710-05:00",
           8.671887580555556,
           -9.079999999999998,
           51.08,
           false
          ],
          [
           "2024-12-09T07:00:00-05:00",
           "2024-12-08T21:19:41.204710-05:00",
           9.671887580555556,
           -9.079999999999998,
           51.08,
           false
          ],
          [
           "2024-12-09T08:00:00-05:00",
           "2024-12-08T21:19:41.204710-05:00",
           10.671887580555556,
           -10.079999999999998,
           51.08,
           false
          ],
          [
           "2024-12-09T09:00:00-05:00",
           "2024-12-08T21:19:41.204710-05:00",
           11.671887580555556,
           -10.079999999999998,
           51.08,
           false
          ],
          [
           "2024-12-09T10:00:00-05:00",
           "2024-12-08T21:19:41.204710-05:00",
           12.671887580555556,
           -7.079999999999998,
           51.08,
           false
          ],
          [
           "2024-12-09T11:00:00-05:00",
           "2024-12-08T21:19:41.204710-05:00",
           13.671887580555556,
           -6.079999999999998,
           51.08,
           false
          ],
          [
           "2024-12-09T12:00:00-05:00",
           "2024-12-08T21:19:41.204710-05:00",
           14.671887580555556,
           -4.079999999999998,
           51.08,
           false
          ],
          [
           "2024-12-09T13:00:00-05:00",
           "2024-12-08T21:19:41.204710-05:00",
           15.671887580555556,
           -2.0799999999999983,
           51.08,
           false
          ],
          [
           "2024-12-09T14:00:00-05:00",
           "2024-12-08T21:19:41.204710-05:00",
           16.671887580555556,
           -2.0799999999999983,
           51.08,
           false
          ],
          [
           "2024-12-09T15:00:00-05:00",
           "2024-12-08T21:19:41.204710-05:00",
           17.671887580555556,
           -1.0799999999999983,
           51.08,
           false
          ],
          [
           "2024-12-09T16:00:00-05:00",
           "2024-12-08T21:19:41.204710-05:00",
           18.671887580555556,
           -1.0799999999999983,
           51.08,
           false
          ],
          [
           "2024-12-09T17:00:00-05:00",
           "2024-12-08T21:19:41.204710-05:00",
           19.671887580555556,
           -1.0799999999999983,
           51.08,
           false
          ],
          [
           "2024-12-09T06:00:00-05:00",
           "2024-12-08T21:30:43.559033-05:00",
           8.48790026861111,
           -9.079999999999998,
           51.08,
           false
          ],
          [
           "2024-12-09T06:00:00-05:00",
           "2024-12-08T21:46:48.015935-05:00",
           8.219995573611111,
           -9.079999999999998,
           51.08,
           false
          ],
          [
           "2024-12-09T07:00:00-05:00",
           "2024-12-08T21:46:48.015935-05:00",
           9.21999557361111,
           -9.079999999999998,
           51.08,
           false
          ],
          [
           "2024-12-09T08:00:00-05:00",
           "2024-12-08T21:46:48.015935-05:00",
           10.21999557361111,
           -10.079999999999998,
           51.08,
           false
          ],
          [
           "2024-12-09T09:00:00-05:00",
           "2024-12-08T21:46:48.015935-05:00",
           11.21999557361111,
           -10.079999999999998,
           51.08,
           false
          ],
          [
           "2024-12-09T10:00:00-05:00",
           "2024-12-08T21:46:48.015935-05:00",
           12.21999557361111,
           -7.079999999999998,
           51.08,
           false
          ],
          [
           "2024-12-09T11:00:00-05:00",
           "2024-12-08T21:46:48.015935-05:00",
           13.21999557361111,
           -6.079999999999998,
           51.08,
           false
          ],
          [
           "2024-12-09T12:00:00-05:00",
           "2024-12-08T21:46:48.015935-05:00",
           14.21999557361111,
           -4.079999999999998,
           51.08,
           false
          ],
          [
           "2024-12-09T13:00:00-05:00",
           "2024-12-08T21:46:48.015935-05:00",
           15.21999557361111,
           -2.0799999999999983,
           51.08,
           false
          ],
          [
           "2024-12-09T14:00:00-05:00",
           "2024-12-08T21:46:48.015935-05:00",
           16.21999557361111,
           -2.0799999999999983,
           51.08,
           false
          ],
          [
           "2024-12-09T15:00:00-05:00",
           "2024-12-08T21:46:48.015935-05:00",
           17.21999557361111,
           -1.0799999999999983,
           51.08,
           false
          ],
          [
           "2024-12-09T16:00:00-05:00",
           "2024-12-08T21:46:48.015935-05:00",
           18.21999557361111,
           -1.0799999999999983,
           51.08,
           false
          ],
          [
           "2024-12-09T17:00:00-05:00",
           "2024-12-08T21:46:48.015935-05:00",
           19.21999557361111,
           -1.0799999999999983,
           51.08,
           false
          ],
          [
           "2024-12-09T06:00:00-05:00",
           "2024-12-08T21:50:43.753063-05:00",
           8.154513038055555,
           -9.079999999999998,
           51.08,
           false
          ],
          [
           "2024-12-09T07:00:00-05:00",
           "2024-12-08T21:50:43.753063-05:00",
           9.154513038055557,
           -9.079999999999998,
           51.08,
           false
          ],
          [
           "2024-12-09T08:00:00-05:00",
           "2024-12-08T21:50:43.753063-05:00",
           10.154513038055557,
           -10.079999999999998,
           51.08,
           false
          ],
          [
           "2024-12-09T09:00:00-05:00",
           "2024-12-08T21:50:43.753063-05:00",
           11.154513038055557,
           -10.079999999999998,
           51.08,
           false
          ],
          [
           "2024-12-09T10:00:00-05:00",
           "2024-12-08T21:50:43.753063-05:00",
           12.154513038055557,
           -7.079999999999998,
           51.08,
           false
          ],
          [
           "2024-12-09T11:00:00-05:00",
           "2024-12-08T21:50:43.753063-05:00",
           13.154513038055557,
           -6.079999999999998,
           51.08,
           false
          ],
          [
           "2024-12-09T12:00:00-05:00",
           "2024-12-08T21:50:43.753063-05:00",
           14.154513038055557,
           -4.079999999999998,
           51.08,
           false
          ],
          [
           "2024-12-09T13:00:00-05:00",
           "2024-12-08T21:50:43.753063-05:00",
           15.154513038055557,
           -2.0799999999999983,
           51.08,
           false
          ],
          [
           "2024-12-09T14:00:00-05:00",
           "2024-12-08T21:50:43.753063-05:00",
           16.154513038055555,
           -2.0799999999999983,
           51.08,
           false
          ],
          [
           "2024-12-09T15:00:00-05:00",
           "2024-12-08T21:50:43.753063-05:00",
           17.154513038055555,
           -1.0799999999999983,
           51.08,
           false
          ],
          [
           "2024-12-09T16:00:00-05:00",
           "2024-12-08T21:50:43.753063-05:00",
           18.154513038055555,
           -1.0799999999999983,
           51.08,
           false
          ],
          [
           "2024-12-09T17:00:00-05:00",
           "2024-12-08T21:50:43.753063-05:00",
           19.154513038055555,
           -1.0799999999999983,
           51.08,
           false
          ],
          [
           "2024-12-09T06:00:00-05:00",
           "2024-12-08T21:55:43.803300-05:00",
           8.07116575,
           -9.079999999999998,
           51.08,
           false
          ],
          [
           "2024-12-09T07:00:00-05:00",
           "2024-12-08T21:55:43.803300-05:00",
           9.07116575,
           -9.079999999999998,
           51.08,
           false
          ],
          [
           "2024-12-09T08:00:00-05:00",
           "2024-12-08T21:55:43.803300-05:00",
           10.07116575,
           -10.079999999999998,
           51.08,
           false
          ],
          [
           "2024-12-09T09:00:00-05:00",
           "2024-12-08T21:55:43.803300-05:00",
           11.07116575,
           -10.079999999999998,
           51.08,
           false
          ],
          [
           "2024-12-09T10:00:00-05:00",
           "2024-12-08T21:55:43.803300-05:00",
           12.07116575,
           -7.079999999999998,
           51.08,
           false
          ],
          [
           "2024-12-09T11:00:00-05:00",
           "2024-12-08T21:55:43.803300-05:00",
           13.07116575,
           -6.079999999999998,
           51.08,
           false
          ],
          [
           "2024-12-09T12:00:00-05:00",
           "2024-12-08T21:55:43.803300-05:00",
           14.07116575,
           -4.079999999999998,
           51.08,
           false
          ],
          [
           "2024-12-09T13:00:00-05:00",
           "2024-12-08T21:55:43.803300-05:00",
           15.07116575,
           -2.0799999999999983,
           51.08,
           false
          ],
          [
           "2024-12-09T14:00:00-05:00",
           "2024-12-08T21:55:43.803300-05:00",
           16.07116575,
           -2.0799999999999983,
           51.08,
           false
          ],
          [
           "2024-12-09T15:00:00-05:00",
           "2024-12-08T21:55:43.803300-05:00",
           17.07116575,
           -1.0799999999999983,
           51.08,
           false
          ],
          [
           "2024-12-09T16:00:00-05:00",
           "2024-12-08T21:55:43.803300-05:00",
           18.07116575,
           -1.0799999999999983,
           51.08,
           false
          ],
          [
           "2024-12-09T17:00:00-05:00",
           "2024-12-08T21:55:43.803300-05:00",
           19.07116575,
           -1.0799999999999983,
           51.08,
           false
          ],
          [
           "2024-12-09T06:00:00-05:00",
           "2024-12-08T22:00:39.882959-05:00",
           7.988921400277778,
           -9.079999999999998,
           51.08,
           false
          ],
          [
           "2024-12-09T07:00:00-05:00",
           "2024-12-08T22:00:39.882959-05:00",
           8.988921400277778,
           -9.079999999999998,
           51.08,
           false
          ],
          [
           "2024-12-09T08:00:00-05:00",
           "2024-12-08T22:00:39.882959-05:00",
           9.988921400277777,
           -10.079999999999998,
           51.08,
           false
          ],
          [
           "2024-12-09T09:00:00-05:00",
           "2024-12-08T22:00:39.882959-05:00",
           10.988921400277777,
           -10.079999999999998,
           51.08,
           false
          ],
          [
           "2024-12-09T10:00:00-05:00",
           "2024-12-08T22:00:39.882959-05:00",
           11.988921400277777,
           -7.079999999999998,
           51.08,
           false
          ],
          [
           "2024-12-09T11:00:00-05:00",
           "2024-12-08T22:00:39.882959-05:00",
           12.988921400277777,
           -6.079999999999998,
           51.08,
           false
          ],
          [
           "2024-12-09T12:00:00-05:00",
           "2024-12-08T22:00:39.882959-05:00",
           13.988921400277777,
           -4.079999999999998,
           51.08,
           false
          ],
          [
           "2024-12-09T13:00:00-05:00",
           "2024-12-08T22:00:39.882959-05:00",
           14.988921400277777,
           -2.0799999999999983,
           51.08,
           false
          ],
          [
           "2024-12-09T14:00:00-05:00",
           "2024-12-08T22:00:39.882959-05:00",
           15.988921400277777,
           -2.0799999999999983,
           51.08,
           false
          ],
          [
           "2024-12-09T15:00:00-05:00",
           "2024-12-08T22:00:39.882959-05:00",
           16.98892140027778,
           -1.0799999999999983,
           51.08,
           false
          ],
          [
           "2024-12-09T16:00:00-05:00",
           "2024-12-08T22:00:39.882959-05:00",
           17.98892140027778,
           -1.0799999999999983,
           51.08,
           false
          ],
          [
           "2024-12-09T17:00:00-05:00",
           "2024-12-08T22:00:39.882959-05:00",
           18.98892140027778,
           -1.0799999999999983,
           51.08,
           false
          ],
          [
           "2024-12-09T06:00:00-05:00",
           "2024-12-08T22:05:39.764993-05:00",
           7.9056208352777775,
           -9.079999999999998,
           51.08,
           false
          ],
          [
           "2024-12-09T07:00:00-05:00",
           "2024-12-08T22:05:39.764993-05:00",
           8.905620835277778,
           -9.079999999999998,
           51.08,
           false
          ],
          [
           "2024-12-09T08:00:00-05:00",
           "2024-12-08T22:05:39.764993-05:00",
           9.905620835277778,
           -10.079999999999998,
           51.08,
           false
          ],
          [
           "2024-12-09T09:00:00-05:00",
           "2024-12-08T22:05:39.764993-05:00",
           10.905620835277778,
           -10.079999999999998,
           51.08,
           false
          ],
          [
           "2024-12-09T10:00:00-05:00",
           "2024-12-08T22:05:39.764993-05:00",
           11.905620835277778,
           -7.079999999999998,
           51.08,
           false
          ],
          [
           "2024-12-09T11:00:00-05:00",
           "2024-12-08T22:05:39.764993-05:00",
           12.905620835277778,
           -6.079999999999998,
           51.08,
           false
          ],
          [
           "2024-12-09T12:00:00-05:00",
           "2024-12-08T22:05:39.764993-05:00",
           13.905620835277778,
           -4.079999999999998,
           51.08,
           false
          ],
          [
           "2024-12-09T13:00:00-05:00",
           "2024-12-08T22:05:39.764993-05:00",
           14.905620835277778,
           -2.0799999999999983,
           51.08,
           false
          ],
          [
           "2024-12-09T14:00:00-05:00",
           "2024-12-08T22:05:39.764993-05:00",
           15.905620835277778,
           -2.0799999999999983,
           51.08,
           false
          ],
          [
           "2024-12-09T15:00:00-05:00",
           "2024-12-08T22:05:39.764993-05:00",
           16.90562083527778,
           -1.0799999999999983,
           51.08,
           false
          ],
          [
           "2024-12-09T16:00:00-05:00",
           "2024-12-08T22:05:39.764993-05:00",
           17.90562083527778,
           -1.0799999999999983,
           51.08,
           false
          ],
          [
           "2024-12-09T17:00:00-05:00",
           "2024-12-08T22:05:39.764993-05:00",
           18.905620835277777,
           -1.0799999999999983,
           51.08,
           false
          ],
          [
           "2024-12-09T06:00:00-05:00",
           "2024-12-08T22:10:39.973926-05:00",
           7.822229465,
           -9.079999999999998,
           51.08,
           false
          ],
          [
           "2024-12-09T07:00:00-05:00",
           "2024-12-08T22:10:39.973926-05:00",
           8.822229465,
           -9.079999999999998,
           51.08,
           false
          ],
          [
           "2024-12-09T08:00:00-05:00",
           "2024-12-08T22:10:39.973926-05:00",
           9.822229465,
           -10.079999999999998,
           51.08,
           false
          ],
          [
           "2024-12-09T09:00:00-05:00",
           "2024-12-08T22:10:39.973926-05:00",
           10.822229465,
           -10.079999999999998,
           51.08,
           false
          ],
          [
           "2024-12-09T10:00:00-05:00",
           "2024-12-08T22:10:39.973926-05:00",
           11.822229465,
           -7.079999999999998,
           51.08,
           false
          ],
          [
           "2024-12-09T11:00:00-05:00",
           "2024-12-08T22:10:39.973926-05:00",
           12.822229465,
           -6.079999999999998,
           51.08,
           false
          ],
          [
           "2024-12-09T12:00:00-05:00",
           "2024-12-08T22:10:39.973926-05:00",
           13.822229465,
           -4.079999999999998,
           51.08,
           false
          ],
          [
           "2024-12-09T13:00:00-05:00",
           "2024-12-08T22:10:39.973926-05:00",
           14.822229465,
           -2.0799999999999983,
           51.08,
           false
          ],
          [
           "2024-12-09T14:00:00-05:00",
           "2024-12-08T22:10:39.973926-05:00",
           15.822229465,
           -2.0799999999999983,
           51.08,
           false
          ],
          [
           "2024-12-09T15:00:00-05:00",
           "2024-12-08T22:10:39.973926-05:00",
           16.822229465,
           -1.0799999999999983,
           51.08,
           false
          ],
          [
           "2024-12-09T16:00:00-05:00",
           "2024-12-08T22:10:39.973926-05:00",
           17.822229465,
           -1.0799999999999983,
           51.08,
           false
          ],
          [
           "2024-12-09T17:00:00-05:00",
           "2024-12-08T22:10:39.973926-05:00",
           18.822229465,
           -1.0799999999999983,
           51.08,
           false
          ],
          [
           "2024-12-09T06:00:00-05:00",
           "2024-12-08T22:15:45.221002-05:00",
           7.737438610555556,
           -9.079999999999998,
           51.08,
           false
          ],
          [
           "2024-12-09T07:00:00-05:00",
           "2024-12-08T22:15:45.221002-05:00",
           8.737438610555555,
           -9.079999999999998,
           51.08,
           false
          ],
          [
           "2024-12-09T08:00:00-05:00",
           "2024-12-08T22:15:45.221002-05:00",
           9.737438610555555,
           -10.079999999999998,
           51.08,
           false
          ],
          [
           "2024-12-09T09:00:00-05:00",
           "2024-12-08T22:15:45.221002-05:00",
           10.737438610555555,
           -10.079999999999998,
           51.08,
           false
          ],
          [
           "2024-12-09T10:00:00-05:00",
           "2024-12-08T22:15:45.221002-05:00",
           11.737438610555555,
           -7.079999999999998,
           51.08,
           false
          ],
          [
           "2024-12-09T11:00:00-05:00",
           "2024-12-08T22:15:45.221002-05:00",
           12.737438610555555,
           -6.079999999999998,
           51.08,
           false
          ],
          [
           "2024-12-09T12:00:00-05:00",
           "2024-12-08T22:15:45.221002-05:00",
           13.737438610555555,
           -4.079999999999998,
           51.08,
           false
          ],
          [
           "2024-12-09T13:00:00-05:00",
           "2024-12-08T22:15:45.221002-05:00",
           14.737438610555555,
           -2.0799999999999983,
           51.08,
           false
          ],
          [
           "2024-12-09T14:00:00-05:00",
           "2024-12-08T22:15:45.221002-05:00",
           15.737438610555555,
           -2.0799999999999983,
           51.08,
           false
          ],
          [
           "2024-12-09T15:00:00-05:00",
           "2024-12-08T22:15:45.221002-05:00",
           16.737438610555557,
           -1.0799999999999983,
           51.08,
           false
          ],
          [
           "2024-12-09T16:00:00-05:00",
           "2024-12-08T22:15:45.221002-05:00",
           17.737438610555557,
           -1.0799999999999983,
           51.08,
           false
          ],
          [
           "2024-12-09T17:00:00-05:00",
           "2024-12-08T22:15:45.221002-05:00",
           18.737438610555554,
           -1.0799999999999983,
           51.08,
           false
          ],
          [
           "2024-12-09T06:00:00-05:00",
           "2024-12-08T23:00:25.697307-05:00",
           6.992861859166667,
           -7.079999999999998,
           51.08,
           false
          ],
          [
           "2024-12-09T07:00:00-05:00",
           "2024-12-08T23:00:25.697307-05:00",
           7.992861859166667,
           -8.079999999999998,
           51.08,
           false
          ],
          [
           "2024-12-09T08:00:00-05:00",
           "2024-12-08T23:00:25.697307-05:00",
           8.992861859166666,
           -9.079999999999998,
           51.08,
           false
          ],
          [
           "2024-12-09T09:00:00-05:00",
           "2024-12-08T23:00:25.697307-05:00",
           9.992861859166666,
           -10.079999999999998,
           51.08,
           false
          ],
          [
           "2024-12-09T10:00:00-05:00",
           "2024-12-08T23:00:25.697307-05:00",
           10.992861859166666,
           -7.079999999999998,
           51.08,
           false
          ],
          [
           "2024-12-09T11:00:00-05:00",
           "2024-12-08T23:00:25.697307-05:00",
           11.992861859166666,
           -6.079999999999998,
           51.08,
           false
          ],
          [
           "2024-12-09T12:00:00-05:00",
           "2024-12-08T23:00:25.697307-05:00",
           12.992861859166666,
           -4.079999999999998,
           51.08,
           false
          ],
          [
           "2024-12-09T13:00:00-05:00",
           "2024-12-08T23:00:25.697307-05:00",
           13.992861859166666,
           -2.0799999999999983,
           51.08,
           false
          ],
          [
           "2024-12-09T14:00:00-05:00",
           "2024-12-08T23:00:25.697307-05:00",
           14.992861859166666,
           -2.0799999999999983,
           51.08,
           false
          ],
          [
           "2024-12-09T15:00:00-05:00",
           "2024-12-08T23:00:25.697307-05:00",
           15.992861859166666,
           -1.0799999999999983,
           51.08,
           false
          ],
          [
           "2024-12-09T16:00:00-05:00",
           "2024-12-08T23:00:25.697307-05:00",
           16.992861859166666,
           -1.0799999999999983,
           51.08,
           false
          ],
          [
           "2024-12-09T17:00:00-05:00",
           "2024-12-08T23:00:25.697307-05:00",
           17.992861859166666,
           -1.0799999999999983,
           51.08,
           false
          ],
          [
           "2024-12-09T06:00:00-05:00",
           "2024-12-09T00:00:24.022040-05:00",
           5.9933272111111116,
           -7.079999999999998,
           51.08,
           false
          ],
          [
           "2024-12-09T07:00:00-05:00",
           "2024-12-09T00:00:24.022040-05:00",
           6.9933272111111116,
           -8.079999999999998,
           51.08,
           false
          ],
          [
           "2024-12-09T08:00:00-05:00",
           "2024-12-09T00:00:24.022040-05:00",
           7.9933272111111116,
           -9.079999999999998,
           51.08,
           false
          ],
          [
           "2024-12-09T09:00:00-05:00",
           "2024-12-09T00:00:24.022040-05:00",
           8.993327211111112,
           -10.079999999999998,
           51.08,
           false
          ],
          [
           "2024-12-09T10:00:00-05:00",
           "2024-12-09T00:00:24.022040-05:00",
           9.99332721111111,
           -7.079999999999998,
           51.08,
           false
          ],
          [
           "2024-12-09T11:00:00-05:00",
           "2024-12-09T00:00:24.022040-05:00",
           10.99332721111111,
           -6.079999999999998,
           51.08,
           false
          ],
          [
           "2024-12-09T12:00:00-05:00",
           "2024-12-09T00:00:24.022040-05:00",
           11.99332721111111,
           -4.079999999999998,
           51.08,
           false
          ],
          [
           "2024-12-09T13:00:00-05:00",
           "2024-12-09T00:00:24.022040-05:00",
           12.99332721111111,
           -2.0799999999999983,
           51.08,
           false
          ],
          [
           "2024-12-09T14:00:00-05:00",
           "2024-12-09T00:00:24.022040-05:00",
           13.99332721111111,
           -2.0799999999999983,
           51.08,
           false
          ],
          [
           "2024-12-09T15:00:00-05:00",
           "2024-12-09T00:00:24.022040-05:00",
           14.99332721111111,
           -1.0799999999999983,
           51.08,
           false
          ],
          [
           "2024-12-09T16:00:00-05:00",
           "2024-12-09T00:00:24.022040-05:00",
           15.99332721111111,
           -1.0799999999999983,
           51.08,
           false
          ],
          [
           "2024-12-09T17:00:00-05:00",
           "2024-12-09T00:00:24.022040-05:00",
           16.99332721111111,
           -1.0799999999999983,
           51.08,
           false
          ],
          [
           "2024-12-09T06:00:00-05:00",
           "2024-12-09T01:00:22.521872-05:00",
           4.993743924444444,
           -7.079999999999998,
           51.08,
           false
          ],
          [
           "2024-12-09T07:00:00-05:00",
           "2024-12-09T01:00:22.521872-05:00",
           5.993743924444444,
           -8.079999999999998,
           51.08,
           false
          ],
          [
           "2024-12-09T08:00:00-05:00",
           "2024-12-09T01:00:22.521872-05:00",
           6.993743924444444,
           -9.079999999999998,
           51.08,
           false
          ],
          [
           "2024-12-09T09:00:00-05:00",
           "2024-12-09T01:00:22.521872-05:00",
           7.993743924444444,
           -10.079999999999998,
           51.08,
           false
          ],
          [
           "2024-12-09T10:00:00-05:00",
           "2024-12-09T01:00:22.521872-05:00",
           8.993743924444445,
           -7.079999999999998,
           51.08,
           false
          ],
          [
           "2024-12-09T11:00:00-05:00",
           "2024-12-09T01:00:22.521872-05:00",
           9.993743924444445,
           -6.079999999999998,
           51.08,
           false
          ],
          [
           "2024-12-09T12:00:00-05:00",
           "2024-12-09T01:00:22.521872-05:00",
           10.993743924444445,
           -4.079999999999998,
           51.08,
           false
          ],
          [
           "2024-12-09T13:00:00-05:00",
           "2024-12-09T01:00:22.521872-05:00",
           11.993743924444445,
           -2.0799999999999983,
           51.08,
           false
          ],
          [
           "2024-12-09T14:00:00-05:00",
           "2024-12-09T01:00:22.521872-05:00",
           12.993743924444445,
           -2.0799999999999983,
           51.08,
           false
          ],
          [
           "2024-12-09T15:00:00-05:00",
           "2024-12-09T01:00:22.521872-05:00",
           13.993743924444445,
           -1.0799999999999983,
           51.08,
           false
          ],
          [
           "2024-12-09T16:00:00-05:00",
           "2024-12-09T01:00:22.521872-05:00",
           14.993743924444445,
           -1.0799999999999983,
           51.08,
           false
          ],
          [
           "2024-12-09T17:00:00-05:00",
           "2024-12-09T01:00:22.521872-05:00",
           15.993743924444445,
           -1.0799999999999983,
           51.08,
           false
          ],
          [
           "2024-12-09T06:00:00-05:00",
           "2024-12-09T02:00:20.917972-05:00",
           3.9941894522222223,
           -7.079999999999998,
           51.08,
           false
          ],
          [
           "2024-12-09T07:00:00-05:00",
           "2024-12-09T02:00:20.917972-05:00",
           4.994189452222223,
           -8.079999999999998,
           51.08,
           false
          ],
          [
           "2024-12-09T08:00:00-05:00",
           "2024-12-09T02:00:20.917972-05:00",
           5.994189452222223,
           -9.079999999999998,
           51.08,
           false
          ],
          [
           "2024-12-09T09:00:00-05:00",
           "2024-12-09T02:00:20.917972-05:00",
           6.994189452222223,
           -10.079999999999998,
           51.08,
           false
          ],
          [
           "2024-12-09T10:00:00-05:00",
           "2024-12-09T02:00:20.917972-05:00",
           7.994189452222223,
           -7.079999999999998,
           51.08,
           false
          ],
          [
           "2024-12-09T11:00:00-05:00",
           "2024-12-09T02:00:20.917972-05:00",
           8.994189452222223,
           -6.079999999999998,
           51.08,
           false
          ],
          [
           "2024-12-09T12:00:00-05:00",
           "2024-12-09T02:00:20.917972-05:00",
           9.994189452222221,
           -4.079999999999998,
           51.08,
           false
          ],
          [
           "2024-12-09T13:00:00-05:00",
           "2024-12-09T02:00:20.917972-05:00",
           10.994189452222221,
           -2.0799999999999983,
           51.08,
           false
          ],
          [
           "2024-12-09T14:00:00-05:00",
           "2024-12-09T02:00:20.917972-05:00",
           11.994189452222221,
           -2.0799999999999983,
           51.08,
           false
          ],
          [
           "2024-12-09T15:00:00-05:00",
           "2024-12-09T02:00:20.917972-05:00",
           12.994189452222221,
           -1.0799999999999983,
           51.08,
           false
          ],
          [
           "2024-12-09T16:00:00-05:00",
           "2024-12-09T02:00:20.917972-05:00",
           13.994189452222221,
           -1.0799999999999983,
           51.08,
           false
          ],
          [
           "2024-12-09T17:00:00-05:00",
           "2024-12-09T02:00:20.917972-05:00",
           14.994189452222221,
           -1.0799999999999983,
           51.08,
           false
          ],
          [
           "2024-12-09T06:00:00-05:00",
           "2024-12-09T03:00:21.086869-05:00",
           2.9941425363888885,
           -7.079999999999998,
           51.08,
           false
          ],
          [
           "2024-12-09T07:00:00-05:00",
           "2024-12-09T03:00:21.086869-05:00",
           3.9941425363888885,
           -8.079999999999998,
           51.08,
           false
          ],
          [
           "2024-12-09T08:00:00-05:00",
           "2024-12-09T03:00:21.086869-05:00",
           4.994142536388889,
           -9.079999999999998,
           51.08,
           false
          ],
          [
           "2024-12-09T09:00:00-05:00",
           "2024-12-09T03:00:21.086869-05:00",
           5.994142536388889,
           -10.079999999999998,
           51.08,
           false
          ],
          [
           "2024-12-09T10:00:00-05:00",
           "2024-12-09T03:00:21.086869-05:00",
           6.994142536388889,
           -7.079999999999998,
           51.08,
           false
          ],
          [
           "2024-12-09T11:00:00-05:00",
           "2024-12-09T03:00:21.086869-05:00",
           7.994142536388889,
           -6.079999999999998,
           51.08,
           false
          ],
          [
           "2024-12-09T12:00:00-05:00",
           "2024-12-09T03:00:21.086869-05:00",
           8.994142536388889,
           -4.079999999999998,
           51.08,
           false
          ],
          [
           "2024-12-09T13:00:00-05:00",
           "2024-12-09T03:00:21.086869-05:00",
           9.994142536388889,
           -2.0799999999999983,
           51.08,
           false
          ],
          [
           "2024-12-09T14:00:00-05:00",
           "2024-12-09T03:00:21.086869-05:00",
           10.994142536388889,
           -2.0799999999999983,
           51.08,
           false
          ],
          [
           "2024-12-09T15:00:00-05:00",
           "2024-12-09T03:00:21.086869-05:00",
           11.994142536388889,
           -1.0799999999999983,
           51.08,
           false
          ],
          [
           "2024-12-09T16:00:00-05:00",
           "2024-12-09T03:00:21.086869-05:00",
           12.994142536388889,
           -1.0799999999999983,
           51.08,
           false
          ],
          [
           "2024-12-09T17:00:00-05:00",
           "2024-12-09T03:00:21.086869-05:00",
           13.994142536388889,
           -1.0799999999999983,
           51.08,
           false
          ],
          [
           "2024-12-09T06:00:00-05:00",
           "2024-12-09T04:00:37.707344-05:00",
           1.9895257377777777,
           -7.079999999999998,
           51.08,
           false
          ],
          [
           "2024-12-09T07:00:00-05:00",
           "2024-12-09T04:00:37.707344-05:00",
           2.9895257377777775,
           -8.079999999999998,
           51.08,
           false
          ],
          [
           "2024-12-09T08:00:00-05:00",
           "2024-12-09T04:00:37.707344-05:00",
           3.9895257377777775,
           -9.079999999999998,
           51.08,
           false
          ],
          [
           "2024-12-09T09:00:00-05:00",
           "2024-12-09T04:00:37.707344-05:00",
           4.989525737777778,
           -10.079999999999998,
           51.08,
           false
          ],
          [
           "2024-12-09T10:00:00-05:00",
           "2024-12-09T04:00:37.707344-05:00",
           5.989525737777778,
           -7.079999999999998,
           51.08,
           false
          ],
          [
           "2024-12-09T11:00:00-05:00",
           "2024-12-09T04:00:37.707344-05:00",
           6.989525737777778,
           -6.079999999999998,
           51.08,
           false
          ],
          [
           "2024-12-09T12:00:00-05:00",
           "2024-12-09T04:00:37.707344-05:00",
           7.989525737777778,
           -4.079999999999998,
           51.08,
           false
          ],
          [
           "2024-12-09T13:00:00-05:00",
           "2024-12-09T04:00:37.707344-05:00",
           8.989525737777779,
           -2.0799999999999983,
           51.08,
           false
          ],
          [
           "2024-12-09T14:00:00-05:00",
           "2024-12-09T04:00:37.707344-05:00",
           9.989525737777777,
           -2.0799999999999983,
           51.08,
           false
          ],
          [
           "2024-12-09T15:00:00-05:00",
           "2024-12-09T04:00:37.707344-05:00",
           10.989525737777777,
           -1.0799999999999983,
           51.08,
           false
          ],
          [
           "2024-12-09T16:00:00-05:00",
           "2024-12-09T04:00:37.707344-05:00",
           11.989525737777777,
           -1.0799999999999983,
           51.08,
           false
          ],
          [
           "2024-12-09T17:00:00-05:00",
           "2024-12-09T04:00:37.707344-05:00",
           12.989525737777777,
           -1.0799999999999983,
           51.08,
           false
          ],
          [
           "2024-12-09T06:00:00-05:00",
           "2024-12-09T05:00:20.996406-05:00",
           0.994167665,
           -7.079999999999998,
           51.08,
           false
          ],
          [
           "2024-12-09T07:00:00-05:00",
           "2024-12-09T05:00:20.996406-05:00",
           1.994167665,
           -8.079999999999998,
           51.08,
           false
          ],
          [
           "2024-12-09T08:00:00-05:00",
           "2024-12-09T05:00:20.996406-05:00",
           2.994167665,
           -9.079999999999998,
           51.08,
           false
          ],
          [
           "2024-12-09T09:00:00-05:00",
           "2024-12-09T05:00:20.996406-05:00",
           3.994167665,
           -10.079999999999998,
           51.08,
           false
          ],
          [
           "2024-12-09T10:00:00-05:00",
           "2024-12-09T05:00:20.996406-05:00",
           4.994167665000001,
           -7.079999999999998,
           51.08,
           false
          ],
          [
           "2024-12-09T11:00:00-05:00",
           "2024-12-09T05:00:20.996406-05:00",
           5.994167665000001,
           -6.079999999999998,
           51.08,
           false
          ],
          [
           "2024-12-09T12:00:00-05:00",
           "2024-12-09T05:00:20.996406-05:00",
           6.994167665000001,
           -4.079999999999998,
           51.08,
           false
          ],
          [
           "2024-12-09T13:00:00-05:00",
           "2024-12-09T05:00:20.996406-05:00",
           7.994167665000001,
           -2.0799999999999983,
           51.08,
           false
          ],
          [
           "2024-12-09T14:00:00-05:00",
           "2024-12-09T05:00:20.996406-05:00",
           8.994167665,
           -2.0799999999999983,
           51.08,
           false
          ],
          [
           "2024-12-09T15:00:00-05:00",
           "2024-12-09T05:00:20.996406-05:00",
           9.994167665,
           -1.0799999999999983,
           51.08,
           false
          ],
          [
           "2024-12-09T16:00:00-05:00",
           "2024-12-09T05:00:20.996406-05:00",
           10.994167665,
           -1.0799999999999983,
           51.08,
           false
          ],
          [
           "2024-12-09T17:00:00-05:00",
           "2024-12-09T05:00:20.996406-05:00",
           11.994167665,
           -1.0799999999999983,
           51.08,
           false
          ],
          [
           "2024-12-09T07:00:00-05:00",
           "2024-12-09T06:00:22.355705-05:00",
           0.9937900819444445,
           -9.079999999999998,
           51.08,
           false
          ],
          [
           "2024-12-09T08:00:00-05:00",
           "2024-12-09T06:00:22.355705-05:00",
           1.9937900819444445,
           -8.079999999999998,
           51.08,
           false
          ],
          [
           "2024-12-09T09:00:00-05:00",
           "2024-12-09T06:00:22.355705-05:00",
           2.9937900819444443,
           -7.079999999999998,
           51.08,
           false
          ],
          [
           "2024-12-09T10:00:00-05:00",
           "2024-12-09T06:00:22.355705-05:00",
           3.9937900819444443,
           -5.079999999999998,
           51.08,
           false
          ],
          [
           "2024-12-09T11:00:00-05:00",
           "2024-12-09T06:00:22.355705-05:00",
           4.993790081944444,
           -3.0799999999999983,
           51.08,
           false
          ],
          [
           "2024-12-09T12:00:00-05:00",
           "2024-12-09T06:00:22.355705-05:00",
           5.993790081944444,
           -2.0799999999999983,
           51.08,
           false
          ],
          [
           "2024-12-09T13:00:00-05:00",
           "2024-12-09T06:00:22.355705-05:00",
           6.993790081944444,
           -1.0799999999999983,
           51.08,
           false
          ],
          [
           "2024-12-09T14:00:00-05:00",
           "2024-12-09T06:00:22.355705-05:00",
           7.993790081944444,
           -1.0799999999999983,
           51.08,
           false
          ],
          [
           "2024-12-09T15:00:00-05:00",
           "2024-12-09T06:00:22.355705-05:00",
           8.993790081944445,
           -1.0799999999999983,
           51.08,
           false
          ],
          [
           "2024-12-09T16:00:00-05:00",
           "2024-12-09T06:00:22.355705-05:00",
           9.993790081944445,
           -1.0799999999999983,
           51.08,
           false
          ],
          [
           "2024-12-09T17:00:00-05:00",
           "2024-12-09T06:00:22.355705-05:00",
           10.993790081944445,
           -1.0799999999999983,
           51.08,
           false
          ],
          [
           "2024-12-09T08:00:00-05:00",
           "2024-12-09T07:00:21.209380-05:00",
           0.9941085055555556,
           -8.079999999999998,
           51.08,
           false
          ],
          [
           "2024-12-09T09:00:00-05:00",
           "2024-12-09T07:00:21.209380-05:00",
           1.9941085055555554,
           -7.079999999999998,
           51.08,
           false
          ],
          [
           "2024-12-09T10:00:00-05:00",
           "2024-12-09T07:00:21.209380-05:00",
           2.9941085055555554,
           -5.079999999999998,
           51.08,
           false
          ],
          [
           "2024-12-09T11:00:00-05:00",
           "2024-12-09T07:00:21.209380-05:00",
           3.9941085055555554,
           -3.0799999999999983,
           51.08,
           false
          ],
          [
           "2024-12-09T12:00:00-05:00",
           "2024-12-09T07:00:21.209380-05:00",
           4.994108505555555,
           -2.0799999999999983,
           51.08,
           false
          ],
          [
           "2024-12-09T13:00:00-05:00",
           "2024-12-09T07:00:21.209380-05:00",
           5.994108505555555,
           -1.0799999999999983,
           51.08,
           false
          ],
          [
           "2024-12-09T14:00:00-05:00",
           "2024-12-09T07:00:21.209380-05:00",
           6.994108505555555,
           -1.0799999999999983,
           51.08,
           false
          ],
          [
           "2024-12-09T15:00:00-05:00",
           "2024-12-09T07:00:21.209380-05:00",
           7.994108505555555,
           -1.0799999999999983,
           51.08,
           false
          ],
          [
           "2024-12-09T16:00:00-05:00",
           "2024-12-09T07:00:21.209380-05:00",
           8.994108505555555,
           -1.0799999999999983,
           51.08,
           false
          ],
          [
           "2024-12-09T17:00:00-05:00",
           "2024-12-09T07:00:21.209380-05:00",
           9.994108505555555,
           -1.0799999999999983,
           51.08,
           false
          ],
          [
           "2024-12-09T10:00:00-05:00",
           "2024-12-09T09:00:22.738697-05:00",
           0.9936836952777779,
           -5.079999999999998,
           51.08,
           false
          ],
          [
           "2024-12-09T11:00:00-05:00",
           "2024-12-09T09:00:22.738697-05:00",
           1.993683695277778,
           -4.079999999999998,
           51.08,
           false
          ],
          [
           "2024-12-09T12:00:00-05:00",
           "2024-12-09T09:00:22.738697-05:00",
           2.9936836952777774,
           -2.0799999999999983,
           51.08,
           false
          ],
          [
           "2024-12-09T13:00:00-05:00",
           "2024-12-09T09:00:22.738697-05:00",
           3.9936836952777774,
           -1.0799999999999983,
           51.08,
           false
          ],
          [
           "2024-12-09T14:00:00-05:00",
           "2024-12-09T09:00:22.738697-05:00",
           4.9936836952777774,
           -1.0799999999999983,
           51.08,
           false
          ],
          [
           "2024-12-09T15:00:00-05:00",
           "2024-12-09T09:00:22.738697-05:00",
           5.9936836952777774,
           -1.0799999999999983,
           51.08,
           false
          ],
          [
           "2024-12-09T16:00:00-05:00",
           "2024-12-09T09:00:22.738697-05:00",
           6.9936836952777774,
           -1.0799999999999983,
           51.08,
           false
          ],
          [
           "2024-12-09T17:00:00-05:00",
           "2024-12-09T09:00:22.738697-05:00",
           7.9936836952777774,
           -1.0799999999999983,
           51.08,
           false
          ],
          [
           "2024-12-09T11:00:00-05:00",
           "2024-12-09T10:00:23.437508-05:00",
           0.9934895811111111,
           -4.079999999999998,
           51.08,
           false
          ],
          [
           "2024-12-09T12:00:00-05:00",
           "2024-12-09T10:00:23.437508-05:00",
           1.993489581111111,
           -2.0799999999999983,
           51.08,
           false
          ],
          [
           "2024-12-09T13:00:00-05:00",
           "2024-12-09T10:00:23.437508-05:00",
           2.993489581111111,
           -1.0799999999999983,
           51.08,
           false
          ],
          [
           "2024-12-09T14:00:00-05:00",
           "2024-12-09T10:00:23.437508-05:00",
           3.993489581111111,
           -1.0799999999999983,
           51.08,
           false
          ],
          [
           "2024-12-09T15:00:00-05:00",
           "2024-12-09T10:00:23.437508-05:00",
           4.9934895811111115,
           -1.0799999999999983,
           51.08,
           false
          ],
          [
           "2024-12-09T16:00:00-05:00",
           "2024-12-09T10:00:23.437508-05:00",
           5.9934895811111115,
           -1.0799999999999983,
           51.08,
           false
          ],
          [
           "2024-12-09T17:00:00-05:00",
           "2024-12-09T10:00:23.437508-05:00",
           6.9934895811111115,
           -1.0799999999999983,
           51.08,
           false
          ],
          [
           "2024-12-09T12:00:00-05:00",
           "2024-12-09T11:00:24.044025-05:00",
           0.9933211041666666,
           -2.0799999999999983,
           51.08,
           false
          ],
          [
           "2024-12-09T13:00:00-05:00",
           "2024-12-09T11:00:24.044025-05:00",
           1.9933211041666665,
           -1.0799999999999983,
           51.08,
           false
          ],
          [
           "2024-12-09T14:00:00-05:00",
           "2024-12-09T11:00:24.044025-05:00",
           2.9933211041666667,
           -1.0799999999999983,
           51.08,
           false
          ],
          [
           "2024-12-09T15:00:00-05:00",
           "2024-12-09T11:00:24.044025-05:00",
           3.9933211041666667,
           -1.0799999999999983,
           51.08,
           false
          ],
          [
           "2024-12-09T16:00:00-05:00",
           "2024-12-09T11:00:24.044025-05:00",
           4.993321104166667,
           -1.0799999999999983,
           51.08,
           false
          ],
          [
           "2024-12-09T17:00:00-05:00",
           "2024-12-09T11:00:24.044025-05:00",
           5.993321104166667,
           -1.0799999999999983,
           51.08,
           false
          ],
          [
           "2024-12-09T13:00:00-05:00",
           "2024-12-09T12:00:28.885600-05:00",
           0.9919762222222221,
           -1.0799999999999983,
           51.08,
           false
          ],
          [
           "2024-12-09T14:00:00-05:00",
           "2024-12-09T12:00:28.885600-05:00",
           1.9919762222222224,
           -1.0799999999999983,
           51.08,
           false
          ],
          [
           "2024-12-09T15:00:00-05:00",
           "2024-12-09T12:00:28.885600-05:00",
           2.991976222222222,
           -1.0799999999999983,
           51.08,
           false
          ],
          [
           "2024-12-09T16:00:00-05:00",
           "2024-12-09T12:00:28.885600-05:00",
           3.991976222222222,
           -1.0799999999999983,
           51.08,
           false
          ],
          [
           "2024-12-09T17:00:00-05:00",
           "2024-12-09T12:00:28.885600-05:00",
           4.991976222222222,
           -1.0799999999999983,
           51.08,
           false
          ],
          [
           "2024-12-09T14:00:00-05:00",
           "2024-12-09T13:00:23.634426-05:00",
           0.9934348816666666,
           -1.0799999999999983,
           51.08,
           false
          ],
          [
           "2024-12-09T15:00:00-05:00",
           "2024-12-09T13:00:23.634426-05:00",
           1.9934348816666667,
           -1.0799999999999983,
           51.08,
           false
          ],
          [
           "2024-12-09T16:00:00-05:00",
           "2024-12-09T13:00:23.634426-05:00",
           2.9934348816666665,
           -1.0799999999999983,
           51.08,
           false
          ],
          [
           "2024-12-09T17:00:00-05:00",
           "2024-12-09T13:00:23.634426-05:00",
           3.9934348816666665,
           -1.0799999999999983,
           51.08,
           false
          ],
          [
           "2024-12-09T15:00:00-05:00",
           "2024-12-09T14:00:25.625014-05:00",
           0.9928819405555555,
           -1.0799999999999983,
           51.08,
           false
          ],
          [
           "2024-12-09T16:00:00-05:00",
           "2024-12-09T14:00:25.625014-05:00",
           1.9928819405555556,
           -1.0799999999999983,
           51.08,
           false
          ],
          [
           "2024-12-09T17:00:00-05:00",
           "2024-12-09T14:00:25.625014-05:00",
           2.992881940555556,
           -1.0799999999999983,
           51.08,
           false
          ],
          [
           "2024-12-09T16:00:00-05:00",
           "2024-12-09T15:00:39.841116-05:00",
           0.9889330233333333,
           -1.0799999999999983,
           51.08,
           false
          ],
          [
           "2024-12-09T17:00:00-05:00",
           "2024-12-09T15:00:39.841116-05:00",
           1.9889330233333335,
           -1.0799999999999983,
           51.08,
           false
          ],
          [
           "2024-12-09T17:00:00-05:00",
           "2024-12-09T16:00:23.804815-05:00",
           0.9933875513888889,
           -1.0799999999999983,
           51.08,
           false
          ]
         ],
         "hovertemplate": "date=%{x}<br>forecast_max_temp=%{y:.2f}<br>forecast_time=%{customdata[0]}<br>forecast_created=%{customdata[1]}<br>hours_ahead=%{marker.color:.1f}<br>error=%{customdata[3]:.2f}<br>actual_max_temp=%{customdata[4]:.2f}<br>is_accurate=%{customdata[5]}<extra></extra>",
         "legendgroup": "",
         "marker": {
          "color": [
           0.40433256083333335,
           1.4043325608333335,
           0.23770469194444444,
           1.2377046919444443,
           0.9894420719444444,
           14.404332560833334,
           15.404332560833334,
           16.404332560833335,
           17.404332560833335,
           18.404332560833335,
           19.404332560833335,
           20.404332560833335,
           21.404332560833335,
           22.404332560833335,
           23.404332560833335,
           14.237704691944444,
           15.237704691944444,
           16.237704691944444,
           17.237704691944444,
           18.237704691944444,
           19.237704691944444,
           20.237704691944444,
           21.237704691944444,
           22.237704691944444,
           23.237704691944444,
           13.989442071944444,
           14.989442071944444,
           15.989442071944444,
           16.989442071944442,
           17.989442071944442,
           18.989442071944442,
           19.989442071944442,
           20.989442071944442,
           21.989442071944442,
           22.989442071944442,
           23.989442071944442,
           12.738026605555556,
           13.738026605555556,
           14.738026605555556,
           15.738026605555556,
           16.738026605555554,
           17.738026605555554,
           18.738026605555557,
           19.738026605555557,
           20.738026605555557,
           21.738026605555557,
           22.738026605555557,
           23.738026605555557,
           12.654555516944443,
           13.654555516944443,
           14.654555516944443,
           15.654555516944443,
           16.654555516944445,
           17.654555516944445,
           18.654555516944445,
           19.654555516944445,
           20.654555516944445,
           21.654555516944445,
           22.654555516944445,
           23.654555516944445,
           12.48785018388889,
           13.48785018388889,
           14.48785018388889,
           15.48785018388889,
           16.487850183888888,
           17.487850183888888,
           18.487850183888888,
           19.487850183888888,
           20.487850183888888,
           21.487850183888888,
           22.487850183888888,
           23.487850183888888,
           12.32090226861111,
           13.32090226861111,
           14.32090226861111,
           15.32090226861111,
           16.32090226861111,
           17.32090226861111,
           18.32090226861111,
           19.32090226861111,
           20.32090226861111,
           21.32090226861111,
           22.32090226861111,
           23.32090226861111,
           12.23787400888889,
           13.23787400888889,
           14.23787400888889,
           15.23787400888889,
           16.237874008888888,
           17.237874008888888,
           18.23787400888889,
           19.23787400888889,
           20.23787400888889,
           21.23787400888889,
           22.23787400888889,
           23.23787400888889,
           12.15455935388889,
           13.15455935388889,
           14.15455935388889,
           15.15455935388889,
           16.15455935388889,
           17.15455935388889,
           18.15455935388889,
           19.15455935388889,
           20.15455935388889,
           21.15455935388889,
           22.15455935388889,
           23.15455935388889,
           11.905624260277778,
           12.905624260277778,
           13.905624260277778,
           14.905624260277778,
           15.905624260277778,
           16.90562426027778,
           17.90562426027778,
           18.905624260277776,
           19.905624260277776,
           20.905624260277776,
           21.905624260277776,
           22.905624260277776,
           10.154542825555556,
           11.154542825555556,
           12.154542825555556,
           13.154542825555556,
           14.154542825555556,
           15.154542825555556,
           16.154542825555556,
           17.154542825555556,
           18.154542825555556,
           19.154542825555556,
           20.154542825555556,
           21.154542825555556,
           8.571212727499999,
           9.571212727499999,
           10.571212727499999,
           11.571212727499999,
           12.571212727499999,
           13.571212727499999,
           14.571212727499999,
           15.571212727499999,
           16.5712127275,
           17.5712127275,
           18.5712127275,
           19.5712127275,
           9.487900268611112,
           10.487900268611112,
           11.487900268611112,
           12.487900268611112,
           13.487900268611112,
           14.487900268611112,
           15.487900268611112,
           16.48790026861111,
           17.48790026861111,
           18.48790026861111,
           19.48790026861111,
           9.192012053055556,
           10.192012053055556,
           11.192012053055556,
           12.192012053055556,
           13.192012053055556,
           14.192012053055556,
           15.192012053055556,
           16.192012053055556,
           17.192012053055556,
           18.192012053055556,
           19.192012053055553,
           20.192012053055553,
           9.398578243055555,
           10.398578243055555,
           11.398578243055555,
           12.398578243055555,
           13.398578243055555,
           14.398578243055555,
           15.398578243055555,
           16.398578243055553,
           17.398578243055553,
           18.398578243055553,
           19.398578243055553,
           20.398578243055553,
           9.122786354999999,
           10.122786354999999,
           11.122786354999999,
           12.122786354999999,
           13.122786354999999,
           14.122786354999999,
           15.122786354999999,
           16.122786355,
           17.122786355,
           18.122786355,
           19.122786355000002,
           20.122786355000002,
           9.082991290277779,
           10.082991290277777,
           11.082991290277777,
           12.082991290277777,
           13.082991290277777,
           14.082991290277777,
           15.082991290277777,
           16.08299129027778,
           17.08299129027778,
           18.08299129027778,
           19.08299129027778,
           20.08299129027778,
           8.904603061944444,
           9.904603061944444,
           10.904603061944444,
           11.904603061944444,
           12.904603061944444,
           13.904603061944444,
           14.904603061944444,
           15.904603061944444,
           16.904603061944442,
           17.904603061944442,
           18.904603061944442,
           19.904603061944442,
           8.727255199444445,
           9.727255199444445,
           10.727255199444445,
           11.727255199444445,
           12.727255199444445,
           13.727255199444445,
           14.727255199444445,
           15.727255199444445,
           16.727255199444443,
           17.727255199444443,
           18.727255199444443,
           19.727255199444443,
           8.694784378055555,
           9.694784378055555,
           10.694784378055555,
           11.694784378055555,
           12.694784378055555,
           13.694784378055555,
           14.694784378055555,
           15.694784378055555,
           16.694784378055555,
           17.694784378055555,
           18.694784378055555,
           19.694784378055555,
           8.671887580555556,
           9.671887580555556,
           10.671887580555556,
           11.671887580555556,
           12.671887580555556,
           13.671887580555556,
           14.671887580555556,
           15.671887580555556,
           16.671887580555556,
           17.671887580555556,
           18.671887580555556,
           19.671887580555556,
           8.48790026861111,
           8.219995573611111,
           9.21999557361111,
           10.21999557361111,
           11.21999557361111,
           12.21999557361111,
           13.21999557361111,
           14.21999557361111,
           15.21999557361111,
           16.21999557361111,
           17.21999557361111,
           18.21999557361111,
           19.21999557361111,
           8.154513038055555,
           9.154513038055557,
           10.154513038055557,
           11.154513038055557,
           12.154513038055557,
           13.154513038055557,
           14.154513038055557,
           15.154513038055557,
           16.154513038055555,
           17.154513038055555,
           18.154513038055555,
           19.154513038055555,
           8.07116575,
           9.07116575,
           10.07116575,
           11.07116575,
           12.07116575,
           13.07116575,
           14.07116575,
           15.07116575,
           16.07116575,
           17.07116575,
           18.07116575,
           19.07116575,
           7.988921400277778,
           8.988921400277778,
           9.988921400277777,
           10.988921400277777,
           11.988921400277777,
           12.988921400277777,
           13.988921400277777,
           14.988921400277777,
           15.988921400277777,
           16.98892140027778,
           17.98892140027778,
           18.98892140027778,
           7.9056208352777775,
           8.905620835277778,
           9.905620835277778,
           10.905620835277778,
           11.905620835277778,
           12.905620835277778,
           13.905620835277778,
           14.905620835277778,
           15.905620835277778,
           16.90562083527778,
           17.90562083527778,
           18.905620835277777,
           7.822229465,
           8.822229465,
           9.822229465,
           10.822229465,
           11.822229465,
           12.822229465,
           13.822229465,
           14.822229465,
           15.822229465,
           16.822229465,
           17.822229465,
           18.822229465,
           7.737438610555556,
           8.737438610555555,
           9.737438610555555,
           10.737438610555555,
           11.737438610555555,
           12.737438610555555,
           13.737438610555555,
           14.737438610555555,
           15.737438610555555,
           16.737438610555557,
           17.737438610555557,
           18.737438610555554,
           6.992861859166667,
           7.992861859166667,
           8.992861859166666,
           9.992861859166666,
           10.992861859166666,
           11.992861859166666,
           12.992861859166666,
           13.992861859166666,
           14.992861859166666,
           15.992861859166666,
           16.992861859166666,
           17.992861859166666,
           5.9933272111111116,
           6.9933272111111116,
           7.9933272111111116,
           8.993327211111112,
           9.99332721111111,
           10.99332721111111,
           11.99332721111111,
           12.99332721111111,
           13.99332721111111,
           14.99332721111111,
           15.99332721111111,
           16.99332721111111,
           4.993743924444444,
           5.993743924444444,
           6.993743924444444,
           7.993743924444444,
           8.993743924444445,
           9.993743924444445,
           10.993743924444445,
           11.993743924444445,
           12.993743924444445,
           13.993743924444445,
           14.993743924444445,
           15.993743924444445,
           3.9941894522222223,
           4.994189452222223,
           5.994189452222223,
           6.994189452222223,
           7.994189452222223,
           8.994189452222223,
           9.994189452222221,
           10.994189452222221,
           11.994189452222221,
           12.994189452222221,
           13.994189452222221,
           14.994189452222221,
           2.9941425363888885,
           3.9941425363888885,
           4.994142536388889,
           5.994142536388889,
           6.994142536388889,
           7.994142536388889,
           8.994142536388889,
           9.994142536388889,
           10.994142536388889,
           11.994142536388889,
           12.994142536388889,
           13.994142536388889,
           1.9895257377777777,
           2.9895257377777775,
           3.9895257377777775,
           4.989525737777778,
           5.989525737777778,
           6.989525737777778,
           7.989525737777778,
           8.989525737777779,
           9.989525737777777,
           10.989525737777777,
           11.989525737777777,
           12.989525737777777,
           0.994167665,
           1.994167665,
           2.994167665,
           3.994167665,
           4.994167665000001,
           5.994167665000001,
           6.994167665000001,
           7.994167665000001,
           8.994167665,
           9.994167665,
           10.994167665,
           11.994167665,
           0.9937900819444445,
           1.9937900819444445,
           2.9937900819444443,
           3.9937900819444443,
           4.993790081944444,
           5.993790081944444,
           6.993790081944444,
           7.993790081944444,
           8.993790081944445,
           9.993790081944445,
           10.993790081944445,
           0.9941085055555556,
           1.9941085055555554,
           2.9941085055555554,
           3.9941085055555554,
           4.994108505555555,
           5.994108505555555,
           6.994108505555555,
           7.994108505555555,
           8.994108505555555,
           9.994108505555555,
           0.9936836952777779,
           1.993683695277778,
           2.9936836952777774,
           3.9936836952777774,
           4.9936836952777774,
           5.9936836952777774,
           6.9936836952777774,
           7.9936836952777774,
           0.9934895811111111,
           1.993489581111111,
           2.993489581111111,
           3.993489581111111,
           4.9934895811111115,
           5.9934895811111115,
           6.9934895811111115,
           0.9933211041666666,
           1.9933211041666665,
           2.9933211041666667,
           3.9933211041666667,
           4.993321104166667,
           5.993321104166667,
           0.9919762222222221,
           1.9919762222222224,
           2.991976222222222,
           3.991976222222222,
           4.991976222222222,
           0.9934348816666666,
           1.9934348816666667,
           2.9934348816666665,
           3.9934348816666665,
           0.9928819405555555,
           1.9928819405555556,
           2.992881940555556,
           0.9889330233333333,
           1.9889330233333335,
           0.9933875513888889
          ],
          "coloraxis": "coloraxis",
          "size": 12,
          "symbol": "circle"
         },
         "mode": "markers",
         "name": "",
         "orientation": "v",
         "showlegend": false,
         "type": "scatter",
         "x": [
          "2024-12-08",
          "2024-12-08",
          "2024-12-08",
          "2024-12-08",
          "2024-12-08",
          "2024-12-09",
          "2024-12-09",
          "2024-12-09",
          "2024-12-09",
          "2024-12-09",
          "2024-12-09",
          "2024-12-09",
          "2024-12-09",
          "2024-12-09",
          "2024-12-09",
          "2024-12-09",
          "2024-12-09",
          "2024-12-09",
          "2024-12-09",
          "2024-12-09",
          "2024-12-09",
          "2024-12-09",
          "2024-12-09",
          "2024-12-09",
          "2024-12-09",
          "2024-12-09",
          "2024-12-09",
          "2024-12-09",
          "2024-12-09",
          "2024-12-09",
          "2024-12-09",
          "2024-12-09",
          "2024-12-09",
          "2024-12-09",
          "2024-12-09",
          "2024-12-09",
          "2024-12-09",
          "2024-12-09",
          "2024-12-09",
          "2024-12-09",
          "2024-12-09",
          "2024-12-09",
          "2024-12-09",
          "2024-12-09",
          "2024-12-09",
          "2024-12-09",
          "2024-12-09",
          "2024-12-09",
          "2024-12-09",
          "2024-12-09",
          "2024-12-09",
          "2024-12-09",
          "2024-12-09",
          "2024-12-09",
          "2024-12-09",
          "2024-12-09",
          "2024-12-09",
          "2024-12-09",
          "2024-12-09",
          "2024-12-09",
          "2024-12-09",
          "2024-12-09",
          "2024-12-09",
          "2024-12-09",
          "2024-12-09",
          "2024-12-09",
          "2024-12-09",
          "2024-12-09",
          "2024-12-09",
          "2024-12-09",
          "2024-12-09",
          "2024-12-09",
          "2024-12-09",
          "2024-12-09",
          "2024-12-09",
          "2024-12-09",
          "2024-12-09",
          "2024-12-09",
          "2024-12-09",
          "2024-12-09",
          "2024-12-09",
          "2024-12-09",
          "2024-12-09",
          "2024-12-09",
          "2024-12-09",
          "2024-12-09",
          "2024-12-09",
          "2024-12-09",
          "2024-12-09",
          "2024-12-09",
          "2024-12-09",
          "2024-12-09",
          "2024-12-09",
          "2024-12-09",
          "2024-12-09",
          "2024-12-09",
          "2024-12-09",
          "2024-12-09",
          "2024-12-09",
          "2024-12-09",
          "2024-12-09",
          "2024-12-09",
          "2024-12-09",
          "2024-12-09",
          "2024-12-09",
          "2024-12-09",
          "2024-12-09",
          "2024-12-09",
          "2024-12-09",
          "2024-12-09",
          "2024-12-09",
          "2024-12-09",
          "2024-12-09",
          "2024-12-09",
          "2024-12-09",
          "2024-12-09",
          "2024-12-09",
          "2024-12-09",
          "2024-12-09",
          "2024-12-09",
          "2024-12-09",
          "2024-12-09",
          "2024-12-09",
          "2024-12-09",
          "2024-12-09",
          "2024-12-09",
          "2024-12-09",
          "2024-12-09",
          "2024-12-09",
          "2024-12-09",
          "2024-12-09",
          "2024-12-09",
          "2024-12-09",
          "2024-12-09",
          "2024-12-09",
          "2024-12-09",
          "2024-12-09",
          "2024-12-09",
          "2024-12-09",
          "2024-12-09",
          "2024-12-09",
          "2024-12-09",
          "2024-12-09",
          "2024-12-09",
          "2024-12-09",
          "2024-12-09",
          "2024-12-09",
          "2024-12-09",
          "2024-12-09",
          "2024-12-09",
          "2024-12-09",
          "2024-12-09",
          "2024-12-09",
          "2024-12-09",
          "2024-12-09",
          "2024-12-09",
          "2024-12-09",
          "2024-12-09",
          "2024-12-09",
          "2024-12-09",
          "2024-12-09",
          "2024-12-09",
          "2024-12-09",
          "2024-12-09",
          "2024-12-09",
          "2024-12-09",
          "2024-12-09",
          "2024-12-09",
          "2024-12-09",
          "2024-12-09",
          "2024-12-09",
          "2024-12-09",
          "2024-12-09",
          "2024-12-09",
          "2024-12-09",
          "2024-12-09",
          "2024-12-09",
          "2024-12-09",
          "2024-12-09",
          "2024-12-09",
          "2024-12-09",
          "2024-12-09",
          "2024-12-09",
          "2024-12-09",
          "2024-12-09",
          "2024-12-09",
          "2024-12-09",
          "2024-12-09",
          "2024-12-09",
          "2024-12-09",
          "2024-12-09",
          "2024-12-09",
          "2024-12-09",
          "2024-12-09",
          "2024-12-09",
          "2024-12-09",
          "2024-12-09",
          "2024-12-09",
          "2024-12-09",
          "2024-12-09",
          "2024-12-09",
          "2024-12-09",
          "2024-12-09",
          "2024-12-09",
          "2024-12-09",
          "2024-12-09",
          "2024-12-09",
          "2024-12-09",
          "2024-12-09",
          "2024-12-09",
          "2024-12-09",
          "2024-12-09",
          "2024-12-09",
          "2024-12-09",
          "2024-12-09",
          "2024-12-09",
          "2024-12-09",
          "2024-12-09",
          "2024-12-09",
          "2024-12-09",
          "2024-12-09",
          "2024-12-09",
          "2024-12-09",
          "2024-12-09",
          "2024-12-09",
          "2024-12-09",
          "2024-12-09",
          "2024-12-09",
          "2024-12-09",
          "2024-12-09",
          "2024-12-09",
          "2024-12-09",
          "2024-12-09",
          "2024-12-09",
          "2024-12-09",
          "2024-12-09",
          "2024-12-09",
          "2024-12-09",
          "2024-12-09",
          "2024-12-09",
          "2024-12-09",
          "2024-12-09",
          "2024-12-09",
          "2024-12-09",
          "2024-12-09",
          "2024-12-09",
          "2024-12-09",
          "2024-12-09",
          "2024-12-09",
          "2024-12-09",
          "2024-12-09",
          "2024-12-09",
          "2024-12-09",
          "2024-12-09",
          "2024-12-09",
          "2024-12-09",
          "2024-12-09",
          "2024-12-09",
          "2024-12-09",
          "2024-12-09",
          "2024-12-09",
          "2024-12-09",
          "2024-12-09",
          "2024-12-09",
          "2024-12-09",
          "2024-12-09",
          "2024-12-09",
          "2024-12-09",
          "2024-12-09",
          "2024-12-09",
          "2024-12-09",
          "2024-12-09",
          "2024-12-09",
          "2024-12-09",
          "2024-12-09",
          "2024-12-09",
          "2024-12-09",
          "2024-12-09",
          "2024-12-09",
          "2024-12-09",
          "2024-12-09",
          "2024-12-09",
          "2024-12-09",
          "2024-12-09",
          "2024-12-09",
          "2024-12-09",
          "2024-12-09",
          "2024-12-09",
          "2024-12-09",
          "2024-12-09",
          "2024-12-09",
          "2024-12-09",
          "2024-12-09",
          "2024-12-09",
          "2024-12-09",
          "2024-12-09",
          "2024-12-09",
          "2024-12-09",
          "2024-12-09",
          "2024-12-09",
          "2024-12-09",
          "2024-12-09",
          "2024-12-09",
          "2024-12-09",
          "2024-12-09",
          "2024-12-09",
          "2024-12-09",
          "2024-12-09",
          "2024-12-09",
          "2024-12-09",
          "2024-12-09",
          "2024-12-09",
          "2024-12-09",
          "2024-12-09",
          "2024-12-09",
          "2024-12-09",
          "2024-12-09",
          "2024-12-09",
          "2024-12-09",
          "2024-12-09",
          "2024-12-09",
          "2024-12-09",
          "2024-12-09",
          "2024-12-09",
          "2024-12-09",
          "2024-12-09",
          "2024-12-09",
          "2024-12-09",
          "2024-12-09",
          "2024-12-09",
          "2024-12-09",
          "2024-12-09",
          "2024-12-09",
          "2024-12-09",
          "2024-12-09",
          "2024-12-09",
          "2024-12-09",
          "2024-12-09",
          "2024-12-09",
          "2024-12-09",
          "2024-12-09",
          "2024-12-09",
          "2024-12-09",
          "2024-12-09",
          "2024-12-09",
          "2024-12-09",
          "2024-12-09",
          "2024-12-09",
          "2024-12-09",
          "2024-12-09",
          "2024-12-09",
          "2024-12-09",
          "2024-12-09",
          "2024-12-09",
          "2024-12-09",
          "2024-12-09",
          "2024-12-09",
          "2024-12-09",
          "2024-12-09",
          "2024-12-09",
          "2024-12-09",
          "2024-12-09",
          "2024-12-09",
          "2024-12-09",
          "2024-12-09",
          "2024-12-09",
          "2024-12-09",
          "2024-12-09",
          "2024-12-09",
          "2024-12-09",
          "2024-12-09",
          "2024-12-09",
          "2024-12-09",
          "2024-12-09",
          "2024-12-09",
          "2024-12-09",
          "2024-12-09",
          "2024-12-09",
          "2024-12-09",
          "2024-12-09",
          "2024-12-09",
          "2024-12-09",
          "2024-12-09",
          "2024-12-09",
          "2024-12-09",
          "2024-12-09",
          "2024-12-09",
          "2024-12-09",
          "2024-12-09",
          "2024-12-09",
          "2024-12-09",
          "2024-12-09",
          "2024-12-09",
          "2024-12-09",
          "2024-12-09",
          "2024-12-09",
          "2024-12-09",
          "2024-12-09",
          "2024-12-09",
          "2024-12-09",
          "2024-12-09",
          "2024-12-09",
          "2024-12-09",
          "2024-12-09",
          "2024-12-09",
          "2024-12-09",
          "2024-12-09",
          "2024-12-09",
          "2024-12-09",
          "2024-12-09",
          "2024-12-09",
          "2024-12-09",
          "2024-12-09",
          "2024-12-09",
          "2024-12-09",
          "2024-12-09",
          "2024-12-09",
          "2024-12-09",
          "2024-12-09",
          "2024-12-09",
          "2024-12-09",
          "2024-12-09",
          "2024-12-09",
          "2024-12-09",
          "2024-12-09",
          "2024-12-09",
          "2024-12-09",
          "2024-12-09",
          "2024-12-09",
          "2024-12-09",
          "2024-12-09",
          "2024-12-09",
          "2024-12-09",
          "2024-12-09",
          "2024-12-09",
          "2024-12-09",
          "2024-12-09",
          "2024-12-09",
          "2024-12-09",
          "2024-12-09",
          "2024-12-09",
          "2024-12-09",
          "2024-12-09",
          "2024-12-09",
          "2024-12-09",
          "2024-12-09",
          "2024-12-09",
          "2024-12-09",
          "2024-12-09",
          "2024-12-09",
          "2024-12-09",
          "2024-12-09",
          "2024-12-09",
          "2024-12-09",
          "2024-12-09",
          "2024-12-09",
          "2024-12-09",
          "2024-12-09",
          "2024-12-09",
          "2024-12-09",
          "2024-12-09",
          "2024-12-09",
          "2024-12-09",
          "2024-12-09",
          "2024-12-09",
          "2024-12-09",
          "2024-12-09",
          "2024-12-09",
          "2024-12-09",
          "2024-12-09",
          "2024-12-09",
          "2024-12-09",
          "2024-12-09",
          "2024-12-09",
          "2024-12-09",
          "2024-12-09",
          "2024-12-09"
         ],
         "xaxis": "x",
         "y": [
          53,
          52,
          53,
          52,
          52,
          37,
          38,
          39,
          41,
          44,
          45,
          47,
          49,
          49,
          50,
          37,
          38,
          39,
          41,
          44,
          45,
          47,
          49,
          49,
          50,
          37,
          38,
          39,
          41,
          44,
          45,
          47,
          49,
          49,
          50,
          50,
          37,
          38,
          39,
          41,
          44,
          45,
          47,
          49,
          49,
          50,
          50,
          50,
          37,
          38,
          39,
          41,
          44,
          45,
          47,
          49,
          49,
          50,
          50,
          50,
          37,
          38,
          39,
          41,
          44,
          45,
          47,
          49,
          49,
          50,
          50,
          50,
          37,
          38,
          39,
          41,
          44,
          45,
          47,
          49,
          49,
          50,
          50,
          50,
          37,
          38,
          39,
          41,
          44,
          45,
          47,
          49,
          49,
          50,
          50,
          50,
          37,
          38,
          39,
          41,
          44,
          45,
          47,
          49,
          49,
          50,
          50,
          50,
          37,
          38,
          39,
          41,
          44,
          45,
          47,
          49,
          49,
          50,
          50,
          50,
          37,
          38,
          39,
          41,
          44,
          45,
          47,
          49,
          49,
          50,
          50,
          50,
          42,
          42,
          41,
          41,
          44,
          45,
          47,
          49,
          49,
          50,
          50,
          50,
          42,
          41,
          41,
          44,
          45,
          47,
          49,
          49,
          50,
          50,
          50,
          42,
          42,
          41,
          41,
          44,
          45,
          47,
          49,
          49,
          50,
          50,
          50,
          42,
          42,
          41,
          41,
          44,
          45,
          47,
          49,
          49,
          50,
          50,
          50,
          42,
          42,
          41,
          41,
          44,
          45,
          47,
          49,
          49,
          50,
          50,
          50,
          42,
          42,
          41,
          41,
          44,
          45,
          47,
          49,
          49,
          50,
          50,
          50,
          42,
          42,
          41,
          41,
          44,
          45,
          47,
          49,
          49,
          50,
          50,
          50,
          42,
          42,
          41,
          41,
          44,
          45,
          47,
          49,
          49,
          50,
          50,
          50,
          42,
          42,
          41,
          41,
          44,
          45,
          47,
          49,
          49,
          50,
          50,
          50,
          42,
          42,
          41,
          41,
          44,
          45,
          47,
          49,
          49,
          50,
          50,
          50,
          42,
          42,
          42,
          41,
          41,
          44,
          45,
          47,
          49,
          49,
          50,
          50,
          50,
          42,
          42,
          41,
          41,
          44,
          45,
          47,
          49,
          49,
          50,
          50,
          50,
          42,
          42,
          41,
          41,
          44,
          45,
          47,
          49,
          49,
          50,
          50,
          50,
          42,
          42,
          41,
          41,
          44,
          45,
          47,
          49,
          49,
          50,
          50,
          50,
          42,
          42,
          41,
          41,
          44,
          45,
          47,
          49,
          49,
          50,
          50,
          50,
          42,
          42,
          41,
          41,
          44,
          45,
          47,
          49,
          49,
          50,
          50,
          50,
          42,
          42,
          41,
          41,
          44,
          45,
          47,
          49,
          49,
          50,
          50,
          50,
          44,
          43,
          42,
          41,
          44,
          45,
          47,
          49,
          49,
          50,
          50,
          50,
          44,
          43,
          42,
          41,
          44,
          45,
          47,
          49,
          49,
          50,
          50,
          50,
          44,
          43,
          42,
          41,
          44,
          45,
          47,
          49,
          49,
          50,
          50,
          50,
          44,
          43,
          42,
          41,
          44,
          45,
          47,
          49,
          49,
          50,
          50,
          50,
          44,
          43,
          42,
          41,
          44,
          45,
          47,
          49,
          49,
          50,
          50,
          50,
          44,
          43,
          42,
          41,
          44,
          45,
          47,
          49,
          49,
          50,
          50,
          50,
          44,
          43,
          42,
          41,
          44,
          45,
          47,
          49,
          49,
          50,
          50,
          50,
          42,
          43,
          44,
          46,
          48,
          49,
          50,
          50,
          50,
          50,
          50,
          43,
          44,
          46,
          48,
          49,
          50,
          50,
          50,
          50,
          50,
          46,
          47,
          49,
          50,
          50,
          50,
          50,
          50,
          47,
          49,
          50,
          50,
          50,
          50,
          50,
          49,
          50,
          50,
          50,
          50,
          50,
          50,
          50,
          50,
          50,
          50,
          50,
          50,
          50,
          50,
          50,
          50,
          50,
          50,
          50,
          50
         ],
         "yaxis": "y"
        },
        {
         "line": {
          "color": "black"
         },
         "marker": {
          "size": 12
         },
         "mode": "lines+markers",
         "name": "Actual Daily Max",
         "type": "scatter",
         "x": [
          "2024-12-08",
          "2024-12-09"
         ],
         "y": [
          51.98,
          51.08
         ]
        }
       ],
       "layout": {
        "coloraxis": {
         "cmax": 14,
         "cmin": 0,
         "colorbar": {
          "title": {
           "text": "hours_ahead"
          }
         },
         "colorscale": [
          [
           0,
           "rgb(49,54,149)"
          ],
          [
           0.1,
           "rgb(69,117,180)"
          ],
          [
           0.2,
           "rgb(116,173,209)"
          ],
          [
           0.3,
           "rgb(171,217,233)"
          ],
          [
           0.4,
           "rgb(224,243,248)"
          ],
          [
           0.5,
           "rgb(255,255,191)"
          ],
          [
           0.6,
           "rgb(254,224,144)"
          ],
          [
           0.7,
           "rgb(253,174,97)"
          ],
          [
           0.8,
           "rgb(244,109,67)"
          ],
          [
           0.9,
           "rgb(215,48,39)"
          ],
          [
           1,
           "rgb(165,0,38)"
          ]
         ]
        },
        "legend": {
         "tracegroupgap": 0
        },
        "template": {
         "data": {
          "bar": [
           {
            "error_x": {
             "color": "#2a3f5f"
            },
            "error_y": {
             "color": "#2a3f5f"
            },
            "marker": {
             "line": {
              "color": "#E5ECF6",
              "width": 0.5
             },
             "pattern": {
              "fillmode": "overlay",
              "size": 10,
              "solidity": 0.2
             }
            },
            "type": "bar"
           }
          ],
          "barpolar": [
           {
            "marker": {
             "line": {
              "color": "#E5ECF6",
              "width": 0.5
             },
             "pattern": {
              "fillmode": "overlay",
              "size": 10,
              "solidity": 0.2
             }
            },
            "type": "barpolar"
           }
          ],
          "carpet": [
           {
            "aaxis": {
             "endlinecolor": "#2a3f5f",
             "gridcolor": "white",
             "linecolor": "white",
             "minorgridcolor": "white",
             "startlinecolor": "#2a3f5f"
            },
            "baxis": {
             "endlinecolor": "#2a3f5f",
             "gridcolor": "white",
             "linecolor": "white",
             "minorgridcolor": "white",
             "startlinecolor": "#2a3f5f"
            },
            "type": "carpet"
           }
          ],
          "choropleth": [
           {
            "colorbar": {
             "outlinewidth": 0,
             "ticks": ""
            },
            "type": "choropleth"
           }
          ],
          "contour": [
           {
            "colorbar": {
             "outlinewidth": 0,
             "ticks": ""
            },
            "colorscale": [
             [
              0,
              "#0d0887"
             ],
             [
              0.1111111111111111,
              "#46039f"
             ],
             [
              0.2222222222222222,
              "#7201a8"
             ],
             [
              0.3333333333333333,
              "#9c179e"
             ],
             [
              0.4444444444444444,
              "#bd3786"
             ],
             [
              0.5555555555555556,
              "#d8576b"
             ],
             [
              0.6666666666666666,
              "#ed7953"
             ],
             [
              0.7777777777777778,
              "#fb9f3a"
             ],
             [
              0.8888888888888888,
              "#fdca26"
             ],
             [
              1,
              "#f0f921"
             ]
            ],
            "type": "contour"
           }
          ],
          "contourcarpet": [
           {
            "colorbar": {
             "outlinewidth": 0,
             "ticks": ""
            },
            "type": "contourcarpet"
           }
          ],
          "heatmap": [
           {
            "colorbar": {
             "outlinewidth": 0,
             "ticks": ""
            },
            "colorscale": [
             [
              0,
              "#0d0887"
             ],
             [
              0.1111111111111111,
              "#46039f"
             ],
             [
              0.2222222222222222,
              "#7201a8"
             ],
             [
              0.3333333333333333,
              "#9c179e"
             ],
             [
              0.4444444444444444,
              "#bd3786"
             ],
             [
              0.5555555555555556,
              "#d8576b"
             ],
             [
              0.6666666666666666,
              "#ed7953"
             ],
             [
              0.7777777777777778,
              "#fb9f3a"
             ],
             [
              0.8888888888888888,
              "#fdca26"
             ],
             [
              1,
              "#f0f921"
             ]
            ],
            "type": "heatmap"
           }
          ],
          "heatmapgl": [
           {
            "colorbar": {
             "outlinewidth": 0,
             "ticks": ""
            },
            "colorscale": [
             [
              0,
              "#0d0887"
             ],
             [
              0.1111111111111111,
              "#46039f"
             ],
             [
              0.2222222222222222,
              "#7201a8"
             ],
             [
              0.3333333333333333,
              "#9c179e"
             ],
             [
              0.4444444444444444,
              "#bd3786"
             ],
             [
              0.5555555555555556,
              "#d8576b"
             ],
             [
              0.6666666666666666,
              "#ed7953"
             ],
             [
              0.7777777777777778,
              "#fb9f3a"
             ],
             [
              0.8888888888888888,
              "#fdca26"
             ],
             [
              1,
              "#f0f921"
             ]
            ],
            "type": "heatmapgl"
           }
          ],
          "histogram": [
           {
            "marker": {
             "pattern": {
              "fillmode": "overlay",
              "size": 10,
              "solidity": 0.2
             }
            },
            "type": "histogram"
           }
          ],
          "histogram2d": [
           {
            "colorbar": {
             "outlinewidth": 0,
             "ticks": ""
            },
            "colorscale": [
             [
              0,
              "#0d0887"
             ],
             [
              0.1111111111111111,
              "#46039f"
             ],
             [
              0.2222222222222222,
              "#7201a8"
             ],
             [
              0.3333333333333333,
              "#9c179e"
             ],
             [
              0.4444444444444444,
              "#bd3786"
             ],
             [
              0.5555555555555556,
              "#d8576b"
             ],
             [
              0.6666666666666666,
              "#ed7953"
             ],
             [
              0.7777777777777778,
              "#fb9f3a"
             ],
             [
              0.8888888888888888,
              "#fdca26"
             ],
             [
              1,
              "#f0f921"
             ]
            ],
            "type": "histogram2d"
           }
          ],
          "histogram2dcontour": [
           {
            "colorbar": {
             "outlinewidth": 0,
             "ticks": ""
            },
            "colorscale": [
             [
              0,
              "#0d0887"
             ],
             [
              0.1111111111111111,
              "#46039f"
             ],
             [
              0.2222222222222222,
              "#7201a8"
             ],
             [
              0.3333333333333333,
              "#9c179e"
             ],
             [
              0.4444444444444444,
              "#bd3786"
             ],
             [
              0.5555555555555556,
              "#d8576b"
             ],
             [
              0.6666666666666666,
              "#ed7953"
             ],
             [
              0.7777777777777778,
              "#fb9f3a"
             ],
             [
              0.8888888888888888,
              "#fdca26"
             ],
             [
              1,
              "#f0f921"
             ]
            ],
            "type": "histogram2dcontour"
           }
          ],
          "mesh3d": [
           {
            "colorbar": {
             "outlinewidth": 0,
             "ticks": ""
            },
            "type": "mesh3d"
           }
          ],
          "parcoords": [
           {
            "line": {
             "colorbar": {
              "outlinewidth": 0,
              "ticks": ""
             }
            },
            "type": "parcoords"
           }
          ],
          "pie": [
           {
            "automargin": true,
            "type": "pie"
           }
          ],
          "scatter": [
           {
            "fillpattern": {
             "fillmode": "overlay",
             "size": 10,
             "solidity": 0.2
            },
            "type": "scatter"
           }
          ],
          "scatter3d": [
           {
            "line": {
             "colorbar": {
              "outlinewidth": 0,
              "ticks": ""
             }
            },
            "marker": {
             "colorbar": {
              "outlinewidth": 0,
              "ticks": ""
             }
            },
            "type": "scatter3d"
           }
          ],
          "scattercarpet": [
           {
            "marker": {
             "colorbar": {
              "outlinewidth": 0,
              "ticks": ""
             }
            },
            "type": "scattercarpet"
           }
          ],
          "scattergeo": [
           {
            "marker": {
             "colorbar": {
              "outlinewidth": 0,
              "ticks": ""
             }
            },
            "type": "scattergeo"
           }
          ],
          "scattergl": [
           {
            "marker": {
             "colorbar": {
              "outlinewidth": 0,
              "ticks": ""
             }
            },
            "type": "scattergl"
           }
          ],
          "scattermapbox": [
           {
            "marker": {
             "colorbar": {
              "outlinewidth": 0,
              "ticks": ""
             }
            },
            "type": "scattermapbox"
           }
          ],
          "scatterpolar": [
           {
            "marker": {
             "colorbar": {
              "outlinewidth": 0,
              "ticks": ""
             }
            },
            "type": "scatterpolar"
           }
          ],
          "scatterpolargl": [
           {
            "marker": {
             "colorbar": {
              "outlinewidth": 0,
              "ticks": ""
             }
            },
            "type": "scatterpolargl"
           }
          ],
          "scatterternary": [
           {
            "marker": {
             "colorbar": {
              "outlinewidth": 0,
              "ticks": ""
             }
            },
            "type": "scatterternary"
           }
          ],
          "surface": [
           {
            "colorbar": {
             "outlinewidth": 0,
             "ticks": ""
            },
            "colorscale": [
             [
              0,
              "#0d0887"
             ],
             [
              0.1111111111111111,
              "#46039f"
             ],
             [
              0.2222222222222222,
              "#7201a8"
             ],
             [
              0.3333333333333333,
              "#9c179e"
             ],
             [
              0.4444444444444444,
              "#bd3786"
             ],
             [
              0.5555555555555556,
              "#d8576b"
             ],
             [
              0.6666666666666666,
              "#ed7953"
             ],
             [
              0.7777777777777778,
              "#fb9f3a"
             ],
             [
              0.8888888888888888,
              "#fdca26"
             ],
             [
              1,
              "#f0f921"
             ]
            ],
            "type": "surface"
           }
          ],
          "table": [
           {
            "cells": {
             "fill": {
              "color": "#EBF0F8"
             },
             "line": {
              "color": "white"
             }
            },
            "header": {
             "fill": {
              "color": "#C8D4E3"
             },
             "line": {
              "color": "white"
             }
            },
            "type": "table"
           }
          ]
         },
         "layout": {
          "annotationdefaults": {
           "arrowcolor": "#2a3f5f",
           "arrowhead": 0,
           "arrowwidth": 1
          },
          "autotypenumbers": "strict",
          "coloraxis": {
           "colorbar": {
            "outlinewidth": 0,
            "ticks": ""
           }
          },
          "colorscale": {
           "diverging": [
            [
             0,
             "#8e0152"
            ],
            [
             0.1,
             "#c51b7d"
            ],
            [
             0.2,
             "#de77ae"
            ],
            [
             0.3,
             "#f1b6da"
            ],
            [
             0.4,
             "#fde0ef"
            ],
            [
             0.5,
             "#f7f7f7"
            ],
            [
             0.6,
             "#e6f5d0"
            ],
            [
             0.7,
             "#b8e186"
            ],
            [
             0.8,
             "#7fbc41"
            ],
            [
             0.9,
             "#4d9221"
            ],
            [
             1,
             "#276419"
            ]
           ],
           "sequential": [
            [
             0,
             "#0d0887"
            ],
            [
             0.1111111111111111,
             "#46039f"
            ],
            [
             0.2222222222222222,
             "#7201a8"
            ],
            [
             0.3333333333333333,
             "#9c179e"
            ],
            [
             0.4444444444444444,
             "#bd3786"
            ],
            [
             0.5555555555555556,
             "#d8576b"
            ],
            [
             0.6666666666666666,
             "#ed7953"
            ],
            [
             0.7777777777777778,
             "#fb9f3a"
            ],
            [
             0.8888888888888888,
             "#fdca26"
            ],
            [
             1,
             "#f0f921"
            ]
           ],
           "sequentialminus": [
            [
             0,
             "#0d0887"
            ],
            [
             0.1111111111111111,
             "#46039f"
            ],
            [
             0.2222222222222222,
             "#7201a8"
            ],
            [
             0.3333333333333333,
             "#9c179e"
            ],
            [
             0.4444444444444444,
             "#bd3786"
            ],
            [
             0.5555555555555556,
             "#d8576b"
            ],
            [
             0.6666666666666666,
             "#ed7953"
            ],
            [
             0.7777777777777778,
             "#fb9f3a"
            ],
            [
             0.8888888888888888,
             "#fdca26"
            ],
            [
             1,
             "#f0f921"
            ]
           ]
          },
          "colorway": [
           "#636efa",
           "#EF553B",
           "#00cc96",
           "#ab63fa",
           "#FFA15A",
           "#19d3f3",
           "#FF6692",
           "#B6E880",
           "#FF97FF",
           "#FECB52"
          ],
          "font": {
           "color": "#2a3f5f"
          },
          "geo": {
           "bgcolor": "white",
           "lakecolor": "white",
           "landcolor": "#E5ECF6",
           "showlakes": true,
           "showland": true,
           "subunitcolor": "white"
          },
          "hoverlabel": {
           "align": "left"
          },
          "hovermode": "closest",
          "mapbox": {
           "style": "light"
          },
          "paper_bgcolor": "white",
          "plot_bgcolor": "#E5ECF6",
          "polar": {
           "angularaxis": {
            "gridcolor": "white",
            "linecolor": "white",
            "ticks": ""
           },
           "bgcolor": "#E5ECF6",
           "radialaxis": {
            "gridcolor": "white",
            "linecolor": "white",
            "ticks": ""
           }
          },
          "scene": {
           "xaxis": {
            "backgroundcolor": "#E5ECF6",
            "gridcolor": "white",
            "gridwidth": 2,
            "linecolor": "white",
            "showbackground": true,
            "ticks": "",
            "zerolinecolor": "white"
           },
           "yaxis": {
            "backgroundcolor": "#E5ECF6",
            "gridcolor": "white",
            "gridwidth": 2,
            "linecolor": "white",
            "showbackground": true,
            "ticks": "",
            "zerolinecolor": "white"
           },
           "zaxis": {
            "backgroundcolor": "#E5ECF6",
            "gridcolor": "white",
            "gridwidth": 2,
            "linecolor": "white",
            "showbackground": true,
            "ticks": "",
            "zerolinecolor": "white"
           }
          },
          "shapedefaults": {
           "line": {
            "color": "#2a3f5f"
           }
          },
          "ternary": {
           "aaxis": {
            "gridcolor": "white",
            "linecolor": "white",
            "ticks": ""
           },
           "baxis": {
            "gridcolor": "white",
            "linecolor": "white",
            "ticks": ""
           },
           "bgcolor": "#E5ECF6",
           "caxis": {
            "gridcolor": "white",
            "linecolor": "white",
            "ticks": ""
           }
          },
          "title": {
           "x": 0.05
          },
          "xaxis": {
           "automargin": true,
           "gridcolor": "white",
           "linecolor": "white",
           "ticks": "",
           "title": {
            "standoff": 15
           },
           "zerolinecolor": "white",
           "zerolinewidth": 2
          },
          "yaxis": {
           "automargin": true,
           "gridcolor": "white",
           "linecolor": "white",
           "ticks": "",
           "title": {
            "standoff": 15
           },
           "zerolinecolor": "white",
           "zerolinewidth": 2
          }
         }
        },
        "title": {
         "text": "Daily Maximum Temperature Forecasts Over Time<br>Color shows hours before actual high"
        },
        "xaxis": {
         "anchor": "y",
         "domain": [
          0,
          1
         ],
         "title": {
          "text": "date"
         }
        },
        "yaxis": {
         "anchor": "x",
         "domain": [
          0,
          1
         ],
         "title": {
          "text": "forecast_max_temp"
         }
        }
       }
      }
     },
     "metadata": {},
     "output_type": "display_data"
    }
   ],
   "source": [
    "def analyze_forecast_vs_actual_daily_maxes(df_forecasts, df_observations, temp_margin=1.0):\n",
    "    \"\"\"\n",
    "    Compare maximum forecast temperatures with actual maximum temperatures for each day,\n",
    "    regardless of exact timing.\n",
    "    \n",
    "    Args:\n",
    "        df_forecasts: DataFrame of forecasts\n",
    "        df_observations: DataFrame of observations\n",
    "        temp_margin: Temperature margin for considering a forecast \"correct\" (±°F)\n",
    "    \"\"\"\n",
    "    # First, get actual daily max temperatures\n",
    "    df_observations['date'] = df_observations['observed_time'].dt.date\n",
    "    actual_daily_maxes = df_observations.groupby('date').agg({\n",
    "        'temperature': ['max', 'first'],\n",
    "        'observed_time': 'first'\n",
    "    }).reset_index()\n",
    "    actual_daily_maxes.columns = ['date', 'actual_max_temp', 'first_temp', 'first_time']\n",
    "    \n",
    "    # Get forecast daily maxes\n",
    "    df_forecasts['date'] = df_forecasts['forecast_time'].dt.date\n",
    "    forecast_analysis = []\n",
    "    \n",
    "    for date, day_forecasts in df_forecasts.groupby('date'):\n",
    "        actual_max = actual_daily_maxes[actual_daily_maxes['date'] == date]\n",
    "        if not actual_max.empty:\n",
    "            actual_max_temp = actual_max['actual_max_temp'].iloc[0]\n",
    "            \n",
    "            # For each forecast created on or before this date\n",
    "            for _, forecast in day_forecasts.iterrows():\n",
    "                forecast_max = forecast['temperature']\n",
    "                error = forecast_max - actual_max_temp\n",
    "                is_accurate = abs(error) <= temp_margin\n",
    "                \n",
    "                forecast_analysis.append({\n",
    "                    'date': date,\n",
    "                    'actual_max_temp': actual_max_temp,\n",
    "                    'forecast_max_temp': forecast_max,\n",
    "                    'forecast_time': forecast['forecast_time'],\n",
    "                    'forecast_created': forecast['created_at'],\n",
    "                    'error': error,\n",
    "                    'error_magnitude': abs(error),\n",
    "                    'is_accurate': is_accurate,\n",
    "                    'hours_ahead': (forecast['forecast_time'] - forecast['created_at']).total_seconds() / 3600\n",
    "                })\n",
    "    \n",
    "    df_analysis = pd.DataFrame(forecast_analysis)\n",
    "    \n",
    "    if df_analysis.empty:\n",
    "        print(\"No matching data found for analysis\")\n",
    "        return None\n",
    "    \n",
    "    # Print summary for each day\n",
    "    print(\"\\nDaily Maximum Temperature Analysis (Forecast Max vs Actual Max):\")\n",
    "    print(\"=============================================================\")\n",
    "    \n",
    "    for date, day_data in df_analysis.groupby('date'):\n",
    "        actual_max = day_data['actual_max_temp'].iloc[0]\n",
    "        accurate_forecasts = day_data[day_data['is_accurate']]\n",
    "        \n",
    "        print(f\"\\nDate: {date}\")\n",
    "        print(f\"Actual Daily Max: {actual_max:.1f}°F\")\n",
    "        print(f\"Total forecasts: {len(day_data)}\")\n",
    "        print(f\"Accurate forecasts (±{temp_margin}°F): {len(accurate_forecasts)}\")\n",
    "        \n",
    "        if len(accurate_forecasts) > 0:\n",
    "            print(\"\\nAccurate Forecasts:\")\n",
    "            for _, forecast in accurate_forecasts.iterrows():\n",
    "                print(f\"  Created: {forecast['forecast_created'].strftime('%Y-%m-%d %I:%M %p EST')}\")\n",
    "                print(f\"  Forecast Time: {forecast['forecast_time'].strftime('%Y-%m-%d %I:%M %p EST')}\")\n",
    "                print(f\"  Predicted Max: {forecast['forecast_max_temp']:.1f}°F\")\n",
    "                print(f\"  Hours Ahead: {forecast['hours_ahead']:.1f}\")\n",
    "                print(f\"  Error: {forecast['error']:.1f}°F\")\n",
    "                print(\"  ---\")\n",
    "    \n",
    "    # Visualizations\n",
    "    import numpy as np\n",
    "    import plotly.express as px\n",
    "    import plotly.graph_objects as go\n",
    "    \n",
    "    # ... (previous code remains the same until visualizations) ...\n",
    "\n",
    "     # ... (previous code remains the same until visualizations) ...\n",
    "\n",
    "    # 1. Scatter plot of forecast maxes vs actual maxes, colored by lead time\n",
    "    fig1 = px.scatter(df_analysis,\n",
    "                     x='actual_max_temp',\n",
    "                     y='forecast_max_temp',\n",
    "                     color='hours_ahead',\n",
    "                     color_continuous_scale='RdYlBu_r',\n",
    "                     range_color=[0, 14],\n",
    "                     hover_data={\n",
    "                         'date': True,\n",
    "                         'forecast_time': True,\n",
    "                         'forecast_created': True,\n",
    "                         'hours_ahead': ':.1f',\n",
    "                         'error': ':.2f',\n",
    "                         'is_accurate': True,\n",
    "                         'actual_max_temp': ':.2f',    # Changed to 2 decimal places\n",
    "                         'forecast_max_temp': ':.2f'    # Changed to 2 decimal places\n",
    "                     },\n",
    "                     title=f'Forecast vs Actual Daily Maximum Temperatures (±{temp_margin}°F margin)<br>Color shows hours before actual high')\n",
    "    \n",
    "    # Make points bigger\n",
    "    fig1.update_traces(marker=dict(size=12))\n",
    "    \n",
    "    # Add perfect forecast line and margin bands\n",
    "    temp_range = np.linspace(\n",
    "        df_analysis['actual_max_temp'].min() - 5,\n",
    "        df_analysis['actual_max_temp'].max() + 5,\n",
    "        100\n",
    "    )\n",
    "    \n",
    "    fig1.add_trace(go.Scatter(\n",
    "        x=temp_range,\n",
    "        y=temp_range,\n",
    "        mode='lines',\n",
    "        name='Perfect Forecast',\n",
    "        line=dict(color='black', dash='dash')\n",
    "    ))\n",
    "    \n",
    "    fig1.add_trace(go.Scatter(\n",
    "        x=temp_range,\n",
    "        y=temp_range + temp_margin,\n",
    "        mode='lines',\n",
    "        name=f'+{temp_margin}°F Margin',\n",
    "        line=dict(color='gray', dash='dot')\n",
    "    ))\n",
    "    \n",
    "    fig1.add_trace(go.Scatter(\n",
    "        x=temp_range,\n",
    "        y=temp_range - temp_margin,\n",
    "        mode='lines',\n",
    "        name=f'-{temp_margin}°F Margin',\n",
    "        line=dict(color='gray', dash='dot')\n",
    "    ))\n",
    "    \n",
    "    fig1.show()\n",
    "    \n",
    "    # 2. Time series with color showing lead time\n",
    "    fig2 = px.scatter(df_analysis,\n",
    "                     x='date',\n",
    "                     y='forecast_max_temp',\n",
    "                     color='hours_ahead',\n",
    "                     color_continuous_scale='RdYlBu_r',\n",
    "                     range_color=[0, 14],\n",
    "                     hover_data={\n",
    "                         'forecast_time': True,\n",
    "                         'forecast_created': True,\n",
    "                         'hours_ahead': ':.1f',\n",
    "                         'error': ':.2f',\n",
    "                         'actual_max_temp': ':.2f',    # Changed to 2 decimal places\n",
    "                         'forecast_max_temp': ':.2f',   # Changed to 2 decimal places\n",
    "                         'is_accurate': True\n",
    "                     },\n",
    "                     title='Daily Maximum Temperature Forecasts Over Time<br>Color shows hours before actual high')\n",
    "    \n",
    "    # Make points bigger\n",
    "    fig2.update_traces(marker=dict(size=12))\n",
    "    \n",
    "    # Add actual max temperatures line\n",
    "    daily_highs = df_analysis.groupby('date')['actual_max_temp'].first().reset_index()\n",
    "    fig2.add_trace(go.Scatter(\n",
    "        x=daily_highs['date'],\n",
    "        y=daily_highs['actual_max_temp'],\n",
    "        mode='lines+markers',\n",
    "        name='Actual Daily Max',\n",
    "        line=dict(color='black'),\n",
    "        marker=dict(size=12)\n",
    "    ))\n",
    "    \n",
    "    fig2.show()\n",
    "    return df_analysis\n",
    "\n",
    "# Run the analysis\n",
    "df_max_analysis = analyze_forecast_vs_actual_daily_maxes(df_forecasts, df_observations, temp_margin=1.0)"
   ]
  },
  {
   "cell_type": "code",
   "execution_count": null,
   "metadata": {},
   "outputs": [],
   "source": []
  }
 ],
 "metadata": {
  "kernelspec": {
   "display_name": "venv",
   "language": "python",
   "name": "python3"
  },
  "language_info": {
   "codemirror_mode": {
    "name": "ipython",
    "version": 3
   },
   "file_extension": ".py",
   "mimetype": "text/x-python",
   "name": "python",
   "nbconvert_exporter": "python",
   "pygments_lexer": "ipython3",
   "version": "3.9.6"
  }
 },
 "nbformat": 4,
 "nbformat_minor": 2
}
