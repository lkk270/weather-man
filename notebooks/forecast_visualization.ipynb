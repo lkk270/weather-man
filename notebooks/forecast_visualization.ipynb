{
 "cells": [
  {
   "cell_type": "code",
   "execution_count": 43,
   "metadata": {},
   "outputs": [
    {
     "name": "stdout",
     "output_type": "stream",
     "text": [
      "Setup complete!\n"
     ]
    }
   ],
   "source": [
    "import sys\n",
    "from pathlib import Path\n",
    "import nest_asyncio\n",
    "import asyncio\n",
    "import pandas as pd\n",
    "import matplotlib.pyplot as plt\n",
    "from datetime import datetime, timedelta, timezone  # Added timezone here\n",
    "\n",
    "# Enable async support in Jupyter\n",
    "nest_asyncio.apply()\n",
    "\n",
    "# Add the project root directory to Python path\n",
    "project_root = str(Path().absolute().parent)\n",
    "if project_root not in sys.path:\n",
    "    sys.path.append(project_root)\n",
    "    print(f\"Added {project_root} to Python path\")\n",
    "\n",
    "# Now we can safely import our local modules\n",
    "from sqlalchemy import select, func\n",
    "from database.session import get_db_session\n",
    "from database.models import WeatherForecast, WeatherObservation\n",
    "\n",
    "print(\"Setup complete!\")"
   ]
  },
  {
   "cell_type": "code",
   "execution_count": 44,
   "metadata": {},
   "outputs": [
    {
     "name": "stdout",
     "output_type": "stream",
     "text": [
      "DEBUG: Testing database connection without date filters...\n",
      "DEBUG: Found 792 daytime forecasts for MIA\n",
      "DEBUG: Found 582 matching observations for MIA\n"
     ]
    }
   ],
   "source": [
    "async def load_data(start_date=None, end_date=None, location=\"MIA\"):\n",
    "    \"\"\"Load forecasts and observations from database.\"\"\"\n",
    "    async with get_db_session() as session:\n",
    "        # Base query for forecasts with location and daytime filter\n",
    "        forecast_query = select(WeatherForecast).where(\n",
    "            WeatherForecast.location == location,\n",
    "            WeatherForecast.is_daytime == True  # Filter for daytime forecasts\n",
    "        )\n",
    "        if start_date:\n",
    "            forecast_query = forecast_query.where(WeatherForecast.forecast_time >= start_date)\n",
    "        if end_date:\n",
    "            forecast_query = forecast_query.where(WeatherForecast.forecast_time <= end_date)\n",
    "        \n",
    "        result = await session.execute(forecast_query)\n",
    "        forecasts = result.scalars().all()\n",
    "        print(f\"DEBUG: Found {len(forecasts)} daytime forecasts for {location}\")\n",
    "        \n",
    "        if len(forecasts) > 0:\n",
    "            forecast_times = {f.forecast_time for f in forecasts}\n",
    "            min_time = min(forecast_times)\n",
    "            max_time = max(forecast_times) + timedelta(hours=1)\n",
    "            \n",
    "            # For observations, we'll match the times from our daytime forecasts\n",
    "            obs_query = select(WeatherObservation).where(\n",
    "                WeatherObservation.location == location,\n",
    "                WeatherObservation.observed_time >= min_time,\n",
    "                WeatherObservation.observed_time <= max_time,\n",
    "                # We don't need a daytime filter here since we're matching forecast times\n",
    "            )\n",
    "            result = await session.execute(obs_query)\n",
    "            observations = result.scalars().all()\n",
    "            print(f\"DEBUG: Found {len(observations)} matching observations for {location}\")\n",
    "        else:\n",
    "            observations = []\n",
    "            \n",
    "        return forecasts, observations\n",
    "\n",
    "# For the visualization, replace the matplotlib code in analyze_forecast_accuracy with:\n",
    "\n",
    "# Try loading without date filters first\n",
    "print(\"DEBUG: Testing database connection without date filters...\")\n",
    "forecasts, observations = await load_data()\n",
    "\n",
    "if len(forecasts) == 0:\n",
    "    print(\"\\nDEBUG: No data found. Possible issues:\")\n",
    "    print(\"1. Database connection issues\")\n",
    "    print(\"2. Empty tables\")\n",
    "    print(\"3. Timezone mismatch in queries\")\n",
    "    print(\"\\nTrying with explicit date range...\")\n",
    "    \n",
    "    # Now try with date filters\n",
    "    start_date = datetime(2024, 1, 1, tzinfo=timezone.utc)\n",
    "    end_date = datetime(2024, 2, 1, tzinfo=timezone.utc)\n",
    "    forecasts, observations = await load_data(start_date, end_date)"
   ]
  },
  {
   "cell_type": "code",
   "execution_count": 65,
   "metadata": {},
   "outputs": [
    {
     "name": "stdout",
     "output_type": "stream",
     "text": [
      "Location: NYC_CASTLE_2 (UTC-5)\n",
      "Looking back 12 hours before daily high\n",
      "Querying data from 2024-12-10 05:00:00+00:00 to 2024-12-11 04:59:59.999999+00:00 UTC\n",
      "(Local: 2024-12-10 00:00:00-05:00 to 2024-12-10 23:59:59.999999-05:00)\n",
      "Found 288 forecasts created within 12 hours of daily highs for NYC_CASTLE_2\n",
      "Analyzed 1 days with high temperatures\n"
     ]
    }
   ],
   "source": [
    "from datetime import datetime, timedelta, timezone, date  # Added date here\n",
    "async def load_daytime_forecast_data(date_est=None, location_settings=None):\n",
    "    \"\"\"\n",
    "    Load forecasts for a specific EST date.\n",
    "    If date_est is None, returns all data.\n",
    "    \n",
    "    Args:\n",
    "        date_est: datetime.date object in local time (not datetime)\n",
    "        location_settings: dict with location settings, e.g.:\n",
    "            {\n",
    "                'MIA': {\n",
    "                    'hours_offset': -5,  # EST\n",
    "                    'hours_before_high': 12\n",
    "                },\n",
    "                'LAX': {\n",
    "                    'hours_offset': -8,  # PST\n",
    "                    'hours_before_high': 24\n",
    "                }\n",
    "            }\n",
    "    \"\"\"\n",
    "    # Default settings if none provided\n",
    "    if location_settings is None:\n",
    "        location_settings = {\n",
    "            'MIA': {\n",
    "                'hours_offset': -5,\n",
    "                'hours_before_high': 12\n",
    "            }\n",
    "        }\n",
    "    \n",
    "    # Use first location if multiple provided (can modify this behavior)\n",
    "    location = list(location_settings.keys())[0]\n",
    "    hours_offset = location_settings[location]['hours_offset']\n",
    "    hours_before_high = location_settings[location]['hours_before_high']\n",
    "    \n",
    "    local_tz = timezone(timedelta(hours=hours_offset))\n",
    "    \n",
    "    async with get_db_session() as session:\n",
    "        if date_est:\n",
    "            # Convert local date to UTC datetime range\n",
    "            start_date = datetime.combine(date_est, datetime.min.time())\n",
    "            start_date = start_date.replace(tzinfo=local_tz)\n",
    "            end_date = datetime.combine(date_est, datetime.max.time())\n",
    "            end_date = end_date.replace(tzinfo=local_tz)\n",
    "            \n",
    "            # Convert to UTC for database query\n",
    "            start_date_utc = start_date.astimezone(timezone.utc)\n",
    "            end_date_utc = end_date.astimezone(timezone.utc)\n",
    "            \n",
    "            print(f\"Location: {location} (UTC{hours_offset:+d})\")\n",
    "            print(f\"Looking back {hours_before_high} hours before daily high\")\n",
    "            print(f\"Querying data from {start_date_utc} to {end_date_utc} UTC\")\n",
    "            print(f\"(Local: {start_date} to {end_date})\")\n",
    "            \n",
    "            obs_query = select(WeatherObservation).where(\n",
    "                WeatherObservation.location == location,\n",
    "                WeatherObservation.observed_time >= start_date_utc,\n",
    "                WeatherObservation.observed_time <= end_date_utc\n",
    "            )\n",
    "        else:\n",
    "            obs_query = select(WeatherObservation).where(\n",
    "                WeatherObservation.location == location\n",
    "            )\n",
    "        \n",
    "        result = await session.execute(obs_query)\n",
    "        observations = result.scalars().all()\n",
    "        \n",
    "        if not observations:\n",
    "            print(\"No observations found\")\n",
    "            return [], []\n",
    "        \n",
    "        # Find daily high temperatures and their times\n",
    "        daily_highs = {}\n",
    "        for obs in observations:\n",
    "            # Convert to local time for processing\n",
    "            obs_time_local = obs.observed_time.astimezone(local_tz)\n",
    "            date_local = obs_time_local.date()\n",
    "            \n",
    "            if date_local not in daily_highs or obs.temperature > daily_highs[date_local][0]:\n",
    "                daily_highs[date_local] = (obs.temperature, obs.observed_time)\n",
    "            elif obs.temperature == daily_highs[date_local][0] and obs.observed_time > daily_highs[date_local][1]:\n",
    "                daily_highs[date_local] = (obs.temperature, obs.observed_time)\n",
    "        \n",
    "        # Get forecasts within specified hours before each daily high\n",
    "        relevant_forecasts = []\n",
    "        for date, (max_temp, high_time) in daily_highs.items():\n",
    "            window_start = high_time - timedelta(hours=hours_before_high)\n",
    "            \n",
    "            forecast_query = select(WeatherForecast).where(\n",
    "                WeatherForecast.location == location,\n",
    "                WeatherForecast.created_at >= window_start,\n",
    "                WeatherForecast.created_at <= high_time\n",
    "            )\n",
    "            \n",
    "            result = await session.execute(forecast_query)\n",
    "            day_forecasts = result.scalars().all()\n",
    "            relevant_forecasts.extend(day_forecasts)\n",
    "        \n",
    "        print(f\"Found {len(relevant_forecasts)} forecasts created within {hours_before_high} hours \"\n",
    "              f\"of daily highs for {location}\")\n",
    "        print(f\"Analyzed {len(daily_highs)} days with high temperatures\")\n",
    "        \n",
    "        return relevant_forecasts, observations\n",
    "\n",
    "# Example usage:\n",
    "location_settings = {\n",
    "    'NYC_CASTLE_2': {\n",
    "        'hours_offset': -5,      # EST\n",
    "        'hours_before_high': 12  # Look back 12 hours\n",
    "    }\n",
    "}\n",
    "\n",
    "date_est = date(2024, 12, 10)  # Now date should be defined\n",
    "forecasts, observations = await load_daytime_forecast_data(\n",
    "    date_est=date_est,\n",
    "    location_settings=location_settings\n",
    ")"
   ]
  },
  {
   "cell_type": "code",
   "execution_count": 66,
   "metadata": {},
   "outputs": [],
   "source": [
    "def process_data(forecasts, observations):\n",
    "    \"\"\"Convert data to pandas DataFrames and process for analysis.\"\"\"\n",
    "    # Convert forecasts to DataFrame\n",
    "    forecast_data = []\n",
    "    for f in forecasts:\n",
    "        # Round the forecast time to the nearest hour\n",
    "        forecast_time = f.forecast_time.replace(minute=0, second=0, microsecond=0)\n",
    "        forecast_data.append({\n",
    "            'forecast_time': f.forecast_time,\n",
    "            'created_at': f.created_at,\n",
    "            'location': f.location,\n",
    "            'temperature': f.temperature,\n",
    "            'forecast_time_hour': forecast_time  # Changed from forecast_hour\n",
    "        })\n",
    "    df_forecasts = pd.DataFrame(forecast_data)\n",
    "    \n",
    "    # Convert observations to DataFrame\n",
    "    obs_data = []\n",
    "    for o in observations:\n",
    "        # Round the observation time to the nearest hour\n",
    "        observation_time = o.observed_time.replace(minute=0, second=0, microsecond=0)\n",
    "        obs_data.append({\n",
    "            'observed_time': o.observed_time,\n",
    "            'location': o.location,\n",
    "            'temperature': o.temperature,\n",
    "            'observation_time_hour': observation_time  # Changed from observation_hour\n",
    "        })\n",
    "    df_observations = pd.DataFrame(obs_data)\n",
    "    \n",
    "    # Group forecasts by forecast hour\n",
    "    grouped_forecasts = df_forecasts.groupby('forecast_time_hour')\n",
    "    \n",
    "    return df_forecasts, df_observations, grouped_forecasts"
   ]
  },
  {
   "cell_type": "code",
   "execution_count": 67,
   "metadata": {},
   "outputs": [],
   "source": [
    "def process_data(forecasts, observations):\n",
    "    \"\"\"Convert data to pandas DataFrames and process for analysis.\"\"\"\n",
    "    # Convert forecasts to DataFrame\n",
    "    forecast_data = []\n",
    "    for f in forecasts:\n",
    "        # Round the forecast time to the nearest hour and convert to EST\n",
    "        forecast_time = f.forecast_time.replace(minute=0, second=0, microsecond=0)\n",
    "        forecast_time_est = forecast_time.astimezone(timezone(timedelta(hours=-5)))\n",
    "        created_at_est = f.created_at.astimezone(timezone(timedelta(hours=-5)))\n",
    "        \n",
    "        forecast_data.append({\n",
    "            'forecast_time': forecast_time_est,  # Now in EST\n",
    "            'created_at': created_at_est,        # Now in EST\n",
    "            'location': f.location,\n",
    "            'temperature': f.temperature,\n",
    "            'forecast_time_hour': forecast_time_est  # Changed from forecast_hour\n",
    "        })\n",
    "    df_forecasts = pd.DataFrame(forecast_data)\n",
    "    \n",
    "    # Debug print\n",
    "    print(\"Forecast DataFrame columns:\", df_forecasts.columns.tolist())\n",
    "    print(\"First few rows of forecasts:\")\n",
    "    print(df_forecasts.head())\n",
    "    \n",
    "    # Convert observations to DataFrame\n",
    "    obs_data = []\n",
    "    for o in observations:\n",
    "        # Round the observation time to the nearest hour and convert to EST\n",
    "        observation_time = o.observed_time.replace(minute=0, second=0, microsecond=0)\n",
    "        observation_time_est = observation_time.astimezone(timezone(timedelta(hours=-5)))\n",
    "        \n",
    "        obs_data.append({\n",
    "            'observed_time': observation_time_est,  # Now in EST\n",
    "            'location': o.location,\n",
    "            'temperature': o.temperature,\n",
    "            'observation_time_hour': observation_time_est  # Changed from observation_hour\n",
    "        })\n",
    "    df_observations = pd.DataFrame(obs_data)\n",
    "    \n",
    "    # Debug print\n",
    "    print(\"\\nObservation DataFrame columns:\", df_observations.columns.tolist())\n",
    "    print(\"First few rows of observations:\")\n",
    "    print(df_observations.head())\n",
    "    \n",
    "    # Group forecasts by forecast hour\n",
    "    grouped_forecasts = df_forecasts.groupby('forecast_time_hour')\n",
    "    \n",
    "    return df_forecasts, df_observations, grouped_forecasts"
   ]
  },
  {
   "cell_type": "code",
   "execution_count": 68,
   "metadata": {},
   "outputs": [],
   "source": [
    "\n",
    "def analyze_forecast_accuracy(df_forecasts, df_observations, grouped_forecasts):\n",
    "    \"\"\"Analyze and visualize forecast accuracy.\"\"\"\n",
    "    accuracy_data = []\n",
    "    \n",
    "    for forecast_time_hour, group in grouped_forecasts:\n",
    "        hour_observations = df_observations[\n",
    "            (df_observations['observed_time'] >= forecast_time_hour) &\n",
    "            (df_observations['observed_time'] < forecast_time_hour + timedelta(hours=1))\n",
    "        ]\n",
    "        \n",
    "        if not hour_observations.empty:\n",
    "            actual_temp = hour_observations['temperature'].mean()\n",
    "            \n",
    "            for _, forecast in group.iterrows():\n",
    "                hours_ahead = (forecast_time_hour - forecast['created_at']).total_seconds() / 3600\n",
    "                error = forecast['temperature'] - actual_temp\n",
    "                accuracy_data.append({\n",
    "                    'forecast_time': forecast_time_hour,\n",
    "                    'hours_ahead': hours_ahead,\n",
    "                    'error': error,\n",
    "                    'actual_temp': actual_temp,\n",
    "                    'forecast_temp': forecast['temperature'],\n",
    "                    'error_magnitude': abs(error)  # For coloring\n",
    "                })\n",
    "    \n",
    "    df_accuracy = pd.DataFrame(accuracy_data)\n",
    "    \n",
    "    # Create interactive plot with plotly\n",
    "    import plotly.express as px\n",
    "    \n",
    "    fig = px.scatter(df_accuracy, \n",
    "                     x='hours_ahead',\n",
    "                     y='error',\n",
    "                     color='error_magnitude',\n",
    "                     color_continuous_scale='RdYlBu_r',  # Red for large errors, blue for small\n",
    "                     hover_data=['forecast_time', 'actual_temp', 'forecast_temp'],\n",
    "                     labels={\n",
    "                         'hours_ahead': 'Hours Ahead of Forecast',\n",
    "                         'error': 'Forecast Error (°F)',\n",
    "                         'error_magnitude': 'Absolute Error (°F)'\n",
    "                     },\n",
    "                     title='Forecast Error vs Forecast Lead Time')\n",
    "    \n",
    "    fig.add_hline(y=0, line_dash=\"dash\", line_color=\"red\")\n",
    "    fig.update_layout(\n",
    "        height=600,\n",
    "        showlegend=True,\n",
    "        hovermode='closest'\n",
    "    )\n",
    "    \n",
    "    fig.show()\n",
    "    return df_accuracy"
   ]
  },
  {
   "cell_type": "code",
   "execution_count": 69,
   "metadata": {},
   "outputs": [
    {
     "name": "stdout",
     "output_type": "stream",
     "text": [
      "Forecast DataFrame columns: ['forecast_time', 'created_at', 'location', 'temperature', 'forecast_time_hour']\n",
      "First few rows of forecasts:\n",
      "              forecast_time                       created_at      location  \\\n",
      "0 2024-12-09 15:00:00-05:00 2024-12-09 14:00:25.625014-05:00  NYC_CASTLE_2   \n",
      "1 2024-12-09 16:00:00-05:00 2024-12-09 14:00:25.625014-05:00  NYC_CASTLE_2   \n",
      "2 2024-12-09 17:00:00-05:00 2024-12-09 14:00:25.625014-05:00  NYC_CASTLE_2   \n",
      "3 2024-12-09 18:00:00-05:00 2024-12-09 14:00:25.625014-05:00  NYC_CASTLE_2   \n",
      "4 2024-12-09 19:00:00-05:00 2024-12-09 14:00:25.625014-05:00  NYC_CASTLE_2   \n",
      "\n",
      "   temperature        forecast_time_hour  \n",
      "0         50.0 2024-12-09 15:00:00-05:00  \n",
      "1         50.0 2024-12-09 16:00:00-05:00  \n",
      "2         50.0 2024-12-09 17:00:00-05:00  \n",
      "3         49.0 2024-12-09 18:00:00-05:00  \n",
      "4         49.0 2024-12-09 19:00:00-05:00  \n",
      "\n",
      "Observation DataFrame columns: ['observed_time', 'location', 'temperature', 'observation_time_hour']\n",
      "First few rows of observations:\n",
      "              observed_time      location  temperature  \\\n",
      "0 2024-12-10 00:00:00-05:00  NYC_CASTLE_2        48.02   \n",
      "1 2024-12-10 01:00:00-05:00  NYC_CASTLE_2        48.02   \n",
      "2 2024-12-10 01:00:00-05:00  NYC_CASTLE_2        46.94   \n",
      "3 2024-12-10 02:00:00-05:00  NYC_CASTLE_2        46.04   \n",
      "4 2024-12-10 03:00:00-05:00  NYC_CASTLE_2        46.04   \n",
      "\n",
      "      observation_time_hour  \n",
      "0 2024-12-10 00:00:00-05:00  \n",
      "1 2024-12-10 01:00:00-05:00  \n",
      "2 2024-12-10 01:00:00-05:00  \n",
      "3 2024-12-10 02:00:00-05:00  \n",
      "4 2024-12-10 03:00:00-05:00  \n",
      "\n",
      "Processed 288 forecasts into 35 hourly groups\n"
     ]
    },
    {
     "data": {
      "application/vnd.plotly.v1+json": {
       "config": {
        "plotlyServerURL": "https://plot.ly"
       },
       "data": [
        {
         "customdata": [
          [
           "2024-12-10T00:00:00-05:00",
           48.02,
           46
          ],
          [
           "2024-12-10T00:00:00-05:00",
           48.02,
           46
          ],
          [
           "2024-12-10T00:00:00-05:00",
           48.02,
           48
          ],
          [
           "2024-12-10T00:00:00-05:00",
           48.02,
           48
          ],
          [
           "2024-12-10T00:00:00-05:00",
           48.02,
           48
          ],
          [
           "2024-12-10T00:00:00-05:00",
           48.02,
           46
          ],
          [
           "2024-12-10T00:00:00-05:00",
           48.02,
           46
          ],
          [
           "2024-12-10T00:00:00-05:00",
           48.02,
           46
          ],
          [
           "2024-12-10T00:00:00-05:00",
           48.02,
           46
          ],
          [
           "2024-12-10T00:00:00-05:00",
           48.02,
           46
          ],
          [
           "2024-12-10T01:00:00-05:00",
           47.480000000000004,
           46
          ],
          [
           "2024-12-10T01:00:00-05:00",
           47.480000000000004,
           46
          ],
          [
           "2024-12-10T01:00:00-05:00",
           47.480000000000004,
           47
          ],
          [
           "2024-12-10T01:00:00-05:00",
           47.480000000000004,
           47
          ],
          [
           "2024-12-10T01:00:00-05:00",
           47.480000000000004,
           47
          ],
          [
           "2024-12-10T01:00:00-05:00",
           47.480000000000004,
           46
          ],
          [
           "2024-12-10T01:00:00-05:00",
           47.480000000000004,
           46
          ],
          [
           "2024-12-10T01:00:00-05:00",
           47.480000000000004,
           46
          ],
          [
           "2024-12-10T01:00:00-05:00",
           47.480000000000004,
           46
          ],
          [
           "2024-12-10T01:00:00-05:00",
           47.480000000000004,
           46
          ],
          [
           "2024-12-10T01:00:00-05:00",
           47.480000000000004,
           46
          ],
          [
           "2024-12-10T02:00:00-05:00",
           46.04,
           46
          ],
          [
           "2024-12-10T02:00:00-05:00",
           46.04,
           46
          ],
          [
           "2024-12-10T02:00:00-05:00",
           46.04,
           46
          ],
          [
           "2024-12-10T02:00:00-05:00",
           46.04,
           46
          ],
          [
           "2024-12-10T02:00:00-05:00",
           46.04,
           46
          ],
          [
           "2024-12-10T02:00:00-05:00",
           46.04,
           46
          ],
          [
           "2024-12-10T02:00:00-05:00",
           46.04,
           46
          ],
          [
           "2024-12-10T02:00:00-05:00",
           46.04,
           46
          ],
          [
           "2024-12-10T02:00:00-05:00",
           46.04,
           46
          ],
          [
           "2024-12-10T02:00:00-05:00",
           46.04,
           46
          ],
          [
           "2024-12-10T02:00:00-05:00",
           46.04,
           46
          ],
          [
           "2024-12-10T02:00:00-05:00",
           46.04,
           46
          ],
          [
           "2024-12-10T03:00:00-05:00",
           45.68,
           46
          ],
          [
           "2024-12-10T03:00:00-05:00",
           45.68,
           46
          ],
          [
           "2024-12-10T03:00:00-05:00",
           45.68,
           46
          ],
          [
           "2024-12-10T03:00:00-05:00",
           45.68,
           46
          ],
          [
           "2024-12-10T03:00:00-05:00",
           45.68,
           46
          ],
          [
           "2024-12-10T03:00:00-05:00",
           45.68,
           46
          ],
          [
           "2024-12-10T03:00:00-05:00",
           45.68,
           46
          ],
          [
           "2024-12-10T03:00:00-05:00",
           45.68,
           46
          ],
          [
           "2024-12-10T03:00:00-05:00",
           45.68,
           46
          ],
          [
           "2024-12-10T03:00:00-05:00",
           45.68,
           46
          ],
          [
           "2024-12-10T03:00:00-05:00",
           45.68,
           46
          ],
          [
           "2024-12-10T03:00:00-05:00",
           45.68,
           46
          ],
          [
           "2024-12-10T04:00:00-05:00",
           44.06,
           46
          ],
          [
           "2024-12-10T04:00:00-05:00",
           44.06,
           46
          ],
          [
           "2024-12-10T04:00:00-05:00",
           44.06,
           45
          ],
          [
           "2024-12-10T04:00:00-05:00",
           44.06,
           45
          ],
          [
           "2024-12-10T04:00:00-05:00",
           44.06,
           45
          ],
          [
           "2024-12-10T04:00:00-05:00",
           44.06,
           45
          ],
          [
           "2024-12-10T04:00:00-05:00",
           44.06,
           45
          ],
          [
           "2024-12-10T04:00:00-05:00",
           44.06,
           45
          ],
          [
           "2024-12-10T04:00:00-05:00",
           44.06,
           45
          ],
          [
           "2024-12-10T04:00:00-05:00",
           44.06,
           45
          ],
          [
           "2024-12-10T04:00:00-05:00",
           44.06,
           45
          ],
          [
           "2024-12-10T04:00:00-05:00",
           44.06,
           45
          ],
          [
           "2024-12-10T05:00:00-05:00",
           44.06,
           45
          ],
          [
           "2024-12-10T05:00:00-05:00",
           44.06,
           45
          ],
          [
           "2024-12-10T05:00:00-05:00",
           44.06,
           45
          ],
          [
           "2024-12-10T05:00:00-05:00",
           44.06,
           45
          ],
          [
           "2024-12-10T05:00:00-05:00",
           44.06,
           45
          ],
          [
           "2024-12-10T05:00:00-05:00",
           44.06,
           45
          ],
          [
           "2024-12-10T05:00:00-05:00",
           44.06,
           45
          ],
          [
           "2024-12-10T05:00:00-05:00",
           44.06,
           45
          ],
          [
           "2024-12-10T05:00:00-05:00",
           44.06,
           45
          ],
          [
           "2024-12-10T05:00:00-05:00",
           44.06,
           45
          ],
          [
           "2024-12-10T05:00:00-05:00",
           44.06,
           45
          ],
          [
           "2024-12-10T05:00:00-05:00",
           44.06,
           45
          ],
          [
           "2024-12-10T06:00:00-05:00",
           44.96,
           45
          ],
          [
           "2024-12-10T06:00:00-05:00",
           44.96,
           45
          ],
          [
           "2024-12-10T06:00:00-05:00",
           44.96,
           45
          ],
          [
           "2024-12-10T06:00:00-05:00",
           44.96,
           45
          ],
          [
           "2024-12-10T06:00:00-05:00",
           44.96,
           45
          ],
          [
           "2024-12-10T06:00:00-05:00",
           44.96,
           45
          ],
          [
           "2024-12-10T06:00:00-05:00",
           44.96,
           45
          ],
          [
           "2024-12-10T06:00:00-05:00",
           44.96,
           45
          ],
          [
           "2024-12-10T06:00:00-05:00",
           44.96,
           45
          ],
          [
           "2024-12-10T06:00:00-05:00",
           44.96,
           45
          ],
          [
           "2024-12-10T06:00:00-05:00",
           44.96,
           45
          ],
          [
           "2024-12-10T06:00:00-05:00",
           44.96,
           45
          ],
          [
           "2024-12-10T07:00:00-05:00",
           44.96,
           45
          ],
          [
           "2024-12-10T07:00:00-05:00",
           44.96,
           45
          ],
          [
           "2024-12-10T07:00:00-05:00",
           44.96,
           45
          ],
          [
           "2024-12-10T07:00:00-05:00",
           44.96,
           45
          ],
          [
           "2024-12-10T07:00:00-05:00",
           44.96,
           45
          ],
          [
           "2024-12-10T07:00:00-05:00",
           44.96,
           45
          ],
          [
           "2024-12-10T07:00:00-05:00",
           44.96,
           45
          ],
          [
           "2024-12-10T07:00:00-05:00",
           44.96,
           45
          ],
          [
           "2024-12-10T07:00:00-05:00",
           44.96,
           45
          ],
          [
           "2024-12-10T07:00:00-05:00",
           44.96,
           45
          ],
          [
           "2024-12-10T07:00:00-05:00",
           44.96,
           45
          ],
          [
           "2024-12-10T07:00:00-05:00",
           44.96,
           45
          ],
          [
           "2024-12-10T08:00:00-05:00",
           44.96,
           45
          ],
          [
           "2024-12-10T08:00:00-05:00",
           44.96,
           45
          ],
          [
           "2024-12-10T08:00:00-05:00",
           44.96,
           45
          ],
          [
           "2024-12-10T08:00:00-05:00",
           44.96,
           45
          ],
          [
           "2024-12-10T08:00:00-05:00",
           44.96,
           45
          ],
          [
           "2024-12-10T08:00:00-05:00",
           44.96,
           45
          ],
          [
           "2024-12-10T08:00:00-05:00",
           44.96,
           45
          ],
          [
           "2024-12-10T08:00:00-05:00",
           44.96,
           45
          ],
          [
           "2024-12-10T08:00:00-05:00",
           44.96,
           45
          ],
          [
           "2024-12-10T08:00:00-05:00",
           44.96,
           45
          ],
          [
           "2024-12-10T08:00:00-05:00",
           44.96,
           45
          ],
          [
           "2024-12-10T08:00:00-05:00",
           44.96,
           45
          ],
          [
           "2024-12-10T09:00:00-05:00",
           44.96,
           46
          ],
          [
           "2024-12-10T09:00:00-05:00",
           44.96,
           46
          ],
          [
           "2024-12-10T09:00:00-05:00",
           44.96,
           46
          ],
          [
           "2024-12-10T09:00:00-05:00",
           44.96,
           46
          ],
          [
           "2024-12-10T09:00:00-05:00",
           44.96,
           46
          ],
          [
           "2024-12-10T09:00:00-05:00",
           44.96,
           46
          ],
          [
           "2024-12-10T09:00:00-05:00",
           44.96,
           46
          ],
          [
           "2024-12-10T09:00:00-05:00",
           44.96,
           46
          ],
          [
           "2024-12-10T09:00:00-05:00",
           44.96,
           46
          ],
          [
           "2024-12-10T09:00:00-05:00",
           44.96,
           46
          ],
          [
           "2024-12-10T09:00:00-05:00",
           44.96,
           46
          ],
          [
           "2024-12-10T09:00:00-05:00",
           44.96,
           46
          ],
          [
           "2024-12-10T10:00:00-05:00",
           46.94,
           47
          ],
          [
           "2024-12-10T10:00:00-05:00",
           46.94,
           47
          ],
          [
           "2024-12-10T10:00:00-05:00",
           46.94,
           47
          ],
          [
           "2024-12-10T10:00:00-05:00",
           46.94,
           47
          ],
          [
           "2024-12-10T10:00:00-05:00",
           46.94,
           47
          ],
          [
           "2024-12-10T10:00:00-05:00",
           46.94,
           47
          ],
          [
           "2024-12-10T10:00:00-05:00",
           46.94,
           47
          ],
          [
           "2024-12-10T10:00:00-05:00",
           46.94,
           47
          ],
          [
           "2024-12-10T10:00:00-05:00",
           46.94,
           47
          ],
          [
           "2024-12-10T10:00:00-05:00",
           46.94,
           47
          ],
          [
           "2024-12-10T10:00:00-05:00",
           46.94,
           47
          ],
          [
           "2024-12-10T10:00:00-05:00",
           46.94,
           47
          ],
          [
           "2024-12-10T11:00:00-05:00",
           46.94,
           48
          ],
          [
           "2024-12-10T11:00:00-05:00",
           46.94,
           48
          ],
          [
           "2024-12-10T11:00:00-05:00",
           46.94,
           47
          ],
          [
           "2024-12-10T11:00:00-05:00",
           46.94,
           47
          ],
          [
           "2024-12-10T11:00:00-05:00",
           46.94,
           47
          ],
          [
           "2024-12-10T11:00:00-05:00",
           46.94,
           47
          ],
          [
           "2024-12-10T11:00:00-05:00",
           46.94,
           47
          ],
          [
           "2024-12-10T11:00:00-05:00",
           46.94,
           47
          ],
          [
           "2024-12-10T11:00:00-05:00",
           46.94,
           47
          ],
          [
           "2024-12-10T11:00:00-05:00",
           46.94,
           47
          ],
          [
           "2024-12-10T11:00:00-05:00",
           46.94,
           47
          ],
          [
           "2024-12-10T11:00:00-05:00",
           46.94,
           47
          ],
          [
           "2024-12-10T12:00:00-05:00",
           46.22,
           49
          ],
          [
           "2024-12-10T12:00:00-05:00",
           46.22,
           49
          ],
          [
           "2024-12-10T12:00:00-05:00",
           46.22,
           48
          ],
          [
           "2024-12-10T12:00:00-05:00",
           46.22,
           48
          ],
          [
           "2024-12-10T12:00:00-05:00",
           46.22,
           48
          ],
          [
           "2024-12-10T12:00:00-05:00",
           46.22,
           48
          ],
          [
           "2024-12-10T12:00:00-05:00",
           46.22,
           48
          ],
          [
           "2024-12-10T12:00:00-05:00",
           46.22,
           48
          ],
          [
           "2024-12-10T12:00:00-05:00",
           46.22,
           48
          ],
          [
           "2024-12-10T12:00:00-05:00",
           46.22,
           48
          ],
          [
           "2024-12-10T12:00:00-05:00",
           46.22,
           48
          ],
          [
           "2024-12-10T12:00:00-05:00",
           46.22,
           48
          ],
          [
           "2024-12-10T13:00:00-05:00",
           44.96,
           50
          ],
          [
           "2024-12-10T13:00:00-05:00",
           44.96,
           50
          ],
          [
           "2024-12-10T13:00:00-05:00",
           44.96,
           49
          ],
          [
           "2024-12-10T13:00:00-05:00",
           44.96,
           49
          ],
          [
           "2024-12-10T13:00:00-05:00",
           44.96,
           49
          ],
          [
           "2024-12-10T13:00:00-05:00",
           44.96,
           49
          ],
          [
           "2024-12-10T13:00:00-05:00",
           44.96,
           49
          ],
          [
           "2024-12-10T13:00:00-05:00",
           44.96,
           49
          ],
          [
           "2024-12-10T13:00:00-05:00",
           44.96,
           49
          ],
          [
           "2024-12-10T13:00:00-05:00",
           44.96,
           49
          ],
          [
           "2024-12-10T13:00:00-05:00",
           44.96,
           49
          ],
          [
           "2024-12-10T13:00:00-05:00",
           44.96,
           49
          ],
          [
           "2024-12-10T14:00:00-05:00",
           44.78,
           50
          ],
          [
           "2024-12-10T14:00:00-05:00",
           44.78,
           50
          ],
          [
           "2024-12-10T14:00:00-05:00",
           44.78,
           49
          ],
          [
           "2024-12-10T14:00:00-05:00",
           44.78,
           49
          ],
          [
           "2024-12-10T14:00:00-05:00",
           44.78,
           49
          ],
          [
           "2024-12-10T14:00:00-05:00",
           44.78,
           49
          ],
          [
           "2024-12-10T14:00:00-05:00",
           44.78,
           49
          ],
          [
           "2024-12-10T14:00:00-05:00",
           44.78,
           49
          ],
          [
           "2024-12-10T14:00:00-05:00",
           44.78,
           49
          ],
          [
           "2024-12-10T14:00:00-05:00",
           44.78,
           49
          ],
          [
           "2024-12-10T14:00:00-05:00",
           44.78,
           49
          ],
          [
           "2024-12-10T14:00:00-05:00",
           44.78,
           49
          ],
          [
           "2024-12-10T15:00:00-05:00",
           46.04,
           51
          ],
          [
           "2024-12-10T15:00:00-05:00",
           46.04,
           49
          ],
          [
           "2024-12-10T15:00:00-05:00",
           46.04,
           49
          ],
          [
           "2024-12-10T15:00:00-05:00",
           46.04,
           49
          ],
          [
           "2024-12-10T15:00:00-05:00",
           46.04,
           49
          ],
          [
           "2024-12-10T15:00:00-05:00",
           46.04,
           49
          ],
          [
           "2024-12-10T15:00:00-05:00",
           46.04,
           49
          ],
          [
           "2024-12-10T15:00:00-05:00",
           46.04,
           49
          ],
          [
           "2024-12-10T15:00:00-05:00",
           46.04,
           49
          ],
          [
           "2024-12-10T15:00:00-05:00",
           46.04,
           49
          ],
          [
           "2024-12-10T15:00:00-05:00",
           46.04,
           49
          ]
         ],
         "hovertemplate": "Hours Ahead of Forecast=%{x}<br>Forecast Error (°F)=%{y}<br>forecast_time=%{customdata[0]}<br>actual_temp=%{customdata[1]}<br>forecast_temp=%{customdata[2]}<br>Absolute Error (°F)=%{marker.color}<extra></extra>",
         "legendgroup": "",
         "marker": {
          "color": [
           2.020000000000003,
           2.020000000000003,
           0.020000000000003126,
           0.020000000000003126,
           0.020000000000003126,
           2.020000000000003,
           2.020000000000003,
           2.020000000000003,
           2.020000000000003,
           2.020000000000003,
           1.480000000000004,
           1.480000000000004,
           0.480000000000004,
           0.480000000000004,
           0.480000000000004,
           1.480000000000004,
           1.480000000000004,
           1.480000000000004,
           1.480000000000004,
           1.480000000000004,
           1.480000000000004,
           0.03999999999999915,
           0.03999999999999915,
           0.03999999999999915,
           0.03999999999999915,
           0.03999999999999915,
           0.03999999999999915,
           0.03999999999999915,
           0.03999999999999915,
           0.03999999999999915,
           0.03999999999999915,
           0.03999999999999915,
           0.03999999999999915,
           0.3200000000000003,
           0.3200000000000003,
           0.3200000000000003,
           0.3200000000000003,
           0.3200000000000003,
           0.3200000000000003,
           0.3200000000000003,
           0.3200000000000003,
           0.3200000000000003,
           0.3200000000000003,
           0.3200000000000003,
           0.3200000000000003,
           1.9399999999999977,
           1.9399999999999977,
           0.9399999999999977,
           0.9399999999999977,
           0.9399999999999977,
           0.9399999999999977,
           0.9399999999999977,
           0.9399999999999977,
           0.9399999999999977,
           0.9399999999999977,
           0.9399999999999977,
           0.9399999999999977,
           0.9399999999999977,
           0.9399999999999977,
           0.9399999999999977,
           0.9399999999999977,
           0.9399999999999977,
           0.9399999999999977,
           0.9399999999999977,
           0.9399999999999977,
           0.9399999999999977,
           0.9399999999999977,
           0.9399999999999977,
           0.9399999999999977,
           0.03999999999999915,
           0.03999999999999915,
           0.03999999999999915,
           0.03999999999999915,
           0.03999999999999915,
           0.03999999999999915,
           0.03999999999999915,
           0.03999999999999915,
           0.03999999999999915,
           0.03999999999999915,
           0.03999999999999915,
           0.03999999999999915,
           0.03999999999999915,
           0.03999999999999915,
           0.03999999999999915,
           0.03999999999999915,
           0.03999999999999915,
           0.03999999999999915,
           0.03999999999999915,
           0.03999999999999915,
           0.03999999999999915,
           0.03999999999999915,
           0.03999999999999915,
           0.03999999999999915,
           0.03999999999999915,
           0.03999999999999915,
           0.03999999999999915,
           0.03999999999999915,
           0.03999999999999915,
           0.03999999999999915,
           0.03999999999999915,
           0.03999999999999915,
           0.03999999999999915,
           0.03999999999999915,
           0.03999999999999915,
           0.03999999999999915,
           1.0399999999999991,
           1.0399999999999991,
           1.0399999999999991,
           1.0399999999999991,
           1.0399999999999991,
           1.0399999999999991,
           1.0399999999999991,
           1.0399999999999991,
           1.0399999999999991,
           1.0399999999999991,
           1.0399999999999991,
           1.0399999999999991,
           0.060000000000002274,
           0.060000000000002274,
           0.060000000000002274,
           0.060000000000002274,
           0.060000000000002274,
           0.060000000000002274,
           0.060000000000002274,
           0.060000000000002274,
           0.060000000000002274,
           0.060000000000002274,
           0.060000000000002274,
           0.060000000000002274,
           1.0600000000000023,
           1.0600000000000023,
           0.060000000000002274,
           0.060000000000002274,
           0.060000000000002274,
           0.060000000000002274,
           0.060000000000002274,
           0.060000000000002274,
           0.060000000000002274,
           0.060000000000002274,
           0.060000000000002274,
           0.060000000000002274,
           2.780000000000001,
           2.780000000000001,
           1.7800000000000011,
           1.7800000000000011,
           1.7800000000000011,
           1.7800000000000011,
           1.7800000000000011,
           1.7800000000000011,
           1.7800000000000011,
           1.7800000000000011,
           1.7800000000000011,
           1.7800000000000011,
           5.039999999999999,
           5.039999999999999,
           4.039999999999999,
           4.039999999999999,
           4.039999999999999,
           4.039999999999999,
           4.039999999999999,
           4.039999999999999,
           4.039999999999999,
           4.039999999999999,
           4.039999999999999,
           4.039999999999999,
           5.219999999999999,
           5.219999999999999,
           4.219999999999999,
           4.219999999999999,
           4.219999999999999,
           4.219999999999999,
           4.219999999999999,
           4.219999999999999,
           4.219999999999999,
           4.219999999999999,
           4.219999999999999,
           4.219999999999999,
           4.960000000000001,
           2.960000000000001,
           2.960000000000001,
           2.960000000000001,
           2.960000000000001,
           2.960000000000001,
           2.960000000000001,
           2.960000000000001,
           2.960000000000001,
           2.960000000000001,
           2.960000000000001
          ],
          "coloraxis": "coloraxis",
          "symbol": "circle"
         },
         "mode": "markers",
         "name": "",
         "orientation": "v",
         "showlegend": false,
         "type": "scatter",
         "x": [
          9.992881940555556,
          8.988933023333333,
          7.9933875513888895,
          6.993562754722221,
          5.993668086944444,
          4.99341232,
          3.993328022777778,
          2.9920196100000003,
          1.9888607163888887,
          0.9940664513888888,
          10.992881940555556,
          9.988933023333333,
          8.993387551388889,
          7.993562754722221,
          6.993668086944444,
          5.99341232,
          4.993328022777778,
          3.9920196100000003,
          2.988860716388889,
          1.9940664513888888,
          0.9932445741666667,
          11.992881940555556,
          10.988933023333333,
          9.993387551388889,
          8.993562754722221,
          7.993668086944444,
          6.99341232,
          5.993328022777778,
          4.99201961,
          3.988860716388889,
          2.994066451388889,
          1.9932445741666667,
          0.9938995461111112,
          12.992881940555556,
          11.988933023333333,
          10.993387551388889,
          9.993562754722223,
          8.993668086944444,
          7.99341232,
          6.993328022777778,
          5.99201961,
          4.988860716388889,
          3.994066451388889,
          2.993244574166667,
          1.993899546111111,
          13.992881940555556,
          12.988933023333333,
          11.993387551388889,
          10.993562754722223,
          9.993668086944446,
          8.99341232,
          7.993328022777778,
          6.99201961,
          5.988860716388889,
          4.994066451388889,
          3.993244574166667,
          2.9938995461111113,
          14.992881940555556,
          13.988933023333333,
          12.993387551388889,
          11.993562754722223,
          10.993668086944446,
          9.993412320000001,
          8.993328022777778,
          7.99201961,
          6.988860716388889,
          5.994066451388889,
          4.993244574166666,
          3.9938995461111113,
          15.992881940555556,
          14.988933023333333,
          13.993387551388889,
          12.993562754722223,
          11.993668086944446,
          10.993412320000001,
          9.993328022777778,
          8.99201961,
          7.988860716388889,
          6.994066451388889,
          5.993244574166666,
          4.993899546111111,
          16.992881940555556,
          15.988933023333333,
          14.993387551388889,
          13.993562754722223,
          12.993668086944446,
          11.993412320000001,
          10.993328022777778,
          9.99201961,
          8.988860716388889,
          7.994066451388889,
          6.993244574166666,
          5.993899546111111,
          17.992881940555556,
          16.98893302333333,
          15.993387551388889,
          14.993562754722223,
          13.993668086944446,
          12.993412320000001,
          11.993328022777778,
          10.99201961,
          9.988860716388889,
          8.994066451388889,
          7.993244574166666,
          6.993899546111111,
          18.992881940555556,
          17.98893302333333,
          16.99338755138889,
          15.993562754722223,
          14.993668086944446,
          13.993412320000001,
          12.993328022777778,
          11.99201961,
          10.988860716388889,
          9.994066451388889,
          8.993244574166667,
          7.993899546111111,
          19.992881940555556,
          18.988933023333335,
          17.99338755138889,
          16.993562754722223,
          15.993668086944446,
          14.993412320000001,
          13.993328022777778,
          12.99201961,
          11.988860716388889,
          10.994066451388889,
          9.993244574166667,
          8.99389954611111,
          20.992881940555556,
          19.988933023333335,
          18.99338755138889,
          17.993562754722223,
          16.993668086944446,
          15.993412320000001,
          14.993328022777778,
          13.99201961,
          12.988860716388889,
          11.994066451388889,
          10.993244574166667,
          9.99389954611111,
          21.992881940555556,
          20.988933023333335,
          19.99338755138889,
          18.99356275472222,
          17.993668086944446,
          16.99341232,
          15.993328022777778,
          14.99201961,
          13.988860716388889,
          12.994066451388889,
          11.993244574166667,
          10.99389954611111,
          22.992881940555556,
          21.988933023333335,
          20.99338755138889,
          19.99356275472222,
          18.993668086944446,
          17.99341232,
          16.993328022777778,
          15.99201961,
          14.988860716388889,
          13.994066451388889,
          12.993244574166667,
          11.99389954611111,
          23.992881940555556,
          22.988933023333335,
          21.99338755138889,
          20.99356275472222,
          19.993668086944446,
          18.99341232,
          17.993328022777778,
          16.99201961,
          15.988860716388889,
          14.994066451388889,
          13.993244574166667,
          12.99389954611111,
          23.988933023333335,
          22.99338755138889,
          21.99356275472222,
          20.993668086944446,
          19.99341232,
          18.993328022777778,
          17.99201961,
          16.98886071638889,
          15.994066451388889,
          14.993244574166667,
          13.99389954611111
         ],
         "xaxis": "x",
         "y": [
          -2.020000000000003,
          -2.020000000000003,
          -0.020000000000003126,
          -0.020000000000003126,
          -0.020000000000003126,
          -2.020000000000003,
          -2.020000000000003,
          -2.020000000000003,
          -2.020000000000003,
          -2.020000000000003,
          -1.480000000000004,
          -1.480000000000004,
          -0.480000000000004,
          -0.480000000000004,
          -0.480000000000004,
          -1.480000000000004,
          -1.480000000000004,
          -1.480000000000004,
          -1.480000000000004,
          -1.480000000000004,
          -1.480000000000004,
          -0.03999999999999915,
          -0.03999999999999915,
          -0.03999999999999915,
          -0.03999999999999915,
          -0.03999999999999915,
          -0.03999999999999915,
          -0.03999999999999915,
          -0.03999999999999915,
          -0.03999999999999915,
          -0.03999999999999915,
          -0.03999999999999915,
          -0.03999999999999915,
          0.3200000000000003,
          0.3200000000000003,
          0.3200000000000003,
          0.3200000000000003,
          0.3200000000000003,
          0.3200000000000003,
          0.3200000000000003,
          0.3200000000000003,
          0.3200000000000003,
          0.3200000000000003,
          0.3200000000000003,
          0.3200000000000003,
          1.9399999999999977,
          1.9399999999999977,
          0.9399999999999977,
          0.9399999999999977,
          0.9399999999999977,
          0.9399999999999977,
          0.9399999999999977,
          0.9399999999999977,
          0.9399999999999977,
          0.9399999999999977,
          0.9399999999999977,
          0.9399999999999977,
          0.9399999999999977,
          0.9399999999999977,
          0.9399999999999977,
          0.9399999999999977,
          0.9399999999999977,
          0.9399999999999977,
          0.9399999999999977,
          0.9399999999999977,
          0.9399999999999977,
          0.9399999999999977,
          0.9399999999999977,
          0.9399999999999977,
          0.03999999999999915,
          0.03999999999999915,
          0.03999999999999915,
          0.03999999999999915,
          0.03999999999999915,
          0.03999999999999915,
          0.03999999999999915,
          0.03999999999999915,
          0.03999999999999915,
          0.03999999999999915,
          0.03999999999999915,
          0.03999999999999915,
          0.03999999999999915,
          0.03999999999999915,
          0.03999999999999915,
          0.03999999999999915,
          0.03999999999999915,
          0.03999999999999915,
          0.03999999999999915,
          0.03999999999999915,
          0.03999999999999915,
          0.03999999999999915,
          0.03999999999999915,
          0.03999999999999915,
          0.03999999999999915,
          0.03999999999999915,
          0.03999999999999915,
          0.03999999999999915,
          0.03999999999999915,
          0.03999999999999915,
          0.03999999999999915,
          0.03999999999999915,
          0.03999999999999915,
          0.03999999999999915,
          0.03999999999999915,
          0.03999999999999915,
          1.0399999999999991,
          1.0399999999999991,
          1.0399999999999991,
          1.0399999999999991,
          1.0399999999999991,
          1.0399999999999991,
          1.0399999999999991,
          1.0399999999999991,
          1.0399999999999991,
          1.0399999999999991,
          1.0399999999999991,
          1.0399999999999991,
          0.060000000000002274,
          0.060000000000002274,
          0.060000000000002274,
          0.060000000000002274,
          0.060000000000002274,
          0.060000000000002274,
          0.060000000000002274,
          0.060000000000002274,
          0.060000000000002274,
          0.060000000000002274,
          0.060000000000002274,
          0.060000000000002274,
          1.0600000000000023,
          1.0600000000000023,
          0.060000000000002274,
          0.060000000000002274,
          0.060000000000002274,
          0.060000000000002274,
          0.060000000000002274,
          0.060000000000002274,
          0.060000000000002274,
          0.060000000000002274,
          0.060000000000002274,
          0.060000000000002274,
          2.780000000000001,
          2.780000000000001,
          1.7800000000000011,
          1.7800000000000011,
          1.7800000000000011,
          1.7800000000000011,
          1.7800000000000011,
          1.7800000000000011,
          1.7800000000000011,
          1.7800000000000011,
          1.7800000000000011,
          1.7800000000000011,
          5.039999999999999,
          5.039999999999999,
          4.039999999999999,
          4.039999999999999,
          4.039999999999999,
          4.039999999999999,
          4.039999999999999,
          4.039999999999999,
          4.039999999999999,
          4.039999999999999,
          4.039999999999999,
          4.039999999999999,
          5.219999999999999,
          5.219999999999999,
          4.219999999999999,
          4.219999999999999,
          4.219999999999999,
          4.219999999999999,
          4.219999999999999,
          4.219999999999999,
          4.219999999999999,
          4.219999999999999,
          4.219999999999999,
          4.219999999999999,
          4.960000000000001,
          2.960000000000001,
          2.960000000000001,
          2.960000000000001,
          2.960000000000001,
          2.960000000000001,
          2.960000000000001,
          2.960000000000001,
          2.960000000000001,
          2.960000000000001,
          2.960000000000001
         ],
         "yaxis": "y"
        }
       ],
       "layout": {
        "coloraxis": {
         "colorbar": {
          "title": {
           "text": "Absolute Error (°F)"
          }
         },
         "colorscale": [
          [
           0,
           "rgb(49,54,149)"
          ],
          [
           0.1,
           "rgb(69,117,180)"
          ],
          [
           0.2,
           "rgb(116,173,209)"
          ],
          [
           0.3,
           "rgb(171,217,233)"
          ],
          [
           0.4,
           "rgb(224,243,248)"
          ],
          [
           0.5,
           "rgb(255,255,191)"
          ],
          [
           0.6,
           "rgb(254,224,144)"
          ],
          [
           0.7,
           "rgb(253,174,97)"
          ],
          [
           0.8,
           "rgb(244,109,67)"
          ],
          [
           0.9,
           "rgb(215,48,39)"
          ],
          [
           1,
           "rgb(165,0,38)"
          ]
         ]
        },
        "height": 600,
        "hovermode": "closest",
        "legend": {
         "tracegroupgap": 0
        },
        "shapes": [
         {
          "line": {
           "color": "red",
           "dash": "dash"
          },
          "type": "line",
          "x0": 0,
          "x1": 1,
          "xref": "x domain",
          "y0": 0,
          "y1": 0,
          "yref": "y"
         }
        ],
        "showlegend": true,
        "template": {
         "data": {
          "bar": [
           {
            "error_x": {
             "color": "#2a3f5f"
            },
            "error_y": {
             "color": "#2a3f5f"
            },
            "marker": {
             "line": {
              "color": "#E5ECF6",
              "width": 0.5
             },
             "pattern": {
              "fillmode": "overlay",
              "size": 10,
              "solidity": 0.2
             }
            },
            "type": "bar"
           }
          ],
          "barpolar": [
           {
            "marker": {
             "line": {
              "color": "#E5ECF6",
              "width": 0.5
             },
             "pattern": {
              "fillmode": "overlay",
              "size": 10,
              "solidity": 0.2
             }
            },
            "type": "barpolar"
           }
          ],
          "carpet": [
           {
            "aaxis": {
             "endlinecolor": "#2a3f5f",
             "gridcolor": "white",
             "linecolor": "white",
             "minorgridcolor": "white",
             "startlinecolor": "#2a3f5f"
            },
            "baxis": {
             "endlinecolor": "#2a3f5f",
             "gridcolor": "white",
             "linecolor": "white",
             "minorgridcolor": "white",
             "startlinecolor": "#2a3f5f"
            },
            "type": "carpet"
           }
          ],
          "choropleth": [
           {
            "colorbar": {
             "outlinewidth": 0,
             "ticks": ""
            },
            "type": "choropleth"
           }
          ],
          "contour": [
           {
            "colorbar": {
             "outlinewidth": 0,
             "ticks": ""
            },
            "colorscale": [
             [
              0,
              "#0d0887"
             ],
             [
              0.1111111111111111,
              "#46039f"
             ],
             [
              0.2222222222222222,
              "#7201a8"
             ],
             [
              0.3333333333333333,
              "#9c179e"
             ],
             [
              0.4444444444444444,
              "#bd3786"
             ],
             [
              0.5555555555555556,
              "#d8576b"
             ],
             [
              0.6666666666666666,
              "#ed7953"
             ],
             [
              0.7777777777777778,
              "#fb9f3a"
             ],
             [
              0.8888888888888888,
              "#fdca26"
             ],
             [
              1,
              "#f0f921"
             ]
            ],
            "type": "contour"
           }
          ],
          "contourcarpet": [
           {
            "colorbar": {
             "outlinewidth": 0,
             "ticks": ""
            },
            "type": "contourcarpet"
           }
          ],
          "heatmap": [
           {
            "colorbar": {
             "outlinewidth": 0,
             "ticks": ""
            },
            "colorscale": [
             [
              0,
              "#0d0887"
             ],
             [
              0.1111111111111111,
              "#46039f"
             ],
             [
              0.2222222222222222,
              "#7201a8"
             ],
             [
              0.3333333333333333,
              "#9c179e"
             ],
             [
              0.4444444444444444,
              "#bd3786"
             ],
             [
              0.5555555555555556,
              "#d8576b"
             ],
             [
              0.6666666666666666,
              "#ed7953"
             ],
             [
              0.7777777777777778,
              "#fb9f3a"
             ],
             [
              0.8888888888888888,
              "#fdca26"
             ],
             [
              1,
              "#f0f921"
             ]
            ],
            "type": "heatmap"
           }
          ],
          "heatmapgl": [
           {
            "colorbar": {
             "outlinewidth": 0,
             "ticks": ""
            },
            "colorscale": [
             [
              0,
              "#0d0887"
             ],
             [
              0.1111111111111111,
              "#46039f"
             ],
             [
              0.2222222222222222,
              "#7201a8"
             ],
             [
              0.3333333333333333,
              "#9c179e"
             ],
             [
              0.4444444444444444,
              "#bd3786"
             ],
             [
              0.5555555555555556,
              "#d8576b"
             ],
             [
              0.6666666666666666,
              "#ed7953"
             ],
             [
              0.7777777777777778,
              "#fb9f3a"
             ],
             [
              0.8888888888888888,
              "#fdca26"
             ],
             [
              1,
              "#f0f921"
             ]
            ],
            "type": "heatmapgl"
           }
          ],
          "histogram": [
           {
            "marker": {
             "pattern": {
              "fillmode": "overlay",
              "size": 10,
              "solidity": 0.2
             }
            },
            "type": "histogram"
           }
          ],
          "histogram2d": [
           {
            "colorbar": {
             "outlinewidth": 0,
             "ticks": ""
            },
            "colorscale": [
             [
              0,
              "#0d0887"
             ],
             [
              0.1111111111111111,
              "#46039f"
             ],
             [
              0.2222222222222222,
              "#7201a8"
             ],
             [
              0.3333333333333333,
              "#9c179e"
             ],
             [
              0.4444444444444444,
              "#bd3786"
             ],
             [
              0.5555555555555556,
              "#d8576b"
             ],
             [
              0.6666666666666666,
              "#ed7953"
             ],
             [
              0.7777777777777778,
              "#fb9f3a"
             ],
             [
              0.8888888888888888,
              "#fdca26"
             ],
             [
              1,
              "#f0f921"
             ]
            ],
            "type": "histogram2d"
           }
          ],
          "histogram2dcontour": [
           {
            "colorbar": {
             "outlinewidth": 0,
             "ticks": ""
            },
            "colorscale": [
             [
              0,
              "#0d0887"
             ],
             [
              0.1111111111111111,
              "#46039f"
             ],
             [
              0.2222222222222222,
              "#7201a8"
             ],
             [
              0.3333333333333333,
              "#9c179e"
             ],
             [
              0.4444444444444444,
              "#bd3786"
             ],
             [
              0.5555555555555556,
              "#d8576b"
             ],
             [
              0.6666666666666666,
              "#ed7953"
             ],
             [
              0.7777777777777778,
              "#fb9f3a"
             ],
             [
              0.8888888888888888,
              "#fdca26"
             ],
             [
              1,
              "#f0f921"
             ]
            ],
            "type": "histogram2dcontour"
           }
          ],
          "mesh3d": [
           {
            "colorbar": {
             "outlinewidth": 0,
             "ticks": ""
            },
            "type": "mesh3d"
           }
          ],
          "parcoords": [
           {
            "line": {
             "colorbar": {
              "outlinewidth": 0,
              "ticks": ""
             }
            },
            "type": "parcoords"
           }
          ],
          "pie": [
           {
            "automargin": true,
            "type": "pie"
           }
          ],
          "scatter": [
           {
            "fillpattern": {
             "fillmode": "overlay",
             "size": 10,
             "solidity": 0.2
            },
            "type": "scatter"
           }
          ],
          "scatter3d": [
           {
            "line": {
             "colorbar": {
              "outlinewidth": 0,
              "ticks": ""
             }
            },
            "marker": {
             "colorbar": {
              "outlinewidth": 0,
              "ticks": ""
             }
            },
            "type": "scatter3d"
           }
          ],
          "scattercarpet": [
           {
            "marker": {
             "colorbar": {
              "outlinewidth": 0,
              "ticks": ""
             }
            },
            "type": "scattercarpet"
           }
          ],
          "scattergeo": [
           {
            "marker": {
             "colorbar": {
              "outlinewidth": 0,
              "ticks": ""
             }
            },
            "type": "scattergeo"
           }
          ],
          "scattergl": [
           {
            "marker": {
             "colorbar": {
              "outlinewidth": 0,
              "ticks": ""
             }
            },
            "type": "scattergl"
           }
          ],
          "scattermapbox": [
           {
            "marker": {
             "colorbar": {
              "outlinewidth": 0,
              "ticks": ""
             }
            },
            "type": "scattermapbox"
           }
          ],
          "scatterpolar": [
           {
            "marker": {
             "colorbar": {
              "outlinewidth": 0,
              "ticks": ""
             }
            },
            "type": "scatterpolar"
           }
          ],
          "scatterpolargl": [
           {
            "marker": {
             "colorbar": {
              "outlinewidth": 0,
              "ticks": ""
             }
            },
            "type": "scatterpolargl"
           }
          ],
          "scatterternary": [
           {
            "marker": {
             "colorbar": {
              "outlinewidth": 0,
              "ticks": ""
             }
            },
            "type": "scatterternary"
           }
          ],
          "surface": [
           {
            "colorbar": {
             "outlinewidth": 0,
             "ticks": ""
            },
            "colorscale": [
             [
              0,
              "#0d0887"
             ],
             [
              0.1111111111111111,
              "#46039f"
             ],
             [
              0.2222222222222222,
              "#7201a8"
             ],
             [
              0.3333333333333333,
              "#9c179e"
             ],
             [
              0.4444444444444444,
              "#bd3786"
             ],
             [
              0.5555555555555556,
              "#d8576b"
             ],
             [
              0.6666666666666666,
              "#ed7953"
             ],
             [
              0.7777777777777778,
              "#fb9f3a"
             ],
             [
              0.8888888888888888,
              "#fdca26"
             ],
             [
              1,
              "#f0f921"
             ]
            ],
            "type": "surface"
           }
          ],
          "table": [
           {
            "cells": {
             "fill": {
              "color": "#EBF0F8"
             },
             "line": {
              "color": "white"
             }
            },
            "header": {
             "fill": {
              "color": "#C8D4E3"
             },
             "line": {
              "color": "white"
             }
            },
            "type": "table"
           }
          ]
         },
         "layout": {
          "annotationdefaults": {
           "arrowcolor": "#2a3f5f",
           "arrowhead": 0,
           "arrowwidth": 1
          },
          "autotypenumbers": "strict",
          "coloraxis": {
           "colorbar": {
            "outlinewidth": 0,
            "ticks": ""
           }
          },
          "colorscale": {
           "diverging": [
            [
             0,
             "#8e0152"
            ],
            [
             0.1,
             "#c51b7d"
            ],
            [
             0.2,
             "#de77ae"
            ],
            [
             0.3,
             "#f1b6da"
            ],
            [
             0.4,
             "#fde0ef"
            ],
            [
             0.5,
             "#f7f7f7"
            ],
            [
             0.6,
             "#e6f5d0"
            ],
            [
             0.7,
             "#b8e186"
            ],
            [
             0.8,
             "#7fbc41"
            ],
            [
             0.9,
             "#4d9221"
            ],
            [
             1,
             "#276419"
            ]
           ],
           "sequential": [
            [
             0,
             "#0d0887"
            ],
            [
             0.1111111111111111,
             "#46039f"
            ],
            [
             0.2222222222222222,
             "#7201a8"
            ],
            [
             0.3333333333333333,
             "#9c179e"
            ],
            [
             0.4444444444444444,
             "#bd3786"
            ],
            [
             0.5555555555555556,
             "#d8576b"
            ],
            [
             0.6666666666666666,
             "#ed7953"
            ],
            [
             0.7777777777777778,
             "#fb9f3a"
            ],
            [
             0.8888888888888888,
             "#fdca26"
            ],
            [
             1,
             "#f0f921"
            ]
           ],
           "sequentialminus": [
            [
             0,
             "#0d0887"
            ],
            [
             0.1111111111111111,
             "#46039f"
            ],
            [
             0.2222222222222222,
             "#7201a8"
            ],
            [
             0.3333333333333333,
             "#9c179e"
            ],
            [
             0.4444444444444444,
             "#bd3786"
            ],
            [
             0.5555555555555556,
             "#d8576b"
            ],
            [
             0.6666666666666666,
             "#ed7953"
            ],
            [
             0.7777777777777778,
             "#fb9f3a"
            ],
            [
             0.8888888888888888,
             "#fdca26"
            ],
            [
             1,
             "#f0f921"
            ]
           ]
          },
          "colorway": [
           "#636efa",
           "#EF553B",
           "#00cc96",
           "#ab63fa",
           "#FFA15A",
           "#19d3f3",
           "#FF6692",
           "#B6E880",
           "#FF97FF",
           "#FECB52"
          ],
          "font": {
           "color": "#2a3f5f"
          },
          "geo": {
           "bgcolor": "white",
           "lakecolor": "white",
           "landcolor": "#E5ECF6",
           "showlakes": true,
           "showland": true,
           "subunitcolor": "white"
          },
          "hoverlabel": {
           "align": "left"
          },
          "hovermode": "closest",
          "mapbox": {
           "style": "light"
          },
          "paper_bgcolor": "white",
          "plot_bgcolor": "#E5ECF6",
          "polar": {
           "angularaxis": {
            "gridcolor": "white",
            "linecolor": "white",
            "ticks": ""
           },
           "bgcolor": "#E5ECF6",
           "radialaxis": {
            "gridcolor": "white",
            "linecolor": "white",
            "ticks": ""
           }
          },
          "scene": {
           "xaxis": {
            "backgroundcolor": "#E5ECF6",
            "gridcolor": "white",
            "gridwidth": 2,
            "linecolor": "white",
            "showbackground": true,
            "ticks": "",
            "zerolinecolor": "white"
           },
           "yaxis": {
            "backgroundcolor": "#E5ECF6",
            "gridcolor": "white",
            "gridwidth": 2,
            "linecolor": "white",
            "showbackground": true,
            "ticks": "",
            "zerolinecolor": "white"
           },
           "zaxis": {
            "backgroundcolor": "#E5ECF6",
            "gridcolor": "white",
            "gridwidth": 2,
            "linecolor": "white",
            "showbackground": true,
            "ticks": "",
            "zerolinecolor": "white"
           }
          },
          "shapedefaults": {
           "line": {
            "color": "#2a3f5f"
           }
          },
          "ternary": {
           "aaxis": {
            "gridcolor": "white",
            "linecolor": "white",
            "ticks": ""
           },
           "baxis": {
            "gridcolor": "white",
            "linecolor": "white",
            "ticks": ""
           },
           "bgcolor": "#E5ECF6",
           "caxis": {
            "gridcolor": "white",
            "linecolor": "white",
            "ticks": ""
           }
          },
          "title": {
           "x": 0.05
          },
          "xaxis": {
           "automargin": true,
           "gridcolor": "white",
           "linecolor": "white",
           "ticks": "",
           "title": {
            "standoff": 15
           },
           "zerolinecolor": "white",
           "zerolinewidth": 2
          },
          "yaxis": {
           "automargin": true,
           "gridcolor": "white",
           "linecolor": "white",
           "ticks": "",
           "title": {
            "standoff": 15
           },
           "zerolinecolor": "white",
           "zerolinewidth": 2
          }
         }
        },
        "title": {
         "text": "Forecast Error vs Forecast Lead Time"
        },
        "xaxis": {
         "anchor": "y",
         "domain": [
          0,
          1
         ],
         "title": {
          "text": "Hours Ahead of Forecast"
         }
        },
        "yaxis": {
         "anchor": "x",
         "domain": [
          0,
          1
         ],
         "title": {
          "text": "Forecast Error (°F)"
         }
        }
       }
      }
     },
     "metadata": {},
     "output_type": "display_data"
    },
    {
     "name": "stdout",
     "output_type": "stream",
     "text": [
      "Analysis complete\n",
      "Mean absolute error: 1.25°F\n"
     ]
    }
   ],
   "source": [
    "# Run analysis and create visualization\n",
    "df_forecasts, df_observations, grouped_forecasts = process_data(forecasts, observations)\n",
    "print(f\"\\nProcessed {len(df_forecasts)} forecasts into {len(grouped_forecasts)} hourly groups\")\n",
    "\n",
    "df_accuracy = analyze_forecast_accuracy(df_forecasts, df_observations, grouped_forecasts)\n",
    "\n",
    "print(\"Analysis complete\")\n",
    "print(f\"Mean absolute error: {abs(df_accuracy['error']).mean():.2f}°F\")"
   ]
  },
  {
   "cell_type": "code",
   "execution_count": 70,
   "metadata": {},
   "outputs": [
    {
     "data": {
      "application/vnd.plotly.v1+json": {
       "config": {
        "plotlyServerURL": "https://plot.ly"
       },
       "data": [
        {
         "alignmentgroup": "True",
         "hovertemplate": "Hours Ahead of Forecast=%{x}<br>Forecast Error (°F)=%{y}<extra></extra>",
         "legendgroup": "",
         "marker": {
          "color": "#636efa"
         },
         "name": "",
         "notched": false,
         "offsetgroup": "",
         "orientation": "v",
         "showlegend": false,
         "type": "box",
         "x": [
          10,
          9,
          8,
          7,
          6,
          5,
          4,
          3,
          2,
          1,
          11,
          10,
          9,
          8,
          7,
          6,
          5,
          4,
          3,
          2,
          1,
          12,
          11,
          10,
          9,
          8,
          7,
          6,
          5,
          4,
          3,
          2,
          1,
          13,
          12,
          11,
          10,
          9,
          8,
          7,
          6,
          5,
          4,
          3,
          2,
          14,
          13,
          12,
          11,
          10,
          9,
          8,
          7,
          6,
          5,
          4,
          3,
          15,
          14,
          13,
          12,
          11,
          10,
          9,
          8,
          7,
          6,
          5,
          4,
          16,
          15,
          14,
          13,
          12,
          11,
          10,
          9,
          8,
          7,
          6,
          5,
          17,
          16,
          15,
          14,
          13,
          12,
          11,
          10,
          9,
          8,
          7,
          6,
          18,
          17,
          16,
          15,
          14,
          13,
          12,
          11,
          10,
          9,
          8,
          7,
          19,
          18,
          17,
          16,
          15,
          14,
          13,
          12,
          11,
          10,
          9,
          8,
          20,
          19,
          18,
          17,
          16,
          15,
          14,
          13,
          12,
          11,
          10,
          9,
          21,
          20,
          19,
          18,
          17,
          16,
          15,
          14,
          13,
          12,
          11,
          10,
          22,
          21,
          20,
          19,
          18,
          17,
          16,
          15,
          14,
          13,
          12,
          11,
          23,
          22,
          21,
          20,
          19,
          18,
          17,
          16,
          15,
          14,
          13,
          12,
          24,
          23,
          22,
          21,
          20,
          19,
          18,
          17,
          16,
          15,
          14,
          13,
          24,
          23,
          22,
          21,
          20,
          19,
          18,
          17,
          16,
          15,
          14
         ],
         "x0": " ",
         "xaxis": "x",
         "y": [
          -2.020000000000003,
          -2.020000000000003,
          -0.020000000000003126,
          -0.020000000000003126,
          -0.020000000000003126,
          -2.020000000000003,
          -2.020000000000003,
          -2.020000000000003,
          -2.020000000000003,
          -2.020000000000003,
          -1.480000000000004,
          -1.480000000000004,
          -0.480000000000004,
          -0.480000000000004,
          -0.480000000000004,
          -1.480000000000004,
          -1.480000000000004,
          -1.480000000000004,
          -1.480000000000004,
          -1.480000000000004,
          -1.480000000000004,
          -0.03999999999999915,
          -0.03999999999999915,
          -0.03999999999999915,
          -0.03999999999999915,
          -0.03999999999999915,
          -0.03999999999999915,
          -0.03999999999999915,
          -0.03999999999999915,
          -0.03999999999999915,
          -0.03999999999999915,
          -0.03999999999999915,
          -0.03999999999999915,
          0.3200000000000003,
          0.3200000000000003,
          0.3200000000000003,
          0.3200000000000003,
          0.3200000000000003,
          0.3200000000000003,
          0.3200000000000003,
          0.3200000000000003,
          0.3200000000000003,
          0.3200000000000003,
          0.3200000000000003,
          0.3200000000000003,
          1.9399999999999977,
          1.9399999999999977,
          0.9399999999999977,
          0.9399999999999977,
          0.9399999999999977,
          0.9399999999999977,
          0.9399999999999977,
          0.9399999999999977,
          0.9399999999999977,
          0.9399999999999977,
          0.9399999999999977,
          0.9399999999999977,
          0.9399999999999977,
          0.9399999999999977,
          0.9399999999999977,
          0.9399999999999977,
          0.9399999999999977,
          0.9399999999999977,
          0.9399999999999977,
          0.9399999999999977,
          0.9399999999999977,
          0.9399999999999977,
          0.9399999999999977,
          0.9399999999999977,
          0.03999999999999915,
          0.03999999999999915,
          0.03999999999999915,
          0.03999999999999915,
          0.03999999999999915,
          0.03999999999999915,
          0.03999999999999915,
          0.03999999999999915,
          0.03999999999999915,
          0.03999999999999915,
          0.03999999999999915,
          0.03999999999999915,
          0.03999999999999915,
          0.03999999999999915,
          0.03999999999999915,
          0.03999999999999915,
          0.03999999999999915,
          0.03999999999999915,
          0.03999999999999915,
          0.03999999999999915,
          0.03999999999999915,
          0.03999999999999915,
          0.03999999999999915,
          0.03999999999999915,
          0.03999999999999915,
          0.03999999999999915,
          0.03999999999999915,
          0.03999999999999915,
          0.03999999999999915,
          0.03999999999999915,
          0.03999999999999915,
          0.03999999999999915,
          0.03999999999999915,
          0.03999999999999915,
          0.03999999999999915,
          0.03999999999999915,
          1.0399999999999991,
          1.0399999999999991,
          1.0399999999999991,
          1.0399999999999991,
          1.0399999999999991,
          1.0399999999999991,
          1.0399999999999991,
          1.0399999999999991,
          1.0399999999999991,
          1.0399999999999991,
          1.0399999999999991,
          1.0399999999999991,
          0.060000000000002274,
          0.060000000000002274,
          0.060000000000002274,
          0.060000000000002274,
          0.060000000000002274,
          0.060000000000002274,
          0.060000000000002274,
          0.060000000000002274,
          0.060000000000002274,
          0.060000000000002274,
          0.060000000000002274,
          0.060000000000002274,
          1.0600000000000023,
          1.0600000000000023,
          0.060000000000002274,
          0.060000000000002274,
          0.060000000000002274,
          0.060000000000002274,
          0.060000000000002274,
          0.060000000000002274,
          0.060000000000002274,
          0.060000000000002274,
          0.060000000000002274,
          0.060000000000002274,
          2.780000000000001,
          2.780000000000001,
          1.7800000000000011,
          1.7800000000000011,
          1.7800000000000011,
          1.7800000000000011,
          1.7800000000000011,
          1.7800000000000011,
          1.7800000000000011,
          1.7800000000000011,
          1.7800000000000011,
          1.7800000000000011,
          5.039999999999999,
          5.039999999999999,
          4.039999999999999,
          4.039999999999999,
          4.039999999999999,
          4.039999999999999,
          4.039999999999999,
          4.039999999999999,
          4.039999999999999,
          4.039999999999999,
          4.039999999999999,
          4.039999999999999,
          5.219999999999999,
          5.219999999999999,
          4.219999999999999,
          4.219999999999999,
          4.219999999999999,
          4.219999999999999,
          4.219999999999999,
          4.219999999999999,
          4.219999999999999,
          4.219999999999999,
          4.219999999999999,
          4.219999999999999,
          4.960000000000001,
          2.960000000000001,
          2.960000000000001,
          2.960000000000001,
          2.960000000000001,
          2.960000000000001,
          2.960000000000001,
          2.960000000000001,
          2.960000000000001,
          2.960000000000001,
          2.960000000000001
         ],
         "y0": " ",
         "yaxis": "y"
        }
       ],
       "layout": {
        "boxmode": "group",
        "legend": {
         "tracegroupgap": 0
        },
        "template": {
         "data": {
          "bar": [
           {
            "error_x": {
             "color": "#2a3f5f"
            },
            "error_y": {
             "color": "#2a3f5f"
            },
            "marker": {
             "line": {
              "color": "#E5ECF6",
              "width": 0.5
             },
             "pattern": {
              "fillmode": "overlay",
              "size": 10,
              "solidity": 0.2
             }
            },
            "type": "bar"
           }
          ],
          "barpolar": [
           {
            "marker": {
             "line": {
              "color": "#E5ECF6",
              "width": 0.5
             },
             "pattern": {
              "fillmode": "overlay",
              "size": 10,
              "solidity": 0.2
             }
            },
            "type": "barpolar"
           }
          ],
          "carpet": [
           {
            "aaxis": {
             "endlinecolor": "#2a3f5f",
             "gridcolor": "white",
             "linecolor": "white",
             "minorgridcolor": "white",
             "startlinecolor": "#2a3f5f"
            },
            "baxis": {
             "endlinecolor": "#2a3f5f",
             "gridcolor": "white",
             "linecolor": "white",
             "minorgridcolor": "white",
             "startlinecolor": "#2a3f5f"
            },
            "type": "carpet"
           }
          ],
          "choropleth": [
           {
            "colorbar": {
             "outlinewidth": 0,
             "ticks": ""
            },
            "type": "choropleth"
           }
          ],
          "contour": [
           {
            "colorbar": {
             "outlinewidth": 0,
             "ticks": ""
            },
            "colorscale": [
             [
              0,
              "#0d0887"
             ],
             [
              0.1111111111111111,
              "#46039f"
             ],
             [
              0.2222222222222222,
              "#7201a8"
             ],
             [
              0.3333333333333333,
              "#9c179e"
             ],
             [
              0.4444444444444444,
              "#bd3786"
             ],
             [
              0.5555555555555556,
              "#d8576b"
             ],
             [
              0.6666666666666666,
              "#ed7953"
             ],
             [
              0.7777777777777778,
              "#fb9f3a"
             ],
             [
              0.8888888888888888,
              "#fdca26"
             ],
             [
              1,
              "#f0f921"
             ]
            ],
            "type": "contour"
           }
          ],
          "contourcarpet": [
           {
            "colorbar": {
             "outlinewidth": 0,
             "ticks": ""
            },
            "type": "contourcarpet"
           }
          ],
          "heatmap": [
           {
            "colorbar": {
             "outlinewidth": 0,
             "ticks": ""
            },
            "colorscale": [
             [
              0,
              "#0d0887"
             ],
             [
              0.1111111111111111,
              "#46039f"
             ],
             [
              0.2222222222222222,
              "#7201a8"
             ],
             [
              0.3333333333333333,
              "#9c179e"
             ],
             [
              0.4444444444444444,
              "#bd3786"
             ],
             [
              0.5555555555555556,
              "#d8576b"
             ],
             [
              0.6666666666666666,
              "#ed7953"
             ],
             [
              0.7777777777777778,
              "#fb9f3a"
             ],
             [
              0.8888888888888888,
              "#fdca26"
             ],
             [
              1,
              "#f0f921"
             ]
            ],
            "type": "heatmap"
           }
          ],
          "heatmapgl": [
           {
            "colorbar": {
             "outlinewidth": 0,
             "ticks": ""
            },
            "colorscale": [
             [
              0,
              "#0d0887"
             ],
             [
              0.1111111111111111,
              "#46039f"
             ],
             [
              0.2222222222222222,
              "#7201a8"
             ],
             [
              0.3333333333333333,
              "#9c179e"
             ],
             [
              0.4444444444444444,
              "#bd3786"
             ],
             [
              0.5555555555555556,
              "#d8576b"
             ],
             [
              0.6666666666666666,
              "#ed7953"
             ],
             [
              0.7777777777777778,
              "#fb9f3a"
             ],
             [
              0.8888888888888888,
              "#fdca26"
             ],
             [
              1,
              "#f0f921"
             ]
            ],
            "type": "heatmapgl"
           }
          ],
          "histogram": [
           {
            "marker": {
             "pattern": {
              "fillmode": "overlay",
              "size": 10,
              "solidity": 0.2
             }
            },
            "type": "histogram"
           }
          ],
          "histogram2d": [
           {
            "colorbar": {
             "outlinewidth": 0,
             "ticks": ""
            },
            "colorscale": [
             [
              0,
              "#0d0887"
             ],
             [
              0.1111111111111111,
              "#46039f"
             ],
             [
              0.2222222222222222,
              "#7201a8"
             ],
             [
              0.3333333333333333,
              "#9c179e"
             ],
             [
              0.4444444444444444,
              "#bd3786"
             ],
             [
              0.5555555555555556,
              "#d8576b"
             ],
             [
              0.6666666666666666,
              "#ed7953"
             ],
             [
              0.7777777777777778,
              "#fb9f3a"
             ],
             [
              0.8888888888888888,
              "#fdca26"
             ],
             [
              1,
              "#f0f921"
             ]
            ],
            "type": "histogram2d"
           }
          ],
          "histogram2dcontour": [
           {
            "colorbar": {
             "outlinewidth": 0,
             "ticks": ""
            },
            "colorscale": [
             [
              0,
              "#0d0887"
             ],
             [
              0.1111111111111111,
              "#46039f"
             ],
             [
              0.2222222222222222,
              "#7201a8"
             ],
             [
              0.3333333333333333,
              "#9c179e"
             ],
             [
              0.4444444444444444,
              "#bd3786"
             ],
             [
              0.5555555555555556,
              "#d8576b"
             ],
             [
              0.6666666666666666,
              "#ed7953"
             ],
             [
              0.7777777777777778,
              "#fb9f3a"
             ],
             [
              0.8888888888888888,
              "#fdca26"
             ],
             [
              1,
              "#f0f921"
             ]
            ],
            "type": "histogram2dcontour"
           }
          ],
          "mesh3d": [
           {
            "colorbar": {
             "outlinewidth": 0,
             "ticks": ""
            },
            "type": "mesh3d"
           }
          ],
          "parcoords": [
           {
            "line": {
             "colorbar": {
              "outlinewidth": 0,
              "ticks": ""
             }
            },
            "type": "parcoords"
           }
          ],
          "pie": [
           {
            "automargin": true,
            "type": "pie"
           }
          ],
          "scatter": [
           {
            "fillpattern": {
             "fillmode": "overlay",
             "size": 10,
             "solidity": 0.2
            },
            "type": "scatter"
           }
          ],
          "scatter3d": [
           {
            "line": {
             "colorbar": {
              "outlinewidth": 0,
              "ticks": ""
             }
            },
            "marker": {
             "colorbar": {
              "outlinewidth": 0,
              "ticks": ""
             }
            },
            "type": "scatter3d"
           }
          ],
          "scattercarpet": [
           {
            "marker": {
             "colorbar": {
              "outlinewidth": 0,
              "ticks": ""
             }
            },
            "type": "scattercarpet"
           }
          ],
          "scattergeo": [
           {
            "marker": {
             "colorbar": {
              "outlinewidth": 0,
              "ticks": ""
             }
            },
            "type": "scattergeo"
           }
          ],
          "scattergl": [
           {
            "marker": {
             "colorbar": {
              "outlinewidth": 0,
              "ticks": ""
             }
            },
            "type": "scattergl"
           }
          ],
          "scattermapbox": [
           {
            "marker": {
             "colorbar": {
              "outlinewidth": 0,
              "ticks": ""
             }
            },
            "type": "scattermapbox"
           }
          ],
          "scatterpolar": [
           {
            "marker": {
             "colorbar": {
              "outlinewidth": 0,
              "ticks": ""
             }
            },
            "type": "scatterpolar"
           }
          ],
          "scatterpolargl": [
           {
            "marker": {
             "colorbar": {
              "outlinewidth": 0,
              "ticks": ""
             }
            },
            "type": "scatterpolargl"
           }
          ],
          "scatterternary": [
           {
            "marker": {
             "colorbar": {
              "outlinewidth": 0,
              "ticks": ""
             }
            },
            "type": "scatterternary"
           }
          ],
          "surface": [
           {
            "colorbar": {
             "outlinewidth": 0,
             "ticks": ""
            },
            "colorscale": [
             [
              0,
              "#0d0887"
             ],
             [
              0.1111111111111111,
              "#46039f"
             ],
             [
              0.2222222222222222,
              "#7201a8"
             ],
             [
              0.3333333333333333,
              "#9c179e"
             ],
             [
              0.4444444444444444,
              "#bd3786"
             ],
             [
              0.5555555555555556,
              "#d8576b"
             ],
             [
              0.6666666666666666,
              "#ed7953"
             ],
             [
              0.7777777777777778,
              "#fb9f3a"
             ],
             [
              0.8888888888888888,
              "#fdca26"
             ],
             [
              1,
              "#f0f921"
             ]
            ],
            "type": "surface"
           }
          ],
          "table": [
           {
            "cells": {
             "fill": {
              "color": "#EBF0F8"
             },
             "line": {
              "color": "white"
             }
            },
            "header": {
             "fill": {
              "color": "#C8D4E3"
             },
             "line": {
              "color": "white"
             }
            },
            "type": "table"
           }
          ]
         },
         "layout": {
          "annotationdefaults": {
           "arrowcolor": "#2a3f5f",
           "arrowhead": 0,
           "arrowwidth": 1
          },
          "autotypenumbers": "strict",
          "coloraxis": {
           "colorbar": {
            "outlinewidth": 0,
            "ticks": ""
           }
          },
          "colorscale": {
           "diverging": [
            [
             0,
             "#8e0152"
            ],
            [
             0.1,
             "#c51b7d"
            ],
            [
             0.2,
             "#de77ae"
            ],
            [
             0.3,
             "#f1b6da"
            ],
            [
             0.4,
             "#fde0ef"
            ],
            [
             0.5,
             "#f7f7f7"
            ],
            [
             0.6,
             "#e6f5d0"
            ],
            [
             0.7,
             "#b8e186"
            ],
            [
             0.8,
             "#7fbc41"
            ],
            [
             0.9,
             "#4d9221"
            ],
            [
             1,
             "#276419"
            ]
           ],
           "sequential": [
            [
             0,
             "#0d0887"
            ],
            [
             0.1111111111111111,
             "#46039f"
            ],
            [
             0.2222222222222222,
             "#7201a8"
            ],
            [
             0.3333333333333333,
             "#9c179e"
            ],
            [
             0.4444444444444444,
             "#bd3786"
            ],
            [
             0.5555555555555556,
             "#d8576b"
            ],
            [
             0.6666666666666666,
             "#ed7953"
            ],
            [
             0.7777777777777778,
             "#fb9f3a"
            ],
            [
             0.8888888888888888,
             "#fdca26"
            ],
            [
             1,
             "#f0f921"
            ]
           ],
           "sequentialminus": [
            [
             0,
             "#0d0887"
            ],
            [
             0.1111111111111111,
             "#46039f"
            ],
            [
             0.2222222222222222,
             "#7201a8"
            ],
            [
             0.3333333333333333,
             "#9c179e"
            ],
            [
             0.4444444444444444,
             "#bd3786"
            ],
            [
             0.5555555555555556,
             "#d8576b"
            ],
            [
             0.6666666666666666,
             "#ed7953"
            ],
            [
             0.7777777777777778,
             "#fb9f3a"
            ],
            [
             0.8888888888888888,
             "#fdca26"
            ],
            [
             1,
             "#f0f921"
            ]
           ]
          },
          "colorway": [
           "#636efa",
           "#EF553B",
           "#00cc96",
           "#ab63fa",
           "#FFA15A",
           "#19d3f3",
           "#FF6692",
           "#B6E880",
           "#FF97FF",
           "#FECB52"
          ],
          "font": {
           "color": "#2a3f5f"
          },
          "geo": {
           "bgcolor": "white",
           "lakecolor": "white",
           "landcolor": "#E5ECF6",
           "showlakes": true,
           "showland": true,
           "subunitcolor": "white"
          },
          "hoverlabel": {
           "align": "left"
          },
          "hovermode": "closest",
          "mapbox": {
           "style": "light"
          },
          "paper_bgcolor": "white",
          "plot_bgcolor": "#E5ECF6",
          "polar": {
           "angularaxis": {
            "gridcolor": "white",
            "linecolor": "white",
            "ticks": ""
           },
           "bgcolor": "#E5ECF6",
           "radialaxis": {
            "gridcolor": "white",
            "linecolor": "white",
            "ticks": ""
           }
          },
          "scene": {
           "xaxis": {
            "backgroundcolor": "#E5ECF6",
            "gridcolor": "white",
            "gridwidth": 2,
            "linecolor": "white",
            "showbackground": true,
            "ticks": "",
            "zerolinecolor": "white"
           },
           "yaxis": {
            "backgroundcolor": "#E5ECF6",
            "gridcolor": "white",
            "gridwidth": 2,
            "linecolor": "white",
            "showbackground": true,
            "ticks": "",
            "zerolinecolor": "white"
           },
           "zaxis": {
            "backgroundcolor": "#E5ECF6",
            "gridcolor": "white",
            "gridwidth": 2,
            "linecolor": "white",
            "showbackground": true,
            "ticks": "",
            "zerolinecolor": "white"
           }
          },
          "shapedefaults": {
           "line": {
            "color": "#2a3f5f"
           }
          },
          "ternary": {
           "aaxis": {
            "gridcolor": "white",
            "linecolor": "white",
            "ticks": ""
           },
           "baxis": {
            "gridcolor": "white",
            "linecolor": "white",
            "ticks": ""
           },
           "bgcolor": "#E5ECF6",
           "caxis": {
            "gridcolor": "white",
            "linecolor": "white",
            "ticks": ""
           }
          },
          "title": {
           "x": 0.05
          },
          "xaxis": {
           "automargin": true,
           "gridcolor": "white",
           "linecolor": "white",
           "ticks": "",
           "title": {
            "standoff": 15
           },
           "zerolinecolor": "white",
           "zerolinewidth": 2
          },
          "yaxis": {
           "automargin": true,
           "gridcolor": "white",
           "linecolor": "white",
           "ticks": "",
           "title": {
            "standoff": 15
           },
           "zerolinecolor": "white",
           "zerolinewidth": 2
          }
         }
        },
        "title": {
         "text": "Distribution of Forecast Errors by Lead Time"
        },
        "xaxis": {
         "anchor": "y",
         "domain": [
          0,
          1
         ],
         "title": {
          "text": "Hours Ahead of Forecast"
         }
        },
        "yaxis": {
         "anchor": "x",
         "domain": [
          0,
          1
         ],
         "title": {
          "text": "Forecast Error (°F)"
         }
        }
       }
      }
     },
     "metadata": {},
     "output_type": "display_data"
    },
    {
     "data": {
      "application/vnd.plotly.v1+json": {
       "config": {
        "plotlyServerURL": "https://plot.ly"
       },
       "data": [
        {
         "alignmentgroup": "True",
         "hovertemplate": "Hour of Day (EST)=%{x}<br>Mean Absolute Error (°F)=%{y}<extra></extra>",
         "legendgroup": "",
         "marker": {
          "color": "#636efa",
          "pattern": {
           "shape": ""
          }
         },
         "name": "",
         "offsetgroup": "",
         "orientation": "v",
         "showlegend": false,
         "textposition": "auto",
         "type": "bar",
         "x": [
          0,
          1,
          2,
          3,
          4,
          5,
          6,
          7,
          8,
          9,
          10,
          11,
          12,
          13,
          14,
          15
         ],
         "xaxis": "x",
         "y": [
          1.420000000000003,
          1.2072727272727313,
          0.03999999999999915,
          0.3200000000000003,
          1.1066666666666645,
          0.9399999999999977,
          0.03999999999999915,
          0.03999999999999915,
          0.03999999999999915,
          1.0399999999999991,
          0.060000000000002274,
          0.22666666666666893,
          1.9466666666666679,
          4.206666666666666,
          4.386666666666666,
          3.1418181818181825
         ],
         "yaxis": "y"
        }
       ],
       "layout": {
        "barmode": "relative",
        "legend": {
         "tracegroupgap": 0
        },
        "template": {
         "data": {
          "bar": [
           {
            "error_x": {
             "color": "#2a3f5f"
            },
            "error_y": {
             "color": "#2a3f5f"
            },
            "marker": {
             "line": {
              "color": "#E5ECF6",
              "width": 0.5
             },
             "pattern": {
              "fillmode": "overlay",
              "size": 10,
              "solidity": 0.2
             }
            },
            "type": "bar"
           }
          ],
          "barpolar": [
           {
            "marker": {
             "line": {
              "color": "#E5ECF6",
              "width": 0.5
             },
             "pattern": {
              "fillmode": "overlay",
              "size": 10,
              "solidity": 0.2
             }
            },
            "type": "barpolar"
           }
          ],
          "carpet": [
           {
            "aaxis": {
             "endlinecolor": "#2a3f5f",
             "gridcolor": "white",
             "linecolor": "white",
             "minorgridcolor": "white",
             "startlinecolor": "#2a3f5f"
            },
            "baxis": {
             "endlinecolor": "#2a3f5f",
             "gridcolor": "white",
             "linecolor": "white",
             "minorgridcolor": "white",
             "startlinecolor": "#2a3f5f"
            },
            "type": "carpet"
           }
          ],
          "choropleth": [
           {
            "colorbar": {
             "outlinewidth": 0,
             "ticks": ""
            },
            "type": "choropleth"
           }
          ],
          "contour": [
           {
            "colorbar": {
             "outlinewidth": 0,
             "ticks": ""
            },
            "colorscale": [
             [
              0,
              "#0d0887"
             ],
             [
              0.1111111111111111,
              "#46039f"
             ],
             [
              0.2222222222222222,
              "#7201a8"
             ],
             [
              0.3333333333333333,
              "#9c179e"
             ],
             [
              0.4444444444444444,
              "#bd3786"
             ],
             [
              0.5555555555555556,
              "#d8576b"
             ],
             [
              0.6666666666666666,
              "#ed7953"
             ],
             [
              0.7777777777777778,
              "#fb9f3a"
             ],
             [
              0.8888888888888888,
              "#fdca26"
             ],
             [
              1,
              "#f0f921"
             ]
            ],
            "type": "contour"
           }
          ],
          "contourcarpet": [
           {
            "colorbar": {
             "outlinewidth": 0,
             "ticks": ""
            },
            "type": "contourcarpet"
           }
          ],
          "heatmap": [
           {
            "colorbar": {
             "outlinewidth": 0,
             "ticks": ""
            },
            "colorscale": [
             [
              0,
              "#0d0887"
             ],
             [
              0.1111111111111111,
              "#46039f"
             ],
             [
              0.2222222222222222,
              "#7201a8"
             ],
             [
              0.3333333333333333,
              "#9c179e"
             ],
             [
              0.4444444444444444,
              "#bd3786"
             ],
             [
              0.5555555555555556,
              "#d8576b"
             ],
             [
              0.6666666666666666,
              "#ed7953"
             ],
             [
              0.7777777777777778,
              "#fb9f3a"
             ],
             [
              0.8888888888888888,
              "#fdca26"
             ],
             [
              1,
              "#f0f921"
             ]
            ],
            "type": "heatmap"
           }
          ],
          "heatmapgl": [
           {
            "colorbar": {
             "outlinewidth": 0,
             "ticks": ""
            },
            "colorscale": [
             [
              0,
              "#0d0887"
             ],
             [
              0.1111111111111111,
              "#46039f"
             ],
             [
              0.2222222222222222,
              "#7201a8"
             ],
             [
              0.3333333333333333,
              "#9c179e"
             ],
             [
              0.4444444444444444,
              "#bd3786"
             ],
             [
              0.5555555555555556,
              "#d8576b"
             ],
             [
              0.6666666666666666,
              "#ed7953"
             ],
             [
              0.7777777777777778,
              "#fb9f3a"
             ],
             [
              0.8888888888888888,
              "#fdca26"
             ],
             [
              1,
              "#f0f921"
             ]
            ],
            "type": "heatmapgl"
           }
          ],
          "histogram": [
           {
            "marker": {
             "pattern": {
              "fillmode": "overlay",
              "size": 10,
              "solidity": 0.2
             }
            },
            "type": "histogram"
           }
          ],
          "histogram2d": [
           {
            "colorbar": {
             "outlinewidth": 0,
             "ticks": ""
            },
            "colorscale": [
             [
              0,
              "#0d0887"
             ],
             [
              0.1111111111111111,
              "#46039f"
             ],
             [
              0.2222222222222222,
              "#7201a8"
             ],
             [
              0.3333333333333333,
              "#9c179e"
             ],
             [
              0.4444444444444444,
              "#bd3786"
             ],
             [
              0.5555555555555556,
              "#d8576b"
             ],
             [
              0.6666666666666666,
              "#ed7953"
             ],
             [
              0.7777777777777778,
              "#fb9f3a"
             ],
             [
              0.8888888888888888,
              "#fdca26"
             ],
             [
              1,
              "#f0f921"
             ]
            ],
            "type": "histogram2d"
           }
          ],
          "histogram2dcontour": [
           {
            "colorbar": {
             "outlinewidth": 0,
             "ticks": ""
            },
            "colorscale": [
             [
              0,
              "#0d0887"
             ],
             [
              0.1111111111111111,
              "#46039f"
             ],
             [
              0.2222222222222222,
              "#7201a8"
             ],
             [
              0.3333333333333333,
              "#9c179e"
             ],
             [
              0.4444444444444444,
              "#bd3786"
             ],
             [
              0.5555555555555556,
              "#d8576b"
             ],
             [
              0.6666666666666666,
              "#ed7953"
             ],
             [
              0.7777777777777778,
              "#fb9f3a"
             ],
             [
              0.8888888888888888,
              "#fdca26"
             ],
             [
              1,
              "#f0f921"
             ]
            ],
            "type": "histogram2dcontour"
           }
          ],
          "mesh3d": [
           {
            "colorbar": {
             "outlinewidth": 0,
             "ticks": ""
            },
            "type": "mesh3d"
           }
          ],
          "parcoords": [
           {
            "line": {
             "colorbar": {
              "outlinewidth": 0,
              "ticks": ""
             }
            },
            "type": "parcoords"
           }
          ],
          "pie": [
           {
            "automargin": true,
            "type": "pie"
           }
          ],
          "scatter": [
           {
            "fillpattern": {
             "fillmode": "overlay",
             "size": 10,
             "solidity": 0.2
            },
            "type": "scatter"
           }
          ],
          "scatter3d": [
           {
            "line": {
             "colorbar": {
              "outlinewidth": 0,
              "ticks": ""
             }
            },
            "marker": {
             "colorbar": {
              "outlinewidth": 0,
              "ticks": ""
             }
            },
            "type": "scatter3d"
           }
          ],
          "scattercarpet": [
           {
            "marker": {
             "colorbar": {
              "outlinewidth": 0,
              "ticks": ""
             }
            },
            "type": "scattercarpet"
           }
          ],
          "scattergeo": [
           {
            "marker": {
             "colorbar": {
              "outlinewidth": 0,
              "ticks": ""
             }
            },
            "type": "scattergeo"
           }
          ],
          "scattergl": [
           {
            "marker": {
             "colorbar": {
              "outlinewidth": 0,
              "ticks": ""
             }
            },
            "type": "scattergl"
           }
          ],
          "scattermapbox": [
           {
            "marker": {
             "colorbar": {
              "outlinewidth": 0,
              "ticks": ""
             }
            },
            "type": "scattermapbox"
           }
          ],
          "scatterpolar": [
           {
            "marker": {
             "colorbar": {
              "outlinewidth": 0,
              "ticks": ""
             }
            },
            "type": "scatterpolar"
           }
          ],
          "scatterpolargl": [
           {
            "marker": {
             "colorbar": {
              "outlinewidth": 0,
              "ticks": ""
             }
            },
            "type": "scatterpolargl"
           }
          ],
          "scatterternary": [
           {
            "marker": {
             "colorbar": {
              "outlinewidth": 0,
              "ticks": ""
             }
            },
            "type": "scatterternary"
           }
          ],
          "surface": [
           {
            "colorbar": {
             "outlinewidth": 0,
             "ticks": ""
            },
            "colorscale": [
             [
              0,
              "#0d0887"
             ],
             [
              0.1111111111111111,
              "#46039f"
             ],
             [
              0.2222222222222222,
              "#7201a8"
             ],
             [
              0.3333333333333333,
              "#9c179e"
             ],
             [
              0.4444444444444444,
              "#bd3786"
             ],
             [
              0.5555555555555556,
              "#d8576b"
             ],
             [
              0.6666666666666666,
              "#ed7953"
             ],
             [
              0.7777777777777778,
              "#fb9f3a"
             ],
             [
              0.8888888888888888,
              "#fdca26"
             ],
             [
              1,
              "#f0f921"
             ]
            ],
            "type": "surface"
           }
          ],
          "table": [
           {
            "cells": {
             "fill": {
              "color": "#EBF0F8"
             },
             "line": {
              "color": "white"
             }
            },
            "header": {
             "fill": {
              "color": "#C8D4E3"
             },
             "line": {
              "color": "white"
             }
            },
            "type": "table"
           }
          ]
         },
         "layout": {
          "annotationdefaults": {
           "arrowcolor": "#2a3f5f",
           "arrowhead": 0,
           "arrowwidth": 1
          },
          "autotypenumbers": "strict",
          "coloraxis": {
           "colorbar": {
            "outlinewidth": 0,
            "ticks": ""
           }
          },
          "colorscale": {
           "diverging": [
            [
             0,
             "#8e0152"
            ],
            [
             0.1,
             "#c51b7d"
            ],
            [
             0.2,
             "#de77ae"
            ],
            [
             0.3,
             "#f1b6da"
            ],
            [
             0.4,
             "#fde0ef"
            ],
            [
             0.5,
             "#f7f7f7"
            ],
            [
             0.6,
             "#e6f5d0"
            ],
            [
             0.7,
             "#b8e186"
            ],
            [
             0.8,
             "#7fbc41"
            ],
            [
             0.9,
             "#4d9221"
            ],
            [
             1,
             "#276419"
            ]
           ],
           "sequential": [
            [
             0,
             "#0d0887"
            ],
            [
             0.1111111111111111,
             "#46039f"
            ],
            [
             0.2222222222222222,
             "#7201a8"
            ],
            [
             0.3333333333333333,
             "#9c179e"
            ],
            [
             0.4444444444444444,
             "#bd3786"
            ],
            [
             0.5555555555555556,
             "#d8576b"
            ],
            [
             0.6666666666666666,
             "#ed7953"
            ],
            [
             0.7777777777777778,
             "#fb9f3a"
            ],
            [
             0.8888888888888888,
             "#fdca26"
            ],
            [
             1,
             "#f0f921"
            ]
           ],
           "sequentialminus": [
            [
             0,
             "#0d0887"
            ],
            [
             0.1111111111111111,
             "#46039f"
            ],
            [
             0.2222222222222222,
             "#7201a8"
            ],
            [
             0.3333333333333333,
             "#9c179e"
            ],
            [
             0.4444444444444444,
             "#bd3786"
            ],
            [
             0.5555555555555556,
             "#d8576b"
            ],
            [
             0.6666666666666666,
             "#ed7953"
            ],
            [
             0.7777777777777778,
             "#fb9f3a"
            ],
            [
             0.8888888888888888,
             "#fdca26"
            ],
            [
             1,
             "#f0f921"
            ]
           ]
          },
          "colorway": [
           "#636efa",
           "#EF553B",
           "#00cc96",
           "#ab63fa",
           "#FFA15A",
           "#19d3f3",
           "#FF6692",
           "#B6E880",
           "#FF97FF",
           "#FECB52"
          ],
          "font": {
           "color": "#2a3f5f"
          },
          "geo": {
           "bgcolor": "white",
           "lakecolor": "white",
           "landcolor": "#E5ECF6",
           "showlakes": true,
           "showland": true,
           "subunitcolor": "white"
          },
          "hoverlabel": {
           "align": "left"
          },
          "hovermode": "closest",
          "mapbox": {
           "style": "light"
          },
          "paper_bgcolor": "white",
          "plot_bgcolor": "#E5ECF6",
          "polar": {
           "angularaxis": {
            "gridcolor": "white",
            "linecolor": "white",
            "ticks": ""
           },
           "bgcolor": "#E5ECF6",
           "radialaxis": {
            "gridcolor": "white",
            "linecolor": "white",
            "ticks": ""
           }
          },
          "scene": {
           "xaxis": {
            "backgroundcolor": "#E5ECF6",
            "gridcolor": "white",
            "gridwidth": 2,
            "linecolor": "white",
            "showbackground": true,
            "ticks": "",
            "zerolinecolor": "white"
           },
           "yaxis": {
            "backgroundcolor": "#E5ECF6",
            "gridcolor": "white",
            "gridwidth": 2,
            "linecolor": "white",
            "showbackground": true,
            "ticks": "",
            "zerolinecolor": "white"
           },
           "zaxis": {
            "backgroundcolor": "#E5ECF6",
            "gridcolor": "white",
            "gridwidth": 2,
            "linecolor": "white",
            "showbackground": true,
            "ticks": "",
            "zerolinecolor": "white"
           }
          },
          "shapedefaults": {
           "line": {
            "color": "#2a3f5f"
           }
          },
          "ternary": {
           "aaxis": {
            "gridcolor": "white",
            "linecolor": "white",
            "ticks": ""
           },
           "baxis": {
            "gridcolor": "white",
            "linecolor": "white",
            "ticks": ""
           },
           "bgcolor": "#E5ECF6",
           "caxis": {
            "gridcolor": "white",
            "linecolor": "white",
            "ticks": ""
           }
          },
          "title": {
           "x": 0.05
          },
          "xaxis": {
           "automargin": true,
           "gridcolor": "white",
           "linecolor": "white",
           "ticks": "",
           "title": {
            "standoff": 15
           },
           "zerolinecolor": "white",
           "zerolinewidth": 2
          },
          "yaxis": {
           "automargin": true,
           "gridcolor": "white",
           "linecolor": "white",
           "ticks": "",
           "title": {
            "standoff": 15
           },
           "zerolinecolor": "white",
           "zerolinewidth": 2
          }
         }
        },
        "title": {
         "text": "Average Forecast Error by Hour of Day (EST)"
        },
        "xaxis": {
         "anchor": "y",
         "domain": [
          0,
          1
         ],
         "title": {
          "text": "Hour of Day (EST)"
         }
        },
        "yaxis": {
         "anchor": "x",
         "domain": [
          0,
          1
         ],
         "title": {
          "text": "Mean Absolute Error (°F)"
         }
        }
       }
      }
     },
     "metadata": {},
     "output_type": "display_data"
    },
    {
     "data": {
      "application/vnd.plotly.v1+json": {
       "config": {
        "plotlyServerURL": "https://plot.ly"
       },
       "data": [
        {
         "coloraxis": "coloraxis",
         "hovertemplate": "Hours Ahead: %{x}<br>Hour of Day (EST): %{y}<br>Mean Absolute Error (°F): %{z}<extra></extra>",
         "name": "0",
         "type": "heatmap",
         "x": [
          1,
          2,
          3,
          4,
          5,
          6,
          7,
          8,
          9,
          10,
          11,
          12,
          13,
          14,
          15,
          16,
          17,
          18,
          19,
          20,
          21,
          22,
          23,
          24
         ],
         "xaxis": "x",
         "y": [
          0,
          1,
          2,
          3,
          4,
          5,
          6,
          7,
          8,
          9,
          10,
          11,
          12,
          13,
          14,
          15
         ],
         "yaxis": "y",
         "z": [
          [
           2.020000000000003,
           2.020000000000003,
           2.020000000000003,
           2.020000000000003,
           2.020000000000003,
           0.020000000000003126,
           0.020000000000003126,
           0.020000000000003126,
           2.020000000000003,
           2.020000000000003,
           null,
           null,
           null,
           null,
           null,
           null,
           null,
           null,
           null,
           null,
           null,
           null,
           null,
           null
          ],
          [
           1.480000000000004,
           1.480000000000004,
           1.480000000000004,
           1.480000000000004,
           1.480000000000004,
           1.480000000000004,
           0.480000000000004,
           0.480000000000004,
           0.480000000000004,
           1.480000000000004,
           1.480000000000004,
           null,
           null,
           null,
           null,
           null,
           null,
           null,
           null,
           null,
           null,
           null,
           null,
           null
          ],
          [
           0.03999999999999915,
           0.03999999999999915,
           0.03999999999999915,
           0.03999999999999915,
           0.03999999999999915,
           0.03999999999999915,
           0.03999999999999915,
           0.03999999999999915,
           0.03999999999999915,
           0.03999999999999915,
           0.03999999999999915,
           0.03999999999999915,
           null,
           null,
           null,
           null,
           null,
           null,
           null,
           null,
           null,
           null,
           null,
           null
          ],
          [
           null,
           0.3200000000000003,
           0.3200000000000003,
           0.3200000000000003,
           0.3200000000000003,
           0.3200000000000003,
           0.3200000000000003,
           0.3200000000000003,
           0.3200000000000003,
           0.3200000000000003,
           0.3200000000000003,
           0.3200000000000003,
           0.3200000000000003,
           null,
           null,
           null,
           null,
           null,
           null,
           null,
           null,
           null,
           null,
           null
          ],
          [
           null,
           null,
           0.9399999999999977,
           0.9399999999999977,
           0.9399999999999977,
           0.9399999999999977,
           0.9399999999999977,
           0.9399999999999977,
           0.9399999999999977,
           0.9399999999999977,
           0.9399999999999977,
           0.9399999999999977,
           1.9399999999999977,
           1.9399999999999977,
           null,
           null,
           null,
           null,
           null,
           null,
           null,
           null,
           null,
           null
          ],
          [
           null,
           null,
           null,
           0.9399999999999977,
           0.9399999999999977,
           0.9399999999999977,
           0.9399999999999977,
           0.9399999999999977,
           0.9399999999999977,
           0.9399999999999977,
           0.9399999999999977,
           0.9399999999999977,
           0.9399999999999977,
           0.9399999999999977,
           0.9399999999999977,
           null,
           null,
           null,
           null,
           null,
           null,
           null,
           null,
           null
          ],
          [
           null,
           null,
           null,
           null,
           0.03999999999999915,
           0.03999999999999915,
           0.03999999999999915,
           0.03999999999999915,
           0.03999999999999915,
           0.03999999999999915,
           0.03999999999999915,
           0.03999999999999915,
           0.03999999999999915,
           0.03999999999999915,
           0.03999999999999915,
           0.03999999999999915,
           null,
           null,
           null,
           null,
           null,
           null,
           null,
           null
          ],
          [
           null,
           null,
           null,
           null,
           null,
           0.03999999999999915,
           0.03999999999999915,
           0.03999999999999915,
           0.03999999999999915,
           0.03999999999999915,
           0.03999999999999915,
           0.03999999999999915,
           0.03999999999999915,
           0.03999999999999915,
           0.03999999999999915,
           0.03999999999999915,
           0.03999999999999915,
           null,
           null,
           null,
           null,
           null,
           null,
           null
          ],
          [
           null,
           null,
           null,
           null,
           null,
           null,
           0.03999999999999915,
           0.03999999999999915,
           0.03999999999999915,
           0.03999999999999915,
           0.03999999999999915,
           0.03999999999999915,
           0.03999999999999915,
           0.03999999999999915,
           0.03999999999999915,
           0.03999999999999915,
           0.03999999999999915,
           0.03999999999999915,
           null,
           null,
           null,
           null,
           null,
           null
          ],
          [
           null,
           null,
           null,
           null,
           null,
           null,
           null,
           1.0399999999999991,
           1.0399999999999991,
           1.0399999999999991,
           1.0399999999999991,
           1.0399999999999991,
           1.0399999999999991,
           1.0399999999999991,
           1.0399999999999991,
           1.0399999999999991,
           1.0399999999999991,
           1.0399999999999991,
           1.0399999999999991,
           null,
           null,
           null,
           null,
           null
          ],
          [
           null,
           null,
           null,
           null,
           null,
           null,
           null,
           null,
           0.060000000000002274,
           0.060000000000002274,
           0.060000000000002274,
           0.060000000000002274,
           0.060000000000002274,
           0.060000000000002274,
           0.060000000000002274,
           0.060000000000002274,
           0.060000000000002274,
           0.060000000000002274,
           0.060000000000002274,
           0.060000000000002274,
           null,
           null,
           null,
           null
          ],
          [
           null,
           null,
           null,
           null,
           null,
           null,
           null,
           null,
           null,
           0.060000000000002274,
           0.060000000000002274,
           0.060000000000002274,
           0.060000000000002274,
           0.060000000000002274,
           0.060000000000002274,
           0.060000000000002274,
           0.060000000000002274,
           0.060000000000002274,
           0.060000000000002274,
           1.0600000000000023,
           1.0600000000000023,
           null,
           null,
           null
          ],
          [
           null,
           null,
           null,
           null,
           null,
           null,
           null,
           null,
           null,
           null,
           1.7800000000000011,
           1.7800000000000011,
           1.7800000000000011,
           1.7800000000000011,
           1.7800000000000011,
           1.7800000000000011,
           1.7800000000000011,
           1.7800000000000011,
           1.7800000000000011,
           1.7800000000000011,
           2.780000000000001,
           2.780000000000001,
           null,
           null
          ],
          [
           null,
           null,
           null,
           null,
           null,
           null,
           null,
           null,
           null,
           null,
           null,
           4.039999999999999,
           4.039999999999999,
           4.039999999999999,
           4.039999999999999,
           4.039999999999999,
           4.039999999999999,
           4.039999999999999,
           4.039999999999999,
           4.039999999999999,
           4.039999999999999,
           5.039999999999999,
           5.039999999999999,
           null
          ],
          [
           null,
           null,
           null,
           null,
           null,
           null,
           null,
           null,
           null,
           null,
           null,
           null,
           4.219999999999999,
           4.219999999999999,
           4.219999999999999,
           4.219999999999999,
           4.219999999999999,
           4.219999999999999,
           4.219999999999999,
           4.219999999999999,
           4.219999999999999,
           4.219999999999999,
           5.219999999999999,
           5.219999999999999
          ],
          [
           null,
           null,
           null,
           null,
           null,
           null,
           null,
           null,
           null,
           null,
           null,
           null,
           null,
           2.960000000000001,
           2.960000000000001,
           2.960000000000001,
           2.960000000000001,
           2.960000000000001,
           2.960000000000001,
           2.960000000000001,
           2.960000000000001,
           2.960000000000001,
           2.960000000000001,
           4.960000000000001
          ]
         ]
        }
       ],
       "layout": {
        "coloraxis": {
         "colorbar": {
          "title": {
           "text": "Mean Absolute Error (°F)"
          }
         },
         "colorscale": [
          [
           0,
           "rgb(49,54,149)"
          ],
          [
           0.1,
           "rgb(69,117,180)"
          ],
          [
           0.2,
           "rgb(116,173,209)"
          ],
          [
           0.3,
           "rgb(171,217,233)"
          ],
          [
           0.4,
           "rgb(224,243,248)"
          ],
          [
           0.5,
           "rgb(255,255,191)"
          ],
          [
           0.6,
           "rgb(254,224,144)"
          ],
          [
           0.7,
           "rgb(253,174,97)"
          ],
          [
           0.8,
           "rgb(244,109,67)"
          ],
          [
           0.9,
           "rgb(215,48,39)"
          ],
          [
           1,
           "rgb(165,0,38)"
          ]
         ]
        },
        "template": {
         "data": {
          "bar": [
           {
            "error_x": {
             "color": "#2a3f5f"
            },
            "error_y": {
             "color": "#2a3f5f"
            },
            "marker": {
             "line": {
              "color": "#E5ECF6",
              "width": 0.5
             },
             "pattern": {
              "fillmode": "overlay",
              "size": 10,
              "solidity": 0.2
             }
            },
            "type": "bar"
           }
          ],
          "barpolar": [
           {
            "marker": {
             "line": {
              "color": "#E5ECF6",
              "width": 0.5
             },
             "pattern": {
              "fillmode": "overlay",
              "size": 10,
              "solidity": 0.2
             }
            },
            "type": "barpolar"
           }
          ],
          "carpet": [
           {
            "aaxis": {
             "endlinecolor": "#2a3f5f",
             "gridcolor": "white",
             "linecolor": "white",
             "minorgridcolor": "white",
             "startlinecolor": "#2a3f5f"
            },
            "baxis": {
             "endlinecolor": "#2a3f5f",
             "gridcolor": "white",
             "linecolor": "white",
             "minorgridcolor": "white",
             "startlinecolor": "#2a3f5f"
            },
            "type": "carpet"
           }
          ],
          "choropleth": [
           {
            "colorbar": {
             "outlinewidth": 0,
             "ticks": ""
            },
            "type": "choropleth"
           }
          ],
          "contour": [
           {
            "colorbar": {
             "outlinewidth": 0,
             "ticks": ""
            },
            "colorscale": [
             [
              0,
              "#0d0887"
             ],
             [
              0.1111111111111111,
              "#46039f"
             ],
             [
              0.2222222222222222,
              "#7201a8"
             ],
             [
              0.3333333333333333,
              "#9c179e"
             ],
             [
              0.4444444444444444,
              "#bd3786"
             ],
             [
              0.5555555555555556,
              "#d8576b"
             ],
             [
              0.6666666666666666,
              "#ed7953"
             ],
             [
              0.7777777777777778,
              "#fb9f3a"
             ],
             [
              0.8888888888888888,
              "#fdca26"
             ],
             [
              1,
              "#f0f921"
             ]
            ],
            "type": "contour"
           }
          ],
          "contourcarpet": [
           {
            "colorbar": {
             "outlinewidth": 0,
             "ticks": ""
            },
            "type": "contourcarpet"
           }
          ],
          "heatmap": [
           {
            "colorbar": {
             "outlinewidth": 0,
             "ticks": ""
            },
            "colorscale": [
             [
              0,
              "#0d0887"
             ],
             [
              0.1111111111111111,
              "#46039f"
             ],
             [
              0.2222222222222222,
              "#7201a8"
             ],
             [
              0.3333333333333333,
              "#9c179e"
             ],
             [
              0.4444444444444444,
              "#bd3786"
             ],
             [
              0.5555555555555556,
              "#d8576b"
             ],
             [
              0.6666666666666666,
              "#ed7953"
             ],
             [
              0.7777777777777778,
              "#fb9f3a"
             ],
             [
              0.8888888888888888,
              "#fdca26"
             ],
             [
              1,
              "#f0f921"
             ]
            ],
            "type": "heatmap"
           }
          ],
          "heatmapgl": [
           {
            "colorbar": {
             "outlinewidth": 0,
             "ticks": ""
            },
            "colorscale": [
             [
              0,
              "#0d0887"
             ],
             [
              0.1111111111111111,
              "#46039f"
             ],
             [
              0.2222222222222222,
              "#7201a8"
             ],
             [
              0.3333333333333333,
              "#9c179e"
             ],
             [
              0.4444444444444444,
              "#bd3786"
             ],
             [
              0.5555555555555556,
              "#d8576b"
             ],
             [
              0.6666666666666666,
              "#ed7953"
             ],
             [
              0.7777777777777778,
              "#fb9f3a"
             ],
             [
              0.8888888888888888,
              "#fdca26"
             ],
             [
              1,
              "#f0f921"
             ]
            ],
            "type": "heatmapgl"
           }
          ],
          "histogram": [
           {
            "marker": {
             "pattern": {
              "fillmode": "overlay",
              "size": 10,
              "solidity": 0.2
             }
            },
            "type": "histogram"
           }
          ],
          "histogram2d": [
           {
            "colorbar": {
             "outlinewidth": 0,
             "ticks": ""
            },
            "colorscale": [
             [
              0,
              "#0d0887"
             ],
             [
              0.1111111111111111,
              "#46039f"
             ],
             [
              0.2222222222222222,
              "#7201a8"
             ],
             [
              0.3333333333333333,
              "#9c179e"
             ],
             [
              0.4444444444444444,
              "#bd3786"
             ],
             [
              0.5555555555555556,
              "#d8576b"
             ],
             [
              0.6666666666666666,
              "#ed7953"
             ],
             [
              0.7777777777777778,
              "#fb9f3a"
             ],
             [
              0.8888888888888888,
              "#fdca26"
             ],
             [
              1,
              "#f0f921"
             ]
            ],
            "type": "histogram2d"
           }
          ],
          "histogram2dcontour": [
           {
            "colorbar": {
             "outlinewidth": 0,
             "ticks": ""
            },
            "colorscale": [
             [
              0,
              "#0d0887"
             ],
             [
              0.1111111111111111,
              "#46039f"
             ],
             [
              0.2222222222222222,
              "#7201a8"
             ],
             [
              0.3333333333333333,
              "#9c179e"
             ],
             [
              0.4444444444444444,
              "#bd3786"
             ],
             [
              0.5555555555555556,
              "#d8576b"
             ],
             [
              0.6666666666666666,
              "#ed7953"
             ],
             [
              0.7777777777777778,
              "#fb9f3a"
             ],
             [
              0.8888888888888888,
              "#fdca26"
             ],
             [
              1,
              "#f0f921"
             ]
            ],
            "type": "histogram2dcontour"
           }
          ],
          "mesh3d": [
           {
            "colorbar": {
             "outlinewidth": 0,
             "ticks": ""
            },
            "type": "mesh3d"
           }
          ],
          "parcoords": [
           {
            "line": {
             "colorbar": {
              "outlinewidth": 0,
              "ticks": ""
             }
            },
            "type": "parcoords"
           }
          ],
          "pie": [
           {
            "automargin": true,
            "type": "pie"
           }
          ],
          "scatter": [
           {
            "fillpattern": {
             "fillmode": "overlay",
             "size": 10,
             "solidity": 0.2
            },
            "type": "scatter"
           }
          ],
          "scatter3d": [
           {
            "line": {
             "colorbar": {
              "outlinewidth": 0,
              "ticks": ""
             }
            },
            "marker": {
             "colorbar": {
              "outlinewidth": 0,
              "ticks": ""
             }
            },
            "type": "scatter3d"
           }
          ],
          "scattercarpet": [
           {
            "marker": {
             "colorbar": {
              "outlinewidth": 0,
              "ticks": ""
             }
            },
            "type": "scattercarpet"
           }
          ],
          "scattergeo": [
           {
            "marker": {
             "colorbar": {
              "outlinewidth": 0,
              "ticks": ""
             }
            },
            "type": "scattergeo"
           }
          ],
          "scattergl": [
           {
            "marker": {
             "colorbar": {
              "outlinewidth": 0,
              "ticks": ""
             }
            },
            "type": "scattergl"
           }
          ],
          "scattermapbox": [
           {
            "marker": {
             "colorbar": {
              "outlinewidth": 0,
              "ticks": ""
             }
            },
            "type": "scattermapbox"
           }
          ],
          "scatterpolar": [
           {
            "marker": {
             "colorbar": {
              "outlinewidth": 0,
              "ticks": ""
             }
            },
            "type": "scatterpolar"
           }
          ],
          "scatterpolargl": [
           {
            "marker": {
             "colorbar": {
              "outlinewidth": 0,
              "ticks": ""
             }
            },
            "type": "scatterpolargl"
           }
          ],
          "scatterternary": [
           {
            "marker": {
             "colorbar": {
              "outlinewidth": 0,
              "ticks": ""
             }
            },
            "type": "scatterternary"
           }
          ],
          "surface": [
           {
            "colorbar": {
             "outlinewidth": 0,
             "ticks": ""
            },
            "colorscale": [
             [
              0,
              "#0d0887"
             ],
             [
              0.1111111111111111,
              "#46039f"
             ],
             [
              0.2222222222222222,
              "#7201a8"
             ],
             [
              0.3333333333333333,
              "#9c179e"
             ],
             [
              0.4444444444444444,
              "#bd3786"
             ],
             [
              0.5555555555555556,
              "#d8576b"
             ],
             [
              0.6666666666666666,
              "#ed7953"
             ],
             [
              0.7777777777777778,
              "#fb9f3a"
             ],
             [
              0.8888888888888888,
              "#fdca26"
             ],
             [
              1,
              "#f0f921"
             ]
            ],
            "type": "surface"
           }
          ],
          "table": [
           {
            "cells": {
             "fill": {
              "color": "#EBF0F8"
             },
             "line": {
              "color": "white"
             }
            },
            "header": {
             "fill": {
              "color": "#C8D4E3"
             },
             "line": {
              "color": "white"
             }
            },
            "type": "table"
           }
          ]
         },
         "layout": {
          "annotationdefaults": {
           "arrowcolor": "#2a3f5f",
           "arrowhead": 0,
           "arrowwidth": 1
          },
          "autotypenumbers": "strict",
          "coloraxis": {
           "colorbar": {
            "outlinewidth": 0,
            "ticks": ""
           }
          },
          "colorscale": {
           "diverging": [
            [
             0,
             "#8e0152"
            ],
            [
             0.1,
             "#c51b7d"
            ],
            [
             0.2,
             "#de77ae"
            ],
            [
             0.3,
             "#f1b6da"
            ],
            [
             0.4,
             "#fde0ef"
            ],
            [
             0.5,
             "#f7f7f7"
            ],
            [
             0.6,
             "#e6f5d0"
            ],
            [
             0.7,
             "#b8e186"
            ],
            [
             0.8,
             "#7fbc41"
            ],
            [
             0.9,
             "#4d9221"
            ],
            [
             1,
             "#276419"
            ]
           ],
           "sequential": [
            [
             0,
             "#0d0887"
            ],
            [
             0.1111111111111111,
             "#46039f"
            ],
            [
             0.2222222222222222,
             "#7201a8"
            ],
            [
             0.3333333333333333,
             "#9c179e"
            ],
            [
             0.4444444444444444,
             "#bd3786"
            ],
            [
             0.5555555555555556,
             "#d8576b"
            ],
            [
             0.6666666666666666,
             "#ed7953"
            ],
            [
             0.7777777777777778,
             "#fb9f3a"
            ],
            [
             0.8888888888888888,
             "#fdca26"
            ],
            [
             1,
             "#f0f921"
            ]
           ],
           "sequentialminus": [
            [
             0,
             "#0d0887"
            ],
            [
             0.1111111111111111,
             "#46039f"
            ],
            [
             0.2222222222222222,
             "#7201a8"
            ],
            [
             0.3333333333333333,
             "#9c179e"
            ],
            [
             0.4444444444444444,
             "#bd3786"
            ],
            [
             0.5555555555555556,
             "#d8576b"
            ],
            [
             0.6666666666666666,
             "#ed7953"
            ],
            [
             0.7777777777777778,
             "#fb9f3a"
            ],
            [
             0.8888888888888888,
             "#fdca26"
            ],
            [
             1,
             "#f0f921"
            ]
           ]
          },
          "colorway": [
           "#636efa",
           "#EF553B",
           "#00cc96",
           "#ab63fa",
           "#FFA15A",
           "#19d3f3",
           "#FF6692",
           "#B6E880",
           "#FF97FF",
           "#FECB52"
          ],
          "font": {
           "color": "#2a3f5f"
          },
          "geo": {
           "bgcolor": "white",
           "lakecolor": "white",
           "landcolor": "#E5ECF6",
           "showlakes": true,
           "showland": true,
           "subunitcolor": "white"
          },
          "hoverlabel": {
           "align": "left"
          },
          "hovermode": "closest",
          "mapbox": {
           "style": "light"
          },
          "paper_bgcolor": "white",
          "plot_bgcolor": "#E5ECF6",
          "polar": {
           "angularaxis": {
            "gridcolor": "white",
            "linecolor": "white",
            "ticks": ""
           },
           "bgcolor": "#E5ECF6",
           "radialaxis": {
            "gridcolor": "white",
            "linecolor": "white",
            "ticks": ""
           }
          },
          "scene": {
           "xaxis": {
            "backgroundcolor": "#E5ECF6",
            "gridcolor": "white",
            "gridwidth": 2,
            "linecolor": "white",
            "showbackground": true,
            "ticks": "",
            "zerolinecolor": "white"
           },
           "yaxis": {
            "backgroundcolor": "#E5ECF6",
            "gridcolor": "white",
            "gridwidth": 2,
            "linecolor": "white",
            "showbackground": true,
            "ticks": "",
            "zerolinecolor": "white"
           },
           "zaxis": {
            "backgroundcolor": "#E5ECF6",
            "gridcolor": "white",
            "gridwidth": 2,
            "linecolor": "white",
            "showbackground": true,
            "ticks": "",
            "zerolinecolor": "white"
           }
          },
          "shapedefaults": {
           "line": {
            "color": "#2a3f5f"
           }
          },
          "ternary": {
           "aaxis": {
            "gridcolor": "white",
            "linecolor": "white",
            "ticks": ""
           },
           "baxis": {
            "gridcolor": "white",
            "linecolor": "white",
            "ticks": ""
           },
           "bgcolor": "#E5ECF6",
           "caxis": {
            "gridcolor": "white",
            "linecolor": "white",
            "ticks": ""
           }
          },
          "title": {
           "x": 0.05
          },
          "xaxis": {
           "automargin": true,
           "gridcolor": "white",
           "linecolor": "white",
           "ticks": "",
           "title": {
            "standoff": 15
           },
           "zerolinecolor": "white",
           "zerolinewidth": 2
          },
          "yaxis": {
           "automargin": true,
           "gridcolor": "white",
           "linecolor": "white",
           "ticks": "",
           "title": {
            "standoff": 15
           },
           "zerolinecolor": "white",
           "zerolinewidth": 2
          }
         }
        },
        "title": {
         "text": "Error Heatmap: Hour of Day vs Forecast Lead Time"
        },
        "xaxis": {
         "anchor": "y",
         "domain": [
          0,
          1
         ],
         "title": {
          "text": "Hours Ahead"
         }
        },
        "yaxis": {
         "anchor": "x",
         "autorange": "reversed",
         "domain": [
          0,
          1
         ],
         "title": {
          "text": "Hour of Day (EST)"
         }
        }
       }
      }
     },
     "metadata": {},
     "output_type": "display_data"
    },
    {
     "name": "stdout",
     "output_type": "stream",
     "text": [
      "\n",
      "Summary Statistics:\n",
      "Overall Mean Absolute Error: 1.25°F\n",
      "Median Absolute Error: 0.94°F\n",
      "\n",
      "Mean Absolute Error by Lead Time:\n",
      "hours_ahead\n",
      "1     1.18\n",
      "2     0.97\n",
      "3     0.96\n",
      "4     0.96\n",
      "5     0.83\n",
      "6     0.48\n",
      "7     0.32\n",
      "8     0.39\n",
      "9     0.54\n",
      "10    0.59\n",
      "11    0.57\n",
      "12    0.78\n",
      "13    1.21\n",
      "14    1.43\n",
      "15    1.38\n",
      "16    1.43\n",
      "17    1.58\n",
      "18    1.78\n",
      "19    2.02\n",
      "20    2.35\n",
      "21    3.01\n",
      "22    3.75\n",
      "23    4.41\n",
      "24    5.09\n",
      "Name: error_magnitude, dtype: float64\n"
     ]
    },
    {
     "data": {
      "application/vnd.plotly.v1+json": {
       "config": {
        "plotlyServerURL": "https://plot.ly"
       },
       "data": [
        {
         "hovertemplate": "Hours Ahead of Forecast=%{x}<br>Absolute Error (°F)=%{y}<extra></extra>",
         "legendgroup": "",
         "marker": {
          "color": "#636efa",
          "opacity": 0.5,
          "symbol": "circle"
         },
         "mode": "markers",
         "name": "",
         "orientation": "v",
         "showlegend": false,
         "type": "scatter",
         "x": [
          10,
          9,
          8,
          7,
          6,
          5,
          4,
          3,
          2,
          1,
          11,
          10,
          9,
          8,
          7,
          6,
          5,
          4,
          3,
          2,
          1,
          12,
          11,
          10,
          9,
          8,
          7,
          6,
          5,
          4,
          3,
          2,
          1,
          13,
          12,
          11,
          10,
          9,
          8,
          7,
          6,
          5,
          4,
          3,
          2,
          14,
          13,
          12,
          11,
          10,
          9,
          8,
          7,
          6,
          5,
          4,
          3,
          15,
          14,
          13,
          12,
          11,
          10,
          9,
          8,
          7,
          6,
          5,
          4,
          16,
          15,
          14,
          13,
          12,
          11,
          10,
          9,
          8,
          7,
          6,
          5,
          17,
          16,
          15,
          14,
          13,
          12,
          11,
          10,
          9,
          8,
          7,
          6,
          18,
          17,
          16,
          15,
          14,
          13,
          12,
          11,
          10,
          9,
          8,
          7,
          19,
          18,
          17,
          16,
          15,
          14,
          13,
          12,
          11,
          10,
          9,
          8,
          20,
          19,
          18,
          17,
          16,
          15,
          14,
          13,
          12,
          11,
          10,
          9,
          21,
          20,
          19,
          18,
          17,
          16,
          15,
          14,
          13,
          12,
          11,
          10,
          22,
          21,
          20,
          19,
          18,
          17,
          16,
          15,
          14,
          13,
          12,
          11,
          23,
          22,
          21,
          20,
          19,
          18,
          17,
          16,
          15,
          14,
          13,
          12,
          24,
          23,
          22,
          21,
          20,
          19,
          18,
          17,
          16,
          15,
          14,
          13,
          24,
          23,
          22,
          21,
          20,
          19,
          18,
          17,
          16,
          15,
          14
         ],
         "xaxis": "x",
         "y": [
          2.020000000000003,
          2.020000000000003,
          0.020000000000003126,
          0.020000000000003126,
          0.020000000000003126,
          2.020000000000003,
          2.020000000000003,
          2.020000000000003,
          2.020000000000003,
          2.020000000000003,
          1.480000000000004,
          1.480000000000004,
          0.480000000000004,
          0.480000000000004,
          0.480000000000004,
          1.480000000000004,
          1.480000000000004,
          1.480000000000004,
          1.480000000000004,
          1.480000000000004,
          1.480000000000004,
          0.03999999999999915,
          0.03999999999999915,
          0.03999999999999915,
          0.03999999999999915,
          0.03999999999999915,
          0.03999999999999915,
          0.03999999999999915,
          0.03999999999999915,
          0.03999999999999915,
          0.03999999999999915,
          0.03999999999999915,
          0.03999999999999915,
          0.3200000000000003,
          0.3200000000000003,
          0.3200000000000003,
          0.3200000000000003,
          0.3200000000000003,
          0.3200000000000003,
          0.3200000000000003,
          0.3200000000000003,
          0.3200000000000003,
          0.3200000000000003,
          0.3200000000000003,
          0.3200000000000003,
          1.9399999999999977,
          1.9399999999999977,
          0.9399999999999977,
          0.9399999999999977,
          0.9399999999999977,
          0.9399999999999977,
          0.9399999999999977,
          0.9399999999999977,
          0.9399999999999977,
          0.9399999999999977,
          0.9399999999999977,
          0.9399999999999977,
          0.9399999999999977,
          0.9399999999999977,
          0.9399999999999977,
          0.9399999999999977,
          0.9399999999999977,
          0.9399999999999977,
          0.9399999999999977,
          0.9399999999999977,
          0.9399999999999977,
          0.9399999999999977,
          0.9399999999999977,
          0.9399999999999977,
          0.03999999999999915,
          0.03999999999999915,
          0.03999999999999915,
          0.03999999999999915,
          0.03999999999999915,
          0.03999999999999915,
          0.03999999999999915,
          0.03999999999999915,
          0.03999999999999915,
          0.03999999999999915,
          0.03999999999999915,
          0.03999999999999915,
          0.03999999999999915,
          0.03999999999999915,
          0.03999999999999915,
          0.03999999999999915,
          0.03999999999999915,
          0.03999999999999915,
          0.03999999999999915,
          0.03999999999999915,
          0.03999999999999915,
          0.03999999999999915,
          0.03999999999999915,
          0.03999999999999915,
          0.03999999999999915,
          0.03999999999999915,
          0.03999999999999915,
          0.03999999999999915,
          0.03999999999999915,
          0.03999999999999915,
          0.03999999999999915,
          0.03999999999999915,
          0.03999999999999915,
          0.03999999999999915,
          0.03999999999999915,
          0.03999999999999915,
          1.0399999999999991,
          1.0399999999999991,
          1.0399999999999991,
          1.0399999999999991,
          1.0399999999999991,
          1.0399999999999991,
          1.0399999999999991,
          1.0399999999999991,
          1.0399999999999991,
          1.0399999999999991,
          1.0399999999999991,
          1.0399999999999991,
          0.060000000000002274,
          0.060000000000002274,
          0.060000000000002274,
          0.060000000000002274,
          0.060000000000002274,
          0.060000000000002274,
          0.060000000000002274,
          0.060000000000002274,
          0.060000000000002274,
          0.060000000000002274,
          0.060000000000002274,
          0.060000000000002274,
          1.0600000000000023,
          1.0600000000000023,
          0.060000000000002274,
          0.060000000000002274,
          0.060000000000002274,
          0.060000000000002274,
          0.060000000000002274,
          0.060000000000002274,
          0.060000000000002274,
          0.060000000000002274,
          0.060000000000002274,
          0.060000000000002274,
          2.780000000000001,
          2.780000000000001,
          1.7800000000000011,
          1.7800000000000011,
          1.7800000000000011,
          1.7800000000000011,
          1.7800000000000011,
          1.7800000000000011,
          1.7800000000000011,
          1.7800000000000011,
          1.7800000000000011,
          1.7800000000000011,
          5.039999999999999,
          5.039999999999999,
          4.039999999999999,
          4.039999999999999,
          4.039999999999999,
          4.039999999999999,
          4.039999999999999,
          4.039999999999999,
          4.039999999999999,
          4.039999999999999,
          4.039999999999999,
          4.039999999999999,
          5.219999999999999,
          5.219999999999999,
          4.219999999999999,
          4.219999999999999,
          4.219999999999999,
          4.219999999999999,
          4.219999999999999,
          4.219999999999999,
          4.219999999999999,
          4.219999999999999,
          4.219999999999999,
          4.219999999999999,
          4.960000000000001,
          2.960000000000001,
          2.960000000000001,
          2.960000000000001,
          2.960000000000001,
          2.960000000000001,
          2.960000000000001,
          2.960000000000001,
          2.960000000000001,
          2.960000000000001,
          2.960000000000001
         ],
         "yaxis": "y"
        },
        {
         "hovertemplate": "<b>OLS trendline</b><br>error_magnitude = 0.129747 * hours_ahead + -0.324806<br>R<sup>2</sup>=0.239632<br><br>Hours Ahead of Forecast=%{x}<br>Absolute Error (°F)=%{y} <b>(trend)</b><extra></extra>",
         "legendgroup": "",
         "marker": {
          "color": "#636efa",
          "symbol": "circle"
         },
         "mode": "lines",
         "name": "",
         "showlegend": false,
         "type": "scatter",
         "x": [
          1,
          1,
          1,
          2,
          2,
          2,
          2,
          3,
          3,
          3,
          3,
          3,
          4,
          4,
          4,
          4,
          4,
          4,
          5,
          5,
          5,
          5,
          5,
          5,
          5,
          6,
          6,
          6,
          6,
          6,
          6,
          6,
          6,
          7,
          7,
          7,
          7,
          7,
          7,
          7,
          7,
          7,
          8,
          8,
          8,
          8,
          8,
          8,
          8,
          8,
          8,
          8,
          9,
          9,
          9,
          9,
          9,
          9,
          9,
          9,
          9,
          9,
          9,
          10,
          10,
          10,
          10,
          10,
          10,
          10,
          10,
          10,
          10,
          10,
          10,
          11,
          11,
          11,
          11,
          11,
          11,
          11,
          11,
          11,
          11,
          11,
          11,
          12,
          12,
          12,
          12,
          12,
          12,
          12,
          12,
          12,
          12,
          12,
          12,
          13,
          13,
          13,
          13,
          13,
          13,
          13,
          13,
          13,
          13,
          13,
          13,
          14,
          14,
          14,
          14,
          14,
          14,
          14,
          14,
          14,
          14,
          14,
          14,
          15,
          15,
          15,
          15,
          15,
          15,
          15,
          15,
          15,
          15,
          15,
          16,
          16,
          16,
          16,
          16,
          16,
          16,
          16,
          16,
          16,
          17,
          17,
          17,
          17,
          17,
          17,
          17,
          17,
          17,
          18,
          18,
          18,
          18,
          18,
          18,
          18,
          18,
          19,
          19,
          19,
          19,
          19,
          19,
          19,
          20,
          20,
          20,
          20,
          20,
          20,
          21,
          21,
          21,
          21,
          21,
          22,
          22,
          22,
          22,
          23,
          23,
          23,
          24,
          24
         ],
         "xaxis": "x",
         "y": [
          -0.19505876246616916,
          -0.19505876246616916,
          -0.19505876246616916,
          -0.06531160790419988,
          -0.06531160790419988,
          -0.06531160790419988,
          -0.06531160790419988,
          0.0644355466577694,
          0.0644355466577694,
          0.0644355466577694,
          0.0644355466577694,
          0.0644355466577694,
          0.19418270121973868,
          0.19418270121973868,
          0.19418270121973868,
          0.19418270121973868,
          0.19418270121973868,
          0.19418270121973868,
          0.32392985578170796,
          0.32392985578170796,
          0.32392985578170796,
          0.32392985578170796,
          0.32392985578170796,
          0.32392985578170796,
          0.32392985578170796,
          0.45367701034367724,
          0.45367701034367724,
          0.45367701034367724,
          0.45367701034367724,
          0.45367701034367724,
          0.45367701034367724,
          0.45367701034367724,
          0.45367701034367724,
          0.5834241649056465,
          0.5834241649056465,
          0.5834241649056465,
          0.5834241649056465,
          0.5834241649056465,
          0.5834241649056465,
          0.5834241649056465,
          0.5834241649056465,
          0.5834241649056465,
          0.7131713194676158,
          0.7131713194676158,
          0.7131713194676158,
          0.7131713194676158,
          0.7131713194676158,
          0.7131713194676158,
          0.7131713194676158,
          0.7131713194676158,
          0.7131713194676158,
          0.7131713194676158,
          0.8429184740295851,
          0.8429184740295851,
          0.8429184740295851,
          0.8429184740295851,
          0.8429184740295851,
          0.8429184740295851,
          0.8429184740295851,
          0.8429184740295851,
          0.8429184740295851,
          0.8429184740295851,
          0.8429184740295851,
          0.9726656285915544,
          0.9726656285915544,
          0.9726656285915544,
          0.9726656285915544,
          0.9726656285915544,
          0.9726656285915544,
          0.9726656285915544,
          0.9726656285915544,
          0.9726656285915544,
          0.9726656285915544,
          0.9726656285915544,
          0.9726656285915544,
          1.1024127831535235,
          1.1024127831535235,
          1.1024127831535235,
          1.1024127831535235,
          1.1024127831535235,
          1.1024127831535235,
          1.1024127831535235,
          1.1024127831535235,
          1.1024127831535235,
          1.1024127831535235,
          1.1024127831535235,
          1.1024127831535235,
          1.232159937715493,
          1.232159937715493,
          1.232159937715493,
          1.232159937715493,
          1.232159937715493,
          1.232159937715493,
          1.232159937715493,
          1.232159937715493,
          1.232159937715493,
          1.232159937715493,
          1.232159937715493,
          1.232159937715493,
          1.361907092277462,
          1.361907092277462,
          1.361907092277462,
          1.361907092277462,
          1.361907092277462,
          1.361907092277462,
          1.361907092277462,
          1.361907092277462,
          1.361907092277462,
          1.361907092277462,
          1.361907092277462,
          1.361907092277462,
          1.4916542468394316,
          1.4916542468394316,
          1.4916542468394316,
          1.4916542468394316,
          1.4916542468394316,
          1.4916542468394316,
          1.4916542468394316,
          1.4916542468394316,
          1.4916542468394316,
          1.4916542468394316,
          1.4916542468394316,
          1.4916542468394316,
          1.6214014014014007,
          1.6214014014014007,
          1.6214014014014007,
          1.6214014014014007,
          1.6214014014014007,
          1.6214014014014007,
          1.6214014014014007,
          1.6214014014014007,
          1.6214014014014007,
          1.6214014014014007,
          1.6214014014014007,
          1.7511485559633702,
          1.7511485559633702,
          1.7511485559633702,
          1.7511485559633702,
          1.7511485559633702,
          1.7511485559633702,
          1.7511485559633702,
          1.7511485559633702,
          1.7511485559633702,
          1.7511485559633702,
          1.8808957105253397,
          1.8808957105253397,
          1.8808957105253397,
          1.8808957105253397,
          1.8808957105253397,
          1.8808957105253397,
          1.8808957105253397,
          1.8808957105253397,
          1.8808957105253397,
          2.0106428650873087,
          2.0106428650873087,
          2.0106428650873087,
          2.0106428650873087,
          2.0106428650873087,
          2.0106428650873087,
          2.0106428650873087,
          2.0106428650873087,
          2.1403900196492778,
          2.1403900196492778,
          2.1403900196492778,
          2.1403900196492778,
          2.1403900196492778,
          2.1403900196492778,
          2.1403900196492778,
          2.2701371742112473,
          2.2701371742112473,
          2.2701371742112473,
          2.2701371742112473,
          2.2701371742112473,
          2.2701371742112473,
          2.399884328773217,
          2.399884328773217,
          2.399884328773217,
          2.399884328773217,
          2.399884328773217,
          2.529631483335186,
          2.529631483335186,
          2.529631483335186,
          2.529631483335186,
          2.659378637897155,
          2.659378637897155,
          2.659378637897155,
          2.7891257924591244,
          2.7891257924591244
         ],
         "yaxis": "y"
        }
       ],
       "layout": {
        "legend": {
         "tracegroupgap": 0
        },
        "template": {
         "data": {
          "bar": [
           {
            "error_x": {
             "color": "#2a3f5f"
            },
            "error_y": {
             "color": "#2a3f5f"
            },
            "marker": {
             "line": {
              "color": "#E5ECF6",
              "width": 0.5
             },
             "pattern": {
              "fillmode": "overlay",
              "size": 10,
              "solidity": 0.2
             }
            },
            "type": "bar"
           }
          ],
          "barpolar": [
           {
            "marker": {
             "line": {
              "color": "#E5ECF6",
              "width": 0.5
             },
             "pattern": {
              "fillmode": "overlay",
              "size": 10,
              "solidity": 0.2
             }
            },
            "type": "barpolar"
           }
          ],
          "carpet": [
           {
            "aaxis": {
             "endlinecolor": "#2a3f5f",
             "gridcolor": "white",
             "linecolor": "white",
             "minorgridcolor": "white",
             "startlinecolor": "#2a3f5f"
            },
            "baxis": {
             "endlinecolor": "#2a3f5f",
             "gridcolor": "white",
             "linecolor": "white",
             "minorgridcolor": "white",
             "startlinecolor": "#2a3f5f"
            },
            "type": "carpet"
           }
          ],
          "choropleth": [
           {
            "colorbar": {
             "outlinewidth": 0,
             "ticks": ""
            },
            "type": "choropleth"
           }
          ],
          "contour": [
           {
            "colorbar": {
             "outlinewidth": 0,
             "ticks": ""
            },
            "colorscale": [
             [
              0,
              "#0d0887"
             ],
             [
              0.1111111111111111,
              "#46039f"
             ],
             [
              0.2222222222222222,
              "#7201a8"
             ],
             [
              0.3333333333333333,
              "#9c179e"
             ],
             [
              0.4444444444444444,
              "#bd3786"
             ],
             [
              0.5555555555555556,
              "#d8576b"
             ],
             [
              0.6666666666666666,
              "#ed7953"
             ],
             [
              0.7777777777777778,
              "#fb9f3a"
             ],
             [
              0.8888888888888888,
              "#fdca26"
             ],
             [
              1,
              "#f0f921"
             ]
            ],
            "type": "contour"
           }
          ],
          "contourcarpet": [
           {
            "colorbar": {
             "outlinewidth": 0,
             "ticks": ""
            },
            "type": "contourcarpet"
           }
          ],
          "heatmap": [
           {
            "colorbar": {
             "outlinewidth": 0,
             "ticks": ""
            },
            "colorscale": [
             [
              0,
              "#0d0887"
             ],
             [
              0.1111111111111111,
              "#46039f"
             ],
             [
              0.2222222222222222,
              "#7201a8"
             ],
             [
              0.3333333333333333,
              "#9c179e"
             ],
             [
              0.4444444444444444,
              "#bd3786"
             ],
             [
              0.5555555555555556,
              "#d8576b"
             ],
             [
              0.6666666666666666,
              "#ed7953"
             ],
             [
              0.7777777777777778,
              "#fb9f3a"
             ],
             [
              0.8888888888888888,
              "#fdca26"
             ],
             [
              1,
              "#f0f921"
             ]
            ],
            "type": "heatmap"
           }
          ],
          "heatmapgl": [
           {
            "colorbar": {
             "outlinewidth": 0,
             "ticks": ""
            },
            "colorscale": [
             [
              0,
              "#0d0887"
             ],
             [
              0.1111111111111111,
              "#46039f"
             ],
             [
              0.2222222222222222,
              "#7201a8"
             ],
             [
              0.3333333333333333,
              "#9c179e"
             ],
             [
              0.4444444444444444,
              "#bd3786"
             ],
             [
              0.5555555555555556,
              "#d8576b"
             ],
             [
              0.6666666666666666,
              "#ed7953"
             ],
             [
              0.7777777777777778,
              "#fb9f3a"
             ],
             [
              0.8888888888888888,
              "#fdca26"
             ],
             [
              1,
              "#f0f921"
             ]
            ],
            "type": "heatmapgl"
           }
          ],
          "histogram": [
           {
            "marker": {
             "pattern": {
              "fillmode": "overlay",
              "size": 10,
              "solidity": 0.2
             }
            },
            "type": "histogram"
           }
          ],
          "histogram2d": [
           {
            "colorbar": {
             "outlinewidth": 0,
             "ticks": ""
            },
            "colorscale": [
             [
              0,
              "#0d0887"
             ],
             [
              0.1111111111111111,
              "#46039f"
             ],
             [
              0.2222222222222222,
              "#7201a8"
             ],
             [
              0.3333333333333333,
              "#9c179e"
             ],
             [
              0.4444444444444444,
              "#bd3786"
             ],
             [
              0.5555555555555556,
              "#d8576b"
             ],
             [
              0.6666666666666666,
              "#ed7953"
             ],
             [
              0.7777777777777778,
              "#fb9f3a"
             ],
             [
              0.8888888888888888,
              "#fdca26"
             ],
             [
              1,
              "#f0f921"
             ]
            ],
            "type": "histogram2d"
           }
          ],
          "histogram2dcontour": [
           {
            "colorbar": {
             "outlinewidth": 0,
             "ticks": ""
            },
            "colorscale": [
             [
              0,
              "#0d0887"
             ],
             [
              0.1111111111111111,
              "#46039f"
             ],
             [
              0.2222222222222222,
              "#7201a8"
             ],
             [
              0.3333333333333333,
              "#9c179e"
             ],
             [
              0.4444444444444444,
              "#bd3786"
             ],
             [
              0.5555555555555556,
              "#d8576b"
             ],
             [
              0.6666666666666666,
              "#ed7953"
             ],
             [
              0.7777777777777778,
              "#fb9f3a"
             ],
             [
              0.8888888888888888,
              "#fdca26"
             ],
             [
              1,
              "#f0f921"
             ]
            ],
            "type": "histogram2dcontour"
           }
          ],
          "mesh3d": [
           {
            "colorbar": {
             "outlinewidth": 0,
             "ticks": ""
            },
            "type": "mesh3d"
           }
          ],
          "parcoords": [
           {
            "line": {
             "colorbar": {
              "outlinewidth": 0,
              "ticks": ""
             }
            },
            "type": "parcoords"
           }
          ],
          "pie": [
           {
            "automargin": true,
            "type": "pie"
           }
          ],
          "scatter": [
           {
            "fillpattern": {
             "fillmode": "overlay",
             "size": 10,
             "solidity": 0.2
            },
            "type": "scatter"
           }
          ],
          "scatter3d": [
           {
            "line": {
             "colorbar": {
              "outlinewidth": 0,
              "ticks": ""
             }
            },
            "marker": {
             "colorbar": {
              "outlinewidth": 0,
              "ticks": ""
             }
            },
            "type": "scatter3d"
           }
          ],
          "scattercarpet": [
           {
            "marker": {
             "colorbar": {
              "outlinewidth": 0,
              "ticks": ""
             }
            },
            "type": "scattercarpet"
           }
          ],
          "scattergeo": [
           {
            "marker": {
             "colorbar": {
              "outlinewidth": 0,
              "ticks": ""
             }
            },
            "type": "scattergeo"
           }
          ],
          "scattergl": [
           {
            "marker": {
             "colorbar": {
              "outlinewidth": 0,
              "ticks": ""
             }
            },
            "type": "scattergl"
           }
          ],
          "scattermapbox": [
           {
            "marker": {
             "colorbar": {
              "outlinewidth": 0,
              "ticks": ""
             }
            },
            "type": "scattermapbox"
           }
          ],
          "scatterpolar": [
           {
            "marker": {
             "colorbar": {
              "outlinewidth": 0,
              "ticks": ""
             }
            },
            "type": "scatterpolar"
           }
          ],
          "scatterpolargl": [
           {
            "marker": {
             "colorbar": {
              "outlinewidth": 0,
              "ticks": ""
             }
            },
            "type": "scatterpolargl"
           }
          ],
          "scatterternary": [
           {
            "marker": {
             "colorbar": {
              "outlinewidth": 0,
              "ticks": ""
             }
            },
            "type": "scatterternary"
           }
          ],
          "surface": [
           {
            "colorbar": {
             "outlinewidth": 0,
             "ticks": ""
            },
            "colorscale": [
             [
              0,
              "#0d0887"
             ],
             [
              0.1111111111111111,
              "#46039f"
             ],
             [
              0.2222222222222222,
              "#7201a8"
             ],
             [
              0.3333333333333333,
              "#9c179e"
             ],
             [
              0.4444444444444444,
              "#bd3786"
             ],
             [
              0.5555555555555556,
              "#d8576b"
             ],
             [
              0.6666666666666666,
              "#ed7953"
             ],
             [
              0.7777777777777778,
              "#fb9f3a"
             ],
             [
              0.8888888888888888,
              "#fdca26"
             ],
             [
              1,
              "#f0f921"
             ]
            ],
            "type": "surface"
           }
          ],
          "table": [
           {
            "cells": {
             "fill": {
              "color": "#EBF0F8"
             },
             "line": {
              "color": "white"
             }
            },
            "header": {
             "fill": {
              "color": "#C8D4E3"
             },
             "line": {
              "color": "white"
             }
            },
            "type": "table"
           }
          ]
         },
         "layout": {
          "annotationdefaults": {
           "arrowcolor": "#2a3f5f",
           "arrowhead": 0,
           "arrowwidth": 1
          },
          "autotypenumbers": "strict",
          "coloraxis": {
           "colorbar": {
            "outlinewidth": 0,
            "ticks": ""
           }
          },
          "colorscale": {
           "diverging": [
            [
             0,
             "#8e0152"
            ],
            [
             0.1,
             "#c51b7d"
            ],
            [
             0.2,
             "#de77ae"
            ],
            [
             0.3,
             "#f1b6da"
            ],
            [
             0.4,
             "#fde0ef"
            ],
            [
             0.5,
             "#f7f7f7"
            ],
            [
             0.6,
             "#e6f5d0"
            ],
            [
             0.7,
             "#b8e186"
            ],
            [
             0.8,
             "#7fbc41"
            ],
            [
             0.9,
             "#4d9221"
            ],
            [
             1,
             "#276419"
            ]
           ],
           "sequential": [
            [
             0,
             "#0d0887"
            ],
            [
             0.1111111111111111,
             "#46039f"
            ],
            [
             0.2222222222222222,
             "#7201a8"
            ],
            [
             0.3333333333333333,
             "#9c179e"
            ],
            [
             0.4444444444444444,
             "#bd3786"
            ],
            [
             0.5555555555555556,
             "#d8576b"
            ],
            [
             0.6666666666666666,
             "#ed7953"
            ],
            [
             0.7777777777777778,
             "#fb9f3a"
            ],
            [
             0.8888888888888888,
             "#fdca26"
            ],
            [
             1,
             "#f0f921"
            ]
           ],
           "sequentialminus": [
            [
             0,
             "#0d0887"
            ],
            [
             0.1111111111111111,
             "#46039f"
            ],
            [
             0.2222222222222222,
             "#7201a8"
            ],
            [
             0.3333333333333333,
             "#9c179e"
            ],
            [
             0.4444444444444444,
             "#bd3786"
            ],
            [
             0.5555555555555556,
             "#d8576b"
            ],
            [
             0.6666666666666666,
             "#ed7953"
            ],
            [
             0.7777777777777778,
             "#fb9f3a"
            ],
            [
             0.8888888888888888,
             "#fdca26"
            ],
            [
             1,
             "#f0f921"
            ]
           ]
          },
          "colorway": [
           "#636efa",
           "#EF553B",
           "#00cc96",
           "#ab63fa",
           "#FFA15A",
           "#19d3f3",
           "#FF6692",
           "#B6E880",
           "#FF97FF",
           "#FECB52"
          ],
          "font": {
           "color": "#2a3f5f"
          },
          "geo": {
           "bgcolor": "white",
           "lakecolor": "white",
           "landcolor": "#E5ECF6",
           "showlakes": true,
           "showland": true,
           "subunitcolor": "white"
          },
          "hoverlabel": {
           "align": "left"
          },
          "hovermode": "closest",
          "mapbox": {
           "style": "light"
          },
          "paper_bgcolor": "white",
          "plot_bgcolor": "#E5ECF6",
          "polar": {
           "angularaxis": {
            "gridcolor": "white",
            "linecolor": "white",
            "ticks": ""
           },
           "bgcolor": "#E5ECF6",
           "radialaxis": {
            "gridcolor": "white",
            "linecolor": "white",
            "ticks": ""
           }
          },
          "scene": {
           "xaxis": {
            "backgroundcolor": "#E5ECF6",
            "gridcolor": "white",
            "gridwidth": 2,
            "linecolor": "white",
            "showbackground": true,
            "ticks": "",
            "zerolinecolor": "white"
           },
           "yaxis": {
            "backgroundcolor": "#E5ECF6",
            "gridcolor": "white",
            "gridwidth": 2,
            "linecolor": "white",
            "showbackground": true,
            "ticks": "",
            "zerolinecolor": "white"
           },
           "zaxis": {
            "backgroundcolor": "#E5ECF6",
            "gridcolor": "white",
            "gridwidth": 2,
            "linecolor": "white",
            "showbackground": true,
            "ticks": "",
            "zerolinecolor": "white"
           }
          },
          "shapedefaults": {
           "line": {
            "color": "#2a3f5f"
           }
          },
          "ternary": {
           "aaxis": {
            "gridcolor": "white",
            "linecolor": "white",
            "ticks": ""
           },
           "baxis": {
            "gridcolor": "white",
            "linecolor": "white",
            "ticks": ""
           },
           "bgcolor": "#E5ECF6",
           "caxis": {
            "gridcolor": "white",
            "linecolor": "white",
            "ticks": ""
           }
          },
          "title": {
           "x": 0.05
          },
          "xaxis": {
           "automargin": true,
           "gridcolor": "white",
           "linecolor": "white",
           "ticks": "",
           "title": {
            "standoff": 15
           },
           "zerolinecolor": "white",
           "zerolinewidth": 2
          },
          "yaxis": {
           "automargin": true,
           "gridcolor": "white",
           "linecolor": "white",
           "ticks": "",
           "title": {
            "standoff": 15
           },
           "zerolinecolor": "white",
           "zerolinewidth": 2
          }
         }
        },
        "title": {
         "text": "Forecast Error vs Lead Time with Trend"
        },
        "xaxis": {
         "anchor": "y",
         "domain": [
          0,
          1
         ],
         "title": {
          "text": "Hours Ahead of Forecast"
         }
        },
        "yaxis": {
         "anchor": "x",
         "domain": [
          0,
          1
         ],
         "title": {
          "text": "Absolute Error (°F)"
         }
        }
       }
      }
     },
     "metadata": {},
     "output_type": "display_data"
    }
   ],
   "source": [
    "def analyze_forecast_accuracy(df_forecasts, df_observations, grouped_forecasts):\n",
    "    \"\"\"Analyze and visualize forecast accuracy from multiple perspectives.\"\"\"\n",
    "    accuracy_data = []\n",
    "    \n",
    "    for forecast_time_hour, group in grouped_forecasts:\n",
    "        hour_observations = df_observations[\n",
    "            (df_observations['observed_time'] >= forecast_time_hour) &\n",
    "            (df_observations['observed_time'] < forecast_time_hour + timedelta(hours=1))\n",
    "        ]\n",
    "        \n",
    "        if not hour_observations.empty:\n",
    "            actual_temp = hour_observations['temperature'].mean()\n",
    "            \n",
    "            for _, forecast in group.iterrows():\n",
    "                hours_ahead = (forecast_time_hour - forecast['created_at']).total_seconds() / 3600\n",
    "                error = forecast['temperature'] - actual_temp\n",
    "                accuracy_data.append({\n",
    "                    'forecast_time': forecast_time_hour,\n",
    "                    'hours_ahead': round(hours_ahead),  # Round to nearest hour for better grouping\n",
    "                    'error': error,\n",
    "                    'actual_temp': actual_temp,\n",
    "                    'forecast_temp': forecast['temperature'],\n",
    "                    'error_magnitude': abs(error),\n",
    "                    'hour_of_day': forecast_time_hour.hour,\n",
    "                    'date': forecast_time_hour.date()\n",
    "                })\n",
    "    \n",
    "    df_accuracy = pd.DataFrame(accuracy_data)\n",
    "    \n",
    "    import plotly.express as px\n",
    "    import plotly.graph_objects as go\n",
    "    from plotly.subplots import make_subplots\n",
    "    \n",
    "    # 1. Box plot of errors by hours ahead\n",
    "    fig1 = px.box(df_accuracy, \n",
    "                  x='hours_ahead',\n",
    "                  y='error',\n",
    "                  title='Distribution of Forecast Errors by Lead Time',\n",
    "                  labels={'hours_ahead': 'Hours Ahead of Forecast',\n",
    "                         'error': 'Forecast Error (°F)'})\n",
    "    fig1.show()\n",
    "    \n",
    "    # 2. Average absolute error by hour of day\n",
    "\n",
    "    \n",
    "    # In this graph, hour_of_day comes from forecast_time_hour which is derived from forecast_time in our data processing:\n",
    "    # So this graph shows the average error magnitude for each hour of the day that was being forecast for (the forecast_time), not when the forecast was made (created_at).\n",
    "    #     For example, if the bar at hour 14 (2 PM EST) shows an error of 3°F, this means:\n",
    "    #         For all forecasts that were predicting the temperature at 2 PM\n",
    "    #         Regardless of when those forecasts were made (could be 6 hours ahead, 12 hours ahead, etc.)\n",
    "    #         The average absolute error was 3°F\n",
    "    \n",
    "    hourly_mae = df_accuracy.groupby('hour_of_day')['error_magnitude'].mean().reset_index()\n",
    "    fig2 = px.bar(hourly_mae,\n",
    "                  x='hour_of_day',\n",
    "                  y='error_magnitude',\n",
    "                  title='Average Forecast Error by Hour of Day (EST)',\n",
    "                  labels={'hour_of_day': 'Hour of Day (EST)',\n",
    "                         'error_magnitude': 'Mean Absolute Error (°F)'})\n",
    "    fig2.show()\n",
    "    \n",
    "    # 3. Heatmap of average absolute error by hour of day and hours ahead\n",
    "    pivot_data = df_accuracy.pivot_table(\n",
    "        values='error_magnitude',\n",
    "        index='hour_of_day',\n",
    "        columns='hours_ahead',\n",
    "        aggfunc='mean'\n",
    "    )\n",
    "    \n",
    "    fig3 = px.imshow(pivot_data,\n",
    "                     title='Error Heatmap: Hour of Day vs Forecast Lead Time',\n",
    "                     labels=dict(x='Hours Ahead', y='Hour of Day (EST)', color='Mean Absolute Error (°F)'),\n",
    "                     aspect='auto',\n",
    "                     color_continuous_scale='RdYlBu_r')\n",
    "    fig3.show()\n",
    "    \n",
    "    # 4. Summary statistics\n",
    "    print(\"\\nSummary Statistics:\")\n",
    "    print(f\"Overall Mean Absolute Error: {df_accuracy['error_magnitude'].mean():.2f}°F\")\n",
    "    print(f\"Median Absolute Error: {df_accuracy['error_magnitude'].median():.2f}°F\")\n",
    "    print(\"\\nMean Absolute Error by Lead Time:\")\n",
    "    print(df_accuracy.groupby('hours_ahead')['error_magnitude'].mean().round(2))\n",
    "    \n",
    "    # 5. Scatter plot with simple linear trendline instead of LOWESS\n",
    "    fig4 = px.scatter(df_accuracy,\n",
    "                      x='hours_ahead',\n",
    "                      y='error_magnitude',\n",
    "                      trendline=\"ols\",  # Changed from \"lowess\" to \"ols\" (linear)\n",
    "                      title='Forecast Error vs Lead Time with Trend',\n",
    "                      labels={'hours_ahead': 'Hours Ahead of Forecast',\n",
    "                             'error_magnitude': 'Absolute Error (°F)'},\n",
    "                      opacity=0.5)\n",
    "    fig4.show()\n",
    "    \n",
    "    return df_accuracy\n",
    "\n",
    "# Run the analysis\n",
    "df_accuracy = analyze_forecast_accuracy(df_forecasts, df_observations, grouped_forecasts)"
   ]
  },
  {
   "cell_type": "code",
   "execution_count": 71,
   "metadata": {},
   "outputs": [
    {
     "data": {
      "application/vnd.plotly.v1+json": {
       "config": {
        "plotlyServerURL": "https://plot.ly"
       },
       "data": [
        {
         "alignmentgroup": "True",
         "customdata": [
          [
           3
          ],
          [
           4
          ],
          [
           5
          ],
          [
           6
          ],
          [
           7
          ],
          [
           8
          ],
          [
           9
          ],
          [
           10
          ],
          [
           11
          ],
          [
           12
          ],
          [
           12
          ],
          [
           12
          ],
          [
           12
          ],
          [
           12
          ],
          [
           11
          ],
          [
           10
          ],
          [
           9
          ],
          [
           8
          ],
          [
           7
          ],
          [
           6
          ],
          [
           5
          ],
          [
           4
          ],
          [
           3
          ],
          [
           2
          ]
         ],
         "hovertemplate": "Hours Ahead of Forecast Time=%{x}<br>Mean Absolute Error (°F)=%{y}<br>count=%{customdata[0]}<extra></extra>",
         "legendgroup": "",
         "marker": {
          "color": "#636efa",
          "pattern": {
           "shape": ""
          }
         },
         "name": "",
         "offsetgroup": "",
         "orientation": "v",
         "showlegend": false,
         "textposition": "auto",
         "type": "bar",
         "x": [
          1,
          2,
          3,
          4,
          5,
          6,
          7,
          8,
          9,
          10,
          11,
          12,
          13,
          14,
          15,
          16,
          17,
          18,
          19,
          20,
          21,
          22,
          23,
          24
         ],
         "xaxis": "x",
         "y": [
          1.1800000000000022,
          0.9650000000000016,
          0.9600000000000009,
          0.956666666666667,
          0.8257142857142858,
          0.47750000000000004,
          0.3177777777777777,
          0.38999999999999985,
          0.5418181818181819,
          0.5850000000000003,
          0.5650000000000001,
          0.778333333333333,
          1.2099999999999997,
          1.4299999999999997,
          1.3836363636363636,
          1.4280000000000002,
          1.5822222222222224,
          1.7750000000000004,
          2.0228571428571436,
          2.353333333333334,
          3.0120000000000005,
          3.75,
          4.406666666666666,
          5.09
         ],
         "yaxis": "y"
        }
       ],
       "layout": {
        "barmode": "relative",
        "legend": {
         "tracegroupgap": 0
        },
        "template": {
         "data": {
          "bar": [
           {
            "error_x": {
             "color": "#2a3f5f"
            },
            "error_y": {
             "color": "#2a3f5f"
            },
            "marker": {
             "line": {
              "color": "#E5ECF6",
              "width": 0.5
             },
             "pattern": {
              "fillmode": "overlay",
              "size": 10,
              "solidity": 0.2
             }
            },
            "type": "bar"
           }
          ],
          "barpolar": [
           {
            "marker": {
             "line": {
              "color": "#E5ECF6",
              "width": 0.5
             },
             "pattern": {
              "fillmode": "overlay",
              "size": 10,
              "solidity": 0.2
             }
            },
            "type": "barpolar"
           }
          ],
          "carpet": [
           {
            "aaxis": {
             "endlinecolor": "#2a3f5f",
             "gridcolor": "white",
             "linecolor": "white",
             "minorgridcolor": "white",
             "startlinecolor": "#2a3f5f"
            },
            "baxis": {
             "endlinecolor": "#2a3f5f",
             "gridcolor": "white",
             "linecolor": "white",
             "minorgridcolor": "white",
             "startlinecolor": "#2a3f5f"
            },
            "type": "carpet"
           }
          ],
          "choropleth": [
           {
            "colorbar": {
             "outlinewidth": 0,
             "ticks": ""
            },
            "type": "choropleth"
           }
          ],
          "contour": [
           {
            "colorbar": {
             "outlinewidth": 0,
             "ticks": ""
            },
            "colorscale": [
             [
              0,
              "#0d0887"
             ],
             [
              0.1111111111111111,
              "#46039f"
             ],
             [
              0.2222222222222222,
              "#7201a8"
             ],
             [
              0.3333333333333333,
              "#9c179e"
             ],
             [
              0.4444444444444444,
              "#bd3786"
             ],
             [
              0.5555555555555556,
              "#d8576b"
             ],
             [
              0.6666666666666666,
              "#ed7953"
             ],
             [
              0.7777777777777778,
              "#fb9f3a"
             ],
             [
              0.8888888888888888,
              "#fdca26"
             ],
             [
              1,
              "#f0f921"
             ]
            ],
            "type": "contour"
           }
          ],
          "contourcarpet": [
           {
            "colorbar": {
             "outlinewidth": 0,
             "ticks": ""
            },
            "type": "contourcarpet"
           }
          ],
          "heatmap": [
           {
            "colorbar": {
             "outlinewidth": 0,
             "ticks": ""
            },
            "colorscale": [
             [
              0,
              "#0d0887"
             ],
             [
              0.1111111111111111,
              "#46039f"
             ],
             [
              0.2222222222222222,
              "#7201a8"
             ],
             [
              0.3333333333333333,
              "#9c179e"
             ],
             [
              0.4444444444444444,
              "#bd3786"
             ],
             [
              0.5555555555555556,
              "#d8576b"
             ],
             [
              0.6666666666666666,
              "#ed7953"
             ],
             [
              0.7777777777777778,
              "#fb9f3a"
             ],
             [
              0.8888888888888888,
              "#fdca26"
             ],
             [
              1,
              "#f0f921"
             ]
            ],
            "type": "heatmap"
           }
          ],
          "heatmapgl": [
           {
            "colorbar": {
             "outlinewidth": 0,
             "ticks": ""
            },
            "colorscale": [
             [
              0,
              "#0d0887"
             ],
             [
              0.1111111111111111,
              "#46039f"
             ],
             [
              0.2222222222222222,
              "#7201a8"
             ],
             [
              0.3333333333333333,
              "#9c179e"
             ],
             [
              0.4444444444444444,
              "#bd3786"
             ],
             [
              0.5555555555555556,
              "#d8576b"
             ],
             [
              0.6666666666666666,
              "#ed7953"
             ],
             [
              0.7777777777777778,
              "#fb9f3a"
             ],
             [
              0.8888888888888888,
              "#fdca26"
             ],
             [
              1,
              "#f0f921"
             ]
            ],
            "type": "heatmapgl"
           }
          ],
          "histogram": [
           {
            "marker": {
             "pattern": {
              "fillmode": "overlay",
              "size": 10,
              "solidity": 0.2
             }
            },
            "type": "histogram"
           }
          ],
          "histogram2d": [
           {
            "colorbar": {
             "outlinewidth": 0,
             "ticks": ""
            },
            "colorscale": [
             [
              0,
              "#0d0887"
             ],
             [
              0.1111111111111111,
              "#46039f"
             ],
             [
              0.2222222222222222,
              "#7201a8"
             ],
             [
              0.3333333333333333,
              "#9c179e"
             ],
             [
              0.4444444444444444,
              "#bd3786"
             ],
             [
              0.5555555555555556,
              "#d8576b"
             ],
             [
              0.6666666666666666,
              "#ed7953"
             ],
             [
              0.7777777777777778,
              "#fb9f3a"
             ],
             [
              0.8888888888888888,
              "#fdca26"
             ],
             [
              1,
              "#f0f921"
             ]
            ],
            "type": "histogram2d"
           }
          ],
          "histogram2dcontour": [
           {
            "colorbar": {
             "outlinewidth": 0,
             "ticks": ""
            },
            "colorscale": [
             [
              0,
              "#0d0887"
             ],
             [
              0.1111111111111111,
              "#46039f"
             ],
             [
              0.2222222222222222,
              "#7201a8"
             ],
             [
              0.3333333333333333,
              "#9c179e"
             ],
             [
              0.4444444444444444,
              "#bd3786"
             ],
             [
              0.5555555555555556,
              "#d8576b"
             ],
             [
              0.6666666666666666,
              "#ed7953"
             ],
             [
              0.7777777777777778,
              "#fb9f3a"
             ],
             [
              0.8888888888888888,
              "#fdca26"
             ],
             [
              1,
              "#f0f921"
             ]
            ],
            "type": "histogram2dcontour"
           }
          ],
          "mesh3d": [
           {
            "colorbar": {
             "outlinewidth": 0,
             "ticks": ""
            },
            "type": "mesh3d"
           }
          ],
          "parcoords": [
           {
            "line": {
             "colorbar": {
              "outlinewidth": 0,
              "ticks": ""
             }
            },
            "type": "parcoords"
           }
          ],
          "pie": [
           {
            "automargin": true,
            "type": "pie"
           }
          ],
          "scatter": [
           {
            "fillpattern": {
             "fillmode": "overlay",
             "size": 10,
             "solidity": 0.2
            },
            "type": "scatter"
           }
          ],
          "scatter3d": [
           {
            "line": {
             "colorbar": {
              "outlinewidth": 0,
              "ticks": ""
             }
            },
            "marker": {
             "colorbar": {
              "outlinewidth": 0,
              "ticks": ""
             }
            },
            "type": "scatter3d"
           }
          ],
          "scattercarpet": [
           {
            "marker": {
             "colorbar": {
              "outlinewidth": 0,
              "ticks": ""
             }
            },
            "type": "scattercarpet"
           }
          ],
          "scattergeo": [
           {
            "marker": {
             "colorbar": {
              "outlinewidth": 0,
              "ticks": ""
             }
            },
            "type": "scattergeo"
           }
          ],
          "scattergl": [
           {
            "marker": {
             "colorbar": {
              "outlinewidth": 0,
              "ticks": ""
             }
            },
            "type": "scattergl"
           }
          ],
          "scattermapbox": [
           {
            "marker": {
             "colorbar": {
              "outlinewidth": 0,
              "ticks": ""
             }
            },
            "type": "scattermapbox"
           }
          ],
          "scatterpolar": [
           {
            "marker": {
             "colorbar": {
              "outlinewidth": 0,
              "ticks": ""
             }
            },
            "type": "scatterpolar"
           }
          ],
          "scatterpolargl": [
           {
            "marker": {
             "colorbar": {
              "outlinewidth": 0,
              "ticks": ""
             }
            },
            "type": "scatterpolargl"
           }
          ],
          "scatterternary": [
           {
            "marker": {
             "colorbar": {
              "outlinewidth": 0,
              "ticks": ""
             }
            },
            "type": "scatterternary"
           }
          ],
          "surface": [
           {
            "colorbar": {
             "outlinewidth": 0,
             "ticks": ""
            },
            "colorscale": [
             [
              0,
              "#0d0887"
             ],
             [
              0.1111111111111111,
              "#46039f"
             ],
             [
              0.2222222222222222,
              "#7201a8"
             ],
             [
              0.3333333333333333,
              "#9c179e"
             ],
             [
              0.4444444444444444,
              "#bd3786"
             ],
             [
              0.5555555555555556,
              "#d8576b"
             ],
             [
              0.6666666666666666,
              "#ed7953"
             ],
             [
              0.7777777777777778,
              "#fb9f3a"
             ],
             [
              0.8888888888888888,
              "#fdca26"
             ],
             [
              1,
              "#f0f921"
             ]
            ],
            "type": "surface"
           }
          ],
          "table": [
           {
            "cells": {
             "fill": {
              "color": "#EBF0F8"
             },
             "line": {
              "color": "white"
             }
            },
            "header": {
             "fill": {
              "color": "#C8D4E3"
             },
             "line": {
              "color": "white"
             }
            },
            "type": "table"
           }
          ]
         },
         "layout": {
          "annotationdefaults": {
           "arrowcolor": "#2a3f5f",
           "arrowhead": 0,
           "arrowwidth": 1
          },
          "autotypenumbers": "strict",
          "coloraxis": {
           "colorbar": {
            "outlinewidth": 0,
            "ticks": ""
           }
          },
          "colorscale": {
           "diverging": [
            [
             0,
             "#8e0152"
            ],
            [
             0.1,
             "#c51b7d"
            ],
            [
             0.2,
             "#de77ae"
            ],
            [
             0.3,
             "#f1b6da"
            ],
            [
             0.4,
             "#fde0ef"
            ],
            [
             0.5,
             "#f7f7f7"
            ],
            [
             0.6,
             "#e6f5d0"
            ],
            [
             0.7,
             "#b8e186"
            ],
            [
             0.8,
             "#7fbc41"
            ],
            [
             0.9,
             "#4d9221"
            ],
            [
             1,
             "#276419"
            ]
           ],
           "sequential": [
            [
             0,
             "#0d0887"
            ],
            [
             0.1111111111111111,
             "#46039f"
            ],
            [
             0.2222222222222222,
             "#7201a8"
            ],
            [
             0.3333333333333333,
             "#9c179e"
            ],
            [
             0.4444444444444444,
             "#bd3786"
            ],
            [
             0.5555555555555556,
             "#d8576b"
            ],
            [
             0.6666666666666666,
             "#ed7953"
            ],
            [
             0.7777777777777778,
             "#fb9f3a"
            ],
            [
             0.8888888888888888,
             "#fdca26"
            ],
            [
             1,
             "#f0f921"
            ]
           ],
           "sequentialminus": [
            [
             0,
             "#0d0887"
            ],
            [
             0.1111111111111111,
             "#46039f"
            ],
            [
             0.2222222222222222,
             "#7201a8"
            ],
            [
             0.3333333333333333,
             "#9c179e"
            ],
            [
             0.4444444444444444,
             "#bd3786"
            ],
            [
             0.5555555555555556,
             "#d8576b"
            ],
            [
             0.6666666666666666,
             "#ed7953"
            ],
            [
             0.7777777777777778,
             "#fb9f3a"
            ],
            [
             0.8888888888888888,
             "#fdca26"
            ],
            [
             1,
             "#f0f921"
            ]
           ]
          },
          "colorway": [
           "#636efa",
           "#EF553B",
           "#00cc96",
           "#ab63fa",
           "#FFA15A",
           "#19d3f3",
           "#FF6692",
           "#B6E880",
           "#FF97FF",
           "#FECB52"
          ],
          "font": {
           "color": "#2a3f5f"
          },
          "geo": {
           "bgcolor": "white",
           "lakecolor": "white",
           "landcolor": "#E5ECF6",
           "showlakes": true,
           "showland": true,
           "subunitcolor": "white"
          },
          "hoverlabel": {
           "align": "left"
          },
          "hovermode": "closest",
          "mapbox": {
           "style": "light"
          },
          "paper_bgcolor": "white",
          "plot_bgcolor": "#E5ECF6",
          "polar": {
           "angularaxis": {
            "gridcolor": "white",
            "linecolor": "white",
            "ticks": ""
           },
           "bgcolor": "#E5ECF6",
           "radialaxis": {
            "gridcolor": "white",
            "linecolor": "white",
            "ticks": ""
           }
          },
          "scene": {
           "xaxis": {
            "backgroundcolor": "#E5ECF6",
            "gridcolor": "white",
            "gridwidth": 2,
            "linecolor": "white",
            "showbackground": true,
            "ticks": "",
            "zerolinecolor": "white"
           },
           "yaxis": {
            "backgroundcolor": "#E5ECF6",
            "gridcolor": "white",
            "gridwidth": 2,
            "linecolor": "white",
            "showbackground": true,
            "ticks": "",
            "zerolinecolor": "white"
           },
           "zaxis": {
            "backgroundcolor": "#E5ECF6",
            "gridcolor": "white",
            "gridwidth": 2,
            "linecolor": "white",
            "showbackground": true,
            "ticks": "",
            "zerolinecolor": "white"
           }
          },
          "shapedefaults": {
           "line": {
            "color": "#2a3f5f"
           }
          },
          "ternary": {
           "aaxis": {
            "gridcolor": "white",
            "linecolor": "white",
            "ticks": ""
           },
           "baxis": {
            "gridcolor": "white",
            "linecolor": "white",
            "ticks": ""
           },
           "bgcolor": "#E5ECF6",
           "caxis": {
            "gridcolor": "white",
            "linecolor": "white",
            "ticks": ""
           }
          },
          "title": {
           "x": 0.05
          },
          "xaxis": {
           "automargin": true,
           "gridcolor": "white",
           "linecolor": "white",
           "ticks": "",
           "title": {
            "standoff": 15
           },
           "zerolinecolor": "white",
           "zerolinewidth": 2
          },
          "yaxis": {
           "automargin": true,
           "gridcolor": "white",
           "linecolor": "white",
           "ticks": "",
           "title": {
            "standoff": 15
           },
           "zerolinecolor": "white",
           "zerolinewidth": 2
          }
         }
        },
        "title": {
         "text": "Average Forecast Error by Hours Ahead"
        },
        "xaxis": {
         "anchor": "y",
         "domain": [
          0,
          1
         ],
         "title": {
          "text": "Hours Ahead of Forecast Time"
         }
        },
        "yaxis": {
         "anchor": "x",
         "domain": [
          0,
          1
         ],
         "title": {
          "text": "Mean Absolute Error (°F)"
         }
        }
       }
      }
     },
     "metadata": {},
     "output_type": "display_data"
    },
    {
     "data": {
      "application/vnd.plotly.v1+json": {
       "config": {
        "plotlyServerURL": "https://plot.ly"
       },
       "data": [
        {
         "alignmentgroup": "True",
         "hovertemplate": "Hour Forecast Was Made (EST)=%{x}<br>Mean Absolute Error (°F)=%{y}<extra></extra>",
         "legendgroup": "",
         "marker": {
          "color": "#636efa",
          "pattern": {
           "shape": ""
          }
         },
         "name": "",
         "offsetgroup": "",
         "orientation": "v",
         "showlegend": false,
         "textposition": "auto",
         "type": "bar",
         "x": [
          0,
          1,
          14,
          15,
          16,
          17,
          18,
          19,
          20,
          21,
          22,
          23
         ],
         "xaxis": "x",
         "y": [
          1.2,
          1.1799999999999997,
          1.4706666666666668,
          1.6887500000000002,
          1.0637500000000002,
          1.0637500000000002,
          1.0637500000000002,
          1.2512500000000002,
          1.2512500000000002,
          1.2512500000000002,
          1.2512500000000002,
          1.2512500000000002
         ],
         "yaxis": "y"
        }
       ],
       "layout": {
        "barmode": "relative",
        "legend": {
         "tracegroupgap": 0
        },
        "template": {
         "data": {
          "bar": [
           {
            "error_x": {
             "color": "#2a3f5f"
            },
            "error_y": {
             "color": "#2a3f5f"
            },
            "marker": {
             "line": {
              "color": "#E5ECF6",
              "width": 0.5
             },
             "pattern": {
              "fillmode": "overlay",
              "size": 10,
              "solidity": 0.2
             }
            },
            "type": "bar"
           }
          ],
          "barpolar": [
           {
            "marker": {
             "line": {
              "color": "#E5ECF6",
              "width": 0.5
             },
             "pattern": {
              "fillmode": "overlay",
              "size": 10,
              "solidity": 0.2
             }
            },
            "type": "barpolar"
           }
          ],
          "carpet": [
           {
            "aaxis": {
             "endlinecolor": "#2a3f5f",
             "gridcolor": "white",
             "linecolor": "white",
             "minorgridcolor": "white",
             "startlinecolor": "#2a3f5f"
            },
            "baxis": {
             "endlinecolor": "#2a3f5f",
             "gridcolor": "white",
             "linecolor": "white",
             "minorgridcolor": "white",
             "startlinecolor": "#2a3f5f"
            },
            "type": "carpet"
           }
          ],
          "choropleth": [
           {
            "colorbar": {
             "outlinewidth": 0,
             "ticks": ""
            },
            "type": "choropleth"
           }
          ],
          "contour": [
           {
            "colorbar": {
             "outlinewidth": 0,
             "ticks": ""
            },
            "colorscale": [
             [
              0,
              "#0d0887"
             ],
             [
              0.1111111111111111,
              "#46039f"
             ],
             [
              0.2222222222222222,
              "#7201a8"
             ],
             [
              0.3333333333333333,
              "#9c179e"
             ],
             [
              0.4444444444444444,
              "#bd3786"
             ],
             [
              0.5555555555555556,
              "#d8576b"
             ],
             [
              0.6666666666666666,
              "#ed7953"
             ],
             [
              0.7777777777777778,
              "#fb9f3a"
             ],
             [
              0.8888888888888888,
              "#fdca26"
             ],
             [
              1,
              "#f0f921"
             ]
            ],
            "type": "contour"
           }
          ],
          "contourcarpet": [
           {
            "colorbar": {
             "outlinewidth": 0,
             "ticks": ""
            },
            "type": "contourcarpet"
           }
          ],
          "heatmap": [
           {
            "colorbar": {
             "outlinewidth": 0,
             "ticks": ""
            },
            "colorscale": [
             [
              0,
              "#0d0887"
             ],
             [
              0.1111111111111111,
              "#46039f"
             ],
             [
              0.2222222222222222,
              "#7201a8"
             ],
             [
              0.3333333333333333,
              "#9c179e"
             ],
             [
              0.4444444444444444,
              "#bd3786"
             ],
             [
              0.5555555555555556,
              "#d8576b"
             ],
             [
              0.6666666666666666,
              "#ed7953"
             ],
             [
              0.7777777777777778,
              "#fb9f3a"
             ],
             [
              0.8888888888888888,
              "#fdca26"
             ],
             [
              1,
              "#f0f921"
             ]
            ],
            "type": "heatmap"
           }
          ],
          "heatmapgl": [
           {
            "colorbar": {
             "outlinewidth": 0,
             "ticks": ""
            },
            "colorscale": [
             [
              0,
              "#0d0887"
             ],
             [
              0.1111111111111111,
              "#46039f"
             ],
             [
              0.2222222222222222,
              "#7201a8"
             ],
             [
              0.3333333333333333,
              "#9c179e"
             ],
             [
              0.4444444444444444,
              "#bd3786"
             ],
             [
              0.5555555555555556,
              "#d8576b"
             ],
             [
              0.6666666666666666,
              "#ed7953"
             ],
             [
              0.7777777777777778,
              "#fb9f3a"
             ],
             [
              0.8888888888888888,
              "#fdca26"
             ],
             [
              1,
              "#f0f921"
             ]
            ],
            "type": "heatmapgl"
           }
          ],
          "histogram": [
           {
            "marker": {
             "pattern": {
              "fillmode": "overlay",
              "size": 10,
              "solidity": 0.2
             }
            },
            "type": "histogram"
           }
          ],
          "histogram2d": [
           {
            "colorbar": {
             "outlinewidth": 0,
             "ticks": ""
            },
            "colorscale": [
             [
              0,
              "#0d0887"
             ],
             [
              0.1111111111111111,
              "#46039f"
             ],
             [
              0.2222222222222222,
              "#7201a8"
             ],
             [
              0.3333333333333333,
              "#9c179e"
             ],
             [
              0.4444444444444444,
              "#bd3786"
             ],
             [
              0.5555555555555556,
              "#d8576b"
             ],
             [
              0.6666666666666666,
              "#ed7953"
             ],
             [
              0.7777777777777778,
              "#fb9f3a"
             ],
             [
              0.8888888888888888,
              "#fdca26"
             ],
             [
              1,
              "#f0f921"
             ]
            ],
            "type": "histogram2d"
           }
          ],
          "histogram2dcontour": [
           {
            "colorbar": {
             "outlinewidth": 0,
             "ticks": ""
            },
            "colorscale": [
             [
              0,
              "#0d0887"
             ],
             [
              0.1111111111111111,
              "#46039f"
             ],
             [
              0.2222222222222222,
              "#7201a8"
             ],
             [
              0.3333333333333333,
              "#9c179e"
             ],
             [
              0.4444444444444444,
              "#bd3786"
             ],
             [
              0.5555555555555556,
              "#d8576b"
             ],
             [
              0.6666666666666666,
              "#ed7953"
             ],
             [
              0.7777777777777778,
              "#fb9f3a"
             ],
             [
              0.8888888888888888,
              "#fdca26"
             ],
             [
              1,
              "#f0f921"
             ]
            ],
            "type": "histogram2dcontour"
           }
          ],
          "mesh3d": [
           {
            "colorbar": {
             "outlinewidth": 0,
             "ticks": ""
            },
            "type": "mesh3d"
           }
          ],
          "parcoords": [
           {
            "line": {
             "colorbar": {
              "outlinewidth": 0,
              "ticks": ""
             }
            },
            "type": "parcoords"
           }
          ],
          "pie": [
           {
            "automargin": true,
            "type": "pie"
           }
          ],
          "scatter": [
           {
            "fillpattern": {
             "fillmode": "overlay",
             "size": 10,
             "solidity": 0.2
            },
            "type": "scatter"
           }
          ],
          "scatter3d": [
           {
            "line": {
             "colorbar": {
              "outlinewidth": 0,
              "ticks": ""
             }
            },
            "marker": {
             "colorbar": {
              "outlinewidth": 0,
              "ticks": ""
             }
            },
            "type": "scatter3d"
           }
          ],
          "scattercarpet": [
           {
            "marker": {
             "colorbar": {
              "outlinewidth": 0,
              "ticks": ""
             }
            },
            "type": "scattercarpet"
           }
          ],
          "scattergeo": [
           {
            "marker": {
             "colorbar": {
              "outlinewidth": 0,
              "ticks": ""
             }
            },
            "type": "scattergeo"
           }
          ],
          "scattergl": [
           {
            "marker": {
             "colorbar": {
              "outlinewidth": 0,
              "ticks": ""
             }
            },
            "type": "scattergl"
           }
          ],
          "scattermapbox": [
           {
            "marker": {
             "colorbar": {
              "outlinewidth": 0,
              "ticks": ""
             }
            },
            "type": "scattermapbox"
           }
          ],
          "scatterpolar": [
           {
            "marker": {
             "colorbar": {
              "outlinewidth": 0,
              "ticks": ""
             }
            },
            "type": "scatterpolar"
           }
          ],
          "scatterpolargl": [
           {
            "marker": {
             "colorbar": {
              "outlinewidth": 0,
              "ticks": ""
             }
            },
            "type": "scatterpolargl"
           }
          ],
          "scatterternary": [
           {
            "marker": {
             "colorbar": {
              "outlinewidth": 0,
              "ticks": ""
             }
            },
            "type": "scatterternary"
           }
          ],
          "surface": [
           {
            "colorbar": {
             "outlinewidth": 0,
             "ticks": ""
            },
            "colorscale": [
             [
              0,
              "#0d0887"
             ],
             [
              0.1111111111111111,
              "#46039f"
             ],
             [
              0.2222222222222222,
              "#7201a8"
             ],
             [
              0.3333333333333333,
              "#9c179e"
             ],
             [
              0.4444444444444444,
              "#bd3786"
             ],
             [
              0.5555555555555556,
              "#d8576b"
             ],
             [
              0.6666666666666666,
              "#ed7953"
             ],
             [
              0.7777777777777778,
              "#fb9f3a"
             ],
             [
              0.8888888888888888,
              "#fdca26"
             ],
             [
              1,
              "#f0f921"
             ]
            ],
            "type": "surface"
           }
          ],
          "table": [
           {
            "cells": {
             "fill": {
              "color": "#EBF0F8"
             },
             "line": {
              "color": "white"
             }
            },
            "header": {
             "fill": {
              "color": "#C8D4E3"
             },
             "line": {
              "color": "white"
             }
            },
            "type": "table"
           }
          ]
         },
         "layout": {
          "annotationdefaults": {
           "arrowcolor": "#2a3f5f",
           "arrowhead": 0,
           "arrowwidth": 1
          },
          "autotypenumbers": "strict",
          "coloraxis": {
           "colorbar": {
            "outlinewidth": 0,
            "ticks": ""
           }
          },
          "colorscale": {
           "diverging": [
            [
             0,
             "#8e0152"
            ],
            [
             0.1,
             "#c51b7d"
            ],
            [
             0.2,
             "#de77ae"
            ],
            [
             0.3,
             "#f1b6da"
            ],
            [
             0.4,
             "#fde0ef"
            ],
            [
             0.5,
             "#f7f7f7"
            ],
            [
             0.6,
             "#e6f5d0"
            ],
            [
             0.7,
             "#b8e186"
            ],
            [
             0.8,
             "#7fbc41"
            ],
            [
             0.9,
             "#4d9221"
            ],
            [
             1,
             "#276419"
            ]
           ],
           "sequential": [
            [
             0,
             "#0d0887"
            ],
            [
             0.1111111111111111,
             "#46039f"
            ],
            [
             0.2222222222222222,
             "#7201a8"
            ],
            [
             0.3333333333333333,
             "#9c179e"
            ],
            [
             0.4444444444444444,
             "#bd3786"
            ],
            [
             0.5555555555555556,
             "#d8576b"
            ],
            [
             0.6666666666666666,
             "#ed7953"
            ],
            [
             0.7777777777777778,
             "#fb9f3a"
            ],
            [
             0.8888888888888888,
             "#fdca26"
            ],
            [
             1,
             "#f0f921"
            ]
           ],
           "sequentialminus": [
            [
             0,
             "#0d0887"
            ],
            [
             0.1111111111111111,
             "#46039f"
            ],
            [
             0.2222222222222222,
             "#7201a8"
            ],
            [
             0.3333333333333333,
             "#9c179e"
            ],
            [
             0.4444444444444444,
             "#bd3786"
            ],
            [
             0.5555555555555556,
             "#d8576b"
            ],
            [
             0.6666666666666666,
             "#ed7953"
            ],
            [
             0.7777777777777778,
             "#fb9f3a"
            ],
            [
             0.8888888888888888,
             "#fdca26"
            ],
            [
             1,
             "#f0f921"
            ]
           ]
          },
          "colorway": [
           "#636efa",
           "#EF553B",
           "#00cc96",
           "#ab63fa",
           "#FFA15A",
           "#19d3f3",
           "#FF6692",
           "#B6E880",
           "#FF97FF",
           "#FECB52"
          ],
          "font": {
           "color": "#2a3f5f"
          },
          "geo": {
           "bgcolor": "white",
           "lakecolor": "white",
           "landcolor": "#E5ECF6",
           "showlakes": true,
           "showland": true,
           "subunitcolor": "white"
          },
          "hoverlabel": {
           "align": "left"
          },
          "hovermode": "closest",
          "mapbox": {
           "style": "light"
          },
          "paper_bgcolor": "white",
          "plot_bgcolor": "#E5ECF6",
          "polar": {
           "angularaxis": {
            "gridcolor": "white",
            "linecolor": "white",
            "ticks": ""
           },
           "bgcolor": "#E5ECF6",
           "radialaxis": {
            "gridcolor": "white",
            "linecolor": "white",
            "ticks": ""
           }
          },
          "scene": {
           "xaxis": {
            "backgroundcolor": "#E5ECF6",
            "gridcolor": "white",
            "gridwidth": 2,
            "linecolor": "white",
            "showbackground": true,
            "ticks": "",
            "zerolinecolor": "white"
           },
           "yaxis": {
            "backgroundcolor": "#E5ECF6",
            "gridcolor": "white",
            "gridwidth": 2,
            "linecolor": "white",
            "showbackground": true,
            "ticks": "",
            "zerolinecolor": "white"
           },
           "zaxis": {
            "backgroundcolor": "#E5ECF6",
            "gridcolor": "white",
            "gridwidth": 2,
            "linecolor": "white",
            "showbackground": true,
            "ticks": "",
            "zerolinecolor": "white"
           }
          },
          "shapedefaults": {
           "line": {
            "color": "#2a3f5f"
           }
          },
          "ternary": {
           "aaxis": {
            "gridcolor": "white",
            "linecolor": "white",
            "ticks": ""
           },
           "baxis": {
            "gridcolor": "white",
            "linecolor": "white",
            "ticks": ""
           },
           "bgcolor": "#E5ECF6",
           "caxis": {
            "gridcolor": "white",
            "linecolor": "white",
            "ticks": ""
           }
          },
          "title": {
           "x": 0.05
          },
          "xaxis": {
           "automargin": true,
           "gridcolor": "white",
           "linecolor": "white",
           "ticks": "",
           "title": {
            "standoff": 15
           },
           "zerolinecolor": "white",
           "zerolinewidth": 2
          },
          "yaxis": {
           "automargin": true,
           "gridcolor": "white",
           "linecolor": "white",
           "ticks": "",
           "title": {
            "standoff": 15
           },
           "zerolinecolor": "white",
           "zerolinewidth": 2
          }
         }
        },
        "title": {
         "text": "Average Forecast Error by Hour Created (EST)"
        },
        "xaxis": {
         "anchor": "y",
         "domain": [
          0,
          1
         ],
         "title": {
          "text": "Hour Forecast Was Made (EST)"
         }
        },
        "yaxis": {
         "anchor": "x",
         "domain": [
          0,
          1
         ],
         "title": {
          "text": "Mean Absolute Error (°F)"
         }
        }
       }
      }
     },
     "metadata": {},
     "output_type": "display_data"
    },
    {
     "data": {
      "application/vnd.plotly.v1+json": {
       "config": {
        "plotlyServerURL": "https://plot.ly"
       },
       "data": [
        {
         "coloraxis": "coloraxis",
         "hovertemplate": "Hours Ahead: %{x}<br>Hour Forecast Was Made (EST): %{y}<br>Mean Absolute Error (°F): %{z}<extra></extra>",
         "name": "0",
         "type": "heatmap",
         "x": [
          1,
          2,
          3,
          4,
          5,
          6,
          7,
          8,
          9,
          10,
          11,
          12,
          13,
          14,
          15,
          16,
          17,
          18,
          19,
          20,
          21,
          22,
          23,
          24
         ],
         "xaxis": "x",
         "y": [
          0,
          1,
          14,
          15,
          16,
          17,
          18,
          19,
          20,
          21,
          22,
          23
         ],
         "yaxis": "y",
         "z": [
          [
           1.480000000000004,
           0.03999999999999915,
           0.3200000000000003,
           0.9399999999999977,
           0.9399999999999977,
           0.03999999999999915,
           0.03999999999999915,
           0.03999999999999915,
           1.0399999999999991,
           0.060000000000002274,
           0.060000000000002274,
           1.7800000000000011,
           4.039999999999999,
           4.219999999999999,
           2.960000000000001,
           null,
           null,
           null,
           null,
           null,
           null,
           null,
           null,
           null
          ],
          [
           0.03999999999999915,
           0.3200000000000003,
           0.9399999999999977,
           0.9399999999999977,
           0.03999999999999915,
           0.03999999999999915,
           0.03999999999999915,
           1.0399999999999991,
           0.060000000000002274,
           0.060000000000002274,
           1.7800000000000011,
           4.039999999999999,
           4.219999999999999,
           2.960000000000001,
           null,
           null,
           null,
           null,
           null,
           null,
           null,
           null,
           null,
           null
          ],
          [
           null,
           null,
           null,
           null,
           null,
           null,
           null,
           null,
           null,
           2.020000000000003,
           1.480000000000004,
           0.03999999999999915,
           0.3200000000000003,
           1.9399999999999977,
           0.9399999999999977,
           0.03999999999999915,
           0.03999999999999915,
           0.03999999999999915,
           1.0399999999999991,
           0.060000000000002274,
           1.0600000000000023,
           2.780000000000001,
           5.039999999999999,
           5.219999999999999
          ],
          [
           null,
           null,
           null,
           null,
           null,
           null,
           null,
           null,
           2.020000000000003,
           1.480000000000004,
           0.03999999999999915,
           0.3200000000000003,
           1.9399999999999977,
           0.9399999999999977,
           0.03999999999999915,
           0.03999999999999915,
           0.03999999999999915,
           1.0399999999999991,
           0.060000000000002274,
           1.0600000000000023,
           2.780000000000001,
           5.039999999999999,
           5.219999999999999,
           4.960000000000001
          ],
          [
           null,
           null,
           null,
           null,
           null,
           null,
           null,
           0.020000000000003126,
           0.480000000000004,
           0.03999999999999915,
           0.3200000000000003,
           0.9399999999999977,
           0.9399999999999977,
           0.03999999999999915,
           0.03999999999999915,
           0.03999999999999915,
           1.0399999999999991,
           0.060000000000002274,
           0.060000000000002274,
           1.7800000000000011,
           4.039999999999999,
           4.219999999999999,
           2.960000000000001,
           null
          ],
          [
           null,
           null,
           null,
           null,
           null,
           null,
           0.020000000000003126,
           0.480000000000004,
           0.03999999999999915,
           0.3200000000000003,
           0.9399999999999977,
           0.9399999999999977,
           0.03999999999999915,
           0.03999999999999915,
           0.03999999999999915,
           1.0399999999999991,
           0.060000000000002274,
           0.060000000000002274,
           1.7800000000000011,
           4.039999999999999,
           4.219999999999999,
           2.960000000000001,
           null,
           null
          ],
          [
           null,
           null,
           null,
           null,
           null,
           0.020000000000003126,
           0.480000000000004,
           0.03999999999999915,
           0.3200000000000003,
           0.9399999999999977,
           0.9399999999999977,
           0.03999999999999915,
           0.03999999999999915,
           0.03999999999999915,
           1.0399999999999991,
           0.060000000000002274,
           0.060000000000002274,
           1.7800000000000011,
           4.039999999999999,
           4.219999999999999,
           2.960000000000001,
           null,
           null,
           null
          ],
          [
           null,
           null,
           null,
           null,
           2.020000000000003,
           1.480000000000004,
           0.03999999999999915,
           0.3200000000000003,
           0.9399999999999977,
           0.9399999999999977,
           0.03999999999999915,
           0.03999999999999915,
           0.03999999999999915,
           1.0399999999999991,
           0.060000000000002274,
           0.060000000000002274,
           1.7800000000000011,
           4.039999999999999,
           4.219999999999999,
           2.960000000000001,
           null,
           null,
           null,
           null
          ],
          [
           null,
           null,
           null,
           2.020000000000003,
           1.480000000000004,
           0.03999999999999915,
           0.3200000000000003,
           0.9399999999999977,
           0.9399999999999977,
           0.03999999999999915,
           0.03999999999999915,
           0.03999999999999915,
           1.0399999999999991,
           0.060000000000002274,
           0.060000000000002274,
           1.7800000000000011,
           4.039999999999999,
           4.219999999999999,
           2.960000000000001,
           null,
           null,
           null,
           null,
           null
          ],
          [
           null,
           null,
           2.020000000000003,
           1.480000000000004,
           0.03999999999999915,
           0.3200000000000003,
           0.9399999999999977,
           0.9399999999999977,
           0.03999999999999915,
           0.03999999999999915,
           0.03999999999999915,
           1.0399999999999991,
           0.060000000000002274,
           0.060000000000002274,
           1.7800000000000011,
           4.039999999999999,
           4.219999999999999,
           2.960000000000001,
           null,
           null,
           null,
           null,
           null,
           null
          ],
          [
           null,
           2.020000000000003,
           1.480000000000004,
           0.03999999999999915,
           0.3200000000000003,
           0.9399999999999977,
           0.9399999999999977,
           0.03999999999999915,
           0.03999999999999915,
           0.03999999999999915,
           1.0399999999999991,
           0.060000000000002274,
           0.060000000000002274,
           1.7800000000000011,
           4.039999999999999,
           4.219999999999999,
           2.960000000000001,
           null,
           null,
           null,
           null,
           null,
           null,
           null
          ],
          [
           2.020000000000003,
           1.480000000000004,
           0.03999999999999915,
           0.3200000000000003,
           0.9399999999999977,
           0.9399999999999977,
           0.03999999999999915,
           0.03999999999999915,
           0.03999999999999915,
           1.0399999999999991,
           0.060000000000002274,
           0.060000000000002274,
           1.7800000000000011,
           4.039999999999999,
           4.219999999999999,
           2.960000000000001,
           null,
           null,
           null,
           null,
           null,
           null,
           null,
           null
          ]
         ]
        }
       ],
       "layout": {
        "coloraxis": {
         "colorbar": {
          "title": {
           "text": "Mean Absolute Error (°F)"
          }
         },
         "colorscale": [
          [
           0,
           "rgb(49,54,149)"
          ],
          [
           0.1,
           "rgb(69,117,180)"
          ],
          [
           0.2,
           "rgb(116,173,209)"
          ],
          [
           0.3,
           "rgb(171,217,233)"
          ],
          [
           0.4,
           "rgb(224,243,248)"
          ],
          [
           0.5,
           "rgb(255,255,191)"
          ],
          [
           0.6,
           "rgb(254,224,144)"
          ],
          [
           0.7,
           "rgb(253,174,97)"
          ],
          [
           0.8,
           "rgb(244,109,67)"
          ],
          [
           0.9,
           "rgb(215,48,39)"
          ],
          [
           1,
           "rgb(165,0,38)"
          ]
         ]
        },
        "template": {
         "data": {
          "bar": [
           {
            "error_x": {
             "color": "#2a3f5f"
            },
            "error_y": {
             "color": "#2a3f5f"
            },
            "marker": {
             "line": {
              "color": "#E5ECF6",
              "width": 0.5
             },
             "pattern": {
              "fillmode": "overlay",
              "size": 10,
              "solidity": 0.2
             }
            },
            "type": "bar"
           }
          ],
          "barpolar": [
           {
            "marker": {
             "line": {
              "color": "#E5ECF6",
              "width": 0.5
             },
             "pattern": {
              "fillmode": "overlay",
              "size": 10,
              "solidity": 0.2
             }
            },
            "type": "barpolar"
           }
          ],
          "carpet": [
           {
            "aaxis": {
             "endlinecolor": "#2a3f5f",
             "gridcolor": "white",
             "linecolor": "white",
             "minorgridcolor": "white",
             "startlinecolor": "#2a3f5f"
            },
            "baxis": {
             "endlinecolor": "#2a3f5f",
             "gridcolor": "white",
             "linecolor": "white",
             "minorgridcolor": "white",
             "startlinecolor": "#2a3f5f"
            },
            "type": "carpet"
           }
          ],
          "choropleth": [
           {
            "colorbar": {
             "outlinewidth": 0,
             "ticks": ""
            },
            "type": "choropleth"
           }
          ],
          "contour": [
           {
            "colorbar": {
             "outlinewidth": 0,
             "ticks": ""
            },
            "colorscale": [
             [
              0,
              "#0d0887"
             ],
             [
              0.1111111111111111,
              "#46039f"
             ],
             [
              0.2222222222222222,
              "#7201a8"
             ],
             [
              0.3333333333333333,
              "#9c179e"
             ],
             [
              0.4444444444444444,
              "#bd3786"
             ],
             [
              0.5555555555555556,
              "#d8576b"
             ],
             [
              0.6666666666666666,
              "#ed7953"
             ],
             [
              0.7777777777777778,
              "#fb9f3a"
             ],
             [
              0.8888888888888888,
              "#fdca26"
             ],
             [
              1,
              "#f0f921"
             ]
            ],
            "type": "contour"
           }
          ],
          "contourcarpet": [
           {
            "colorbar": {
             "outlinewidth": 0,
             "ticks": ""
            },
            "type": "contourcarpet"
           }
          ],
          "heatmap": [
           {
            "colorbar": {
             "outlinewidth": 0,
             "ticks": ""
            },
            "colorscale": [
             [
              0,
              "#0d0887"
             ],
             [
              0.1111111111111111,
              "#46039f"
             ],
             [
              0.2222222222222222,
              "#7201a8"
             ],
             [
              0.3333333333333333,
              "#9c179e"
             ],
             [
              0.4444444444444444,
              "#bd3786"
             ],
             [
              0.5555555555555556,
              "#d8576b"
             ],
             [
              0.6666666666666666,
              "#ed7953"
             ],
             [
              0.7777777777777778,
              "#fb9f3a"
             ],
             [
              0.8888888888888888,
              "#fdca26"
             ],
             [
              1,
              "#f0f921"
             ]
            ],
            "type": "heatmap"
           }
          ],
          "heatmapgl": [
           {
            "colorbar": {
             "outlinewidth": 0,
             "ticks": ""
            },
            "colorscale": [
             [
              0,
              "#0d0887"
             ],
             [
              0.1111111111111111,
              "#46039f"
             ],
             [
              0.2222222222222222,
              "#7201a8"
             ],
             [
              0.3333333333333333,
              "#9c179e"
             ],
             [
              0.4444444444444444,
              "#bd3786"
             ],
             [
              0.5555555555555556,
              "#d8576b"
             ],
             [
              0.6666666666666666,
              "#ed7953"
             ],
             [
              0.7777777777777778,
              "#fb9f3a"
             ],
             [
              0.8888888888888888,
              "#fdca26"
             ],
             [
              1,
              "#f0f921"
             ]
            ],
            "type": "heatmapgl"
           }
          ],
          "histogram": [
           {
            "marker": {
             "pattern": {
              "fillmode": "overlay",
              "size": 10,
              "solidity": 0.2
             }
            },
            "type": "histogram"
           }
          ],
          "histogram2d": [
           {
            "colorbar": {
             "outlinewidth": 0,
             "ticks": ""
            },
            "colorscale": [
             [
              0,
              "#0d0887"
             ],
             [
              0.1111111111111111,
              "#46039f"
             ],
             [
              0.2222222222222222,
              "#7201a8"
             ],
             [
              0.3333333333333333,
              "#9c179e"
             ],
             [
              0.4444444444444444,
              "#bd3786"
             ],
             [
              0.5555555555555556,
              "#d8576b"
             ],
             [
              0.6666666666666666,
              "#ed7953"
             ],
             [
              0.7777777777777778,
              "#fb9f3a"
             ],
             [
              0.8888888888888888,
              "#fdca26"
             ],
             [
              1,
              "#f0f921"
             ]
            ],
            "type": "histogram2d"
           }
          ],
          "histogram2dcontour": [
           {
            "colorbar": {
             "outlinewidth": 0,
             "ticks": ""
            },
            "colorscale": [
             [
              0,
              "#0d0887"
             ],
             [
              0.1111111111111111,
              "#46039f"
             ],
             [
              0.2222222222222222,
              "#7201a8"
             ],
             [
              0.3333333333333333,
              "#9c179e"
             ],
             [
              0.4444444444444444,
              "#bd3786"
             ],
             [
              0.5555555555555556,
              "#d8576b"
             ],
             [
              0.6666666666666666,
              "#ed7953"
             ],
             [
              0.7777777777777778,
              "#fb9f3a"
             ],
             [
              0.8888888888888888,
              "#fdca26"
             ],
             [
              1,
              "#f0f921"
             ]
            ],
            "type": "histogram2dcontour"
           }
          ],
          "mesh3d": [
           {
            "colorbar": {
             "outlinewidth": 0,
             "ticks": ""
            },
            "type": "mesh3d"
           }
          ],
          "parcoords": [
           {
            "line": {
             "colorbar": {
              "outlinewidth": 0,
              "ticks": ""
             }
            },
            "type": "parcoords"
           }
          ],
          "pie": [
           {
            "automargin": true,
            "type": "pie"
           }
          ],
          "scatter": [
           {
            "fillpattern": {
             "fillmode": "overlay",
             "size": 10,
             "solidity": 0.2
            },
            "type": "scatter"
           }
          ],
          "scatter3d": [
           {
            "line": {
             "colorbar": {
              "outlinewidth": 0,
              "ticks": ""
             }
            },
            "marker": {
             "colorbar": {
              "outlinewidth": 0,
              "ticks": ""
             }
            },
            "type": "scatter3d"
           }
          ],
          "scattercarpet": [
           {
            "marker": {
             "colorbar": {
              "outlinewidth": 0,
              "ticks": ""
             }
            },
            "type": "scattercarpet"
           }
          ],
          "scattergeo": [
           {
            "marker": {
             "colorbar": {
              "outlinewidth": 0,
              "ticks": ""
             }
            },
            "type": "scattergeo"
           }
          ],
          "scattergl": [
           {
            "marker": {
             "colorbar": {
              "outlinewidth": 0,
              "ticks": ""
             }
            },
            "type": "scattergl"
           }
          ],
          "scattermapbox": [
           {
            "marker": {
             "colorbar": {
              "outlinewidth": 0,
              "ticks": ""
             }
            },
            "type": "scattermapbox"
           }
          ],
          "scatterpolar": [
           {
            "marker": {
             "colorbar": {
              "outlinewidth": 0,
              "ticks": ""
             }
            },
            "type": "scatterpolar"
           }
          ],
          "scatterpolargl": [
           {
            "marker": {
             "colorbar": {
              "outlinewidth": 0,
              "ticks": ""
             }
            },
            "type": "scatterpolargl"
           }
          ],
          "scatterternary": [
           {
            "marker": {
             "colorbar": {
              "outlinewidth": 0,
              "ticks": ""
             }
            },
            "type": "scatterternary"
           }
          ],
          "surface": [
           {
            "colorbar": {
             "outlinewidth": 0,
             "ticks": ""
            },
            "colorscale": [
             [
              0,
              "#0d0887"
             ],
             [
              0.1111111111111111,
              "#46039f"
             ],
             [
              0.2222222222222222,
              "#7201a8"
             ],
             [
              0.3333333333333333,
              "#9c179e"
             ],
             [
              0.4444444444444444,
              "#bd3786"
             ],
             [
              0.5555555555555556,
              "#d8576b"
             ],
             [
              0.6666666666666666,
              "#ed7953"
             ],
             [
              0.7777777777777778,
              "#fb9f3a"
             ],
             [
              0.8888888888888888,
              "#fdca26"
             ],
             [
              1,
              "#f0f921"
             ]
            ],
            "type": "surface"
           }
          ],
          "table": [
           {
            "cells": {
             "fill": {
              "color": "#EBF0F8"
             },
             "line": {
              "color": "white"
             }
            },
            "header": {
             "fill": {
              "color": "#C8D4E3"
             },
             "line": {
              "color": "white"
             }
            },
            "type": "table"
           }
          ]
         },
         "layout": {
          "annotationdefaults": {
           "arrowcolor": "#2a3f5f",
           "arrowhead": 0,
           "arrowwidth": 1
          },
          "autotypenumbers": "strict",
          "coloraxis": {
           "colorbar": {
            "outlinewidth": 0,
            "ticks": ""
           }
          },
          "colorscale": {
           "diverging": [
            [
             0,
             "#8e0152"
            ],
            [
             0.1,
             "#c51b7d"
            ],
            [
             0.2,
             "#de77ae"
            ],
            [
             0.3,
             "#f1b6da"
            ],
            [
             0.4,
             "#fde0ef"
            ],
            [
             0.5,
             "#f7f7f7"
            ],
            [
             0.6,
             "#e6f5d0"
            ],
            [
             0.7,
             "#b8e186"
            ],
            [
             0.8,
             "#7fbc41"
            ],
            [
             0.9,
             "#4d9221"
            ],
            [
             1,
             "#276419"
            ]
           ],
           "sequential": [
            [
             0,
             "#0d0887"
            ],
            [
             0.1111111111111111,
             "#46039f"
            ],
            [
             0.2222222222222222,
             "#7201a8"
            ],
            [
             0.3333333333333333,
             "#9c179e"
            ],
            [
             0.4444444444444444,
             "#bd3786"
            ],
            [
             0.5555555555555556,
             "#d8576b"
            ],
            [
             0.6666666666666666,
             "#ed7953"
            ],
            [
             0.7777777777777778,
             "#fb9f3a"
            ],
            [
             0.8888888888888888,
             "#fdca26"
            ],
            [
             1,
             "#f0f921"
            ]
           ],
           "sequentialminus": [
            [
             0,
             "#0d0887"
            ],
            [
             0.1111111111111111,
             "#46039f"
            ],
            [
             0.2222222222222222,
             "#7201a8"
            ],
            [
             0.3333333333333333,
             "#9c179e"
            ],
            [
             0.4444444444444444,
             "#bd3786"
            ],
            [
             0.5555555555555556,
             "#d8576b"
            ],
            [
             0.6666666666666666,
             "#ed7953"
            ],
            [
             0.7777777777777778,
             "#fb9f3a"
            ],
            [
             0.8888888888888888,
             "#fdca26"
            ],
            [
             1,
             "#f0f921"
            ]
           ]
          },
          "colorway": [
           "#636efa",
           "#EF553B",
           "#00cc96",
           "#ab63fa",
           "#FFA15A",
           "#19d3f3",
           "#FF6692",
           "#B6E880",
           "#FF97FF",
           "#FECB52"
          ],
          "font": {
           "color": "#2a3f5f"
          },
          "geo": {
           "bgcolor": "white",
           "lakecolor": "white",
           "landcolor": "#E5ECF6",
           "showlakes": true,
           "showland": true,
           "subunitcolor": "white"
          },
          "hoverlabel": {
           "align": "left"
          },
          "hovermode": "closest",
          "mapbox": {
           "style": "light"
          },
          "paper_bgcolor": "white",
          "plot_bgcolor": "#E5ECF6",
          "polar": {
           "angularaxis": {
            "gridcolor": "white",
            "linecolor": "white",
            "ticks": ""
           },
           "bgcolor": "#E5ECF6",
           "radialaxis": {
            "gridcolor": "white",
            "linecolor": "white",
            "ticks": ""
           }
          },
          "scene": {
           "xaxis": {
            "backgroundcolor": "#E5ECF6",
            "gridcolor": "white",
            "gridwidth": 2,
            "linecolor": "white",
            "showbackground": true,
            "ticks": "",
            "zerolinecolor": "white"
           },
           "yaxis": {
            "backgroundcolor": "#E5ECF6",
            "gridcolor": "white",
            "gridwidth": 2,
            "linecolor": "white",
            "showbackground": true,
            "ticks": "",
            "zerolinecolor": "white"
           },
           "zaxis": {
            "backgroundcolor": "#E5ECF6",
            "gridcolor": "white",
            "gridwidth": 2,
            "linecolor": "white",
            "showbackground": true,
            "ticks": "",
            "zerolinecolor": "white"
           }
          },
          "shapedefaults": {
           "line": {
            "color": "#2a3f5f"
           }
          },
          "ternary": {
           "aaxis": {
            "gridcolor": "white",
            "linecolor": "white",
            "ticks": ""
           },
           "baxis": {
            "gridcolor": "white",
            "linecolor": "white",
            "ticks": ""
           },
           "bgcolor": "#E5ECF6",
           "caxis": {
            "gridcolor": "white",
            "linecolor": "white",
            "ticks": ""
           }
          },
          "title": {
           "x": 0.05
          },
          "xaxis": {
           "automargin": true,
           "gridcolor": "white",
           "linecolor": "white",
           "ticks": "",
           "title": {
            "standoff": 15
           },
           "zerolinecolor": "white",
           "zerolinewidth": 2
          },
          "yaxis": {
           "automargin": true,
           "gridcolor": "white",
           "linecolor": "white",
           "ticks": "",
           "title": {
            "standoff": 15
           },
           "zerolinecolor": "white",
           "zerolinewidth": 2
          }
         }
        },
        "title": {
         "text": "Error Heatmap: Creation Hour vs Hours Ahead"
        },
        "xaxis": {
         "anchor": "y",
         "domain": [
          0,
          1
         ],
         "title": {
          "text": "Hours Ahead"
         }
        },
        "yaxis": {
         "anchor": "x",
         "autorange": "reversed",
         "domain": [
          0,
          1
         ],
         "title": {
          "text": "Hour Forecast Was Made (EST)"
         }
        }
       }
      }
     },
     "metadata": {},
     "output_type": "display_data"
    },
    {
     "name": "stdout",
     "output_type": "stream",
     "text": [
      "\n",
      "Summary Statistics by Forecast Horizon:\n",
      "0-6 hours ahead: 0.95°F (n=25)\n",
      "6-12 hours ahead: 0.49°F (n=62)\n",
      "12-24 hours ahead: 1.72°F (n=99)\n",
      "24-48 hours ahead: 5.09°F (n=2)\n",
      "48-72 hours ahead: nan°F (n=0)\n"
     ]
    }
   ],
   "source": [
    "import plotly.express as px\n",
    "import plotly.graph_objects as go\n",
    "from plotly.subplots import make_subplots\n",
    "\n",
    "def analyze_forecast_accuracy(df_forecasts, df_observations, grouped_forecasts):\n",
    "    \"\"\"Analyze and visualize forecast accuracy.\"\"\"\n",
    "    accuracy_data = []\n",
    "    \n",
    "    for forecast_time_hour, group in grouped_forecasts:\n",
    "        hour_observations = df_observations[\n",
    "            (df_observations['observed_time'] >= forecast_time_hour) &\n",
    "            (df_observations['observed_time'] < forecast_time_hour + timedelta(hours=1))\n",
    "        ]\n",
    "        \n",
    "        if not hour_observations.empty:\n",
    "            actual_temp = hour_observations['temperature'].mean()\n",
    "            \n",
    "            for _, forecast in group.iterrows():\n",
    "                hours_ahead = (forecast_time_hour - forecast['created_at']).total_seconds() / 3600\n",
    "                error = forecast['temperature'] - actual_temp\n",
    "                accuracy_data.append({\n",
    "                    'forecast_time': forecast_time_hour,\n",
    "                    'created_at': forecast['created_at'],\n",
    "                    'created_hour': forecast['created_at'].hour,\n",
    "                    'hours_ahead': round(hours_ahead),  # Round to nearest hour\n",
    "                    'error': error,\n",
    "                    'actual_temp': actual_temp,\n",
    "                    'forecast_temp': forecast['temperature'],\n",
    "                    'error_magnitude': abs(error)\n",
    "                })\n",
    "    \n",
    "    df_accuracy = pd.DataFrame(accuracy_data)\n",
    "    \n",
    "    # 1. Average error by how many hours ahead the forecast was made\n",
    "    hours_ahead_mae = df_accuracy.groupby('hours_ahead')['error_magnitude'].agg(['mean', 'count']).reset_index()\n",
    "    fig1 = px.bar(hours_ahead_mae,\n",
    "                  x='hours_ahead',\n",
    "                  y='mean',\n",
    "                  title='Average Forecast Error by Hours Ahead',\n",
    "                  labels={'hours_ahead': 'Hours Ahead of Forecast Time',\n",
    "                         'mean': 'Mean Absolute Error (°F)'},\n",
    "                  hover_data=['count'])  # Show number of forecasts for each bar\n",
    "    fig1.show()\n",
    "    \n",
    "    # 2. Average error by creation hour\n",
    "    created_hour_mae = df_accuracy.groupby('created_hour')['error_magnitude'].mean().reset_index()\n",
    "    fig2 = px.bar(created_hour_mae,\n",
    "                  x='created_hour',\n",
    "                  y='error_magnitude',\n",
    "                  title='Average Forecast Error by Hour Created (EST)',\n",
    "                  labels={'created_hour': 'Hour Forecast Was Made (EST)',\n",
    "                         'error_magnitude': 'Mean Absolute Error (°F)'})\n",
    "    fig2.show()\n",
    "    \n",
    "    # 3. Heatmap showing error by creation hour and hours ahead\n",
    "    pivot_data = df_accuracy.pivot_table(\n",
    "        values='error_magnitude',\n",
    "        index='created_hour',\n",
    "        columns='hours_ahead',\n",
    "        aggfunc='mean'\n",
    "    )\n",
    "    \n",
    "    fig3 = px.imshow(pivot_data,\n",
    "                     title='Error Heatmap: Creation Hour vs Hours Ahead',\n",
    "                     labels=dict(x='Hours Ahead', \n",
    "                               y='Hour Forecast Was Made (EST)', \n",
    "                               color='Mean Absolute Error (°F)'),\n",
    "                     aspect='auto',\n",
    "                     color_continuous_scale='RdYlBu_r')\n",
    "    fig3.show()\n",
    "    \n",
    "    # 4. Summary statistics by forecast horizon\n",
    "    print(\"\\nSummary Statistics by Forecast Horizon:\")\n",
    "    horizons = [0, 6, 12, 24, 48, 72]  # Different forecast horizons to analyze\n",
    "    for i in range(len(horizons)-1):\n",
    "        mask = (df_accuracy['hours_ahead'] >= horizons[i]) & (df_accuracy['hours_ahead'] < horizons[i+1])\n",
    "        mae = df_accuracy[mask]['error_magnitude'].mean()\n",
    "        count = mask.sum()\n",
    "        print(f\"{horizons[i]}-{horizons[i+1]} hours ahead: {mae:.2f}°F (n={count})\")\n",
    "    \n",
    "    return df_accuracy\n",
    "\n",
    "# Run the analysis\n",
    "df_accuracy = analyze_forecast_accuracy(df_forecasts, df_observations, grouped_forecasts)"
   ]
  },
  {
   "cell_type": "code",
   "execution_count": 72,
   "metadata": {},
   "outputs": [
    {
     "data": {
      "application/vnd.plotly.v1+json": {
       "config": {
        "plotlyServerURL": "https://plot.ly"
       },
       "data": [
        {
         "customdata": [
          [
           "2024-12-10",
           9.992881940555556,
           -2.020000000000003,
           "2024-12-09T14:00:25.625014-05:00"
          ],
          [
           "2024-12-10",
           8.988933023333333,
           -2.020000000000003,
           "2024-12-09T15:00:39.841116-05:00"
          ],
          [
           "2024-12-10",
           7.9933875513888895,
           -0.020000000000003126,
           "2024-12-09T16:00:23.804815-05:00"
          ],
          [
           "2024-12-10",
           6.993562754722221,
           -0.020000000000003126,
           "2024-12-09T17:00:23.174083-05:00"
          ],
          [
           "2024-12-10",
           5.993668086944444,
           -0.020000000000003126,
           "2024-12-09T18:00:22.794887-05:00"
          ],
          [
           "2024-12-10",
           4.99341232,
           -2.020000000000003,
           "2024-12-09T19:00:23.715648-05:00"
          ],
          [
           "2024-12-10",
           3.993328022777778,
           -2.020000000000003,
           "2024-12-09T20:00:24.019118-05:00"
          ],
          [
           "2024-12-10",
           2.9920196100000003,
           -2.020000000000003,
           "2024-12-09T21:00:28.729404-05:00"
          ],
          [
           "2024-12-10",
           1.9888607163888887,
           -2.020000000000003,
           "2024-12-09T22:00:40.101421-05:00"
          ],
          [
           "2024-12-10",
           0.9940664513888888,
           -2.020000000000003,
           "2024-12-09T23:00:21.360775-05:00"
          ]
         ],
         "hovertemplate": "actual_max_temp=%{x:.2f}<br>forecast_temp=%{y:.2f}<br>date=%{customdata[0]}<br>hours_ahead=%{customdata[1]:.2f}<br>error=%{customdata[2]:.2f}<br>forecast_created=%{customdata[3]}<extra></extra>",
         "legendgroup": "",
         "marker": {
          "color": "#636efa",
          "symbol": "circle"
         },
         "mode": "markers",
         "name": "",
         "orientation": "v",
         "showlegend": false,
         "type": "scatter",
         "x": [
          48.02,
          48.02,
          48.02,
          48.02,
          48.02,
          48.02,
          48.02,
          48.02,
          48.02,
          48.02
         ],
         "xaxis": "x",
         "y": [
          46,
          46,
          48,
          48,
          48,
          46,
          46,
          46,
          46,
          46
         ],
         "yaxis": "y"
        },
        {
         "line": {
          "dash": "dash"
         },
         "mode": "lines",
         "name": "Perfect Forecast",
         "type": "scatter",
         "x": [
          48.02,
          48.02
         ],
         "y": [
          48.02,
          48.02
         ]
        }
       ],
       "layout": {
        "legend": {
         "tracegroupgap": 0
        },
        "template": {
         "data": {
          "bar": [
           {
            "error_x": {
             "color": "#2a3f5f"
            },
            "error_y": {
             "color": "#2a3f5f"
            },
            "marker": {
             "line": {
              "color": "#E5ECF6",
              "width": 0.5
             },
             "pattern": {
              "fillmode": "overlay",
              "size": 10,
              "solidity": 0.2
             }
            },
            "type": "bar"
           }
          ],
          "barpolar": [
           {
            "marker": {
             "line": {
              "color": "#E5ECF6",
              "width": 0.5
             },
             "pattern": {
              "fillmode": "overlay",
              "size": 10,
              "solidity": 0.2
             }
            },
            "type": "barpolar"
           }
          ],
          "carpet": [
           {
            "aaxis": {
             "endlinecolor": "#2a3f5f",
             "gridcolor": "white",
             "linecolor": "white",
             "minorgridcolor": "white",
             "startlinecolor": "#2a3f5f"
            },
            "baxis": {
             "endlinecolor": "#2a3f5f",
             "gridcolor": "white",
             "linecolor": "white",
             "minorgridcolor": "white",
             "startlinecolor": "#2a3f5f"
            },
            "type": "carpet"
           }
          ],
          "choropleth": [
           {
            "colorbar": {
             "outlinewidth": 0,
             "ticks": ""
            },
            "type": "choropleth"
           }
          ],
          "contour": [
           {
            "colorbar": {
             "outlinewidth": 0,
             "ticks": ""
            },
            "colorscale": [
             [
              0,
              "#0d0887"
             ],
             [
              0.1111111111111111,
              "#46039f"
             ],
             [
              0.2222222222222222,
              "#7201a8"
             ],
             [
              0.3333333333333333,
              "#9c179e"
             ],
             [
              0.4444444444444444,
              "#bd3786"
             ],
             [
              0.5555555555555556,
              "#d8576b"
             ],
             [
              0.6666666666666666,
              "#ed7953"
             ],
             [
              0.7777777777777778,
              "#fb9f3a"
             ],
             [
              0.8888888888888888,
              "#fdca26"
             ],
             [
              1,
              "#f0f921"
             ]
            ],
            "type": "contour"
           }
          ],
          "contourcarpet": [
           {
            "colorbar": {
             "outlinewidth": 0,
             "ticks": ""
            },
            "type": "contourcarpet"
           }
          ],
          "heatmap": [
           {
            "colorbar": {
             "outlinewidth": 0,
             "ticks": ""
            },
            "colorscale": [
             [
              0,
              "#0d0887"
             ],
             [
              0.1111111111111111,
              "#46039f"
             ],
             [
              0.2222222222222222,
              "#7201a8"
             ],
             [
              0.3333333333333333,
              "#9c179e"
             ],
             [
              0.4444444444444444,
              "#bd3786"
             ],
             [
              0.5555555555555556,
              "#d8576b"
             ],
             [
              0.6666666666666666,
              "#ed7953"
             ],
             [
              0.7777777777777778,
              "#fb9f3a"
             ],
             [
              0.8888888888888888,
              "#fdca26"
             ],
             [
              1,
              "#f0f921"
             ]
            ],
            "type": "heatmap"
           }
          ],
          "heatmapgl": [
           {
            "colorbar": {
             "outlinewidth": 0,
             "ticks": ""
            },
            "colorscale": [
             [
              0,
              "#0d0887"
             ],
             [
              0.1111111111111111,
              "#46039f"
             ],
             [
              0.2222222222222222,
              "#7201a8"
             ],
             [
              0.3333333333333333,
              "#9c179e"
             ],
             [
              0.4444444444444444,
              "#bd3786"
             ],
             [
              0.5555555555555556,
              "#d8576b"
             ],
             [
              0.6666666666666666,
              "#ed7953"
             ],
             [
              0.7777777777777778,
              "#fb9f3a"
             ],
             [
              0.8888888888888888,
              "#fdca26"
             ],
             [
              1,
              "#f0f921"
             ]
            ],
            "type": "heatmapgl"
           }
          ],
          "histogram": [
           {
            "marker": {
             "pattern": {
              "fillmode": "overlay",
              "size": 10,
              "solidity": 0.2
             }
            },
            "type": "histogram"
           }
          ],
          "histogram2d": [
           {
            "colorbar": {
             "outlinewidth": 0,
             "ticks": ""
            },
            "colorscale": [
             [
              0,
              "#0d0887"
             ],
             [
              0.1111111111111111,
              "#46039f"
             ],
             [
              0.2222222222222222,
              "#7201a8"
             ],
             [
              0.3333333333333333,
              "#9c179e"
             ],
             [
              0.4444444444444444,
              "#bd3786"
             ],
             [
              0.5555555555555556,
              "#d8576b"
             ],
             [
              0.6666666666666666,
              "#ed7953"
             ],
             [
              0.7777777777777778,
              "#fb9f3a"
             ],
             [
              0.8888888888888888,
              "#fdca26"
             ],
             [
              1,
              "#f0f921"
             ]
            ],
            "type": "histogram2d"
           }
          ],
          "histogram2dcontour": [
           {
            "colorbar": {
             "outlinewidth": 0,
             "ticks": ""
            },
            "colorscale": [
             [
              0,
              "#0d0887"
             ],
             [
              0.1111111111111111,
              "#46039f"
             ],
             [
              0.2222222222222222,
              "#7201a8"
             ],
             [
              0.3333333333333333,
              "#9c179e"
             ],
             [
              0.4444444444444444,
              "#bd3786"
             ],
             [
              0.5555555555555556,
              "#d8576b"
             ],
             [
              0.6666666666666666,
              "#ed7953"
             ],
             [
              0.7777777777777778,
              "#fb9f3a"
             ],
             [
              0.8888888888888888,
              "#fdca26"
             ],
             [
              1,
              "#f0f921"
             ]
            ],
            "type": "histogram2dcontour"
           }
          ],
          "mesh3d": [
           {
            "colorbar": {
             "outlinewidth": 0,
             "ticks": ""
            },
            "type": "mesh3d"
           }
          ],
          "parcoords": [
           {
            "line": {
             "colorbar": {
              "outlinewidth": 0,
              "ticks": ""
             }
            },
            "type": "parcoords"
           }
          ],
          "pie": [
           {
            "automargin": true,
            "type": "pie"
           }
          ],
          "scatter": [
           {
            "fillpattern": {
             "fillmode": "overlay",
             "size": 10,
             "solidity": 0.2
            },
            "type": "scatter"
           }
          ],
          "scatter3d": [
           {
            "line": {
             "colorbar": {
              "outlinewidth": 0,
              "ticks": ""
             }
            },
            "marker": {
             "colorbar": {
              "outlinewidth": 0,
              "ticks": ""
             }
            },
            "type": "scatter3d"
           }
          ],
          "scattercarpet": [
           {
            "marker": {
             "colorbar": {
              "outlinewidth": 0,
              "ticks": ""
             }
            },
            "type": "scattercarpet"
           }
          ],
          "scattergeo": [
           {
            "marker": {
             "colorbar": {
              "outlinewidth": 0,
              "ticks": ""
             }
            },
            "type": "scattergeo"
           }
          ],
          "scattergl": [
           {
            "marker": {
             "colorbar": {
              "outlinewidth": 0,
              "ticks": ""
             }
            },
            "type": "scattergl"
           }
          ],
          "scattermapbox": [
           {
            "marker": {
             "colorbar": {
              "outlinewidth": 0,
              "ticks": ""
             }
            },
            "type": "scattermapbox"
           }
          ],
          "scatterpolar": [
           {
            "marker": {
             "colorbar": {
              "outlinewidth": 0,
              "ticks": ""
             }
            },
            "type": "scatterpolar"
           }
          ],
          "scatterpolargl": [
           {
            "marker": {
             "colorbar": {
              "outlinewidth": 0,
              "ticks": ""
             }
            },
            "type": "scatterpolargl"
           }
          ],
          "scatterternary": [
           {
            "marker": {
             "colorbar": {
              "outlinewidth": 0,
              "ticks": ""
             }
            },
            "type": "scatterternary"
           }
          ],
          "surface": [
           {
            "colorbar": {
             "outlinewidth": 0,
             "ticks": ""
            },
            "colorscale": [
             [
              0,
              "#0d0887"
             ],
             [
              0.1111111111111111,
              "#46039f"
             ],
             [
              0.2222222222222222,
              "#7201a8"
             ],
             [
              0.3333333333333333,
              "#9c179e"
             ],
             [
              0.4444444444444444,
              "#bd3786"
             ],
             [
              0.5555555555555556,
              "#d8576b"
             ],
             [
              0.6666666666666666,
              "#ed7953"
             ],
             [
              0.7777777777777778,
              "#fb9f3a"
             ],
             [
              0.8888888888888888,
              "#fdca26"
             ],
             [
              1,
              "#f0f921"
             ]
            ],
            "type": "surface"
           }
          ],
          "table": [
           {
            "cells": {
             "fill": {
              "color": "#EBF0F8"
             },
             "line": {
              "color": "white"
             }
            },
            "header": {
             "fill": {
              "color": "#C8D4E3"
             },
             "line": {
              "color": "white"
             }
            },
            "type": "table"
           }
          ]
         },
         "layout": {
          "annotationdefaults": {
           "arrowcolor": "#2a3f5f",
           "arrowhead": 0,
           "arrowwidth": 1
          },
          "autotypenumbers": "strict",
          "coloraxis": {
           "colorbar": {
            "outlinewidth": 0,
            "ticks": ""
           }
          },
          "colorscale": {
           "diverging": [
            [
             0,
             "#8e0152"
            ],
            [
             0.1,
             "#c51b7d"
            ],
            [
             0.2,
             "#de77ae"
            ],
            [
             0.3,
             "#f1b6da"
            ],
            [
             0.4,
             "#fde0ef"
            ],
            [
             0.5,
             "#f7f7f7"
            ],
            [
             0.6,
             "#e6f5d0"
            ],
            [
             0.7,
             "#b8e186"
            ],
            [
             0.8,
             "#7fbc41"
            ],
            [
             0.9,
             "#4d9221"
            ],
            [
             1,
             "#276419"
            ]
           ],
           "sequential": [
            [
             0,
             "#0d0887"
            ],
            [
             0.1111111111111111,
             "#46039f"
            ],
            [
             0.2222222222222222,
             "#7201a8"
            ],
            [
             0.3333333333333333,
             "#9c179e"
            ],
            [
             0.4444444444444444,
             "#bd3786"
            ],
            [
             0.5555555555555556,
             "#d8576b"
            ],
            [
             0.6666666666666666,
             "#ed7953"
            ],
            [
             0.7777777777777778,
             "#fb9f3a"
            ],
            [
             0.8888888888888888,
             "#fdca26"
            ],
            [
             1,
             "#f0f921"
            ]
           ],
           "sequentialminus": [
            [
             0,
             "#0d0887"
            ],
            [
             0.1111111111111111,
             "#46039f"
            ],
            [
             0.2222222222222222,
             "#7201a8"
            ],
            [
             0.3333333333333333,
             "#9c179e"
            ],
            [
             0.4444444444444444,
             "#bd3786"
            ],
            [
             0.5555555555555556,
             "#d8576b"
            ],
            [
             0.6666666666666666,
             "#ed7953"
            ],
            [
             0.7777777777777778,
             "#fb9f3a"
            ],
            [
             0.8888888888888888,
             "#fdca26"
            ],
            [
             1,
             "#f0f921"
            ]
           ]
          },
          "colorway": [
           "#636efa",
           "#EF553B",
           "#00cc96",
           "#ab63fa",
           "#FFA15A",
           "#19d3f3",
           "#FF6692",
           "#B6E880",
           "#FF97FF",
           "#FECB52"
          ],
          "font": {
           "color": "#2a3f5f"
          },
          "geo": {
           "bgcolor": "white",
           "lakecolor": "white",
           "landcolor": "#E5ECF6",
           "showlakes": true,
           "showland": true,
           "subunitcolor": "white"
          },
          "hoverlabel": {
           "align": "left"
          },
          "hovermode": "closest",
          "mapbox": {
           "style": "light"
          },
          "paper_bgcolor": "white",
          "plot_bgcolor": "#E5ECF6",
          "polar": {
           "angularaxis": {
            "gridcolor": "white",
            "linecolor": "white",
            "ticks": ""
           },
           "bgcolor": "#E5ECF6",
           "radialaxis": {
            "gridcolor": "white",
            "linecolor": "white",
            "ticks": ""
           }
          },
          "scene": {
           "xaxis": {
            "backgroundcolor": "#E5ECF6",
            "gridcolor": "white",
            "gridwidth": 2,
            "linecolor": "white",
            "showbackground": true,
            "ticks": "",
            "zerolinecolor": "white"
           },
           "yaxis": {
            "backgroundcolor": "#E5ECF6",
            "gridcolor": "white",
            "gridwidth": 2,
            "linecolor": "white",
            "showbackground": true,
            "ticks": "",
            "zerolinecolor": "white"
           },
           "zaxis": {
            "backgroundcolor": "#E5ECF6",
            "gridcolor": "white",
            "gridwidth": 2,
            "linecolor": "white",
            "showbackground": true,
            "ticks": "",
            "zerolinecolor": "white"
           }
          },
          "shapedefaults": {
           "line": {
            "color": "#2a3f5f"
           }
          },
          "ternary": {
           "aaxis": {
            "gridcolor": "white",
            "linecolor": "white",
            "ticks": ""
           },
           "baxis": {
            "gridcolor": "white",
            "linecolor": "white",
            "ticks": ""
           },
           "bgcolor": "#E5ECF6",
           "caxis": {
            "gridcolor": "white",
            "linecolor": "white",
            "ticks": ""
           }
          },
          "title": {
           "x": 0.05
          },
          "xaxis": {
           "automargin": true,
           "gridcolor": "white",
           "linecolor": "white",
           "ticks": "",
           "title": {
            "standoff": 15
           },
           "zerolinecolor": "white",
           "zerolinewidth": 2
          },
          "yaxis": {
           "automargin": true,
           "gridcolor": "white",
           "linecolor": "white",
           "ticks": "",
           "title": {
            "standoff": 15
           },
           "zerolinecolor": "white",
           "zerolinewidth": 2
          }
         }
        },
        "title": {
         "text": "Forecast vs Actual Daily Maximum Temperatures"
        },
        "xaxis": {
         "anchor": "y",
         "domain": [
          0,
          1
         ],
         "title": {
          "text": "actual_max_temp"
         }
        },
        "yaxis": {
         "anchor": "x",
         "domain": [
          0,
          1
         ],
         "title": {
          "text": "forecast_temp"
         }
        }
       }
      }
     },
     "metadata": {},
     "output_type": "display_data"
    },
    {
     "data": {
      "application/vnd.plotly.v1+json": {
       "config": {
        "plotlyServerURL": "https://plot.ly"
       },
       "data": [
        {
         "alignmentgroup": "True",
         "customdata": [
          [
           "2024-12-10",
           "2024-12-09T14:00:25.625014-05:00"
          ],
          [
           "2024-12-10",
           "2024-12-09T15:00:39.841116-05:00"
          ],
          [
           "2024-12-10",
           "2024-12-09T16:00:23.804815-05:00"
          ],
          [
           "2024-12-10",
           "2024-12-09T17:00:23.174083-05:00"
          ],
          [
           "2024-12-10",
           "2024-12-09T18:00:22.794887-05:00"
          ],
          [
           "2024-12-10",
           "2024-12-09T19:00:23.715648-05:00"
          ],
          [
           "2024-12-10",
           "2024-12-09T20:00:24.019118-05:00"
          ],
          [
           "2024-12-10",
           "2024-12-09T21:00:28.729404-05:00"
          ],
          [
           "2024-12-10",
           "2024-12-09T22:00:40.101421-05:00"
          ],
          [
           "2024-12-10",
           "2024-12-09T23:00:21.360775-05:00"
          ]
         ],
         "hovertemplate": "x=%{x}<br>error=%{y}<br>date=%{customdata[0]}<br>forecast_created=%{customdata[1]}<extra></extra>",
         "legendgroup": "",
         "marker": {
          "color": "#636efa"
         },
         "name": "",
         "notched": false,
         "offsetgroup": "",
         "orientation": "v",
         "showlegend": false,
         "type": "box",
         "x": [
          10,
          9,
          8,
          7,
          6,
          5,
          4,
          3,
          2,
          1
         ],
         "x0": " ",
         "xaxis": "x",
         "y": [
          -2.020000000000003,
          -2.020000000000003,
          -0.020000000000003126,
          -0.020000000000003126,
          -0.020000000000003126,
          -2.020000000000003,
          -2.020000000000003,
          -2.020000000000003,
          -2.020000000000003,
          -2.020000000000003
         ],
         "y0": " ",
         "yaxis": "y"
        }
       ],
       "layout": {
        "boxmode": "group",
        "legend": {
         "tracegroupgap": 0
        },
        "template": {
         "data": {
          "bar": [
           {
            "error_x": {
             "color": "#2a3f5f"
            },
            "error_y": {
             "color": "#2a3f5f"
            },
            "marker": {
             "line": {
              "color": "#E5ECF6",
              "width": 0.5
             },
             "pattern": {
              "fillmode": "overlay",
              "size": 10,
              "solidity": 0.2
             }
            },
            "type": "bar"
           }
          ],
          "barpolar": [
           {
            "marker": {
             "line": {
              "color": "#E5ECF6",
              "width": 0.5
             },
             "pattern": {
              "fillmode": "overlay",
              "size": 10,
              "solidity": 0.2
             }
            },
            "type": "barpolar"
           }
          ],
          "carpet": [
           {
            "aaxis": {
             "endlinecolor": "#2a3f5f",
             "gridcolor": "white",
             "linecolor": "white",
             "minorgridcolor": "white",
             "startlinecolor": "#2a3f5f"
            },
            "baxis": {
             "endlinecolor": "#2a3f5f",
             "gridcolor": "white",
             "linecolor": "white",
             "minorgridcolor": "white",
             "startlinecolor": "#2a3f5f"
            },
            "type": "carpet"
           }
          ],
          "choropleth": [
           {
            "colorbar": {
             "outlinewidth": 0,
             "ticks": ""
            },
            "type": "choropleth"
           }
          ],
          "contour": [
           {
            "colorbar": {
             "outlinewidth": 0,
             "ticks": ""
            },
            "colorscale": [
             [
              0,
              "#0d0887"
             ],
             [
              0.1111111111111111,
              "#46039f"
             ],
             [
              0.2222222222222222,
              "#7201a8"
             ],
             [
              0.3333333333333333,
              "#9c179e"
             ],
             [
              0.4444444444444444,
              "#bd3786"
             ],
             [
              0.5555555555555556,
              "#d8576b"
             ],
             [
              0.6666666666666666,
              "#ed7953"
             ],
             [
              0.7777777777777778,
              "#fb9f3a"
             ],
             [
              0.8888888888888888,
              "#fdca26"
             ],
             [
              1,
              "#f0f921"
             ]
            ],
            "type": "contour"
           }
          ],
          "contourcarpet": [
           {
            "colorbar": {
             "outlinewidth": 0,
             "ticks": ""
            },
            "type": "contourcarpet"
           }
          ],
          "heatmap": [
           {
            "colorbar": {
             "outlinewidth": 0,
             "ticks": ""
            },
            "colorscale": [
             [
              0,
              "#0d0887"
             ],
             [
              0.1111111111111111,
              "#46039f"
             ],
             [
              0.2222222222222222,
              "#7201a8"
             ],
             [
              0.3333333333333333,
              "#9c179e"
             ],
             [
              0.4444444444444444,
              "#bd3786"
             ],
             [
              0.5555555555555556,
              "#d8576b"
             ],
             [
              0.6666666666666666,
              "#ed7953"
             ],
             [
              0.7777777777777778,
              "#fb9f3a"
             ],
             [
              0.8888888888888888,
              "#fdca26"
             ],
             [
              1,
              "#f0f921"
             ]
            ],
            "type": "heatmap"
           }
          ],
          "heatmapgl": [
           {
            "colorbar": {
             "outlinewidth": 0,
             "ticks": ""
            },
            "colorscale": [
             [
              0,
              "#0d0887"
             ],
             [
              0.1111111111111111,
              "#46039f"
             ],
             [
              0.2222222222222222,
              "#7201a8"
             ],
             [
              0.3333333333333333,
              "#9c179e"
             ],
             [
              0.4444444444444444,
              "#bd3786"
             ],
             [
              0.5555555555555556,
              "#d8576b"
             ],
             [
              0.6666666666666666,
              "#ed7953"
             ],
             [
              0.7777777777777778,
              "#fb9f3a"
             ],
             [
              0.8888888888888888,
              "#fdca26"
             ],
             [
              1,
              "#f0f921"
             ]
            ],
            "type": "heatmapgl"
           }
          ],
          "histogram": [
           {
            "marker": {
             "pattern": {
              "fillmode": "overlay",
              "size": 10,
              "solidity": 0.2
             }
            },
            "type": "histogram"
           }
          ],
          "histogram2d": [
           {
            "colorbar": {
             "outlinewidth": 0,
             "ticks": ""
            },
            "colorscale": [
             [
              0,
              "#0d0887"
             ],
             [
              0.1111111111111111,
              "#46039f"
             ],
             [
              0.2222222222222222,
              "#7201a8"
             ],
             [
              0.3333333333333333,
              "#9c179e"
             ],
             [
              0.4444444444444444,
              "#bd3786"
             ],
             [
              0.5555555555555556,
              "#d8576b"
             ],
             [
              0.6666666666666666,
              "#ed7953"
             ],
             [
              0.7777777777777778,
              "#fb9f3a"
             ],
             [
              0.8888888888888888,
              "#fdca26"
             ],
             [
              1,
              "#f0f921"
             ]
            ],
            "type": "histogram2d"
           }
          ],
          "histogram2dcontour": [
           {
            "colorbar": {
             "outlinewidth": 0,
             "ticks": ""
            },
            "colorscale": [
             [
              0,
              "#0d0887"
             ],
             [
              0.1111111111111111,
              "#46039f"
             ],
             [
              0.2222222222222222,
              "#7201a8"
             ],
             [
              0.3333333333333333,
              "#9c179e"
             ],
             [
              0.4444444444444444,
              "#bd3786"
             ],
             [
              0.5555555555555556,
              "#d8576b"
             ],
             [
              0.6666666666666666,
              "#ed7953"
             ],
             [
              0.7777777777777778,
              "#fb9f3a"
             ],
             [
              0.8888888888888888,
              "#fdca26"
             ],
             [
              1,
              "#f0f921"
             ]
            ],
            "type": "histogram2dcontour"
           }
          ],
          "mesh3d": [
           {
            "colorbar": {
             "outlinewidth": 0,
             "ticks": ""
            },
            "type": "mesh3d"
           }
          ],
          "parcoords": [
           {
            "line": {
             "colorbar": {
              "outlinewidth": 0,
              "ticks": ""
             }
            },
            "type": "parcoords"
           }
          ],
          "pie": [
           {
            "automargin": true,
            "type": "pie"
           }
          ],
          "scatter": [
           {
            "fillpattern": {
             "fillmode": "overlay",
             "size": 10,
             "solidity": 0.2
            },
            "type": "scatter"
           }
          ],
          "scatter3d": [
           {
            "line": {
             "colorbar": {
              "outlinewidth": 0,
              "ticks": ""
             }
            },
            "marker": {
             "colorbar": {
              "outlinewidth": 0,
              "ticks": ""
             }
            },
            "type": "scatter3d"
           }
          ],
          "scattercarpet": [
           {
            "marker": {
             "colorbar": {
              "outlinewidth": 0,
              "ticks": ""
             }
            },
            "type": "scattercarpet"
           }
          ],
          "scattergeo": [
           {
            "marker": {
             "colorbar": {
              "outlinewidth": 0,
              "ticks": ""
             }
            },
            "type": "scattergeo"
           }
          ],
          "scattergl": [
           {
            "marker": {
             "colorbar": {
              "outlinewidth": 0,
              "ticks": ""
             }
            },
            "type": "scattergl"
           }
          ],
          "scattermapbox": [
           {
            "marker": {
             "colorbar": {
              "outlinewidth": 0,
              "ticks": ""
             }
            },
            "type": "scattermapbox"
           }
          ],
          "scatterpolar": [
           {
            "marker": {
             "colorbar": {
              "outlinewidth": 0,
              "ticks": ""
             }
            },
            "type": "scatterpolar"
           }
          ],
          "scatterpolargl": [
           {
            "marker": {
             "colorbar": {
              "outlinewidth": 0,
              "ticks": ""
             }
            },
            "type": "scatterpolargl"
           }
          ],
          "scatterternary": [
           {
            "marker": {
             "colorbar": {
              "outlinewidth": 0,
              "ticks": ""
             }
            },
            "type": "scatterternary"
           }
          ],
          "surface": [
           {
            "colorbar": {
             "outlinewidth": 0,
             "ticks": ""
            },
            "colorscale": [
             [
              0,
              "#0d0887"
             ],
             [
              0.1111111111111111,
              "#46039f"
             ],
             [
              0.2222222222222222,
              "#7201a8"
             ],
             [
              0.3333333333333333,
              "#9c179e"
             ],
             [
              0.4444444444444444,
              "#bd3786"
             ],
             [
              0.5555555555555556,
              "#d8576b"
             ],
             [
              0.6666666666666666,
              "#ed7953"
             ],
             [
              0.7777777777777778,
              "#fb9f3a"
             ],
             [
              0.8888888888888888,
              "#fdca26"
             ],
             [
              1,
              "#f0f921"
             ]
            ],
            "type": "surface"
           }
          ],
          "table": [
           {
            "cells": {
             "fill": {
              "color": "#EBF0F8"
             },
             "line": {
              "color": "white"
             }
            },
            "header": {
             "fill": {
              "color": "#C8D4E3"
             },
             "line": {
              "color": "white"
             }
            },
            "type": "table"
           }
          ]
         },
         "layout": {
          "annotationdefaults": {
           "arrowcolor": "#2a3f5f",
           "arrowhead": 0,
           "arrowwidth": 1
          },
          "autotypenumbers": "strict",
          "coloraxis": {
           "colorbar": {
            "outlinewidth": 0,
            "ticks": ""
           }
          },
          "colorscale": {
           "diverging": [
            [
             0,
             "#8e0152"
            ],
            [
             0.1,
             "#c51b7d"
            ],
            [
             0.2,
             "#de77ae"
            ],
            [
             0.3,
             "#f1b6da"
            ],
            [
             0.4,
             "#fde0ef"
            ],
            [
             0.5,
             "#f7f7f7"
            ],
            [
             0.6,
             "#e6f5d0"
            ],
            [
             0.7,
             "#b8e186"
            ],
            [
             0.8,
             "#7fbc41"
            ],
            [
             0.9,
             "#4d9221"
            ],
            [
             1,
             "#276419"
            ]
           ],
           "sequential": [
            [
             0,
             "#0d0887"
            ],
            [
             0.1111111111111111,
             "#46039f"
            ],
            [
             0.2222222222222222,
             "#7201a8"
            ],
            [
             0.3333333333333333,
             "#9c179e"
            ],
            [
             0.4444444444444444,
             "#bd3786"
            ],
            [
             0.5555555555555556,
             "#d8576b"
            ],
            [
             0.6666666666666666,
             "#ed7953"
            ],
            [
             0.7777777777777778,
             "#fb9f3a"
            ],
            [
             0.8888888888888888,
             "#fdca26"
            ],
            [
             1,
             "#f0f921"
            ]
           ],
           "sequentialminus": [
            [
             0,
             "#0d0887"
            ],
            [
             0.1111111111111111,
             "#46039f"
            ],
            [
             0.2222222222222222,
             "#7201a8"
            ],
            [
             0.3333333333333333,
             "#9c179e"
            ],
            [
             0.4444444444444444,
             "#bd3786"
            ],
            [
             0.5555555555555556,
             "#d8576b"
            ],
            [
             0.6666666666666666,
             "#ed7953"
            ],
            [
             0.7777777777777778,
             "#fb9f3a"
            ],
            [
             0.8888888888888888,
             "#fdca26"
            ],
            [
             1,
             "#f0f921"
            ]
           ]
          },
          "colorway": [
           "#636efa",
           "#EF553B",
           "#00cc96",
           "#ab63fa",
           "#FFA15A",
           "#19d3f3",
           "#FF6692",
           "#B6E880",
           "#FF97FF",
           "#FECB52"
          ],
          "font": {
           "color": "#2a3f5f"
          },
          "geo": {
           "bgcolor": "white",
           "lakecolor": "white",
           "landcolor": "#E5ECF6",
           "showlakes": true,
           "showland": true,
           "subunitcolor": "white"
          },
          "hoverlabel": {
           "align": "left"
          },
          "hovermode": "closest",
          "mapbox": {
           "style": "light"
          },
          "paper_bgcolor": "white",
          "plot_bgcolor": "#E5ECF6",
          "polar": {
           "angularaxis": {
            "gridcolor": "white",
            "linecolor": "white",
            "ticks": ""
           },
           "bgcolor": "#E5ECF6",
           "radialaxis": {
            "gridcolor": "white",
            "linecolor": "white",
            "ticks": ""
           }
          },
          "scene": {
           "xaxis": {
            "backgroundcolor": "#E5ECF6",
            "gridcolor": "white",
            "gridwidth": 2,
            "linecolor": "white",
            "showbackground": true,
            "ticks": "",
            "zerolinecolor": "white"
           },
           "yaxis": {
            "backgroundcolor": "#E5ECF6",
            "gridcolor": "white",
            "gridwidth": 2,
            "linecolor": "white",
            "showbackground": true,
            "ticks": "",
            "zerolinecolor": "white"
           },
           "zaxis": {
            "backgroundcolor": "#E5ECF6",
            "gridcolor": "white",
            "gridwidth": 2,
            "linecolor": "white",
            "showbackground": true,
            "ticks": "",
            "zerolinecolor": "white"
           }
          },
          "shapedefaults": {
           "line": {
            "color": "#2a3f5f"
           }
          },
          "ternary": {
           "aaxis": {
            "gridcolor": "white",
            "linecolor": "white",
            "ticks": ""
           },
           "baxis": {
            "gridcolor": "white",
            "linecolor": "white",
            "ticks": ""
           },
           "bgcolor": "#E5ECF6",
           "caxis": {
            "gridcolor": "white",
            "linecolor": "white",
            "ticks": ""
           }
          },
          "title": {
           "x": 0.05
          },
          "xaxis": {
           "automargin": true,
           "gridcolor": "white",
           "linecolor": "white",
           "ticks": "",
           "title": {
            "standoff": 15
           },
           "zerolinecolor": "white",
           "zerolinewidth": 2
          },
          "yaxis": {
           "automargin": true,
           "gridcolor": "white",
           "linecolor": "white",
           "ticks": "",
           "title": {
            "standoff": 15
           },
           "zerolinecolor": "white",
           "zerolinewidth": 2
          }
         }
        },
        "title": {
         "text": "Forecast Error Distribution by Lead Time (Daily Max Temp)"
        },
        "xaxis": {
         "anchor": "y",
         "domain": [
          0,
          1
         ],
         "title": {
          "text": "x"
         }
        },
        "yaxis": {
         "anchor": "x",
         "domain": [
          0,
          1
         ],
         "title": {
          "text": "error"
         }
        }
       }
      }
     },
     "metadata": {},
     "output_type": "display_data"
    },
    {
     "data": {
      "application/vnd.plotly.v1+json": {
       "config": {
        "plotlyServerURL": "https://plot.ly"
       },
       "data": [
        {
         "customdata": [
          [
           9.992881940555556,
           "2024-12-09T14:00:25.625014-05:00",
           48.02,
           46
          ],
          [
           8.988933023333333,
           "2024-12-09T15:00:39.841116-05:00",
           48.02,
           46
          ],
          [
           7.9933875513888895,
           "2024-12-09T16:00:23.804815-05:00",
           48.02,
           48
          ],
          [
           6.993562754722221,
           "2024-12-09T17:00:23.174083-05:00",
           48.02,
           48
          ],
          [
           5.993668086944444,
           "2024-12-09T18:00:22.794887-05:00",
           48.02,
           48
          ],
          [
           4.99341232,
           "2024-12-09T19:00:23.715648-05:00",
           48.02,
           46
          ],
          [
           3.993328022777778,
           "2024-12-09T20:00:24.019118-05:00",
           48.02,
           46
          ],
          [
           2.9920196100000003,
           "2024-12-09T21:00:28.729404-05:00",
           48.02,
           46
          ],
          [
           1.9888607163888887,
           "2024-12-09T22:00:40.101421-05:00",
           48.02,
           46
          ],
          [
           0.9940664513888888,
           "2024-12-09T23:00:21.360775-05:00",
           48.02,
           46
          ]
         ],
         "hovertemplate": "date=%{x}<br>error=%{y:.2f}<br>hours_ahead=%{customdata[0]:.2f}<br>forecast_created=%{customdata[1]}<br>actual_max_temp=%{customdata[2]:.2f}<br>forecast_temp=%{customdata[3]:.2f}<extra></extra>",
         "legendgroup": "",
         "marker": {
          "color": "#636efa",
          "symbol": "circle"
         },
         "mode": "markers",
         "name": "",
         "orientation": "v",
         "showlegend": false,
         "type": "scatter",
         "x": [
          "2024-12-10",
          "2024-12-10",
          "2024-12-10",
          "2024-12-10",
          "2024-12-10",
          "2024-12-10",
          "2024-12-10",
          "2024-12-10",
          "2024-12-10",
          "2024-12-10"
         ],
         "xaxis": "x",
         "y": [
          -2.020000000000003,
          -2.020000000000003,
          -0.020000000000003126,
          -0.020000000000003126,
          -0.020000000000003126,
          -2.020000000000003,
          -2.020000000000003,
          -2.020000000000003,
          -2.020000000000003,
          -2.020000000000003
         ],
         "yaxis": "y"
        }
       ],
       "layout": {
        "legend": {
         "tracegroupgap": 0
        },
        "shapes": [
         {
          "line": {
           "color": "red",
           "dash": "dash"
          },
          "type": "line",
          "x0": 0,
          "x1": 1,
          "xref": "x domain",
          "y0": 0,
          "y1": 0,
          "yref": "y"
         }
        ],
        "template": {
         "data": {
          "bar": [
           {
            "error_x": {
             "color": "#2a3f5f"
            },
            "error_y": {
             "color": "#2a3f5f"
            },
            "marker": {
             "line": {
              "color": "#E5ECF6",
              "width": 0.5
             },
             "pattern": {
              "fillmode": "overlay",
              "size": 10,
              "solidity": 0.2
             }
            },
            "type": "bar"
           }
          ],
          "barpolar": [
           {
            "marker": {
             "line": {
              "color": "#E5ECF6",
              "width": 0.5
             },
             "pattern": {
              "fillmode": "overlay",
              "size": 10,
              "solidity": 0.2
             }
            },
            "type": "barpolar"
           }
          ],
          "carpet": [
           {
            "aaxis": {
             "endlinecolor": "#2a3f5f",
             "gridcolor": "white",
             "linecolor": "white",
             "minorgridcolor": "white",
             "startlinecolor": "#2a3f5f"
            },
            "baxis": {
             "endlinecolor": "#2a3f5f",
             "gridcolor": "white",
             "linecolor": "white",
             "minorgridcolor": "white",
             "startlinecolor": "#2a3f5f"
            },
            "type": "carpet"
           }
          ],
          "choropleth": [
           {
            "colorbar": {
             "outlinewidth": 0,
             "ticks": ""
            },
            "type": "choropleth"
           }
          ],
          "contour": [
           {
            "colorbar": {
             "outlinewidth": 0,
             "ticks": ""
            },
            "colorscale": [
             [
              0,
              "#0d0887"
             ],
             [
              0.1111111111111111,
              "#46039f"
             ],
             [
              0.2222222222222222,
              "#7201a8"
             ],
             [
              0.3333333333333333,
              "#9c179e"
             ],
             [
              0.4444444444444444,
              "#bd3786"
             ],
             [
              0.5555555555555556,
              "#d8576b"
             ],
             [
              0.6666666666666666,
              "#ed7953"
             ],
             [
              0.7777777777777778,
              "#fb9f3a"
             ],
             [
              0.8888888888888888,
              "#fdca26"
             ],
             [
              1,
              "#f0f921"
             ]
            ],
            "type": "contour"
           }
          ],
          "contourcarpet": [
           {
            "colorbar": {
             "outlinewidth": 0,
             "ticks": ""
            },
            "type": "contourcarpet"
           }
          ],
          "heatmap": [
           {
            "colorbar": {
             "outlinewidth": 0,
             "ticks": ""
            },
            "colorscale": [
             [
              0,
              "#0d0887"
             ],
             [
              0.1111111111111111,
              "#46039f"
             ],
             [
              0.2222222222222222,
              "#7201a8"
             ],
             [
              0.3333333333333333,
              "#9c179e"
             ],
             [
              0.4444444444444444,
              "#bd3786"
             ],
             [
              0.5555555555555556,
              "#d8576b"
             ],
             [
              0.6666666666666666,
              "#ed7953"
             ],
             [
              0.7777777777777778,
              "#fb9f3a"
             ],
             [
              0.8888888888888888,
              "#fdca26"
             ],
             [
              1,
              "#f0f921"
             ]
            ],
            "type": "heatmap"
           }
          ],
          "heatmapgl": [
           {
            "colorbar": {
             "outlinewidth": 0,
             "ticks": ""
            },
            "colorscale": [
             [
              0,
              "#0d0887"
             ],
             [
              0.1111111111111111,
              "#46039f"
             ],
             [
              0.2222222222222222,
              "#7201a8"
             ],
             [
              0.3333333333333333,
              "#9c179e"
             ],
             [
              0.4444444444444444,
              "#bd3786"
             ],
             [
              0.5555555555555556,
              "#d8576b"
             ],
             [
              0.6666666666666666,
              "#ed7953"
             ],
             [
              0.7777777777777778,
              "#fb9f3a"
             ],
             [
              0.8888888888888888,
              "#fdca26"
             ],
             [
              1,
              "#f0f921"
             ]
            ],
            "type": "heatmapgl"
           }
          ],
          "histogram": [
           {
            "marker": {
             "pattern": {
              "fillmode": "overlay",
              "size": 10,
              "solidity": 0.2
             }
            },
            "type": "histogram"
           }
          ],
          "histogram2d": [
           {
            "colorbar": {
             "outlinewidth": 0,
             "ticks": ""
            },
            "colorscale": [
             [
              0,
              "#0d0887"
             ],
             [
              0.1111111111111111,
              "#46039f"
             ],
             [
              0.2222222222222222,
              "#7201a8"
             ],
             [
              0.3333333333333333,
              "#9c179e"
             ],
             [
              0.4444444444444444,
              "#bd3786"
             ],
             [
              0.5555555555555556,
              "#d8576b"
             ],
             [
              0.6666666666666666,
              "#ed7953"
             ],
             [
              0.7777777777777778,
              "#fb9f3a"
             ],
             [
              0.8888888888888888,
              "#fdca26"
             ],
             [
              1,
              "#f0f921"
             ]
            ],
            "type": "histogram2d"
           }
          ],
          "histogram2dcontour": [
           {
            "colorbar": {
             "outlinewidth": 0,
             "ticks": ""
            },
            "colorscale": [
             [
              0,
              "#0d0887"
             ],
             [
              0.1111111111111111,
              "#46039f"
             ],
             [
              0.2222222222222222,
              "#7201a8"
             ],
             [
              0.3333333333333333,
              "#9c179e"
             ],
             [
              0.4444444444444444,
              "#bd3786"
             ],
             [
              0.5555555555555556,
              "#d8576b"
             ],
             [
              0.6666666666666666,
              "#ed7953"
             ],
             [
              0.7777777777777778,
              "#fb9f3a"
             ],
             [
              0.8888888888888888,
              "#fdca26"
             ],
             [
              1,
              "#f0f921"
             ]
            ],
            "type": "histogram2dcontour"
           }
          ],
          "mesh3d": [
           {
            "colorbar": {
             "outlinewidth": 0,
             "ticks": ""
            },
            "type": "mesh3d"
           }
          ],
          "parcoords": [
           {
            "line": {
             "colorbar": {
              "outlinewidth": 0,
              "ticks": ""
             }
            },
            "type": "parcoords"
           }
          ],
          "pie": [
           {
            "automargin": true,
            "type": "pie"
           }
          ],
          "scatter": [
           {
            "fillpattern": {
             "fillmode": "overlay",
             "size": 10,
             "solidity": 0.2
            },
            "type": "scatter"
           }
          ],
          "scatter3d": [
           {
            "line": {
             "colorbar": {
              "outlinewidth": 0,
              "ticks": ""
             }
            },
            "marker": {
             "colorbar": {
              "outlinewidth": 0,
              "ticks": ""
             }
            },
            "type": "scatter3d"
           }
          ],
          "scattercarpet": [
           {
            "marker": {
             "colorbar": {
              "outlinewidth": 0,
              "ticks": ""
             }
            },
            "type": "scattercarpet"
           }
          ],
          "scattergeo": [
           {
            "marker": {
             "colorbar": {
              "outlinewidth": 0,
              "ticks": ""
             }
            },
            "type": "scattergeo"
           }
          ],
          "scattergl": [
           {
            "marker": {
             "colorbar": {
              "outlinewidth": 0,
              "ticks": ""
             }
            },
            "type": "scattergl"
           }
          ],
          "scattermapbox": [
           {
            "marker": {
             "colorbar": {
              "outlinewidth": 0,
              "ticks": ""
             }
            },
            "type": "scattermapbox"
           }
          ],
          "scatterpolar": [
           {
            "marker": {
             "colorbar": {
              "outlinewidth": 0,
              "ticks": ""
             }
            },
            "type": "scatterpolar"
           }
          ],
          "scatterpolargl": [
           {
            "marker": {
             "colorbar": {
              "outlinewidth": 0,
              "ticks": ""
             }
            },
            "type": "scatterpolargl"
           }
          ],
          "scatterternary": [
           {
            "marker": {
             "colorbar": {
              "outlinewidth": 0,
              "ticks": ""
             }
            },
            "type": "scatterternary"
           }
          ],
          "surface": [
           {
            "colorbar": {
             "outlinewidth": 0,
             "ticks": ""
            },
            "colorscale": [
             [
              0,
              "#0d0887"
             ],
             [
              0.1111111111111111,
              "#46039f"
             ],
             [
              0.2222222222222222,
              "#7201a8"
             ],
             [
              0.3333333333333333,
              "#9c179e"
             ],
             [
              0.4444444444444444,
              "#bd3786"
             ],
             [
              0.5555555555555556,
              "#d8576b"
             ],
             [
              0.6666666666666666,
              "#ed7953"
             ],
             [
              0.7777777777777778,
              "#fb9f3a"
             ],
             [
              0.8888888888888888,
              "#fdca26"
             ],
             [
              1,
              "#f0f921"
             ]
            ],
            "type": "surface"
           }
          ],
          "table": [
           {
            "cells": {
             "fill": {
              "color": "#EBF0F8"
             },
             "line": {
              "color": "white"
             }
            },
            "header": {
             "fill": {
              "color": "#C8D4E3"
             },
             "line": {
              "color": "white"
             }
            },
            "type": "table"
           }
          ]
         },
         "layout": {
          "annotationdefaults": {
           "arrowcolor": "#2a3f5f",
           "arrowhead": 0,
           "arrowwidth": 1
          },
          "autotypenumbers": "strict",
          "coloraxis": {
           "colorbar": {
            "outlinewidth": 0,
            "ticks": ""
           }
          },
          "colorscale": {
           "diverging": [
            [
             0,
             "#8e0152"
            ],
            [
             0.1,
             "#c51b7d"
            ],
            [
             0.2,
             "#de77ae"
            ],
            [
             0.3,
             "#f1b6da"
            ],
            [
             0.4,
             "#fde0ef"
            ],
            [
             0.5,
             "#f7f7f7"
            ],
            [
             0.6,
             "#e6f5d0"
            ],
            [
             0.7,
             "#b8e186"
            ],
            [
             0.8,
             "#7fbc41"
            ],
            [
             0.9,
             "#4d9221"
            ],
            [
             1,
             "#276419"
            ]
           ],
           "sequential": [
            [
             0,
             "#0d0887"
            ],
            [
             0.1111111111111111,
             "#46039f"
            ],
            [
             0.2222222222222222,
             "#7201a8"
            ],
            [
             0.3333333333333333,
             "#9c179e"
            ],
            [
             0.4444444444444444,
             "#bd3786"
            ],
            [
             0.5555555555555556,
             "#d8576b"
            ],
            [
             0.6666666666666666,
             "#ed7953"
            ],
            [
             0.7777777777777778,
             "#fb9f3a"
            ],
            [
             0.8888888888888888,
             "#fdca26"
            ],
            [
             1,
             "#f0f921"
            ]
           ],
           "sequentialminus": [
            [
             0,
             "#0d0887"
            ],
            [
             0.1111111111111111,
             "#46039f"
            ],
            [
             0.2222222222222222,
             "#7201a8"
            ],
            [
             0.3333333333333333,
             "#9c179e"
            ],
            [
             0.4444444444444444,
             "#bd3786"
            ],
            [
             0.5555555555555556,
             "#d8576b"
            ],
            [
             0.6666666666666666,
             "#ed7953"
            ],
            [
             0.7777777777777778,
             "#fb9f3a"
            ],
            [
             0.8888888888888888,
             "#fdca26"
            ],
            [
             1,
             "#f0f921"
            ]
           ]
          },
          "colorway": [
           "#636efa",
           "#EF553B",
           "#00cc96",
           "#ab63fa",
           "#FFA15A",
           "#19d3f3",
           "#FF6692",
           "#B6E880",
           "#FF97FF",
           "#FECB52"
          ],
          "font": {
           "color": "#2a3f5f"
          },
          "geo": {
           "bgcolor": "white",
           "lakecolor": "white",
           "landcolor": "#E5ECF6",
           "showlakes": true,
           "showland": true,
           "subunitcolor": "white"
          },
          "hoverlabel": {
           "align": "left"
          },
          "hovermode": "closest",
          "mapbox": {
           "style": "light"
          },
          "paper_bgcolor": "white",
          "plot_bgcolor": "#E5ECF6",
          "polar": {
           "angularaxis": {
            "gridcolor": "white",
            "linecolor": "white",
            "ticks": ""
           },
           "bgcolor": "#E5ECF6",
           "radialaxis": {
            "gridcolor": "white",
            "linecolor": "white",
            "ticks": ""
           }
          },
          "scene": {
           "xaxis": {
            "backgroundcolor": "#E5ECF6",
            "gridcolor": "white",
            "gridwidth": 2,
            "linecolor": "white",
            "showbackground": true,
            "ticks": "",
            "zerolinecolor": "white"
           },
           "yaxis": {
            "backgroundcolor": "#E5ECF6",
            "gridcolor": "white",
            "gridwidth": 2,
            "linecolor": "white",
            "showbackground": true,
            "ticks": "",
            "zerolinecolor": "white"
           },
           "zaxis": {
            "backgroundcolor": "#E5ECF6",
            "gridcolor": "white",
            "gridwidth": 2,
            "linecolor": "white",
            "showbackground": true,
            "ticks": "",
            "zerolinecolor": "white"
           }
          },
          "shapedefaults": {
           "line": {
            "color": "#2a3f5f"
           }
          },
          "ternary": {
           "aaxis": {
            "gridcolor": "white",
            "linecolor": "white",
            "ticks": ""
           },
           "baxis": {
            "gridcolor": "white",
            "linecolor": "white",
            "ticks": ""
           },
           "bgcolor": "#E5ECF6",
           "caxis": {
            "gridcolor": "white",
            "linecolor": "white",
            "ticks": ""
           }
          },
          "title": {
           "x": 0.05
          },
          "xaxis": {
           "automargin": true,
           "gridcolor": "white",
           "linecolor": "white",
           "ticks": "",
           "title": {
            "standoff": 15
           },
           "zerolinecolor": "white",
           "zerolinewidth": 2
          },
          "yaxis": {
           "automargin": true,
           "gridcolor": "white",
           "linecolor": "white",
           "ticks": "",
           "title": {
            "standoff": 15
           },
           "zerolinecolor": "white",
           "zerolinewidth": 2
          }
         }
        },
        "title": {
         "text": "Daily Maximum Temperature Forecast Errors Over Time"
        },
        "xaxis": {
         "anchor": "y",
         "domain": [
          0,
          1
         ],
         "title": {
          "text": "date"
         }
        },
        "yaxis": {
         "anchor": "x",
         "domain": [
          0,
          1
         ],
         "title": {
          "text": "error"
         }
        }
       }
      }
     },
     "metadata": {},
     "output_type": "display_data"
    },
    {
     "name": "stdout",
     "output_type": "stream",
     "text": [
      "\n",
      "Summary Statistics for Daily Maximum Temperature Forecasts:\n",
      "Mean Absolute Error: 1.42°F\n",
      "Median Absolute Error: 2.02°F\n",
      "Number of forecasts analyzed: 10\n",
      "Number of unique days: 1\n",
      "\n",
      "Error by Forecast Horizon:\n",
      "             mean  count\n",
      "hours_ahead             \n",
      "1.0          2.02      1\n",
      "2.0          2.02      1\n",
      "3.0          2.02      1\n",
      "4.0          2.02      1\n",
      "5.0          2.02      1\n",
      "6.0          0.02      1\n",
      "7.0          0.02      1\n",
      "8.0          0.02      1\n",
      "9.0          2.02      1\n",
      "10.0         2.02      1\n"
     ]
    }
   ],
   "source": [
    "def analyze_daily_max_temps(df_forecasts, df_observations):\n",
    "    \"\"\"Analyze forecast accuracy for daily maximum temperatures.\"\"\"\n",
    "    \n",
    "    # First, find the actual daily max temperatures and their times\n",
    "    daily_maxes = []\n",
    "    \n",
    "    # Group observations by date\n",
    "    df_observations['date'] = df_observations['observed_time'].dt.date\n",
    "    daily_obs = df_observations.groupby('date')\n",
    "    \n",
    "    for date, day_obs in daily_obs:\n",
    "        # Find max temperature for the day\n",
    "        max_temp = day_obs['temperature'].max()\n",
    "        # Get all observations that match the max temp\n",
    "        max_temp_times = day_obs[day_obs['temperature'] == max_temp]\n",
    "        \n",
    "        if not max_temp_times.empty:\n",
    "            # Take the first occurrence of max temp for this day\n",
    "            max_record = max_temp_times.iloc[0]\n",
    "            max_hour = max_record['observed_time'].replace(minute=0, second=0, microsecond=0)\n",
    "            \n",
    "            # Find matching forecasts (those predicting this hour)\n",
    "            matching_forecasts = df_forecasts[\n",
    "                (df_forecasts['forecast_time_hour'] == max_hour)\n",
    "            ]\n",
    "            \n",
    "            if not matching_forecasts.empty:\n",
    "                # Include all forecasts for this max temp hour\n",
    "                for _, forecast in matching_forecasts.iterrows():\n",
    "                    error = forecast['temperature'] - max_temp\n",
    "                    daily_maxes.append({\n",
    "                        'date': date,\n",
    "                        'max_temp_hour': max_hour,\n",
    "                        'actual_max_temp': max_temp,\n",
    "                        'forecast_temp': forecast['temperature'],\n",
    "                        'forecast_created': forecast['created_at'],\n",
    "                        'error': error,\n",
    "                        'error_magnitude': abs(error),\n",
    "                        'hours_ahead': (max_hour - forecast['created_at']).total_seconds() / 3600\n",
    "                    })\n",
    "    \n",
    "    # Convert to DataFrame\n",
    "    df_max_analysis = pd.DataFrame(daily_maxes)\n",
    "    \n",
    "    if df_max_analysis.empty:\n",
    "        print(\"No matching data found for analysis\")\n",
    "        return None\n",
    "    \n",
    "    # Create visualizations\n",
    "    import plotly.express as px\n",
    "    import plotly.graph_objects as go\n",
    "    \n",
    "    # 1. Scatter plot of forecast vs actual max temps\n",
    "    fig1 = px.scatter(df_max_analysis,\n",
    "                     x='actual_max_temp',\n",
    "                     y='forecast_temp',\n",
    "                     hover_data={\n",
    "                         'date': True,\n",
    "                         'hours_ahead': ':.2f',\n",
    "                         'error': ':.2f',\n",
    "                         'forecast_created': True,\n",
    "                         'actual_max_temp': ':.2f',\n",
    "                         'forecast_temp': ':.2f'\n",
    "                     },\n",
    "                     title='Forecast vs Actual Daily Maximum Temperatures')\n",
    "    \n",
    "    # Add perfect forecast line\n",
    "    fig1.add_trace(go.Scatter(\n",
    "        x=[df_max_analysis['actual_max_temp'].min(),\n",
    "           df_max_analysis['actual_max_temp'].max()],\n",
    "        y=[df_max_analysis['actual_max_temp'].min(),\n",
    "           df_max_analysis['actual_max_temp'].max()],\n",
    "        mode='lines',\n",
    "        name='Perfect Forecast',\n",
    "        line=dict(dash='dash')))\n",
    "    fig1.show()\n",
    "    \n",
    "    # 2. Error distribution by hours ahead\n",
    "    fig2 = px.box(df_max_analysis,\n",
    "                  x=df_max_analysis['hours_ahead'].round(),\n",
    "                  y='error',\n",
    "                  hover_data=['date', 'forecast_created'],\n",
    "                  title='Forecast Error Distribution by Lead Time (Daily Max Temp)')\n",
    "    fig2.show()\n",
    "    \n",
    "    # 3. Time series of errors\n",
    "    fig3 = px.scatter(df_max_analysis.sort_values('date'),\n",
    "                   x='date',\n",
    "                   y='error',\n",
    "                   hover_data={\n",
    "                       'hours_ahead': ':.2f',\n",
    "                       'forecast_created': True,\n",
    "                       'actual_max_temp': ':.2f',\n",
    "                       'forecast_temp': ':.2f',\n",
    "                       'error': ':.2f'\n",
    "                   },\n",
    "                   title='Daily Maximum Temperature Forecast Errors Over Time')\n",
    "    fig3.add_hline(y=0, line_dash=\"dash\", line_color=\"red\")\n",
    "    fig3.show()\n",
    "    \n",
    "    # Print summary statistics\n",
    "    print(\"\\nSummary Statistics for Daily Maximum Temperature Forecasts:\")\n",
    "    print(f\"Mean Absolute Error: {df_max_analysis['error_magnitude'].mean():.2f}°F\")\n",
    "    print(f\"Median Absolute Error: {df_max_analysis['error_magnitude'].median():.2f}°F\")\n",
    "    print(f\"Number of forecasts analyzed: {len(df_max_analysis)}\")\n",
    "    print(f\"Number of unique days: {df_max_analysis['date'].nunique()}\")\n",
    "    \n",
    "    # Additional statistics by forecast horizon\n",
    "    print(\"\\nError by Forecast Horizon:\")\n",
    "    horizon_stats = df_max_analysis.groupby(\n",
    "        df_max_analysis['hours_ahead'].round()\n",
    "    )['error_magnitude'].agg(['mean', 'count']).round(2)\n",
    "    print(horizon_stats)\n",
    "    \n",
    "    return df_max_analysis\n",
    "\n",
    "# Run the analysis\n",
    "df_max_analysis = analyze_daily_max_temps(df_forecasts, df_observations)"
   ]
  },
  {
   "cell_type": "code",
   "execution_count": 73,
   "metadata": {},
   "outputs": [
    {
     "name": "stdout",
     "output_type": "stream",
     "text": [
      "\n",
      "Daily Maximum Temperature Analysis:\n",
      "===================================\n",
      "\n",
      "Date: 2024-12-10\n",
      "Daily High: 48.02°F at 01:00 AM EST\n",
      "Number of forecast groups: 11\n",
      "Accurate max forecasts (±1.0°F): 2\n",
      "\n",
      "Accurate Forecasts:\n",
      "  Created: 2024-12-09 07:00 PM EST\n",
      "  Predicted: 48.00°F\n",
      "  Hours ahead: 1.0\n",
      "  Error: -0.02°F\n",
      "  ---\n",
      "  Created: 2024-12-09 08:00 PM EST\n",
      "  Predicted: 48.00°F\n",
      "  Hours ahead: 1.0\n",
      "  Error: -0.02°F\n",
      "  ---\n"
     ]
    },
    {
     "data": {
      "application/vnd.plotly.v1+json": {
       "config": {
        "plotlyServerURL": "https://plot.ly"
       },
       "data": [
        {
         "customdata": [
          [
           "2024-12-10",
           "2024-12-10T01:00:00-05:00",
           "2024-12-09T14:00:25.625014-05:00",
           0.9928819405555555,
           1.9799999999999969,
           false
          ],
          [
           "2024-12-10",
           "2024-12-10T01:00:00-05:00",
           "2024-12-09T15:00:39.841116-05:00",
           0.9889330233333333,
           1.9799999999999969,
           false
          ],
          [
           "2024-12-10",
           "2024-12-10T01:00:00-05:00",
           "2024-12-09T16:00:23.804815-05:00",
           0.9933875513888889,
           1.9799999999999969,
           false
          ],
          [
           "2024-12-10",
           "2024-12-10T01:00:00-05:00",
           "2024-12-09T17:00:23.174083-05:00",
           0.9935627547222222,
           1.9799999999999969,
           false
          ],
          [
           "2024-12-10",
           "2024-12-10T01:00:00-05:00",
           "2024-12-09T18:00:22.794887-05:00",
           0.9936680869444444,
           1.9799999999999969,
           false
          ],
          [
           "2024-12-10",
           "2024-12-10T01:00:00-05:00",
           "2024-12-09T19:00:23.715648-05:00",
           0.99341232,
           -0.020000000000003126,
           true
          ],
          [
           "2024-12-10",
           "2024-12-10T01:00:00-05:00",
           "2024-12-09T20:00:24.019118-05:00",
           0.9933280227777778,
           -0.020000000000003126,
           true
          ],
          [
           "2024-12-10",
           "2024-12-10T01:00:00-05:00",
           "2024-12-09T21:00:28.729404-05:00",
           0.9920196099999999,
           -1.0200000000000031,
           false
          ],
          [
           "2024-12-10",
           "2024-12-10T01:00:00-05:00",
           "2024-12-09T22:00:40.101421-05:00",
           0.988860716388889,
           -2.020000000000003,
           false
          ],
          [
           "2024-12-10",
           "2024-12-10T01:00:00-05:00",
           "2024-12-09T23:00:21.360775-05:00",
           0.9940664513888888,
           -2.020000000000003,
           false
          ],
          [
           "2024-12-10",
           "2024-12-10T01:00:00-05:00",
           "2024-12-10T00:00:24.319533-05:00",
           0.9932445741666667,
           -2.020000000000003,
           false
          ]
         ],
         "hovertemplate": "high_temp=%{x:.2f}<br>forecast_max_temp=%{y:.2f}<br>date=%{customdata[0]}<br>high_temp_time=%{customdata[1]}<br>forecast_created=%{customdata[2]}<br>hours_ahead=%{marker.color:.1f}<br>error=%{customdata[4]:.2f}<br>is_accurate=%{customdata[5]}<extra></extra>",
         "legendgroup": "",
         "marker": {
          "color": [
           0.9928819405555555,
           0.9889330233333333,
           0.9933875513888889,
           0.9935627547222222,
           0.9936680869444444,
           0.99341232,
           0.9933280227777778,
           0.9920196099999999,
           0.988860716388889,
           0.9940664513888888,
           0.9932445741666667
          ],
          "coloraxis": "coloraxis",
          "size": 12,
          "symbol": "circle"
         },
         "mode": "markers",
         "name": "",
         "orientation": "v",
         "showlegend": false,
         "type": "scatter",
         "x": [
          48.02,
          48.02,
          48.02,
          48.02,
          48.02,
          48.02,
          48.02,
          48.02,
          48.02,
          48.02,
          48.02
         ],
         "xaxis": "x",
         "y": [
          50,
          50,
          50,
          50,
          50,
          48,
          48,
          47,
          46,
          46,
          46
         ],
         "yaxis": "y"
        },
        {
         "line": {
          "color": "black",
          "dash": "dash"
         },
         "mode": "lines",
         "name": "Perfect Forecast",
         "type": "scatter",
         "x": [
          43.02,
          43.12101010101011,
          43.222020202020204,
          43.32303030303031,
          43.424040404040404,
          43.52505050505051,
          43.62606060606061,
          43.72707070707071,
          43.82808080808081,
          43.92909090909091,
          44.03010101010101,
          44.13111111111112,
          44.232121212121214,
          44.33313131313132,
          44.434141414141415,
          44.53515151515152,
          44.63616161616162,
          44.73717171717172,
          44.83818181818182,
          44.93919191919192,
          45.040202020202024,
          45.14121212121212,
          45.242222222222225,
          45.34323232323233,
          45.444242424242425,
          45.54525252525253,
          45.646262626262626,
          45.74727272727273,
          45.848282828282834,
          45.94929292929293,
          46.050303030303034,
          46.15131313131313,
          46.252323232323235,
          46.35333333333334,
          46.454343434343436,
          46.55535353535354,
          46.656363636363636,
          46.75737373737374,
          46.858383838383844,
          46.95939393939394,
          47.060404040404045,
          47.16141414141414,
          47.262424242424245,
          47.36343434343435,
          47.464444444444446,
          47.56545454545455,
          47.66646464646465,
          47.76747474747475,
          47.868484848484854,
          47.96949494949495,
          48.070505050505055,
          48.17151515151515,
          48.272525252525256,
          48.37353535353536,
          48.474545454545456,
          48.57555555555556,
          48.67656565656566,
          48.77757575757576,
          48.878585858585865,
          48.97959595959596,
          49.080606060606065,
          49.18161616161616,
          49.282626262626266,
          49.38363636363637,
          49.48464646464647,
          49.58565656565657,
          49.68666666666667,
          49.78767676767677,
          49.888686868686875,
          49.98969696969697,
          50.090707070707076,
          50.19171717171717,
          50.29272727272728,
          50.39373737373738,
          50.49474747474748,
          50.59575757575758,
          50.69676767676768,
          50.79777777777778,
          50.898787878787886,
          50.99979797979798,
          51.100808080808086,
          51.20181818181818,
          51.30282828282829,
          51.40383838383839,
          51.50484848484849,
          51.60585858585859,
          51.70686868686869,
          51.80787878787879,
          51.908888888888896,
          52.00989898989899,
          52.11090909090909,
          52.21191919191919,
          52.3129292929293,
          52.4139393939394,
          52.5149494949495,
          52.615959595959595,
          52.7169696969697,
          52.8179797979798,
          52.918989898989906,
          53.02
         ],
         "y": [
          43.02,
          43.12101010101011,
          43.222020202020204,
          43.32303030303031,
          43.424040404040404,
          43.52505050505051,
          43.62606060606061,
          43.72707070707071,
          43.82808080808081,
          43.92909090909091,
          44.03010101010101,
          44.13111111111112,
          44.232121212121214,
          44.33313131313132,
          44.434141414141415,
          44.53515151515152,
          44.63616161616162,
          44.73717171717172,
          44.83818181818182,
          44.93919191919192,
          45.040202020202024,
          45.14121212121212,
          45.242222222222225,
          45.34323232323233,
          45.444242424242425,
          45.54525252525253,
          45.646262626262626,
          45.74727272727273,
          45.848282828282834,
          45.94929292929293,
          46.050303030303034,
          46.15131313131313,
          46.252323232323235,
          46.35333333333334,
          46.454343434343436,
          46.55535353535354,
          46.656363636363636,
          46.75737373737374,
          46.858383838383844,
          46.95939393939394,
          47.060404040404045,
          47.16141414141414,
          47.262424242424245,
          47.36343434343435,
          47.464444444444446,
          47.56545454545455,
          47.66646464646465,
          47.76747474747475,
          47.868484848484854,
          47.96949494949495,
          48.070505050505055,
          48.17151515151515,
          48.272525252525256,
          48.37353535353536,
          48.474545454545456,
          48.57555555555556,
          48.67656565656566,
          48.77757575757576,
          48.878585858585865,
          48.97959595959596,
          49.080606060606065,
          49.18161616161616,
          49.282626262626266,
          49.38363636363637,
          49.48464646464647,
          49.58565656565657,
          49.68666666666667,
          49.78767676767677,
          49.888686868686875,
          49.98969696969697,
          50.090707070707076,
          50.19171717171717,
          50.29272727272728,
          50.39373737373738,
          50.49474747474748,
          50.59575757575758,
          50.69676767676768,
          50.79777777777778,
          50.898787878787886,
          50.99979797979798,
          51.100808080808086,
          51.20181818181818,
          51.30282828282829,
          51.40383838383839,
          51.50484848484849,
          51.60585858585859,
          51.70686868686869,
          51.80787878787879,
          51.908888888888896,
          52.00989898989899,
          52.11090909090909,
          52.21191919191919,
          52.3129292929293,
          52.4139393939394,
          52.5149494949495,
          52.615959595959595,
          52.7169696969697,
          52.8179797979798,
          52.918989898989906,
          53.02
         ]
        },
        {
         "line": {
          "color": "gray",
          "dash": "dot"
         },
         "mode": "lines",
         "name": "+1.0°F Margin",
         "type": "scatter",
         "x": [
          43.02,
          43.12101010101011,
          43.222020202020204,
          43.32303030303031,
          43.424040404040404,
          43.52505050505051,
          43.62606060606061,
          43.72707070707071,
          43.82808080808081,
          43.92909090909091,
          44.03010101010101,
          44.13111111111112,
          44.232121212121214,
          44.33313131313132,
          44.434141414141415,
          44.53515151515152,
          44.63616161616162,
          44.73717171717172,
          44.83818181818182,
          44.93919191919192,
          45.040202020202024,
          45.14121212121212,
          45.242222222222225,
          45.34323232323233,
          45.444242424242425,
          45.54525252525253,
          45.646262626262626,
          45.74727272727273,
          45.848282828282834,
          45.94929292929293,
          46.050303030303034,
          46.15131313131313,
          46.252323232323235,
          46.35333333333334,
          46.454343434343436,
          46.55535353535354,
          46.656363636363636,
          46.75737373737374,
          46.858383838383844,
          46.95939393939394,
          47.060404040404045,
          47.16141414141414,
          47.262424242424245,
          47.36343434343435,
          47.464444444444446,
          47.56545454545455,
          47.66646464646465,
          47.76747474747475,
          47.868484848484854,
          47.96949494949495,
          48.070505050505055,
          48.17151515151515,
          48.272525252525256,
          48.37353535353536,
          48.474545454545456,
          48.57555555555556,
          48.67656565656566,
          48.77757575757576,
          48.878585858585865,
          48.97959595959596,
          49.080606060606065,
          49.18161616161616,
          49.282626262626266,
          49.38363636363637,
          49.48464646464647,
          49.58565656565657,
          49.68666666666667,
          49.78767676767677,
          49.888686868686875,
          49.98969696969697,
          50.090707070707076,
          50.19171717171717,
          50.29272727272728,
          50.39373737373738,
          50.49474747474748,
          50.59575757575758,
          50.69676767676768,
          50.79777777777778,
          50.898787878787886,
          50.99979797979798,
          51.100808080808086,
          51.20181818181818,
          51.30282828282829,
          51.40383838383839,
          51.50484848484849,
          51.60585858585859,
          51.70686868686869,
          51.80787878787879,
          51.908888888888896,
          52.00989898989899,
          52.11090909090909,
          52.21191919191919,
          52.3129292929293,
          52.4139393939394,
          52.5149494949495,
          52.615959595959595,
          52.7169696969697,
          52.8179797979798,
          52.918989898989906,
          53.02
         ],
         "y": [
          44.02,
          44.12101010101011,
          44.222020202020204,
          44.32303030303031,
          44.424040404040404,
          44.52505050505051,
          44.62606060606061,
          44.72707070707071,
          44.82808080808081,
          44.92909090909091,
          45.03010101010101,
          45.13111111111112,
          45.232121212121214,
          45.33313131313132,
          45.434141414141415,
          45.53515151515152,
          45.63616161616162,
          45.73717171717172,
          45.83818181818182,
          45.93919191919192,
          46.040202020202024,
          46.14121212121212,
          46.242222222222225,
          46.34323232323233,
          46.444242424242425,
          46.54525252525253,
          46.646262626262626,
          46.74727272727273,
          46.848282828282834,
          46.94929292929293,
          47.050303030303034,
          47.15131313131313,
          47.252323232323235,
          47.35333333333334,
          47.454343434343436,
          47.55535353535354,
          47.656363636363636,
          47.75737373737374,
          47.858383838383844,
          47.95939393939394,
          48.060404040404045,
          48.16141414141414,
          48.262424242424245,
          48.36343434343435,
          48.464444444444446,
          48.56545454545455,
          48.66646464646465,
          48.76747474747475,
          48.868484848484854,
          48.96949494949495,
          49.070505050505055,
          49.17151515151515,
          49.272525252525256,
          49.37353535353536,
          49.474545454545456,
          49.57555555555556,
          49.67656565656566,
          49.77757575757576,
          49.878585858585865,
          49.97959595959596,
          50.080606060606065,
          50.18161616161616,
          50.282626262626266,
          50.38363636363637,
          50.48464646464647,
          50.58565656565657,
          50.68666666666667,
          50.78767676767677,
          50.888686868686875,
          50.98969696969697,
          51.090707070707076,
          51.19171717171717,
          51.29272727272728,
          51.39373737373738,
          51.49474747474748,
          51.59575757575758,
          51.69676767676768,
          51.79777777777778,
          51.898787878787886,
          51.99979797979798,
          52.100808080808086,
          52.20181818181818,
          52.30282828282829,
          52.40383838383839,
          52.50484848484849,
          52.60585858585859,
          52.70686868686869,
          52.80787878787879,
          52.908888888888896,
          53.00989898989899,
          53.11090909090909,
          53.21191919191919,
          53.3129292929293,
          53.4139393939394,
          53.5149494949495,
          53.615959595959595,
          53.7169696969697,
          53.8179797979798,
          53.918989898989906,
          54.02
         ]
        },
        {
         "line": {
          "color": "gray",
          "dash": "dot"
         },
         "mode": "lines",
         "name": "-1.0°F Margin",
         "type": "scatter",
         "x": [
          43.02,
          43.12101010101011,
          43.222020202020204,
          43.32303030303031,
          43.424040404040404,
          43.52505050505051,
          43.62606060606061,
          43.72707070707071,
          43.82808080808081,
          43.92909090909091,
          44.03010101010101,
          44.13111111111112,
          44.232121212121214,
          44.33313131313132,
          44.434141414141415,
          44.53515151515152,
          44.63616161616162,
          44.73717171717172,
          44.83818181818182,
          44.93919191919192,
          45.040202020202024,
          45.14121212121212,
          45.242222222222225,
          45.34323232323233,
          45.444242424242425,
          45.54525252525253,
          45.646262626262626,
          45.74727272727273,
          45.848282828282834,
          45.94929292929293,
          46.050303030303034,
          46.15131313131313,
          46.252323232323235,
          46.35333333333334,
          46.454343434343436,
          46.55535353535354,
          46.656363636363636,
          46.75737373737374,
          46.858383838383844,
          46.95939393939394,
          47.060404040404045,
          47.16141414141414,
          47.262424242424245,
          47.36343434343435,
          47.464444444444446,
          47.56545454545455,
          47.66646464646465,
          47.76747474747475,
          47.868484848484854,
          47.96949494949495,
          48.070505050505055,
          48.17151515151515,
          48.272525252525256,
          48.37353535353536,
          48.474545454545456,
          48.57555555555556,
          48.67656565656566,
          48.77757575757576,
          48.878585858585865,
          48.97959595959596,
          49.080606060606065,
          49.18161616161616,
          49.282626262626266,
          49.38363636363637,
          49.48464646464647,
          49.58565656565657,
          49.68666666666667,
          49.78767676767677,
          49.888686868686875,
          49.98969696969697,
          50.090707070707076,
          50.19171717171717,
          50.29272727272728,
          50.39373737373738,
          50.49474747474748,
          50.59575757575758,
          50.69676767676768,
          50.79777777777778,
          50.898787878787886,
          50.99979797979798,
          51.100808080808086,
          51.20181818181818,
          51.30282828282829,
          51.40383838383839,
          51.50484848484849,
          51.60585858585859,
          51.70686868686869,
          51.80787878787879,
          51.908888888888896,
          52.00989898989899,
          52.11090909090909,
          52.21191919191919,
          52.3129292929293,
          52.4139393939394,
          52.5149494949495,
          52.615959595959595,
          52.7169696969697,
          52.8179797979798,
          52.918989898989906,
          53.02
         ],
         "y": [
          42.02,
          42.12101010101011,
          42.222020202020204,
          42.32303030303031,
          42.424040404040404,
          42.52505050505051,
          42.62606060606061,
          42.72707070707071,
          42.82808080808081,
          42.92909090909091,
          43.03010101010101,
          43.13111111111112,
          43.232121212121214,
          43.33313131313132,
          43.434141414141415,
          43.53515151515152,
          43.63616161616162,
          43.73717171717172,
          43.83818181818182,
          43.93919191919192,
          44.040202020202024,
          44.14121212121212,
          44.242222222222225,
          44.34323232323233,
          44.444242424242425,
          44.54525252525253,
          44.646262626262626,
          44.74727272727273,
          44.848282828282834,
          44.94929292929293,
          45.050303030303034,
          45.15131313131313,
          45.252323232323235,
          45.35333333333334,
          45.454343434343436,
          45.55535353535354,
          45.656363636363636,
          45.75737373737374,
          45.858383838383844,
          45.95939393939394,
          46.060404040404045,
          46.16141414141414,
          46.262424242424245,
          46.36343434343435,
          46.464444444444446,
          46.56545454545455,
          46.66646464646465,
          46.76747474747475,
          46.868484848484854,
          46.96949494949495,
          47.070505050505055,
          47.17151515151515,
          47.272525252525256,
          47.37353535353536,
          47.474545454545456,
          47.57555555555556,
          47.67656565656566,
          47.77757575757576,
          47.878585858585865,
          47.97959595959596,
          48.080606060606065,
          48.18161616161616,
          48.282626262626266,
          48.38363636363637,
          48.48464646464647,
          48.58565656565657,
          48.68666666666667,
          48.78767676767677,
          48.888686868686875,
          48.98969696969697,
          49.090707070707076,
          49.19171717171717,
          49.29272727272728,
          49.39373737373738,
          49.49474747474748,
          49.59575757575758,
          49.69676767676768,
          49.79777777777778,
          49.898787878787886,
          49.99979797979798,
          50.100808080808086,
          50.20181818181818,
          50.30282828282829,
          50.40383838383839,
          50.50484848484849,
          50.60585858585859,
          50.70686868686869,
          50.80787878787879,
          50.908888888888896,
          51.00989898989899,
          51.11090909090909,
          51.21191919191919,
          51.3129292929293,
          51.4139393939394,
          51.5149494949495,
          51.615959595959595,
          51.7169696969697,
          51.8179797979798,
          51.918989898989906,
          52.02
         ]
        }
       ],
       "layout": {
        "coloraxis": {
         "cmax": 14,
         "cmin": 0,
         "colorbar": {
          "title": {
           "text": "hours_ahead"
          }
         },
         "colorscale": [
          [
           0,
           "rgb(49,54,149)"
          ],
          [
           0.1,
           "rgb(69,117,180)"
          ],
          [
           0.2,
           "rgb(116,173,209)"
          ],
          [
           0.3,
           "rgb(171,217,233)"
          ],
          [
           0.4,
           "rgb(224,243,248)"
          ],
          [
           0.5,
           "rgb(255,255,191)"
          ],
          [
           0.6,
           "rgb(254,224,144)"
          ],
          [
           0.7,
           "rgb(253,174,97)"
          ],
          [
           0.8,
           "rgb(244,109,67)"
          ],
          [
           0.9,
           "rgb(215,48,39)"
          ],
          [
           1,
           "rgb(165,0,38)"
          ]
         ]
        },
        "legend": {
         "tracegroupgap": 0
        },
        "template": {
         "data": {
          "bar": [
           {
            "error_x": {
             "color": "#2a3f5f"
            },
            "error_y": {
             "color": "#2a3f5f"
            },
            "marker": {
             "line": {
              "color": "#E5ECF6",
              "width": 0.5
             },
             "pattern": {
              "fillmode": "overlay",
              "size": 10,
              "solidity": 0.2
             }
            },
            "type": "bar"
           }
          ],
          "barpolar": [
           {
            "marker": {
             "line": {
              "color": "#E5ECF6",
              "width": 0.5
             },
             "pattern": {
              "fillmode": "overlay",
              "size": 10,
              "solidity": 0.2
             }
            },
            "type": "barpolar"
           }
          ],
          "carpet": [
           {
            "aaxis": {
             "endlinecolor": "#2a3f5f",
             "gridcolor": "white",
             "linecolor": "white",
             "minorgridcolor": "white",
             "startlinecolor": "#2a3f5f"
            },
            "baxis": {
             "endlinecolor": "#2a3f5f",
             "gridcolor": "white",
             "linecolor": "white",
             "minorgridcolor": "white",
             "startlinecolor": "#2a3f5f"
            },
            "type": "carpet"
           }
          ],
          "choropleth": [
           {
            "colorbar": {
             "outlinewidth": 0,
             "ticks": ""
            },
            "type": "choropleth"
           }
          ],
          "contour": [
           {
            "colorbar": {
             "outlinewidth": 0,
             "ticks": ""
            },
            "colorscale": [
             [
              0,
              "#0d0887"
             ],
             [
              0.1111111111111111,
              "#46039f"
             ],
             [
              0.2222222222222222,
              "#7201a8"
             ],
             [
              0.3333333333333333,
              "#9c179e"
             ],
             [
              0.4444444444444444,
              "#bd3786"
             ],
             [
              0.5555555555555556,
              "#d8576b"
             ],
             [
              0.6666666666666666,
              "#ed7953"
             ],
             [
              0.7777777777777778,
              "#fb9f3a"
             ],
             [
              0.8888888888888888,
              "#fdca26"
             ],
             [
              1,
              "#f0f921"
             ]
            ],
            "type": "contour"
           }
          ],
          "contourcarpet": [
           {
            "colorbar": {
             "outlinewidth": 0,
             "ticks": ""
            },
            "type": "contourcarpet"
           }
          ],
          "heatmap": [
           {
            "colorbar": {
             "outlinewidth": 0,
             "ticks": ""
            },
            "colorscale": [
             [
              0,
              "#0d0887"
             ],
             [
              0.1111111111111111,
              "#46039f"
             ],
             [
              0.2222222222222222,
              "#7201a8"
             ],
             [
              0.3333333333333333,
              "#9c179e"
             ],
             [
              0.4444444444444444,
              "#bd3786"
             ],
             [
              0.5555555555555556,
              "#d8576b"
             ],
             [
              0.6666666666666666,
              "#ed7953"
             ],
             [
              0.7777777777777778,
              "#fb9f3a"
             ],
             [
              0.8888888888888888,
              "#fdca26"
             ],
             [
              1,
              "#f0f921"
             ]
            ],
            "type": "heatmap"
           }
          ],
          "heatmapgl": [
           {
            "colorbar": {
             "outlinewidth": 0,
             "ticks": ""
            },
            "colorscale": [
             [
              0,
              "#0d0887"
             ],
             [
              0.1111111111111111,
              "#46039f"
             ],
             [
              0.2222222222222222,
              "#7201a8"
             ],
             [
              0.3333333333333333,
              "#9c179e"
             ],
             [
              0.4444444444444444,
              "#bd3786"
             ],
             [
              0.5555555555555556,
              "#d8576b"
             ],
             [
              0.6666666666666666,
              "#ed7953"
             ],
             [
              0.7777777777777778,
              "#fb9f3a"
             ],
             [
              0.8888888888888888,
              "#fdca26"
             ],
             [
              1,
              "#f0f921"
             ]
            ],
            "type": "heatmapgl"
           }
          ],
          "histogram": [
           {
            "marker": {
             "pattern": {
              "fillmode": "overlay",
              "size": 10,
              "solidity": 0.2
             }
            },
            "type": "histogram"
           }
          ],
          "histogram2d": [
           {
            "colorbar": {
             "outlinewidth": 0,
             "ticks": ""
            },
            "colorscale": [
             [
              0,
              "#0d0887"
             ],
             [
              0.1111111111111111,
              "#46039f"
             ],
             [
              0.2222222222222222,
              "#7201a8"
             ],
             [
              0.3333333333333333,
              "#9c179e"
             ],
             [
              0.4444444444444444,
              "#bd3786"
             ],
             [
              0.5555555555555556,
              "#d8576b"
             ],
             [
              0.6666666666666666,
              "#ed7953"
             ],
             [
              0.7777777777777778,
              "#fb9f3a"
             ],
             [
              0.8888888888888888,
              "#fdca26"
             ],
             [
              1,
              "#f0f921"
             ]
            ],
            "type": "histogram2d"
           }
          ],
          "histogram2dcontour": [
           {
            "colorbar": {
             "outlinewidth": 0,
             "ticks": ""
            },
            "colorscale": [
             [
              0,
              "#0d0887"
             ],
             [
              0.1111111111111111,
              "#46039f"
             ],
             [
              0.2222222222222222,
              "#7201a8"
             ],
             [
              0.3333333333333333,
              "#9c179e"
             ],
             [
              0.4444444444444444,
              "#bd3786"
             ],
             [
              0.5555555555555556,
              "#d8576b"
             ],
             [
              0.6666666666666666,
              "#ed7953"
             ],
             [
              0.7777777777777778,
              "#fb9f3a"
             ],
             [
              0.8888888888888888,
              "#fdca26"
             ],
             [
              1,
              "#f0f921"
             ]
            ],
            "type": "histogram2dcontour"
           }
          ],
          "mesh3d": [
           {
            "colorbar": {
             "outlinewidth": 0,
             "ticks": ""
            },
            "type": "mesh3d"
           }
          ],
          "parcoords": [
           {
            "line": {
             "colorbar": {
              "outlinewidth": 0,
              "ticks": ""
             }
            },
            "type": "parcoords"
           }
          ],
          "pie": [
           {
            "automargin": true,
            "type": "pie"
           }
          ],
          "scatter": [
           {
            "fillpattern": {
             "fillmode": "overlay",
             "size": 10,
             "solidity": 0.2
            },
            "type": "scatter"
           }
          ],
          "scatter3d": [
           {
            "line": {
             "colorbar": {
              "outlinewidth": 0,
              "ticks": ""
             }
            },
            "marker": {
             "colorbar": {
              "outlinewidth": 0,
              "ticks": ""
             }
            },
            "type": "scatter3d"
           }
          ],
          "scattercarpet": [
           {
            "marker": {
             "colorbar": {
              "outlinewidth": 0,
              "ticks": ""
             }
            },
            "type": "scattercarpet"
           }
          ],
          "scattergeo": [
           {
            "marker": {
             "colorbar": {
              "outlinewidth": 0,
              "ticks": ""
             }
            },
            "type": "scattergeo"
           }
          ],
          "scattergl": [
           {
            "marker": {
             "colorbar": {
              "outlinewidth": 0,
              "ticks": ""
             }
            },
            "type": "scattergl"
           }
          ],
          "scattermapbox": [
           {
            "marker": {
             "colorbar": {
              "outlinewidth": 0,
              "ticks": ""
             }
            },
            "type": "scattermapbox"
           }
          ],
          "scatterpolar": [
           {
            "marker": {
             "colorbar": {
              "outlinewidth": 0,
              "ticks": ""
             }
            },
            "type": "scatterpolar"
           }
          ],
          "scatterpolargl": [
           {
            "marker": {
             "colorbar": {
              "outlinewidth": 0,
              "ticks": ""
             }
            },
            "type": "scatterpolargl"
           }
          ],
          "scatterternary": [
           {
            "marker": {
             "colorbar": {
              "outlinewidth": 0,
              "ticks": ""
             }
            },
            "type": "scatterternary"
           }
          ],
          "surface": [
           {
            "colorbar": {
             "outlinewidth": 0,
             "ticks": ""
            },
            "colorscale": [
             [
              0,
              "#0d0887"
             ],
             [
              0.1111111111111111,
              "#46039f"
             ],
             [
              0.2222222222222222,
              "#7201a8"
             ],
             [
              0.3333333333333333,
              "#9c179e"
             ],
             [
              0.4444444444444444,
              "#bd3786"
             ],
             [
              0.5555555555555556,
              "#d8576b"
             ],
             [
              0.6666666666666666,
              "#ed7953"
             ],
             [
              0.7777777777777778,
              "#fb9f3a"
             ],
             [
              0.8888888888888888,
              "#fdca26"
             ],
             [
              1,
              "#f0f921"
             ]
            ],
            "type": "surface"
           }
          ],
          "table": [
           {
            "cells": {
             "fill": {
              "color": "#EBF0F8"
             },
             "line": {
              "color": "white"
             }
            },
            "header": {
             "fill": {
              "color": "#C8D4E3"
             },
             "line": {
              "color": "white"
             }
            },
            "type": "table"
           }
          ]
         },
         "layout": {
          "annotationdefaults": {
           "arrowcolor": "#2a3f5f",
           "arrowhead": 0,
           "arrowwidth": 1
          },
          "autotypenumbers": "strict",
          "coloraxis": {
           "colorbar": {
            "outlinewidth": 0,
            "ticks": ""
           }
          },
          "colorscale": {
           "diverging": [
            [
             0,
             "#8e0152"
            ],
            [
             0.1,
             "#c51b7d"
            ],
            [
             0.2,
             "#de77ae"
            ],
            [
             0.3,
             "#f1b6da"
            ],
            [
             0.4,
             "#fde0ef"
            ],
            [
             0.5,
             "#f7f7f7"
            ],
            [
             0.6,
             "#e6f5d0"
            ],
            [
             0.7,
             "#b8e186"
            ],
            [
             0.8,
             "#7fbc41"
            ],
            [
             0.9,
             "#4d9221"
            ],
            [
             1,
             "#276419"
            ]
           ],
           "sequential": [
            [
             0,
             "#0d0887"
            ],
            [
             0.1111111111111111,
             "#46039f"
            ],
            [
             0.2222222222222222,
             "#7201a8"
            ],
            [
             0.3333333333333333,
             "#9c179e"
            ],
            [
             0.4444444444444444,
             "#bd3786"
            ],
            [
             0.5555555555555556,
             "#d8576b"
            ],
            [
             0.6666666666666666,
             "#ed7953"
            ],
            [
             0.7777777777777778,
             "#fb9f3a"
            ],
            [
             0.8888888888888888,
             "#fdca26"
            ],
            [
             1,
             "#f0f921"
            ]
           ],
           "sequentialminus": [
            [
             0,
             "#0d0887"
            ],
            [
             0.1111111111111111,
             "#46039f"
            ],
            [
             0.2222222222222222,
             "#7201a8"
            ],
            [
             0.3333333333333333,
             "#9c179e"
            ],
            [
             0.4444444444444444,
             "#bd3786"
            ],
            [
             0.5555555555555556,
             "#d8576b"
            ],
            [
             0.6666666666666666,
             "#ed7953"
            ],
            [
             0.7777777777777778,
             "#fb9f3a"
            ],
            [
             0.8888888888888888,
             "#fdca26"
            ],
            [
             1,
             "#f0f921"
            ]
           ]
          },
          "colorway": [
           "#636efa",
           "#EF553B",
           "#00cc96",
           "#ab63fa",
           "#FFA15A",
           "#19d3f3",
           "#FF6692",
           "#B6E880",
           "#FF97FF",
           "#FECB52"
          ],
          "font": {
           "color": "#2a3f5f"
          },
          "geo": {
           "bgcolor": "white",
           "lakecolor": "white",
           "landcolor": "#E5ECF6",
           "showlakes": true,
           "showland": true,
           "subunitcolor": "white"
          },
          "hoverlabel": {
           "align": "left"
          },
          "hovermode": "closest",
          "mapbox": {
           "style": "light"
          },
          "paper_bgcolor": "white",
          "plot_bgcolor": "#E5ECF6",
          "polar": {
           "angularaxis": {
            "gridcolor": "white",
            "linecolor": "white",
            "ticks": ""
           },
           "bgcolor": "#E5ECF6",
           "radialaxis": {
            "gridcolor": "white",
            "linecolor": "white",
            "ticks": ""
           }
          },
          "scene": {
           "xaxis": {
            "backgroundcolor": "#E5ECF6",
            "gridcolor": "white",
            "gridwidth": 2,
            "linecolor": "white",
            "showbackground": true,
            "ticks": "",
            "zerolinecolor": "white"
           },
           "yaxis": {
            "backgroundcolor": "#E5ECF6",
            "gridcolor": "white",
            "gridwidth": 2,
            "linecolor": "white",
            "showbackground": true,
            "ticks": "",
            "zerolinecolor": "white"
           },
           "zaxis": {
            "backgroundcolor": "#E5ECF6",
            "gridcolor": "white",
            "gridwidth": 2,
            "linecolor": "white",
            "showbackground": true,
            "ticks": "",
            "zerolinecolor": "white"
           }
          },
          "shapedefaults": {
           "line": {
            "color": "#2a3f5f"
           }
          },
          "ternary": {
           "aaxis": {
            "gridcolor": "white",
            "linecolor": "white",
            "ticks": ""
           },
           "baxis": {
            "gridcolor": "white",
            "linecolor": "white",
            "ticks": ""
           },
           "bgcolor": "#E5ECF6",
           "caxis": {
            "gridcolor": "white",
            "linecolor": "white",
            "ticks": ""
           }
          },
          "title": {
           "x": 0.05
          },
          "xaxis": {
           "automargin": true,
           "gridcolor": "white",
           "linecolor": "white",
           "ticks": "",
           "title": {
            "standoff": 15
           },
           "zerolinecolor": "white",
           "zerolinewidth": 2
          },
          "yaxis": {
           "automargin": true,
           "gridcolor": "white",
           "linecolor": "white",
           "ticks": "",
           "title": {
            "standoff": 15
           },
           "zerolinecolor": "white",
           "zerolinewidth": 2
          }
         }
        },
        "title": {
         "text": "Forecast vs Actual Daily Maximum Temperatures (±1.0°F margin)<br>Color shows hours before actual high"
        },
        "xaxis": {
         "anchor": "y",
         "domain": [
          0,
          1
         ],
         "title": {
          "text": "high_temp"
         }
        },
        "yaxis": {
         "anchor": "x",
         "domain": [
          0,
          1
         ],
         "title": {
          "text": "forecast_max_temp"
         }
        }
       }
      }
     },
     "metadata": {},
     "output_type": "display_data"
    },
    {
     "data": {
      "application/vnd.plotly.v1+json": {
       "config": {
        "plotlyServerURL": "https://plot.ly"
       },
       "data": [
        {
         "customdata": [
          [
           "2024-12-09T15:00:00-05:00",
           "2024-12-09T14:00:25.625014-05:00",
           0.9928819405555555,
           1.9799999999999969,
           48.02,
           false
          ],
          [
           "2024-12-09T16:00:00-05:00",
           "2024-12-09T15:00:39.841116-05:00",
           0.9889330233333333,
           1.9799999999999969,
           48.02,
           false
          ],
          [
           "2024-12-09T17:00:00-05:00",
           "2024-12-09T16:00:23.804815-05:00",
           0.9933875513888889,
           1.9799999999999969,
           48.02,
           false
          ],
          [
           "2024-12-09T18:00:00-05:00",
           "2024-12-09T17:00:23.174083-05:00",
           0.9935627547222222,
           1.9799999999999969,
           48.02,
           false
          ],
          [
           "2024-12-09T19:00:00-05:00",
           "2024-12-09T18:00:22.794887-05:00",
           0.9936680869444444,
           1.9799999999999969,
           48.02,
           false
          ],
          [
           "2024-12-09T20:00:00-05:00",
           "2024-12-09T19:00:23.715648-05:00",
           0.99341232,
           -0.020000000000003126,
           48.02,
           true
          ],
          [
           "2024-12-09T21:00:00-05:00",
           "2024-12-09T20:00:24.019118-05:00",
           0.9933280227777778,
           -0.020000000000003126,
           48.02,
           true
          ],
          [
           "2024-12-09T22:00:00-05:00",
           "2024-12-09T21:00:28.729404-05:00",
           0.9920196099999999,
           -1.0200000000000031,
           48.02,
           false
          ],
          [
           "2024-12-09T23:00:00-05:00",
           "2024-12-09T22:00:40.101421-05:00",
           0.988860716388889,
           -2.020000000000003,
           48.02,
           false
          ],
          [
           "2024-12-10T00:00:00-05:00",
           "2024-12-09T23:00:21.360775-05:00",
           0.9940664513888888,
           -2.020000000000003,
           48.02,
           false
          ],
          [
           "2024-12-10T01:00:00-05:00",
           "2024-12-10T00:00:24.319533-05:00",
           0.9932445741666667,
           -2.020000000000003,
           48.02,
           false
          ]
         ],
         "hovertemplate": "date=%{x}<br>forecast_max_temp=%{y:.2f}<br>forecast_time=%{customdata[0]}<br>forecast_created=%{customdata[1]}<br>hours_ahead=%{marker.color:.1f}<br>error=%{customdata[3]:.2f}<br>high_temp=%{customdata[4]:.2f}<br>is_accurate=%{customdata[5]}<extra></extra>",
         "legendgroup": "",
         "marker": {
          "color": [
           0.9928819405555555,
           0.9889330233333333,
           0.9933875513888889,
           0.9935627547222222,
           0.9936680869444444,
           0.99341232,
           0.9933280227777778,
           0.9920196099999999,
           0.988860716388889,
           0.9940664513888888,
           0.9932445741666667
          ],
          "coloraxis": "coloraxis",
          "size": 12,
          "symbol": "circle"
         },
         "mode": "markers",
         "name": "",
         "orientation": "v",
         "showlegend": false,
         "type": "scatter",
         "x": [
          "2024-12-10",
          "2024-12-10",
          "2024-12-10",
          "2024-12-10",
          "2024-12-10",
          "2024-12-10",
          "2024-12-10",
          "2024-12-10",
          "2024-12-10",
          "2024-12-10",
          "2024-12-10"
         ],
         "xaxis": "x",
         "y": [
          50,
          50,
          50,
          50,
          50,
          48,
          48,
          47,
          46,
          46,
          46
         ],
         "yaxis": "y"
        },
        {
         "line": {
          "color": "black"
         },
         "marker": {
          "size": 12
         },
         "mode": "lines+markers",
         "name": "Actual Daily Max",
         "type": "scatter",
         "x": [
          "2024-12-10"
         ],
         "y": [
          48.02
         ]
        }
       ],
       "layout": {
        "coloraxis": {
         "cmax": 14,
         "cmin": 0,
         "colorbar": {
          "title": {
           "text": "hours_ahead"
          }
         },
         "colorscale": [
          [
           0,
           "rgb(49,54,149)"
          ],
          [
           0.1,
           "rgb(69,117,180)"
          ],
          [
           0.2,
           "rgb(116,173,209)"
          ],
          [
           0.3,
           "rgb(171,217,233)"
          ],
          [
           0.4,
           "rgb(224,243,248)"
          ],
          [
           0.5,
           "rgb(255,255,191)"
          ],
          [
           0.6,
           "rgb(254,224,144)"
          ],
          [
           0.7,
           "rgb(253,174,97)"
          ],
          [
           0.8,
           "rgb(244,109,67)"
          ],
          [
           0.9,
           "rgb(215,48,39)"
          ],
          [
           1,
           "rgb(165,0,38)"
          ]
         ]
        },
        "legend": {
         "tracegroupgap": 0
        },
        "template": {
         "data": {
          "bar": [
           {
            "error_x": {
             "color": "#2a3f5f"
            },
            "error_y": {
             "color": "#2a3f5f"
            },
            "marker": {
             "line": {
              "color": "#E5ECF6",
              "width": 0.5
             },
             "pattern": {
              "fillmode": "overlay",
              "size": 10,
              "solidity": 0.2
             }
            },
            "type": "bar"
           }
          ],
          "barpolar": [
           {
            "marker": {
             "line": {
              "color": "#E5ECF6",
              "width": 0.5
             },
             "pattern": {
              "fillmode": "overlay",
              "size": 10,
              "solidity": 0.2
             }
            },
            "type": "barpolar"
           }
          ],
          "carpet": [
           {
            "aaxis": {
             "endlinecolor": "#2a3f5f",
             "gridcolor": "white",
             "linecolor": "white",
             "minorgridcolor": "white",
             "startlinecolor": "#2a3f5f"
            },
            "baxis": {
             "endlinecolor": "#2a3f5f",
             "gridcolor": "white",
             "linecolor": "white",
             "minorgridcolor": "white",
             "startlinecolor": "#2a3f5f"
            },
            "type": "carpet"
           }
          ],
          "choropleth": [
           {
            "colorbar": {
             "outlinewidth": 0,
             "ticks": ""
            },
            "type": "choropleth"
           }
          ],
          "contour": [
           {
            "colorbar": {
             "outlinewidth": 0,
             "ticks": ""
            },
            "colorscale": [
             [
              0,
              "#0d0887"
             ],
             [
              0.1111111111111111,
              "#46039f"
             ],
             [
              0.2222222222222222,
              "#7201a8"
             ],
             [
              0.3333333333333333,
              "#9c179e"
             ],
             [
              0.4444444444444444,
              "#bd3786"
             ],
             [
              0.5555555555555556,
              "#d8576b"
             ],
             [
              0.6666666666666666,
              "#ed7953"
             ],
             [
              0.7777777777777778,
              "#fb9f3a"
             ],
             [
              0.8888888888888888,
              "#fdca26"
             ],
             [
              1,
              "#f0f921"
             ]
            ],
            "type": "contour"
           }
          ],
          "contourcarpet": [
           {
            "colorbar": {
             "outlinewidth": 0,
             "ticks": ""
            },
            "type": "contourcarpet"
           }
          ],
          "heatmap": [
           {
            "colorbar": {
             "outlinewidth": 0,
             "ticks": ""
            },
            "colorscale": [
             [
              0,
              "#0d0887"
             ],
             [
              0.1111111111111111,
              "#46039f"
             ],
             [
              0.2222222222222222,
              "#7201a8"
             ],
             [
              0.3333333333333333,
              "#9c179e"
             ],
             [
              0.4444444444444444,
              "#bd3786"
             ],
             [
              0.5555555555555556,
              "#d8576b"
             ],
             [
              0.6666666666666666,
              "#ed7953"
             ],
             [
              0.7777777777777778,
              "#fb9f3a"
             ],
             [
              0.8888888888888888,
              "#fdca26"
             ],
             [
              1,
              "#f0f921"
             ]
            ],
            "type": "heatmap"
           }
          ],
          "heatmapgl": [
           {
            "colorbar": {
             "outlinewidth": 0,
             "ticks": ""
            },
            "colorscale": [
             [
              0,
              "#0d0887"
             ],
             [
              0.1111111111111111,
              "#46039f"
             ],
             [
              0.2222222222222222,
              "#7201a8"
             ],
             [
              0.3333333333333333,
              "#9c179e"
             ],
             [
              0.4444444444444444,
              "#bd3786"
             ],
             [
              0.5555555555555556,
              "#d8576b"
             ],
             [
              0.6666666666666666,
              "#ed7953"
             ],
             [
              0.7777777777777778,
              "#fb9f3a"
             ],
             [
              0.8888888888888888,
              "#fdca26"
             ],
             [
              1,
              "#f0f921"
             ]
            ],
            "type": "heatmapgl"
           }
          ],
          "histogram": [
           {
            "marker": {
             "pattern": {
              "fillmode": "overlay",
              "size": 10,
              "solidity": 0.2
             }
            },
            "type": "histogram"
           }
          ],
          "histogram2d": [
           {
            "colorbar": {
             "outlinewidth": 0,
             "ticks": ""
            },
            "colorscale": [
             [
              0,
              "#0d0887"
             ],
             [
              0.1111111111111111,
              "#46039f"
             ],
             [
              0.2222222222222222,
              "#7201a8"
             ],
             [
              0.3333333333333333,
              "#9c179e"
             ],
             [
              0.4444444444444444,
              "#bd3786"
             ],
             [
              0.5555555555555556,
              "#d8576b"
             ],
             [
              0.6666666666666666,
              "#ed7953"
             ],
             [
              0.7777777777777778,
              "#fb9f3a"
             ],
             [
              0.8888888888888888,
              "#fdca26"
             ],
             [
              1,
              "#f0f921"
             ]
            ],
            "type": "histogram2d"
           }
          ],
          "histogram2dcontour": [
           {
            "colorbar": {
             "outlinewidth": 0,
             "ticks": ""
            },
            "colorscale": [
             [
              0,
              "#0d0887"
             ],
             [
              0.1111111111111111,
              "#46039f"
             ],
             [
              0.2222222222222222,
              "#7201a8"
             ],
             [
              0.3333333333333333,
              "#9c179e"
             ],
             [
              0.4444444444444444,
              "#bd3786"
             ],
             [
              0.5555555555555556,
              "#d8576b"
             ],
             [
              0.6666666666666666,
              "#ed7953"
             ],
             [
              0.7777777777777778,
              "#fb9f3a"
             ],
             [
              0.8888888888888888,
              "#fdca26"
             ],
             [
              1,
              "#f0f921"
             ]
            ],
            "type": "histogram2dcontour"
           }
          ],
          "mesh3d": [
           {
            "colorbar": {
             "outlinewidth": 0,
             "ticks": ""
            },
            "type": "mesh3d"
           }
          ],
          "parcoords": [
           {
            "line": {
             "colorbar": {
              "outlinewidth": 0,
              "ticks": ""
             }
            },
            "type": "parcoords"
           }
          ],
          "pie": [
           {
            "automargin": true,
            "type": "pie"
           }
          ],
          "scatter": [
           {
            "fillpattern": {
             "fillmode": "overlay",
             "size": 10,
             "solidity": 0.2
            },
            "type": "scatter"
           }
          ],
          "scatter3d": [
           {
            "line": {
             "colorbar": {
              "outlinewidth": 0,
              "ticks": ""
             }
            },
            "marker": {
             "colorbar": {
              "outlinewidth": 0,
              "ticks": ""
             }
            },
            "type": "scatter3d"
           }
          ],
          "scattercarpet": [
           {
            "marker": {
             "colorbar": {
              "outlinewidth": 0,
              "ticks": ""
             }
            },
            "type": "scattercarpet"
           }
          ],
          "scattergeo": [
           {
            "marker": {
             "colorbar": {
              "outlinewidth": 0,
              "ticks": ""
             }
            },
            "type": "scattergeo"
           }
          ],
          "scattergl": [
           {
            "marker": {
             "colorbar": {
              "outlinewidth": 0,
              "ticks": ""
             }
            },
            "type": "scattergl"
           }
          ],
          "scattermapbox": [
           {
            "marker": {
             "colorbar": {
              "outlinewidth": 0,
              "ticks": ""
             }
            },
            "type": "scattermapbox"
           }
          ],
          "scatterpolar": [
           {
            "marker": {
             "colorbar": {
              "outlinewidth": 0,
              "ticks": ""
             }
            },
            "type": "scatterpolar"
           }
          ],
          "scatterpolargl": [
           {
            "marker": {
             "colorbar": {
              "outlinewidth": 0,
              "ticks": ""
             }
            },
            "type": "scatterpolargl"
           }
          ],
          "scatterternary": [
           {
            "marker": {
             "colorbar": {
              "outlinewidth": 0,
              "ticks": ""
             }
            },
            "type": "scatterternary"
           }
          ],
          "surface": [
           {
            "colorbar": {
             "outlinewidth": 0,
             "ticks": ""
            },
            "colorscale": [
             [
              0,
              "#0d0887"
             ],
             [
              0.1111111111111111,
              "#46039f"
             ],
             [
              0.2222222222222222,
              "#7201a8"
             ],
             [
              0.3333333333333333,
              "#9c179e"
             ],
             [
              0.4444444444444444,
              "#bd3786"
             ],
             [
              0.5555555555555556,
              "#d8576b"
             ],
             [
              0.6666666666666666,
              "#ed7953"
             ],
             [
              0.7777777777777778,
              "#fb9f3a"
             ],
             [
              0.8888888888888888,
              "#fdca26"
             ],
             [
              1,
              "#f0f921"
             ]
            ],
            "type": "surface"
           }
          ],
          "table": [
           {
            "cells": {
             "fill": {
              "color": "#EBF0F8"
             },
             "line": {
              "color": "white"
             }
            },
            "header": {
             "fill": {
              "color": "#C8D4E3"
             },
             "line": {
              "color": "white"
             }
            },
            "type": "table"
           }
          ]
         },
         "layout": {
          "annotationdefaults": {
           "arrowcolor": "#2a3f5f",
           "arrowhead": 0,
           "arrowwidth": 1
          },
          "autotypenumbers": "strict",
          "coloraxis": {
           "colorbar": {
            "outlinewidth": 0,
            "ticks": ""
           }
          },
          "colorscale": {
           "diverging": [
            [
             0,
             "#8e0152"
            ],
            [
             0.1,
             "#c51b7d"
            ],
            [
             0.2,
             "#de77ae"
            ],
            [
             0.3,
             "#f1b6da"
            ],
            [
             0.4,
             "#fde0ef"
            ],
            [
             0.5,
             "#f7f7f7"
            ],
            [
             0.6,
             "#e6f5d0"
            ],
            [
             0.7,
             "#b8e186"
            ],
            [
             0.8,
             "#7fbc41"
            ],
            [
             0.9,
             "#4d9221"
            ],
            [
             1,
             "#276419"
            ]
           ],
           "sequential": [
            [
             0,
             "#0d0887"
            ],
            [
             0.1111111111111111,
             "#46039f"
            ],
            [
             0.2222222222222222,
             "#7201a8"
            ],
            [
             0.3333333333333333,
             "#9c179e"
            ],
            [
             0.4444444444444444,
             "#bd3786"
            ],
            [
             0.5555555555555556,
             "#d8576b"
            ],
            [
             0.6666666666666666,
             "#ed7953"
            ],
            [
             0.7777777777777778,
             "#fb9f3a"
            ],
            [
             0.8888888888888888,
             "#fdca26"
            ],
            [
             1,
             "#f0f921"
            ]
           ],
           "sequentialminus": [
            [
             0,
             "#0d0887"
            ],
            [
             0.1111111111111111,
             "#46039f"
            ],
            [
             0.2222222222222222,
             "#7201a8"
            ],
            [
             0.3333333333333333,
             "#9c179e"
            ],
            [
             0.4444444444444444,
             "#bd3786"
            ],
            [
             0.5555555555555556,
             "#d8576b"
            ],
            [
             0.6666666666666666,
             "#ed7953"
            ],
            [
             0.7777777777777778,
             "#fb9f3a"
            ],
            [
             0.8888888888888888,
             "#fdca26"
            ],
            [
             1,
             "#f0f921"
            ]
           ]
          },
          "colorway": [
           "#636efa",
           "#EF553B",
           "#00cc96",
           "#ab63fa",
           "#FFA15A",
           "#19d3f3",
           "#FF6692",
           "#B6E880",
           "#FF97FF",
           "#FECB52"
          ],
          "font": {
           "color": "#2a3f5f"
          },
          "geo": {
           "bgcolor": "white",
           "lakecolor": "white",
           "landcolor": "#E5ECF6",
           "showlakes": true,
           "showland": true,
           "subunitcolor": "white"
          },
          "hoverlabel": {
           "align": "left"
          },
          "hovermode": "closest",
          "mapbox": {
           "style": "light"
          },
          "paper_bgcolor": "white",
          "plot_bgcolor": "#E5ECF6",
          "polar": {
           "angularaxis": {
            "gridcolor": "white",
            "linecolor": "white",
            "ticks": ""
           },
           "bgcolor": "#E5ECF6",
           "radialaxis": {
            "gridcolor": "white",
            "linecolor": "white",
            "ticks": ""
           }
          },
          "scene": {
           "xaxis": {
            "backgroundcolor": "#E5ECF6",
            "gridcolor": "white",
            "gridwidth": 2,
            "linecolor": "white",
            "showbackground": true,
            "ticks": "",
            "zerolinecolor": "white"
           },
           "yaxis": {
            "backgroundcolor": "#E5ECF6",
            "gridcolor": "white",
            "gridwidth": 2,
            "linecolor": "white",
            "showbackground": true,
            "ticks": "",
            "zerolinecolor": "white"
           },
           "zaxis": {
            "backgroundcolor": "#E5ECF6",
            "gridcolor": "white",
            "gridwidth": 2,
            "linecolor": "white",
            "showbackground": true,
            "ticks": "",
            "zerolinecolor": "white"
           }
          },
          "shapedefaults": {
           "line": {
            "color": "#2a3f5f"
           }
          },
          "ternary": {
           "aaxis": {
            "gridcolor": "white",
            "linecolor": "white",
            "ticks": ""
           },
           "baxis": {
            "gridcolor": "white",
            "linecolor": "white",
            "ticks": ""
           },
           "bgcolor": "#E5ECF6",
           "caxis": {
            "gridcolor": "white",
            "linecolor": "white",
            "ticks": ""
           }
          },
          "title": {
           "x": 0.05
          },
          "xaxis": {
           "automargin": true,
           "gridcolor": "white",
           "linecolor": "white",
           "ticks": "",
           "title": {
            "standoff": 15
           },
           "zerolinecolor": "white",
           "zerolinewidth": 2
          },
          "yaxis": {
           "automargin": true,
           "gridcolor": "white",
           "linecolor": "white",
           "ticks": "",
           "title": {
            "standoff": 15
           },
           "zerolinecolor": "white",
           "zerolinewidth": 2
          }
         }
        },
        "title": {
         "text": "Daily Maximum Temperature Forecasts Over Time<br>Color shows hours before actual high"
        },
        "xaxis": {
         "anchor": "y",
         "domain": [
          0,
          1
         ],
         "dtick": "D1",
         "tickangle": 45,
         "tickformat": "%Y-%m-%d",
         "title": {
          "text": "date"
         }
        },
        "yaxis": {
         "anchor": "x",
         "domain": [
          0,
          1
         ],
         "title": {
          "text": "forecast_max_temp"
         }
        }
       }
      }
     },
     "metadata": {},
     "output_type": "display_data"
    }
   ],
   "source": [
    "import numpy as np\n",
    "import plotly.express as px\n",
    "import plotly.graph_objects as go\n",
    "\n",
    "def analyze_max_temp_forecast_accuracy(df_forecasts, df_observations, temp_margin=1.0):\n",
    "    \"\"\"\n",
    "    For each daily high:\n",
    "    1. Look at forecast groups made within 12 hours before the high\n",
    "    2. For each group, find the maximum temperature forecast that's:\n",
    "       - Predicting a time before the high (but within 12 hours)\n",
    "       - Not predicting after the high's time\n",
    "    \"\"\"\n",
    "    daily_maxes = []\n",
    "    df_observations['date'] = df_observations['observed_time'].dt.date\n",
    "    \n",
    "    # First find daily highs\n",
    "    for date, day_obs in df_observations.groupby('date'):\n",
    "        # Get max temp and its exact time for this day\n",
    "        max_temp = day_obs['temperature'].max()\n",
    "        max_temp_obs = day_obs[day_obs['temperature'] == max_temp].iloc[-1]  # Take latest if multiple\n",
    "        high_time = max_temp_obs['observed_time']\n",
    "        \n",
    "        # Look at forecasts created within 12 hours before the high\n",
    "        forecast_window_start = high_time - timedelta(hours=12)\n",
    "        \n",
    "        # Group forecasts by their creation time\n",
    "        for created_at, group in df_forecasts[\n",
    "            (df_forecasts['created_at'] >= forecast_window_start) &\n",
    "            (df_forecasts['created_at'] <= high_time)\n",
    "        ].groupby('created_at'):\n",
    "            \n",
    "            # Filter for valid forecast times and get the max temperature\n",
    "            valid_forecasts = group[\n",
    "                (group['forecast_time'] <= high_time) &\n",
    "                (group['forecast_time'] >= high_time - timedelta(hours=12))\n",
    "            ]\n",
    "            \n",
    "            if not valid_forecasts.empty:\n",
    "                # Get the maximum temperature forecast from this group\n",
    "                max_forecast = valid_forecasts.loc[valid_forecasts['temperature'].idxmax()]\n",
    "                error = max_forecast['temperature'] - max_temp\n",
    "                is_accurate = abs(error) <= temp_margin\n",
    "                hours_before_high = (high_time - max_forecast['forecast_time']).total_seconds() / 3600\n",
    "                \n",
    "                daily_maxes.append({\n",
    "                    'date': date,\n",
    "                    'high_temp': max_temp,\n",
    "                    'high_temp_time': high_time,\n",
    "                    'forecast_max_temp': max_forecast['temperature'],\n",
    "                    'forecast_time': max_forecast['forecast_time'],\n",
    "                    'forecast_created': created_at,\n",
    "                    'hours_before_high': hours_before_high,  # How far before the high this forecast was for\n",
    "                    'hours_ahead': (max_forecast['forecast_time'] - created_at).total_seconds() / 3600,  # Lead time\n",
    "                    'error': error,\n",
    "                    'error_magnitude': abs(error),\n",
    "                    'is_accurate': is_accurate\n",
    "                })\n",
    "    \n",
    "    df_analysis = pd.DataFrame(daily_maxes)\n",
    "    \n",
    "        # ... (previous code remains the same until after df_analysis creation) ...\n",
    "    \n",
    "    if df_analysis.empty:\n",
    "        print(\"No matching data found for analysis\")\n",
    "        return None\n",
    "    \n",
    "    # Print summary for each day (only once)\n",
    "    print(\"\\nDaily Maximum Temperature Analysis:\")\n",
    "    print(\"===================================\")\n",
    "    \n",
    "    for date, day_data in df_analysis.groupby('date'):\n",
    "        high_temp = day_data['high_temp'].iloc[0]\n",
    "        high_time = day_data['high_temp_time'].iloc[0]\n",
    "        accurate_forecasts = day_data[day_data['is_accurate']]\n",
    "        \n",
    "        print(f\"\\nDate: {date}\")\n",
    "        print(f\"Daily High: {high_temp:.2f}°F at {high_time.strftime('%I:%M %p EST')}\")\n",
    "        print(f\"Number of forecast groups: {len(day_data)}\")\n",
    "        print(f\"Accurate max forecasts (±{temp_margin}°F): {len(accurate_forecasts)}\")\n",
    "        \n",
    "        if len(accurate_forecasts) > 0:\n",
    "            print(\"\\nAccurate Forecasts:\")\n",
    "            for _, forecast in accurate_forecasts.iterrows():\n",
    "                print(f\"  Created: {forecast['forecast_created'].strftime('%Y-%m-%d %I:%M %p EST')}\")\n",
    "                print(f\"  Predicted: {forecast['forecast_max_temp']:.2f}°F\")\n",
    "                print(f\"  Hours ahead: {forecast['hours_ahead']:.1f}\")\n",
    "                print(f\"  Error: {forecast['error']:.2f}°F\")\n",
    "                print(\"  ---\")\n",
    "    \n",
    "    # 1. Scatter plot of all forecasts vs actual highs\n",
    "    fig1 = px.scatter(df_analysis,\n",
    "                     x='high_temp',\n",
    "                     y='forecast_max_temp',\n",
    "                     color='hours_ahead',\n",
    "                     color_continuous_scale='RdYlBu_r',\n",
    "                     range_color=[0, 14],\n",
    "                     hover_data={\n",
    "                         'date': True,\n",
    "                         'high_temp_time': True,\n",
    "                         'forecast_created': True,\n",
    "                         'hours_ahead': ':.1f',\n",
    "                         'error': ':.2f',\n",
    "                         'high_temp': ':.2f',\n",
    "                         'forecast_max_temp': ':.2f',\n",
    "                         'is_accurate': True\n",
    "                     },\n",
    "                     title=f'Forecast vs Actual Daily Maximum Temperatures (±{temp_margin}°F margin)<br>Color shows hours before actual high')\n",
    "    \n",
    "    # Make points bigger\n",
    "    fig1.update_traces(marker=dict(size=12))\n",
    "    \n",
    "    # Add perfect forecast line and margin bands\n",
    "    temp_range = np.linspace(\n",
    "        df_analysis['high_temp'].min() - 5,\n",
    "        df_analysis['high_temp'].max() + 5,\n",
    "        100\n",
    "    )\n",
    "    \n",
    "    fig1.add_trace(go.Scatter(\n",
    "        x=temp_range,\n",
    "        y=temp_range,\n",
    "        mode='lines',\n",
    "        name='Perfect Forecast',\n",
    "        line=dict(color='black', dash='dash')\n",
    "    ))\n",
    "    \n",
    "    fig1.add_trace(go.Scatter(\n",
    "        x=temp_range,\n",
    "        y=temp_range + temp_margin,\n",
    "        mode='lines',\n",
    "        name=f'+{temp_margin}°F Margin',\n",
    "        line=dict(color='gray', dash='dot')\n",
    "    ))\n",
    "    \n",
    "    fig1.add_trace(go.Scatter(\n",
    "        x=temp_range,\n",
    "        y=temp_range - temp_margin,\n",
    "        mode='lines',\n",
    "        name=f'-{temp_margin}°F Margin',\n",
    "        line=dict(color='gray', dash='dot')\n",
    "    ))\n",
    "    \n",
    "    fig1.show()\n",
    "    \n",
    "    # 2. Time series with color showing lead time\n",
    "    fig2 = px.scatter(df_analysis,\n",
    "                     x='date',\n",
    "                     y='forecast_max_temp',  # Changed from forecast_temp\n",
    "                     color='hours_ahead',\n",
    "                     color_continuous_scale='RdYlBu_r',\n",
    "                     range_color=[0, 14],\n",
    "                     hover_data={\n",
    "                         'forecast_time': True,\n",
    "                         'forecast_created': True,\n",
    "                         'hours_ahead': ':.1f',\n",
    "                         'error': ':.2f',\n",
    "                         'high_temp': ':.2f',\n",
    "                         'forecast_max_temp': ':.2f',\n",
    "                         'is_accurate': True\n",
    "                     },\n",
    "                     title='Daily Maximum Temperature Forecasts Over Time<br>Color shows hours before actual high')\n",
    "    \n",
    "    # Make points bigger\n",
    "    fig2.update_traces(marker=dict(size=12))\n",
    "    \n",
    "    # Add actual max temperatures line\n",
    "    daily_highs = df_analysis.groupby('date')['high_temp'].first().reset_index()\n",
    "    fig2.add_trace(go.Scatter(\n",
    "        x=daily_highs['date'],\n",
    "        y=daily_highs['high_temp'],\n",
    "        mode='lines+markers',\n",
    "        name='Actual Daily Max',\n",
    "        line=dict(color='black'),\n",
    "        marker=dict(size=12)\n",
    "    ))\n",
    "    \n",
    "    # Update x-axis to show only dates\n",
    "    fig2.update_xaxes(\n",
    "        tickformat=\"%Y-%m-%d\",\n",
    "        dtick=\"D1\",  # Show tick for each day\n",
    "        tickangle=45  # Angle the dates for better readability\n",
    "    )\n",
    "    \n",
    "    fig2.show()\n",
    "    return df_analysis\n",
    "\n",
    "# Run the analysis\n",
    "df_max_analysis = analyze_max_temp_forecast_accuracy(df_forecasts, df_observations, temp_margin=1.0)"
   ]
  },
  {
   "cell_type": "code",
   "execution_count": 74,
   "metadata": {},
   "outputs": [
    {
     "name": "stdout",
     "output_type": "stream",
     "text": [
      "\n",
      "Daily Maximum Temperature Analysis:\n",
      "===================================\n",
      "\n",
      "Date: 2024-12-10\n",
      "Daily High: 48.02°F at 01:00 AM\n",
      "Number of forecast groups: 12\n",
      "Accurate max forecasts (±1.0°F): 0\n"
     ]
    },
    {
     "data": {
      "application/vnd.plotly.v1+json": {
       "config": {
        "plotlyServerURL": "https://plot.ly"
       },
       "data": [
        {
         "customdata": [
          [
           "2024-12-10",
           "2024-12-09T14:00:00-05:00",
           15,
           11,
           1.9799999999999969,
           false
          ],
          [
           "2024-12-10",
           "2024-12-09T15:00:00-05:00",
           16,
           10,
           2.979999999999997,
           false
          ],
          [
           "2024-12-10",
           "2024-12-09T16:00:00-05:00",
           17,
           9,
           1.9799999999999969,
           false
          ],
          [
           "2024-12-10",
           "2024-12-09T17:00:00-05:00",
           18,
           8,
           1.9799999999999969,
           false
          ],
          [
           "2024-12-10",
           "2024-12-09T18:00:00-05:00",
           19,
           7,
           1.9799999999999969,
           false
          ],
          [
           "2024-12-10",
           "2024-12-09T19:00:00-05:00",
           20,
           6,
           2.979999999999997,
           false
          ],
          [
           "2024-12-10",
           "2024-12-09T20:00:00-05:00",
           21,
           5,
           2.979999999999997,
           false
          ],
          [
           "2024-12-10",
           "2024-12-09T21:00:00-05:00",
           22,
           4,
           2.979999999999997,
           false
          ],
          [
           "2024-12-10",
           "2024-12-09T22:00:00-05:00",
           23,
           3,
           2.979999999999997,
           false
          ],
          [
           "2024-12-10",
           "2024-12-09T23:00:00-05:00",
           24,
           2,
           3.979999999999997,
           false
          ],
          [
           "2024-12-10",
           "2024-12-10T00:00:00-05:00",
           23,
           1,
           3.979999999999997,
           false
          ],
          [
           "2024-12-10",
           "2024-12-10T01:00:00-05:00",
           22,
           0,
           3.979999999999997,
           false
          ]
         ],
         "hovertemplate": "Date: %{customdata[0]}<br>Created: %{customdata[1]}<br>Forecasts in hour: %{customdata[2]}<br>Hours until high: %{customdata[3]:.1f}<br>Error: %{customdata[4]:.2f}°F<br>High Temp: %{x:.2f}°F<br>Forecast Max: %{y:.2f}°F<br>Accurate: %{customdata[5]}<extra></extra>",
         "legendgroup": "",
         "marker": {
          "color": [
           11,
           10,
           9,
           8,
           7,
           6,
           5,
           4,
           3,
           2,
           1,
           0
          ],
          "coloraxis": "coloraxis",
          "size": [
           11,
           10,
           9,
           8,
           7,
           6,
           5,
           4,
           3,
           2,
           1,
           0
          ],
          "sizemode": "area",
          "sizeref": 0.0019555555555555554,
          "symbol": "circle"
         },
         "mode": "markers",
         "name": "",
         "orientation": "v",
         "showlegend": false,
         "type": "scatter",
         "x": [
          48.02,
          48.02,
          48.02,
          48.02,
          48.02,
          48.02,
          48.02,
          48.02,
          48.02,
          48.02,
          48.02,
          48.02
         ],
         "xaxis": "x",
         "y": [
          50,
          51,
          50,
          50,
          50,
          51,
          51,
          51,
          51,
          52,
          52,
          52
         ],
         "yaxis": "y"
        },
        {
         "line": {
          "color": "black",
          "dash": "dash"
         },
         "mode": "lines",
         "name": "Perfect Forecast",
         "type": "scatter",
         "x": [
          43.02,
          43.12101010101011,
          43.222020202020204,
          43.32303030303031,
          43.424040404040404,
          43.52505050505051,
          43.62606060606061,
          43.72707070707071,
          43.82808080808081,
          43.92909090909091,
          44.03010101010101,
          44.13111111111112,
          44.232121212121214,
          44.33313131313132,
          44.434141414141415,
          44.53515151515152,
          44.63616161616162,
          44.73717171717172,
          44.83818181818182,
          44.93919191919192,
          45.040202020202024,
          45.14121212121212,
          45.242222222222225,
          45.34323232323233,
          45.444242424242425,
          45.54525252525253,
          45.646262626262626,
          45.74727272727273,
          45.848282828282834,
          45.94929292929293,
          46.050303030303034,
          46.15131313131313,
          46.252323232323235,
          46.35333333333334,
          46.454343434343436,
          46.55535353535354,
          46.656363636363636,
          46.75737373737374,
          46.858383838383844,
          46.95939393939394,
          47.060404040404045,
          47.16141414141414,
          47.262424242424245,
          47.36343434343435,
          47.464444444444446,
          47.56545454545455,
          47.66646464646465,
          47.76747474747475,
          47.868484848484854,
          47.96949494949495,
          48.070505050505055,
          48.17151515151515,
          48.272525252525256,
          48.37353535353536,
          48.474545454545456,
          48.57555555555556,
          48.67656565656566,
          48.77757575757576,
          48.878585858585865,
          48.97959595959596,
          49.080606060606065,
          49.18161616161616,
          49.282626262626266,
          49.38363636363637,
          49.48464646464647,
          49.58565656565657,
          49.68666666666667,
          49.78767676767677,
          49.888686868686875,
          49.98969696969697,
          50.090707070707076,
          50.19171717171717,
          50.29272727272728,
          50.39373737373738,
          50.49474747474748,
          50.59575757575758,
          50.69676767676768,
          50.79777777777778,
          50.898787878787886,
          50.99979797979798,
          51.100808080808086,
          51.20181818181818,
          51.30282828282829,
          51.40383838383839,
          51.50484848484849,
          51.60585858585859,
          51.70686868686869,
          51.80787878787879,
          51.908888888888896,
          52.00989898989899,
          52.11090909090909,
          52.21191919191919,
          52.3129292929293,
          52.4139393939394,
          52.5149494949495,
          52.615959595959595,
          52.7169696969697,
          52.8179797979798,
          52.918989898989906,
          53.02
         ],
         "y": [
          43.02,
          43.12101010101011,
          43.222020202020204,
          43.32303030303031,
          43.424040404040404,
          43.52505050505051,
          43.62606060606061,
          43.72707070707071,
          43.82808080808081,
          43.92909090909091,
          44.03010101010101,
          44.13111111111112,
          44.232121212121214,
          44.33313131313132,
          44.434141414141415,
          44.53515151515152,
          44.63616161616162,
          44.73717171717172,
          44.83818181818182,
          44.93919191919192,
          45.040202020202024,
          45.14121212121212,
          45.242222222222225,
          45.34323232323233,
          45.444242424242425,
          45.54525252525253,
          45.646262626262626,
          45.74727272727273,
          45.848282828282834,
          45.94929292929293,
          46.050303030303034,
          46.15131313131313,
          46.252323232323235,
          46.35333333333334,
          46.454343434343436,
          46.55535353535354,
          46.656363636363636,
          46.75737373737374,
          46.858383838383844,
          46.95939393939394,
          47.060404040404045,
          47.16141414141414,
          47.262424242424245,
          47.36343434343435,
          47.464444444444446,
          47.56545454545455,
          47.66646464646465,
          47.76747474747475,
          47.868484848484854,
          47.96949494949495,
          48.070505050505055,
          48.17151515151515,
          48.272525252525256,
          48.37353535353536,
          48.474545454545456,
          48.57555555555556,
          48.67656565656566,
          48.77757575757576,
          48.878585858585865,
          48.97959595959596,
          49.080606060606065,
          49.18161616161616,
          49.282626262626266,
          49.38363636363637,
          49.48464646464647,
          49.58565656565657,
          49.68666666666667,
          49.78767676767677,
          49.888686868686875,
          49.98969696969697,
          50.090707070707076,
          50.19171717171717,
          50.29272727272728,
          50.39373737373738,
          50.49474747474748,
          50.59575757575758,
          50.69676767676768,
          50.79777777777778,
          50.898787878787886,
          50.99979797979798,
          51.100808080808086,
          51.20181818181818,
          51.30282828282829,
          51.40383838383839,
          51.50484848484849,
          51.60585858585859,
          51.70686868686869,
          51.80787878787879,
          51.908888888888896,
          52.00989898989899,
          52.11090909090909,
          52.21191919191919,
          52.3129292929293,
          52.4139393939394,
          52.5149494949495,
          52.615959595959595,
          52.7169696969697,
          52.8179797979798,
          52.918989898989906,
          53.02
         ]
        },
        {
         "line": {
          "color": "gray",
          "dash": "dot"
         },
         "mode": "lines",
         "name": "+1.0°F Margin",
         "type": "scatter",
         "x": [
          43.02,
          43.12101010101011,
          43.222020202020204,
          43.32303030303031,
          43.424040404040404,
          43.52505050505051,
          43.62606060606061,
          43.72707070707071,
          43.82808080808081,
          43.92909090909091,
          44.03010101010101,
          44.13111111111112,
          44.232121212121214,
          44.33313131313132,
          44.434141414141415,
          44.53515151515152,
          44.63616161616162,
          44.73717171717172,
          44.83818181818182,
          44.93919191919192,
          45.040202020202024,
          45.14121212121212,
          45.242222222222225,
          45.34323232323233,
          45.444242424242425,
          45.54525252525253,
          45.646262626262626,
          45.74727272727273,
          45.848282828282834,
          45.94929292929293,
          46.050303030303034,
          46.15131313131313,
          46.252323232323235,
          46.35333333333334,
          46.454343434343436,
          46.55535353535354,
          46.656363636363636,
          46.75737373737374,
          46.858383838383844,
          46.95939393939394,
          47.060404040404045,
          47.16141414141414,
          47.262424242424245,
          47.36343434343435,
          47.464444444444446,
          47.56545454545455,
          47.66646464646465,
          47.76747474747475,
          47.868484848484854,
          47.96949494949495,
          48.070505050505055,
          48.17151515151515,
          48.272525252525256,
          48.37353535353536,
          48.474545454545456,
          48.57555555555556,
          48.67656565656566,
          48.77757575757576,
          48.878585858585865,
          48.97959595959596,
          49.080606060606065,
          49.18161616161616,
          49.282626262626266,
          49.38363636363637,
          49.48464646464647,
          49.58565656565657,
          49.68666666666667,
          49.78767676767677,
          49.888686868686875,
          49.98969696969697,
          50.090707070707076,
          50.19171717171717,
          50.29272727272728,
          50.39373737373738,
          50.49474747474748,
          50.59575757575758,
          50.69676767676768,
          50.79777777777778,
          50.898787878787886,
          50.99979797979798,
          51.100808080808086,
          51.20181818181818,
          51.30282828282829,
          51.40383838383839,
          51.50484848484849,
          51.60585858585859,
          51.70686868686869,
          51.80787878787879,
          51.908888888888896,
          52.00989898989899,
          52.11090909090909,
          52.21191919191919,
          52.3129292929293,
          52.4139393939394,
          52.5149494949495,
          52.615959595959595,
          52.7169696969697,
          52.8179797979798,
          52.918989898989906,
          53.02
         ],
         "y": [
          44.02,
          44.12101010101011,
          44.222020202020204,
          44.32303030303031,
          44.424040404040404,
          44.52505050505051,
          44.62606060606061,
          44.72707070707071,
          44.82808080808081,
          44.92909090909091,
          45.03010101010101,
          45.13111111111112,
          45.232121212121214,
          45.33313131313132,
          45.434141414141415,
          45.53515151515152,
          45.63616161616162,
          45.73717171717172,
          45.83818181818182,
          45.93919191919192,
          46.040202020202024,
          46.14121212121212,
          46.242222222222225,
          46.34323232323233,
          46.444242424242425,
          46.54525252525253,
          46.646262626262626,
          46.74727272727273,
          46.848282828282834,
          46.94929292929293,
          47.050303030303034,
          47.15131313131313,
          47.252323232323235,
          47.35333333333334,
          47.454343434343436,
          47.55535353535354,
          47.656363636363636,
          47.75737373737374,
          47.858383838383844,
          47.95939393939394,
          48.060404040404045,
          48.16141414141414,
          48.262424242424245,
          48.36343434343435,
          48.464444444444446,
          48.56545454545455,
          48.66646464646465,
          48.76747474747475,
          48.868484848484854,
          48.96949494949495,
          49.070505050505055,
          49.17151515151515,
          49.272525252525256,
          49.37353535353536,
          49.474545454545456,
          49.57555555555556,
          49.67656565656566,
          49.77757575757576,
          49.878585858585865,
          49.97959595959596,
          50.080606060606065,
          50.18161616161616,
          50.282626262626266,
          50.38363636363637,
          50.48464646464647,
          50.58565656565657,
          50.68666666666667,
          50.78767676767677,
          50.888686868686875,
          50.98969696969697,
          51.090707070707076,
          51.19171717171717,
          51.29272727272728,
          51.39373737373738,
          51.49474747474748,
          51.59575757575758,
          51.69676767676768,
          51.79777777777778,
          51.898787878787886,
          51.99979797979798,
          52.100808080808086,
          52.20181818181818,
          52.30282828282829,
          52.40383838383839,
          52.50484848484849,
          52.60585858585859,
          52.70686868686869,
          52.80787878787879,
          52.908888888888896,
          53.00989898989899,
          53.11090909090909,
          53.21191919191919,
          53.3129292929293,
          53.4139393939394,
          53.5149494949495,
          53.615959595959595,
          53.7169696969697,
          53.8179797979798,
          53.918989898989906,
          54.02
         ]
        },
        {
         "line": {
          "color": "gray",
          "dash": "dot"
         },
         "mode": "lines",
         "name": "-1.0°F Margin",
         "type": "scatter",
         "x": [
          43.02,
          43.12101010101011,
          43.222020202020204,
          43.32303030303031,
          43.424040404040404,
          43.52505050505051,
          43.62606060606061,
          43.72707070707071,
          43.82808080808081,
          43.92909090909091,
          44.03010101010101,
          44.13111111111112,
          44.232121212121214,
          44.33313131313132,
          44.434141414141415,
          44.53515151515152,
          44.63616161616162,
          44.73717171717172,
          44.83818181818182,
          44.93919191919192,
          45.040202020202024,
          45.14121212121212,
          45.242222222222225,
          45.34323232323233,
          45.444242424242425,
          45.54525252525253,
          45.646262626262626,
          45.74727272727273,
          45.848282828282834,
          45.94929292929293,
          46.050303030303034,
          46.15131313131313,
          46.252323232323235,
          46.35333333333334,
          46.454343434343436,
          46.55535353535354,
          46.656363636363636,
          46.75737373737374,
          46.858383838383844,
          46.95939393939394,
          47.060404040404045,
          47.16141414141414,
          47.262424242424245,
          47.36343434343435,
          47.464444444444446,
          47.56545454545455,
          47.66646464646465,
          47.76747474747475,
          47.868484848484854,
          47.96949494949495,
          48.070505050505055,
          48.17151515151515,
          48.272525252525256,
          48.37353535353536,
          48.474545454545456,
          48.57555555555556,
          48.67656565656566,
          48.77757575757576,
          48.878585858585865,
          48.97959595959596,
          49.080606060606065,
          49.18161616161616,
          49.282626262626266,
          49.38363636363637,
          49.48464646464647,
          49.58565656565657,
          49.68666666666667,
          49.78767676767677,
          49.888686868686875,
          49.98969696969697,
          50.090707070707076,
          50.19171717171717,
          50.29272727272728,
          50.39373737373738,
          50.49474747474748,
          50.59575757575758,
          50.69676767676768,
          50.79777777777778,
          50.898787878787886,
          50.99979797979798,
          51.100808080808086,
          51.20181818181818,
          51.30282828282829,
          51.40383838383839,
          51.50484848484849,
          51.60585858585859,
          51.70686868686869,
          51.80787878787879,
          51.908888888888896,
          52.00989898989899,
          52.11090909090909,
          52.21191919191919,
          52.3129292929293,
          52.4139393939394,
          52.5149494949495,
          52.615959595959595,
          52.7169696969697,
          52.8179797979798,
          52.918989898989906,
          53.02
         ],
         "y": [
          42.02,
          42.12101010101011,
          42.222020202020204,
          42.32303030303031,
          42.424040404040404,
          42.52505050505051,
          42.62606060606061,
          42.72707070707071,
          42.82808080808081,
          42.92909090909091,
          43.03010101010101,
          43.13111111111112,
          43.232121212121214,
          43.33313131313132,
          43.434141414141415,
          43.53515151515152,
          43.63616161616162,
          43.73717171717172,
          43.83818181818182,
          43.93919191919192,
          44.040202020202024,
          44.14121212121212,
          44.242222222222225,
          44.34323232323233,
          44.444242424242425,
          44.54525252525253,
          44.646262626262626,
          44.74727272727273,
          44.848282828282834,
          44.94929292929293,
          45.050303030303034,
          45.15131313131313,
          45.252323232323235,
          45.35333333333334,
          45.454343434343436,
          45.55535353535354,
          45.656363636363636,
          45.75737373737374,
          45.858383838383844,
          45.95939393939394,
          46.060404040404045,
          46.16141414141414,
          46.262424242424245,
          46.36343434343435,
          46.464444444444446,
          46.56545454545455,
          46.66646464646465,
          46.76747474747475,
          46.868484848484854,
          46.96949494949495,
          47.070505050505055,
          47.17151515151515,
          47.272525252525256,
          47.37353535353536,
          47.474545454545456,
          47.57555555555556,
          47.67656565656566,
          47.77757575757576,
          47.878585858585865,
          47.97959595959596,
          48.080606060606065,
          48.18161616161616,
          48.282626262626266,
          48.38363636363637,
          48.48464646464647,
          48.58565656565657,
          48.68666666666667,
          48.78767676767677,
          48.888686868686875,
          48.98969696969697,
          49.090707070707076,
          49.19171717171717,
          49.29272727272728,
          49.39373737373738,
          49.49474747474748,
          49.59575757575758,
          49.69676767676768,
          49.79777777777778,
          49.898787878787886,
          49.99979797979798,
          50.100808080808086,
          50.20181818181818,
          50.30282828282829,
          50.40383838383839,
          50.50484848484849,
          50.60585858585859,
          50.70686868686869,
          50.80787878787879,
          50.908888888888896,
          51.00989898989899,
          51.11090909090909,
          51.21191919191919,
          51.3129292929293,
          51.4139393939394,
          51.5149494949495,
          51.615959595959595,
          51.7169696969697,
          51.8179797979798,
          51.918989898989906,
          52.02
         ]
        }
       ],
       "layout": {
        "coloraxis": {
         "cmax": 12,
         "cmin": 0,
         "colorbar": {
          "title": {
           "text": "hours_until_high"
          }
         },
         "colorscale": [
          [
           0,
           "rgb(49,54,149)"
          ],
          [
           0.1,
           "rgb(69,117,180)"
          ],
          [
           0.2,
           "rgb(116,173,209)"
          ],
          [
           0.3,
           "rgb(171,217,233)"
          ],
          [
           0.4,
           "rgb(224,243,248)"
          ],
          [
           0.5,
           "rgb(255,255,191)"
          ],
          [
           0.6,
           "rgb(254,224,144)"
          ],
          [
           0.7,
           "rgb(253,174,97)"
          ],
          [
           0.8,
           "rgb(244,109,67)"
          ],
          [
           0.9,
           "rgb(215,48,39)"
          ],
          [
           1,
           "rgb(165,0,38)"
          ]
         ]
        },
        "legend": {
         "itemsizing": "constant",
         "tracegroupgap": 0
        },
        "template": {
         "data": {
          "bar": [
           {
            "error_x": {
             "color": "#2a3f5f"
            },
            "error_y": {
             "color": "#2a3f5f"
            },
            "marker": {
             "line": {
              "color": "#E5ECF6",
              "width": 0.5
             },
             "pattern": {
              "fillmode": "overlay",
              "size": 10,
              "solidity": 0.2
             }
            },
            "type": "bar"
           }
          ],
          "barpolar": [
           {
            "marker": {
             "line": {
              "color": "#E5ECF6",
              "width": 0.5
             },
             "pattern": {
              "fillmode": "overlay",
              "size": 10,
              "solidity": 0.2
             }
            },
            "type": "barpolar"
           }
          ],
          "carpet": [
           {
            "aaxis": {
             "endlinecolor": "#2a3f5f",
             "gridcolor": "white",
             "linecolor": "white",
             "minorgridcolor": "white",
             "startlinecolor": "#2a3f5f"
            },
            "baxis": {
             "endlinecolor": "#2a3f5f",
             "gridcolor": "white",
             "linecolor": "white",
             "minorgridcolor": "white",
             "startlinecolor": "#2a3f5f"
            },
            "type": "carpet"
           }
          ],
          "choropleth": [
           {
            "colorbar": {
             "outlinewidth": 0,
             "ticks": ""
            },
            "type": "choropleth"
           }
          ],
          "contour": [
           {
            "colorbar": {
             "outlinewidth": 0,
             "ticks": ""
            },
            "colorscale": [
             [
              0,
              "#0d0887"
             ],
             [
              0.1111111111111111,
              "#46039f"
             ],
             [
              0.2222222222222222,
              "#7201a8"
             ],
             [
              0.3333333333333333,
              "#9c179e"
             ],
             [
              0.4444444444444444,
              "#bd3786"
             ],
             [
              0.5555555555555556,
              "#d8576b"
             ],
             [
              0.6666666666666666,
              "#ed7953"
             ],
             [
              0.7777777777777778,
              "#fb9f3a"
             ],
             [
              0.8888888888888888,
              "#fdca26"
             ],
             [
              1,
              "#f0f921"
             ]
            ],
            "type": "contour"
           }
          ],
          "contourcarpet": [
           {
            "colorbar": {
             "outlinewidth": 0,
             "ticks": ""
            },
            "type": "contourcarpet"
           }
          ],
          "heatmap": [
           {
            "colorbar": {
             "outlinewidth": 0,
             "ticks": ""
            },
            "colorscale": [
             [
              0,
              "#0d0887"
             ],
             [
              0.1111111111111111,
              "#46039f"
             ],
             [
              0.2222222222222222,
              "#7201a8"
             ],
             [
              0.3333333333333333,
              "#9c179e"
             ],
             [
              0.4444444444444444,
              "#bd3786"
             ],
             [
              0.5555555555555556,
              "#d8576b"
             ],
             [
              0.6666666666666666,
              "#ed7953"
             ],
             [
              0.7777777777777778,
              "#fb9f3a"
             ],
             [
              0.8888888888888888,
              "#fdca26"
             ],
             [
              1,
              "#f0f921"
             ]
            ],
            "type": "heatmap"
           }
          ],
          "heatmapgl": [
           {
            "colorbar": {
             "outlinewidth": 0,
             "ticks": ""
            },
            "colorscale": [
             [
              0,
              "#0d0887"
             ],
             [
              0.1111111111111111,
              "#46039f"
             ],
             [
              0.2222222222222222,
              "#7201a8"
             ],
             [
              0.3333333333333333,
              "#9c179e"
             ],
             [
              0.4444444444444444,
              "#bd3786"
             ],
             [
              0.5555555555555556,
              "#d8576b"
             ],
             [
              0.6666666666666666,
              "#ed7953"
             ],
             [
              0.7777777777777778,
              "#fb9f3a"
             ],
             [
              0.8888888888888888,
              "#fdca26"
             ],
             [
              1,
              "#f0f921"
             ]
            ],
            "type": "heatmapgl"
           }
          ],
          "histogram": [
           {
            "marker": {
             "pattern": {
              "fillmode": "overlay",
              "size": 10,
              "solidity": 0.2
             }
            },
            "type": "histogram"
           }
          ],
          "histogram2d": [
           {
            "colorbar": {
             "outlinewidth": 0,
             "ticks": ""
            },
            "colorscale": [
             [
              0,
              "#0d0887"
             ],
             [
              0.1111111111111111,
              "#46039f"
             ],
             [
              0.2222222222222222,
              "#7201a8"
             ],
             [
              0.3333333333333333,
              "#9c179e"
             ],
             [
              0.4444444444444444,
              "#bd3786"
             ],
             [
              0.5555555555555556,
              "#d8576b"
             ],
             [
              0.6666666666666666,
              "#ed7953"
             ],
             [
              0.7777777777777778,
              "#fb9f3a"
             ],
             [
              0.8888888888888888,
              "#fdca26"
             ],
             [
              1,
              "#f0f921"
             ]
            ],
            "type": "histogram2d"
           }
          ],
          "histogram2dcontour": [
           {
            "colorbar": {
             "outlinewidth": 0,
             "ticks": ""
            },
            "colorscale": [
             [
              0,
              "#0d0887"
             ],
             [
              0.1111111111111111,
              "#46039f"
             ],
             [
              0.2222222222222222,
              "#7201a8"
             ],
             [
              0.3333333333333333,
              "#9c179e"
             ],
             [
              0.4444444444444444,
              "#bd3786"
             ],
             [
              0.5555555555555556,
              "#d8576b"
             ],
             [
              0.6666666666666666,
              "#ed7953"
             ],
             [
              0.7777777777777778,
              "#fb9f3a"
             ],
             [
              0.8888888888888888,
              "#fdca26"
             ],
             [
              1,
              "#f0f921"
             ]
            ],
            "type": "histogram2dcontour"
           }
          ],
          "mesh3d": [
           {
            "colorbar": {
             "outlinewidth": 0,
             "ticks": ""
            },
            "type": "mesh3d"
           }
          ],
          "parcoords": [
           {
            "line": {
             "colorbar": {
              "outlinewidth": 0,
              "ticks": ""
             }
            },
            "type": "parcoords"
           }
          ],
          "pie": [
           {
            "automargin": true,
            "type": "pie"
           }
          ],
          "scatter": [
           {
            "fillpattern": {
             "fillmode": "overlay",
             "size": 10,
             "solidity": 0.2
            },
            "type": "scatter"
           }
          ],
          "scatter3d": [
           {
            "line": {
             "colorbar": {
              "outlinewidth": 0,
              "ticks": ""
             }
            },
            "marker": {
             "colorbar": {
              "outlinewidth": 0,
              "ticks": ""
             }
            },
            "type": "scatter3d"
           }
          ],
          "scattercarpet": [
           {
            "marker": {
             "colorbar": {
              "outlinewidth": 0,
              "ticks": ""
             }
            },
            "type": "scattercarpet"
           }
          ],
          "scattergeo": [
           {
            "marker": {
             "colorbar": {
              "outlinewidth": 0,
              "ticks": ""
             }
            },
            "type": "scattergeo"
           }
          ],
          "scattergl": [
           {
            "marker": {
             "colorbar": {
              "outlinewidth": 0,
              "ticks": ""
             }
            },
            "type": "scattergl"
           }
          ],
          "scattermapbox": [
           {
            "marker": {
             "colorbar": {
              "outlinewidth": 0,
              "ticks": ""
             }
            },
            "type": "scattermapbox"
           }
          ],
          "scatterpolar": [
           {
            "marker": {
             "colorbar": {
              "outlinewidth": 0,
              "ticks": ""
             }
            },
            "type": "scatterpolar"
           }
          ],
          "scatterpolargl": [
           {
            "marker": {
             "colorbar": {
              "outlinewidth": 0,
              "ticks": ""
             }
            },
            "type": "scatterpolargl"
           }
          ],
          "scatterternary": [
           {
            "marker": {
             "colorbar": {
              "outlinewidth": 0,
              "ticks": ""
             }
            },
            "type": "scatterternary"
           }
          ],
          "surface": [
           {
            "colorbar": {
             "outlinewidth": 0,
             "ticks": ""
            },
            "colorscale": [
             [
              0,
              "#0d0887"
             ],
             [
              0.1111111111111111,
              "#46039f"
             ],
             [
              0.2222222222222222,
              "#7201a8"
             ],
             [
              0.3333333333333333,
              "#9c179e"
             ],
             [
              0.4444444444444444,
              "#bd3786"
             ],
             [
              0.5555555555555556,
              "#d8576b"
             ],
             [
              0.6666666666666666,
              "#ed7953"
             ],
             [
              0.7777777777777778,
              "#fb9f3a"
             ],
             [
              0.8888888888888888,
              "#fdca26"
             ],
             [
              1,
              "#f0f921"
             ]
            ],
            "type": "surface"
           }
          ],
          "table": [
           {
            "cells": {
             "fill": {
              "color": "#EBF0F8"
             },
             "line": {
              "color": "white"
             }
            },
            "header": {
             "fill": {
              "color": "#C8D4E3"
             },
             "line": {
              "color": "white"
             }
            },
            "type": "table"
           }
          ]
         },
         "layout": {
          "annotationdefaults": {
           "arrowcolor": "#2a3f5f",
           "arrowhead": 0,
           "arrowwidth": 1
          },
          "autotypenumbers": "strict",
          "coloraxis": {
           "colorbar": {
            "outlinewidth": 0,
            "ticks": ""
           }
          },
          "colorscale": {
           "diverging": [
            [
             0,
             "#8e0152"
            ],
            [
             0.1,
             "#c51b7d"
            ],
            [
             0.2,
             "#de77ae"
            ],
            [
             0.3,
             "#f1b6da"
            ],
            [
             0.4,
             "#fde0ef"
            ],
            [
             0.5,
             "#f7f7f7"
            ],
            [
             0.6,
             "#e6f5d0"
            ],
            [
             0.7,
             "#b8e186"
            ],
            [
             0.8,
             "#7fbc41"
            ],
            [
             0.9,
             "#4d9221"
            ],
            [
             1,
             "#276419"
            ]
           ],
           "sequential": [
            [
             0,
             "#0d0887"
            ],
            [
             0.1111111111111111,
             "#46039f"
            ],
            [
             0.2222222222222222,
             "#7201a8"
            ],
            [
             0.3333333333333333,
             "#9c179e"
            ],
            [
             0.4444444444444444,
             "#bd3786"
            ],
            [
             0.5555555555555556,
             "#d8576b"
            ],
            [
             0.6666666666666666,
             "#ed7953"
            ],
            [
             0.7777777777777778,
             "#fb9f3a"
            ],
            [
             0.8888888888888888,
             "#fdca26"
            ],
            [
             1,
             "#f0f921"
            ]
           ],
           "sequentialminus": [
            [
             0,
             "#0d0887"
            ],
            [
             0.1111111111111111,
             "#46039f"
            ],
            [
             0.2222222222222222,
             "#7201a8"
            ],
            [
             0.3333333333333333,
             "#9c179e"
            ],
            [
             0.4444444444444444,
             "#bd3786"
            ],
            [
             0.5555555555555556,
             "#d8576b"
            ],
            [
             0.6666666666666666,
             "#ed7953"
            ],
            [
             0.7777777777777778,
             "#fb9f3a"
            ],
            [
             0.8888888888888888,
             "#fdca26"
            ],
            [
             1,
             "#f0f921"
            ]
           ]
          },
          "colorway": [
           "#636efa",
           "#EF553B",
           "#00cc96",
           "#ab63fa",
           "#FFA15A",
           "#19d3f3",
           "#FF6692",
           "#B6E880",
           "#FF97FF",
           "#FECB52"
          ],
          "font": {
           "color": "#2a3f5f"
          },
          "geo": {
           "bgcolor": "white",
           "lakecolor": "white",
           "landcolor": "#E5ECF6",
           "showlakes": true,
           "showland": true,
           "subunitcolor": "white"
          },
          "hoverlabel": {
           "align": "left"
          },
          "hovermode": "closest",
          "mapbox": {
           "style": "light"
          },
          "paper_bgcolor": "white",
          "plot_bgcolor": "#E5ECF6",
          "polar": {
           "angularaxis": {
            "gridcolor": "white",
            "linecolor": "white",
            "ticks": ""
           },
           "bgcolor": "#E5ECF6",
           "radialaxis": {
            "gridcolor": "white",
            "linecolor": "white",
            "ticks": ""
           }
          },
          "scene": {
           "xaxis": {
            "backgroundcolor": "#E5ECF6",
            "gridcolor": "white",
            "gridwidth": 2,
            "linecolor": "white",
            "showbackground": true,
            "ticks": "",
            "zerolinecolor": "white"
           },
           "yaxis": {
            "backgroundcolor": "#E5ECF6",
            "gridcolor": "white",
            "gridwidth": 2,
            "linecolor": "white",
            "showbackground": true,
            "ticks": "",
            "zerolinecolor": "white"
           },
           "zaxis": {
            "backgroundcolor": "#E5ECF6",
            "gridcolor": "white",
            "gridwidth": 2,
            "linecolor": "white",
            "showbackground": true,
            "ticks": "",
            "zerolinecolor": "white"
           }
          },
          "shapedefaults": {
           "line": {
            "color": "#2a3f5f"
           }
          },
          "ternary": {
           "aaxis": {
            "gridcolor": "white",
            "linecolor": "white",
            "ticks": ""
           },
           "baxis": {
            "gridcolor": "white",
            "linecolor": "white",
            "ticks": ""
           },
           "bgcolor": "#E5ECF6",
           "caxis": {
            "gridcolor": "white",
            "linecolor": "white",
            "ticks": ""
           }
          },
          "title": {
           "x": 0.05
          },
          "xaxis": {
           "automargin": true,
           "gridcolor": "white",
           "linecolor": "white",
           "ticks": "",
           "title": {
            "standoff": 15
           },
           "zerolinecolor": "white",
           "zerolinewidth": 2
          },
          "yaxis": {
           "automargin": true,
           "gridcolor": "white",
           "linecolor": "white",
           "ticks": "",
           "title": {
            "standoff": 15
           },
           "zerolinecolor": "white",
           "zerolinewidth": 2
          }
         }
        },
        "title": {
         "text": "Maximum Temperature Forecasts vs Actual Daily Highs<br>Size and color show hours until high temperature"
        },
        "xaxis": {
         "anchor": "y",
         "domain": [
          0,
          1
         ],
         "title": {
          "text": "high_temp"
         }
        },
        "yaxis": {
         "anchor": "x",
         "domain": [
          0,
          1
         ],
         "title": {
          "text": "forecast_max_temp"
         }
        }
       }
      }
     },
     "metadata": {},
     "output_type": "display_data"
    },
    {
     "data": {
      "application/vnd.plotly.v1+json": {
       "config": {
        "plotlyServerURL": "https://plot.ly"
       },
       "data": [
        {
         "customdata": [
          [
           "2024-12-09T14:00:00-05:00",
           15,
           11,
           1.9799999999999969,
           48.02,
           false
          ],
          [
           "2024-12-09T15:00:00-05:00",
           16,
           10,
           2.979999999999997,
           48.02,
           false
          ],
          [
           "2024-12-09T16:00:00-05:00",
           17,
           9,
           1.9799999999999969,
           48.02,
           false
          ],
          [
           "2024-12-09T17:00:00-05:00",
           18,
           8,
           1.9799999999999969,
           48.02,
           false
          ],
          [
           "2024-12-09T18:00:00-05:00",
           19,
           7,
           1.9799999999999969,
           48.02,
           false
          ],
          [
           "2024-12-09T19:00:00-05:00",
           20,
           6,
           2.979999999999997,
           48.02,
           false
          ],
          [
           "2024-12-09T20:00:00-05:00",
           21,
           5,
           2.979999999999997,
           48.02,
           false
          ],
          [
           "2024-12-09T21:00:00-05:00",
           22,
           4,
           2.979999999999997,
           48.02,
           false
          ],
          [
           "2024-12-09T22:00:00-05:00",
           23,
           3,
           2.979999999999997,
           48.02,
           false
          ],
          [
           "2024-12-09T23:00:00-05:00",
           24,
           2,
           3.979999999999997,
           48.02,
           false
          ],
          [
           "2024-12-10T00:00:00-05:00",
           23,
           1,
           3.979999999999997,
           48.02,
           false
          ],
          [
           "2024-12-10T01:00:00-05:00",
           22,
           0,
           3.979999999999997,
           48.02,
           false
          ]
         ],
         "hovertemplate": "Date: %{x}<br>Created: %{customdata[0]}<br>Forecasts in hour: %{customdata[1]}<br>Hours until high: %{customdata[2]:.1f}<br>Error: %{customdata[3]:.2f}°F<br>High Temp: %{customdata[4]:.2f}°F<br>Forecast Max: %{y:.2f}°F<br>Accurate: %{customdata[5]}<extra></extra>",
         "legendgroup": "",
         "marker": {
          "color": [
           11,
           10,
           9,
           8,
           7,
           6,
           5,
           4,
           3,
           2,
           1,
           0
          ],
          "coloraxis": "coloraxis",
          "size": [
           11,
           10,
           9,
           8,
           7,
           6,
           5,
           4,
           3,
           2,
           1,
           0
          ],
          "sizemode": "area",
          "sizeref": 0.0019555555555555554,
          "symbol": "circle"
         },
         "mode": "markers",
         "name": "",
         "orientation": "v",
         "showlegend": false,
         "type": "scatter",
         "x": [
          "2024-12-10",
          "2024-12-10",
          "2024-12-10",
          "2024-12-10",
          "2024-12-10",
          "2024-12-10",
          "2024-12-10",
          "2024-12-10",
          "2024-12-10",
          "2024-12-10",
          "2024-12-10",
          "2024-12-10"
         ],
         "xaxis": "x",
         "y": [
          50,
          51,
          50,
          50,
          50,
          51,
          51,
          51,
          51,
          52,
          52,
          52
         ],
         "yaxis": "y"
        },
        {
         "line": {
          "color": "black"
         },
         "marker": {
          "size": 12
         },
         "mode": "lines+markers",
         "name": "Actual Daily Max",
         "type": "scatter",
         "x": [
          "2024-12-10"
         ],
         "y": [
          48.02
         ]
        }
       ],
       "layout": {
        "coloraxis": {
         "cmax": 12,
         "cmin": 0,
         "colorbar": {
          "title": {
           "text": "hours_until_high"
          }
         },
         "colorscale": [
          [
           0,
           "rgb(49,54,149)"
          ],
          [
           0.1,
           "rgb(69,117,180)"
          ],
          [
           0.2,
           "rgb(116,173,209)"
          ],
          [
           0.3,
           "rgb(171,217,233)"
          ],
          [
           0.4,
           "rgb(224,243,248)"
          ],
          [
           0.5,
           "rgb(255,255,191)"
          ],
          [
           0.6,
           "rgb(254,224,144)"
          ],
          [
           0.7,
           "rgb(253,174,97)"
          ],
          [
           0.8,
           "rgb(244,109,67)"
          ],
          [
           0.9,
           "rgb(215,48,39)"
          ],
          [
           1,
           "rgb(165,0,38)"
          ]
         ]
        },
        "legend": {
         "itemsizing": "constant",
         "tracegroupgap": 0
        },
        "template": {
         "data": {
          "bar": [
           {
            "error_x": {
             "color": "#2a3f5f"
            },
            "error_y": {
             "color": "#2a3f5f"
            },
            "marker": {
             "line": {
              "color": "#E5ECF6",
              "width": 0.5
             },
             "pattern": {
              "fillmode": "overlay",
              "size": 10,
              "solidity": 0.2
             }
            },
            "type": "bar"
           }
          ],
          "barpolar": [
           {
            "marker": {
             "line": {
              "color": "#E5ECF6",
              "width": 0.5
             },
             "pattern": {
              "fillmode": "overlay",
              "size": 10,
              "solidity": 0.2
             }
            },
            "type": "barpolar"
           }
          ],
          "carpet": [
           {
            "aaxis": {
             "endlinecolor": "#2a3f5f",
             "gridcolor": "white",
             "linecolor": "white",
             "minorgridcolor": "white",
             "startlinecolor": "#2a3f5f"
            },
            "baxis": {
             "endlinecolor": "#2a3f5f",
             "gridcolor": "white",
             "linecolor": "white",
             "minorgridcolor": "white",
             "startlinecolor": "#2a3f5f"
            },
            "type": "carpet"
           }
          ],
          "choropleth": [
           {
            "colorbar": {
             "outlinewidth": 0,
             "ticks": ""
            },
            "type": "choropleth"
           }
          ],
          "contour": [
           {
            "colorbar": {
             "outlinewidth": 0,
             "ticks": ""
            },
            "colorscale": [
             [
              0,
              "#0d0887"
             ],
             [
              0.1111111111111111,
              "#46039f"
             ],
             [
              0.2222222222222222,
              "#7201a8"
             ],
             [
              0.3333333333333333,
              "#9c179e"
             ],
             [
              0.4444444444444444,
              "#bd3786"
             ],
             [
              0.5555555555555556,
              "#d8576b"
             ],
             [
              0.6666666666666666,
              "#ed7953"
             ],
             [
              0.7777777777777778,
              "#fb9f3a"
             ],
             [
              0.8888888888888888,
              "#fdca26"
             ],
             [
              1,
              "#f0f921"
             ]
            ],
            "type": "contour"
           }
          ],
          "contourcarpet": [
           {
            "colorbar": {
             "outlinewidth": 0,
             "ticks": ""
            },
            "type": "contourcarpet"
           }
          ],
          "heatmap": [
           {
            "colorbar": {
             "outlinewidth": 0,
             "ticks": ""
            },
            "colorscale": [
             [
              0,
              "#0d0887"
             ],
             [
              0.1111111111111111,
              "#46039f"
             ],
             [
              0.2222222222222222,
              "#7201a8"
             ],
             [
              0.3333333333333333,
              "#9c179e"
             ],
             [
              0.4444444444444444,
              "#bd3786"
             ],
             [
              0.5555555555555556,
              "#d8576b"
             ],
             [
              0.6666666666666666,
              "#ed7953"
             ],
             [
              0.7777777777777778,
              "#fb9f3a"
             ],
             [
              0.8888888888888888,
              "#fdca26"
             ],
             [
              1,
              "#f0f921"
             ]
            ],
            "type": "heatmap"
           }
          ],
          "heatmapgl": [
           {
            "colorbar": {
             "outlinewidth": 0,
             "ticks": ""
            },
            "colorscale": [
             [
              0,
              "#0d0887"
             ],
             [
              0.1111111111111111,
              "#46039f"
             ],
             [
              0.2222222222222222,
              "#7201a8"
             ],
             [
              0.3333333333333333,
              "#9c179e"
             ],
             [
              0.4444444444444444,
              "#bd3786"
             ],
             [
              0.5555555555555556,
              "#d8576b"
             ],
             [
              0.6666666666666666,
              "#ed7953"
             ],
             [
              0.7777777777777778,
              "#fb9f3a"
             ],
             [
              0.8888888888888888,
              "#fdca26"
             ],
             [
              1,
              "#f0f921"
             ]
            ],
            "type": "heatmapgl"
           }
          ],
          "histogram": [
           {
            "marker": {
             "pattern": {
              "fillmode": "overlay",
              "size": 10,
              "solidity": 0.2
             }
            },
            "type": "histogram"
           }
          ],
          "histogram2d": [
           {
            "colorbar": {
             "outlinewidth": 0,
             "ticks": ""
            },
            "colorscale": [
             [
              0,
              "#0d0887"
             ],
             [
              0.1111111111111111,
              "#46039f"
             ],
             [
              0.2222222222222222,
              "#7201a8"
             ],
             [
              0.3333333333333333,
              "#9c179e"
             ],
             [
              0.4444444444444444,
              "#bd3786"
             ],
             [
              0.5555555555555556,
              "#d8576b"
             ],
             [
              0.6666666666666666,
              "#ed7953"
             ],
             [
              0.7777777777777778,
              "#fb9f3a"
             ],
             [
              0.8888888888888888,
              "#fdca26"
             ],
             [
              1,
              "#f0f921"
             ]
            ],
            "type": "histogram2d"
           }
          ],
          "histogram2dcontour": [
           {
            "colorbar": {
             "outlinewidth": 0,
             "ticks": ""
            },
            "colorscale": [
             [
              0,
              "#0d0887"
             ],
             [
              0.1111111111111111,
              "#46039f"
             ],
             [
              0.2222222222222222,
              "#7201a8"
             ],
             [
              0.3333333333333333,
              "#9c179e"
             ],
             [
              0.4444444444444444,
              "#bd3786"
             ],
             [
              0.5555555555555556,
              "#d8576b"
             ],
             [
              0.6666666666666666,
              "#ed7953"
             ],
             [
              0.7777777777777778,
              "#fb9f3a"
             ],
             [
              0.8888888888888888,
              "#fdca26"
             ],
             [
              1,
              "#f0f921"
             ]
            ],
            "type": "histogram2dcontour"
           }
          ],
          "mesh3d": [
           {
            "colorbar": {
             "outlinewidth": 0,
             "ticks": ""
            },
            "type": "mesh3d"
           }
          ],
          "parcoords": [
           {
            "line": {
             "colorbar": {
              "outlinewidth": 0,
              "ticks": ""
             }
            },
            "type": "parcoords"
           }
          ],
          "pie": [
           {
            "automargin": true,
            "type": "pie"
           }
          ],
          "scatter": [
           {
            "fillpattern": {
             "fillmode": "overlay",
             "size": 10,
             "solidity": 0.2
            },
            "type": "scatter"
           }
          ],
          "scatter3d": [
           {
            "line": {
             "colorbar": {
              "outlinewidth": 0,
              "ticks": ""
             }
            },
            "marker": {
             "colorbar": {
              "outlinewidth": 0,
              "ticks": ""
             }
            },
            "type": "scatter3d"
           }
          ],
          "scattercarpet": [
           {
            "marker": {
             "colorbar": {
              "outlinewidth": 0,
              "ticks": ""
             }
            },
            "type": "scattercarpet"
           }
          ],
          "scattergeo": [
           {
            "marker": {
             "colorbar": {
              "outlinewidth": 0,
              "ticks": ""
             }
            },
            "type": "scattergeo"
           }
          ],
          "scattergl": [
           {
            "marker": {
             "colorbar": {
              "outlinewidth": 0,
              "ticks": ""
             }
            },
            "type": "scattergl"
           }
          ],
          "scattermapbox": [
           {
            "marker": {
             "colorbar": {
              "outlinewidth": 0,
              "ticks": ""
             }
            },
            "type": "scattermapbox"
           }
          ],
          "scatterpolar": [
           {
            "marker": {
             "colorbar": {
              "outlinewidth": 0,
              "ticks": ""
             }
            },
            "type": "scatterpolar"
           }
          ],
          "scatterpolargl": [
           {
            "marker": {
             "colorbar": {
              "outlinewidth": 0,
              "ticks": ""
             }
            },
            "type": "scatterpolargl"
           }
          ],
          "scatterternary": [
           {
            "marker": {
             "colorbar": {
              "outlinewidth": 0,
              "ticks": ""
             }
            },
            "type": "scatterternary"
           }
          ],
          "surface": [
           {
            "colorbar": {
             "outlinewidth": 0,
             "ticks": ""
            },
            "colorscale": [
             [
              0,
              "#0d0887"
             ],
             [
              0.1111111111111111,
              "#46039f"
             ],
             [
              0.2222222222222222,
              "#7201a8"
             ],
             [
              0.3333333333333333,
              "#9c179e"
             ],
             [
              0.4444444444444444,
              "#bd3786"
             ],
             [
              0.5555555555555556,
              "#d8576b"
             ],
             [
              0.6666666666666666,
              "#ed7953"
             ],
             [
              0.7777777777777778,
              "#fb9f3a"
             ],
             [
              0.8888888888888888,
              "#fdca26"
             ],
             [
              1,
              "#f0f921"
             ]
            ],
            "type": "surface"
           }
          ],
          "table": [
           {
            "cells": {
             "fill": {
              "color": "#EBF0F8"
             },
             "line": {
              "color": "white"
             }
            },
            "header": {
             "fill": {
              "color": "#C8D4E3"
             },
             "line": {
              "color": "white"
             }
            },
            "type": "table"
           }
          ]
         },
         "layout": {
          "annotationdefaults": {
           "arrowcolor": "#2a3f5f",
           "arrowhead": 0,
           "arrowwidth": 1
          },
          "autotypenumbers": "strict",
          "coloraxis": {
           "colorbar": {
            "outlinewidth": 0,
            "ticks": ""
           }
          },
          "colorscale": {
           "diverging": [
            [
             0,
             "#8e0152"
            ],
            [
             0.1,
             "#c51b7d"
            ],
            [
             0.2,
             "#de77ae"
            ],
            [
             0.3,
             "#f1b6da"
            ],
            [
             0.4,
             "#fde0ef"
            ],
            [
             0.5,
             "#f7f7f7"
            ],
            [
             0.6,
             "#e6f5d0"
            ],
            [
             0.7,
             "#b8e186"
            ],
            [
             0.8,
             "#7fbc41"
            ],
            [
             0.9,
             "#4d9221"
            ],
            [
             1,
             "#276419"
            ]
           ],
           "sequential": [
            [
             0,
             "#0d0887"
            ],
            [
             0.1111111111111111,
             "#46039f"
            ],
            [
             0.2222222222222222,
             "#7201a8"
            ],
            [
             0.3333333333333333,
             "#9c179e"
            ],
            [
             0.4444444444444444,
             "#bd3786"
            ],
            [
             0.5555555555555556,
             "#d8576b"
            ],
            [
             0.6666666666666666,
             "#ed7953"
            ],
            [
             0.7777777777777778,
             "#fb9f3a"
            ],
            [
             0.8888888888888888,
             "#fdca26"
            ],
            [
             1,
             "#f0f921"
            ]
           ],
           "sequentialminus": [
            [
             0,
             "#0d0887"
            ],
            [
             0.1111111111111111,
             "#46039f"
            ],
            [
             0.2222222222222222,
             "#7201a8"
            ],
            [
             0.3333333333333333,
             "#9c179e"
            ],
            [
             0.4444444444444444,
             "#bd3786"
            ],
            [
             0.5555555555555556,
             "#d8576b"
            ],
            [
             0.6666666666666666,
             "#ed7953"
            ],
            [
             0.7777777777777778,
             "#fb9f3a"
            ],
            [
             0.8888888888888888,
             "#fdca26"
            ],
            [
             1,
             "#f0f921"
            ]
           ]
          },
          "colorway": [
           "#636efa",
           "#EF553B",
           "#00cc96",
           "#ab63fa",
           "#FFA15A",
           "#19d3f3",
           "#FF6692",
           "#B6E880",
           "#FF97FF",
           "#FECB52"
          ],
          "font": {
           "color": "#2a3f5f"
          },
          "geo": {
           "bgcolor": "white",
           "lakecolor": "white",
           "landcolor": "#E5ECF6",
           "showlakes": true,
           "showland": true,
           "subunitcolor": "white"
          },
          "hoverlabel": {
           "align": "left"
          },
          "hovermode": "closest",
          "mapbox": {
           "style": "light"
          },
          "paper_bgcolor": "white",
          "plot_bgcolor": "#E5ECF6",
          "polar": {
           "angularaxis": {
            "gridcolor": "white",
            "linecolor": "white",
            "ticks": ""
           },
           "bgcolor": "#E5ECF6",
           "radialaxis": {
            "gridcolor": "white",
            "linecolor": "white",
            "ticks": ""
           }
          },
          "scene": {
           "xaxis": {
            "backgroundcolor": "#E5ECF6",
            "gridcolor": "white",
            "gridwidth": 2,
            "linecolor": "white",
            "showbackground": true,
            "ticks": "",
            "zerolinecolor": "white"
           },
           "yaxis": {
            "backgroundcolor": "#E5ECF6",
            "gridcolor": "white",
            "gridwidth": 2,
            "linecolor": "white",
            "showbackground": true,
            "ticks": "",
            "zerolinecolor": "white"
           },
           "zaxis": {
            "backgroundcolor": "#E5ECF6",
            "gridcolor": "white",
            "gridwidth": 2,
            "linecolor": "white",
            "showbackground": true,
            "ticks": "",
            "zerolinecolor": "white"
           }
          },
          "shapedefaults": {
           "line": {
            "color": "#2a3f5f"
           }
          },
          "ternary": {
           "aaxis": {
            "gridcolor": "white",
            "linecolor": "white",
            "ticks": ""
           },
           "baxis": {
            "gridcolor": "white",
            "linecolor": "white",
            "ticks": ""
           },
           "bgcolor": "#E5ECF6",
           "caxis": {
            "gridcolor": "white",
            "linecolor": "white",
            "ticks": ""
           }
          },
          "title": {
           "x": 0.05
          },
          "xaxis": {
           "automargin": true,
           "gridcolor": "white",
           "linecolor": "white",
           "ticks": "",
           "title": {
            "standoff": 15
           },
           "zerolinecolor": "white",
           "zerolinewidth": 2
          },
          "yaxis": {
           "automargin": true,
           "gridcolor": "white",
           "linecolor": "white",
           "ticks": "",
           "title": {
            "standoff": 15
           },
           "zerolinecolor": "white",
           "zerolinewidth": 2
          }
         }
        },
        "title": {
         "text": "Daily Maximum Temperature Forecasts Over Time<br>Size and color show hours until high temperature"
        },
        "xaxis": {
         "anchor": "y",
         "domain": [
          0,
          1
         ],
         "dtick": "D1",
         "tickangle": 45,
         "tickformat": "%Y-%m-%d",
         "title": {
          "text": "date"
         }
        },
        "yaxis": {
         "anchor": "x",
         "domain": [
          0,
          1
         ],
         "title": {
          "text": "forecast_max_temp"
         }
        }
       }
      }
     },
     "metadata": {},
     "output_type": "display_data"
    }
   ],
   "source": [
    "def analyze_max_temp_forecast_accuracy(df_forecasts, df_observations, temp_margin=1.0, timezone='America/New_York'):\n",
    "    \"\"\"\n",
    "    For each daily high temperature:\n",
    "    1. Look back 12 hours before the high\n",
    "    2. For each hour in that window:\n",
    "        - Get all forecasts created in that hour\n",
    "        - Filter for forecasts predicting temps for the same local day\n",
    "        - Take the maximum forecasted temperature\n",
    "    \"\"\"\n",
    "    # Convert times to local timezone\n",
    "    df_observations = df_observations.copy()\n",
    "    df_forecasts = df_forecasts.copy()\n",
    "    \n",
    "    df_observations['local_time'] = df_observations['observed_time'].dt.tz_convert(timezone)\n",
    "    df_observations['local_date'] = df_observations['local_time'].dt.date\n",
    "    \n",
    "    df_forecasts['local_created'] = df_forecasts['created_at'].dt.tz_convert(timezone)\n",
    "    df_forecasts['local_forecast_time'] = df_forecasts['forecast_time'].dt.tz_convert(timezone)\n",
    "    df_forecasts['local_date'] = df_forecasts['local_forecast_time'].dt.date\n",
    "    \n",
    "    daily_maxes = []\n",
    "    \n",
    "    # Find daily highs in local time\n",
    "    for date, day_obs in df_observations.groupby('local_date'):\n",
    "        max_temp = day_obs['temperature'].max()\n",
    "        max_temp_obs = day_obs[day_obs['temperature'] == max_temp].iloc[-1]\n",
    "        high_local_time = max_temp_obs['local_time']\n",
    "        \n",
    "        # Look back 12 hours before the high\n",
    "        window_start = high_local_time - pd.Timedelta(hours=12)\n",
    "        \n",
    "        # For each hour in that window\n",
    "        current_hour = window_start.replace(minute=0, second=0, microsecond=0)\n",
    "        hour_count = 0\n",
    "        while current_hour <= high_local_time:\n",
    "            hour_forecasts = df_forecasts[\n",
    "                (df_forecasts['local_created'] >= current_hour) &\n",
    "                (df_forecasts['local_created'] < current_hour + pd.Timedelta(minutes=2)) &\n",
    "                (df_forecasts['local_date'] == date)\n",
    "            ]\n",
    "            \n",
    "            if not hour_forecasts.empty:\n",
    "                max_forecast = hour_forecasts.loc[hour_forecasts['temperature'].idxmax()]\n",
    "                error = max_forecast['temperature'] - max_temp\n",
    "                is_accurate = abs(error) <= temp_margin\n",
    "                hours_until_high = (high_local_time - current_hour).total_seconds() / 3600\n",
    "                \n",
    "                daily_maxes.append({\n",
    "                    'date': date,\n",
    "                    'high_temp': max_temp,\n",
    "                    'high_temp_time': high_local_time,\n",
    "                    'forecast_max_temp': max_forecast['temperature'],\n",
    "                    'forecast_time': max_forecast['local_forecast_time'],\n",
    "                    'forecast_created': current_hour,\n",
    "                    'hours_until_high': hours_until_high,\n",
    "                    'num_forecasts': len(hour_forecasts),\n",
    "                    'error': error,\n",
    "                    'error_magnitude': abs(error),\n",
    "                    'is_accurate': is_accurate,\n",
    "                    'hour_number': hour_count\n",
    "                })\n",
    "            hour_count += 1\n",
    "            current_hour += pd.Timedelta(hours=1)\n",
    "    \n",
    "    df_analysis = pd.DataFrame(daily_maxes)\n",
    "    \n",
    "    if df_analysis.empty:\n",
    "        print(\"No matching data found for analysis\")\n",
    "        return None\n",
    "\n",
    "    # Print summary\n",
    "    print(\"\\nDaily Maximum Temperature Analysis:\")\n",
    "    print(\"===================================\")\n",
    "    \n",
    "    for date, day_data in df_analysis.groupby('date'):\n",
    "        high_temp = day_data['high_temp'].iloc[0]\n",
    "        high_time = day_data['high_temp_time'].iloc[0]\n",
    "        accurate_forecasts = day_data[day_data['is_accurate']]\n",
    "        \n",
    "        print(f\"\\nDate: {date}\")\n",
    "        print(f\"Daily High: {high_temp:.2f}°F at {high_time.strftime('%I:%M %p')}\")\n",
    "        print(f\"Number of forecast groups: {len(day_data)}\")\n",
    "        print(f\"Accurate max forecasts (±{temp_margin}°F): {len(accurate_forecasts)}\")\n",
    "        \n",
    "        if len(accurate_forecasts) > 0:\n",
    "            print(\"\\nAccurate Forecasts:\")\n",
    "            for _, forecast in accurate_forecasts.iterrows():\n",
    "                print(f\"  Created: {forecast['forecast_created'].strftime('%I:%M %p')}\")\n",
    "                print(f\"  Predicted: {forecast['forecast_max_temp']:.2f}°F\")\n",
    "                print(f\"  Hours until high: {forecast['hours_until_high']:.1f}\")\n",
    "                print(f\"  Error: {forecast['error']:.2f}°F\")\n",
    "                print(f\"  Number of forecasts: {forecast['num_forecasts']}\")\n",
    "                print(\"  ---\")\n",
    "    \n",
    "    # 1. Scatter plot with fixed hover template\n",
    "    fig1 = px.scatter(df_analysis,\n",
    "                     x='high_temp',\n",
    "                     y='forecast_max_temp',\n",
    "                     size='hours_until_high',\n",
    "                     size_max=75,  # Increased to 125\n",
    "                     color='hours_until_high',\n",
    "                     color_continuous_scale='RdYlBu_r',\n",
    "                     range_color=[0, 12],\n",
    "                     hover_data={\n",
    "                         'date': True,\n",
    "                         'forecast_created': True,\n",
    "                         'num_forecasts': True,\n",
    "                         'hours_until_high': ':.1f',\n",
    "                         'error': ':.2f',\n",
    "                         'high_temp': ':.2f',\n",
    "                         'forecast_max_temp': ':.2f',\n",
    "                         'is_accurate': True\n",
    "                     },\n",
    "                     title='Maximum Temperature Forecasts vs Actual Daily Highs<br>Size and color show hours until high temperature')\n",
    "    \n",
    "    # Customize hover template for fig1\n",
    "    fig1.update_traces(\n",
    "        hovertemplate=(\n",
    "            \"Date: %{customdata[0]}<br>\" +\n",
    "            \"Created: %{customdata[1]}<br>\" +\n",
    "            \"Forecasts in hour: %{customdata[2]}<br>\" +\n",
    "            \"Hours until high: %{customdata[3]:.1f}<br>\" +\n",
    "            \"Error: %{customdata[4]:.2f}°F<br>\" +\n",
    "            \"High Temp: %{x:.2f}°F<br>\" +  # Changed to use x coordinate\n",
    "            \"Forecast Max: %{y:.2f}°F<br>\" +\n",
    "            \"Accurate: %{customdata[5]}\" +  # Changed index\n",
    "            \"<extra></extra>\"\n",
    "        )\n",
    "    )\n",
    "    \n",
    "    # Add perfect forecast line and margin bands\n",
    "    temp_range = np.linspace(\n",
    "        df_analysis['high_temp'].min() - 5,\n",
    "        df_analysis['high_temp'].max() + 5,\n",
    "        100\n",
    "    )\n",
    "    \n",
    "    fig1.add_trace(go.Scatter(\n",
    "        x=temp_range,\n",
    "        y=temp_range,\n",
    "        mode='lines',\n",
    "        name='Perfect Forecast',\n",
    "        line=dict(color='black', dash='dash')\n",
    "    ))\n",
    "    \n",
    "    fig1.add_trace(go.Scatter(\n",
    "        x=temp_range,\n",
    "        y=temp_range + temp_margin,\n",
    "        mode='lines',\n",
    "        name=f'+{temp_margin}°F Margin',\n",
    "        line=dict(color='gray', dash='dot')\n",
    "    ))\n",
    "    \n",
    "    fig1.add_trace(go.Scatter(\n",
    "        x=temp_range,\n",
    "        y=temp_range - temp_margin,\n",
    "        mode='lines',\n",
    "        name=f'-{temp_margin}°F Margin',\n",
    "        line=dict(color='gray', dash='dot')\n",
    "    ))\n",
    "    \n",
    "    fig1.show()\n",
    "    \n",
    "     # 2. Time series with fixed hover template\n",
    "    fig2 = px.scatter(df_analysis,\n",
    "                     x='date',\n",
    "                     y='forecast_max_temp',\n",
    "                     size='hours_until_high',\n",
    "                     size_max=75,  # Increased to 125\n",
    "                     color='hours_until_high',\n",
    "                     color_continuous_scale='RdYlBu_r',\n",
    "                     range_color=[0, 12],\n",
    "                     hover_data={\n",
    "                         'forecast_created': True,\n",
    "                         'num_forecasts': True,\n",
    "                         'hours_until_high': ':.1f',\n",
    "                         'error': ':.2f',\n",
    "                         'high_temp': ':.2f',\n",
    "                         'forecast_max_temp': ':.2f',\n",
    "                         'is_accurate': True\n",
    "                     },\n",
    "                     title='Daily Maximum Temperature Forecasts Over Time<br>Size and color show hours until high temperature')\n",
    "    \n",
    "    # Customize hover template for fig2\n",
    "    fig2.update_traces(\n",
    "        hovertemplate=(\n",
    "            \"Date: %{x}<br>\" +\n",
    "            \"Created: %{customdata[0]}<br>\" +\n",
    "            \"Forecasts in hour: %{customdata[1]}<br>\" +\n",
    "            \"Hours until high: %{customdata[2]:.1f}<br>\" +\n",
    "            \"Error: %{customdata[3]:.2f}°F<br>\" +\n",
    "            \"High Temp: %{customdata[4]:.2f}°F<br>\" +\n",
    "            \"Forecast Max: %{y:.2f}°F<br>\" +\n",
    "            \"Accurate: %{customdata[5]}\" +  # Changed index\n",
    "            \"<extra></extra>\"\n",
    "        )\n",
    "    )\n",
    "    \n",
    "    # Add actual max temperatures line\n",
    "    daily_highs = df_analysis.groupby('date')['high_temp'].first().reset_index()\n",
    "    fig2.add_trace(go.Scatter(\n",
    "        x=daily_highs['date'],\n",
    "        y=daily_highs['high_temp'],\n",
    "        mode='lines+markers',\n",
    "        name='Actual Daily Max',\n",
    "        line=dict(color='black'),\n",
    "        marker=dict(size=12)\n",
    "    ))\n",
    "    \n",
    "    # Update x-axis to show only dates\n",
    "    fig2.update_xaxes(\n",
    "        tickformat=\"%Y-%m-%d\",\n",
    "        dtick=\"D1\",\n",
    "        tickangle=45\n",
    "    )\n",
    "    \n",
    "    fig2.show()\n",
    "    return df_analysis\n",
    "\n",
    "# Run the analysis\n",
    "df_max_analysis = analyze_max_temp_forecast_accuracy(df_forecasts, df_observations, temp_margin=1.0)"
   ]
  },
  {
   "cell_type": "code",
   "execution_count": null,
   "metadata": {},
   "outputs": [],
   "source": []
  },
  {
   "cell_type": "code",
   "execution_count": null,
   "metadata": {},
   "outputs": [],
   "source": []
  },
  {
   "cell_type": "code",
   "execution_count": null,
   "metadata": {},
   "outputs": [],
   "source": []
  }
 ],
 "metadata": {
  "kernelspec": {
   "display_name": "venv",
   "language": "python",
   "name": "python3"
  },
  "language_info": {
   "codemirror_mode": {
    "name": "ipython",
    "version": 3
   },
   "file_extension": ".py",
   "mimetype": "text/x-python",
   "name": "python",
   "nbconvert_exporter": "python",
   "pygments_lexer": "ipython3",
   "version": "3.9.6"
  }
 },
 "nbformat": 4,
 "nbformat_minor": 2
}
